{
  "nbformat": 4,
  "nbformat_minor": 0,
  "metadata": {
    "colab": {
      "provenance": [],
      "toc_visible": true,
      "authorship_tag": "ABX9TyNaZhrpBRxAXbUs8bJbrXCY",
      "include_colab_link": true
    },
    "kernelspec": {
      "name": "python3",
      "display_name": "Python 3"
    },
    "language_info": {
      "name": "python"
    }
  },
  "cells": [
    {
      "cell_type": "markdown",
      "metadata": {
        "id": "view-in-github",
        "colab_type": "text"
      },
      "source": [
        "<a href=\"https://colab.research.google.com/github/Swapnilss53/Full-stack-data-science-PWSKILLS-/blob/main/Numpy_Assignment.ipynb\" target=\"_parent\"><img src=\"https://colab.research.google.com/assets/colab-badge.svg\" alt=\"Open In Colab\"/></a>"
      ]
    },
    {
      "cell_type": "markdown",
      "source": [
        "1. What is a Python library? Why do we use Python libraries?\n"
      ],
      "metadata": {
        "id": "2TP8MvZLP0zC"
      }
    },
    {
      "cell_type": "markdown",
      "source": [
        "Python Library : A Python library is a collection of related modules. It contains bundles of code that can be used repeatedly in different programs. In simple terms most efficient and advance function are written by coders and we can use them for our use. it helps in reducing our time of writing any function from scratch\n",
        "\n",
        "Why do we use python library : The simple reason for using libary is it saves our time and the code written was most efficient and well tested hence it gives us better performance.\n",
        "   we can use that code again and again .\n",
        "they helps us avoid writing the same code again and again"
      ],
      "metadata": {
        "id": "YFjm2sYwQBts"
      }
    },
    {
      "cell_type": "markdown",
      "source": [
        "2. What is the difference between Numpy array and List?"
      ],
      "metadata": {
        "id": "_y4Por9EP0Pe"
      }
    },
    {
      "cell_type": "markdown",
      "source": [
        "\n",
        "\n",
        "*   Numpy array\n",
        "\n",
        "\n",
        "> 1.   Numpy arrays are Homogeneous meaning they contain same data type for each element\n",
        "2.   Numpy arrays consumes less memory because they are static.\n",
        "3. Numpy arrays are fatser than list because they are homogeneous in nature and numpy is written in c++ which is fasted programming language\n",
        "4. Numpy arrays support element wise operations meaning\n",
        "```\n",
        "a =[1,2,3]\n",
        "b =[4,5,6]\n",
        "c = a+b\n",
        "output: c= [5,7,9] in terms of numpy array\n",
        "```\n",
        "5. The size of a Numpy array is fixed at time of creation\n",
        "6. Elements in numpy array are stored in a contiguous manner in memory\n",
        "\n",
        "* List\n",
        "\n",
        "\n",
        "> 1.   Python list can be heterogeneous means they can contain elemnt of different data type\n",
        "2.   list consumes less  memeory\n",
        "3. lists are slower compared to Numpy array\n",
        "4. element wise operaaion is not possible with python list\n",
        "```\n",
        "a =[1,2,3]\n",
        "b =[4,5,6]\n",
        "c = a+b\n",
        "output: c= [1,2,3,4,5,6] in terms of python list\n",
        "```\n",
        "5.list are dynamic and can grow and shrink in size\n",
        "6. Elemnts in python list are stored at random location in memory\n",
        "\n",
        "\n",
        "\n",
        "\n",
        "\n",
        "\n",
        "\n",
        "\n",
        "\n",
        "\n",
        "\n",
        "\n",
        "\n",
        "  \n",
        "\n",
        "\n"
      ],
      "metadata": {
        "id": "abWTZZ0nYZ8Y"
      }
    },
    {
      "cell_type": "markdown",
      "source": [
        "3. Find the shape, size and dimension of the following array?\n",
        "\n",
        "\n",
        "> ```\n",
        "[[1, 2, 3, 4]\n",
        "[5, 6, 7, 8],\n",
        "[9, 10, 11, 12]]\n",
        "```\n",
        "\n",
        "\n",
        "\n"
      ],
      "metadata": {
        "id": "YS4r6tQ2fbMJ"
      }
    },
    {
      "cell_type": "code",
      "source": [
        "import numpy as np\n",
        "\n",
        "arr = np.array([[1,2,3,4],\n",
        "                [5,6,7,8],\n",
        "                [9,10,11,12]])\n",
        "\n",
        "#printing aray\n",
        "print(f\"arr = \\n{arr}\")\n",
        "\n",
        "#shape of array\n",
        "print(f\"The shape of array is := {arr.shape}\")\n",
        "\n",
        "#size of array\n",
        "print(f\"The size of array is = {arr.size}\")\n",
        "\n",
        "# Dimension of array\n",
        "print(f\"The dimension of array is = {arr.ndim}\")"
      ],
      "metadata": {
        "colab": {
          "base_uri": "https://localhost:8080/"
        },
        "id": "5jGmhgKLgAnh",
        "outputId": "510f229e-dbe1-4abc-a8e3-e3b26c95c0cb"
      },
      "execution_count": null,
      "outputs": [
        {
          "output_type": "stream",
          "name": "stdout",
          "text": [
            "arr = \n",
            "[[ 1  2  3  4]\n",
            " [ 5  6  7  8]\n",
            " [ 9 10 11 12]]\n",
            "The shape of array is := (3, 4)\n",
            "The size of array is = 12\n",
            "The dimension of array is = 2\n"
          ]
        }
      ]
    },
    {
      "cell_type": "markdown",
      "source": [
        "4. Write python code to access the first row of the following array?\n",
        "\n",
        "\n",
        "> ```\n",
        "[[1, 2, 3, 4]\n",
        "[5, 6, 7, 8],\n",
        "[9, 10, 11, 12]]\n",
        "```"
      ],
      "metadata": {
        "id": "lWvtgXRuhwxH"
      }
    },
    {
      "cell_type": "code",
      "source": [
        "import numpy as np\n",
        "\n",
        "arr = np.array([[1,2,3,4],\n",
        "                [5,6,7,8],\n",
        "                [9,10,11,10]])\n",
        "\n",
        "#printing aray\n",
        "print(f\"arr = \\n{arr}\")\n",
        "\n",
        "#printing first row of the array\n",
        "print(f\"The first row is : {arr[0]}\")"
      ],
      "metadata": {
        "colab": {
          "base_uri": "https://localhost:8080/"
        },
        "id": "l9_dsmqggY3i",
        "outputId": "d2d77c37-1d75-4770-834b-f89cf5069c2a"
      },
      "execution_count": null,
      "outputs": [
        {
          "output_type": "stream",
          "name": "stdout",
          "text": [
            "arr = \n",
            "[[ 1  2  3  4]\n",
            " [ 5  6  7  8]\n",
            " [ 9 10 11 10]]\n",
            "The first row is : [1 2 3 4]\n"
          ]
        }
      ]
    },
    {
      "cell_type": "markdown",
      "source": [
        "5. How do you access the element at the third row and fourth column from the given numpy array?\n",
        "[[1, 2, 3, 4]\n",
        "[5, 6, 7, 8],\n",
        "[9, 10, 11, 12]]"
      ],
      "metadata": {
        "id": "0DG9Xe69jLFg"
      }
    },
    {
      "cell_type": "code",
      "source": [
        "import numpy as np\n",
        "\n",
        "arr = np.array([[1,2,3,4],\n",
        "                [5,6,7,8],\n",
        "                [9,10,11,12]])\n",
        "\n",
        "print(f\"The element at third row and fourth column from array is : {arr[2][3]}\")"
      ],
      "metadata": {
        "colab": {
          "base_uri": "https://localhost:8080/"
        },
        "id": "rIYoAckdirVn",
        "outputId": "56da99e7-52ed-4700-e391-fa83105ac8f0"
      },
      "execution_count": null,
      "outputs": [
        {
          "output_type": "stream",
          "name": "stdout",
          "text": [
            "The element at third row and fourth column from array is : 12\n"
          ]
        }
      ]
    },
    {
      "cell_type": "markdown",
      "source": [
        "6. Write code to extract all odd-indexed elements from the given numpy array?\n",
        "[[1, 2, 3, 4]\n",
        "[5, 6, 7, 8],\n",
        "[9, 10, 11, 12]]"
      ],
      "metadata": {
        "id": "RH2uODuLka3M"
      }
    },
    {
      "cell_type": "code",
      "source": [
        "import numpy as np\n",
        "\n",
        "arr = np.array([[1,2,3,4],\n",
        "                [5,6,7,8],\n",
        "                [9,10,11,12]])\n",
        "\n",
        "odd_indexed_elements = arr[:, 1::2]\n",
        "\n",
        "print(odd_indexed_elements)"
      ],
      "metadata": {
        "colab": {
          "base_uri": "https://localhost:8080/"
        },
        "id": "lzJGXJljj1zM",
        "outputId": "621d26a4-77ef-4305-b3ed-cd9a11db6a29"
      },
      "execution_count": 2,
      "outputs": [
        {
          "output_type": "stream",
          "name": "stdout",
          "text": [
            "[[ 2  4]\n",
            " [ 6  8]\n",
            " [10 12]]\n"
          ]
        }
      ]
    },
    {
      "cell_type": "markdown",
      "source": [
        "7. How can you generate a random 3x3 matrix with values between 0 and 1?"
      ],
      "metadata": {
        "id": "1HqNGyITqmYd"
      }
    },
    {
      "cell_type": "code",
      "source": [
        "import numpy as np\n",
        "\n",
        "random_arr = np.random.rand(3,3)\n",
        "\n",
        "random_arr"
      ],
      "metadata": {
        "colab": {
          "base_uri": "https://localhost:8080/"
        },
        "id": "qwuHUSHLlPY9",
        "outputId": "aab94245-1556-4745-95de-3bb5cc93819e"
      },
      "execution_count": null,
      "outputs": [
        {
          "output_type": "execute_result",
          "data": {
            "text/plain": [
              "array([[0.36184218, 0.44807889, 0.03261679],\n",
              "       [0.66934131, 0.01852382, 0.20761988],\n",
              "       [0.39484984, 0.133964  , 0.90649807]])"
            ]
          },
          "metadata": {},
          "execution_count": 4
        }
      ]
    },
    {
      "cell_type": "markdown",
      "source": [
        "8. Describe the difference between np.random.rand and np.random.randn?"
      ],
      "metadata": {
        "id": "mmbIlAiIr8V8"
      }
    },
    {
      "cell_type": "markdown",
      "source": [
        "\n",
        "\n",
        "### **ANS :=**\n",
        "\n",
        "\n",
        "*   np.random.rand: This function creates an array of the given shape and populates it with random samples from a uniform distribution over [0, 1). That is, it generates numbers between 0 (inclusive) and 1 (exclusive)\n",
        "*   np.random.randn: This function returns a sample from the “standard normal” distribution, more commonly known as a Gaussian distribution. Unlike rand which is uniform, values closer to zero are more likely to appear\n",
        "\n"
      ],
      "metadata": {
        "id": "V---GRaOsGx4"
      }
    },
    {
      "cell_type": "markdown",
      "source": [
        "9. Write code to increase the dimension of the following array?\n",
        "[[1, 2, 3, 4]\n",
        "[5, 6, 7, 8],\n",
        "[9, 10, 11, 12]]"
      ],
      "metadata": {
        "id": "FJhzdLqn3V-F"
      }
    },
    {
      "cell_type": "code",
      "source": [
        "import numpy as np\n",
        "\n",
        "arr = np.array([[1, 2, 3, 4],\n",
        "                [5, 6, 7, 8],\n",
        "                [9, 10, 11, 12]])\n",
        "\n",
        "#printing the originial dimesion of array\n",
        "print(f\"Older dimension is {arr.ndim}\")\n",
        "\n",
        "arr_with_new_dim = np.expand_dims(arr,0)\n",
        "\n",
        "#printing dimension after increasing it\n",
        "print(f\"The dimension after increasing is := {arr_with_new_dim.ndim}\")"
      ],
      "metadata": {
        "colab": {
          "base_uri": "https://localhost:8080/"
        },
        "id": "VN7VbIt83IVP",
        "outputId": "46698f82-9c3f-4d51-8ead-f8b99448f07d"
      },
      "execution_count": null,
      "outputs": [
        {
          "output_type": "stream",
          "name": "stdout",
          "text": [
            "Older dimension is 2\n",
            "The dimension after increasing is := 3\n"
          ]
        }
      ]
    },
    {
      "cell_type": "markdown",
      "source": [
        "10. How to transpose the following array in NumPy?\n",
        "[[1, 2, 3, 4]\n",
        "[5, 6, 7, 8],\n",
        "[9, 10, 11, 12]]"
      ],
      "metadata": {
        "id": "UHZWK35lFn5a"
      }
    },
    {
      "cell_type": "code",
      "source": [
        "import numpy as np\n",
        "\n",
        "arr = np.array([[1,2,3,4],\n",
        "                [5,6,7,8],\n",
        "                [9,10,11,12]\n",
        "                ])\n",
        "\n",
        "print(f\"Array before transpose is := \\n{arr}\")\n",
        "\n",
        "transposed_array = arr.T\n",
        "\n",
        "print('\\n')\n",
        "\n",
        "print(f\"Arry after transpose is := \\n{transposed_array}\")"
      ],
      "metadata": {
        "colab": {
          "base_uri": "https://localhost:8080/"
        },
        "id": "LoQThiB640sb",
        "outputId": "4644bab1-1b8d-449b-9dc8-57f89e75030e"
      },
      "execution_count": null,
      "outputs": [
        {
          "output_type": "stream",
          "name": "stdout",
          "text": [
            "Array before transpose is := \n",
            "[[ 1  2  3  4]\n",
            " [ 5  6  7  8]\n",
            " [ 9 10 11 12]]\n",
            "\n",
            "\n",
            "Arry after transpose is := \n",
            "[[ 1  5  9]\n",
            " [ 2  6 10]\n",
            " [ 3  7 11]\n",
            " [ 4  8 12]]\n"
          ]
        }
      ]
    },
    {
      "cell_type": "markdown",
      "source": [
        "11. Consider the following matrix:\n",
        "Matrix A: [[1, 2, 3, 4] [5, 6, 7, 8],[9, 10, 11, 12]]\n",
        "Matrix B: [[1, 2, 3, 4] [5, 6, 7, 8],[9, 10, 11, 12]]\n",
        "\n",
        "\n",
        "Perform the following operation using Python\n",
        "\n",
        "\n",
        "\n",
        "1.   Index whise multiplication\n",
        "2.   Matix multiplication\n",
        "3.   Add both the matics\n",
        "4.   Subtact matix B From A\n",
        "5.   Divide Matix B by A\n",
        "\n",
        "\n",
        "\n",
        "\n",
        "\n"
      ],
      "metadata": {
        "id": "_YcTZZ-RHDNK"
      }
    },
    {
      "cell_type": "code",
      "source": [
        "import numpy as np\n",
        "\n",
        "A = np.array([[1,2,3,4],\n",
        "              [5,6,7,8],\n",
        "              [9,10,11,12]])\n",
        "\n",
        "B = np.array([[1,2,3,4],\n",
        "              [5,6,7,8],\n",
        "              [9,10,11,12]])\n",
        "\n",
        "\n",
        "# 1. Index wise multiplication\n",
        "index_mul = A * B\n",
        "print(f\"Index wise multiplication of A and B is := \\n{index_mul}\\n\")\n",
        "\n",
        "# 2. Matrix Multiplication\n",
        "#while multyplying using matrix multiplication we need to have axb cxd where we need b===c so we need to take transpose first\n",
        "transposed_b = B.T\n",
        "matrix_mul = A @ transposed_b\n",
        "print(f\"Matrix Multiplication of A and B is := \\n{matrix_mul}\\n\")\n",
        "\n",
        "#3. Add both the matrix\n",
        "addition = A + B\n",
        "print(f\"The addition of A and B is := \\n{addition}\\n\")\n",
        "\n",
        "#4. Subtract matrix B from A\n",
        "subtract =  B - A\n",
        "print(f\"Subtraction of matrix B from  A is :=\\n{subtract}\\n\")\n",
        "\n",
        "#5. Divide matrix B by A\n",
        "divide = B / A\n",
        "print(f\"Divion of matrix B by matrix A is :=\\n{divide}\\n\")"
      ],
      "metadata": {
        "colab": {
          "base_uri": "https://localhost:8080/"
        },
        "id": "UG8XsO0gHD9t",
        "outputId": "a2772600-fb08-48b7-a083-bcaeff500c09"
      },
      "execution_count": null,
      "outputs": [
        {
          "output_type": "stream",
          "name": "stdout",
          "text": [
            "Index wise multiplication of A and B is := \n",
            "[[  1   4   9  16]\n",
            " [ 25  36  49  64]\n",
            " [ 81 100 121 144]]\n",
            "\n",
            "Matrix Multiplication of A and B is := \n",
            "[[ 30  70 110]\n",
            " [ 70 174 278]\n",
            " [110 278 446]]\n",
            "\n",
            "The addition of A and B is := \n",
            "[[ 2  4  6  8]\n",
            " [10 12 14 16]\n",
            " [18 20 22 24]]\n",
            "\n",
            "Subtraction of matrix B from  A is :=\n",
            "[[0 0 0 0]\n",
            " [0 0 0 0]\n",
            " [0 0 0 0]]\n",
            "\n",
            "Divion of matrix B by matrix A is :=\n",
            "[[1. 1. 1. 1.]\n",
            " [1. 1. 1. 1.]\n",
            " [1. 1. 1. 1.]]\n",
            "\n"
          ]
        }
      ]
    },
    {
      "cell_type": "markdown",
      "source": [
        "12. Which function in Numpy can be used to swap the byte order of an array?"
      ],
      "metadata": {
        "id": "hrmsK4i6N4j8"
      }
    },
    {
      "cell_type": "markdown",
      "source": [
        "\n",
        "\n",
        "*   this is the function to swap byte order of an array\n",
        "\n",
        "\n",
        "byteswap() := function toggle between low-endian and big-endian data representation by returning a byteswapped array, optionally swapped in-place\n",
        "\n",
        "\n",
        "\n",
        "```\n",
        "import numpy as geek\n",
        "  \n",
        "# a is an array of integers.\n",
        "a = geek.array([1, 256, 100], dtype = np.int16)\n",
        "   \n",
        "print(a.byteswap(True))\n",
        "```\n",
        "this function not work for string array\n"
      ],
      "metadata": {
        "id": "WYeZ6l_eOMjN"
      }
    },
    {
      "cell_type": "markdown",
      "source": [
        "13. What is the significance of the np.linalg.inv function?"
      ],
      "metadata": {
        "id": "6JOw0YijPeW5"
      }
    },
    {
      "cell_type": "markdown",
      "source": [
        "The np.linalg.inv() function is used to compute the inverse of a square matrix\n",
        "the significance is in linear algebra,  machine learning and data science it is used to solve the equation"
      ],
      "metadata": {
        "id": "PdR1u3XSRGx4"
      }
    },
    {
      "cell_type": "markdown",
      "source": [
        "14. What does the np.reshape function do, and how is it used?"
      ],
      "metadata": {
        "id": "ZplR1xg1R0H4"
      }
    },
    {
      "cell_type": "markdown",
      "source": [
        "np.reshape function is used to give a new shape to an array without changing its data\n",
        "\n",
        "\n",
        "\n",
        "```\n",
        "import numpy as np\n",
        "\n",
        "a = np.array([1, 2, 3, 4, 5, 6])\n",
        "\n",
        "# Reshape the array\n",
        "reshaped_a = np.reshape(a, (2, 3))\n",
        "\n",
        "print(reshaped_a)\n",
        "```\n",
        "the funtion is used as per above implementation\n",
        "this function take 2 argument first the array which needed to be reshaped and the second argument is in which shape you want to reshape it  here we need to give the the row and column in which you want to transform it\n",
        "\n",
        "\n"
      ],
      "metadata": {
        "id": "Kac5tw_gSKpN"
      }
    },
    {
      "cell_type": "markdown",
      "source": [
        "15. What is broadcasting in Numpy?"
      ],
      "metadata": {
        "id": "tfH1rhK8Uvuf"
      }
    },
    {
      "cell_type": "markdown",
      "source": [
        "Broadcasting in Numpy is  term that describes how Numpy treats arrays with different shapes during arithmetic operations\n",
        "the smaller array is broadcast across the larger array so that they have compatible shapes.\n",
        "this terms means that  addition,subtraction, division can be done on each of the element of array\n",
        "\n"
      ],
      "metadata": {
        "id": "8wgLNqtqU6f1"
      }
    }
  ]
}