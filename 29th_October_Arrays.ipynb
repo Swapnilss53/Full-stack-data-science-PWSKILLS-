{
 "cells": [
  {
   "cell_type": "markdown",
   "id": "3cb6ba0b-bc64-402c-8eb4-31b7811f0d86",
   "metadata": {},
   "source": [
    "1. Given an array, check if it contains any duplicates or not."
   ]
  },
  {
   "cell_type": "code",
   "execution_count": 21,
   "id": "a9845d1e-9012-41da-aada-cc67b2ef462f",
   "metadata": {},
   "outputs": [
    {
     "name": "stdout",
     "output_type": "stream",
     "text": [
      "Given Array [4, 8, 6, 4, 2, 7] contains duplicates:= 'True'\n",
      "Given Array [4, 3, 2, 7] contains duplicates:= 'False'\n"
     ]
    }
   ],
   "source": [
    "# function to check duplicates in array\n",
    "def check_duplicates(arr):\n",
    "    length = len(arr)\n",
    "    for i in range(length):\n",
    "        for j in range(i+1,length):\n",
    "            # if condition to check whether there is a duplicate available or not\n",
    "            if(arr[i] == arr[j]):\n",
    "               return True\n",
    "    # if no dupliacte found then it will return False\n",
    "    return False\n",
    "\n",
    "#Exaple inputs\n",
    "arr1 = [4,8,6,4,2,7]\n",
    "arr2 = [4,3,2,7]\n",
    "\n",
    "#calling a function\n",
    "ans1 = check_duplicates(arr1)\n",
    "print(f\"Given Array {arr1} contains duplicates:= '{ans1}'\")\n",
    "ans2 = check_duplicates(arr2)\n",
    "print(f\"Given Array {arr2} contains duplicates:= '{ans2}'\")"
   ]
  },
  {
   "cell_type": "markdown",
   "id": "55b6a01a-0db5-4a5c-b085-3fcec3024b9f",
   "metadata": {},
   "source": [
    "2. Given an array and an integer k, rotate the array to the right by k steps."
   ]
  },
  {
   "cell_type": "code",
   "execution_count": 42,
   "id": "998392d7-ad19-4d86-bf19-be7fbd3a1e50",
   "metadata": {},
   "outputs": [
    {
     "name": "stdout",
     "output_type": "stream",
     "text": [
      "Array before rotating [1, 2, 3, 4, 5, 6, 7] and Array after rotating by 3 steps is:= [5, 6, 7, 1, 2, 3, 4]\n",
      "Array before rotating [8, 4, 5, 10] and Array after rotating by 6 steps is:= [5, 10, 8, 4]\n"
     ]
    }
   ],
   "source": [
    "#function to rotate an array to right by k steps\n",
    "def rotate_by_k(arr,k):\n",
    "    temp = [0]*len(arr)\n",
    "    size = len(arr)\n",
    "    for i in range(0,size):\n",
    "        # (i+k)%size will give the position which needed to achive to rotate array\n",
    "        temp[(i+k)%size] = arr[i]\n",
    "    \n",
    "    arr = temp;\n",
    "    return arr\n",
    "\n",
    "# exaple input\n",
    "arr1 = [1, 2, 3, 4, 5, 6, 7]\n",
    "k1 = 3\n",
    "arr2 = [8,4,5,10]\n",
    "k2 = 6\n",
    "\n",
    "# Calling a function\n",
    "print(f\"Array before rotating {arr1} and Array after rotating by {k1} steps is:= {rotate_by_k(arr1,k1)}\")\n",
    "print(f\"Array before rotating {arr2} and Array after rotating by {k2} steps is:= {rotate_by_k(arr2,k2)}\")"
   ]
  },
  {
   "cell_type": "markdown",
   "id": "efa3cd59-395d-4aca-a63b-72c00dd0d12c",
   "metadata": {},
   "source": [
    "3. Reverse the given array in-place, means without using any extra data structure."
   ]
  },
  {
   "cell_type": "code",
   "execution_count": 53,
   "id": "931f4ce2-7b80-413f-b2ae-6b3eb46ce86e",
   "metadata": {},
   "outputs": [
    {
     "name": "stdout",
     "output_type": "stream",
     "text": [
      "The array before reverse is [5, 2, 1, 4] and array after reversing is '[4, 1, 2, 5]'\n",
      "The array before reverse is [2, 4, 5, 7, 9, 12] and array after reversing is '[12, 9, 7, 5, 4, 2]'\n"
     ]
    }
   ],
   "source": [
    "#function to reverse an array without using any extra space\n",
    "\n",
    "def reverse_array(arr):\n",
    "    start = 0\n",
    "    end = len(arr)-1\n",
    "    while(start<end):\n",
    "        arr[start],arr[end] = arr[end],arr[start]\n",
    "        start += 1\n",
    "        end -= 1\n",
    "    \n",
    "    return arr\n",
    "\n",
    "# inputs\n",
    "arr1 = [5,2,1,4]\n",
    "arr2 = [2, 4, 5, 7, 9, 12]\n",
    "\n",
    "#calling a function\n",
    "\n",
    "print(f\"The array before reverse is {arr1} and array after reversing is '{reverse_array(arr1)}'\")\n",
    "print(f\"The array before reverse is {arr2} and array after reversing is '{reverse_array(arr2)}'\")"
   ]
  },
  {
   "cell_type": "markdown",
   "id": "1b17254d-8594-494f-90a8-1df3df6fd311",
   "metadata": {},
   "source": [
    "4. Given an array of integers, find the maximum element in an array"
   ]
  },
  {
   "cell_type": "code",
   "execution_count": 56,
   "id": "562310af-2d04-4cf3-b8dc-dd50edb4ad85",
   "metadata": {},
   "outputs": [
    {
     "name": "stdout",
     "output_type": "stream",
     "text": [
      "The Maximum element in array '[4, 5, 8, 2, 10]' is 10\n",
      "The Maximum element in array '[-5, -10, -1000, -1]' is -1\n"
     ]
    }
   ],
   "source": [
    "# function to find maximum element in an array\n",
    "\n",
    "def max_element(arr):\n",
    "    maximum = float('-inf')\n",
    "    for i in arr:\n",
    "        if i> maximum:\n",
    "            maximum = i\n",
    "    return maximum\n",
    "\n",
    "# inputs\n",
    "arr1 = [4,5,8,2,10]\n",
    "arr2 = [-5,-10,-1000,-1]\n",
    "\n",
    "#calling a function\n",
    "print(f\"The Maximum element in array '{arr1}' is {max_element(arr1)}\")\n",
    "print(f\"The Maximum element in array '{arr2}' is {max_element(arr2)}\")"
   ]
  },
  {
   "cell_type": "markdown",
   "id": "24cc1d9b-b8b1-447e-b993-aac860017328",
   "metadata": {},
   "source": [
    "5. Given a sorted array, remove the duplicate element without using any extra data structure."
   ]
  },
  {
   "cell_type": "code",
   "execution_count": 68,
   "id": "c7d7bf46-9676-4a73-aede-b4f2a6eaf774",
   "metadata": {},
   "outputs": [
    {
     "name": "stdout",
     "output_type": "stream",
     "text": [
      "Array after removing duplicate from array: [1, 2, 3, 4, 5]\n"
     ]
    }
   ],
   "source": [
    "# funtion to remove duplicates element without using any extra data structure\n",
    "\n",
    "def remove_duplicate(arr):\n",
    "    i = 0\n",
    "    for j in range(1,len(arr)):\n",
    "        if arr[j] != arr[i]:\n",
    "            i += 1\n",
    "            arr[i] = arr[j]\n",
    "    return arr[:i+1]\n",
    "\n",
    "#inputs\n",
    "arr = [1, 1, 2, 2, 2, 3, 3, 4, 4, 4, 5, 5]\n",
    "\n",
    "#calling a function\n",
    "print(f'Array after removing duplicate from array: {remove_duplicate(arr)}')"
   ]
  },
  {
   "cell_type": "code",
   "execution_count": null,
   "id": "33483038-9d50-4719-98be-93241270687d",
   "metadata": {},
   "outputs": [],
   "source": []
  }
 ],
 "metadata": {
  "kernelspec": {
   "display_name": "Python 3 (ipykernel)",
   "language": "python",
   "name": "python3"
  },
  "language_info": {
   "codemirror_mode": {
    "name": "ipython",
    "version": 3
   },
   "file_extension": ".py",
   "mimetype": "text/x-python",
   "name": "python",
   "nbconvert_exporter": "python",
   "pygments_lexer": "ipython3",
   "version": "3.10.8"
  }
 },
 "nbformat": 4,
 "nbformat_minor": 5
}
