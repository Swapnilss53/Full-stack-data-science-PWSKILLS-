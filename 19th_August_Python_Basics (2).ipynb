{
 "cells": [
  {
   "cell_type": "markdown",
   "id": "34b5191a-945d-46f2-a4f7-e3a2eca6363e",
   "metadata": {},
   "source": [
    "Q1. Declare two variables, `x` and `y`, and assign them integer values.\n",
    "Swap the values of these variables without using any temporary\n",
    "variable."
   ]
  },
  {
   "cell_type": "code",
   "execution_count": 15,
   "id": "1c972364-f8de-46ed-887a-ecaef72e5745",
   "metadata": {},
   "outputs": [
    {
     "name": "stdout",
     "output_type": "stream",
     "text": [
      "The value of x after swap is :=  6\n",
      "The value of y after swap is :=  5\n"
     ]
    }
   ],
   "source": [
    "# 1st approach to swap variables\n",
    "x = 5\n",
    "y = 6\n",
    "\n",
    "x, y = y, x\n",
    "print(\"The value of x after swap is := \",x)\n",
    "print(\"The value of y after swap is := \",y)"
   ]
  },
  {
   "cell_type": "code",
   "execution_count": 26,
   "id": "5d5d9e6b-89cd-4b81-b6b6-8d14e9f1c160",
   "metadata": {},
   "outputs": [
    {
     "name": "stdin",
     "output_type": "stream",
     "text": [
      " 5\n",
      " 3\n"
     ]
    },
    {
     "name": "stdout",
     "output_type": "stream",
     "text": [
      "The value of x before swap is :=  5\n",
      "The value of y before swap is :=  3\n",
      "The value of x after swap is :=  3\n",
      "The value of y after swap is :=  5\n"
     ]
    }
   ],
   "source": [
    "# 1st approach to swap a variables with user input\n",
    "x = int(input())\n",
    "y = int(input())\n",
    "\n",
    "print(\"The value of x before swap is := \",x)\n",
    "print(\"The value of y before swap is := \",y)\n",
    "\n",
    "# expression to perform swap operation\n",
    "x, y = y, x\n",
    "\n",
    "#printing swaped variable\n",
    "print(\"The value of x after swap is := \",x)\n",
    "print(\"The value of y after swap is := \",y)"
   ]
  },
  {
   "cell_type": "code",
   "execution_count": 27,
   "id": "c9b5f2e9-da44-4c23-9f4b-ac75dc8a26d2",
   "metadata": {},
   "outputs": [
    {
     "name": "stdout",
     "output_type": "stream",
     "text": [
      "The value of x before swap is :=  5\n",
      "The value of y before swap is :=  7\n",
      "The value of x after swap is :=  7\n",
      "The value of y after swap is :=  5\n"
     ]
    }
   ],
   "source": [
    "# 2nd approach to swap a variables\n",
    "x = 5 #\n",
    "y = 7\n",
    "\n",
    "print(\"The value of x before swap is := \",x)\n",
    "print(\"The value of y before swap is := \",y)\n",
    "\n",
    "# expression to perform swap operation\n",
    "x = x+y\n",
    "y = x-y\n",
    "x = x-y\n",
    "\n",
    "#printing swaped variable\n",
    "print(\"The value of x after swap is := \",x)\n",
    "print(\"The value of y after swap is := \",y)"
   ]
  },
  {
   "cell_type": "markdown",
   "id": "b3f05835-9b2d-4b1c-bb6b-c56c4ce16e23",
   "metadata": {},
   "source": [
    "Q2.Create a program that calculates the area of a rectangle. Take the\n",
    "length and width as inputs from the user and store them in variables.\n",
    "Calculate and display the area."
   ]
  },
  {
   "cell_type": "code",
   "execution_count": 28,
   "id": "89b42a89-ba17-432a-a326-18874ee39061",
   "metadata": {},
   "outputs": [
    {
     "name": "stdin",
     "output_type": "stream",
     "text": [
      "Enter a length in cm := 5\n",
      "Enter a width in cm := 10\n"
     ]
    },
    {
     "name": "stdout",
     "output_type": "stream",
     "text": [
      "Area of Rectangle is := 50 cm²\n"
     ]
    }
   ],
   "source": [
    "\"\"\" eval is in-built function in python which is used to evaluate whether the input is int or float \"\"\"\n",
    "\n",
    "length = eval(input(\"Enter a length in cm :=\")) \n",
    "width = eval(input(\"Enter a width in cm :=\"))\n",
    "\n",
    "#formula to calculate area of rectangle\n",
    "area_of_rectangle = length * width\n",
    "\n",
    "# f\"\" is used to format a string. and {} is used to embed any value in string in our case are_of_reactngle is embedded\n",
    "# cm\\u00B2 it is used to represent cm² using python\n",
    "print(f\"Area of Rectangle is := {area_of_rectangle} cm\\u00B2\")"
   ]
  },
  {
   "cell_type": "markdown",
   "id": "4711d8d1-8c49-4979-9c3e-d444da66bd37",
   "metadata": {},
   "source": [
    "Q3.Write a Python program that converts temperature from Celsius to\n",
    "Fahrenheit. Take the temperature in Celsius as input, store it in a\n",
    "variable, convert it to Fahrenheit, and display the result."
   ]
  },
  {
   "cell_type": "code",
   "execution_count": 1,
   "id": "df4bcea1-ddba-4750-a215-76333c5ea239",
   "metadata": {},
   "outputs": [
    {
     "name": "stdin",
     "output_type": "stream",
     "text": [
      "Enter a Temperature in °C = 10\n"
     ]
    },
    {
     "name": "stdout",
     "output_type": "stream",
     "text": [
      "Temperature in Fahrenheit is := 50.0 °F\n"
     ]
    }
   ],
   "source": [
    "# eval is in-built function in python which is used to evaluate whether the input is int or float\n",
    "temperature = eval(input(\"Enter a Temperature in \\u00B0C =\"))\n",
    "\n",
    "# formula to convert celsius into fahrenheit\n",
    "celsius_to_fahrenheit = (temperature * 1.8) + 32\n",
    "\n",
    "# f\"\" is used to format a string. and {} is used to embed any value in string\n",
    "# \\u00B0 is used for ° (degree) symbol\n",
    "print(f\"Temperature in Fahrenheit is := {celsius_to_fahrenheit} \\u00B0F\")"
   ]
  },
  {
   "cell_type": "markdown",
   "id": "2bddd010-79de-4fa0-9d83-c1a07f467316",
   "metadata": {},
   "source": [
    "String Questions"
   ]
  },
  {
   "cell_type": "markdown",
   "id": "b4bb8b80-6e23-497c-ba36-028a1ca1a8dd",
   "metadata": {},
   "source": [
    "Q1. Write a Python program that takes a string as input and prints the\n",
    "length of the string."
   ]
  },
  {
   "cell_type": "code",
   "execution_count": null,
   "id": "e48d1da7-01f6-4fe9-b8cb-afa7ee4624d5",
   "metadata": {},
   "outputs": [],
   "source": [
    "# taking string input\n",
    "input_string = str(input(\"Enter a input string\"))\n",
    "\n",
    "#len() is inbuilt function to get the length of string\n",
    "length_of_string = len(input_string)\n",
    "\n",
    "#printing length of string stored in variable length_of_string\n",
    "print(f\"Length of string is := {length_of_string}\")"
   ]
  },
  {
   "cell_type": "markdown",
   "id": "851f2ddc-755f-4710-bd4e-389f2abac713",
   "metadata": {},
   "source": [
    "Q2.Create a program that takes a sentence from the user and counts the\n",
    "number of vowels (a, e, i, o, u) in the string."
   ]
  },
  {
   "cell_type": "code",
   "execution_count": 14,
   "id": "cefbcc3e-c4c1-4e1d-8a57-27b0a5c692fd",
   "metadata": {},
   "outputs": [
    {
     "name": "stdin",
     "output_type": "stream",
     "text": [
      "Enter a input string HEllo\n"
     ]
    },
    {
     "name": "stdout",
     "output_type": "stream",
     "text": [
      "The number of vowel is := 2\n"
     ]
    }
   ],
   "source": [
    "#taking input string from user\n",
    "input_string = str(input(\"Enter a input string\"))\n",
    "\n",
    "# vowels in both upper and lower case\n",
    "vowels = \"aeiouAEIOU\"\n",
    "count = 0\n",
    "\n",
    "# for loop to iterate in input_string\n",
    "for char in input_string:\n",
    "# if statement to check whether the character is the part of vowels string\n",
    "    if char in vowels:\n",
    "        count += 1\n",
    "\n",
    "#print  function to print count of vowels in the string taken as input\n",
    "print(f\"The number of vowel is := {count}\")"
   ]
  },
  {
   "cell_type": "markdown",
   "id": "8aed13e4-69df-4c5d-92e7-5590809e4cbc",
   "metadata": {},
   "source": [
    "Q3.Given a string, reverse the order of characters using string slicing and\n",
    "print the reversed string."
   ]
  },
  {
   "cell_type": "code",
   "execution_count": 17,
   "id": "1563f9f9-1477-413a-a933-7e698073a253",
   "metadata": {},
   "outputs": [
    {
     "name": "stdin",
     "output_type": "stream",
     "text": [
      "Enter a input string := HEllo\n"
     ]
    },
    {
     "name": "stdout",
     "output_type": "stream",
     "text": [
      "Reverse string = ollEH\n"
     ]
    }
   ],
   "source": [
    "# taking input string from user\n",
    "input_string = str(input(\"Enter a input string :=\"))\n",
    "\n",
    "# string slicing to reverse the string\n",
    "reversed_string = input_string[::-1]\n",
    "\n",
    "#printing reverse string\n",
    "print(f\"Reverse string = {reversed_string}\")"
   ]
  },
  {
   "cell_type": "markdown",
   "id": "67b840b9-c1c1-4bbc-ba80-531e17cc247c",
   "metadata": {},
   "source": [
    "Q4.Write a program that takes a string as input and checks if it is a\n",
    "palindrome (reads the same forwards and backwards)."
   ]
  },
  {
   "cell_type": "code",
   "execution_count": 22,
   "id": "a84c4280-dfff-46c1-86b6-38ba92ce1df7",
   "metadata": {},
   "outputs": [
    {
     "name": "stdin",
     "output_type": "stream",
     "text": [
      "Enter a string := Oyo\n"
     ]
    },
    {
     "name": "stdout",
     "output_type": "stream",
     "text": [
      "oyO\n",
      "The string is not a palindrome\n"
     ]
    }
   ],
   "source": [
    "# ! this programm is case sensetive if the uppercase letter was given then it determines its not a palindrome\n",
    "# taking input string from user\n",
    "input_string = str(input(\"Enter a string :=\"))\n",
    "\n",
    "# string slicing to reverse the string\n",
    "reverse_string = input_string[::-1]\n",
    "\n",
    "# condition to check whether the string is palindrome or not\n",
    "if input_string == reverse_string:\n",
    "    print(\"The string is a palindrome\")\n",
    "else:\n",
    "    print(\"The string is not a palindrome\")"
   ]
  },
  {
   "cell_type": "markdown",
   "id": "c62dd056-f74c-4aa0-b978-fa3d165d8806",
   "metadata": {},
   "source": [
    "Q5.Create a program that takes a string as input and removes all the\n",
    "spaces from it. Print the modified string without spaces."
   ]
  },
  {
   "cell_type": "code",
   "execution_count": 25,
   "id": "f70f9bee-b52f-46e3-9ba9-292e0d547d8a",
   "metadata": {},
   "outputs": [
    {
     "name": "stdin",
     "output_type": "stream",
     "text": [
      "Enter a string := Hello Swapnil\n"
     ]
    },
    {
     "name": "stdout",
     "output_type": "stream",
     "text": [
      "String without space:= HelloSwapnil\n"
     ]
    }
   ],
   "source": [
    "# taking input string from user\n",
    "input_string = str(input(\"Enter a string :=\"))\n",
    "\n",
    "# using replace function to replace the space\n",
    "string_without_space = input_string.replace(\" \", \"\")\n",
    "\n",
    "#printing string_without_space\n",
    "print(f\"String without space:= {string_without_space}\")\n"
   ]
  }
 ],
 "metadata": {
  "kernelspec": {
   "display_name": "Python 3 (ipykernel)",
   "language": "python",
   "name": "python3"
  },
  "language_info": {
   "codemirror_mode": {
    "name": "ipython",
    "version": 3
   },
   "file_extension": ".py",
   "mimetype": "text/x-python",
   "name": "python",
   "nbconvert_exporter": "python",
   "pygments_lexer": "ipython3",
   "version": "3.10.8"
  }
 },
 "nbformat": 4,
 "nbformat_minor": 5
}
