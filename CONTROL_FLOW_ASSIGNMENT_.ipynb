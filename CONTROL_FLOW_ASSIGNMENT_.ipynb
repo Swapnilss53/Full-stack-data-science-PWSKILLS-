{
  "nbformat": 4,
  "nbformat_minor": 0,
  "metadata": {
    "colab": {
      "provenance": []
    },
    "kernelspec": {
      "name": "python3",
      "display_name": "Python 3"
    },
    "language_info": {
      "name": "python"
    }
  },
  "cells": [
    {
      "cell_type": "code",
      "source": [
        "# Q1: Check if a given number is positive or negative.\n",
        "number = float(input(\"Enter a number: \"))\n",
        "if number > 0:\n",
        "    print(\"The number is positive.\")\n",
        "elif number < 0:\n",
        "    print(\"The number is negative.\")\n",
        "else:\n",
        "    print(\"The number is zero.\")"
      ],
      "metadata": {
        "id": "eTSzv7onfzpy"
      },
      "execution_count": null,
      "outputs": []
    },
    {
      "cell_type": "code",
      "source": [
        "# Q2: Determine if a person is eligible to vote based on their age.\n",
        "age = int(input(\"Enter your age: \"))\n",
        "if age >= 18:\n",
        "    print(\"You are eligible to vote.\")\n",
        "else:\n",
        "    print(\"You are not eligible to vote.\")"
      ],
      "metadata": {
        "id": "vOsv4TgNf1r0"
      },
      "execution_count": null,
      "outputs": []
    },
    {
      "cell_type": "code",
      "source": [
        "# Q3: Find the maximum of two numbers using if-else statements.\n",
        "num1 = float(input(\"Enter the first number: \"))\n",
        "num2 = float(input(\"Enter the second number: \"))\n",
        "if num1 > num2:\n",
        "    print(\"The maximum number is:\", num1)\n",
        "else:\n",
        "    print(\"The maximum number is:\", num2)\n"
      ],
      "metadata": {
        "id": "AyPfyfVFf4Dy"
      },
      "execution_count": null,
      "outputs": []
    },
    {
      "cell_type": "code",
      "source": [
        "# Q4: Classify a given year as a leap year or not.\n",
        "year = int(input(\"Enter a year: \"))\n",
        "if (year % 4 == 0 and year % 100 != 0) or (year % 400 == 0):\n",
        "    print(\"Leap year\")\n",
        "else:\n",
        "    print(\"Not a leap year\")"
      ],
      "metadata": {
        "id": "BQ_2VPcMf61h"
      },
      "execution_count": null,
      "outputs": []
    },
    {
      "cell_type": "code",
      "source": [
        "\n",
        "# Q5: Check whether a character is a vowel or a consonant.\n",
        "char = input(\"Enter a character: \")\n",
        "if char.lower() in ['a', 'e', 'i', 'o', 'u']:\n",
        "    print(\"The character is a vowel.\")\n",
        "else:\n",
        "    print(\"The character is a consonant.\")"
      ],
      "metadata": {
        "id": "NUn6pZTif8dI"
      },
      "execution_count": null,
      "outputs": []
    },
    {
      "cell_type": "code",
      "source": [
        "# Q6: Determine whether a given number is even or odd.\n",
        "num = int(input(\"Enter a number: \"))\n",
        "if num % 2 == 0:\n",
        "    print(\"The number is even.\")\n",
        "else:\n",
        "    print(\"The number is odd.\")"
      ],
      "metadata": {
        "id": "uJGMtSROf97K"
      },
      "execution_count": null,
      "outputs": []
    },
    {
      "cell_type": "code",
      "source": [
        "# Q7: Calculate the absolute value of a number without using the abs() function.\n",
        "num = float(input(\"Enter a number: \"))\n",
        "if num < 0:\n",
        "    absolute_value = -num\n",
        "else:\n",
        "    absolute_value = num\n",
        "print(\"The absolute value is:\", absolute_value)"
      ],
      "metadata": {
        "id": "4QKuC3a4gBrL"
      },
      "execution_count": null,
      "outputs": []
    },
    {
      "cell_type": "code",
      "source": [
        "# Q8: Determine the largest of three given numbers using if-else statements.\n",
        "num1 = float(input(\"Enter the first number: \"))\n",
        "num2 = float(input(\"Enter the second number: \"))\n",
        "num3 = float(input(\"Enter the third number: \"))\n",
        "if num1 >= num2 and num1 >= num3:\n",
        "    print(\"The largest number is:\", num1)\n",
        "elif num2 >= num1 and num2 >= num3:\n",
        "    print(\"The largest number is:\", num2)\n",
        "else:\n",
        "    print(\"The largest number is:\", num3)"
      ],
      "metadata": {
        "id": "eILfQtpQgDVr"
      },
      "execution_count": null,
      "outputs": []
    },
    {
      "cell_type": "code",
      "source": [
        "\n",
        "\n",
        "# Q9: Check if a given string is a palindrome.\n",
        "string = input(\"Enter a string: \")\n",
        "if string == string[::-1]:\n",
        "    print(\"The string is a palindrome.\")\n",
        "else:\n",
        "    print(\"The string is not a palindrome.\")"
      ],
      "metadata": {
        "id": "eOA7ob76gGoE"
      },
      "execution_count": null,
      "outputs": []
    },
    {
      "cell_type": "code",
      "source": [
        "\n",
        "\n",
        "# Q10: Calculate the grade based on a student's score.\n",
        "score = float(input(\"Enter your score: \"))\n",
        "if score >= 90:\n",
        "    grade = 'A'\n",
        "elif score >= 80:\n",
        "    grade = 'B'\n",
        "elif score >= 70:\n",
        "    grade = 'C'\n",
        "elif score >= 60:\n",
        "    grade = 'D'\n",
        "else:\n",
        "    grade = 'F'\n",
        "print(\"Your grade is:\", grade)"
      ],
      "metadata": {
        "id": "3p63ZrKxgIaK"
      },
      "execution_count": null,
      "outputs": []
    },
    {
      "cell_type": "code",
      "execution_count": null,
      "metadata": {
        "id": "jxicz0NiPqd4"
      },
      "outputs": [],
      "source": [
        "# Q11: Find the largest among three numbers using nested if-else statements.\n",
        "num1 = float(input(\"Enter the first number: \"))\n",
        "num2 = float(input(\"Enter the second number: \"))\n",
        "num3 = float(input(\"Enter the third number: \"))\n",
        "if num1 >= num2:\n",
        "    if num1 >= num3:\n",
        "        largest = num1\n",
        "    else:\n",
        "        largest = num3\n",
        "else:\n",
        "    if num2 >= num3:\n",
        "        largest = num2\n",
        "    else:\n",
        "        largest = num3\n",
        "print(\"The largest number is:\", largest)\n"
      ]
    },
    {
      "cell_type": "code",
      "source": [
        "\n",
        "# Q12: Determine if a triangle is equilateral, isosceles, or scalene.\n",
        "side1 = float(input(\"Enter the length of side 1: \"))\n",
        "side2 = float(input(\"Enter the length of side 2: \"))\n",
        "side3 = float(input(\"Enter the length of side 3: \"))\n",
        "if side1 == side2 == side3:\n",
        "    triangle_type = \"equilateral\"\n",
        "elif side1 == side2 or side1 == side3 or side2 == side3:\n",
        "    triangle_type = \"isosceles\"\n",
        "else:\n",
        "    triangle_type = \"scalene\"\n",
        "print(\"The triangle is\", triangle_type)"
      ],
      "metadata": {
        "id": "xDa-vxUNhZDi"
      },
      "execution_count": null,
      "outputs": []
    },
    {
      "cell_type": "code",
      "source": [
        "\n",
        "# Q13: Check if a year is a leap year and if it is a century year.\n",
        "year = int(input(\"Enter a year: \"))\n",
        "if (year % 4 == 0 and year % 100 != 0) or (year % 400 == 0):\n",
        "    leap_year = True\n",
        "else:\n",
        "    leap_year = False\n",
        "if year % 100 == 0:\n",
        "    century_year = True\n",
        "else:\n",
        "    century_year = False\n",
        "if leap_year:\n",
        "    print(\"It's a leap year.\")\n",
        "else:\n",
        "    print(\"It's not a leap year.\")\n",
        "if century_year:\n",
        "    print(\"It's a century year.\")\n",
        "else:\n",
        "    print(\"It's not a century year.\")"
      ],
      "metadata": {
        "id": "4jYTAUjzhbEX"
      },
      "execution_count": null,
      "outputs": []
    },
    {
      "cell_type": "code",
      "source": [
        "\n",
        "# Q14: Determine if a number is positive, negative, or zero.\n",
        "num = float(input(\"Enter a number: \"))\n",
        "if num > 0:\n",
        "    print(\"The number is positive.\")\n",
        "elif num < 0:\n",
        "    print(\"The number is negative.\")\n",
        "else:\n",
        "    print(\"The number is zero.\")"
      ],
      "metadata": {
        "id": "nTRv5xoLhdCq"
      },
      "execution_count": null,
      "outputs": []
    },
    {
      "cell_type": "code",
      "source": [
        "# Q15: Check if a person is a teenager (between 13 and 19 years old).\n",
        "age = int(input(\"Enter your age: \"))\n",
        "if 13 <= age <= 19:\n",
        "    print(\"You are a teenager.\")\n",
        "else:\n",
        "    print(\"You are not a teenager.\")"
      ],
      "metadata": {
        "id": "EFlM5zGohfdv"
      },
      "execution_count": null,
      "outputs": []
    },
    {
      "cell_type": "code",
      "source": [
        "# Q16: Determine the type of angle based on its measure.\n",
        "angle = float(input(\"Enter the angle measure in degrees: \"))\n",
        "if angle < 90:\n",
        "    angle_type = \"acute\"\n",
        "elif angle == 90:\n",
        "    angle_type = \"right\"\n",
        "else:\n",
        "    angle_type = \"obtuse\"\n",
        "print(f\"The angle is {angle_type}.\")"
      ],
      "metadata": {
        "id": "yeSr5opKhgoT"
      },
      "execution_count": null,
      "outputs": []
    },
    {
      "cell_type": "code",
      "source": [
        "# Q17: Calculate the roots of a quadratic equation.\n",
        "import math\n",
        "a = float(input(\"Enter coefficient a: \"))\n",
        "b = float(input(\"Enter coefficient b: \"))\n",
        "c = float(input(\"Enter coefficient c: \"))\n",
        "discriminant = b**2 - 4*a*c\n",
        "if discriminant > 0:\n",
        "    root1 = (-b + math.sqrt(discriminant)) / (2*a)\n",
        "    root2 = (-b - math.sqrt(discriminant)) / (2*a)\n",
        "    print(f\"Root 1: {root1}\")\n",
        "    print(f\"Root 2: {root2}\")\n",
        "elif discriminant == 0:\n",
        "    root1 = -b / (2*a)\n",
        "    print(f\"Root: {root1}\")\n",
        "else:\n",
        "    real_part = -b / (2*a)\n",
        "    imaginary_part = math.sqrt(abs(discriminant)) / (2*a)\n",
        "    print(f\"Root 1: {real_part} + {imaginary_part}i\")\n",
        "    print(f\"Root 2: {real_part} - {imaginary_part}i\")\n"
      ],
      "metadata": {
        "id": "VdGdxAfHhh_F"
      },
      "execution_count": null,
      "outputs": []
    },
    {
      "cell_type": "code",
      "source": [
        "# Q18: Determine the day of the week based on a user-provided number.\n",
        "day_number = int(input(\"Enter a number (1 for Monday, 2 for Tuesday, etc.): \"))\n",
        "if day_number == 1:\n",
        "    day = \"Monday\"\n",
        "elif day_number == 2:\n",
        "    day = \"Tuesday\"\n",
        "elif day_number == 3:\n",
        "    day = \"Wednesday\"\n",
        "elif day_number == 4:\n",
        "    day = \"Thursday\"\n",
        "elif day_number == 5:\n",
        "    day = \"Friday\"\n",
        "elif day_number == 6:\n",
        "    day = \"Saturday\"\n",
        "elif day_number == 7:\n",
        "    day = \"Sunday\"\n",
        "else:\n",
        "    day = \"Invalid day number\"\n",
        "print(f\"The day is {day}.\")"
      ],
      "metadata": {
        "id": "R4NxZv2LhkC1"
      },
      "execution_count": null,
      "outputs": []
    },
    {
      "cell_type": "code",
      "source": [
        "# Q19: Check if a year is a leap year and if it is evenly divisible by 400.\n",
        "year = int(input(\"Enter a year: \"))\n",
        "if (year % 4 == 0 and year % 100 != 0) or (year % 400 == 0):\n",
        "    leap_year = True\n",
        "else:\n",
        "    leap_year = False\n",
        "if year % 400 == 0:\n",
        "    divisible_by_400 = True\n",
        "else:\n",
        "    divisible_by_400 = False\n",
        "if leap_year:\n",
        "    print(\"It's a leap year.\")\n",
        "else:\n",
        "    print(\"It's not a leap year.\")\n",
        "if divisible_by_400:\n",
        "    print(\"It's evenly divisible by 400.\")\n",
        "else:\n",
        "    print(\"It's not evenly divisible by 400.\")"
      ],
      "metadata": {
        "id": "C3bk5aImhmvj"
      },
      "execution_count": null,
      "outputs": []
    },
    {
      "cell_type": "code",
      "source": [
        "\n",
        "# Q20: Determine if a given number is prime or not using nested if-else statements.\n",
        "num = int(input(\"Enter a number: \"))\n",
        "if num > 1:\n",
        "    for i in range(2, int(num ** 0.5) + 1):\n",
        "        if (num % i) == 0:\n",
        "            is_prime = False\n",
        "            break\n",
        "    else:\n",
        "        is_prime = True\n",
        "else:\n",
        "    is_prime = False\n",
        "if is_prime:\n",
        "    print(f\"{num} is a prime number.\")\n",
        "else:\n",
        "    print(f\"{num} is not a prime number.\")"
      ],
      "metadata": {
        "id": "bM4SamXhho6C"
      },
      "execution_count": null,
      "outputs": []
    },
    {
      "cell_type": "code",
      "source": [
        "# Q21: Assign grades based on different ranges of scores using elif statements.\n",
        "score = float(input(\"Enter the student's score: \"))\n",
        "if score >= 90:\n",
        "    grade = 'A'\n",
        "elif score >= 80:\n",
        "    grade = 'B'\n",
        "elif score >= 70:\n",
        "    grade = 'C'\n",
        "elif score >= 60:\n",
        "    grade = 'D'\n",
        "else:\n",
        "    grade = 'F'\n",
        "print(f\"The student's grade is: {grade}\")"
      ],
      "metadata": {
        "id": "uIl1tewcQ6Cb"
      },
      "execution_count": null,
      "outputs": []
    },
    {
      "cell_type": "code",
      "source": [
        "# Q22: Determine the type of a triangle based on its angles.\n",
        "angle1 = int(input(\"Enter the first angle: \"))\n",
        "angle2 = int(input(\"Enter the second angle: \"))\n",
        "angle3 = int(input(\"Enter the third angle: \"))\n",
        "if angle1 + angle2 + angle3 == 180:\n",
        "    if angle1 == angle2 == angle3:\n",
        "        triangle_type = \"Equilateral\"\n",
        "    elif angle1 == angle2 or angle2 == angle3 or angle1 == angle3:\n",
        "        triangle_type = \"Isosceles\"\n",
        "    else:\n",
        "        triangle_type = \"Scalene\"\n",
        "else:\n",
        "    triangle_type = \"Not a valid triangle\"\n",
        "print(f\"The triangle is {triangle_type}\")\n"
      ],
      "metadata": {
        "id": "jntxqwdRhyWc"
      },
      "execution_count": null,
      "outputs": []
    },
    {
      "cell_type": "code",
      "source": [
        "# Q23: Categorize a person's BMI into underweight, normal, overweight, or obese using elif statements.\n",
        "weight = float(input(\"Enter your weight (in kg): \"))\n",
        "height = float(input(\"Enter your height (in meters): \"))\n",
        "bmi = weight / (height ** 2)\n",
        "if bmi < 18.5:\n",
        "    category = \"Underweight\"\n",
        "elif 18.5 <= bmi < 24.9:\n",
        "    category = \"Normal\"\n",
        "elif 24.9 <= bmi < 29.9:\n",
        "    category = \"Overweight\"\n",
        "else:\n",
        "    category = \"Obese\"\n",
        "print(f\"Your BMI is {bmi:.2f}, and you are {category}.\")"
      ],
      "metadata": {
        "id": "Em0fhVAIh0Bg"
      },
      "execution_count": null,
      "outputs": []
    },
    {
      "cell_type": "code",
      "source": [
        "# Q24: Determine if a number is positive, negative, or zero using elif statements.\n",
        "number = float(input(\"Enter a number: \"))\n",
        "if number > 0:\n",
        "    result = \"Positive\"\n",
        "elif number < 0:\n",
        "    result = \"Negative\"\n",
        "else:\n",
        "    result = \"Zero\"\n",
        "print(f\"The number is {result}.\")"
      ],
      "metadata": {
        "id": "1B8pTHwrh2Qr"
      },
      "execution_count": null,
      "outputs": []
    },
    {
      "cell_type": "code",
      "source": [
        "# Q25: Determine the type of a character (uppercase, lowercase, or special) using elif statements.\n",
        "character = input(\"Enter a character: \")\n",
        "if character.isupper():\n",
        "    char_type = \"Uppercase\"\n",
        "elif character.islower():\n",
        "    char_type = \"Lowercase\"\n",
        "else:\n",
        "    char_type = \"Special character\"\n",
        "print(f\"The character is {char_type}.\")"
      ],
      "metadata": {
        "id": "bFMHH-lQh3gA"
      },
      "execution_count": null,
      "outputs": []
    },
    {
      "cell_type": "code",
      "source": [
        "# Q26: Calculate the discounted price based on different purchase amounts using elif statements.\n",
        "purchase_amount = float(input(\"Enter the purchase amount: \"))\n",
        "if purchase_amount >= 500:\n",
        "    discount = 0.2 * purchase_amount\n",
        "elif purchase_amount >= 200:\n",
        "    discount = 0.1 * purchase_amount\n",
        "else:\n",
        "    discount = 0\n",
        "discounted_price = purchase_amount - discount\n",
        "print(f\"Discounted Price: ${discounted_price:.2f}\")"
      ],
      "metadata": {
        "id": "QZXLrizlh5Gs"
      },
      "execution_count": null,
      "outputs": []
    },
    {
      "cell_type": "code",
      "source": [
        "# Q27: Calculate the electricity bill based on different consumption slabs using elif statements.\n",
        "units_consumed = int(input(\"Enter the number of units consumed: \"))\n",
        "if units_consumed <= 50:\n",
        "    bill = units_consumed * 0.5\n",
        "elif units_consumed <= 150:\n",
        "    bill = 50 + (units_consumed - 50) * 0.75\n",
        "elif units_consumed <= 250:\n",
        "    bill = 50 + 100 + (units_consumed - 150) * 1.2\n",
        "else:\n",
        "    bill = 50 + 100 + 100 + (units_consumed - 250) * 1.5\n",
        "print(f\"Electricity Bill: ${bill:.2f}\")"
      ],
      "metadata": {
        "id": "aSaeFODgh6wk"
      },
      "execution_count": null,
      "outputs": []
    },
    {
      "cell_type": "code",
      "source": [
        "# Q28: Determine the type of quadrilateral based on its angles and sides using elif statements.\n",
        "num_sides = int(input(\"Enter the number of sides of the quadrilateral: \"))\n",
        "angle_sum = sum([int(input(f\"Enter angle {i + 1}: \")) for i in range(num_sides)])\n",
        "if num_sides == 4:\n",
        "    if angle_sum == 360:\n",
        "        if all([int(input(f\"Enter side {i + 1}: \")) > 0 for i in range(num_sides)]):\n",
        "            if len(set([int(input(f\"Enter side {i + 1}: \")) for i in range(num_sides)])) == 1:\n",
        "                quadrilateral_type = \"Square\"\n",
        "            elif len(set([int(input(f\"Enter side {i + 1}: \")) for i in range(num_sides)])) == 2:\n",
        "                quadrilateral_type = \"Rectangle\"\n",
        "            else:\n",
        "                quadrilateral_type = \"Quadrilateral\"\n",
        "        else:\n",
        "            quadrilateral_type = \"Invalid\"\n",
        "    else:\n",
        "        quadrilateral_type = \"Invalid\"\n",
        "else:\n",
        "  quadrilateral_type = \"Not a Quadrilateral\"\n",
        "print(f\"The figure is a {quadrilateral_type}.\")"
      ],
      "metadata": {
        "id": "e5M64GsMh8iD"
      },
      "execution_count": null,
      "outputs": []
    },
    {
      "cell_type": "code",
      "source": [
        "# Q29: Determine the season based on a user-provided month using elif statements.\n",
        "month = int(input(\"Enter a month (1-12): \"))\n",
        "if 1 <= month <= 12:\n",
        "    if 3 <= month <= 5:\n",
        "        season = \"Spring\"\n",
        "    elif 6 <= month <= 8:\n",
        "        season = \"Summer\"\n",
        "    elif 9 <= month <= 11:\n",
        "        season = \"Autumn\"\n",
        "    else:\n",
        "        season = \"Winter\"\n",
        "    print(f\"The season is {season}.\")\n",
        "else:\n",
        "    print(\"Invalid month input.\")"
      ],
      "metadata": {
        "id": "8ibmpwLoh_AA"
      },
      "execution_count": null,
      "outputs": []
    },
    {
      "cell_type": "code",
      "source": [
        "# Q30: Determine the type of a year (leap or common) and month (30 or 31 days) using elif statements.\n",
        "year = int(input(\"Enter a year: \"))\n",
        "month = int(input(\"Enter a month (1-12): \"))\n",
        "if (year % 4 == 0 and year % 100 != 0) or (year % 400 == 0):\n",
        "    year_type = \"Leap Year\"\n",
        "else:\n",
        "    year_type = \"Common Year\"\n",
        "\n",
        "if month in {4, 6, 9, 11}:\n",
        "    month_type = \"30 Days\"\n",
        "elif month == 2:\n",
        "    if year_type == \"Leap Year\":\n",
        "        month_type = \"29 Days\"\n",
        "    else:\n",
        "        month_type = \"28 Days\"\n",
        "else:\n",
        "    month_type = \"31 Days\"\n",
        "\n",
        "print(f\"The year is a {year_type}, and the month has {month_type}.\")"
      ],
      "metadata": {
        "id": "8Ue8PbK4iBAC"
      },
      "execution_count": null,
      "outputs": []
    },
    {
      "cell_type": "code",
      "source": [
        "# Basic Level\n",
        "\n",
        "# Q1: Check if a given number is positive, negative, or zero.\n",
        "number = float(input(\"Enter a number: \"))\n",
        "if number > 0:\n",
        "    print(\"The number is positive.\")\n",
        "elif number < 0:\n",
        "    print(\"The number is negative.\")\n",
        "else:\n",
        "    print(\"The number is zero.\")"
      ],
      "metadata": {
        "id": "CFUZCHb7Q-gF"
      },
      "execution_count": null,
      "outputs": []
    },
    {
      "cell_type": "code",
      "source": [
        "# Q2: Check if a person is eligible to vote based on their age.\n",
        "age = int(input(\"Enter your age: \"))\n",
        "if age >= 18:\n",
        "    print(\"You are eligible to vote.\")\n",
        "else:\n",
        "    print(\"You are not eligible to vote.\")"
      ],
      "metadata": {
        "id": "WAC69BTNiJFf"
      },
      "execution_count": null,
      "outputs": []
    },
    {
      "cell_type": "code",
      "source": [
        "# Q3: Find the maximum of two given numbers using conditional statements.\n",
        "num1 = float(input(\"Enter the first number: \"))\n",
        "num2 = float(input(\"Enter the second number: \"))\n",
        "if num1 > num2:\n",
        "    print(\"The maximum number is:\", num1)\n",
        "elif num1 < num2:\n",
        "    print(\"The maximum number is:\", num2)\n",
        "else:\n",
        "    print(\"Both numbers are equal.\")\n",
        "\n",
        "# Q4: Calculate the grade of a student based on their exam score.\n",
        "score = float(input(\"Enter your exam score: \"))\n",
        "if score >= 90:\n",
        "    grade = 'A'\n",
        "elif score >= 80:\n",
        "    grade = 'B'\n",
        "elif score >= 70:\n",
        "    grade = 'C'\n",
        "elif score >= 60:\n",
        "    grade = 'D'\n",
        "else:\n",
        "    grade = 'F'\n",
        "print(\"Your grade is:\", grade)"
      ],
      "metadata": {
        "id": "Ypf1oMTziKYi"
      },
      "execution_count": null,
      "outputs": []
    },
    {
      "cell_type": "code",
      "source": [
        "# Q5: Check if a year is a leap year or not.\n",
        "year = int(input(\"Enter a year: \"))\n",
        "if (year % 4 == 0 and year % 100 != 0) or (year % 400 == 0):\n",
        "    print(\"It is a leap year.\")\n",
        "else:\n",
        "    print(\"It is not a leap year.\")"
      ],
      "metadata": {
        "id": "zn2VdG-QiMZw"
      },
      "execution_count": null,
      "outputs": []
    },
    {
      "cell_type": "code",
      "source": [
        "# Q6: Classify a triangle based on its sides' lengths.\n",
        "side1 = float(input(\"Enter the length of side 1: \"))\n",
        "side2 = float(input(\"Enter the length of side 2: \"))\n",
        "side3 = float(input(\"Enter the length of side 3: \"))\n",
        "if side1 == side2 == side3:\n",
        "    triangle_type = \"Equilateral\"\n",
        "elif side1 == side2 or side1 == side3 or side2 == side3:\n",
        "    triangle_type = \"Isosceles\"\n",
        "else:\n",
        "    triangle_type = \"Scalene\"\n",
        "print(\"It is a\", triangle_type, \"triangle.\")"
      ],
      "metadata": {
        "id": "O2NbH1b4iRuT"
      },
      "execution_count": null,
      "outputs": []
    },
    {
      "cell_type": "code",
      "source": [
        "# Q7: Determine the largest of three given numbers.\n",
        "num1 = float(input(\"Enter the first number: \"))\n",
        "num2 = float(input(\"Enter the second number: \"))\n",
        "num3 = float(input(\"Enter the third number: \"))\n",
        "if num1 >= num2 and num1 >= num3:\n",
        "    largest = num1\n",
        "elif num2 >= num1 and num2 >= num3:\n",
        "    largest = num2\n",
        "else:\n",
        "    largest = num3\n",
        "print(\"The largest number is:\", largest)"
      ],
      "metadata": {
        "id": "g7g8rKt5iUKe"
      },
      "execution_count": null,
      "outputs": []
    },
    {
      "cell_type": "code",
      "source": [
        "# Q8: Check whether a character is a vowel or a consonant.\n",
        "character = input(\"Enter a character: \").lower()\n",
        "if character.isalpha() and len(character) == 1:\n",
        "    if character in 'aeiou':\n",
        "        print(\"It is a vowel.\")\n",
        "    else:\n",
        "        print(\"It is a consonant.\")\n",
        "else:\n",
        "    print(\"Invalid input.\")"
      ],
      "metadata": {
        "id": "6RlMjEBkiWLG"
      },
      "execution_count": null,
      "outputs": []
    },
    {
      "cell_type": "code",
      "source": [
        "# Q9: Calculate the total cost of a shopping cart based on discounts.\n",
        "total_price = float(input(\"Enter the total price of your items: \"))\n",
        "if total_price >= 100:\n",
        "    discount = total_price * 0.1\n",
        "else:\n",
        "    discount = 0\n",
        "final_price = total_price - discount\n",
        "print(\"Total cost after discount:\", final_price)"
      ],
      "metadata": {
        "id": "55oFinHhiYeh"
      },
      "execution_count": null,
      "outputs": []
    },
    {
      "cell_type": "code",
      "source": [
        "# Q10: Check if a given number is even or odd.\n",
        "number = int(input(\"Enter a number: \"))\n",
        "if number % 2 == 0:\n",
        "    print(\"It is an even number.\")\n",
        "else:\n",
        "    print(\"It is an odd number.\")\n"
      ],
      "metadata": {
        "id": "ckafmsX4Rl4U"
      },
      "execution_count": null,
      "outputs": []
    },
    {
      "cell_type": "code",
      "source": [
        "# Basic Level (Continued)\n",
        "\n",
        "# Q11: Check if a given character is an alphabet or not.\n",
        "character = input(\"Enter a character: \")\n",
        "if character.isalpha() and len(character) == 1:\n",
        "    print(\"It is an alphabet.\")\n",
        "else:\n",
        "    print(\"It is not an alphabet.\")"
      ],
      "metadata": {
        "id": "eCV9YQzHibna"
      },
      "execution_count": null,
      "outputs": []
    },
    {
      "cell_type": "code",
      "source": [
        "# Q12: Check if a given number is a multiple of 5.\n",
        "number = int(input(\"Enter a number: \"))\n",
        "if number % 5 == 0:\n",
        "    print(\"It is a multiple of 5.\")\n",
        "else:\n",
        "    print(\"It is not a multiple of 5.\")"
      ],
      "metadata": {
        "id": "AXSmyomqidkq"
      },
      "execution_count": null,
      "outputs": []
    },
    {
      "cell_type": "code",
      "source": [
        "\n",
        "# Q13: Determine if a given number is a perfect square.\n",
        "import math\n",
        "number = int(input(\"Enter a number: \"))\n",
        "if number >= 0 and math.isqrt(number) ** 2 == number:\n",
        "    print(\"It is a perfect square.\")\n",
        "else:\n",
        "    print(\"It is not a perfect square.\")"
      ],
      "metadata": {
        "id": "bL89l2gtifmv"
      },
      "execution_count": null,
      "outputs": []
    },
    {
      "cell_type": "code",
      "source": [
        "# Q14: Check if a given string is empty.\n",
        "string = input(\"Enter a string: \")\n",
        "if len(string) == 0:\n",
        "    print(\"The string is empty.\")\n",
        "else:\n",
        "    print(\"The string is not empty.\")"
      ],
      "metadata": {
        "id": "HQ_a2BnfihTp"
      },
      "execution_count": null,
      "outputs": []
    },
    {
      "cell_type": "code",
      "source": [
        "# Q15: Determine if a given year is a leap year and divisible by 4 but not by 100.\n",
        "year = int(input(\"Enter a year: \"))\n",
        "if year % 4 == 0 and (year % 100 != 0 or year % 400 == 0):\n",
        "    print(\"It is a leap year.\")\n",
        "else:\n",
        "    print(\"It is not a leap year.\")"
      ],
      "metadata": {
        "id": "yLQ60kXXiinG"
      },
      "execution_count": null,
      "outputs": []
    },
    {
      "cell_type": "code",
      "source": [
        "# Q16: Check if a character is an uppercase letter.\n",
        "character = input(\"Enter a character: \")\n",
        "if character.isalpha() and character.isupper() and len(character) == 1:\n",
        "    print(\"It is an uppercase letter.\")\n",
        "else:\n",
        "    print(\"It is not an uppercase letter.\")"
      ],
      "metadata": {
        "id": "zm4deHT6il25"
      },
      "execution_count": null,
      "outputs": []
    },
    {
      "cell_type": "code",
      "source": [
        "# Q17: Determine if a character is an alphanumeric character.\n",
        "character = input(\"Enter a character: \")\n",
        "if character.isalnum() and len(character) == 1:\n",
        "    print(\"It is an alphanumeric character.\")\n",
        "else:\n",
        "    print(\"It is not an alphanumeric character.\")"
      ],
      "metadata": {
        "id": "OXnYMl0kimn_"
      },
      "execution_count": null,
      "outputs": []
    },
    {
      "cell_type": "code",
      "source": [
        "# Q18: Check if a character is a digit.\n",
        "character = input(\"Enter a character: \")\n",
        "if character.isdigit() and len(character) == 1:\n",
        "    print(\"It is a digit.\")\n",
        "else:\n",
        "    print(\"It is not a digit.\")"
      ],
      "metadata": {
        "id": "p9eZ1S2VioHR"
      },
      "execution_count": null,
      "outputs": []
    },
    {
      "cell_type": "code",
      "source": [
        "# Q19: Determine if a character is a special character (not alphanumeric).\n",
        "character = input(\"Enter a character: \")\n",
        "if not character.isalnum() and len(character) == 1:\n",
        "    print(\"It is a special character.\")\n",
        "else:\n",
        "    print(\"It is not a special character.\")"
      ],
      "metadata": {
        "id": "Hr42Ca3AiqDN"
      },
      "execution_count": null,
      "outputs": []
    },
    {
      "cell_type": "code",
      "source": [
        "# Q20: Check if a year is a century year (divisible by 100).\n",
        "year = int(input(\"Enter a year: \"))\n",
        "if year % 100 == 0:\n",
        "    print(\"It is a century year.\")\n",
        "else:\n",
        "    print(\"It is not a century year.\")\n"
      ],
      "metadata": {
        "id": "rs4JsNoiS64P"
      },
      "execution_count": null,
      "outputs": []
    },
    {
      "cell_type": "code",
      "source": [
        "# Advanced Level\n",
        "\n",
        "# Q21: Calculate income tax based on income and tax brackets.\n",
        "income = float(input(\"Enter your income: \"))\n",
        "if income <= 0:\n",
        "    print(\"Income should be a positive number.\")\n",
        "else:\n",
        "    if income <= 18200:\n",
        "        tax = 0\n",
        "    elif income <= 45000:\n",
        "        tax = (income - 18200) * 0.19\n",
        "    elif income <= 120000:\n",
        "        tax = 5092 + (income - 45000) * 0.325\n",
        "    elif income <= 180000:\n",
        "        tax = 29467 + (income - 120000) * 0.37\n",
        "    else:\n",
        "        tax = 51667 + (income - 180000) * 0.45\n",
        "    print(f\"Income Tax: ${tax:.2f}\")"
      ],
      "metadata": {
        "id": "Db4hVWIoiuuc"
      },
      "execution_count": null,
      "outputs": []
    },
    {
      "cell_type": "code",
      "source": [
        "# Q22: Simulate a rock-paper-scissors game against the computer.\n",
        "import random\n",
        "choices = [\"rock\", \"paper\", \"scissors\"]\n",
        "user_choice = input(\"Enter your choice (rock/paper/scissors): \").lower()\n",
        "computer_choice = random.choice(choices)\n",
        "if user_choice in choices:\n",
        "    if user_choice == computer_choice:\n",
        "        print(f\"Computer chose {computer_choice}. It's a tie!\")\n",
        "    elif (user_choice == \"rock\" and computer_choice == \"scissors\") or \\\n",
        "         (user_choice == \"scissors\" and computer_choice == \"paper\") or \\\n",
        "         (user_choice == \"paper\" and computer_choice == \"rock\"):\n",
        "        print(f\"Computer chose {computer_choice}. You win!\")\n",
        "    else:\n",
        "        print(f\"Computer chose {computer_choice}. Computer wins!\")\n",
        "else:\n",
        "    print(\"Invalid choice. Please choose rock, paper, or scissors.\")"
      ],
      "metadata": {
        "id": "tcMEE6noiwkC"
      },
      "execution_count": null,
      "outputs": []
    },
    {
      "cell_type": "code",
      "source": [
        "# Q23: Generate a random password based on user preferences.\n",
        "import random\n",
        "import string\n",
        "\n",
        "length = int(input(\"Enter the password length: \"))\n",
        "use_lowercase = input(\"Include lowercase letters? (yes/no): \").lower()\n",
        "use_uppercase = input(\"Include uppercase letters? (yes/no): \").lower()\n",
        "use_digits = input(\"Include digits? (yes/no): \").lower()\n",
        "use_special_chars = input(\"Include special characters? (yes/no): \").lower()\n",
        "\n",
        "characters = \"\"\n",
        "if use_lowercase == \"yes\":\n",
        "    characters += string.ascii_lowercase\n",
        "if use_uppercase == \"yes\":\n",
        "    characters += string.ascii_uppercase\n",
        "if use_digits == \"yes\":\n",
        "    characters += string.digits\n",
        "if use_special_chars == \"yes\":\n",
        "    characters += string.punctuation\n",
        "\n",
        "if characters == \"\":\n",
        "    print(\"No character set selected. Cannot generate password.\")\n",
        "else:\n",
        "    password = ''.join(random.choice(characters) for _ in range(length))\n",
        "    print(\"Generated Password:\", password)"
      ],
      "metadata": {
        "id": "BCzXutPSiyOz"
      },
      "execution_count": null,
      "outputs": []
    },
    {
      "cell_type": "code",
      "source": [
        "# Q24: Implement a text-based adventure game.\n",
        "print(\"Welcome to the Adventure Game!\")\n",
        "print(\"You find yourself in a dark forest.\")\n",
        "choice = input(\"Do you go 'left' or 'right'? \").lower()\n",
        "if choice == \"left\":\n",
        "    print(\"You find a treasure chest and become rich!\")\n",
        "elif choice == \"right\":\n",
        "    print(\"You encounter a dragon and become its lunch!\")\n",
        "else:\n",
        "    print(\"Invalid choice. You're lost in the forest!\")"
      ],
      "metadata": {
        "id": "ayKqThb9i03U"
      },
      "execution_count": null,
      "outputs": []
    },
    {
      "cell_type": "code",
      "source": [
        "\n",
        "# Q25: Solve a linear equation for x.\n",
        "a = float(input(\"Enter the coefficient a: \"))\n",
        "b = float(input(\"Enter the coefficient b: \"))\n",
        "if a == 0:\n",
        "    if b == 0:\n",
        "        print(\"Infinite solutions.\")\n",
        "    else:\n",
        "        print(\"No solution.\")\n",
        "else:\n",
        "    x = -b / a\n",
        "    print(f\"The solution for x is: {x}\")"
      ],
      "metadata": {
        "id": "pGskMWY8i2j6"
      },
      "execution_count": null,
      "outputs": []
    },
    {
      "cell_type": "code",
      "source": [
        "# Q26: Simulate a basic quiz game with multiple-choice questions and scoring.\n",
        "score = 0\n",
        "print(\"Welcome to the Quiz!\")\n",
        "print(\"Question 1: What is the capital of France?\")\n",
        "print(\"A) London\")\n",
        "print(\"B) Paris\")\n",
        "print(\"C) Berlin\")\n",
        "answer = input(\"Your answer (A/B/C): \").upper()\n",
        "if answer == \"B\":\n",
        "    score += 1\n",
        "\n",
        "print(\"Question 2: What is 2 + 2?\")\n",
        "print(\"A) 3\")\n",
        "print(\"B) 4\")\n",
        "print(\"C) 5\")\n",
        "answer = input(\"Your answer (A/B/C): \").upper()\n",
        "if answer == \"B\":\n",
        "    score += 1\n",
        "\n",
        "print(f\"Your score is: {score}\")"
      ],
      "metadata": {
        "id": "QNpzWNhji4PA"
      },
      "execution_count": null,
      "outputs": []
    },
    {
      "cell_type": "code",
      "source": [
        "# Q27: Determine if a year is prime or not.\n",
        "year = int(input(\"Enter a year: \"))\n",
        "if year < 2:\n",
        "    print(\"Not a prime year.\")\n",
        "else:\n",
        "    is_prime = True\n",
        "    for i in range(2, int(year**0.5) + 1):\n",
        "        if year % i == 0:\n",
        "            is_prime = False\n",
        "            break\n",
        "    if is_prime:\n",
        "        print(\"Prime year.\")\n",
        "    else:\n",
        "        print(\"Not a prime year.\")"
      ],
      "metadata": {
        "id": "4hWexupwi6qg"
      },
      "execution_count": null,
      "outputs": []
    },
    {
      "cell_type": "code",
      "source": [
        "# Q28: Sort three numbers in ascending order.\n",
        "a = float(input(\"Enter the first number: \"))\n",
        "b = float(input(\"Enter the second number: \"))\n",
        "c = float(input(\"Enter the third number: \"))\n",
        "if a <= b <= c:\n",
        "    print(a, b, c)\n",
        "elif a <= c <= b:\n",
        "    print(a, c, b)\n",
        "elif b <= a <= c:\n",
        "    print(b, a, c)\n",
        "elif b <= c <= a:\n",
        "    print(b, c, a)\n",
        "elif c <= a <= b:\n",
        "    print(c, a, b)\n",
        "else:\n",
        "    print(c, b, a)"
      ],
      "metadata": {
        "id": "lXL2V6sxi89c"
      },
      "execution_count": null,
      "outputs": []
    },
    {
      "cell_type": "code",
      "source": [
        "# Q29: Determine the roots of a quartic equation.\n",
        "import math\n",
        "a = float(input(\"Enter the coefficient a: \"))\n",
        "b = float(input(\"Enter the coefficient b: \"))\n",
        "c = float(input(\"Enter the coefficient c: \"))\n",
        "d = float(input(\"Enter the coefficient d: \"))\n",
        "e = float(input(\"Enter the constant term e: \"))\n",
        "# Quartic equation: ax^4 + bx^3 + cx^2 + dx + e = 0\n",
        "\n",
        "def solve_quartic(a, b, c, d, e):\n",
        "    # Implementation of quartic root solver goes here\n",
        "    # This is a complex numerical problem and requires advanced math techniques.\n",
        "    # We'll leave it as a placeholder for a numerical method such as Newton's method.\n",
        "\n",
        "    return None\n",
        "\n",
        "roots = solve_quartic(a, b, c, d, e)\n",
        "if roots is not None:\n",
        "    print(f\"Roots of the quartic equation: {roots}\")\n",
        "else:\n",
        "    print(\"Unable to find real roots.\")"
      ],
      "metadata": {
        "id": "F_me87s9i_pX"
      },
      "execution_count": null,
      "outputs": []
    },
    {
      "cell_type": "code",
      "source": [
        "# Q30: Calculate BMI and provide health recommendations.\n",
        "weight = float(input(\"Enter your weight in kilograms: \"))\n",
        "height = float(input(\"Enter your height in meters: \"))\n",
        "bmi = weight / (height ** 2)\n",
        "\n",
        "print(f\"Your BMI is: {bmi:.2f}\")\n",
        "\n",
        "if bmi < 18.5:\n",
        "    print(\"You are underweight.\")\n",
        "    print(\"Recommendation: Increase your calorie intake and consider consulting a doctor.\")\n",
        "elif 18.5 <= bmi < 24.9:\n",
        "    print(\"You have a healthy weight.\")\n",
        "    print(\"Recommendation: Maintain a balanced diet and exercise regularly.\")\n",
        "elif 24.9 <= bmi < 29.9:\n",
        "    print(\"You are overweight.\")\n",
        "    print(\"Recommendation: Focus on a balanced diet and engage in regular physical activity.\")\n",
        "else:\n",
        "    print(\"You are obese.\")\n",
        "    print(\"Recommendation: Consult a healthcare professional for guidance on weight management.\")"
      ],
      "metadata": {
        "id": "6ssi_HFGTLvI"
      },
      "execution_count": null,
      "outputs": []
    },
    {
      "cell_type": "code",
      "source": [
        "# Challenge Level\n",
        "\n",
        "# Q31: Validate a password based on complexity rules.\n",
        "import re\n",
        "\n",
        "def is_valid_password(password):\n",
        "    # Check password length (at least 8 characters)\n",
        "    if len(password) < 8:\n",
        "        return False\n",
        "\n",
        "    # Check for at least one uppercase letter, one lowercase letter, and one digit\n",
        "    if not re.search(r'[A-Z]', password) or \\\n",
        "       not re.search(r'[a-z]', password) or \\\n",
        "       not re.search(r'\\d', password):\n",
        "        return False\n",
        "\n",
        "    # Check for at least one special character\n",
        "    if not re.search(r'[!@#$%^&*(),.?\":{}|<>]', password):\n",
        "        return False\n",
        "\n",
        "    return True\n",
        "\n",
        "password = input(\"Enter a password: \")\n",
        "if is_valid_password(password):\n",
        "    print(\"Valid password.\")\n",
        "else:\n",
        "    print(\"Invalid password.\")"
      ],
      "metadata": {
        "id": "W_Kmay6bjFIw"
      },
      "execution_count": null,
      "outputs": []
    },
    {
      "cell_type": "code",
      "source": [
        "# Q32: Perform matrix addition and subtraction.\n",
        "def matrix_addition(A, B):\n",
        "    if len(A) != len(B) or len(A[0]) != len(B[0]):\n",
        "        return None\n",
        "    result = []\n",
        "    for i in range(len(A)):\n",
        "        row = []\n",
        "        for j in range(len(A[0])):\n",
        "            row.append(A[i][j] + B[i][j])\n",
        "        result.append(row)\n",
        "    return result\n",
        "\n",
        "def matrix_subtraction(A, B):\n",
        "    if len(A) != len(B) or len(A[0]) != len(B[0]):\n",
        "        return None\n",
        "    result = []\n",
        "    for i in range(len(A)):\n",
        "        row = []\n",
        "        for j in range(len(A[0])):\n",
        "            row.append(A[i][j] - B[i][j])\n",
        "        result.append(row)\n",
        "    return result\n",
        "\n",
        "# Example matrices\n",
        "matrix1 = [[1, 2], [3, 4]]\n",
        "matrix2 = [[4, 3], [2, 1]]\n",
        "\n",
        "print(\"Matrix Addition:\")\n",
        "add_result = matrix_addition(matrix1, matrix2)\n",
        "if add_result:\n",
        "    for row in add_result:\n",
        "        print(row)\n",
        "\n",
        "print(\"\\nMatrix Subtraction:\")\n",
        "sub_result = matrix_subtraction(matrix1, matrix2)\n",
        "if sub_result:\n",
        "    for row in sub_result:\n",
        "        print(row)"
      ],
      "metadata": {
        "id": "dcV7q6LtjIom"
      },
      "execution_count": null,
      "outputs": []
    },
    {
      "cell_type": "code",
      "source": [
        "# Q33: Calculate the greatest common divisor (GCD) using the Euclidean algorithm.\n",
        "def gcd(a, b):\n",
        "    while b:\n",
        "        a, b = b, a % b\n",
        "    return a\n",
        "\n",
        "num1 = int(input(\"Enter the first number: \"))\n",
        "num2 = int(input(\"Enter the second number: \"))\n",
        "result = gcd(num1, num2)\n",
        "print(f\"GCD of {num1} and {num2} is {result}\")"
      ],
      "metadata": {
        "id": "FTc9j_DRjMls"
      },
      "execution_count": null,
      "outputs": []
    },
    {
      "cell_type": "code",
      "source": [
        "# Q34: Perform matrix multiplication.\n",
        "def matrix_multiplication(A, B):\n",
        "    if len(A[0]) != len(B):\n",
        "        return None\n",
        "    result = []\n",
        "    for i in range(len(A)):\n",
        "        row = []\n",
        "        for j in range(len(B[0])):\n",
        "            row.append(sum(A[i][k] * B[k][j] for k in range(len(A[0]))))\n",
        "        result.append(row)\n",
        "    return result\n",
        "\n",
        "# Example matrices\n",
        "matrix3 = [[1, 2], [3, 4]]\n",
        "matrix4 = [[4, 3], [2, 1]]\n",
        "\n",
        "print(\"\\nMatrix Multiplication:\")\n",
        "mult_result = matrix_multiplication(matrix3, matrix4)\n",
        "if mult_result:\n",
        "    for row in mult_result:\n",
        "        print(row)"
      ],
      "metadata": {
        "id": "-6XS67mojOrF"
      },
      "execution_count": null,
      "outputs": []
    },
    {
      "cell_type": "code",
      "source": [
        "# Q35: Simulate a text-based Tic-Tac-Toe game against the computer.\n",
        "import random\n",
        "\n",
        "def print_board(board):\n",
        "    for row in board:\n",
        "        print(\" | \".join(row))\n",
        "        print(\"-\" * 9)\n",
        "\n",
        "def is_winner(board, player):\n",
        "    for row in board:\n",
        "        if all(cell == player for cell in row):\n",
        "            return True\n",
        "    for col in range(3):\n",
        "        if all(row[col] == player for row in board):\n",
        "            return True\n",
        "    if all(board[i][i] == player for i in range(3)) or \\\n",
        "       all(board[i][2 - i] == player for i in range(3)):\n",
        "        return True\n",
        "    return False\n",
        "\n",
        "def is_full(board):\n",
        "    return all(cell != ' ' for row in board for cell in row)\n",
        "\n",
        "def get_empty_cells(board):\n",
        "    return [(i, j) for i in range(3) for j in range(3) if board[i][j] == ' ']\n",
        "\n",
        "def computer_move(board):\n",
        "    empty_cells = get_empty_cells(board)\n",
        "    return random.choice(empty_cells)\n",
        "\n",
        "def play_tic_tac_toe():\n",
        "    board = [[' ' for _ in range(3)] for _ in range(3)]\n",
        "    current_player = 'X'\n",
        "\n",
        "    print(\"Welcome to Tic-Tac-Toe!\")\n",
        "    print_board(board)\n",
        "\n",
        "    while True:\n",
        "        if current_player == 'X':\n",
        "            row, col = map(int, input(\"Enter your move (row col): \").split())\n",
        "        else:\n",
        "            print(\"Computer is making a move...\")\n",
        "            row, col = computer_move(board)\n",
        "        if board[row][col] == ' ':\n",
        "            board[row][col] = current_player\n",
        "        else:\n",
        "            print(\"Invalid move. Try again.\")\n",
        "            continue\n",
        "\n",
        "        print_board(board)\n",
        "\n",
        "        if is_winner(board, current_player):\n",
        "            print(f\"{current_player} wins!\")\n",
        "            break\n",
        "        elif is_full(board):\n",
        "            print(\"It's a draw!\")\n",
        "            break\n",
        "\n",
        "        current_player = 'O' if current_player == 'X' else 'X'\n",
        "\n",
        "play_tic_tac_toe()"
      ],
      "metadata": {
        "id": "hbgB_ZlCjUyO"
      },
      "execution_count": null,
      "outputs": []
    },
    {
      "cell_type": "code",
      "source": [
        "# Q36: Generate Fibonacci numbers up to a specified term using iterative methods.\n",
        "def generate_fibonacci(n):\n",
        "    fibonacci = [0, 1]\n",
        "    while len(fibonacci) < n:\n",
        "        next_num = fibonacci[-1] + fibonacci[-2]\n",
        "        fibonacci.append(next_num)\n",
        "    return fibonacci\n",
        "\n",
        "n = int(input(\"Enter the number of Fibonacci terms to generate: \"))\n",
        "fibonacci_series = generate_fibonacci(n)\n",
        "print(\"Fibonacci Series:\")\n",
        "print(fibonacci_series)"
      ],
      "metadata": {
        "id": "WnhxSqezjdC9"
      },
      "execution_count": null,
      "outputs": []
    },
    {
      "cell_type": "code",
      "source": [
        "# Q37: Calculate the nth term of the Fibonacci sequence using memoization.\n",
        "memo = {}\n",
        "\n",
        "def fibonacci_memo(n):\n",
        "    if n in memo:\n",
        "        return memo[n]\n",
        "    if n <= 1:\n",
        "        return n\n",
        "    result = fibonacci_memo(n - 1) + fibonacci_memo(n - 2)\n",
        "    memo[n] = result\n",
        "    return result\n",
        "\n",
        "n = int(input(\"Enter the value of n: \"))\n",
        "result = fibonacci_memo(n)\n",
        "print(f\"The {n}-th Fibonacci number is: {result}\")"
      ],
      "metadata": {
        "id": "o5W79JcljfGd"
      },
      "execution_count": null,
      "outputs": []
    },
    {
      "cell_type": "code",
      "source": [
        "# Q38: Generate a calendar for a given month and year using conditional statements.\n",
        "import calendar\n",
        "\n",
        "year = int(input(\"Enter the year: \"))\n",
        "month = int(input(\"Enter the month (1-12): \"))\n",
        "\n",
        "cal = calendar.month(year, month)\n",
        "print(f\"Calendar for {calendar.month_name[month]} {year}:\\n\")\n",
        "print(cal)\n",
        "\n",
        "\n"
      ],
      "metadata": {
        "id": "ZjYQxDXrT9bg"
      },
      "execution_count": null,
      "outputs": []
    },
    {
      "cell_type": "code",
      "source": [
        "# Q39: Simulate a text-based Blackjack game against the computer.\n",
        "import random\n",
        "\n",
        "# Function to deal a card\n",
        "def deal_card():\n",
        "    card = random.randint(1, 11)\n",
        "    return card\n",
        "\n",
        "# Function to calculate the total value of a hand\n",
        "def calculate_hand_value(hand):\n",
        "    # Handle Ace as 1 or 11\n",
        "    if 11 in hand and sum(hand) > 21:\n",
        "        hand.remove(11)\n",
        "        hand.append(1)\n",
        "    return sum(hand)\n",
        "\n",
        "# Function to display the current hands\n",
        "def display_hands(player_hand, computer_hand):\n",
        "    print(f\"Your cards: {player_hand}, current total: {calculate_hand_value(player_hand)}\")\n",
        "    print(f\"Computer's first card: {computer_hand[0]}\")\n",
        "\n",
        "# Function to play the game\n",
        "def play_blackjack():\n",
        "    print(\"Welcome to Blackjack!\")\n",
        "\n",
        "    player_hand = [deal_card(), deal_card()]\n",
        "    computer_hand = [deal_card(), deal_card()]\n",
        "    game_over = False\n",
        "\n",
        "    while not game_over:\n",
        "        # Display current hands\n",
        "        display_hands(player_hand, computer_hand)\n",
        "\n",
        "        # Check for blackjack or bust\n",
        "        if calculate_hand_value(player_hand) == 21 or calculate_hand_value(computer_hand) == 21 or calculate_hand_value(player_hand) > 21:\n",
        "            game_over = True\n",
        "        else:\n",
        "            choice = input(\"Type 'y' to get another card, 'n' to pass: \")\n",
        "            if choice == 'y':\n",
        "                player_hand.append(deal_card())\n",
        "            else:\n",
        "                game_over = True\n",
        "\n",
        "    # Computer's turn\n",
        "    while calculate_hand_value(computer_hand) < 17:\n",
        "        computer_hand.append(deal_card())\n",
        "\n",
        "    # Display the final hands\n",
        "    display_hands(player_hand, computer_hand)\n",
        "\n",
        "    # Determine the winner\n",
        "    player_score = calculate_hand_value(player_hand)\n",
        "    computer_score = calculate_hand_value(computer_hand)\n",
        "\n",
        "    if player_score > 21:\n",
        "        print(\"Bust! You went over 21. You lose.\")\n",
        "    elif computer_score > 21:\n",
        "        print(\"Computer busts! You win.\")\n",
        "    elif player_score == computer_score:\n",
        "        print(\"It's a tie!\")\n",
        "    elif player_score == 21:\n",
        "        print(\"Blackjack! You win.\")\n",
        "    elif computer_score == 21:\n",
        "        print(\"Computer got blackjack. You lose.\")\n",
        "    elif player_score > computer_score:\n",
        "        print(\"You win!\")\n",
        "    else:\n",
        "        print(\"Computer wins!\")\n",
        "\n",
        "# Start the game\n",
        "play_blackjack()\n"
      ],
      "metadata": {
        "id": "0fg6EyqqWcRQ"
      },
      "execution_count": null,
      "outputs": []
    },
    {
      "cell_type": "code",
      "source": [
        "#40. Write a program that generates the prime factors of a given number using trial division.\n",
        "\n",
        "def prime_factors(n):\n",
        "    factors = []\n",
        "    divisor = 2\n",
        "\n",
        "    while n > 1:\n",
        "        while n % divisor == 0:\n",
        "            factors.append(divisor)\n",
        "            n //= divisor\n",
        "        divisor += 1\n",
        "\n",
        "    return factors\n",
        "\n",
        "# Input a number from the user\n",
        "try:\n",
        "    num = int(input(\"Enter a positive integer: \"))\n",
        "    if num < 2:\n",
        "        print(\"Please enter a positive integer greater than or equal to 2.\")\n",
        "    else:\n",
        "        factors = prime_factors(num)\n",
        "        if len(factors) == 1:\n",
        "            print(f\"{num} is a prime number.\")\n",
        "        else:\n",
        "            print(f\"The prime factors of {num} are: {', '.join(map(str, factors))}\")\n",
        "except ValueError:\n",
        "    print(\"Invalid input. Please enter a positive integer.\")\n"
      ],
      "metadata": {
        "id": "9o2UPqiuWtz4"
      },
      "execution_count": null,
      "outputs": []
    }
  ]
}