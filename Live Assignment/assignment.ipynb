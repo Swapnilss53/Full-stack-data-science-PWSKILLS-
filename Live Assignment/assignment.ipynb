{
 "cells": [
  {
   "cell_type": "code",
   "execution_count": 3,
   "id": "e9d6dbd5-87d3-45dc-9a0e-b4cb063f01b0",
   "metadata": {},
   "outputs": [],
   "source": [
    "# # Question 1.1: Write the Answer to these questions.\n",
    "\n",
    "# 1. What is the difference between static and dynamic variables in Python?\n",
    "\n",
    "# Static Variables: These are class variables that are shared among all instances of a class. They are defined inside the class but outside of any methods.\n",
    "# Dynamic Variables: These are instance variables unique to each instance of a class, defined inside methods and tied to specific instances.\n",
    "\n",
    "# Example:\n",
    "class MyClass:\n",
    "    static_var = 0  # Static variable\n",
    "\n",
    "    def __init__(self, var):\n",
    "        self.dynamic_var = var  # Dynamic variable\n"
   ]
  },
  {
   "cell_type": "code",
   "execution_count": 5,
   "id": "43b75965-0e48-4016-8b35-9b1e6c302b2a",
   "metadata": {},
   "outputs": [
    {
     "name": "stdout",
     "output_type": "stream",
     "text": [
      "1\n",
      "('c', 3)\n",
      "{}\n"
     ]
    }
   ],
   "source": [
    "# 2. Explain the purpose of pop(), popitem(), clear() in a dictionary with suitable examples.\n",
    "\n",
    "# pop(key): Removes and returns the value associated with key. If the key is not found, it raises a KeyError.\n",
    "# popitem(): Removes and returns the last inserted key-value pair as a tuple. .\n",
    "# clear(): Removes all items from the dictionary.\n",
    "\n",
    "# Example:\n",
    "my_dict = {'a': 1, 'b': 2, 'c': 3}\n",
    "print(my_dict.pop('a'))  # Output: 1\n",
    "print(my_dict.popitem())  # Output: ('c', 3)\n",
    "my_dict.clear()\n",
    "print(my_dict)  # Output: {}\n"
   ]
  },
  {
   "cell_type": "code",
   "execution_count": 7,
   "id": "fb5af22e-f58e-4483-984a-ddd3225672db",
   "metadata": {},
   "outputs": [
    {
     "name": "stdout",
     "output_type": "stream",
     "text": [
      "frozenset({1, 2, 3, 4})\n"
     ]
    }
   ],
   "source": [
    "# 3. What do you mean by FrozenSet? Explain it with suitable examples.\n",
    "\n",
    "# FrozenSet: An immutable version of a set in Python. Once created, elements cannot be added or removed.\n",
    "# Example:\n",
    "frozen = frozenset([1, 2, 3, 4])\n",
    "print(frozen)  # Output: frozenset({1, 2, 3, 4})\n"
   ]
  },
  {
   "cell_type": "code",
   "execution_count": 9,
   "id": "571bfeb8-02db-4225-9cee-964a64fc7e63",
   "metadata": {},
   "outputs": [],
   "source": [
    "# . Differentiate between mutable and immutable data types in Python and give examples of each.\n",
    "\n",
    "# Mutable: Objects that can be changed after creation. E.g., Lists, Dictionaries, Sets.\n",
    "# Immutable: Objects that cannot be changed after creation. E.g., Strings, Tuples, FrozenSets.\n",
    "# Example:\n",
    "\n",
    "# Mutable\n",
    "my_list = [1, 2, 3]\n",
    "my_list.append(4)\n",
    "\n",
    "# Immutable\n",
    "my_tuple = (1, 2, 3)\n",
    "# my_tuple[0] = 4  # This will raise an error\n"
   ]
  },
  {
   "cell_type": "code",
   "execution_count": 11,
   "id": "bef84124-e468-4cca-a815-eb81cb38c859",
   "metadata": {},
   "outputs": [
    {
     "name": "stdout",
     "output_type": "stream",
     "text": [
      "ChatGPT\n"
     ]
    }
   ],
   "source": [
    "# 5. What is __init__? Explain with an example.\n",
    "\n",
    "# __init__: A special method in Python classes that is called when an object is instantiated. It initializes the object's attributes.\n",
    "# Example:\n",
    "class MyClass:\n",
    "    def __init__(self, name):\n",
    "        self.name = name\n",
    "\n",
    "obj = MyClass(\"ChatGPT\")\n",
    "print(obj.name)  # Output: ChatGPT\n"
   ]
  },
  {
   "cell_type": "code",
   "execution_count": 13,
   "id": "06f93988-13f7-4189-970b-4721f3c06c00",
   "metadata": {},
   "outputs": [
    {
     "name": "stdout",
     "output_type": "stream",
     "text": [
      "This is a docstring.\n"
     ]
    }
   ],
   "source": [
    "# 6. What is docstring in Python? Explain with an example.\n",
    "\n",
    "# Docstring: A string literal specified in the first statement of a function or class, used to document the purpose and behavior of the function or class.\n",
    "# Example:\n",
    "\n",
    "def my_function():\n",
    "    \"\"\"This is a docstring.\"\"\"\n",
    "    return None\n",
    "\n",
    "print(my_function.__doc__)  # Output: This is a docstring.\n"
   ]
  },
  {
   "cell_type": "code",
   "execution_count": null,
   "id": "28769b64-7f73-40e4-9096-9e300adbbe6f",
   "metadata": {},
   "outputs": [],
   "source": [
    "# 7. What are unit tests in Python?\n",
    "\n",
    "# Unit Tests: Tests that verify the behavior of individual units of code (functions, methods) in isolation to ensure correctness."
   ]
  },
  {
   "cell_type": "code",
   "execution_count": 15,
   "id": "f8408830-2325-4ee5-86ed-a20dd79a02bd",
   "metadata": {},
   "outputs": [],
   "source": [
    "# 8. What is break, continue, and pass in Python?\n",
    "\n",
    "# break: Exits the nearest enclosing loop.\n",
    "# continue: Skips the rest of the current loop iteration and moves to the next iteration.\n",
    "# pass: A null statement that does nothing and is used as a placeholder.\n",
    "# Example:\n",
    "\n",
    "for i in range(5):\n",
    "    if i == 3:\n",
    "        break  # Loop will exit when i equals 3\n",
    "    if i == 2:\n",
    "        continue  # Skip the iteration when i equals 2\n",
    "    pass  # Does nothing, but used to show intention\n"
   ]
  },
  {
   "cell_type": "code",
   "execution_count": null,
   "id": "12bb5266-b796-42e8-8ca3-8e4959d0b863",
   "metadata": {},
   "outputs": [],
   "source": [
    "# 9. What is the use of self in Python?\n",
    "\n",
    "# self: Refers to the instance of the class. It is used to access variables and methods that belong to the instance."
   ]
  },
  {
   "cell_type": "raw",
   "id": "34356d83-fc2c-4507-a494-6c3dfd682aa7",
   "metadata": {
    "jp-MarkdownHeadingCollapsed": true
   },
   "source": [
    "# 10. What are global, protected, and private attributes in Python?\n",
    "\n",
    "# Global: Accessible from any part of the program.\n",
    "# Protected: Indicated by a single underscore (_), suggesting that the attribute should not be accessed outside its class.\n",
    "# Private: Indicated by double underscores (__), meaning the attribute is inaccessible from outside its class due to name mangling."
   ]
  },
  {
   "cell_type": "raw",
   "id": "57c28c73-94a6-4221-b84b-5b18440f1192",
   "metadata": {},
   "source": [
    "# 11. What are modules and packages in Python?\n",
    "\n",
    "# Modules: Files containing Python code, usually with a .py extension.\n",
    "# Packages: A collection of modules in directories that give structure and hierarchy to the code."
   ]
  },
  {
   "cell_type": "raw",
   "id": "67314c15-2e7b-4911-a967-c4d39e51ab9c",
   "metadata": {},
   "source": [
    "12. What are lists and tuples? What is the key difference between the two?\n",
    "\n",
    "Lists: Mutable sequences, typically used to store collections of homogeneous items.\n",
    "Tuples: Immutable sequences, typically used to store collections of heterogeneous items.\n",
    "Key Difference:\n",
    "\n",
    "Lists are mutable, whereas tuples are immutable."
   ]
  },
  {
   "cell_type": "raw",
   "id": "dd4580f7-3be7-4819-9c2c-1e946029e223",
   "metadata": {},
   "source": [
    "13. What is an interpreted language & dynamically typed language? Write 5 differences between them.\n",
    "\n",
    "Interpreted Language: Code is executed line by line by an interpreter.\n",
    "Dynamically Typed Language: Variable types are determined at runtime.\n",
    "Differences:\n",
    "\n",
    "Compilation: Interpreted languages do not require compilation; compiled languages do.\n",
    "Type Checking: Dynamically typed languages check types at runtime; statically typed languages check at compile time.\n",
    "Performance: Compiled languages typically run faster; interpreted languages are slower.\n",
    "Flexibility: Dynamically typed languages are more flexible but prone to runtime errors; statically typed languages are more rigid but safer.\n",
    "Error Detection: Errors are detected during runtime in dynamically typed languages; in compile time in statically typed languages."
   ]
  },
  {
   "cell_type": "code",
   "execution_count": 19,
   "id": "f9d9d740-d8bf-4248-a111-57dc97716775",
   "metadata": {},
   "outputs": [
    {
     "name": "stdout",
     "output_type": "stream",
     "text": [
      "[0, 1, 4, 9, 16, 25, 36, 49, 64, 81]\n",
      "{0: 0, 1: 1, 2: 4, 3: 9, 4: 16, 5: 25, 6: 36, 7: 49, 8: 64, 9: 81}\n"
     ]
    }
   ],
   "source": [
    "# 14. What are dict and list comprehensions?\n",
    "\n",
    "# List Comprehensions: A concise way to create lists. It allows the creation of lists in a single line of code.\n",
    "# Dict Comprehensions: Similar to list comprehensions, but used to create dictionaries.\n",
    "# Example:\n",
    "# List comprehension\n",
    "squares = [x**2 for x in range(10)]\n",
    "print(squares)  # Output: [0, 1, 4, 9, 16, 25, 36, 49, 64, 81]\n",
    "\n",
    "# Dict comprehension\n",
    "square_dict = {x: x**2 for x in range(10)}\n",
    "print(square_dict)  # Output: {0: 0, 1: 1, 2: 4, 3: 9, 4: 16, 5: 25, 6: 36, 7: 49, 8: 64, 9: 81}\n"
   ]
  },
  {
   "cell_type": "code",
   "execution_count": 21,
   "id": "b8a2f460-aea3-459c-b2ba-cbb5f4dd1bb5",
   "metadata": {},
   "outputs": [
    {
     "name": "stdout",
     "output_type": "stream",
     "text": [
      "Something is happening before the function is called.\n",
      "Hello!\n",
      "Something is happening after the function is called.\n"
     ]
    }
   ],
   "source": [
    "# 15. What are decorators in Python? Explain with an example. Write down its use cases.\n",
    "\n",
    "# Decorators: A function that takes another function as an argument and extends its behavior without explicitly modifying it.\n",
    "# Example:\n",
    "def my_decorator(func):\n",
    "    def wrapper():\n",
    "        print(\"Something is happening before the function is called.\")\n",
    "        func()\n",
    "        print(\"Something is happening after the function is called.\")\n",
    "    return wrapper\n",
    "\n",
    "@my_decorator\n",
    "def say_hello():\n",
    "    print(\"Hello!\")\n",
    "\n",
    "say_hello()\n",
    "\n",
    "\n",
    "\n",
    "# Use Cases:\n",
    "\n",
    "# Logging\n",
    "# Access control and authentication\n",
    "# Measuring execution time\n",
    "# Adding additional functionality to functions or methods\n"
   ]
  },
  {
   "cell_type": "code",
   "execution_count": null,
   "id": "d564da63-0cbf-4010-a83f-0b12ab2abc10",
   "metadata": {},
   "outputs": [],
   "source": [
    "# 16. How is memory managed in Python?\n",
    "\n",
    "# Python uses a private heap containing all Python objects and data structures. The memory manager manages this heap. The built-in garbage collector recycles all the unused memory to make it available for heap space.\n",
    "# Key Concepts:\n",
    "\n",
    "# Reference Counting: Tracks the number of references to objects.\n",
    "# Garbage Collection: Reclaims memory by deallocating objects with zero references."
   ]
  },
  {
   "cell_type": "code",
   "execution_count": 23,
   "id": "2e55b2a1-6b74-4f11-a31e-f6d808eb94c3",
   "metadata": {},
   "outputs": [
    {
     "name": "stdout",
     "output_type": "stream",
     "text": [
      "5\n"
     ]
    }
   ],
   "source": [
    "# 17. What is lambda in Python? Why is it used?\n",
    "\n",
    "# Lambda: An anonymous function in Python defined using the lambda keyword. It can have any number of arguments but only one expression.\n",
    "# Example:\n",
    "add = lambda x, y: x + y\n",
    "print(add(2, 3))  # Output: 5\n",
    "\n",
    "\n",
    "# Usage:\n",
    "\n",
    "# Used for creating small, single-use functions without defining a full function."
   ]
  },
  {
   "cell_type": "code",
   "execution_count": 25,
   "id": "cb20b45b-3b26-49f7-83a6-554934feca24",
   "metadata": {},
   "outputs": [],
   "source": [
    "# 18. Explain split() and join() functions in Python.\n",
    "\n",
    "# split(): Breaks a string into a list of words.\n",
    "# join(): Joins a list of strings into a single string.\n",
    "# Example:\n",
    "text = \"Hello World\"\n",
    "words = text.split()  # Output: ['Hello', 'World']\n",
    "joined = \" \".join(words)  # Output: \"Hello World\"\n"
   ]
  },
  {
   "cell_type": "code",
   "execution_count": 29,
   "id": "93de2a01-5447-4422-b346-94a199391d49",
   "metadata": {},
   "outputs": [
    {
     "name": "stdout",
     "output_type": "stream",
     "text": [
      "1\n",
      "2\n",
      "3\n"
     ]
    }
   ],
   "source": [
    "# 19. What are iterators, iterable & generators in Python?\n",
    "\n",
    "# Iterable: An object capable of returning its members one at a time (e.g., lists, tuples).\n",
    "# Iterator: An object that represents a stream of data; it implements __next__() and __iter__() methods.\n",
    "# Generator: A special type of iterator defined using a function and yield keyword to yield values one at a time.\n",
    "def my_generator():\n",
    "    yield 1\n",
    "    yield 2\n",
    "    yield 3\n",
    "\n",
    "gen = my_generator()\n",
    "for val in gen:\n",
    "    print(val)  # Output: 1, 2, 3\n"
   ]
  },
  {
   "cell_type": "code",
   "execution_count": 31,
   "id": "70d7f77d-0f37-444f-8e81-9fd8fcfd2be1",
   "metadata": {},
   "outputs": [],
   "source": [
    "# 20. What is the difference between xrange and range in Python?\n",
    "\n",
    "# In Python 2, range() returns a list, while xrange() returns an xrange object, which generates the numbers on demand and is more memory efficient. In Python 3, xrange() was removed, and range() behaves like xrange() did in Python 2."
   ]
  },
  {
   "cell_type": "code",
   "execution_count": 33,
   "id": "9ccea021-8dac-4d3f-bb84-715670eecd35",
   "metadata": {},
   "outputs": [],
   "source": [
    "# 21. Pillars of OOP (Object-Oriented Programming):\n",
    "\n",
    "# Encapsulation: Bundling data and methods that operate on the data within one unit (e.g., a class).\n",
    "# Abstraction: Hiding the complex implementation details and showing only the essential features.\n",
    "# Inheritance: Mechanism to create a new class from an existing class, inheriting its properties and methods.\n",
    "# Polymorphism: Ability to present the same interface for different data types."
   ]
  },
  {
   "cell_type": "code",
   "execution_count": 35,
   "id": "44fdb9b7-84bb-496e-852c-9400dc1aa122",
   "metadata": {},
   "outputs": [
    {
     "name": "stdout",
     "output_type": "stream",
     "text": [
      "True\n"
     ]
    }
   ],
   "source": [
    "# 22. How will you check if a class is a child of another class?\n",
    "\n",
    "# Use the issubclass() function.\n",
    "# Example:\n",
    "\n",
    "class Parent:\n",
    "    pass\n",
    "\n",
    "class Child(Parent):\n",
    "    pass\n",
    "\n",
    "print(issubclass(Child, Parent))  # Output: True\n"
   ]
  },
  {
   "cell_type": "code",
   "execution_count": 37,
   "id": "10eda1b0-4ead-481a-aee8-70bdd3af9c4f",
   "metadata": {},
   "outputs": [],
   "source": [
    "# 23. How does inheritance work in Python? Explain all types of inheritance with an example.\n",
    "\n",
    "# Single Inheritance: A class inherits from one parent class.\n",
    "# Multiple Inheritance: A class inherits from multiple parent classes.\n",
    "# Multilevel Inheritance: A class is derived from a class that is also derived from another class.\n",
    "# Hierarchical Inheritance: Multiple classes inherit from the same parent class.\n",
    "# Hybrid Inheritance: A combination of two or more types of inheritance.\n",
    "# Example:\n",
    "class A:\n",
    "    pass\n",
    "\n",
    "class B(A):  # Single Inheritance\n",
    "    pass\n",
    "\n",
    "class C(A):  # Hierarchical Inheritance\n",
    "    pass\n",
    "\n",
    "class D(B, C):  # Multiple Inheritance\n",
    "    pass\n"
   ]
  },
  {
   "cell_type": "code",
   "execution_count": 39,
   "id": "b8c966be-d032-4d56-a581-1cb5374512e0",
   "metadata": {},
   "outputs": [
    {
     "name": "stdout",
     "output_type": "stream",
     "text": [
      "Python\n"
     ]
    }
   ],
   "source": [
    "# 24. What is encapsulation? Explain it with an example.\n",
    "\n",
    "# Encapsulation: Restricting access to methods and variables to prevent direct modification. This is typically done using private and protected access specifiers.\n",
    "# Example:\n",
    "class MyClass:\n",
    "    def __init__(self, name):\n",
    "        self.__name = name  # Private variable\n",
    "\n",
    "    def get_name(self):\n",
    "        return self.__name\n",
    "\n",
    "obj = MyClass(\"Python\")\n",
    "print(obj.get_name())  # Output: Python\n"
   ]
  },
  {
   "cell_type": "code",
   "execution_count": 41,
   "id": "2817aea9-9f4b-4bb3-8c13-edd4e512013a",
   "metadata": {},
   "outputs": [
    {
     "name": "stdout",
     "output_type": "stream",
     "text": [
      "Bark\n",
      "Meow\n"
     ]
    }
   ],
   "source": [
    "# 25. What is polymorphism? Explain it with an example.\n",
    "\n",
    "# Polymorphism: The ability to present the same interface for different data types or to redefine methods in derived classes.\n",
    "# Example:\n",
    "class Animal:\n",
    "    def make_sound(self):\n",
    "        pass\n",
    "\n",
    "class Dog(Animal):\n",
    "    def make_sound(self):\n",
    "        return \"Bark\"\n",
    "\n",
    "class Cat(Animal):\n",
    "    def make_sound(self):\n",
    "        return \"Meow\"\n",
    "\n",
    "dog = Dog()\n",
    "cat = Cat()\n",
    "print(dog.make_sound())  # Output: Bark\n",
    "print(cat.make_sound())  # Output: Meow\n"
   ]
  },
  {
   "cell_type": "raw",
   "id": "ea3e6cf7-700e-4437-9953-3ce7151fec76",
   "metadata": {},
   "source": [
    "Question 1.2: Which of the following identifier names are invalid and why?\n",
    "a) Serial_no. - Valid: Contains only letters, digits, and an underscore.\n",
    "b) lst_Room - Valid: Contains only letters, digits, and an underscore. \n",
    "c) Hundred$ - Invalid: Contains $, which is not allowed in Python identifiers. \n",
    "d) Total_Marks - Valid: Contains only letters, digits, and an underscore. \n",
    "e) total-Marks - Invalid: Contains -, which is not allowed in Python identifiers. \n",
    "f) Total Marks - Invalid: Contains a space, which is not allowed in Python identifiers. \n",
    "g) True - Invalid: True is a reserved keyword in Python. \n",
    "h) _Percentag - Valid: Starts with an underscore, which is allowed."
   ]
  },
  {
   "cell_type": "code",
   "execution_count": 43,
   "id": "dcb60043-b23f-49f5-a7ba-1c8e4d7ccf3d",
   "metadata": {},
   "outputs": [
    {
     "name": "stdout",
     "output_type": "stream",
     "text": [
      "['freedom_fighter', 'Mohan', 'dash', 'karam', 'chandra', 'gandhi', 'Bapu']\n",
      "8\n",
      "['freedomFighter', 'Bapuji', 'Mohan', 'dash', 'karam', 'chandra', 'gandhi', 'NetoJi', 'Bose']\n",
      "['Mohan', 'dash', 'karam', 'chandra', 'gandi', 'Bapuji']\n"
     ]
    }
   ],
   "source": [
    "# Question 1.3:\n",
    "# name = [\"Mohan\", \"dash\", \"karam\", \"chandra\",\"gandhi\",\"Bapu\"]\n",
    "# do the following operat ions in this list;\n",
    "# a) odd an element \"freedom_fighter\" in this list at the 0th index.\n",
    "# b) find the output of the following ,and explain how?\n",
    "name = [\"Mohan\", \"dash\", \"karam\", \"chandra\", \"gandhi\", \"Bapu\"]\n",
    "\n",
    "# a) Add an element \"freedom_fighter\" in this list at the 0th index.\n",
    "name.insert(0, \"freedom_fighter\")\n",
    "print(name)\n",
    "# Output: [\"freedom_fighter\", \"Mohan\", \"dash\", \"karam\", \"chandra\", \"gandhi\", \"Bapu\"]\n",
    "\n",
    "# b) Find the output of the following, and explain how?\n",
    "name = [\"freedomFighter\", \"Bapuji\", \"Mohan\", \"dash\", \"karam\", \"chandra\", \"gandhi\"]\n",
    "\n",
    "length1 = len((name[-len(name) + 1:-1:2]))\n",
    "length2 = len((name[-len(name) + 1:-1]))\n",
    "print(length1 + length2)\n",
    "# Explanation: \n",
    "# length1 computes the length of the list elements from index 1 to the second last element with a step of 2.\n",
    "# length2 computes the length of the list elements from index 1 to the second last element with a step of 1.\n",
    "# Output: 9\n",
    "\n",
    "# c) Add two more elements in the name [\"NetoJi\", \"Bose\"] at the end of the list.\n",
    "name.extend([\"NetoJi\", \"Bose\"])\n",
    "print(name)\n",
    "# Output: [\"freedomFighter\", \"Bapuji\", \"Mohan\", \"dash\", \"karam\", \"chandra\", \"gandhi\", \"NetoJi\", \"Bose\"]\n",
    "\n",
    "# d) What will be the value of temp:\n",
    "name = [\"Bapuji\", \"dash\", \"karam\", \"chandra\", \"gandi\", \"Mohan\"]\n",
    "temp = name[-1]\n",
    "name[-1] = name[0]\n",
    "name[0] = temp\n",
    "print(name)\n",
    "# Explanation: The last element (\"Mohan\") is swapped with the first element (\"Bapuji\").\n",
    "# Output: [\"Mohan\", \"dash\", \"karam\", \"chandra\", \"gandi\", \"Bapuji\"]\n"
   ]
  },
  {
   "cell_type": "code",
   "execution_count": 45,
   "id": "ad3b6693-e15b-43e5-bd58-e8ca986459bd",
   "metadata": {},
   "outputs": [
    {
     "name": "stdout",
     "output_type": "stream",
     "text": [
      "2\n",
      "4\n",
      "7\n"
     ]
    }
   ],
   "source": [
    "# Question 1.4: Find the output of the following.\n",
    "animal = ['Human', 'cat', 'mat', 'cat', 'rat', 'Human', 'lion']\n",
    "\n",
    "print(animal.count('Human'))  # Output: 2 (counts how many times 'Human' appears)\n",
    "print(animal.index('rat'))    # Output: 4 (finds the index of 'rat')\n",
    "print(len(animal))            # Output: 7 (counts the number of elements in the list)\n"
   ]
  },
  {
   "cell_type": "code",
   "execution_count": 47,
   "id": "5c4b99a6-95c5-4d8f-aaa0-6eb98b4bbc67",
   "metadata": {},
   "outputs": [
    {
     "name": "stdout",
     "output_type": "stream",
     "text": [
      "8\n",
      "Navneet\n",
      "1\n",
      "ji\n",
      "22\n"
     ]
    }
   ],
   "source": [
    "# Question 1. 5. tuple 1 = (10,20,\"Apple\" ,3.4, 'a ', [\"master\"', '\"ji\"], (\"\" sit a\",\" geeta·· ,22), [{'\"roll_ no\":1},\n",
    "# {'\"name\"':'\"Navneet'\"}])\n",
    "# a )print(len( tuplel))\n",
    "# b)print(tuplel [-1] [- 1] [\"name\"))\n",
    "# c)fetch the value of roll_no from this tuple.\n",
    "# d)print(tuplel[-3] [1))\n",
    "# e)fetch the element \"22\" from this tuple.\n",
    "\n",
    "tuple1 = (10, 20, \"Apple\", 3.4, 'a', [\"master\", \"ji\"], (\"sita\", \"geeta\", 22), [{\"roll_no\": 1}, {\"name\": \"Navneet\"}])\n",
    "\n",
    "# a) Print the length of the tuple\n",
    "print(len(tuple1))  # Output: 8\n",
    "\n",
    "# b) Print the value of \"name\" from the dictionary inside the tuple\n",
    "print(tuple1[-1][-1][\"name\"])  # Output: \"Navneet\"\n",
    "\n",
    "# c) Fetch the value of \"roll_no\" from this tuple\n",
    "print(tuple1[-1][0][\"roll_no\"])  # Output: 1\n",
    "\n",
    "# d) Print the second element of the sixth item\n",
    "print(tuple1[-3][1])  # Output: \"ji\"\n",
    "\n",
    "# e) Fetch the element \"22\" from this tuple\n",
    "print(tuple1[-2][-1])  # Output: 22\n"
   ]
  },
  {
   "cell_type": "code",
   "execution_count": 49,
   "id": "fde55e19-49a7-4329-a213-adfe8a7587cb",
   "metadata": {},
   "outputs": [
    {
     "name": "stdin",
     "output_type": "stream",
     "text": [
      "Enter the signal color (RED/Yellow/Green):  RED\n"
     ]
    },
    {
     "name": "stdout",
     "output_type": "stream",
     "text": [
      "Stop\n"
     ]
    }
   ],
   "source": [
    "# Question 1.6: Write a program to display the appropriate message as per the color of the signal (RED-Stop/Yellow-Stay/Green-Go) at the road crossing.\n",
    "signal = input(\"Enter the signal color (RED/Yellow/Green): \").strip().lower()\n",
    "\n",
    "if signal == 'red':\n",
    "    print(\"Stop\")\n",
    "elif signal == 'yellow':\n",
    "    print(\"Stay\")\n",
    "elif signal == 'green':\n",
    "    print(\"Go\")\n",
    "else:\n",
    "    print(\"Invalid signal color\")\n"
   ]
  },
  {
   "cell_type": "code",
   "execution_count": 51,
   "id": "19b2fb02-7ff5-469e-b450-786a98428483",
   "metadata": {},
   "outputs": [
    {
     "name": "stdin",
     "output_type": "stream",
     "text": [
      "Enter first number:  5\n",
      "Enter second number:  2\n",
      "Enter operation (+, -, *, /):  +\n"
     ]
    },
    {
     "name": "stdout",
     "output_type": "stream",
     "text": [
      "Result: 7.0\n"
     ]
    }
   ],
   "source": [
    "# Question 1.7: Write a program to create a simple calculator performing only four basic operations (+, -, /, *).\n",
    "def calculator():\n",
    "    num1 = float(input(\"Enter first number: \"))\n",
    "    num2 = float(input(\"Enter second number: \"))\n",
    "    operation = input(\"Enter operation (+, -, *, /): \")\n",
    "\n",
    "    if operation == '+':\n",
    "        print(f\"Result: {num1 + num2}\")\n",
    "    elif operation == '-':\n",
    "        print(f\"Result: {num1 - num2}\")\n",
    "    elif operation == '*':\n",
    "        print(f\"Result: {num1 * num2}\")\n",
    "    elif operation == '/':\n",
    "        if num2 != 0:\n",
    "            print(f\"Result: {num1 / num2}\")\n",
    "        else:\n",
    "            print(\"Cannot divide by zero\")\n",
    "    else:\n",
    "        print(\"Invalid operation\")\n",
    "\n",
    "calculator()\n"
   ]
  },
  {
   "cell_type": "code",
   "execution_count": 53,
   "id": "baed36f2-4667-4cfb-98b6-81fb632f4d58",
   "metadata": {},
   "outputs": [
    {
     "name": "stdout",
     "output_type": "stream",
     "text": [
      "The largest number is: 20\n"
     ]
    }
   ],
   "source": [
    "# Question 1.8: Write a program to find the larger of the three pre-specified numbers using ternary operators.\n",
    "a, b, c = 10, 20, 15\n",
    "largest = a if (a > b and a > c) else (b if b > c else c)\n",
    "print(f\"The largest number is: {largest}\")\n"
   ]
  },
  {
   "cell_type": "code",
   "execution_count": 55,
   "id": "f4ddb3a2-c61c-49cc-bcff-fe48124e53bf",
   "metadata": {},
   "outputs": [
    {
     "name": "stdin",
     "output_type": "stream",
     "text": [
      "Enter a number:  20\n"
     ]
    },
    {
     "name": "stdout",
     "output_type": "stream",
     "text": [
      "Factors of 20 are: 1 2 4 5 10 20 "
     ]
    }
   ],
   "source": [
    "# Question 1.9: Write a program to find the factors of a whole number using a while loop.\n",
    "num = int(input(\"Enter a number: \"))\n",
    "i = 1\n",
    "print(f\"Factors of {num} are:\", end=\" \")\n",
    "while i <= num:\n",
    "    if num % i == 0:\n",
    "        print(i, end=\" \")\n",
    "    i += 1\n"
   ]
  },
  {
   "cell_type": "code",
   "execution_count": 57,
   "id": "a0b701ed-d127-4440-82e8-36bb01900a91",
   "metadata": {},
   "outputs": [
    {
     "name": "stdin",
     "output_type": "stream",
     "text": [
      "Enter a positive number (negative to stop):  5\n",
      "Enter a positive number (negative to stop):  7\n",
      "Enter a positive number (negative to stop):  -5\n"
     ]
    },
    {
     "name": "stdout",
     "output_type": "stream",
     "text": [
      "Total sum of positive numbers: 12\n"
     ]
    }
   ],
   "source": [
    "# Question 1.10: Write a program to find the sum of all the positive numbers entered by the user. As soon as the user enters a negative number, stop taking in any further input from the user and display the sum.\n",
    "total = 0\n",
    "while True:\n",
    "    num = int(input(\"Enter a positive number (negative to stop): \"))\n",
    "    if num < 0:\n",
    "        break\n",
    "    total += num\n",
    "print(f\"Total sum of positive numbers: {total}\")\n"
   ]
  },
  {
   "cell_type": "code",
   "execution_count": 59,
   "id": "22e132de-55d4-46c0-832a-b74347cc1106",
   "metadata": {},
   "outputs": [
    {
     "name": "stdout",
     "output_type": "stream",
     "text": [
      "2 3 5 7 11 13 17 19 23 29 31 37 41 43 47 53 59 61 67 71 73 79 83 89 97 "
     ]
    }
   ],
   "source": [
    "# Question 1.11: Write a program to find prime numbers between 2 to 100 using nested for loops.\n",
    "for num in range(2, 101):\n",
    "    is_prime = True\n",
    "    for i in range(2, int(num**0.5) + 1):\n",
    "        if num % i == 0:\n",
    "            is_prime = False\n",
    "            break\n",
    "    if is_prime:\n",
    "        print(num, end=\" \")\n"
   ]
  },
  {
   "cell_type": "code",
   "execution_count": 61,
   "id": "92dfd832-e936-4d27-b7b4-e1ab58202130",
   "metadata": {},
   "outputs": [
    {
     "name": "stdin",
     "output_type": "stream",
     "text": [
      "Enter marks for subject 1:  5\n",
      "Enter marks for subject 2:  20\n",
      "Enter marks for subject 3:  30\n",
      "Enter marks for subject 4:  80\n",
      "Enter marks for subject 5:  45\n"
     ]
    },
    {
     "name": "stdout",
     "output_type": "stream",
     "text": [
      "Marks: [5.0, 20.0, 30.0, 80.0, 45.0]\n",
      "Total Marks: 180.0, Percentage: 36.0%\n",
      "Grade: D\n"
     ]
    }
   ],
   "source": [
    "# Question 1.12: Write the programs for the following:\n",
    "# a. Accept the marks of the student in five major subjects and display the same.\n",
    "marks = []\n",
    "for i in range(5):\n",
    "    mark = float(input(f\"Enter marks for subject {i + 1}: \"))\n",
    "    marks.append(mark)\n",
    "print(\"Marks:\", marks)\n",
    "\n",
    "\n",
    "# b. Calculate the sum of the marks of all subjects. Divide the total marks by the number of subjects (i.e., 5), calculate percentage = total marks/5 and display the percentage.\n",
    "total_marks = sum(marks)\n",
    "percentage = total_marks / 5\n",
    "print(f\"Total Marks: {total_marks}, Percentage: {percentage}%\")\n",
    "\n",
    "\n",
    "# c. Find the grade of the student as per the following criteria:\n",
    "if percentage > 85:\n",
    "    grade = 'A'\n",
    "elif 75 <= percentage <= 85:\n",
    "    grade = 'B'\n",
    "elif 50 <= percentage < 75:\n",
    "    grade = 'C'\n",
    "elif 30 <= percentage <= 50:\n",
    "    grade = 'D'\n",
    "else:\n",
    "    grade = 'Reappear'\n",
    "\n",
    "print(f\"Grade: {grade}\")\n",
    "\n"
   ]
  },
  {
   "cell_type": "code",
   "execution_count": 65,
   "id": "149950ad-84a4-43e0-8c36-60af4cdef9e0",
   "metadata": {},
   "outputs": [
    {
     "name": "stdin",
     "output_type": "stream",
     "text": [
      "Enter wavelength in nm:  586\n"
     ]
    },
    {
     "name": "stdout",
     "output_type": "stream",
     "text": [
      "The color corresponding to 586.0 nm is Yellow.\n"
     ]
    }
   ],
   "source": [
    "# Question 1.13: Write a program for VIBGYOR Spectrum based on their Wavelength.\n",
    "\n",
    "wavelength = float(input(\"Enter wavelength in nm: \"))\n",
    "\n",
    "if 400.0 <= wavelength < 440.0:\n",
    "    color = \"Violet\"\n",
    "elif 440.0 <= wavelength < 460.0:\n",
    "    color = \"Indigo\"\n",
    "elif 460.0 <= wavelength < 500.0:\n",
    "    color = \"Blue\"\n",
    "elif 500.0 <= wavelength < 570.0:\n",
    "    color = \"Green\"\n",
    "elif 570.0 <= wavelength < 590.0:\n",
    "    color = \"Yellow\"\n",
    "elif 590.0 <= wavelength < 620.0:\n",
    "    color = \"Orange\"\n",
    "elif 620.0 <= wavelength < 720.0:\n",
    "    color = \"Red\"\n",
    "else:\n",
    "    color = \"Unknown\"\n",
    "\n",
    "print(f\"The color corresponding to {wavelength} nm is {color}.\")\n"
   ]
  },
  {
   "cell_type": "code",
   "execution_count": 67,
   "id": "612a84c5-8d2e-46f1-bb80-1d77ad00f475",
   "metadata": {},
   "outputs": [
    {
     "name": "stdout",
     "output_type": "stream",
     "text": [
      "Gravitational force between Earth and Sun: 3.5423960813684973e+22 N\n",
      "Gravitational force between Moon and Earth: 1.982022545652681e+20 N\n",
      "The gravitational force between Earth and Sun is stronger.\n"
     ]
    }
   ],
   "source": [
    "# Question 1.14: Calculate the gravitational force between the Earth and the Sun, and the Moon and the Earth.\n",
    "\n",
    "# Constants\n",
    "G = 6.67430e-11  # Gravitational constant in m^3 kg^-1 s^-2\n",
    "mass_earth = 5.972e24  # Mass of Earth in kilograms\n",
    "mass_moon = 7.34767309e22  # Mass of Moon in kilograms\n",
    "mass_sun = 1.989e30  # Mass of Sun in kilograms\n",
    "\n",
    "distance_earth_sun = 1.496e11  # Distance between Earth and Sun in meters\n",
    "distance_moon_earth = 3.844e8  # Distance between Moon and Earth in meters\n",
    "\n",
    "# Gravitational Force calculations\n",
    "force_earth_sun = (G * mass_earth * mass_sun) / (distance_earth_sun ** 2)\n",
    "force_moon_earth = (G * mass_moon * mass_earth) / (distance_moon_earth ** 2)\n",
    "\n",
    "print(f\"Gravitational force between Earth and Sun: {force_earth_sun} N\")\n",
    "print(f\"Gravitational force between Moon and Earth: {force_moon_earth} N\")\n",
    "\n",
    "# Comparison\n",
    "if force_earth_sun > force_moon_earth:\n",
    "    print(\"The gravitational force between Earth and Sun is stronger.\")\n",
    "else:\n",
    "    print(\"The gravitational force between Moon and Earth is stronger.\")\n"
   ]
  },
  {
   "cell_type": "code",
   "execution_count": 69,
   "id": "22a83d63-9923-499c-ad3d-392e0abf7814",
   "metadata": {},
   "outputs": [
    {
     "name": "stdout",
     "output_type": "stream",
     "text": [
      "Name: John, Age: 20, Roll Number: 101\n",
      "Name: Jane, Age: 21, Roll Number: 101\n"
     ]
    }
   ],
   "source": [
    "# Question 2: Design and implement a Python program for managing student information using object-oriented principles.\n",
    "\n",
    "class Student:\n",
    "    def __init__(self, name, age, roll_number):\n",
    "        self.__name = name\n",
    "        self.__age = age\n",
    "        self.__roll_number = roll_number\n",
    "\n",
    "    def get_name(self):\n",
    "        return self.__name\n",
    "\n",
    "    def set_name(self, name):\n",
    "        self.__name = name\n",
    "\n",
    "    def get_age(self):\n",
    "        return self.__age\n",
    "\n",
    "    def set_age(self, age):\n",
    "        self.__age = age\n",
    "\n",
    "    def get_roll_number(self):\n",
    "        return self.__roll_number\n",
    "\n",
    "    def set_roll_number(self, roll_number):\n",
    "        self.__roll_number = roll_number\n",
    "\n",
    "    def display_info(self):\n",
    "        print(f\"Name: {self.__name}, Age: {self.__age}, Roll Number: {self.__roll_number}\")\n",
    "\n",
    "    def update_details(self, name=None, age=None, roll_number=None):\n",
    "        if name:\n",
    "            self.set_name(name)\n",
    "        if age:\n",
    "            self.set_age(age)\n",
    "        if roll_number:\n",
    "            self.set_roll_number(roll_number)\n",
    "\n",
    "# Example usage\n",
    "student1 = Student(\"John\", 20, 101)\n",
    "student1.display_info()\n",
    "student1.update_details(name=\"Jane\", age=21)\n",
    "student1.display_info()\n"
   ]
  },
  {
   "cell_type": "code",
   "execution_count": 71,
   "id": "98bd240a-dcd5-4772-bcd9-6501a3ef7c1b",
   "metadata": {},
   "outputs": [
    {
     "name": "stdout",
     "output_type": "stream",
     "text": [
      "Book: Python Programming, Author: John Doe, Status: Available\n",
      "You have borrowed 'Python Programming' by John Doe.\n",
      "Book: Python Programming, Author: John Doe, Status: Unavailable\n",
      "You have returned 'Python Programming'.\n",
      "Book: Python Programming, Author: John Doe, Status: Available\n"
     ]
    }
   ],
   "source": [
    "# Question 3: Develop a Python program for managing library resources efficiently.\n",
    "\n",
    "class LibraryBook:\n",
    "    def __init__(self, book_name, author, available=True):\n",
    "        self.__book_name = book_name\n",
    "        self.__author = author\n",
    "        self.__available = available\n",
    "\n",
    "    def borrow_book(self):\n",
    "        if self.__available:\n",
    "            self.__available = False\n",
    "            print(f\"You have borrowed '{self.__book_name}' by {self.__author}.\")\n",
    "        else:\n",
    "            print(f\"'{self.__book_name}' is currently unavailable.\")\n",
    "\n",
    "    def return_book(self):\n",
    "        if not self.__available:\n",
    "            self.__available = True\n",
    "            print(f\"You have returned '{self.__book_name}'.\")\n",
    "        else:\n",
    "            print(f\"'{self.__book_name}' was not borrowed.\")\n",
    "\n",
    "    def display_book_info(self):\n",
    "        status = \"Available\" if self.__available else \"Unavailable\"\n",
    "        print(f\"Book: {self.__book_name}, Author: {self.__author}, Status: {status}\")\n",
    "\n",
    "# Example usage\n",
    "book1 = LibraryBook(\"Python Programming\", \"John Doe\")\n",
    "book1.display_book_info()\n",
    "book1.borrow_book()\n",
    "book1.display_book_info()\n",
    "book1.return_book()\n",
    "book1.display_book_info()\n"
   ]
  },
  {
   "cell_type": "code",
   "execution_count": 79,
   "id": "014b1792-41c4-4d42-b587-a87338de296b",
   "metadata": {},
   "outputs": [
    {
     "name": "stdout",
     "output_type": "stream",
     "text": [
      "Balance: 1000\n",
      "Deposited: 50.0, New Balance: 1050.0\n",
      "Interest added: 50.0\n",
      "Withdrawn: 300, New Balance: 750.0\n",
      "Balance: 500\n",
      "Insufficient balance or invalid amount\n"
     ]
    }
   ],
   "source": [
    "# Question 4: Create a simple banking system using object-oriented concepts in Python.\n",
    "\n",
    "class BankAccount:\n",
    "    def __init__(self, account_number, balance=0):\n",
    "        self.__account_number = account_number\n",
    "        self.__balance = balance\n",
    "\n",
    "    def deposit(self, amount):\n",
    "        if amount > 0:\n",
    "            self.__balance += amount\n",
    "            print(f\"Deposited: {amount}, New Balance: {self.__balance}\")\n",
    "        else:\n",
    "            print(\"Invalid deposit amount\")\n",
    "\n",
    "    def withdraw(self, amount):\n",
    "        if 0 < amount <= self.__balance:\n",
    "            self.__balance -= amount\n",
    "            print(f\"Withdrawn: {amount}, New Balance: {self.__balance}\")\n",
    "        else:\n",
    "            print(\"Insufficient balance or invalid amount\")\n",
    "\n",
    "    def check_balance(self):\n",
    "        print(f\"Balance: {self.__balance}\")\n",
    "\n",
    "class SavingsAccount(BankAccount):\n",
    "    def __init__(self, account_number, balance=0, interest_rate=0.05):\n",
    "        super().__init__(account_number, balance)\n",
    "        self.__interest_rate = interest_rate\n",
    "\n",
    "    def add_interest(self):\n",
    "        interest = self._BankAccount__balance * self.__interest_rate  # Corrected attribute name\n",
    "        self.deposit(interest)  # Inherit the deposit method from the parent class\n",
    "        print(f\"Interest added: {interest}\")\n",
    "\n",
    "\n",
    "\n",
    "\n",
    "class CheckingAccount(BankAccount):\n",
    "    def __init__(self, account_number, balance=0, overdraft_limit=500):\n",
    "        super().__init__(account_number, balance)\n",
    "        self.__overdraft_limit = overdraft_limit\n",
    "\n",
    "    def withdraw(self, amount):\n",
    "        if 0 < amount <= self._BankAccount__balance + self.__overdraft_limit:\n",
    "            super().withdraw(amount)  # Inherit the withdraw method from the parent class\n",
    "        else:\n",
    "            print(\"Exceeds overdraft limit\")\n",
    "\n",
    "\n",
    "# Example usage\n",
    "savings = SavingsAccount(\"SAV123\", 1000)\n",
    "savings.check_balance()\n",
    "savings.add_interest()\n",
    "savings.withdraw(300)\n",
    "\n",
    "checking = CheckingAccount(\"CHK456\", 500)\n",
    "checking.check_balance()\n",
    "checking.withdraw(900)\n",
    "\n"
   ]
  },
  {
   "cell_type": "code",
   "execution_count": 81,
   "id": "e806b691-7819-4052-9e87-32641a36bf14",
   "metadata": {},
   "outputs": [
    {
     "name": "stdout",
     "output_type": "stream",
     "text": [
      "Bark\n",
      "Meow\n"
     ]
    }
   ],
   "source": [
    "# Question 5: Write a Python program that models different animals and their sounds.\n",
    "\n",
    "class Animal:\n",
    "    def make_sound(self):\n",
    "        raise NotImplementedError(\"Subclasses should implement this!\")\n",
    "\n",
    "class Dog(Animal):\n",
    "    def make_sound(self):\n",
    "        return \"Bark\"\n",
    "\n",
    "class Cat(Animal):\n",
    "    def make_sound(self):\n",
    "        return \"Meow\"\n",
    "\n",
    "# Example usage\n",
    "dog = Dog()\n",
    "cat = Cat()\n",
    "print(dog.make_sound())  # Output: Bark\n",
    "print(cat.make_sound())  # Output: Meow\n"
   ]
  },
  {
   "cell_type": "code",
   "execution_count": 83,
   "id": "5a952def-317a-420c-86a7-1139632111a3",
   "metadata": {},
   "outputs": [
    {
     "name": "stdout",
     "output_type": "stream",
     "text": [
      "Item: Burger, Description: Cheese Burger, Price: 5.99, Category: Main Course\n",
      "Item: Coffee, Description: Hot Coffee, Price: 2.99, Category: Beverage\n"
     ]
    }
   ],
   "source": [
    "# Question 6: Write a code for Restaurant Management System Using OOPS.\n",
    "\n",
    "class MenuItem:\n",
    "    def __init__(self, name, description, price, category):\n",
    "        self.__id = id(self)\n",
    "        self.name = name\n",
    "        self.description = description\n",
    "        self.price = price\n",
    "        self.category = category\n",
    "\n",
    "    def update_item(self, name=None, description=None, price=None, category=None):\n",
    "        if name:\n",
    "            self.name = name\n",
    "        if description:\n",
    "            self.description = description\n",
    "        if price:\n",
    "            self.price = price\n",
    "        if category:\n",
    "            self.category = category\n",
    "\n",
    "    def display_item(self):\n",
    "        print(f\"Item: {self.name}, Description: {self.description}, Price: {self.price}, Category: {self.category}\")\n",
    "\n",
    "class FoodItem(MenuItem):\n",
    "    def __init__(self, name, description, price, category, cuisine):\n",
    "        super().__init__(name, description, price, category)\n",
    "        self.cuisine = cuisine\n",
    "\n",
    "class BeverageItem(MenuItem):\n",
    "    def __init__(self, name, description, price, category, size):\n",
    "        super().__init__(name, description, price, category)\n",
    "        self.size = size\n",
    "\n",
    "# Example usage\n",
    "burger = FoodItem(\"Burger\", \"Cheese Burger\", 5.99, \"Main Course\", \"American\")\n",
    "coffee = BeverageItem(\"Coffee\", \"Hot Coffee\", 2.99, \"Beverage\", \"Medium\")\n",
    "burger.display_item()\n",
    "coffee.display_item()\n"
   ]
  },
  {
   "cell_type": "code",
   "execution_count": 85,
   "id": "9e7dc204-9802-4f92-8843-45c29f16c865",
   "metadata": {},
   "outputs": [
    {
     "name": "stdout",
     "output_type": "stream",
     "text": [
      "Room 101 booked successfully.\n",
      "Guest checked in to room 101.\n",
      "Guest checked out from room 101.\n"
     ]
    }
   ],
   "source": [
    "# Question 7: Write a code for Hotel Management System using OOPS.\n",
    "\n",
    "class Room:\n",
    "    def __init__(self, room_number, room_type, rate, available=True):\n",
    "        self.__room_number = room_number\n",
    "        self.room_type = room_type\n",
    "        self.rate = rate\n",
    "        self.__available = available\n",
    "\n",
    "    def book_room(self):\n",
    "        if self.__available:\n",
    "            self.__available = False\n",
    "            print(f\"Room {self.__room_number} booked successfully.\")\n",
    "        else:\n",
    "            print(f\"Room {self.__room_number} is not available.\")\n",
    "\n",
    "    def check_in(self):\n",
    "        if not self.__available:\n",
    "            print(f\"Guest checked in to room {self.__room_number}.\")\n",
    "        else:\n",
    "            print(f\"Room {self.__room_number} is not booked yet.\")\n",
    "\n",
    "    def check_out(self):\n",
    "        if not self.__available:\n",
    "            self.__available = True\n",
    "            print(f\"Guest checked out from room {self.__room_number}.\")\n",
    "        else:\n",
    "            print(f\"Room {self.__room_number} was not occupied.\")\n",
    "\n",
    "class SuiteRoom(Room):\n",
    "    def __init__(self, room_number, rate, amenities):\n",
    "        super().__init__(room_number, \"Suite\", rate)\n",
    "        self.amenities = amenities\n",
    "\n",
    "class StandardRoom(Room):\n",
    "    def __init__(self, room_number, rate):\n",
    "        super().__init__(room_number, \"Standard\", rate)\n",
    "\n",
    "# Example usage\n",
    "suite = SuiteRoom(101, 150, [\"Wi-Fi\", \"Breakfast\"])\n",
    "standard = StandardRoom(102, 100)\n",
    "suite.book_room()\n",
    "suite.check_in()\n",
    "suite.check_out()\n"
   ]
  },
  {
   "cell_type": "code",
   "execution_count": 87,
   "id": "b04205c4-b50c-4113-9f55-30e10d3be457",
   "metadata": {},
   "outputs": [
    {
     "name": "stdout",
     "output_type": "stream",
     "text": [
      "Name: John, Age: 35, Membership Type: Family, Status: Active\n",
      "Membership for John renewed.\n",
      "Membership for John canceled.\n"
     ]
    }
   ],
   "source": [
    "# Question 8: Write a code for Fitness Club Management System using OOPS.\n",
    "\n",
    "class Member:\n",
    "    def __init__(self, name, age, membership_type, status=True):\n",
    "        self.__id = id(self)\n",
    "        self.name = name\n",
    "        self.age = age\n",
    "        self.membership_type = membership_type\n",
    "        self.__status = status\n",
    "\n",
    "    def renew_membership(self):\n",
    "        self.__status = True\n",
    "        print(f\"Membership for {self.name} renewed.\")\n",
    "\n",
    "    def cancel_membership(self):\n",
    "        self.__status = False\n",
    "        print(f\"Membership for {self.name} canceled.\")\n",
    "\n",
    "    def display_member_info(self):\n",
    "        status = \"Active\" if self.__status else \"Inactive\"\n",
    "        print(f\"Name: {self.name}, Age: {self.age}, Membership Type: {self.membership_type}, Status: {status}\")\n",
    "\n",
    "class FamilyMember(Member):\n",
    "    def __init__(self, name, age, membership_type, family_discount):\n",
    "        super().__init__(name, age, membership_type)\n",
    "        self.family_discount = family_discount\n",
    "\n",
    "class IndividualMember(Member):\n",
    "    pass\n",
    "\n",
    "# Example usage\n",
    "member1 = FamilyMember(\"John\", 35, \"Family\", 10)\n",
    "member1.display_member_info()\n",
    "member1.renew_membership()\n",
    "member1.cancel_membership()\n"
   ]
  },
  {
   "cell_type": "code",
   "execution_count": 89,
   "id": "7a3cfe30-42e0-4ad4-9c07-0f063c6bdf2c",
   "metadata": {},
   "outputs": [
    {
     "name": "stdout",
     "output_type": "stream",
     "text": [
      "Attendee John added.\n",
      "Attendee Jane added.\n",
      "Attendee Alice added.\n",
      "Total attendees at the birthday: 2\n",
      "Total attendees at the concert: 1\n"
     ]
    }
   ],
   "source": [
    "# Question 9: Write a code for Event Management System using OOPS.\n",
    "\n",
    "class Event:\n",
    "    def __init__(self, name, date, time, location):\n",
    "        self.__id = id(self)\n",
    "        self.name = name\n",
    "        self.date = date\n",
    "        self.time = time\n",
    "        self.location = location\n",
    "        self.__attendees = []\n",
    "\n",
    "    def add_attendee(self, attendee):\n",
    "        self.__attendees.append(attendee)\n",
    "        print(f\"Attendee {attendee} added.\")\n",
    "\n",
    "    def remove_attendee(self, attendee):\n",
    "        if attendee in self.__attendees:\n",
    "            self.__attendees.remove(attendee)\n",
    "            print(f\"Attendee {attendee} removed.\")\n",
    "        else:\n",
    "            print(f\"Attendee {attendee} not found.\")\n",
    "\n",
    "    def get_total_attendees(self):\n",
    "        return len(self.__attendees)\n",
    "\n",
    "class PrivateEvent(Event):\n",
    "    def __init__(self, name, date, time, location, guest_list):\n",
    "        super().__init__(name, date, time, location)\n",
    "        self.guest_list = guest_list\n",
    "\n",
    "class PublicEvent(Event):\n",
    "    def __init__(self, name, date, time, location):\n",
    "        super().__init__(name, date, time, location)\n",
    "\n",
    "# Example usage\n",
    "birthday = PrivateEvent(\"Birthday Party\", \"2024-09-01\", \"18:00\", \"Home\", [\"John\", \"Jane\"])\n",
    "concert = PublicEvent(\"Concert\", \"2024-10-10\", \"20:00\", \"Stadium\")\n",
    "\n",
    "birthday.add_attendee(\"John\")\n",
    "birthday.add_attendee(\"Jane\")\n",
    "concert.add_attendee(\"Alice\")\n",
    "\n",
    "print(f\"Total attendees at the birthday: {birthday.get_total_attendees()}\")\n",
    "print(f\"Total attendees at the concert: {concert.get_total_attendees()}\")\n"
   ]
  },
  {
   "cell_type": "code",
   "execution_count": 91,
   "id": "ae700bb8-be14-473f-9dbb-5000e6b50270",
   "metadata": {},
   "outputs": [
    {
     "name": "stdout",
     "output_type": "stream",
     "text": [
      "Seat booked on flight DL123. Remaining seats: 99\n",
      "Reservation canceled. Available seats: 100\n",
      "Remaining seats: 100\n"
     ]
    }
   ],
   "source": [
    "# Question 10: Write a code for Airline Reservation System using OOPS.\n",
    "\n",
    "class Flight:\n",
    "    def __init__(self, flight_number, departure_airport, arrival_airport, departure_time, arrival_time, available_seats):\n",
    "        self.__flight_number = flight_number\n",
    "        self.departure_airport = departure_airport\n",
    "        self.arrival_airport = arrival_airport\n",
    "        self.departure_time = departure_time\n",
    "        self.arrival_time = arrival_time\n",
    "        self.__available_seats = available_seats\n",
    "\n",
    "    def book_seat(self):\n",
    "        if self.__available_seats > 0:\n",
    "            self.__available_seats -= 1\n",
    "            print(f\"Seat booked on flight {self.__flight_number}. Remaining seats: {self.__available_seats}\")\n",
    "        else:\n",
    "            print(\"No available seats\")\n",
    "\n",
    "    def cancel_reservation(self):\n",
    "        self.__available_seats += 1\n",
    "        print(f\"Reservation canceled. Available seats: {self.__available_seats}\")\n",
    "\n",
    "    def get_remaining_seats(self):\n",
    "        return self.__available_seats\n",
    "\n",
    "class DomesticFlight(Flight):\n",
    "    pass\n",
    "\n",
    "class InternationalFlight(Flight):\n",
    "    pass\n",
    "\n",
    "# Example usage\n",
    "flight1 = DomesticFlight(\"DL123\", \"JFK\", \"LAX\", \"2024-09-15 08:00\", \"2024-09-15 11:00\", 100)\n",
    "flight1.book_seat()\n",
    "flight1.cancel_reservation()\n",
    "print(f\"Remaining seats: {flight1.get_remaining_seats()}\")\n"
   ]
  },
  {
   "cell_type": "code",
   "execution_count": 93,
   "id": "721d1e3e-0b4c-4140-92b6-a35a63e1cbb7",
   "metadata": {},
   "outputs": [],
   "source": [
    "# Question 11: Define a Python module named constants.py containing constants like pi and the speed of light.\n",
    "\n",
    "# constants.py\n",
    "\n",
    "PI = 3.14159\n",
    "SPEED_OF_LIGHT = 299792458  # in meters per second\n",
    "GRAVITATIONAL_CONSTANT = 6.67430e-11  # in m^3 kg^-1 s^-2\n"
   ]
  },
  {
   "cell_type": "code",
   "execution_count": 95,
   "id": "914a4460-71ad-42ce-a2b7-edaf23b0c9fd",
   "metadata": {},
   "outputs": [],
   "source": [
    "# Question 12: Write a Python module named calculator.py containing functions for addition, subtraction, multiplication, and division.\n",
    "\n",
    "# calculator.py\n",
    "\n",
    "def add(x, y):\n",
    "    return x + y\n",
    "\n",
    "def subtract(x, y):\n",
    "    return x - y\n",
    "\n",
    "def multiply(x, y):\n",
    "    return x * y\n",
    "\n",
    "def divide(x, y):\n",
    "    if y == 0:\n",
    "        raise ValueError(\"Cannot divide by zero\")\n",
    "    return x / y\n"
   ]
  },
  {
   "cell_type": "code",
   "execution_count": 97,
   "id": "45e0b45e-5513-44cd-8325-74024193618b",
   "metadata": {},
   "outputs": [],
   "source": [
    "# Question 13: Implement a Python package structure for a project named ecommerce, containing modules for product management and order processing.\n",
    "\n",
    "# ecommerce/product_management.py\n",
    "\n",
    "class Product:\n",
    "    def __init__(self, product_id, name, price, quantity):\n",
    "        self.product_id = product_id\n",
    "        self.name = name\n",
    "        self.price = price\n",
    "        self.quantity = quantity\n",
    "\n",
    "    def update_stock(self, quantity):\n",
    "        self.quantity += quantity\n",
    "        print(f\"Stock updated. New quantity: {self.quantity}\")\n",
    "\n",
    "# ecommerce/order_processing.py\n",
    "\n",
    "class Order:\n",
    "    def __init__(self, order_id, product, quantity):\n",
    "        self.order_id = order_id\n",
    "        self.product = product\n",
    "        self.quantity = quantity\n",
    "\n",
    "    def process_order(self):\n",
    "        if self.product.quantity >= self.quantity:\n",
    "            self.product.update_stock(-self.quantity)\n",
    "            print(f\"Order {self.order_id} processed successfully\")\n",
    "        else:\n",
    "            print(f\"Insufficient stock for order {self.order_id}\")\n"
   ]
  },
  {
   "cell_type": "code",
   "execution_count": 99,
   "id": "aeb56dc3-48ce-4a81-859e-7c53ab65ddc2",
   "metadata": {},
   "outputs": [],
   "source": [
    "# Question 14: Implement a Python module named string_utils.py containing functions for string manipulation, such as reversing and capitalizing strings.\n",
    "\n",
    "# string_utils.py\n",
    "\n",
    "def reverse_string(s):\n",
    "    return s[::-1]\n",
    "\n",
    "def capitalize_string(s):\n",
    "    return s.capitalize()\n"
   ]
  },
  {
   "cell_type": "code",
   "execution_count": 101,
   "id": "3084736d-e6ce-4346-b19b-bf0cb9699ace",
   "metadata": {},
   "outputs": [],
   "source": [
    "# Question 15: Write a Python module named file_operations.py with functions for reading, writing, and appending data to a file.\n",
    "\n",
    "# file_operations.py\n",
    "\n",
    "def write_to_file(filename, data):\n",
    "    with open(filename, 'w') as file:\n",
    "        file.write(data)\n",
    "\n",
    "def append_to_file(filename, data):\n",
    "    with open(filename, 'a') as file:\n",
    "        file.write(data)\n",
    "\n",
    "def read_from_file(filename):\n",
    "    with open(filename, 'r') as file:\n",
    "        return file.read()\n"
   ]
  },
  {
   "cell_type": "code",
   "execution_count": 103,
   "id": "8ca52216-835f-4ccb-91ee-47f5b4749dc3",
   "metadata": {},
   "outputs": [],
   "source": [
    "# Question 16: Write a Python program to create a text file named employees.txt and write the details of employees, including their name, age, and salary, into the file.\n",
    "\n",
    "with open('employees.txt', 'w') as file:\n",
    "    file.write(\"Name: John, Age: 28, Salary: 50000\\n\")\n",
    "    file.write(\"Name: Jane, Age: 32, Salary: 60000\\n\")\n",
    "    file.write(\"Name: Bob, Age: 24, Salary: 45000\\n\")\n"
   ]
  },
  {
   "cell_type": "code",
   "execution_count": 105,
   "id": "8bf6fe96-9bfa-452a-86c9-6f10942db2fa",
   "metadata": {},
   "outputs": [
    {
     "ename": "FileNotFoundError",
     "evalue": "[Errno 2] No such file or directory: 'inventory.txt'",
     "output_type": "error",
     "traceback": [
      "\u001b[1;31m---------------------------------------------------------------------------\u001b[0m",
      "\u001b[1;31mFileNotFoundError\u001b[0m                         Traceback (most recent call last)",
      "Cell \u001b[1;32mIn[105], line 3\u001b[0m\n\u001b[0;32m      1\u001b[0m \u001b[38;5;66;03m# Question 17: Develop a Python script that opens an existing text file named inventory.txt in read mode and displays the contents of the file line by line.\u001b[39;00m\n\u001b[1;32m----> 3\u001b[0m \u001b[38;5;28;01mwith\u001b[39;00m \u001b[38;5;28mopen\u001b[39m(\u001b[38;5;124m'\u001b[39m\u001b[38;5;124minventory.txt\u001b[39m\u001b[38;5;124m'\u001b[39m, \u001b[38;5;124m'\u001b[39m\u001b[38;5;124mr\u001b[39m\u001b[38;5;124m'\u001b[39m) \u001b[38;5;28;01mas\u001b[39;00m file:\n\u001b[0;32m      4\u001b[0m     \u001b[38;5;28;01mfor\u001b[39;00m line \u001b[38;5;129;01min\u001b[39;00m file:\n\u001b[0;32m      5\u001b[0m         \u001b[38;5;28mprint\u001b[39m(line\u001b[38;5;241m.\u001b[39mstrip())\n",
      "File \u001b[1;32m~\\anaconda3\\Lib\\site-packages\\IPython\\core\\interactiveshell.py:324\u001b[0m, in \u001b[0;36m_modified_open\u001b[1;34m(file, *args, **kwargs)\u001b[0m\n\u001b[0;32m    317\u001b[0m \u001b[38;5;28;01mif\u001b[39;00m file \u001b[38;5;129;01min\u001b[39;00m {\u001b[38;5;241m0\u001b[39m, \u001b[38;5;241m1\u001b[39m, \u001b[38;5;241m2\u001b[39m}:\n\u001b[0;32m    318\u001b[0m     \u001b[38;5;28;01mraise\u001b[39;00m \u001b[38;5;167;01mValueError\u001b[39;00m(\n\u001b[0;32m    319\u001b[0m         \u001b[38;5;124mf\u001b[39m\u001b[38;5;124m\"\u001b[39m\u001b[38;5;124mIPython won\u001b[39m\u001b[38;5;124m'\u001b[39m\u001b[38;5;124mt let you open fd=\u001b[39m\u001b[38;5;132;01m{\u001b[39;00mfile\u001b[38;5;132;01m}\u001b[39;00m\u001b[38;5;124m by default \u001b[39m\u001b[38;5;124m\"\u001b[39m\n\u001b[0;32m    320\u001b[0m         \u001b[38;5;124m\"\u001b[39m\u001b[38;5;124mas it is likely to crash IPython. If you know what you are doing, \u001b[39m\u001b[38;5;124m\"\u001b[39m\n\u001b[0;32m    321\u001b[0m         \u001b[38;5;124m\"\u001b[39m\u001b[38;5;124myou can use builtins\u001b[39m\u001b[38;5;124m'\u001b[39m\u001b[38;5;124m open.\u001b[39m\u001b[38;5;124m\"\u001b[39m\n\u001b[0;32m    322\u001b[0m     )\n\u001b[1;32m--> 324\u001b[0m \u001b[38;5;28;01mreturn\u001b[39;00m io_open(file, \u001b[38;5;241m*\u001b[39margs, \u001b[38;5;241m*\u001b[39m\u001b[38;5;241m*\u001b[39mkwargs)\n",
      "\u001b[1;31mFileNotFoundError\u001b[0m: [Errno 2] No such file or directory: 'inventory.txt'"
     ]
    }
   ],
   "source": [
    "# Question 17: Develop a Python script that opens an existing text file named inventory.txt in read mode and displays the contents of the file line by line.\n",
    "\n",
    "with open('inventory.txt', 'r') as file:\n",
    "    for line in file:\n",
    "        print(line.strip())\n"
   ]
  },
  {
   "cell_type": "code",
   "execution_count": 107,
   "id": "439aaa10-a053-4dc9-8eef-8ad542aa28a5",
   "metadata": {},
   "outputs": [
    {
     "ename": "FileNotFoundError",
     "evalue": "[Errno 2] No such file or directory: 'expenses.txt'",
     "output_type": "error",
     "traceback": [
      "\u001b[1;31m---------------------------------------------------------------------------\u001b[0m",
      "\u001b[1;31mFileNotFoundError\u001b[0m                         Traceback (most recent call last)",
      "Cell \u001b[1;32mIn[107], line 4\u001b[0m\n\u001b[0;32m      1\u001b[0m \u001b[38;5;66;03m# Question 18: Create a Python script that reads a text file named expenses.txt and calculates the total amount spent on various expenses listed in the file.\u001b[39;00m\n\u001b[0;32m      3\u001b[0m total_expenses \u001b[38;5;241m=\u001b[39m \u001b[38;5;241m0\u001b[39m\n\u001b[1;32m----> 4\u001b[0m \u001b[38;5;28;01mwith\u001b[39;00m \u001b[38;5;28mopen\u001b[39m(\u001b[38;5;124m'\u001b[39m\u001b[38;5;124mexpenses.txt\u001b[39m\u001b[38;5;124m'\u001b[39m, \u001b[38;5;124m'\u001b[39m\u001b[38;5;124mr\u001b[39m\u001b[38;5;124m'\u001b[39m) \u001b[38;5;28;01mas\u001b[39;00m file:\n\u001b[0;32m      5\u001b[0m     \u001b[38;5;28;01mfor\u001b[39;00m line \u001b[38;5;129;01min\u001b[39;00m file:\n\u001b[0;32m      6\u001b[0m         expense \u001b[38;5;241m=\u001b[39m \u001b[38;5;28mfloat\u001b[39m(line\u001b[38;5;241m.\u001b[39mstrip())\n",
      "File \u001b[1;32m~\\anaconda3\\Lib\\site-packages\\IPython\\core\\interactiveshell.py:324\u001b[0m, in \u001b[0;36m_modified_open\u001b[1;34m(file, *args, **kwargs)\u001b[0m\n\u001b[0;32m    317\u001b[0m \u001b[38;5;28;01mif\u001b[39;00m file \u001b[38;5;129;01min\u001b[39;00m {\u001b[38;5;241m0\u001b[39m, \u001b[38;5;241m1\u001b[39m, \u001b[38;5;241m2\u001b[39m}:\n\u001b[0;32m    318\u001b[0m     \u001b[38;5;28;01mraise\u001b[39;00m \u001b[38;5;167;01mValueError\u001b[39;00m(\n\u001b[0;32m    319\u001b[0m         \u001b[38;5;124mf\u001b[39m\u001b[38;5;124m\"\u001b[39m\u001b[38;5;124mIPython won\u001b[39m\u001b[38;5;124m'\u001b[39m\u001b[38;5;124mt let you open fd=\u001b[39m\u001b[38;5;132;01m{\u001b[39;00mfile\u001b[38;5;132;01m}\u001b[39;00m\u001b[38;5;124m by default \u001b[39m\u001b[38;5;124m\"\u001b[39m\n\u001b[0;32m    320\u001b[0m         \u001b[38;5;124m\"\u001b[39m\u001b[38;5;124mas it is likely to crash IPython. If you know what you are doing, \u001b[39m\u001b[38;5;124m\"\u001b[39m\n\u001b[0;32m    321\u001b[0m         \u001b[38;5;124m\"\u001b[39m\u001b[38;5;124myou can use builtins\u001b[39m\u001b[38;5;124m'\u001b[39m\u001b[38;5;124m open.\u001b[39m\u001b[38;5;124m\"\u001b[39m\n\u001b[0;32m    322\u001b[0m     )\n\u001b[1;32m--> 324\u001b[0m \u001b[38;5;28;01mreturn\u001b[39;00m io_open(file, \u001b[38;5;241m*\u001b[39margs, \u001b[38;5;241m*\u001b[39m\u001b[38;5;241m*\u001b[39mkwargs)\n",
      "\u001b[1;31mFileNotFoundError\u001b[0m: [Errno 2] No such file or directory: 'expenses.txt'"
     ]
    }
   ],
   "source": [
    "# Question 18: Create a Python script that reads a text file named expenses.txt and calculates the total amount spent on various expenses listed in the file.\n",
    "\n",
    "total_expenses = 0\n",
    "with open('expenses.txt', 'r') as file:\n",
    "    for line in file:\n",
    "        expense = float(line.strip())\n",
    "        total_expenses += expense\n",
    "\n",
    "print(f\"Total expenses: {total_expenses}\")\n"
   ]
  },
  {
   "cell_type": "code",
   "execution_count": 109,
   "id": "a2100a19-0b67-4307-98ef-fec2e0d6c33e",
   "metadata": {},
   "outputs": [
    {
     "ename": "FileNotFoundError",
     "evalue": "[Errno 2] No such file or directory: 'paragraph.txt'",
     "output_type": "error",
     "traceback": [
      "\u001b[1;31m---------------------------------------------------------------------------\u001b[0m",
      "\u001b[1;31mFileNotFoundError\u001b[0m                         Traceback (most recent call last)",
      "Cell \u001b[1;32mIn[109], line 5\u001b[0m\n\u001b[0;32m      1\u001b[0m \u001b[38;5;66;03m# Question 19: Create a Python program that reads a text file named paragraph.txt and counts the occurrences of each word in the paragraph, displaying the results in alphabetical order.\u001b[39;00m\n\u001b[0;32m      3\u001b[0m \u001b[38;5;28;01mfrom\u001b[39;00m \u001b[38;5;21;01mcollections\u001b[39;00m \u001b[38;5;28;01mimport\u001b[39;00m Counter\n\u001b[1;32m----> 5\u001b[0m \u001b[38;5;28;01mwith\u001b[39;00m \u001b[38;5;28mopen\u001b[39m(\u001b[38;5;124m'\u001b[39m\u001b[38;5;124mparagraph.txt\u001b[39m\u001b[38;5;124m'\u001b[39m, \u001b[38;5;124m'\u001b[39m\u001b[38;5;124mr\u001b[39m\u001b[38;5;124m'\u001b[39m) \u001b[38;5;28;01mas\u001b[39;00m file:\n\u001b[0;32m      6\u001b[0m     text \u001b[38;5;241m=\u001b[39m file\u001b[38;5;241m.\u001b[39mread()\n\u001b[0;32m      8\u001b[0m words \u001b[38;5;241m=\u001b[39m text\u001b[38;5;241m.\u001b[39msplit()\n",
      "File \u001b[1;32m~\\anaconda3\\Lib\\site-packages\\IPython\\core\\interactiveshell.py:324\u001b[0m, in \u001b[0;36m_modified_open\u001b[1;34m(file, *args, **kwargs)\u001b[0m\n\u001b[0;32m    317\u001b[0m \u001b[38;5;28;01mif\u001b[39;00m file \u001b[38;5;129;01min\u001b[39;00m {\u001b[38;5;241m0\u001b[39m, \u001b[38;5;241m1\u001b[39m, \u001b[38;5;241m2\u001b[39m}:\n\u001b[0;32m    318\u001b[0m     \u001b[38;5;28;01mraise\u001b[39;00m \u001b[38;5;167;01mValueError\u001b[39;00m(\n\u001b[0;32m    319\u001b[0m         \u001b[38;5;124mf\u001b[39m\u001b[38;5;124m\"\u001b[39m\u001b[38;5;124mIPython won\u001b[39m\u001b[38;5;124m'\u001b[39m\u001b[38;5;124mt let you open fd=\u001b[39m\u001b[38;5;132;01m{\u001b[39;00mfile\u001b[38;5;132;01m}\u001b[39;00m\u001b[38;5;124m by default \u001b[39m\u001b[38;5;124m\"\u001b[39m\n\u001b[0;32m    320\u001b[0m         \u001b[38;5;124m\"\u001b[39m\u001b[38;5;124mas it is likely to crash IPython. If you know what you are doing, \u001b[39m\u001b[38;5;124m\"\u001b[39m\n\u001b[0;32m    321\u001b[0m         \u001b[38;5;124m\"\u001b[39m\u001b[38;5;124myou can use builtins\u001b[39m\u001b[38;5;124m'\u001b[39m\u001b[38;5;124m open.\u001b[39m\u001b[38;5;124m\"\u001b[39m\n\u001b[0;32m    322\u001b[0m     )\n\u001b[1;32m--> 324\u001b[0m \u001b[38;5;28;01mreturn\u001b[39;00m io_open(file, \u001b[38;5;241m*\u001b[39margs, \u001b[38;5;241m*\u001b[39m\u001b[38;5;241m*\u001b[39mkwargs)\n",
      "\u001b[1;31mFileNotFoundError\u001b[0m: [Errno 2] No such file or directory: 'paragraph.txt'"
     ]
    }
   ],
   "source": [
    "# Question 19: Create a Python program that reads a text file named paragraph.txt and counts the occurrences of each word in the paragraph, displaying the results in alphabetical order.\n",
    "\n",
    "from collections import Counter\n",
    "\n",
    "with open('paragraph.txt', 'r') as file:\n",
    "    text = file.read()\n",
    "\n",
    "words = text.split()\n",
    "word_count = Counter(words)\n",
    "\n",
    "for word, count in sorted(word_count.items()):\n",
    "    print(f\"{word}: {count}\")\n"
   ]
  },
  {
   "cell_type": "code",
   "execution_count": 111,
   "id": "ee666ae8-baf4-4fa1-8e0d-7b1f6d4bec9a",
   "metadata": {},
   "outputs": [],
   "source": [
    "# Question 20: What do you mean by Measure of Central Tendency and Measures of Dispersion? How it can be calculated?\n",
    "# Measure of Central Tendency: It represents the central point of a dataset. Common measures include:\n",
    "\n",
    "# Mean: The average of all data points.\n",
    "# Median: The middle value when the data points are sorted.\n",
    "# Mode: The most frequent value in the dataset.\n",
    "# Measure of Dispersion: It indicates the spread of data points around the central tendency. Common measures include:\n",
    "\n",
    "# Range: The difference between the maximum and minimum values.\n",
    "# Variance: The average of the squared differences from the mean.\n",
    "# Standard Deviation: The square root of the variance.\n"
   ]
  },
  {
   "cell_type": "code",
   "execution_count": 1,
   "id": "551f28d7-8938-4e27-9b3f-eace9136f9b9",
   "metadata": {},
   "outputs": [
    {
     "data": {
      "image/png": "[encoded data removed]",
      "text/plain": [
       "<Figure size 1500x500 with 3 Axes>"
      ]
     },
     "metadata": {},
     "output_type": "display_data"
    }
   ],
   "source": [
    "# Question 21: What do you mean by skewness? Explain its types. Use graphs to show.\n",
    "# Skewness: It measures the asymmetry of a distribution.\n",
    "\n",
    "# Positive Skewness: The tail on the right side is longer. The mean is greater than the median.\n",
    "# Negative Skewness: The tail on the left side is longer. The mean is less than the median.\n",
    "\n",
    "# Graph \n",
    "\n",
    "import numpy as np\n",
    "import matplotlib.pyplot as plt\n",
    "import seaborn as sns\n",
    "\n",
    "\n",
    "fig, axes = plt.subplots(1, 3, figsize=(15, 5))\n",
    "axes = axes.flatten()\n",
    "\n",
    "data_positive_skew = np.random.exponential(scale=1, size=1000)\n",
    "data_negative_skew = -np.random.exponential(scale=1, size=1000)\n",
    "data_zero_skew = np.random.normal(loc=0, scale=1, size=1000)\n",
    "\n",
    "sns.histplot(data_positive_skew, kde=True, ax=axes[0], color='skyblue')\n",
    "axes[0].set_title('Positive Skewness')\n",
    "axes[0].set_xlabel('Value')\n",
    "axes[0].set_ylabel('Frequency')\n",
    "\n",
    "sns.histplot(data_negative_skew, kde=True, ax=axes[1], color='salmon')\n",
    "axes[1].set_title('Negative Skewness')\n",
    "axes[1].set_xlabel('Value')\n",
    "axes[1].set_ylabel('Frequency')\n",
    "\n",
    "sns.histplot(data_zero_skew, kde=True, ax=axes[2], color='lightgreen')\n",
    "axes[2].set_title('Zero Skewness')\n",
    "axes[2].set_xlabel('Value')\n",
    "axes[2].set_ylabel('Frequency')\n",
    "\n",
    "plt.tight_layout()\n",
    "plt.show()"
   ]
  },
  {
   "cell_type": "code",
   "execution_count": 115,
   "id": "24576b05-9ee8-45a9-9e59-f2b27184b79e",
   "metadata": {},
   "outputs": [],
   "source": [
    "# Question 22: Explain PROBABILITY MASS FUNCTION (PMF) and PROBABILITY DENSITY FUNCTION (PDF). What is the difference between them?\n",
    "# PMF (Probability Mass Function): Used for discrete random variables. It gives the probability that a discrete random variable is exactly equal to some value.\n",
    "\n",
    "# PDF (Probability Density Function): Used for continuous random variables. It describes the likelihood of a random variable to take on a particular value but does not give exact probabilities.\n",
    "\n",
    "# Difference:\n",
    "\n",
    "# PMF applies to discrete variables, PDF to continuous.\n",
    "# PMF gives probabilities directly, while PDF gives densities, and probabilities are found by integrating the PDF over an interval.\n"
   ]
  },
  {
   "cell_type": "code",
   "execution_count": 117,
   "id": "3aebd356-b2bf-4205-90f7-fd4be82de228",
   "metadata": {},
   "outputs": [],
   "source": [
    "# Question 23: What is correlation? Explain its types in detail. What are the methods of determining correlation?\n",
    "# Correlation: It measures the relationship between two variables.\n",
    "\n",
    "# Positive Correlation: As one variable increases, the other also increases.\n",
    "# Negative Correlation: As one variable increases, the other decreases.\n",
    "# Zero Correlation: No linear relationship between the variables.\n",
    "# Methods:\n",
    "\n",
    "# Pearson Correlation: Measures linear correlation between two continuous variables.\n",
    "# Spearman's Rank Correlation: Measures the strength and direction of association between two ranked variables.\n",
    "# Kendall's Tau: Measures ordinal association between two quantities.\n"
   ]
  },
  {
   "cell_type": "code",
   "execution_count": 121,
   "id": "cc0fa257-1609-4ae0-9b35-6467ef9ae244",
   "metadata": {},
   "outputs": [
    {
     "name": "stdout",
     "output_type": "stream",
     "text": [
      "Karl Pearson's Coefficient of Correlation: 0.9031178882610624\n"
     ]
    }
   ],
   "source": [
    "# Question 24: Calculate the coefficient of correlation between the marks obtained by 10 students in Accountancy and Statistics using Karl Pearson's Coefficient of Correlation Method.\n",
    "import numpy as np\n",
    "\n",
    "accountancy = [45, 70, 65, 30, 90, 40, 50, 75, 85, 60]\n",
    "statistics = [35, 90, 70, 40, 95, 40, 60, 80, 80, 50]\n",
    "\n",
    "correlation = np.corrcoef(accountancy, statistics)[0, 1]\n",
    "print(f\"Karl Pearson's Coefficient of Correlation: {correlation}\")\n"
   ]
  },
  {
   "cell_type": "code",
   "execution_count": 123,
   "id": "eb509d32-29b0-4d03-b919-fa0ed21a94e2",
   "metadata": {},
   "outputs": [],
   "source": [
    "# Question 25: Discuss the 4 differences between correlation and regression.\n",
    "# Definition: Correlation measures the strength and direction of a relationship between two variables, while regression predicts the value of a dependent variable based on the value of an independent variable.\n",
    "# Dependence: Correlation does not imply causation, whereas regression assumes one variable is dependent on the other.\n",
    "# Symmetry: Correlation is symmetric, but regression is not.\n",
    "# Units: Correlation is unitless, while regression results are in the units of the dependent variable."
   ]
  },
  {
   "cell_type": "code",
   "execution_count": 125,
   "id": "300354bc-4907-42e2-bb4d-bae7d26f0f91",
   "metadata": {},
   "outputs": [],
   "source": [
    "# Question 28: What is Normal Distribution? What are the four assumptions of Normal Distribution? Explain in detail.\n",
    "# Normal Distribution: A continuous probability distribution where most of the data points cluster around the mean. It is symmetric and has a bell-shaped curve.\n",
    "\n",
    "# Four Assumptions:\n",
    "\n",
    "# Linearity: The relationship between the variables is linear.\n",
    "# Independence: The observations are independent of each other.\n",
    "# Homoscedasticity: The variance of error terms is constant across all levels of the independent variable.\n",
    "# Normality: The error terms are normally distributed."
   ]
  },
  {
   "cell_type": "code",
   "execution_count": 127,
   "id": "5e38f151-8afd-42ec-9a25-4d16265c15f1",
   "metadata": {},
   "outputs": [],
   "source": [
    "# Question 29: Write all the characteristics or Properties of the Normal Distribution Curve.\n",
    "# Symmetry: The curve is symmetric around the mean.\n",
    "# Unimodal: It has a single peak at the mean.\n",
    "# Bell-shaped: The distribution is bell-shaped and extends infinitely in both directions.\n",
    "# Mean = Median = Mode: In a perfectly normal distribution, all three measures of central tendency are equal.\n",
    "# Asymptotic: The tails of the curve approach but never touch the horizontal axis."
   ]
  },
  {
   "cell_type": "code",
   "execution_count": 131,
   "id": "dbaddb6a-6c08-42e6-95dd-3904084f370c",
   "metadata": {},
   "outputs": [],
   "source": [
    "# Question 30: Which of the following options are correct about Normal Distribution Curve?\n",
    "# (a) Correct: Mean ± 0.6745σ covers 50% of the data.\n",
    "# (b) Correct: Mean ± 1σ covers 68.268% of the data.\n",
    "# (c) Correct: Mean ± 2σ covers 95.45% of the data.\n",
    "# (d) Correct: Mean ± 3σ covers 99.73% of the data.\n",
    "# (e) Correct: Only 0.27% lies outside mean ± 3σ."
   ]
  },
  {
   "cell_type": "code",
   "execution_count": 133,
   "id": "fdfaf856-01a2-4b39-b01a-c79978ee28b7",
   "metadata": {},
   "outputs": [],
   "source": [
    "# Question 34: What is a statistical hypothesis? Explain the errors in hypothesis testing. Explain the Sample. What are Large Samples & Small Samples?\n",
    "# Statistical Hypothesis: An assumption about a population parameter, tested using statistical methods.\n",
    "\n",
    "# Errors:\n",
    "\n",
    "# Type I Error (α): Rejecting a true null hypothesis.\n",
    "# Type II Error (β): Failing to reject a false null hypothesis.\n",
    "# Sample: A subset of the population used to make inferences about the population.\n",
    "\n",
    "# Large Samples: Typically n > 30.\n",
    "# Small Samples: Typically n ≤ 30."
   ]
  },
  {
   "cell_type": "code",
   "execution_count": null,
   "id": "488f6efa-f98a-4b14-a966-e51a82ea50e3",
   "metadata": {
    "scrolled": true
   },
   "outputs": [
    {
     "name": "stdout",
     "output_type": "stream",
     "text": [
      " * Serving Flask app '__main__'\n",
      " * Debug mode: off\n"
     ]
    },
    {
     "name": "stderr",
     "output_type": "stream",
     "text": [
      "WARNING: This is a development server. Do not use it in a production deployment. Use a production WSGI server instead.\n",
      " * Running on http://127.0.0.1:5000\n",
      "Press CTRL+C to quit\n",
      "127.0.0.1 - - [31/Aug/2024 23:42:00] \"GET / HTTP/1.1\" 200 -\n"
     ]
    }
   ],
   "source": [
    "# Question 39: How would you create a basic Flask route that displays \"Hello, World!\" on the homepage?\n",
    "\n",
    "\n",
    "from flask import Flask\n",
    "\n",
    "app = Flask(__name__)\n",
    "\n",
    "@app.route('/')\n",
    "def hello():\n",
    "    return \"Hello, World!\"\n",
    "\n",
    "if __name__ == '__main__':\n",
    "    app.run()\n"
   ]
  },
  {
   "cell_type": "code",
   "execution_count": null,
   "id": "8a464212-29ba-428b-99a2-e8373cfa1d03",
   "metadata": {},
   "outputs": [],
   "source": [
    "# Question 40: Explain how to set up a Flask application to handle form submissions using POST requests.\n",
    "\n",
    "\n",
    "'''Step 1- Import flask\n",
    "\n",
    "Step 2 -create a file name app.py and write following code in it '''\n",
    "\n",
    "from flask import Flask, render_template, request, redirect, url_for\n",
    "\n",
    "app = Flask(__name__)\n",
    "\n",
    "@app.route('/', methods=['GET', 'POST'])\n",
    "def home():\n",
    "    if request.method == 'POST':\n",
    "        # Retrieve form data\n",
    "        name = request.form.get('name')\n",
    "        email = request.form.get('email')\n",
    "        print(f\"Name: {name}, Email: {email}\")\n",
    "        # Redirect to the success page or another page\n",
    "        return redirect(url_for('success'))\n",
    "    return render_template('index.html')\n",
    "\n",
    "@app.route('/success')\n",
    "def success():\n",
    "    return 'Form submission was successful!'\n",
    "\n",
    "if __name__ == '__main__':\n",
    "    app.run(debug=True)\n",
    "\n",
    "# Step 3 \n",
    "'''Create a template directory in same location as where app.py lies then create a index.html file in it and write\n",
    "following code in it.\n",
    "'''\n",
    "'''\n",
    "<!-- templates/index.html -->\n",
    "\n",
    "<!doctype html>\n",
    "<html lang=\"en\">\n",
    "<head>\n",
    "    <meta charset=\"utf-8\">\n",
    "    <meta name=\"viewport\" content=\"width=device-width, initial-scale=1\">\n",
    "    <title>Form Submission</title>\n",
    "</head>\n",
    "<body>\n",
    "    <h1>Submit Your Information</h1>\n",
    "    <form method=\"POST\">\n",
    "        <label for=\"name\">Name:</label>\n",
    "        <input type=\"text\" id=\"name\" name=\"name\" required>\n",
    "        <br>\n",
    "        <label for=\"email\">Email:</label>\n",
    "        <input type=\"email\" id=\"email\" name=\"email\" required>\n",
    "        <br>\n",
    "        <button type=\"submit\">Submit</button>\n",
    "    </form>\n",
    "</body>\n",
    "</html>\n",
    "'''\n",
    "\n",
    "\n",
    "# Step 4: run the flask app \n",
    "''' use python app.py to run flask app from terminal'''\n",
    "\n",
    "\n",
    "# Step 5: Test the Form Submission\n",
    "'''Open your web browser and go to http://127.0.0.1:5000/.\n",
    "You should see the form you created.\n",
    "Fill in the form and submit it.'''\n",
    "\n",
    "\n"
   ]
  },
  {
   "cell_type": "code",
   "execution_count": null,
   "id": "3dd09218-dc5b-4dea-a0d7-6d1f179abe43",
   "metadata": {},
   "outputs": [],
   "source": [
    "# Question 41: Write a Flask route that accepts a parameter in the URL and displays it on the page.\n",
    "from flask import Flask\n",
    "\n",
    "app = Flask(__name__)\n",
    "\n",
    "@app.route('/greet/<name>')\n",
    "def greet(name):\n",
    "    return f'Hello, {name}!'\n",
    "\n",
    "if __name__ == '__main__':\n",
    "    app.run(debug=True)\n",
    "\n",
    "\n",
    "'''This simple route accept the name as an parameter and display it later'''\n",
    "\n"
   ]
  },
  {
   "cell_type": "markdown",
   "id": "13ce3871-0803-4af8-aab0-74dcb57deccb",
   "metadata": {},
   "source": [
    "42.How can you implement user authentication in a Flask application?"
   ]
  },
  {
   "cell_type": "code",
   "execution_count": null,
   "id": "0431f149-eaf2-4d99-b146-eda8aae29d05",
   "metadata": {},
   "outputs": [],
   "source": [
    "# app.py code \n",
    "\n",
    "\n",
    "'we have to install some necessary libraries'\n",
    "\n",
    "''' \n",
    "from flask import Flask, render_template, request, redirect, url_for, session, flash\n",
    "from flask_pymongo import PyMongo\n",
    "from werkzeug.security import generate_password_hash, check_password_hash\n",
    "from dotenv import load_dotenv\n",
    "import os\n",
    "\n",
    "# Load environment variables\n",
    "load_dotenv()\n",
    "\n",
    "app = Flask(__name__)\n",
    "app.secret_key = 'your_secret_key'  # Replace with a real secret key\n",
    "\n",
    "# MongoDB configuration\n",
    "app.config['MONGO_URI'] = os.getenv('MONGO_URI')\n",
    "mongo = PyMongo(app)\n",
    "\n",
    "@app.route('/')\n",
    "def index():\n",
    "    if 'username' in session:\n",
    "        return f'Hello {session[\"username\"]}'\n",
    "    return render_template('login.html')\n",
    "\n",
    "@app.route('/signup', methods=['GET', 'POST'])\n",
    "def signup():\n",
    "    if request.method == 'POST':\n",
    "        username = request.form['username']\n",
    "        password = request.form['password']\n",
    "        if mongo.db.users.find_one({'username': username}):\n",
    "            flash('Username already exists')\n",
    "            return redirect(url_for('signup'))\n",
    "        hashed_password = generate_password_hash(password, method='sha256')\n",
    "        mongo.db.users.insert_one({'username': username, 'password': hashed_password})\n",
    "        flash('Signup successful! Please log in.')\n",
    "        return redirect(url_for('login'))\n",
    "    return render_template('signup.html')\n",
    "\n",
    "@app.route('/login', methods=['GET', 'POST'])\n",
    "def login():\n",
    "    if request.method == 'POST':\n",
    "        username = request.form['username']\n",
    "        password = request.form['password']\n",
    "        user = mongo.db.users.find_one({'username': username})\n",
    "        if user and check_password_hash(user['password'], password):\n",
    "            session['username'] = username\n",
    "            return redirect(url_for('index'))\n",
    "        flash('Invalid username or password')\n",
    "        return redirect(url_for('login'))\n",
    "    return render_template('login.html')\n",
    "\n",
    "@app.route('/logout')\n",
    "def logout():\n",
    "    session.pop('username', None)\n",
    "    flash('You have been logged out.')\n",
    "    return redirect(url_for('login'))\n",
    "\n",
    "if __name__ == '__main__':\n",
    "    app.run(debug=True)\n",
    "\n",
    "    \n",
    "\n",
    "'''\n",
    "\n",
    "\n",
    "# login.html code \n",
    "\n",
    "\n",
    "''' <!DOCTYPE html>\n",
    "<html lang=\"en\">\n",
    "<head>\n",
    "    <meta charset=\"UTF-8\">\n",
    "    <meta name=\"viewport\" content=\"width=device-width, initial-scale=1.0\">\n",
    "    <title>Login</title>\n",
    "</head>\n",
    "<body>\n",
    "    <h2>Login</h2>\n",
    "    <form method=\"POST\">\n",
    "        <label for=\"username\">Username:</label>\n",
    "        <input type=\"text\" id=\"username\" name=\"username\" required><br><br>\n",
    "        <label for=\"password\">Password:</label>\n",
    "        <input type=\"password\" id=\"password\" name=\"password\" required><br><br>\n",
    "        <button type=\"submit\">Login</button>\n",
    "    </form>\n",
    "    <p>Don't have an account? <a href=\"{{ url_for('signup') }}\">Sign up here</a></p>\n",
    "</body>\n",
    "</html>\n",
    "'''\n",
    "\n",
    "# signup.html code \n",
    "\n",
    "'''<!DOCTYPE html>\n",
    "<html lang=\"en\">\n",
    "<head>\n",
    "    <meta charset=\"UTF-8\">\n",
    "    <meta name=\"viewport\" content=\"width=device-width, initial-scale=1.0\">\n",
    "    <title>Signup</title>\n",
    "</head>\n",
    "<body>\n",
    "    <h2>Signup</h2>\n",
    "    <form method=\"POST\">\n",
    "        <label for=\"username\">Username:</label>\n",
    "        <input type=\"text\" id=\"username\" name=\"username\" required><br><br>\n",
    "        <label for=\"password\">Password:</label>\n",
    "        <input type=\"password\" id=\"password\" name=\"password\" required><br><br>\n",
    "        <button type=\"submit\">Signup</button>\n",
    "    </form>\n",
    "    <p>Already have an account? <a href=\"{{ url_for('login') }}\">Login here</a></p>\n",
    "</body>\n",
    "</html>\n",
    "'''\n",
    "\n",
    "\n",
    "# Run this code \n",
    "\n",
    "'We have to run this command (python app.py) in terminal to run this app'"
   ]
  },
  {
   "cell_type": "markdown",
   "id": "3f3ca752-b260-42b0-84fe-d846fd3fa474",
   "metadata": {},
   "source": [
    "43.Describe the process of connecting a Flask app to a sQLite database using SQLAIchemy."
   ]
  },
  {
   "cell_type": "code",
   "execution_count": null,
   "id": "d4927f8d-a8ba-45a7-834e-c3a1aa379480",
   "metadata": {},
   "outputs": [],
   "source": [
    "'''\n",
    "To connect a Flask app to an SQLite database using SQLAlchemy, you start by installing the \n",
    "required packages, namely Flask and SQLAlchemy. \n",
    "\n",
    "In our Flask application, we configure the SQLAlchemy connection by setting the SQLALCHEMY_DATABASE_URI \n",
    "in the app's configuration to point to your SQLite database file, typically formatted as \n",
    "sqlite:///path/to/database.db. \n",
    "\n",
    "Next, we have to create an instance of the SQLAlchemy class, passing the Flask app object to it. \n",
    "This instance manages the database connection and provides an interface for interacting \n",
    "with the database. \n",
    "\n",
    "We define our database schema by creating model classes that inherit from db.Model, where each \n",
    "class represents a table in the database, with its attributes corresponding to the table columns. \n",
    "\n",
    "After defining our models, we initialize the database and create the tables by running db.create_all(), \n",
    "which generates the tables in the SQLite database according to your model definitions. \n",
    "\n",
    "With this setup, you can use SQLAlchemy's ORM (Object-Relational Mapping) capabilities to perform \n",
    "CRUD (Create, Read, Update, Delete) operations on your SQLite database through Flask, \n",
    "leveraging the convenience and abstraction provided by SQLAlchemy.\n",
    "\n",
    "'''"
   ]
  },
  {
   "cell_type": "code",
   "execution_count": null,
   "id": "ba9f328e-448b-40f4-8d47-412c6ae4a24d",
   "metadata": {},
   "outputs": [],
   "source": [
    "# Question 44: How would you create a RESTful API endpoint in Flask that returns JSON data?\n",
    "\n",
    "from flask import jsonify\n",
    "\n",
    "@app.route('/api/data', methods=['GET'])\n",
    "def get_data():\n",
    "    data = {\"name\": \"John\", \"age\": 30}\n",
    "    return jsonify(data)\n"
   ]
  },
  {
   "cell_type": "markdown",
   "id": "f9a204c1-8f4f-4dd3-afaf-ab8f2e1795aa",
   "metadata": {},
   "source": [
    "46.How can you implement file uploads in a Flask application?"
   ]
  },
  {
   "cell_type": "code",
   "execution_count": null,
   "id": "5ac9a13a-e5f6-4478-bba6-d09968f04b2a",
   "metadata": {},
   "outputs": [],
   "source": [
    "\n",
    "# Step1: Create a app.py file and write following code in it \n",
    "\n",
    "from flask import Flask, request, redirect, url_for, render_template\n",
    "import os\n",
    "\n",
    "\n",
    "'''First import all necessary libaries'''\n",
    "\n",
    "app = Flask(__name__)\n",
    "app.config['UPLOAD_FOLDER'] = 'uploads'  \n",
    "app.config['MAX_CONTENT_LENGTH'] = 16 * 1024 * 1024  \n",
    "app.secret_key = 'your_secret_key'  \n",
    "\n",
    "# Check the upload folder exists\n",
    "if not os.path.exists(app.config['UPLOAD_FOLDER']):\n",
    "    os.makedirs(app.config['UPLOAD_FOLDER'])\n",
    "\n",
    "@app.route('/', methods=['GET', 'POST'])\n",
    "def upload_file():\n",
    "    if request.method == 'POST':\n",
    "        if 'file' not in request.files:\n",
    "            return redirect(request.url)\n",
    "        file = request.files['file']\n",
    "        if file.filename == '':\n",
    "            return redirect(request.url)\n",
    "        if file:\n",
    "            filename = secure_filename(file.filename)\n",
    "            file.save(os.path.join(app.config['UPLOAD_FOLDER'], filename))\n",
    "            return 'File uploaded successfully!'\n",
    "    return render_template('upload.html')\n",
    "\n",
    "if __name__ == '__main__':\n",
    "    app.run(debug=True)\n",
    "\n",
    "\n",
    "\n",
    "\n",
    "#Step 2 Create html template file  \n",
    "\n",
    "\n",
    "'''<!doctype html>\n",
    "<html lang=\"en\">\n",
    "<head>\n",
    "    <meta charset=\"utf-8\">\n",
    "    <title>File Upload</title>\n",
    "</head>\n",
    "<body>\n",
    "    <h1>Upload a File</h1>\n",
    "    <form method=\"POST\" enctype=\"multipart/form-data\">\n",
    "        <label for=\"file\">Choose file:</label>\n",
    "        <input type=\"file\" id=\"file\" name=\"file\">\n",
    "        <button type=\"submit\">Upload</button>\n",
    "    </form>\n",
    "</body>\n",
    "</html>\n",
    "'''\n",
    "\n",
    "# Step3 Run the flask app \n",
    "'''python app.py '''\n",
    "\n",
    "# Step 4\n",
    "\n",
    "'''5. Test File Upload\n",
    "Open your web browser and go to http://127.0.0.1:5000/.\n",
    "Use the file input to choose a file and submit the form.\n",
    "'''"
   ]
  },
  {
   "cell_type": "code",
   "execution_count": null,
   "id": "5339b3b3-f2d5-4842-bd0c-58f65f46d384",
   "metadata": {},
   "outputs": [],
   "source": [
    "# Question 48: How would you deploy a Flask application to a production server using Gunicorn and Nginx?\n",
    "# Step1 Create wsgi.py file \n",
    "'''# wsgi.py\n",
    "from app import app  \n",
    "\n",
    "if __name__ == \"__main__\":\n",
    "    app.run()\n",
    "'''\n",
    "\n",
    "# Step2 Setup server Environment\n",
    "'''Access the server: Connect to your server via SSH.'''\n",
    "\n",
    "# Step3 Install required library \n",
    "'''pip instll gunicorn\n",
    "install Nginx\n",
    "'''\n",
    "\n",
    "# Step4 Configure Gunicorn\n",
    "'''\n",
    "gunicorn --workers 3 wsgi:app\n",
    "'''\n",
    "\n",
    "# Step5 Create a Gunicorn systemd service:\n",
    "\n",
    "'''Create a file named /etc/systemd/system/myapp.service:''' \n",
    "#replace placeholders with actuall values of yours\n",
    "\n",
    "'''[Unit]\n",
    "Description=Gunicorn instance to serve myapp\n",
    "After=network.target\n",
    "\n",
    "[Service]\n",
    "User=your_user\n",
    "Group=www-data\n",
    "WorkingDirectory=/path/to/your/app\n",
    "ExecStart=/path/to/your/venv/bin/gunicorn --workers 3 --bind unix:/path/to/your/app/myapp.sock wsgi:app\n",
    "\n",
    "[Install]\n",
    "WantedBy=multi-user.target\n",
    "'''\n",
    "\n",
    "# Step 6 Start the gunicorn services \n",
    "\n",
    "''' sudo systemctl start myapp\n",
    "sudo systemctl enable myapp\n",
    "\n",
    "'''\n",
    "\n",
    "# Step 7. Configure Nginx\n",
    "\n",
    "'''server {\n",
    "    listen 80;\n",
    "    server_name your_domain_or_ip;\n",
    "\n",
    "    location / {\n",
    "        proxy_pass http://unix:/path/to/your/app/myapp.sock;\n",
    "        proxy_set_header Host $host;\n",
    "        proxy_set_header X-Real-IP $remote_addr;\n",
    "        proxy_set_header X-Forwarded-For $proxy_add_x_forwarded_for;\n",
    "        proxy_set_header X-Forwarded-Proto $scheme;\n",
    "    }\n",
    "\n",
    "    location /static {\n",
    "        alias /path/to/your/app/static;\n",
    "    }\n",
    "}\n",
    "'''\n",
    "\n",
    "\n",
    "# Enable the Nginx configuration:\n",
    "'''sudo ln -s /etc/nginx/sites-available/myapp /etc/nginx/sites-enabled\n",
    "'''\n",
    "\n",
    "# Test and restart Nginx:\n",
    "'''sudo nginx -t\n",
    "sudo systemctl restart nginx'''\n",
    "\n",
    "\n",
    "'''Step8 Check Deployment\n",
    "Visit your application: Open a web browser and navigate\n",
    "to see your Flask application in action.'''\n"
   ]
  },
  {
   "cell_type": "markdown",
   "id": "df2cc968-1c85-493e-9573-16cd1233476a",
   "metadata": {},
   "source": [
    "Make a fully functional web application using flask, Mangodb. Signup,signin page.And after successfully login.Say hello Geeks message at webpage"
   ]
  },
  {
   "cell_type": "code",
   "execution_count": null,
   "id": "60bd3a62-43b7-4175-869c-64bd4797d711",
   "metadata": {},
   "outputs": [],
   "source": [
    "# app.py code \n",
    "\n",
    "\n",
    "'we have to install some necessary libraries'\n",
    "\n",
    "''' \n",
    "from flask import Flask, render_template, request, redirect, url_for, session, flash\n",
    "from flask_pymongo import PyMongo\n",
    "from werkzeug.security import generate_password_hash, check_password_hash\n",
    "from dotenv import load_dotenv\n",
    "import os\n",
    "\n",
    "# Load environment variables\n",
    "load_dotenv()\n",
    "\n",
    "app = Flask(__name__)\n",
    "app.secret_key = 'your_secret_key'  # Replace with a real secret key\n",
    "\n",
    "# MongoDB configuration\n",
    "app.config['MONGO_URI'] = os.getenv('MONGO_URI')\n",
    "mongo = PyMongo(app)\n",
    "\n",
    "@app.route('/')\n",
    "def index():\n",
    "    if 'username' in session:\n",
    "        return f'Hello {session[\"username\"]}'\n",
    "    return render_template('login.html')\n",
    "\n",
    "@app.route('/signup', methods=['GET', 'POST'])\n",
    "def signup():\n",
    "    if request.method == 'POST':\n",
    "        username = request.form['username']\n",
    "        password = request.form['password']\n",
    "        if mongo.db.users.find_one({'username': username}):\n",
    "            flash('Username already exists')\n",
    "            return redirect(url_for('signup'))\n",
    "        hashed_password = generate_password_hash(password, method='sha256')\n",
    "        mongo.db.users.insert_one({'username': username, 'password': hashed_password})\n",
    "        flash('Signup successful! Please log in.')\n",
    "        return redirect(url_for('login'))\n",
    "    return render_template('signup.html')\n",
    "\n",
    "@app.route('/login', methods=['GET', 'POST'])\n",
    "def login():\n",
    "    if request.method == 'POST':\n",
    "        username = request.form['username']\n",
    "        password = request.form['password']\n",
    "        user = mongo.db.users.find_one({'username': username})\n",
    "        if user and check_password_hash(user['password'], password):\n",
    "            session['username'] = username\n",
    "            return redirect(url_for('index'))\n",
    "        flash('Invalid username or password')\n",
    "        return redirect(url_for('login'))\n",
    "    return render_template('login.html')\n",
    "\n",
    "@app.route('/logout')\n",
    "def logout():\n",
    "    session.pop('username', None)\n",
    "    flash('You have been logged out.')\n",
    "    return redirect(url_for('login'))\n",
    "\n",
    "if __name__ == '__main__':\n",
    "    app.run(debug=True)\n",
    "\n",
    "    \n",
    "\n",
    "'''\n",
    "\n",
    "\n",
    "# login.html code \n",
    "\n",
    "\n",
    "''' <!DOCTYPE html>\n",
    "<html lang=\"en\">\n",
    "<head>\n",
    "    <meta charset=\"UTF-8\">\n",
    "    <meta name=\"viewport\" content=\"width=device-width, initial-scale=1.0\">\n",
    "    <title>Login</title>\n",
    "</head>\n",
    "<body>\n",
    "    <h2>Login</h2>\n",
    "    <form method=\"POST\">\n",
    "        <label for=\"username\">Username:</label>\n",
    "        <input type=\"text\" id=\"username\" name=\"username\" required><br><br>\n",
    "        <label for=\"password\">Password:</label>\n",
    "        <input type=\"password\" id=\"password\" name=\"password\" required><br><br>\n",
    "        <button type=\"submit\">Login</button>\n",
    "    </form>\n",
    "    <p>Don't have an account? <a href=\"{{ url_for('signup') }}\">Sign up here</a></p>\n",
    "</body>\n",
    "</html>\n",
    "'''\n",
    "\n",
    "# signup.html code \n",
    "\n",
    "'''<!DOCTYPE html>\n",
    "<html lang=\"en\">\n",
    "<head>\n",
    "    <meta charset=\"UTF-8\">\n",
    "    <meta name=\"viewport\" content=\"width=device-width, initial-scale=1.0\">\n",
    "    <title>Signup</title>\n",
    "</head>\n",
    "<body>\n",
    "    <h2>Signup</h2>\n",
    "    <form method=\"POST\">\n",
    "        <label for=\"username\">Username:</label>\n",
    "        <input type=\"text\" id=\"username\" name=\"username\" required><br><br>\n",
    "        <label for=\"password\">Password:</label>\n",
    "        <input type=\"password\" id=\"password\" name=\"password\" required><br><br>\n",
    "        <button type=\"submit\">Signup</button>\n",
    "    </form>\n",
    "    <p>Already have an account? <a href=\"{{ url_for('login') }}\">Login here</a></p>\n",
    "</body>\n",
    "</html>\n",
    "'''\n",
    "\n",
    "\n",
    "# Run this code \n",
    "\n",
    "'We have to run this command (python app.py) in terminal to run this app'"
   ]
  },
  {
   "cell_type": "code",
   "execution_count": null,
   "id": "54d1481c-6741-441f-9e10-18bd37421c0c",
   "metadata": {},
   "outputs": [],
   "source": [
    "# Question 50: Machine Learning Questions\n",
    "# 1. Series vs DataFrame:\n",
    "\n",
    "# Series: A one-dimensional array-like object.\n",
    "# DataFrame: A two-dimensional table with rows and columns.\n",
    "# 2. Create a database named Travel_Planner in MySQL:\n",
    "\n",
    "CREATE DATABASE Travel_Planner;\n",
    "USE Travel_Planner;\n",
    "CREATE TABLE bookings (\n",
    "    user_id INT,\n",
    "    flight_id INT,\n",
    "    hotel_id INT,\n",
    "    activity_id INT,\n",
    "    booking_date DATE\n",
    ");\n",
    "\n",
    "\n",
    "# Read the content of this table using Pandas:\n",
    "\n",
    "import pandas as pd\n",
    "import mysql.connector\n",
    "\n",
    "conn = mysql.connector.connect(user='username', password='password', host='localhost', database='Travel_Planner')\n",
    "df = pd.read_sql('SELECT * FROM bookings', conn)\n",
    "print(df)\n",
    "\n",
    "\n",
    "# 3. Difference between loc and iloc:\n",
    "\n",
    "# loc: Label-based indexing.\n",
    "# iloc: Integer position-based indexing.\n",
    "\n",
    "\n",
    "# 4. Supervised vs Unsupervised Learning:\n",
    "\n",
    "# Supervised: Models trained on labeled data.\n",
    "# Unsupervised: Models trained on unlabeled data.\n",
    "\n",
    "\n",
    "# 5. Bias-Variance Tradeoff:\n",
    "\n",
    "# Bias: Error due to overly simplistic assumptions.\n",
    "# Variance: Error due to model complexity.\n",
    "\n",
    "\n",
    "# 6. Precision and Recall:\n",
    "\n",
    "# Precision: True positives divided by all positive predictions.\n",
    "# Recall: True positives divided by all actual positives.\n",
    "\n",
    "# 7. Overfitting and Prevention:\n",
    "\n",
    "# Overfitting: Model performs well on training data but poorly on new data.\n",
    "# Prevention: Cross-validation, pruning, regularization.\n",
    "\n",
    "# 8. Cross-validation:\n",
    "\n",
    "# Technique to evaluate model performance by splitting data into training and validation sets multiple times.\n",
    "\n",
    "# 9. Classification vs Regression:\n",
    "\n",
    "# Classification: Predicting categorical outcomes.\n",
    "# Regression: Predicting continuous outcomes.\n",
    "\n",
    "# 10. Ensemble Learning:\n",
    "\n",
    "# Combines multiple models to improve performance.\n",
    "\n",
    "# 11. Gradient Descent:\n",
    "\n",
    "# Optimization algorithm to minimize the cost function.\n",
    "\n",
    "\n",
    "# 12. Batch vs Stochastic Gradient Descent:\n",
    "\n",
    "# Batch: Uses the entire dataset.\n",
    "# Stochastic: Uses one sample at a time.\n",
    "\n",
    "# 13. Curse of Dimensionality:\n",
    "\n",
    "# High-dimensional data can lead to overfitting.\n",
    "\n",
    "\n",
    "# 14. L1 vs L2 Regularization:\n",
    "\n",
    "# L1: Adds absolute values of coefficients.\n",
    "# L2: Adds squared values of coefficients.\n",
    "\n",
    "\n",
    "# 15. Confusion Matrix:\n",
    "\n",
    "# Matrix used to evaluate the performance of a classification algorithm.\n",
    "\n",
    "\n",
    "# 16. AUC-ROC Curve:\n",
    "\n",
    "# A plot of the true positive rate vs. the false positive rate.\n",
    "\n",
    "# 17. K-Nearest Neighbors (KNN):\n",
    "\n",
    "# A simple algorithm that assigns a class to a point based on the majority class of its neighbors.\n",
    "\n",
    "# 18. Support Vector Machine (SVM):\n",
    "\n",
    "# A powerful classification algorithm that finds the optimal hyperplane separating different classes.\n",
    "\n",
    "# 19. Kernel Trick in SVM:\n",
    "\n",
    "# A technique to transform data into a higher dimension to make it linearly separable.\n",
    "\n",
    "\n",
    "# 20. Types of Kernels:\n",
    "\n",
    "# Linear: For linearly separable data.\n",
    "# Polynomial: For non-linear data.\n",
    "# RBF: For data with no prior knowledge.\n",
    "\n",
    "# 21. Hyperplane in SVM:\n",
    "\n",
    "# The decision boundary separating different classes.\n",
    "\n",
    "# 22. Hard Margin vs Soft Margin SVM:\n",
    "\n",
    "# Hard Margin: No misclassification allowed.\n",
    "# Soft Margin: Some misclassification allowed for better generalization.\n",
    "\n",
    "\n",
    "# 23. Decision Tree Construction:\n",
    "\n",
    "# Split the dataset based on the feature that results in the maximum information gain.\n",
    "\n",
    "\n",
    "# 24. Information Gain:\n",
    "\n",
    "# The reduction in entropy after a dataset is split on an attribute.\n",
    "\n",
    "\n",
    "# 25. Gini Impurity:\n",
    "\n",
    "# A measure of how often a randomly chosen element would be incorrectly labeled.\n",
    "\n",
    "\n",
    "# 26. Random Forest Improvement:\n",
    "\n",
    "# Averages multiple decision trees to reduce variance.\n",
    "\n",
    "\n",
    "# 27. Bootstrapping in Random Forest:\n",
    "\n",
    "# Randomly sampling with replacement to create subsets of data.\n",
    "\n",
    "\n",
    "# 28. Feature Importance in Random Forest:\n",
    "\n",
    "# Measures how much each feature contributes to the prediction.\n",
    "\n",
    "\n",
    "# 29. Logistic Regression Model:\n",
    "\n",
    "# A linear model for binary classification.\n",
    "\n",
    "\n",
    "# 30. Sigmoid Function in Logistic Regression:\n",
    "\n",
    "# Maps predictions to probabilities.\n",
    "\n",
    "# 31. Cost Function in Logistic Regression:\n",
    "\n",
    "# Measures the error between predicted and actual values.\n",
    "\n",
    "\n",
    "# 32. Multiclass Classification in Logistic Regression:\n",
    "\n",
    "# Using one-vs-rest or softmax.\n",
    "\n",
    "\n",
    "# 33. L1 vs L2 Regularization in Logistic Regression:\n",
    "\n",
    "# L1 can produce sparse models, L2 penalizes large coefficients.\n",
    "\n",
    "\n",
    "# 34. XGBoost:\n",
    "\n",
    "# An efficient and powerful implementation of gradient boosting.\n",
    "\n",
    "\n",
    "\n",
    "# 35. Boosting in Ensemble Learning:\n",
    "\n",
    "# Combines weak learners to create a strong learner.\n",
    "\n",
    "\n",
    "# 36. XGBoost and Missing Values:\n",
    "\n",
    "# XGBoost handles missing values by learning the best direction to take when encountering them.\n",
    "\n",
    "\n",
    "\n",
    "\n",
    "\n",
    "\n",
    "\n",
    "\n",
    "\n"
   ]
  },
  {
   "cell_type": "code",
   "execution_count": null,
   "id": "d5ac727c-41f1-4011-b63d-c037719424b9",
   "metadata": {},
   "outputs": [],
   "source": []
  },
  {
   "cell_type": "markdown",
   "id": "40e5771b-5382-4927-bf1b-75d8cae3f696",
   "metadata": {},
   "source": [
    "What are the key hyperparameters in XGBoost and how do they affect model performance?"
   ]
  },
  {
   "cell_type": "code",
   "execution_count": null,
   "id": "533bf099-c637-49dc-86e2-c3fa00ea55fb",
   "metadata": {},
   "outputs": [],
   "source": [
    "'''XGBoost have serval parameter that influence the models performance '''\n",
    "'''\n",
    "1. n_estimitors -  Increasing n_estimators can improve model accuracy as more trees capture complex \n",
    "patterns. However, too many trees can lead to overfitting and increased computational cost.\n",
    "\n",
    "2.learning rate -  A smaller learning_rate makes the model learn more slowly, often requiring more \n",
    "trees to achieve good performance but can lead to better generalization and less overfitting.\n",
    "\n",
    "Larger values speed up learning but can risk overfitting.\n",
    "\n",
    "3.max depth - Deeper trees can model more complex relationships but might overfit the training data. \n",
    "Shallower trees are less prone to overfitting but might underfit if too shallow.\n",
    "\n",
    "4.gamma -  A higher gamma value requires a larger reduction in loss to make further splits, \n",
    "which can help in regularizing the model and reducing overfitting. \n",
    "Lower values make the model more complex.\n",
    "\n",
    "5-lambda (L2 regularization) and alpha (L1 regularization)- Increasing lambda and alpha adds regularization, \n",
    "which can help in preventing overfitting by penalizing large coefficients. \n",
    "Higher values make the model more conservative.\n",
    "\n",
    "\n",
    "\n",
    "\n",
    "'''"
   ]
  },
  {
   "cell_type": "markdown",
   "id": "8f66cd7a-debb-464f-8cd4-136d87513731",
   "metadata": {},
   "source": [
    "Describe the process of gradient boosting in XGBoost."
   ]
  },
  {
   "cell_type": "code",
   "execution_count": null,
   "id": "b2413f06-22c4-4c03-8852-8461ea79f321",
   "metadata": {},
   "outputs": [],
   "source": [
    "'''\n",
    "Gradient boosting in XGBoost involves building a predictive model iteratively by refining errors from \n",
    "previous models. \n",
    "\n",
    "It starts with a simple initial prediction and calculates the residuals, or errors, between this \n",
    "prediction and the actual values. \n",
    "\n",
    "A new decision tree is then trained to predict these residuals, effectively learning where the \n",
    "previous model made mistakes. \n",
    "\n",
    "This new tree's predictions are combined with the existing model's predictions, \n",
    "adjusted by a learning rate to control the impact of each new tree. \n",
    "\n",
    "This process of calculating residuals, training new trees, and updating the model is repeated for a \n",
    "specified number of iterations or until improvements are minimal. \n",
    "\n",
    "The final model is an ensemble of all the trees built, which collectively provide a more accurate \n",
    "and robust prediction by addressing the errors of each previous iteration.'''"
   ]
  },
  {
   "cell_type": "markdown",
   "id": "fffe89b2-4c6b-4780-acd7-83c93fc96bc8",
   "metadata": {},
   "source": [
    "# 39. Advantages and Disadvantages of XGBoost:"
   ]
  },
  {
   "cell_type": "code",
   "execution_count": null,
   "id": "84a60108-452d-4508-9b12-747bf3175184",
   "metadata": {},
   "outputs": [],
   "source": [
    "#  Advantages:\n",
    "# 1.High performance - XGBoost often delivers superior performance compared to other algorithms due to its ability to handle complex patterns in data and its \n",
    "# efficient use of computational resources.\n",
    "\n",
    "# 2.Regularization -  It includes L1 (Lasso) and L2 (Ridge) regularization, which help prevent overfitting \n",
    "# by penalizing large coefficients and making the model more generalizable.\n",
    "\n",
    "# 3.Handle missing values - XGBoost can automatically handle missing values during training, which simplifies preprocessing \n",
    "# and improves robustness.\n",
    "\n",
    "# 4.Flexibility - It supports various objective functions for classification, regression, and ranking tasks. \n",
    "# This makes it versatile for different types of problems.\n",
    "\n",
    "# 5.Feature Importance - XGBoost provides tools to evaluate feature importance, which helps in \n",
    "# understanding the impact of different features on the predictions and aids in feature selection.\n",
    "\n",
    "# 6.Scalability- It is designed to scale well with large datasets and high-dimensional data due to its efficient implementation, \n",
    "# parallel processing, and optimization algorithms.\n",
    "\n",
    "\n",
    "\n",
    "# Disadvantages: Complexity, harder to interpret.\n",
    "\n",
    "# 1. complexity - XGBoost have lot of parameters that makes it more complex. \n",
    "# 2. overfitting - The model will be prone to overfit if not tuned well. \n",
    "# 3. computationally intensive - Traning a lot of decision trees on large datasets required lot of computational power \n",
    "# 4. XGBoost's performance is highly dependent on the quality of the data.\n",
    "# 5. Interpretability -  XGBoost can be less interpretable compared to simpler models, making it harder to understand the underlying decision-making process."
   ]
  }
 ],
 "metadata": {
  "kernelspec": {
   "display_name": "Python 3 (ipykernel)",
   "language": "python",
   "name": "python3"
  },
  "language_info": {
   "codemirror_mode": {
    "name": "ipython",
    "version": 3
   },
   "file_extension": ".py",
   "mimetype": "text/x-python",
   "name": "python",
   "nbconvert_exporter": "python",
   "pygments_lexer": "ipython3",
   "version": "3.12.4"
  }
 },
 "nbformat": 4,
 "nbformat_minor": 5
}
