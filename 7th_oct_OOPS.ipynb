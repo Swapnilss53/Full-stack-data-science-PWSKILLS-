{
  "nbformat": 4,
  "nbformat_minor": 0,
  "metadata": {
    "colab": {
      "provenance": [],
      "authorship_tag": "ABX9TyNwiVXqW8AqpIDD1N2y3N1l",
      "include_colab_link": true
    },
    "kernelspec": {
      "name": "python3",
      "display_name": "Python 3"
    },
    "language_info": {
      "name": "python"
    }
  },
  "cells": [
    {
      "cell_type": "markdown",
      "metadata": {
        "id": "view-in-github",
        "colab_type": "text"
      },
      "source": [
        "<a href=\"https://colab.research.google.com/github/Swapnilss53/Full-stack-data-science-PWSKILLS-/blob/main/7th_oct_OOPS.ipynb\" target=\"_parent\"><img src=\"https://colab.research.google.com/assets/colab-badge.svg\" alt=\"Open In Colab\"/></a>"
      ]
    },
    {
      "cell_type": "markdown",
      "source": [
        "Problem 1: Bank Account Create a class representing a bank account with attributes like account number, account holder name, and balance. Implement methods to deposit and withdraw money from the account."
      ],
      "metadata": {
        "id": "OpPo8U71q3mC"
      }
    },
    {
      "cell_type": "code",
      "source": [
        "#bank account class\n",
        "class BankAccount:\n",
        "  def __init__(self,account_number,account_holder_name,balance=0):\n",
        "    self.account_number = account_number\n",
        "    self.account_holder_name = account_holder_name\n",
        "    self.balance = balance\n",
        "\n",
        "  def deposit(self,amount):\n",
        "    self.balance += amount\n",
        "    return self.balance\n",
        "\n",
        "  def withdraw(self,amount):\n",
        "    if amount > self.balance:\n",
        "          print(\"Insufficient balance!\")\n",
        "          return\n",
        "    self.balance = self.balance - amount\n",
        "    return self.balance\n",
        "\n",
        "\n",
        "#instance of class\n",
        "account1  = BankAccount(\"123\",\"Swapnil Shinde\",500)\n",
        "\n",
        "#printing account number\n",
        "print(account1.account_number)\n",
        "\n",
        "#printing Accoutn holder name\n",
        "print(account1.account_holder_name)\n",
        "\n",
        "#printing balance\n",
        "print(f\"Balance in account no '{account1.account_number}' is := {account1.balance}\")\n",
        "\n",
        "#depositing money in account\n",
        "amount = int(input(\"Enter amount to be deposit := \"))\n",
        "print(f\"The account '{account1.account_number}' is deposited with amount '{amount}', the updated balance is {account1.deposit(amount)}\")\n",
        "\n",
        "#withdraing money from account\n",
        "amount = int(input(\"Enter amount to be withdrawn := \"))\n",
        "print(f\"The account '{account1.account_number}'  withdrawn {amount}, the updated balance is {account1.withdraw(amount)}\")"
      ],
      "metadata": {
        "colab": {
          "base_uri": "https://localhost:8080/"
        },
        "id": "HciyLPKLE352",
        "outputId": "454ae7d5-e6ed-46e7-b8bc-be2f6776055b"
      },
      "execution_count": null,
      "outputs": [
        {
          "output_type": "stream",
          "name": "stdout",
          "text": [
            "123\n",
            "Swapnil Shinde\n",
            "Balance in account no '123' is := 500\n",
            "Enter amount to be deposit := 100\n",
            "The account '123' is deposited with amount '100', the updated balance is 600\n",
            "Enter amount to be withdrawn := 600\n",
            "The account '123'  withdrawn 600, the updated balance is 0\n"
          ]
        }
      ]
    },
    {
      "cell_type": "markdown",
      "source": [
        "Problem 2: Employee Management Create a class representing an employee with attributes like employee ID, name, and salary. Implement methods to calculate the yearly bonus and display employee details."
      ],
      "metadata": {
        "id": "62SlSSclE4eZ"
      }
    },
    {
      "cell_type": "code",
      "source": [
        "class Employee:\n",
        "  def __init__(self,employee_id,name,salary=0):\n",
        "    self.employee_id = employee_id\n",
        "    self.name = name\n",
        "    self.salary = salary\n",
        "\n",
        "  def calculate_yearly_bonus(self):\n",
        "    bonus = 0.10 * self.salary\n",
        "    return bonus\n",
        "\n",
        "  def display_employee_details(self):\n",
        "    print(f\"Employee Id = {self.employee_id}\")\n",
        "    print(f\"Employee Name = {self.name}\")\n",
        "    print(f\"Employee Salary = {self.salary}\")\n",
        "\n",
        "\n",
        "#creating class instance\n",
        "employee1 = Employee(102,\"Swapnil Shinde\", 20000)\n",
        "\n",
        "#printing yearly bonus\n",
        "print(f\"The yearly bonus of employee is := {employee1.calculate_yearly_bonus()}\")\n",
        "\n",
        "#displaying employee datails\n",
        "employee1.display_employee_details()"
      ],
      "metadata": {
        "colab": {
          "base_uri": "https://localhost:8080/"
        },
        "id": "hJ_B5P5QE-Zx",
        "outputId": "72ff2301-09d9-45fc-c757-dc3952fd5c18"
      },
      "execution_count": null,
      "outputs": [
        {
          "output_type": "stream",
          "name": "stdout",
          "text": [
            "The yearly bonus of employee is := 2000.0\n",
            "Employee Id = 102\n",
            "Employee Name = Swapnil Shinde\n",
            "Employee Salary = 20000\n"
          ]
        }
      ]
    },
    {
      "cell_type": "markdown",
      "source": [
        "Problem 3: Vehicle Rental Create a class representing a vehicle rental system. Implement methods to rent a vehicle, return a vehicle, and display available vehicles."
      ],
      "metadata": {
        "id": "PxsLAd7iE_OK"
      }
    },
    {
      "cell_type": "code",
      "source": [
        "class Vehicle_Rental:\n",
        "  def __init__(self):\n",
        "    self.available_vehicles = []\n",
        "\n",
        "  def add_vehicle(self,*vehicles):\n",
        "    for vehicle in vehicles:\n",
        "      self.available_vehicles.append(vehicle)\n",
        "    return\n",
        "\n",
        "  def rent_vehicle(self):\n",
        "    if not self.available_vehicles:\n",
        "      print(\"No vehicles Available for rent.\")\n",
        "      return\n",
        "    return self.available_vehicles.pop()\n",
        "\n",
        "  def return_vehicle(self,vehicle):\n",
        "    self.available_vehicles.append(vehicle)\n",
        "    return\n",
        "\n",
        "  def display_available_vehicle(self):\n",
        "    if not self.available_vehicles:\n",
        "      print(\"No vehicles available.\")\n",
        "    else:\n",
        "      print(\"Available Vehicles:\")\n",
        "      for vehicle in self.available_vehicles:\n",
        "        print(vehicle)\n",
        "    return\n",
        "\n",
        "#creating instance of class\n",
        "instance = Vehicle_Rental()\n",
        "\n",
        "#adding vehicle\n",
        "instance.add_vehicle(\"Activa 5G\",\"Scoda Rapid\",\"Access 125\")\n",
        "\n",
        "#display available vehicle\n",
        "instance.display_available_vehicle()\n",
        "\n",
        "print(\"\\n\")\n",
        "#renting vehicle\n",
        "rented_vehicle = instance.rent_vehicle()\n",
        "print(f\"The vehicle rented is '{rented_vehicle}'\")\n",
        "print(\"\\n\")\n",
        "#display available vehicle\n",
        "instance.display_available_vehicle()\n",
        "print(\"\\n\")\n",
        "# return vehicle\n",
        "instance.return_vehicle(rented_vehicle)\n",
        "\n",
        "#display available vehicle\n",
        "print(\"available vehicles after they returned \")\n",
        "instance.display_available_vehicle()"
      ],
      "metadata": {
        "colab": {
          "base_uri": "https://localhost:8080/"
        },
        "id": "E2sZSmRfFCFd",
        "outputId": "d46591f6-754e-40ae-d218-5f8e4c622d6c"
      },
      "execution_count": null,
      "outputs": [
        {
          "output_type": "stream",
          "name": "stdout",
          "text": [
            "Available Vehicles:\n",
            "Activa 5G\n",
            "Scoda Rapid\n",
            "Access 125\n",
            "\n",
            "\n",
            "The vehicle rented is 'Access 125'\n",
            "\n",
            "\n",
            "Available Vehicles:\n",
            "Activa 5G\n",
            "Scoda Rapid\n",
            "\n",
            "\n",
            "available vehicles after they returned \n",
            "Available Vehicles:\n",
            "Activa 5G\n",
            "Scoda Rapid\n",
            "Access 125\n"
          ]
        }
      ]
    },
    {
      "cell_type": "markdown",
      "source": [
        "Problem 4: Library Catalog Create classes representing a library and a book. Implement methods to add books to the library, borrow books, and display available books."
      ],
      "metadata": {
        "id": "dNC9nXSNFCzL"
      }
    },
    {
      "cell_type": "code",
      "source": [
        "class Book:\n",
        "    def __init__(self, title, author):\n",
        "        self.title = title\n",
        "        self.author = author\n",
        "        self.is_borrowed = False\n",
        "\n",
        "    def borrow(self):\n",
        "        if self.is_borrowed:\n",
        "            return False\n",
        "        else:\n",
        "            self.is_borrowed = True\n",
        "            return True\n",
        "\n",
        "    def return_book(self):\n",
        "        self.is_borrowed = False\n",
        "\n",
        "class Library:\n",
        "    def __init__(self):\n",
        "        self.books = []\n",
        "\n",
        "    def add_book(self, book):\n",
        "        self.books.append(book)\n",
        "\n",
        "    def borrow_book(self, title):\n",
        "        for book in self.books:\n",
        "            if book.title == title:\n",
        "                if book.borrow():\n",
        "                    print(f\"Borrowed {title}\")\n",
        "                else:\n",
        "                    print(f\"{title} is currently borrowed by someone else.\")\n",
        "                return\n",
        "        print(f\"{title} is not in the library.\")\n",
        "\n",
        "    def return_book(self, title):\n",
        "        for book in self.books:\n",
        "            if book.title == title:\n",
        "                book.return_book()\n",
        "                print(f\"Returned {title}\")\n",
        "                return\n",
        "        print(f\"{title} is not in the library.\")\n",
        "\n",
        "    def display_books(self):\n",
        "        print(\"Available books:\")\n",
        "        for book in self.books:\n",
        "            if not book.is_borrowed:\n",
        "                print(book.title)\n",
        "\n",
        "library = Library()\n",
        "book1 = Book('Book1', 'Author1')\n",
        "book2 = Book('Book2', 'Author2')\n",
        "library.add_book(book1)\n",
        "library.add_book(book2)\n",
        "\n",
        "# Display available books\n",
        "library.display_books()\n",
        "# Borrow a book\n",
        "library.borrow_book('Book1')\n",
        "# Display available books after borrowing\n",
        "library.display_books()\n",
        "# Return a book\n",
        "library.return_book('Book1')\n",
        " # Display available books after returning\n",
        "\n",
        "library.display_books()\n",
        "\n"
      ],
      "metadata": {
        "id": "3DIkoE3CFFKV",
        "colab": {
          "base_uri": "https://localhost:8080/"
        },
        "outputId": "45555797-f79d-44ce-f453-2f71fdc7a8c4"
      },
      "execution_count": 1,
      "outputs": [
        {
          "output_type": "stream",
          "name": "stdout",
          "text": [
            "Available books:\n",
            "Book1\n",
            "Book2\n",
            "Borrowed Book1\n",
            "Available books:\n",
            "Book2\n",
            "Returned Book1\n",
            "Available books:\n",
            "Book1\n",
            "Book2\n"
          ]
        }
      ]
    },
    {
      "cell_type": "markdown",
      "source": [
        "Problem 5: Product Inventory Create classes representing a product and an inventory system. Implement methods to add products to the inventory, update product quantity, and display available products."
      ],
      "metadata": {
        "id": "nK8N0phqFF2c"
      }
    },
    {
      "cell_type": "code",
      "source": [
        "class Product:\n",
        "    def __init__(self, id, name, quantity):\n",
        "        self.id = id\n",
        "        self.name = name\n",
        "        self.quantity = quantity\n",
        "\n",
        "class Inventory:\n",
        "    def __init__(self):\n",
        "        self.products = {}\n",
        "\n",
        "    def add_product(self, product):\n",
        "        if product.id in self.products:\n",
        "            self.products[product.id].quantity += product.quantity\n",
        "        else:\n",
        "            self.products[product.id] = product\n",
        "\n",
        "    def update_product_quantity(self, id, quantity):\n",
        "        if id in self.products:\n",
        "            self.products[id].quantity = quantity\n",
        "        else:\n",
        "            print(\"Product not found in inventory.\")\n",
        "\n",
        "    def display_products(self):\n",
        "        for product in self.products.values():\n",
        "            print(f\"ID: {product.id}, Name: {product.name}, Quantity: {product.quantity}\")\n",
        "\n",
        "#created an instance of inventory class\n",
        "inv = Inventory()\n",
        "\n",
        "#created an instance of Product class\n",
        "product1 = Product(1,\"chia seed\",10)\n",
        "product2 = Product(2,\"walnuts\",30)\n",
        "product3 = Product(3,\"kesar\",50)\n",
        "\n",
        "#adding product to inventory\n",
        "inv.add_product(product1)\n",
        "inv.add_product(product2)\n",
        "inv.add_product(product3)\n",
        "\n",
        "#dissplaying product\n",
        "print(\"Available in inventory\")\n",
        "inv.display_products()\n",
        "print(\"\\n\")\n",
        "\n",
        "#updating product quantity\n",
        "inv.update_product_quantity(1,50)\n",
        "\n",
        "#dissplaying product\n",
        "print(\"Available in inventory\")\n",
        "inv.display_products()\n",
        "print(\"\\n\")\n"
      ],
      "metadata": {
        "id": "z7B-iMm9FI5L",
        "colab": {
          "base_uri": "https://localhost:8080/"
        },
        "outputId": "21832329-ebaf-4dbe-fe03-3d754acdd0a3"
      },
      "execution_count": 5,
      "outputs": [
        {
          "output_type": "stream",
          "name": "stdout",
          "text": [
            "Available in inventory\n",
            "ID: 1, Name: chia seed, Quantity: 10\n",
            "ID: 2, Name: walnuts, Quantity: 30\n",
            "ID: 3, Name: kesar, Quantity: 50\n",
            "\n",
            "\n",
            "Available in inventory\n",
            "ID: 1, Name: chia seed, Quantity: 50\n",
            "ID: 2, Name: walnuts, Quantity: 30\n",
            "ID: 3, Name: kesar, Quantity: 50\n",
            "\n",
            "\n"
          ]
        }
      ]
    },
    {
      "cell_type": "markdown",
      "source": [
        "Problem 6: Shape Calculation Create a class representing a shape with attributes like length, width, and height. Implement methods to calculate the area and perimeter of the shape."
      ],
      "metadata": {
        "id": "SQ-WqJRHFJe2"
      }
    },
    {
      "cell_type": "code",
      "source": [
        "class Shape:\n",
        "    def __init__(self, length, width, height):\n",
        "        self.length = length\n",
        "        self.width = width\n",
        "        self.height = height\n",
        "\n",
        "    def calculate_area(self):\n",
        "        return self.length * self.width\n",
        "\n",
        "    def calculate_perimeter(self):\n",
        "        return 2 * (self.length + self.width)\n",
        "\n",
        "#creating instance of Shape class\n",
        "shape = Shape(50,30,10)\n",
        "\n",
        "#calculating area\n",
        "print(f\"The area of shape is := {shape.calculate_area()} sq.cm\")\n",
        "\n",
        "#calculating perimeter\n",
        "print(f\"The perimeter of shape is := {shape.calculate_perimeter()} cm\")"
      ],
      "metadata": {
        "id": "bLB6s27mFLwo",
        "colab": {
          "base_uri": "https://localhost:8080/"
        },
        "outputId": "c9d74bd9-021d-4f7f-b595-f76338105256"
      },
      "execution_count": 10,
      "outputs": [
        {
          "output_type": "stream",
          "name": "stdout",
          "text": [
            "The area of shape is := 1500 sq.cm\n",
            "The perimeter of shape is := 160 cm\n"
          ]
        }
      ]
    },
    {
      "cell_type": "markdown",
      "source": [
        "Problem 7: Student Management Create a class representing a student with attributes like student ID, name, and grades. Implement methods to calculate the average grade and display student details.\n"
      ],
      "metadata": {
        "id": "B-LMLx6RFO3p"
      }
    },
    {
      "cell_type": "code",
      "source": [
        "class Student:\n",
        "    def __init__(self, id, name, grades):\n",
        "        self.id = id\n",
        "        self.name = name\n",
        "        self.grades = grades\n",
        "\n",
        "    def calculate_average_grade(self):\n",
        "        return sum(self.grades) / len(self.grades)\n",
        "\n",
        "    def display_student_details(self):\n",
        "        print(f\"ID: {self.id}, Name: {self.name}, Average Grade: {self.calculate_average_grade()}\")\n",
        "\n",
        "\n",
        "# Create a Student object\n",
        "student1 = Student(1, 'Swapnil Shinde', [85, 90, 78, 92, 88])\n",
        "\n",
        "# Calculate and print the average grade\n",
        "print(student1.calculate_average_grade())\n",
        "\n",
        "# Display student details\n",
        "student1.display_student_details()\n"
      ],
      "metadata": {
        "id": "wYTOM74IFPaM",
        "colab": {
          "base_uri": "https://localhost:8080/"
        },
        "outputId": "94ab0ca0-02a3-4efd-c8c7-489a12144dcf"
      },
      "execution_count": 12,
      "outputs": [
        {
          "output_type": "stream",
          "name": "stdout",
          "text": [
            "86.6\n",
            "ID: 1, Name: Swapnil Shinde, Average Grade: 86.6\n"
          ]
        }
      ]
    },
    {
      "cell_type": "markdown",
      "source": [
        "Problem 8: Email Management Create a class representing an email with attributes like sender, recipient, and subject. Implement methods to send an email and display email details.\n"
      ],
      "metadata": {
        "id": "i6HqV57DFP7i"
      }
    },
    {
      "cell_type": "code",
      "source": [
        "class Email:\n",
        "    def __init__(self, sender, recipient, subject):\n",
        "        self.sender = sender\n",
        "        self.recipient = recipient\n",
        "        self.subject = subject\n",
        "\n",
        "    def send_email(self):\n",
        "        print(f\"Sending email from {self.sender} to {self.recipient}\")\n",
        "\n",
        "    def display_email_details(self):\n",
        "        print(f\"Sender: {self.sender}\")\n",
        "        print(f\"Recipient: {self.recipient}\")\n",
        "        print(f\"Subject: {self.subject}\")\n",
        "\n",
        "\n",
        "# Create an Email object\n",
        "email1 = Email('swapnilshinde532001@gmail.com', 'sme@pwskills.com', 'Check my assignment on time')\n",
        "\n",
        "# Send the email\n",
        "email1.send_email()\n",
        "\n",
        "# Display email details\n",
        "email1.display_email_details()\n"
      ],
      "metadata": {
        "id": "PsFnko-zFSJX",
        "colab": {
          "base_uri": "https://localhost:8080/"
        },
        "outputId": "5932d051-81c0-4c7d-f6ad-6df9b99c661f"
      },
      "execution_count": 14,
      "outputs": [
        {
          "output_type": "stream",
          "name": "stdout",
          "text": [
            "Sending email from swapnilshinde532001@gmail.com to sme@pwskills.com\n",
            "Sender: swapnilshinde532001@gmail.com\n",
            "Recipient: sme@pwskills.com\n",
            "Subject: Check my assignment on time\n"
          ]
        }
      ]
    },
    {
      "cell_type": "markdown",
      "source": [
        "Problem 9: Social Media Profile Create a class representing a social media profile with attributes like username and posts. Implement methods to add posts, display posts, and search for posts by keyword."
      ],
      "metadata": {
        "id": "CUxBk21xFUdC"
      }
    },
    {
      "cell_type": "code",
      "source": [
        "class SocialMediaProfile:\n",
        "    def __init__(self, username):\n",
        "        self.username = username\n",
        "        self.posts = []\n",
        "\n",
        "    def add_post(self, post):\n",
        "        self.posts.append(post)\n",
        "        print(f\"Post added by {self.username}.\")\n",
        "\n",
        "    def display_posts(self):\n",
        "        print(f\"Posts by {self.username}:\")\n",
        "        for post in self.posts:\n",
        "            print(post)\n",
        "\n",
        "    def search_posts(self, keyword):\n",
        "        print(f\"Posts containing '{keyword}':\")\n",
        "        for post in self.posts:\n",
        "            if keyword.lower() in post.lower():\n",
        "                print(post)\n",
        "\n",
        "\n",
        "# Create a SocialMediaProfile object\n",
        "profile1 = SocialMediaProfile('Swapnil Shinde')\n",
        "\n",
        "# Add posts\n",
        "profile1.add_post(\"post1\")\n",
        "profile1.add_post(\"post2\")\n",
        "\n",
        "# Display posts\n",
        "profile1.display_posts()\n",
        "\n",
        "# Search for posts by keyword\n",
        "profile1.search_posts('post1')\n"
      ],
      "metadata": {
        "id": "0g2Ce5cNFU3x",
        "colab": {
          "base_uri": "https://localhost:8080/"
        },
        "outputId": "5155b9ba-36e0-4d94-df39-321f9e6795a3"
      },
      "execution_count": 16,
      "outputs": [
        {
          "output_type": "stream",
          "name": "stdout",
          "text": [
            "Post added by Swapnil Shinde.\n",
            "Post added by Swapnil Shinde.\n",
            "Posts by Swapnil Shinde:\n",
            "post1\n",
            "post2\n",
            "Posts containing 'post1':\n",
            "post1\n"
          ]
        }
      ]
    },
    {
      "cell_type": "markdown",
      "source": [
        "Problem 10: ToDo List Create a class representing a ToDo list with attributes like tasks and due dates. Implement methods to add tasks, mark tasks as completed, and display pending tasks."
      ],
      "metadata": {
        "id": "9OE_9pFAFVZk"
      }
    },
    {
      "cell_type": "code",
      "source": [
        "class ToDoList:\n",
        "    def __init__(self):\n",
        "        self.tasks = {}\n",
        "\n",
        "    def add_task(self, task, due_date):\n",
        "        self.tasks[task] = {'due_date': due_date, 'completed': False}\n",
        "        print(f\"Task '{task}' added.\")\n",
        "\n",
        "    def mark_task_completed(self, task):\n",
        "        if task in self.tasks:\n",
        "            self.tasks[task]['completed'] = True\n",
        "            print(f\"Task '{task}' marked as completed.\")\n",
        "        else:\n",
        "            print(f\"Task '{task}' not found.\")\n",
        "\n",
        "    def display_pending_tasks(self):\n",
        "        print(\"Pending tasks:\")\n",
        "        for task, details in self.tasks.items():\n",
        "            if not details['completed']:\n",
        "                print(f\"Task: {task}, Due date: {details['due_date']}\")\n",
        "\n",
        "\n",
        "# Create a ToDoList object\n",
        "todo_list = ToDoList()\n",
        "\n",
        "# Add tasks\n",
        "todo_list.add_task(\"Buy groceries\", \"1/2/2024\")\n",
        "todo_list.add_task(\"Finish project\", \"2/2/2024\")\n",
        "\n",
        "# Mark task as completed\n",
        "todo_list.mark_task_completed(\"Buy groceries\")\n",
        "\n",
        "# Display pending tasks\n",
        "todo_list.display_pending_tasks()\n"
      ],
      "metadata": {
        "id": "e3OtNR3lFX2-",
        "colab": {
          "base_uri": "https://localhost:8080/"
        },
        "outputId": "3c197c61-e9ba-4412-fa76-5533dcb65bec"
      },
      "execution_count": 17,
      "outputs": [
        {
          "output_type": "stream",
          "name": "stdout",
          "text": [
            "Task 'Buy groceries' added.\n",
            "Task 'Finish project' added.\n",
            "Task 'Buy groceries' marked as completed.\n",
            "Pending tasks:\n",
            "Task: Finish project, Due date: 2/2/2024\n"
          ]
        }
      ]
    },
    {
      "cell_type": "code",
      "source": [],
      "metadata": {
        "id": "XkWGPPAzhwOD"
      },
      "execution_count": null,
      "outputs": []
    }
  ]
}