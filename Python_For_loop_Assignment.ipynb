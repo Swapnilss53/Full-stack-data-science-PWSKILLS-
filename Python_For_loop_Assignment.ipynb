{
  "nbformat": 4,
  "nbformat_minor": 0,
  "metadata": {
    "colab": {
      "provenance": []
    },
    "kernelspec": {
      "name": "python3",
      "display_name": "Python 3"
    },
    "language_info": {
      "name": "python"
    }
  },
  "cells": [
    {
      "cell_type": "code",
      "execution_count": null,
      "metadata": {
        "colab": {
          "base_uri": "https://localhost:8080/"
        },
        "id": "uQ-174X4JxbZ",
        "outputId": "11285bf3-cdc1-43a4-8375-2a076f7c60a2"
      },
      "outputs": [
        {
          "output_type": "stream",
          "name": "stdout",
          "text": [
            "1\n",
            "2\n",
            "3\n",
            "4\n",
            "5\n",
            "6\n",
            "7\n",
            "8\n",
            "9\n",
            "10\n"
          ]
        }
      ],
      "source": [
        "# Q1: Print numbers from 1 to 10 using a `for` loop\n",
        "for i in range(1, 11):\n",
        "    print(i)"
      ]
    },
    {
      "cell_type": "code",
      "source": [
        "# Q2: Calculate the sum of numbers in a list using a `for` loop\n",
        "num_list = [1, 2, 3, 4, 5]\n",
        "sum_of_numbers = 0\n",
        "for num in num_list:\n",
        "    sum_of_numbers += num\n",
        "print(\"Sum of numbers:\", sum_of_numbers)"
      ],
      "metadata": {
        "colab": {
          "base_uri": "https://localhost:8080/"
        },
        "id": "yh3xgf-eK1VN",
        "outputId": "d0635f2b-8538-4aba-cdf7-2394511e82e4"
      },
      "execution_count": null,
      "outputs": [
        {
          "output_type": "stream",
          "name": "stdout",
          "text": [
            "Sum of numbers: 15\n"
          ]
        }
      ]
    },
    {
      "cell_type": "code",
      "source": [
        "# Q3: Print characters of a string in reverse order using a `for` loop\n",
        "input_string = \"Hello\"\n",
        "for char in reversed(input_string):\n",
        "    print(char)"
      ],
      "metadata": {
        "colab": {
          "base_uri": "https://localhost:8080/"
        },
        "id": "GLRj5l93K3Kl",
        "outputId": "70dae551-3bf5-4cc6-b0fd-f649bdb57549"
      },
      "execution_count": null,
      "outputs": [
        {
          "output_type": "stream",
          "name": "stdout",
          "text": [
            "o\n",
            "l\n",
            "l\n",
            "e\n",
            "H\n"
          ]
        }
      ]
    },
    {
      "cell_type": "code",
      "source": [
        "# Q4: Find the factorial of a given number using a `for` loop\n",
        "n = 5\n",
        "factorial = 1\n",
        "for i in range(1, n + 1):\n",
        "    factorial *= i\n",
        "print(\"Factorial of\", n, \"is\", factorial)"
      ],
      "metadata": {
        "colab": {
          "base_uri": "https://localhost:8080/"
        },
        "id": "KHT3DGIDK59m",
        "outputId": "a3b76b19-a103-4ccc-88c2-8c9817a7a48e"
      },
      "execution_count": null,
      "outputs": [
        {
          "output_type": "stream",
          "name": "stdout",
          "text": [
            "Factorial of 5 is 120\n"
          ]
        }
      ]
    },
    {
      "cell_type": "code",
      "source": [
        "# Q5: Print the multiplication table of a given number using a `for` loop\n",
        "n = 7\n",
        "for i in range(1, 11):\n",
        "    print(n, \"*\", i, \"=\", n * i)"
      ],
      "metadata": {
        "colab": {
          "base_uri": "https://localhost:8080/"
        },
        "id": "0JhbnKq1K8Zp",
        "outputId": "c1ab775c-24a8-4277-da7f-14cabf9722de"
      },
      "execution_count": null,
      "outputs": [
        {
          "output_type": "stream",
          "name": "stdout",
          "text": [
            "7 * 1 = 7\n",
            "7 * 2 = 14\n",
            "7 * 3 = 21\n",
            "7 * 4 = 28\n",
            "7 * 5 = 35\n",
            "7 * 6 = 42\n",
            "7 * 7 = 49\n",
            "7 * 8 = 56\n",
            "7 * 9 = 63\n",
            "7 * 10 = 70\n"
          ]
        }
      ]
    },
    {
      "cell_type": "code",
      "source": [
        "# Q6: Count even and odd numbers in a list using a `for` loop\n",
        "numbers = [1, 2, 3, 4, 5, 6, 7, 8, 9]\n",
        "even_count = 0\n",
        "odd_count = 0\n",
        "for num in numbers:\n",
        "    if num % 2 == 0:\n",
        "        even_count += 1\n",
        "    else:\n",
        "        odd_count += 1\n",
        "print(\"Even numbers:\", even_count)\n",
        "print(\"Odd numbers:\", odd_count)"
      ],
      "metadata": {
        "colab": {
          "base_uri": "https://localhost:8080/"
        },
        "id": "V6jL5L6DLDLE",
        "outputId": "c296c8b2-5c17-433b-a4ad-d3edee83ba2a"
      },
      "execution_count": null,
      "outputs": [
        {
          "output_type": "stream",
          "name": "stdout",
          "text": [
            "Even numbers: 4\n",
            "Odd numbers: 5\n"
          ]
        }
      ]
    },
    {
      "cell_type": "code",
      "source": [
        "# Q7: Print squares of numbers from 1 to 5 using a `for` loop\n",
        "for i in range(1, 6):\n",
        "    print(i, \"squared is\", i**2)"
      ],
      "metadata": {
        "colab": {
          "base_uri": "https://localhost:8080/"
        },
        "id": "lGKCUavjLMx-",
        "outputId": "9a001237-717d-4ddc-f24d-91786b6ab7a1"
      },
      "execution_count": null,
      "outputs": [
        {
          "output_type": "stream",
          "name": "stdout",
          "text": [
            "1 squared is 1\n",
            "2 squared is 4\n",
            "3 squared is 9\n",
            "4 squared is 16\n",
            "5 squared is 25\n"
          ]
        }
      ]
    },
    {
      "cell_type": "code",
      "source": [
        "# Q8: Find the length of a string without using `len()`\n",
        "input_string = \"Hello, World!\"\n",
        "length = 0\n",
        "for char in input_string:\n",
        "    length += 1\n",
        "print(\"Length of the string:\", length)"
      ],
      "metadata": {
        "colab": {
          "base_uri": "https://localhost:8080/"
        },
        "id": "8tZoantGLOXB",
        "outputId": "dd9bb174-1c0d-4863-a78d-a9ef06a7f337"
      },
      "execution_count": null,
      "outputs": [
        {
          "output_type": "stream",
          "name": "stdout",
          "text": [
            "Length of the string: 13\n"
          ]
        }
      ]
    },
    {
      "cell_type": "code",
      "source": [
        "# Q9: Calculate the average of a list of numbers using a `for` loop\n",
        "numbers = [4, 7, 1, 9, 5]\n",
        "total = sum(numbers)\n",
        "average = total / len(numbers)\n",
        "print(\"Average:\", average)"
      ],
      "metadata": {
        "colab": {
          "base_uri": "https://localhost:8080/"
        },
        "id": "uZKFuysvLSpw",
        "outputId": "b5bfb57f-5218-462b-c994-8474ade70325"
      },
      "execution_count": null,
      "outputs": [
        {
          "output_type": "stream",
          "name": "stdout",
          "text": [
            "Average: 5.2\n"
          ]
        }
      ]
    },
    {
      "cell_type": "code",
      "source": [
        "# Q10: Print the first `n` Fibonacci numbers using a `for` loop\n",
        "n = 10\n",
        "fibonacci = [0, 1]\n",
        "for i in range(2, n):\n",
        "    next_num = fibonacci[i - 1] + fibonacci[i - 2]\n",
        "    fibonacci.append(next_num)\n",
        "print(\"First\", n, \"Fibonacci numbers:\", fibonacci)"
      ],
      "metadata": {
        "colab": {
          "base_uri": "https://localhost:8080/"
        },
        "id": "o1qZEjceLU6b",
        "outputId": "1449fa78-8a6e-4a87-a919-0ce035e2991c"
      },
      "execution_count": null,
      "outputs": [
        {
          "output_type": "stream",
          "name": "stdout",
          "text": [
            "First 10 Fibonacci numbers: [0, 1, 1, 2, 3, 5, 8, 13, 21, 34]\n"
          ]
        }
      ]
    },
    {
      "cell_type": "code",
      "source": [
        "# Q11: Check if a list contains duplicates using a `for` loop\n",
        "def has_duplicates(lst):\n",
        "    seen = set()\n",
        "    for item in lst:\n",
        "        if item in seen:\n",
        "            return True\n",
        "        seen.add(item)\n",
        "    return False\n",
        "\n",
        "sample_list = [1, 2, 3, 4, 2]\n",
        "if has_duplicates(sample_list):\n",
        "    print(\"The list contains duplicates.\")\n",
        "else:\n",
        "    print(\"The list does not contain duplicates.\")\n"
      ],
      "metadata": {
        "colab": {
          "base_uri": "https://localhost:8080/"
        },
        "id": "I4h0u_oYLi75",
        "outputId": "9b96ca83-3613-446d-df60-6ba889fb2358"
      },
      "execution_count": null,
      "outputs": [
        {
          "output_type": "stream",
          "name": "stdout",
          "text": [
            "The list contains duplicates.\n"
          ]
        }
      ]
    },
    {
      "cell_type": "code",
      "source": [
        "# Q12: Print prime numbers in a given range using a `for` loop\n",
        "def is_prime(num):\n",
        "    if num <= 1:\n",
        "        return False\n",
        "    for i in range(2, int(num**0.5) + 1):\n",
        "        if num % i == 0:\n",
        "            return False\n",
        "    return True\n",
        "\n",
        "start_range = 10\n",
        "end_range = 50\n",
        "print(\"Prime numbers between\", start_range, \"and\", end_range, \"are:\")\n",
        "for num in range(start_range, end_range + 1):\n",
        "    if is_prime(num):\n",
        "        print(num, end=\" \")\n"
      ],
      "metadata": {
        "colab": {
          "base_uri": "https://localhost:8080/"
        },
        "id": "drbzMqbDLlWx",
        "outputId": "94be44e4-24ea-42f4-9ed1-38c86085d8f7"
      },
      "execution_count": null,
      "outputs": [
        {
          "output_type": "stream",
          "name": "stdout",
          "text": [
            "Prime numbers between 10 and 50 are:\n",
            "11 13 17 19 23 29 31 37 41 43 47 "
          ]
        }
      ]
    },
    {
      "cell_type": "code",
      "source": [
        "# Q13: Count vowels in a string using a `for` loop\n",
        "input_string = \"Hello, World!\"\n",
        "vowels = \"AEIOUaeiou\"\n",
        "vowel_count = 0\n",
        "for char in input_string:\n",
        "    if char in vowels:\n",
        "        vowel_count += 1\n",
        "print(\"Number of vowels in the string:\", vowel_count)\n"
      ],
      "metadata": {
        "colab": {
          "base_uri": "https://localhost:8080/"
        },
        "id": "vXOVN8gpLqa9",
        "outputId": "adc67348-2e0b-440e-ad56-f4bcdce9a454"
      },
      "execution_count": null,
      "outputs": [
        {
          "output_type": "stream",
          "name": "stdout",
          "text": [
            "Number of vowels in the string: 3\n"
          ]
        }
      ]
    },
    {
      "cell_type": "code",
      "source": [
        "# Q14: Find the maximum element in a 2D list using a nested `for` loop\n",
        "matrix = [[1, 2, 3], [4, 5, 6], [7, 8, 9]]\n",
        "max_element = matrix[0][0]\n",
        "for row in matrix:\n",
        "    for num in row:\n",
        "        if num > max_element:\n",
        "            max_element = num\n",
        "print(\"Maximum element in the 2D list:\", max_element)"
      ],
      "metadata": {
        "colab": {
          "base_uri": "https://localhost:8080/"
        },
        "id": "NccjfI2nLuwe",
        "outputId": "b12f5920-56b8-4da6-fb42-5877bdbe7263"
      },
      "execution_count": null,
      "outputs": [
        {
          "output_type": "stream",
          "name": "stdout",
          "text": [
            "Maximum element in the 2D list: 9\n"
          ]
        }
      ]
    },
    {
      "cell_type": "code",
      "source": [
        "# Q15: Remove all occurrences of a specific element from a list using a `for` loop\n",
        "num_list = [1, 2, 3, 4, 2, 5, 2]\n",
        "element_to_remove = 2\n",
        "num_list = [num for num in num_list if num != element_to_remove]\n",
        "print(\"List after removing\", element_to_remove, \":\", num_list)"
      ],
      "metadata": {
        "colab": {
          "base_uri": "https://localhost:8080/"
        },
        "id": "N6Rl5kxcLwp4",
        "outputId": "27ea6838-006b-437f-a200-639269692644"
      },
      "execution_count": null,
      "outputs": [
        {
          "output_type": "stream",
          "name": "stdout",
          "text": [
            "List after removing 2 : [1, 3, 4, 5]\n"
          ]
        }
      ]
    },
    {
      "cell_type": "code",
      "source": [
        "# Q16: Generate a multiplication table for numbers from 1 to 5 using a nested `for` loop\n",
        "for i in range(1, 6):\n",
        "    for j in range(1, 11):\n",
        "        print(i, \"*\", j, \"=\", i * j)\n",
        "    print()  # Print an empty line between tables"
      ],
      "metadata": {
        "colab": {
          "base_uri": "https://localhost:8080/"
        },
        "id": "QQSDtmEmL0Ju",
        "outputId": "77656418-2a04-4a52-bbe7-0bbd0ad6716a"
      },
      "execution_count": null,
      "outputs": [
        {
          "output_type": "stream",
          "name": "stdout",
          "text": [
            "1 * 1 = 1\n",
            "1 * 2 = 2\n",
            "1 * 3 = 3\n",
            "1 * 4 = 4\n",
            "1 * 5 = 5\n",
            "1 * 6 = 6\n",
            "1 * 7 = 7\n",
            "1 * 8 = 8\n",
            "1 * 9 = 9\n",
            "1 * 10 = 10\n",
            "\n",
            "2 * 1 = 2\n",
            "2 * 2 = 4\n",
            "2 * 3 = 6\n",
            "2 * 4 = 8\n",
            "2 * 5 = 10\n",
            "2 * 6 = 12\n",
            "2 * 7 = 14\n",
            "2 * 8 = 16\n",
            "2 * 9 = 18\n",
            "2 * 10 = 20\n",
            "\n",
            "3 * 1 = 3\n",
            "3 * 2 = 6\n",
            "3 * 3 = 9\n",
            "3 * 4 = 12\n",
            "3 * 5 = 15\n",
            "3 * 6 = 18\n",
            "3 * 7 = 21\n",
            "3 * 8 = 24\n",
            "3 * 9 = 27\n",
            "3 * 10 = 30\n",
            "\n",
            "4 * 1 = 4\n",
            "4 * 2 = 8\n",
            "4 * 3 = 12\n",
            "4 * 4 = 16\n",
            "4 * 5 = 20\n",
            "4 * 6 = 24\n",
            "4 * 7 = 28\n",
            "4 * 8 = 32\n",
            "4 * 9 = 36\n",
            "4 * 10 = 40\n",
            "\n",
            "5 * 1 = 5\n",
            "5 * 2 = 10\n",
            "5 * 3 = 15\n",
            "5 * 4 = 20\n",
            "5 * 5 = 25\n",
            "5 * 6 = 30\n",
            "5 * 7 = 35\n",
            "5 * 8 = 40\n",
            "5 * 9 = 45\n",
            "5 * 10 = 50\n",
            "\n"
          ]
        }
      ]
    },
    {
      "cell_type": "code",
      "source": [
        "# Q17: Convert a list of Fahrenheit temperatures to Celsius using a `for` loop\n",
        "fahrenheit_temperatures = [32, 68, 77, 104]\n",
        "celsius_temperatures = []\n",
        "for fahrenheit in fahrenheit_temperatures:\n",
        "    celsius = (fahrenheit - 32) * 5/9\n",
        "    celsius_temperatures.append(celsius)\n",
        "print(\"Celsius temperatures:\", celsius_temperatures)\n"
      ],
      "metadata": {
        "colab": {
          "base_uri": "https://localhost:8080/"
        },
        "id": "pu84nuDSL3e6",
        "outputId": "4960f162-0761-46b9-daa5-eeed1a808d95"
      },
      "execution_count": null,
      "outputs": [
        {
          "output_type": "stream",
          "name": "stdout",
          "text": [
            "Celsius temperatures: [0.0, 20.0, 25.0, 40.0]\n"
          ]
        }
      ]
    },
    {
      "cell_type": "code",
      "source": [
        "# Q18: Print common elements from two lists using a `for` loop\n",
        "list1 = [1, 2, 3, 4, 5]\n",
        "list2 = [4, 5, 6, 7, 8]\n",
        "common_elements = []\n",
        "for item in list1:\n",
        "    if item in list2:\n",
        "        common_elements.append(item)\n",
        "print(\"Common elements:\", common_elements)"
      ],
      "metadata": {
        "colab": {
          "base_uri": "https://localhost:8080/"
        },
        "id": "Caitwv6IL6bA",
        "outputId": "d58785d8-ebe4-4d58-9523-319d8407bde2"
      },
      "execution_count": null,
      "outputs": [
        {
          "output_type": "stream",
          "name": "stdout",
          "text": [
            "Common elements: [4, 5]\n"
          ]
        }
      ]
    },
    {
      "cell_type": "code",
      "source": [
        "# Q19: Print a pattern of right-angled triangles using a `for` loop\n",
        "n = 5\n",
        "for i in range(1, n + 1):\n",
        "    for j in range(i):\n",
        "        print(\"*\", end=\" \")\n",
        "    print()"
      ],
      "metadata": {
        "colab": {
          "base_uri": "https://localhost:8080/"
        },
        "id": "TL1_ESsrL8Jp",
        "outputId": "06b65c16-643b-40f0-ff0f-4b501ee4104d"
      },
      "execution_count": null,
      "outputs": [
        {
          "output_type": "stream",
          "name": "stdout",
          "text": [
            "* \n",
            "* * \n",
            "* * * \n",
            "* * * * \n",
            "* * * * * \n"
          ]
        }
      ]
    },
    {
      "cell_type": "code",
      "source": [
        "# Q20: Find the greatest common divisor (GCD) of two numbers using a `for` loop\n",
        "def gcd(a, b):\n",
        "    while b:\n",
        "        a, b = b, a % b\n",
        "    return a\n",
        "\n",
        "num1 = 24\n",
        "num2 = 36\n",
        "result = gcd(num1, num2)\n",
        "print(\"GCD of\", num1, \"and\", num2, \"is\", result)"
      ],
      "metadata": {
        "colab": {
          "base_uri": "https://localhost:8080/"
        },
        "id": "kuarCRj5L-NZ",
        "outputId": "100ab0c1-4402-4571-a322-cf44f63805ef"
      },
      "execution_count": null,
      "outputs": [
        {
          "output_type": "stream",
          "name": "stdout",
          "text": [
            "GCD of 24 and 36 is 12\n"
          ]
        }
      ]
    },
    {
      "cell_type": "code",
      "source": [
        "# Q21: Calculate the sum of digits of numbers in a list using list comprehension\n",
        "num_list = [123, 45, 678, 9]\n",
        "digit_sum_list = [sum(int(digit) for digit in str(num)) for num in num_list]\n",
        "print(\"Sum of digits for each number:\", digit_sum_list)"
      ],
      "metadata": {
        "colab": {
          "base_uri": "https://localhost:8080/"
        },
        "id": "bHWJwk4hMBZw",
        "outputId": "0da73781-83a6-47ac-9713-0bd7d6c55dcc"
      },
      "execution_count": null,
      "outputs": [
        {
          "output_type": "stream",
          "name": "stdout",
          "text": [
            "Sum of digits for each number: [6, 9, 21, 9]\n"
          ]
        }
      ]
    },
    {
      "cell_type": "code",
      "source": [
        "# Q22: Find prime factors of a given number using a `for` loop and list comprehension\n",
        "def prime_factors(n):\n",
        "    factors = []\n",
        "    for i in range(2, n + 1):\n",
        "        while n % i == 0:\n",
        "            factors.append(i)\n",
        "            n //= i\n",
        "    return factors\n",
        "\n",
        "number = 36\n",
        "factors = prime_factors(number)\n",
        "print(\"Prime factors of\", number, \"are:\", factors)\n"
      ],
      "metadata": {
        "colab": {
          "base_uri": "https://localhost:8080/"
        },
        "id": "6FLtzn8kMJV5",
        "outputId": "805c7035-d2fe-4403-91b5-250cbbcf3878"
      },
      "execution_count": null,
      "outputs": [
        {
          "output_type": "stream",
          "name": "stdout",
          "text": [
            "Prime factors of 36 are: [2, 2, 3, 3]\n"
          ]
        }
      ]
    },
    {
      "cell_type": "code",
      "source": [
        "# Q23: Extract unique elements from a list using list comprehension\n",
        "original_list = [1, 2, 2, 3, 4, 4, 5, 6]\n",
        "unique_list = [x for i, x in enumerate(original_list) if x not in original_list[:i]]\n",
        "print(\"Unique elements in the list:\", unique_list)"
      ],
      "metadata": {
        "colab": {
          "base_uri": "https://localhost:8080/"
        },
        "id": "KadNGHbFMgjb",
        "outputId": "a18c38c6-47db-4d7a-ea67-2cbd8129ee48"
      },
      "execution_count": null,
      "outputs": [
        {
          "output_type": "stream",
          "name": "stdout",
          "text": [
            "Unique elements in the list: [1, 2, 3, 4, 5, 6]\n"
          ]
        }
      ]
    },
    {
      "cell_type": "code",
      "source": [
        "# Q24: Generate a list of all palindromic numbers up to a specified limit using list comprehension\n",
        "limit = 100\n",
        "palindromic_numbers = [num for num in range(1, limit + 1) if str(num) == str(num)[::-1]]\n",
        "print(\"Palindromic numbers up to\", limit, \"are:\", palindromic_numbers)\n"
      ],
      "metadata": {
        "colab": {
          "base_uri": "https://localhost:8080/"
        },
        "id": "wXWn8WnmMkZF",
        "outputId": "b5c574f5-c390-4897-fe27-7362b0c5c0fb"
      },
      "execution_count": null,
      "outputs": [
        {
          "output_type": "stream",
          "name": "stdout",
          "text": [
            "Palindromic numbers up to 100 are: [1, 2, 3, 4, 5, 6, 7, 8, 9, 11, 22, 33, 44, 55, 66, 77, 88, 99]\n"
          ]
        }
      ]
    },
    {
      "cell_type": "code",
      "source": [
        "# Q25: Flatten a nested list using list comprehension\n",
        "nested_list = [[1, 2], [3, 4], [5, 6]]\n",
        "flattened_list = [item for sublist in nested_list for item in sublist]\n",
        "print(\"Flattened list:\", flattened_list)\n"
      ],
      "metadata": {
        "colab": {
          "base_uri": "https://localhost:8080/"
        },
        "id": "WbQPNeRdMn05",
        "outputId": "adbe9862-b944-4e7c-88fb-412708a7b254"
      },
      "execution_count": null,
      "outputs": [
        {
          "output_type": "stream",
          "name": "stdout",
          "text": [
            "Flattened list: [1, 2, 3, 4, 5, 6]\n"
          ]
        }
      ]
    },
    {
      "cell_type": "code",
      "source": [
        "# Q26: Compute the sum of even and odd numbers in a list separately using list comprehension\n",
        "numbers = [1, 2, 3, 4, 5, 6, 7, 8, 9]\n",
        "sum_even = sum(x for x in numbers if x % 2 == 0)\n",
        "sum_odd = sum(x for x in numbers if x % 2 != 0)\n",
        "print(\"Sum of even numbers:\", sum_even)\n",
        "print(\"Sum of odd numbers:\", sum_odd)\n"
      ],
      "metadata": {
        "colab": {
          "base_uri": "https://localhost:8080/"
        },
        "id": "ENJ4zWGSMqKc",
        "outputId": "a952da8f-fe7d-4cff-cc6d-fc765d544ec1"
      },
      "execution_count": null,
      "outputs": [
        {
          "output_type": "stream",
          "name": "stdout",
          "text": [
            "Sum of even numbers: 20\n",
            "Sum of odd numbers: 25\n"
          ]
        }
      ]
    },
    {
      "cell_type": "code",
      "source": [
        "# Q27: Generate a list of squares of odd numbers between 1 and 10 using list comprehension\n",
        "squares_of_odd = [x**2 for x in range(1, 11) if x % 2 != 0]\n",
        "print(\"Squares of odd numbers:\", squares_of_odd)"
      ],
      "metadata": {
        "colab": {
          "base_uri": "https://localhost:8080/"
        },
        "id": "d8Mzu2IGMrZc",
        "outputId": "e4eb7c52-04bf-4b9e-a9f8-c0e085440c36"
      },
      "execution_count": null,
      "outputs": [
        {
          "output_type": "stream",
          "name": "stdout",
          "text": [
            "Squares of odd numbers: [1, 9, 25, 49, 81]\n"
          ]
        }
      ]
    },
    {
      "cell_type": "code",
      "source": [
        "# Q28: Combine two lists into a dictionary using list comprehension\n",
        "keys = ['a', 'b', 'c']\n",
        "values = [1, 2, 3]\n",
        "combined_dict = {k: v for k, v in zip(keys, values)}\n",
        "print(\"Combined dictionary:\", combined_dict)"
      ],
      "metadata": {
        "colab": {
          "base_uri": "https://localhost:8080/"
        },
        "id": "x5qAiHcyMu-z",
        "outputId": "2bb86fa0-0914-4238-826f-5981afcefc36"
      },
      "execution_count": null,
      "outputs": [
        {
          "output_type": "stream",
          "name": "stdout",
          "text": [
            "Combined dictionary: {'a': 1, 'b': 2, 'c': 3}\n"
          ]
        }
      ]
    },
    {
      "cell_type": "code",
      "source": [
        "# Q29: Extract vowels from a string and store them in a list using list comprehension\n",
        "input_string = \"Hello, World!\"\n",
        "vowels = \"AEIOUaeiou\"\n",
        "vowel_list = [char for char in input_string if char in vowels]\n",
        "print(\"Vowels in the string:\", vowel_list)"
      ],
      "metadata": {
        "colab": {
          "base_uri": "https://localhost:8080/"
        },
        "id": "GFCpe497MxnL",
        "outputId": "e8b89da1-0c72-4c40-fa3b-8c7d99330fe3"
      },
      "execution_count": null,
      "outputs": [
        {
          "output_type": "stream",
          "name": "stdout",
          "text": [
            "Vowels in the string: ['e', 'o', 'o']\n"
          ]
        }
      ]
    },
    {
      "cell_type": "code",
      "source": [
        "# Q30: Remove non-numeric characters from a list of strings using list comprehension\n",
        "string_list = [\"abc123\", \"def456\", \"789xyz\"]\n",
        "numeric_list = [''.join(filter(str.isdigit, s)) for s in string_list]\n",
        "print(\"Numeric characters in each string:\", numeric_list)"
      ],
      "metadata": {
        "colab": {
          "base_uri": "https://localhost:8080/"
        },
        "id": "ki2Hr57UMzxS",
        "outputId": "60185f71-b281-4a2f-9c28-844f2cde0d0d"
      },
      "execution_count": null,
      "outputs": [
        {
          "output_type": "stream",
          "name": "stdout",
          "text": [
            "Numeric characters in each string: ['123', '456', '789']\n"
          ]
        }
      ]
    },
    {
      "cell_type": "code",
      "source": [
        "# Q31: Generate a list of prime numbers using the Sieve of Eratosthenes algorithm and list comprehension\n",
        "import math\n",
        "\n",
        "def sieve_of_eratosthenes(limit):\n",
        "    sieve = [True] * (limit + 1)\n",
        "    sieve[0] = sieve[1] = False\n",
        "    for current in range(2, int(math.sqrt(limit)) + 1):\n",
        "        if sieve[current]:\n",
        "            for multiple in range(current * current, limit + 1, current):\n",
        "                sieve[multiple] = False\n",
        "    return [num for num in range(2, limit + 1) if sieve[num]]\n",
        "\n",
        "prime_list = sieve_of_eratosthenes(100)\n",
        "print(\"Prime numbers up to 100:\", prime_list)"
      ],
      "metadata": {
        "colab": {
          "base_uri": "https://localhost:8080/"
        },
        "id": "D4aT77l4M2i5",
        "outputId": "2ec5b508-0cec-41be-eaf7-f2594f71c7a9"
      },
      "execution_count": null,
      "outputs": [
        {
          "output_type": "stream",
          "name": "stdout",
          "text": [
            "Prime numbers up to 100: [2, 3, 5, 7, 11, 13, 17, 19, 23, 29, 31, 37, 41, 43, 47, 53, 59, 61, 67, 71, 73, 79, 83, 89, 97]\n"
          ]
        }
      ]
    },
    {
      "cell_type": "code",
      "source": [
        "# Q32: Generate a list of all Pythagorean triplets up to a specified limit using list comprehension\n",
        "limit = 20\n",
        "pythagorean_triplets = [(a, b, c) for a in range(1, limit + 1) for b in range(a, limit + 1) for c in range(b, limit + 1) if a**2 + b**2 == c**2]\n",
        "print(\"Pythagorean triplets up to\", limit, \"are:\", pythagorean_triplets)\n"
      ],
      "metadata": {
        "colab": {
          "base_uri": "https://localhost:8080/"
        },
        "id": "J7u1bKFPNFM1",
        "outputId": "638c4958-67a0-4ca1-e1b5-5c088f80af96"
      },
      "execution_count": null,
      "outputs": [
        {
          "output_type": "stream",
          "name": "stdout",
          "text": [
            "Pythagorean triplets up to 20 are: [(3, 4, 5), (5, 12, 13), (6, 8, 10), (8, 15, 17), (9, 12, 15), (12, 16, 20)]\n"
          ]
        }
      ]
    },
    {
      "cell_type": "code",
      "source": [
        "# Q33: Generate a list of all possible combinations of two lists using list comprehension\n",
        "list1 = [1, 2, 3]\n",
        "list2 = ['a', 'b', 'c']\n",
        "combinations = [(x, y) for x in list1 for y in list2]\n",
        "print(\"Combinations of two lists:\", combinations)\n"
      ],
      "metadata": {
        "colab": {
          "base_uri": "https://localhost:8080/"
        },
        "id": "9yOZxwxQNFZI",
        "outputId": "93a79e3d-dbbd-405f-e09b-f483b5295996"
      },
      "execution_count": null,
      "outputs": [
        {
          "output_type": "stream",
          "name": "stdout",
          "text": [
            "Combinations of two lists: [(1, 'a'), (1, 'b'), (1, 'c'), (2, 'a'), (2, 'b'), (2, 'c'), (3, 'a'), (3, 'b'), (3, 'c')]\n"
          ]
        }
      ]
    },
    {
      "cell_type": "code",
      "source": [
        "# Q34: Calculate the mean, median, and mode of a list of numbers using list comprehension\n",
        "from statistics import mean, median, mode\n",
        "\n",
        "numbers = [1, 2, 2, 3, 4, 4, 5, 6]\n",
        "mean_value = mean(numbers)\n",
        "median_value = median(numbers)\n",
        "mode_value = mode(numbers)\n",
        "print(\"Mean:\", mean_value)\n",
        "print(\"Median:\", median_value)\n",
        "print(\"Mode:\", mode_value)\n"
      ],
      "metadata": {
        "colab": {
          "base_uri": "https://localhost:8080/"
        },
        "id": "JhrHEiXxM8ld",
        "outputId": "c2710a29-2d11-4f29-de08-f7ca5f97f43d"
      },
      "execution_count": null,
      "outputs": [
        {
          "output_type": "stream",
          "name": "stdout",
          "text": [
            "Mean: 3.375\n",
            "Median: 3.5\n",
            "Mode: 2\n"
          ]
        }
      ]
    },
    {
      "cell_type": "code",
      "source": [
        "# Q35: Generate Pascal's triangle up to a specified number of rows using list comprehension\n",
        "def generate_pascals_triangle(num_rows):\n",
        "    triangle = [[1]]\n",
        "    for i in range(1, num_rows):\n",
        "        row = [1]\n",
        "        for j in range(1, i):\n",
        "            row.append(triangle[i - 1][j - 1] + triangle[i - 1][j])\n",
        "        row.append(1)\n",
        "        triangle.append(row)\n",
        "    return triangle\n",
        "\n",
        "num_rows = 5\n",
        "pascals_triangle = generate_pascals_triangle(num_rows)\n",
        "print(\"Pascal's triangle with\", num_rows, \"rows:\")\n",
        "for row in pascals_triangle:\n",
        "    print(row)"
      ],
      "metadata": {
        "colab": {
          "base_uri": "https://localhost:8080/"
        },
        "id": "jrNtTTxKNMCx",
        "outputId": "41910a94-eae7-4753-f2f8-b2aec85b24c4"
      },
      "execution_count": null,
      "outputs": [
        {
          "output_type": "stream",
          "name": "stdout",
          "text": [
            "Pascal's triangle with 5 rows:\n",
            "[1]\n",
            "[1, 1]\n",
            "[1, 2, 1]\n",
            "[1, 3, 3, 1]\n",
            "[1, 4, 6, 4, 1]\n"
          ]
        }
      ]
    },
    {
      "cell_type": "code",
      "source": [
        "# Q36: Calculate the sum of the digits of factorial of numbers from 1 to 5 using list comprehension\n",
        "def factorial(n):\n",
        "    if n == 0:\n",
        "        return 1\n",
        "    else:\n",
        "        return n * factorial(n - 1)\n",
        "\n",
        "sum_of_digits = [sum(int(digit) for digit in str(factorial(num))) for num in range(1, 6)]\n",
        "print(\"Sum of digits of factorial of numbers 1 to 5:\", sum_of_digits)\n"
      ],
      "metadata": {
        "colab": {
          "base_uri": "https://localhost:8080/"
        },
        "id": "7vINCX1ANOeK",
        "outputId": "b13e6a7f-f435-4a04-a4af-092eaf2bef3c"
      },
      "execution_count": null,
      "outputs": [
        {
          "output_type": "stream",
          "name": "stdout",
          "text": [
            "Sum of digits of factorial of numbers 1 to 5: [1, 2, 6, 6, 3]\n"
          ]
        }
      ]
    },
    {
      "cell_type": "code",
      "source": [
        "# Q37: Find the longest word in a sentence using list comprehension\n",
        "sentence = \"This is a sample sentence to find the longest word\"\n",
        "words = sentence.split()\n",
        "longest_word = max(words, key=len)\n",
        "print(\"Longest word in the sentence:\", longest_word)"
      ],
      "metadata": {
        "colab": {
          "base_uri": "https://localhost:8080/"
        },
        "id": "xBoPyvHMNYFm",
        "outputId": "be4fa80c-f924-41d4-9125-f024da861526"
      },
      "execution_count": null,
      "outputs": [
        {
          "output_type": "stream",
          "name": "stdout",
          "text": [
            "Longest word in the sentence: sentence\n"
          ]
        }
      ]
    },
    {
      "cell_type": "code",
      "source": [
        "# Q38: Filter a list of strings to include only those with more than three vowels using list comprehension\n",
        "string_list = [\"hello\", \"world\", \"education\", \"programming\", \"python\"]\n",
        "vowels = \"AEIOUaeiou\"\n",
        "filtered_list = [word for word in string_list if sum(1 for char in word if char in vowels) > 3]\n",
        "print(\"Words with more than three vowels:\", filtered_list)\n"
      ],
      "metadata": {
        "colab": {
          "base_uri": "https://localhost:8080/"
        },
        "id": "II7muZByNZsP",
        "outputId": "6a6153bb-799e-4a39-b778-d52480c3b163"
      },
      "execution_count": null,
      "outputs": [
        {
          "output_type": "stream",
          "name": "stdout",
          "text": [
            "Words with more than three vowels: ['education']\n"
          ]
        }
      ]
    },
    {
      "cell_type": "code",
      "source": [
        "# Q39: Calculate the sum of the digits of numbers from 1 to 1000 using list comprehension\n",
        "sum_of_digits = [sum(int(digit) for digit in str(num)) for num in range(1, 1001)]\n",
        "print(\"Sum of digits of numbers from 1 to 1000:\", sum_of_digits)"
      ],
      "metadata": {
        "colab": {
          "base_uri": "https://localhost:8080/"
        },
        "id": "8cNcc5rINbwl",
        "outputId": "413a9bcd-8bf5-4c9c-9a37-367ff8c409d2"
      },
      "execution_count": null,
      "outputs": [
        {
          "output_type": "stream",
          "name": "stdout",
          "text": [
            "Sum of digits of numbers from 1 to 1000: [1, 2, 3, 4, 5, 6, 7, 8, 9, 1, 2, 3, 4, 5, 6, 7, 8, 9, 10, 2, 3, 4, 5, 6, 7, 8, 9, 10, 11, 3, 4, 5, 6, 7, 8, 9, 10, 11, 12, 4, 5, 6, 7, 8, 9, 10, 11, 12, 13, 5, 6, 7, 8, 9, 10, 11, 12, 13, 14, 6, 7, 8, 9, 10, 11, 12, 13, 14, 15, 7, 8, 9, 10, 11, 12, 13, 14, 15, 16, 8, 9, 10, 11, 12, 13, 14, 15, 16, 17, 9, 10, 11, 12, 13, 14, 15, 16, 17, 18, 1, 2, 3, 4, 5, 6, 7, 8, 9, 10, 2, 3, 4, 5, 6, 7, 8, 9, 10, 11, 3, 4, 5, 6, 7, 8, 9, 10, 11, 12, 4, 5, 6, 7, 8, 9, 10, 11, 12, 13, 5, 6, 7, 8, 9, 10, 11, 12, 13, 14, 6, 7, 8, 9, 10, 11, 12, 13, 14, 15, 7, 8, 9, 10, 11, 12, 13, 14, 15, 16, 8, 9, 10, 11, 12, 13, 14, 15, 16, 17, 9, 10, 11, 12, 13, 14, 15, 16, 17, 18, 10, 11, 12, 13, 14, 15, 16, 17, 18, 19, 2, 3, 4, 5, 6, 7, 8, 9, 10, 11, 3, 4, 5, 6, 7, 8, 9, 10, 11, 12, 4, 5, 6, 7, 8, 9, 10, 11, 12, 13, 5, 6, 7, 8, 9, 10, 11, 12, 13, 14, 6, 7, 8, 9, 10, 11, 12, 13, 14, 15, 7, 8, 9, 10, 11, 12, 13, 14, 15, 16, 8, 9, 10, 11, 12, 13, 14, 15, 16, 17, 9, 10, 11, 12, 13, 14, 15, 16, 17, 18, 10, 11, 12, 13, 14, 15, 16, 17, 18, 19, 11, 12, 13, 14, 15, 16, 17, 18, 19, 20, 3, 4, 5, 6, 7, 8, 9, 10, 11, 12, 4, 5, 6, 7, 8, 9, 10, 11, 12, 13, 5, 6, 7, 8, 9, 10, 11, 12, 13, 14, 6, 7, 8, 9, 10, 11, 12, 13, 14, 15, 7, 8, 9, 10, 11, 12, 13, 14, 15, 16, 8, 9, 10, 11, 12, 13, 14, 15, 16, 17, 9, 10, 11, 12, 13, 14, 15, 16, 17, 18, 10, 11, 12, 13, 14, 15, 16, 17, 18, 19, 11, 12, 13, 14, 15, 16, 17, 18, 19, 20, 12, 13, 14, 15, 16, 17, 18, 19, 20, 21, 4, 5, 6, 7, 8, 9, 10, 11, 12, 13, 5, 6, 7, 8, 9, 10, 11, 12, 13, 14, 6, 7, 8, 9, 10, 11, 12, 13, 14, 15, 7, 8, 9, 10, 11, 12, 13, 14, 15, 16, 8, 9, 10, 11, 12, 13, 14, 15, 16, 17, 9, 10, 11, 12, 13, 14, 15, 16, 17, 18, 10, 11, 12, 13, 14, 15, 16, 17, 18, 19, 11, 12, 13, 14, 15, 16, 17, 18, 19, 20, 12, 13, 14, 15, 16, 17, 18, 19, 20, 21, 13, 14, 15, 16, 17, 18, 19, 20, 21, 22, 5, 6, 7, 8, 9, 10, 11, 12, 13, 14, 6, 7, 8, 9, 10, 11, 12, 13, 14, 15, 7, 8, 9, 10, 11, 12, 13, 14, 15, 16, 8, 9, 10, 11, 12, 13, 14, 15, 16, 17, 9, 10, 11, 12, 13, 14, 15, 16, 17, 18, 10, 11, 12, 13, 14, 15, 16, 17, 18, 19, 11, 12, 13, 14, 15, 16, 17, 18, 19, 20, 12, 13, 14, 15, 16, 17, 18, 19, 20, 21, 13, 14, 15, 16, 17, 18, 19, 20, 21, 22, 14, 15, 16, 17, 18, 19, 20, 21, 22, 23, 6, 7, 8, 9, 10, 11, 12, 13, 14, 15, 7, 8, 9, 10, 11, 12, 13, 14, 15, 16, 8, 9, 10, 11, 12, 13, 14, 15, 16, 17, 9, 10, 11, 12, 13, 14, 15, 16, 17, 18, 10, 11, 12, 13, 14, 15, 16, 17, 18, 19, 11, 12, 13, 14, 15, 16, 17, 18, 19, 20, 12, 13, 14, 15, 16, 17, 18, 19, 20, 21, 13, 14, 15, 16, 17, 18, 19, 20, 21, 22, 14, 15, 16, 17, 18, 19, 20, 21, 22, 23, 15, 16, 17, 18, 19, 20, 21, 22, 23, 24, 7, 8, 9, 10, 11, 12, 13, 14, 15, 16, 8, 9, 10, 11, 12, 13, 14, 15, 16, 17, 9, 10, 11, 12, 13, 14, 15, 16, 17, 18, 10, 11, 12, 13, 14, 15, 16, 17, 18, 19, 11, 12, 13, 14, 15, 16, 17, 18, 19, 20, 12, 13, 14, 15, 16, 17, 18, 19, 20, 21, 13, 14, 15, 16, 17, 18, 19, 20, 21, 22, 14, 15, 16, 17, 18, 19, 20, 21, 22, 23, 15, 16, 17, 18, 19, 20, 21, 22, 23, 24, 16, 17, 18, 19, 20, 21, 22, 23, 24, 25, 8, 9, 10, 11, 12, 13, 14, 15, 16, 17, 9, 10, 11, 12, 13, 14, 15, 16, 17, 18, 10, 11, 12, 13, 14, 15, 16, 17, 18, 19, 11, 12, 13, 14, 15, 16, 17, 18, 19, 20, 12, 13, 14, 15, 16, 17, 18, 19, 20, 21, 13, 14, 15, 16, 17, 18, 19, 20, 21, 22, 14, 15, 16, 17, 18, 19, 20, 21, 22, 23, 15, 16, 17, 18, 19, 20, 21, 22, 23, 24, 16, 17, 18, 19, 20, 21, 22, 23, 24, 25, 17, 18, 19, 20, 21, 22, 23, 24, 25, 26, 9, 10, 11, 12, 13, 14, 15, 16, 17, 18, 10, 11, 12, 13, 14, 15, 16, 17, 18, 19, 11, 12, 13, 14, 15, 16, 17, 18, 19, 20, 12, 13, 14, 15, 16, 17, 18, 19, 20, 21, 13, 14, 15, 16, 17, 18, 19, 20, 21, 22, 14, 15, 16, 17, 18, 19, 20, 21, 22, 23, 15, 16, 17, 18, 19, 20, 21, 22, 23, 24, 16, 17, 18, 19, 20, 21, 22, 23, 24, 25, 17, 18, 19, 20, 21, 22, 23, 24, 25, 26, 18, 19, 20, 21, 22, 23, 24, 25, 26, 27, 1]\n"
          ]
        }
      ]
    },
    {
      "cell_type": "code",
      "source": [
        "# Q40: Generate a list of prime palindromic numbers using list comprehension\n",
        "def is_palindrome(number):\n",
        "    return str(number) == str(number)[::-1]\n",
        "\n",
        "prime_palindromes = [num for num in prime_list if is_palindrome(num)]\n",
        "print(\"Prime palindromic numbers:\", prime_palindromes)"
      ],
      "metadata": {
        "colab": {
          "base_uri": "https://localhost:8080/"
        },
        "id": "loLTNJ4MNeSr",
        "outputId": "5cfc9ef6-ca27-47aa-9f2a-69c091deae9e"
      },
      "execution_count": null,
      "outputs": [
        {
          "output_type": "stream",
          "name": "stdout",
          "text": [
            "Prime palindromic numbers: [2, 3, 5, 7, 11]\n"
          ]
        }
      ]
    }
  ]
}