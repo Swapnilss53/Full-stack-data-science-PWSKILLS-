{
  "cells": [
    {
      "cell_type": "markdown",
      "metadata": {
        "id": "view-in-github",
        "colab_type": "text"
      },
      "source": [
        "<a href=\"https://colab.research.google.com/github/Swapnilss53/Full-stack-data-science-PWSKILLS-/blob/main/20th_aug_python_basics_practice_test.ipynb\" target=\"_parent\"><img src=\"https://colab.research.google.com/assets/colab-badge.svg\" alt=\"Open In Colab\"/></a>"
      ]
    },
    {
      "cell_type": "markdown",
      "id": "e65cdf8a",
      "metadata": {
        "id": "e65cdf8a"
      },
      "source": [
        "String Based Assignment Problem"
      ]
    },
    {
      "cell_type": "markdown",
      "id": "09376139-fc1f-4c02-89f7-37037a922ae3",
      "metadata": {
        "id": "09376139-fc1f-4c02-89f7-37037a922ae3"
      },
      "source": [
        "1. Write a program to reverse a string."
      ]
    },
    {
      "cell_type": "code",
      "execution_count": null,
      "id": "b3ed08da-4680-4c2d-a640-b60d30c48c95",
      "metadata": {
        "id": "b3ed08da-4680-4c2d-a640-b60d30c48c95",
        "outputId": "9f84e56d-1a84-4226-fe29-65389112c817"
      },
      "outputs": [
        {
          "name": "stdout",
          "output_type": "stream",
          "text": [
            "dlroW olleH\n"
          ]
        }
      ],
      "source": [
        "string = \"Hello World\"\n",
        "\n",
        "def reverse_string(string):\n",
        "    reverse_string = string[::-1]\n",
        "    print(reverse_string)\n",
        "\n",
        "reverse_string(string)"
      ]
    },
    {
      "cell_type": "markdown",
      "id": "e676ad87-b877-4370-a1d9-55d24e8fd142",
      "metadata": {
        "id": "e676ad87-b877-4370-a1d9-55d24e8fd142"
      },
      "source": [
        "2. Check if a string is a palindrome."
      ]
    },
    {
      "cell_type": "code",
      "execution_count": null,
      "id": "7aeb7df1-544a-4e43-97a7-cfe77253c3de",
      "metadata": {
        "id": "7aeb7df1-544a-4e43-97a7-cfe77253c3de",
        "outputId": "3d9f502b-fa81-41b9-e2e7-3405c5b12165"
      },
      "outputs": [
        {
          "name": "stdout",
          "output_type": "stream",
          "text": [
            "string is palindrome\n"
          ]
        }
      ],
      "source": [
        "string = \"oyo\"\n",
        "\n",
        "def is_palindrome(string):\n",
        "    reverse_string = string[::-1]\n",
        "\n",
        "    if(string == reverse_string):\n",
        "        print(\"string is palindrome\")\n",
        "    else:\n",
        "        print(\"string is not palindrome\")\n",
        "\n",
        "is_palindrome(string)"
      ]
    },
    {
      "cell_type": "markdown",
      "id": "af0fe79a-f321-4336-8f35-3883e573ea3f",
      "metadata": {
        "id": "af0fe79a-f321-4336-8f35-3883e573ea3f"
      },
      "source": [
        "3. Convert a string to uppercase."
      ]
    },
    {
      "cell_type": "code",
      "execution_count": null,
      "id": "5e441db4-6897-4fe6-973a-63c2176b05d8",
      "metadata": {
        "id": "5e441db4-6897-4fe6-973a-63c2176b05d8",
        "outputId": "5738a249-4dc9-4ab2-f8f4-c8e6bf11738f"
      },
      "outputs": [
        {
          "name": "stdout",
          "output_type": "stream",
          "text": [
            "HELLO\n"
          ]
        }
      ],
      "source": [
        "string = \"hello\"\n",
        "\n",
        "def convert_into_uppercase(string):\n",
        "    upper_case_string = string.upper()\n",
        "    print(upper_case_string)\n",
        "\n",
        "convert_into_uppercase(string)"
      ]
    },
    {
      "cell_type": "markdown",
      "id": "30146e8c-b3b9-44ea-89da-6541a9c8a27a",
      "metadata": {
        "id": "30146e8c-b3b9-44ea-89da-6541a9c8a27a"
      },
      "source": [
        "4. Convert a string to lowercase."
      ]
    },
    {
      "cell_type": "code",
      "execution_count": null,
      "id": "e8ad5891-062e-4b56-854d-ddec8c6077ff",
      "metadata": {
        "id": "e8ad5891-062e-4b56-854d-ddec8c6077ff",
        "outputId": "e7efe993-b268-47ed-f311-061c9faf5714"
      },
      "outputs": [
        {
          "name": "stdout",
          "output_type": "stream",
          "text": [
            "hello\n"
          ]
        }
      ],
      "source": [
        "string = \"HELLO\"\n",
        "\n",
        "def convert_into_lowercase(string):\n",
        "    lower_case_string = string.lower()\n",
        "    print(lower_case_string)\n",
        "\n",
        "convert_into_lowercase(string)"
      ]
    },
    {
      "cell_type": "markdown",
      "id": "d8592f06-9f0e-4874-857b-5c50c19b1012",
      "metadata": {
        "id": "d8592f06-9f0e-4874-857b-5c50c19b1012"
      },
      "source": [
        "5. Count the number of vowels in a string."
      ]
    },
    {
      "cell_type": "code",
      "execution_count": null,
      "id": "e63cccb3-d3b4-40c1-a500-382f45830818",
      "metadata": {
        "id": "e63cccb3-d3b4-40c1-a500-382f45830818",
        "outputId": "a5f5ed1d-77fa-4ba1-e4ab-3fcb3f7cd49b"
      },
      "outputs": [
        {
          "name": "stdout",
          "output_type": "stream",
          "text": [
            "5\n"
          ]
        }
      ],
      "source": [
        "string = \"helloooo\"\n",
        "\n",
        "def vowel_count(string):\n",
        "    vowels = \"aeiouAEIOU\"\n",
        "    count = 0\n",
        "\n",
        "    for char in string:\n",
        "        if char in vowels:\n",
        "            count += 1\n",
        "\n",
        "    print(count)\n",
        "\n",
        "# calling a function\n",
        "vowel_count(string)\n"
      ]
    },
    {
      "cell_type": "markdown",
      "id": "1003e536-0bce-4fa1-9317-32df4959092e",
      "metadata": {
        "id": "1003e536-0bce-4fa1-9317-32df4959092e"
      },
      "source": [
        "6. Count the number of consonants in a string."
      ]
    },
    {
      "cell_type": "code",
      "execution_count": null,
      "id": "794fbb97-b9e7-4095-bdc2-498b11a0561a",
      "metadata": {
        "id": "794fbb97-b9e7-4095-bdc2-498b11a0561a",
        "outputId": "bba60d2e-6133-48fb-8a38-59b3311f5e9e"
      },
      "outputs": [
        {
          "name": "stdout",
          "output_type": "stream",
          "text": [
            "5\n"
          ]
        }
      ],
      "source": [
        "string = \"helloomn\"\n",
        "\n",
        "def consonants_count(string):\n",
        "    consonants = \"bcdfghjklmnpqrstvwxyzBCDFGHJKLMNPQRSTVWXYZ\"\n",
        "    count = 0\n",
        "\n",
        "    for char in string:\n",
        "        if char in consonants:\n",
        "            count += 1\n",
        "\n",
        "    print(count)\n",
        "\n",
        "# calling a function\n",
        "consonants_count(string)"
      ]
    },
    {
      "cell_type": "markdown",
      "id": "9c7e9762-50b8-48de-9729-066c752aa9d9",
      "metadata": {
        "id": "9c7e9762-50b8-48de-9729-066c752aa9d9"
      },
      "source": [
        "7. Remove all whitespaces from a string."
      ]
    },
    {
      "cell_type": "code",
      "execution_count": null,
      "id": "4ed1bc07-c1fa-4eaf-9f1f-ec7c889c3c9a",
      "metadata": {
        "id": "4ed1bc07-c1fa-4eaf-9f1f-ec7c889c3c9a",
        "outputId": "04cb831b-de74-46a9-d688-a3b34d2c045b"
      },
      "outputs": [
        {
          "name": "stdout",
          "output_type": "stream",
          "text": [
            "Helloworldformswapnil\n"
          ]
        }
      ],
      "source": [
        "string = \"Hello world form swapnil\"\n",
        "\n",
        "def remove_whitespace(string):\n",
        "    string_without_white_space = string.replace(\" \",\"\")\n",
        "\n",
        "    print(string_without_white_space)\n",
        "\n",
        "# calling a function\n",
        "remove_whitespace(string)"
      ]
    },
    {
      "cell_type": "markdown",
      "id": "b62730bf-ba2a-41aa-b9a4-3b9dfe77b33e",
      "metadata": {
        "id": "b62730bf-ba2a-41aa-b9a4-3b9dfe77b33e"
      },
      "source": [
        "8. Find the length of a string without using the `len()` function."
      ]
    },
    {
      "cell_type": "code",
      "execution_count": null,
      "id": "673fb4d8-ed26-4ff0-b848-2e16ece60e6f",
      "metadata": {
        "id": "673fb4d8-ed26-4ff0-b848-2e16ece60e6f",
        "outputId": "f110f8c3-7c37-401d-8fa8-d13b23701a40"
      },
      "outputs": [
        {
          "name": "stdout",
          "output_type": "stream",
          "text": [
            "3\n"
          ]
        }
      ],
      "source": [
        "string = \"h p\"\n",
        "def length(string):\n",
        "    count = 0\n",
        "    for char in string:\n",
        "        count += 1\n",
        "\n",
        "    print(count)\n",
        "\n",
        "# calling a function\n",
        "length(string)"
      ]
    },
    {
      "cell_type": "markdown",
      "id": "3267f2ba-e40e-4b3c-90d5-78dab62bcc7e",
      "metadata": {
        "id": "3267f2ba-e40e-4b3c-90d5-78dab62bcc7e"
      },
      "source": [
        "9. Check if a string contains a specific word."
      ]
    },
    {
      "cell_type": "code",
      "execution_count": null,
      "id": "865f2aed-e556-472c-9431-a522ba839189",
      "metadata": {
        "id": "865f2aed-e556-472c-9431-a522ba839189",
        "outputId": "220847d9-a038-4058-d8c0-5fe98527657d"
      },
      "outputs": [
        {
          "name": "stdout",
          "output_type": "stream",
          "text": [
            "The string conatins given word\n"
          ]
        }
      ],
      "source": [
        "input_string = str(input(\"Enter the Sentence :=\"))\n",
        "word = str(input(\"Enter a word :=\"))\n",
        "\n",
        "def check_word(string,word):\n",
        "    if word in input_string:\n",
        "        print(\"The string conatins given word\")\n",
        "    else:\n",
        "        print(\"The string does not conatin given word\")\n",
        "\n",
        "check_word(input_string,word)"
      ]
    },
    {
      "cell_type": "markdown",
      "id": "0ae33cb2-98bb-4eaa-9758-b80708b69337",
      "metadata": {
        "id": "0ae33cb2-98bb-4eaa-9758-b80708b69337"
      },
      "source": [
        "10. Replace a word in a string with another word."
      ]
    },
    {
      "cell_type": "code",
      "execution_count": null,
      "id": "c9d22b3d-ea3f-4be0-8d46-c9a221c94448",
      "metadata": {
        "id": "c9d22b3d-ea3f-4be0-8d46-c9a221c94448",
        "outputId": "5eabc1fc-1f2d-459c-d865-0d10bddb9f88"
      },
      "outputs": [
        {
          "data": {
            "text/plain": [
              "'New sentence after replacement := Swapnil shinde shinde'"
            ]
          },
          "execution_count": 22,
          "metadata": {},
          "output_type": "execute_result"
        }
      ],
      "source": [
        "\n",
        "def replace_word():\n",
        "    input_string = str(input(\"Enter a sentence :=\"))\n",
        "    to_replace = str(input(\"Enter the word to replace :=\"))\n",
        "    replacement = str(input(\"Enter the replacement word :=\"))\n",
        "\n",
        "    new_sentence = input_string.replace(to_replace,replacement)\n",
        "    return \"New sentence after replacement := \"+new_sentence\n",
        "\n",
        "replace_word()\n",
        "\n"
      ]
    },
    {
      "cell_type": "markdown",
      "id": "39bcbfcd-03b1-486c-b175-74f806236179",
      "metadata": {
        "id": "39bcbfcd-03b1-486c-b175-74f806236179"
      },
      "source": [
        "11. Count the occurrences of a word in a string."
      ]
    },
    {
      "cell_type": "code",
      "execution_count": null,
      "id": "5488f0df-0965-46c6-98df-b37dec2571e6",
      "metadata": {
        "id": "5488f0df-0965-46c6-98df-b37dec2571e6",
        "outputId": "422f2c0d-85f3-49ab-8293-7db434960154"
      },
      "outputs": [
        {
          "name": "stdout",
          "output_type": "stream",
          "text": [
            "The count of word in the sentence =  0\n"
          ]
        }
      ],
      "source": [
        "def count_word():\n",
        "    input_string = str(input(\"Enter a string :=\"))\n",
        "    word = str(input(\"the word to be counted :=\"))\n",
        "\n",
        "    count = input_string.count(word)\n",
        "\n",
        "    print(\"The count of word in the sentence = \",count)\n",
        "\n",
        "# calling a function\n",
        "count_word()"
      ]
    },
    {
      "cell_type": "markdown",
      "id": "65bc9b61-f1e3-4947-adb8-50e05eb59466",
      "metadata": {
        "id": "65bc9b61-f1e3-4947-adb8-50e05eb59466"
      },
      "source": [
        "12. Find the first occurrence of a word in a string."
      ]
    },
    {
      "cell_type": "code",
      "execution_count": null,
      "id": "8a65ce5a-37c9-4e6c-a782-84f6ce23509f",
      "metadata": {
        "id": "8a65ce5a-37c9-4e6c-a782-84f6ce23509f",
        "outputId": "ea019a3b-5029-4f7d-d7aa-0b6f818b37d0"
      },
      "outputs": [
        {
          "name": "stdout",
          "output_type": "stream",
          "text": [
            "The first occurance of word a is :=  2\n"
          ]
        }
      ],
      "source": [
        "input_string = str(input(\"Enter a string := \"))\n",
        "word = str(input(\"Enter a word whose first occurance is needed := \"))\n",
        "\n",
        "#function for finding first occurance of the word\n",
        "def first_occurance(input_string, word):\n",
        "    index = input_string.find(word)\n",
        "\n",
        "    return index\n",
        "\n",
        "# calling a function and storing value in index variable\n",
        "index = first_occurance(input_string, word)\n",
        "print(\"The first occurance of word \"+word+\" is := \",index)"
      ]
    },
    {
      "cell_type": "markdown",
      "id": "a90131ff-3ad9-407f-840e-65be5e9a6070",
      "metadata": {
        "id": "a90131ff-3ad9-407f-840e-65be5e9a6070"
      },
      "source": [
        "13. Find the last occurrence of a word in a string."
      ]
    },
    {
      "cell_type": "code",
      "execution_count": null,
      "id": "188638ce-ab41-4831-ba90-c679f075fc8b",
      "metadata": {
        "id": "188638ce-ab41-4831-ba90-c679f075fc8b",
        "outputId": "972e86c3-4245-4a77-a079-2b0b670c4e4c"
      },
      "outputs": [
        {
          "name": "stdout",
          "output_type": "stream",
          "text": [
            "The last occurance of word s is :=  8\n"
          ]
        }
      ],
      "source": [
        "input_string = str(input(\"Enter a string := \"))\n",
        "word = str(input(\"Enter a word whose last occurance is needed := \"))\n",
        "\n",
        "def last_occurance(input_string, word):\n",
        "    index = input_string.rfind(word)\n",
        "\n",
        "    return index\n",
        "\n",
        "# calling a function and storing value in index variable\n",
        "index = last_occurance(input_string, word)\n",
        "print(\"The last occurance of word \"+word+\" is := \",index)"
      ]
    },
    {
      "cell_type": "markdown",
      "id": "0188d911-6491-44cb-8fb3-3bc6e73dcea7",
      "metadata": {
        "id": "0188d911-6491-44cb-8fb3-3bc6e73dcea7"
      },
      "source": [
        "14. Split a string into a list of words."
      ]
    },
    {
      "cell_type": "code",
      "execution_count": null,
      "id": "1c061303-20bb-4c07-808c-2f5b92b390aa",
      "metadata": {
        "id": "1c061303-20bb-4c07-808c-2f5b92b390aa",
        "outputId": "cf0de2f1-0635-45b1-c89a-f4da1013d827"
      },
      "outputs": [
        {
          "name": "stdout",
          "output_type": "stream",
          "text": [
            "list of splitted words :=  ['hello', 'world']\n"
          ]
        }
      ],
      "source": [
        "input_string = str(input(\"Enter a string := \"))\n",
        "\n",
        "def split_into_words(string):\n",
        "    list_of_words = string.split()\n",
        "    return list_of_words\n",
        "\n",
        "print(\"list of splitted words := \",split_into_words(input_string))"
      ]
    },
    {
      "cell_type": "markdown",
      "id": "38f2b548-d17c-4322-b9ff-b1cf90d8baa5",
      "metadata": {
        "id": "38f2b548-d17c-4322-b9ff-b1cf90d8baa5"
      },
      "source": [
        "15. Join a list of words into a string."
      ]
    },
    {
      "cell_type": "code",
      "execution_count": null,
      "id": "dee46540-93a2-486d-8a92-5f31f8862c57",
      "metadata": {
        "id": "dee46540-93a2-486d-8a92-5f31f8862c57",
        "outputId": "86006a8e-6caa-4aac-f5de-98953c6c58d8"
      },
      "outputs": [
        {
          "name": "stdout",
          "output_type": "stream",
          "text": [
            "list of words after joining := hello assignment checker is my assignment good!\n"
          ]
        }
      ],
      "source": [
        "list_of_words = ['hello ','assignment ','checker ','is ','my ','assignment ','good!']\n",
        "\n",
        "print('list of words after joining := '+''.join(list_of_words))"
      ]
    },
    {
      "cell_type": "markdown",
      "id": "2f8dbbb3-c3fc-458c-984a-f98761342f75",
      "metadata": {
        "id": "2f8dbbb3-c3fc-458c-984a-f98761342f75"
      },
      "source": [
        "16. Convert a string where words are separated by spaces to one where words\n",
        "are separated by underscores."
      ]
    },
    {
      "cell_type": "code",
      "execution_count": null,
      "id": "8f8ec60c-e807-4c2d-bc92-807aa38a7259",
      "metadata": {
        "id": "8f8ec60c-e807-4c2d-bc92-807aa38a7259",
        "outputId": "7e72c5e2-1271-4137-93e9-77ab5794111a"
      },
      "outputs": [
        {
          "name": "stdout",
          "output_type": "stream",
          "text": [
            "The string after replacing by _ is :=  The_learning_is_going_very_well_and_really_liking_this_course\n"
          ]
        }
      ],
      "source": [
        "string = \"The learning is going very well and really liking this course\"\n",
        "\n",
        "new_string = string.replace(\" \",\"_\")\n",
        "\n",
        "print(\"The string after replacing by _ is := \",new_string)"
      ]
    },
    {
      "cell_type": "markdown",
      "id": "2ac30be9-6ad1-462e-8768-e64379d29036",
      "metadata": {
        "id": "2ac30be9-6ad1-462e-8768-e64379d29036"
      },
      "source": [
        "17. Check if a string starts with a specific word or phrase."
      ]
    },
    {
      "cell_type": "code",
      "execution_count": null,
      "id": "805f8235-b5c9-4ad4-90e2-e41ac2d26944",
      "metadata": {
        "id": "805f8235-b5c9-4ad4-90e2-e41ac2d26944"
      },
      "outputs": [],
      "source": [
        "string = str(input(\"Enter a inut string :=\"))\n",
        "word = str(input(\"Enter a word to check whether string start with that word := \"))\n",
        "\n",
        "if string.startswith(word):\n",
        "    print(\"The string starts with word := \",word)\n",
        "else:\n",
        "    print(\"The string does not starts with := \",word)"
      ]
    },
    {
      "cell_type": "markdown",
      "id": "a2dc9dab-4f0c-4621-a75f-4bb7f982f297",
      "metadata": {
        "id": "a2dc9dab-4f0c-4621-a75f-4bb7f982f297"
      },
      "source": [
        "18. Check if a string ends with a specific word or phrase."
      ]
    },
    {
      "cell_type": "code",
      "execution_count": null,
      "id": "1348a2cc-08ae-498c-a5dc-ef1ab0ea8781",
      "metadata": {
        "id": "1348a2cc-08ae-498c-a5dc-ef1ab0ea8781"
      },
      "outputs": [],
      "source": [
        "string = str(input(\"Enter a inut string :=\"))\n",
        "word = str(input(\"Enter a word to check whether string end with that word := \"))\n",
        "\n",
        "if string.endswith(word):\n",
        "    print(\"The string ends with word := \",word)\n",
        "else:\n",
        "    print(\"The string does not ends with := \",word)"
      ]
    },
    {
      "cell_type": "markdown",
      "id": "add26c21-a5db-4e00-91ec-e5c46ddcb21b",
      "metadata": {
        "id": "add26c21-a5db-4e00-91ec-e5c46ddcb21b"
      },
      "source": [
        "19. Convert a string to title case (e.g., \"hello world\" to \"Hello World\")."
      ]
    },
    {
      "cell_type": "code",
      "execution_count": null,
      "id": "f7af887c-e750-4c37-865f-903fc3110419",
      "metadata": {
        "id": "f7af887c-e750-4c37-865f-903fc3110419"
      },
      "outputs": [],
      "source": [
        "string = str(input(\"Enter a inut string :=\"))\n",
        "\n",
        "new_string = string.title()\n",
        "\n",
        "print(\"Title case string := \",new_string)"
      ]
    },
    {
      "cell_type": "markdown",
      "id": "2b9db759-3f69-463d-ba93-cb8061ddaabc",
      "metadata": {
        "id": "2b9db759-3f69-463d-ba93-cb8061ddaabc"
      },
      "source": [
        "20. Find the longest word in a string."
      ]
    },
    {
      "cell_type": "code",
      "execution_count": null,
      "id": "47bf019a-b61a-4de0-ad44-8c1674650883",
      "metadata": {
        "id": "47bf019a-b61a-4de0-ad44-8c1674650883",
        "outputId": "d93eb3e8-00b2-4359-af5e-48b19a7e6c05"
      },
      "outputs": [
        {
          "name": "stdout",
          "output_type": "stream",
          "text": [
            "Enter a inut string := hello swapnil shinde parashram\n"
          ]
        },
        {
          "name": "stdout",
          "output_type": "stream",
          "text": [
            "Longest word in string is :=  parashram\n"
          ]
        }
      ],
      "source": [
        "string = str(input(\"Enter a inut string :=\"))\n",
        "\n",
        "list_of_words = string.split()\n",
        "\n",
        "longest_word = sorted(list_of_words, key = len)[-1]\n",
        "\n",
        "print(\"Longest word in string is := \",longest_word)\n"
      ]
    },
    {
      "cell_type": "markdown",
      "id": "8280685e-cfc8-4831-9432-a8700e8ddaed",
      "metadata": {
        "id": "8280685e-cfc8-4831-9432-a8700e8ddaed"
      },
      "source": [
        "21. Find the shortest word in a string."
      ]
    },
    {
      "cell_type": "code",
      "execution_count": null,
      "id": "39cc496f-feb1-4fc8-82e4-1243ae57a36e",
      "metadata": {
        "id": "39cc496f-feb1-4fc8-82e4-1243ae57a36e",
        "outputId": "5087f2a2-b329-4545-f63d-c270b9079f5b"
      },
      "outputs": [
        {
          "name": "stdout",
          "output_type": "stream",
          "text": [
            "Enter a inut string := hello swapnil shinde are\n"
          ]
        },
        {
          "name": "stdout",
          "output_type": "stream",
          "text": [
            "shortest word in string is :=  are\n"
          ]
        }
      ],
      "source": [
        "string = str(input(\"Enter a input string :=\"))\n",
        "\n",
        "list_of_words = string.split()\n",
        "\n",
        "shortest_word = sorted(list_of_words, key = len)[0]\n",
        "\n",
        "print(\"shortest word in string is := \",shortest_word)\n"
      ]
    },
    {
      "cell_type": "markdown",
      "id": "4dbac645-f3b3-4b9c-b342-5ecd3d4a270a",
      "metadata": {
        "id": "4dbac645-f3b3-4b9c-b342-5ecd3d4a270a"
      },
      "source": [
        "22. Reverse the order of words in a string."
      ]
    },
    {
      "cell_type": "code",
      "execution_count": null,
      "id": "880e13f8-67cc-4978-94fe-b8b044567c14",
      "metadata": {
        "id": "880e13f8-67cc-4978-94fe-b8b044567c14",
        "outputId": "106df827-610a-47c3-9a58-e8f7fca523e2"
      },
      "outputs": [
        {
          "name": "stdout",
          "output_type": "stream",
          "text": [
            "Enter a input string := hello swapnil shinde\n"
          ]
        },
        {
          "name": "stdout",
          "output_type": "stream",
          "text": [
            "Reverse order of words in string := shinde swapnil hello\n"
          ]
        }
      ],
      "source": [
        "string = str(input(\"Enter a input string :=\"))\n",
        "\n",
        "words = string.split()\n",
        "reverse_words = words[::-1]\n",
        "reverse_string = \" \".join(reverse_words)\n",
        "print(f\"Reverse order of words in string := {reverse_string}\")"
      ]
    },
    {
      "cell_type": "markdown",
      "id": "e6bf3f12-1e14-4e69-bd6c-9d45ca4b92b9",
      "metadata": {
        "id": "e6bf3f12-1e14-4e69-bd6c-9d45ca4b92b9"
      },
      "source": [
        "23. Check if a string is alphanumeric."
      ]
    },
    {
      "cell_type": "code",
      "execution_count": null,
      "id": "3cdfba58-6a78-4b88-a1f1-f94e1b2806d7",
      "metadata": {
        "id": "3cdfba58-6a78-4b88-a1f1-f94e1b2806d7",
        "outputId": "96a97638-06d6-468e-9884-2e75db41bf8d"
      },
      "outputs": [
        {
          "name": "stdout",
          "output_type": "stream",
          "text": [
            "Enter a input string := hello1236\n"
          ]
        },
        {
          "name": "stdout",
          "output_type": "stream",
          "text": [
            "The string is alphanumeric\n"
          ]
        }
      ],
      "source": [
        "string = str(input(\"Enter a input string :=\"))\n",
        "\n",
        "if(string.isalnum()):\n",
        "    print(\"The string is alphanumeric\")\n",
        "else:\n",
        "    print(\"The string is not a alphanumeric\")"
      ]
    },
    {
      "cell_type": "markdown",
      "id": "b7927d5b-0935-417e-976c-493870d0c156",
      "metadata": {
        "id": "b7927d5b-0935-417e-976c-493870d0c156"
      },
      "source": [
        "24. Extract all digits from a string."
      ]
    },
    {
      "cell_type": "code",
      "execution_count": null,
      "id": "22627820-83be-4734-beca-6650adbb1d37",
      "metadata": {
        "id": "22627820-83be-4734-beca-6650adbb1d37",
        "outputId": "74a8dae0-0f94-4259-dc54-c18a3d735b94"
      },
      "outputs": [
        {
          "name": "stdout",
          "output_type": "stream",
          "text": [
            "Enter a string := hello7 adjaf7878dgsdi\n"
          ]
        },
        {
          "name": "stdout",
          "output_type": "stream",
          "text": [
            "Numbers list is := [7, 7, 8, 7, 8]\n"
          ]
        }
      ],
      "source": [
        "string = str(input(\"Enter a string :=\"))\n",
        "\n",
        "ans = []\n",
        "\n",
        "for char in string:\n",
        "    if char.isdigit():\n",
        "        ans.append(int(char))\n",
        "\n",
        "print(\"Extracted Numbers list is :=\",ans)"
      ]
    },
    {
      "cell_type": "markdown",
      "id": "6830c46d-8ccc-481b-bb2e-e37ba5f507c3",
      "metadata": {
        "id": "6830c46d-8ccc-481b-bb2e-e37ba5f507c3"
      },
      "source": [
        "25. Extract all alphabets from a string."
      ]
    },
    {
      "cell_type": "code",
      "execution_count": null,
      "id": "7da69164-7225-4de9-aa8c-2725e598f75e",
      "metadata": {
        "id": "7da69164-7225-4de9-aa8c-2725e598f75e",
        "outputId": "e21f4e83-ac94-41a3-f5cd-963efda07202"
      },
      "outputs": [
        {
          "name": "stdout",
          "output_type": "stream",
          "text": [
            "Enter a string := hello7 adjaf7878dgsdi\n"
          ]
        },
        {
          "name": "stdout",
          "output_type": "stream",
          "text": [
            "Extracted Alphabate list is := helloadjafdgsdi\n"
          ]
        }
      ],
      "source": [
        "string = str(input(\"Enter a string :=\"))\n",
        "\n",
        "ans = \"\"\n",
        "\n",
        "for char in string:\n",
        "    if char.isalpha():\n",
        "        ans += char\n",
        "\n",
        "print(\"Extracted Alphabate are:=\",ans)"
      ]
    },
    {
      "cell_type": "markdown",
      "id": "af788474-8d16-42b8-96d8-324fa46ab499",
      "metadata": {
        "id": "af788474-8d16-42b8-96d8-324fa46ab499"
      },
      "source": [
        "26. Count the number of uppercase letters in a string."
      ]
    },
    {
      "cell_type": "code",
      "execution_count": null,
      "id": "576c6ec4-9422-4d97-b87e-7c2078967adf",
      "metadata": {
        "id": "576c6ec4-9422-4d97-b87e-7c2078967adf",
        "outputId": "ada4b6ba-4951-46d0-97e5-b6d11aa8eb19"
      },
      "outputs": [
        {
          "name": "stdout",
          "output_type": "stream",
          "text": [
            "Enter a string := HEllo pOLAQ\n"
          ]
        },
        {
          "name": "stdout",
          "output_type": "stream",
          "text": [
            "The count of uppercase letter is :=  6\n"
          ]
        }
      ],
      "source": [
        "string = str(input(\"Enter a string :=\"))\n",
        "count = 0\n",
        "\n",
        "for char in string:\n",
        "    if char.isupper():\n",
        "        count += 1\n",
        "print(\"The count of uppercase letter is := \",count)"
      ]
    },
    {
      "cell_type": "markdown",
      "id": "13f00f5a-3060-413b-9999-0fb9b74d4625",
      "metadata": {
        "id": "13f00f5a-3060-413b-9999-0fb9b74d4625"
      },
      "source": [
        "27. Count the number of lowercase letters in a string."
      ]
    },
    {
      "cell_type": "code",
      "execution_count": null,
      "id": "6670c6cd-adff-4b42-bcbf-cefd27022e5d",
      "metadata": {
        "id": "6670c6cd-adff-4b42-bcbf-cefd27022e5d",
        "outputId": "1fda56fc-5377-4975-8ba1-dd34b0f7df4a"
      },
      "outputs": [
        {
          "name": "stdout",
          "output_type": "stream",
          "text": [
            "Enter a string := HEllo pOLAQ\n"
          ]
        },
        {
          "name": "stdout",
          "output_type": "stream",
          "text": [
            "The count of lowercase letter is :=  4\n"
          ]
        }
      ],
      "source": [
        "string = str(input(\"Enter a string :=\"))\n",
        "count = 0\n",
        "\n",
        "for char in string:\n",
        "    if char.islower():\n",
        "        count += 1\n",
        "print(\"The count of lowercase letter is := \",count)"
      ]
    },
    {
      "cell_type": "markdown",
      "id": "1867438c-fe8c-4aad-a090-ea4eece3d6ee",
      "metadata": {
        "id": "1867438c-fe8c-4aad-a090-ea4eece3d6ee"
      },
      "source": [
        "28. Swap the case of each character in a string."
      ]
    },
    {
      "cell_type": "code",
      "execution_count": null,
      "id": "0dcd0fd8-0043-481e-8e10-756fb78d4652",
      "metadata": {
        "id": "0dcd0fd8-0043-481e-8e10-756fb78d4652",
        "outputId": "16a63a6f-2825-4872-8573-01ebb18ddbf7"
      },
      "outputs": [
        {
          "name": "stdout",
          "output_type": "stream",
          "text": [
            "Enter a string := Hello Swapnil\n"
          ]
        },
        {
          "name": "stdout",
          "output_type": "stream",
          "text": [
            "The string after swapping case := hELLO sWAPNIL\n"
          ]
        }
      ],
      "source": [
        "string = str(input(\"Enter a string :=\"))\n",
        "\n",
        "swapped_string = string.swapcase()\n",
        "\n",
        "print(\"The string after swapping case :=\",swapped_string)\n"
      ]
    },
    {
      "cell_type": "markdown",
      "id": "aa1eceb4-3d90-4f3c-aae6-349a08793580",
      "metadata": {
        "id": "aa1eceb4-3d90-4f3c-aae6-349a08793580"
      },
      "source": [
        "29. Remove a specific word from a string."
      ]
    },
    {
      "cell_type": "code",
      "execution_count": null,
      "id": "8201e73d-240a-430c-ae5c-b90d2e45bf52",
      "metadata": {
        "id": "8201e73d-240a-430c-ae5c-b90d2e45bf52",
        "outputId": "60f10fb6-92f0-40ae-8636-5ca160805c84"
      },
      "outputs": [
        {
          "name": "stdout",
          "output_type": "stream",
          "text": [
            "Enter a string := Hello swanil suresh shinde\n"
          ]
        },
        {
          "name": "stdout",
          "output_type": "stream",
          "text": [
            "Hello swanil suresh shinde\n"
          ]
        },
        {
          "name": "stdout",
          "output_type": "stream",
          "text": [
            "Enter a word you want to remove from string := suresh\n"
          ]
        },
        {
          "name": "stdout",
          "output_type": "stream",
          "text": [
            "Hello swanil  shinde\n"
          ]
        }
      ],
      "source": [
        "string = str(input(\"Enter a string :=\"))\n",
        "print(string)\n",
        "word = str(input(\"Enter a word you want to remove from string :=\"))\n",
        "\n",
        "new_string = string.replace(word,\"\")\n",
        "\n",
        "print(new_string)"
      ]
    },
    {
      "cell_type": "markdown",
      "id": "7e6ca4f8-3815-43c3-801d-40e0f6281242",
      "metadata": {
        "id": "7e6ca4f8-3815-43c3-801d-40e0f6281242"
      },
      "source": [
        "30. Check if a string is a valid email address."
      ]
    },
    {
      "cell_type": "code",
      "execution_count": null,
      "id": "e9c0283e-76cf-47ff-9128-e2a7d556ac83",
      "metadata": {
        "id": "e9c0283e-76cf-47ff-9128-e2a7d556ac83",
        "outputId": "0d483c01-0d20-4bcc-d5ab-183706157973"
      },
      "outputs": [
        {
          "name": "stdout",
          "output_type": "stream",
          "text": [
            "Enter an email := sdif@gmailcom\n"
          ]
        },
        {
          "name": "stdout",
          "output_type": "stream",
          "text": [
            "Entered email is not the valid email\n"
          ]
        }
      ],
      "source": [
        "import re\n",
        "email = str(input(\"Enter an email :=\"))\n",
        "\n",
        "regex = r'\\b[A-Za-z0-9._%+-]+@[A-Za-z0-9.-]+\\.[A-Z|a-z]{2,7}\\b'\n",
        "\n",
        "if(re.fullmatch(regex,email)):\n",
        "    print(\"Entered email is the valid email\")\n",
        "else:\n",
        "    print(\"Entered email is not the valid email\")\n"
      ]
    },
    {
      "cell_type": "markdown",
      "id": "bda9c64e-27aa-4fca-b0e9-5bcd67e716a1",
      "metadata": {
        "id": "bda9c64e-27aa-4fca-b0e9-5bcd67e716a1"
      },
      "source": [
        "31. Extract the username from an email address string."
      ]
    },
    {
      "cell_type": "code",
      "execution_count": null,
      "id": "b6aa64d2-8e78-4b6b-910e-c4f43e5a53d0",
      "metadata": {
        "id": "b6aa64d2-8e78-4b6b-910e-c4f43e5a53d0",
        "outputId": "480e088a-169f-424f-f747-d0f9285b87d7"
      },
      "outputs": [
        {
          "name": "stdout",
          "output_type": "stream",
          "text": [
            "Enter an email := hello@gmail.com\n"
          ]
        },
        {
          "name": "stdout",
          "output_type": "stream",
          "text": [
            "The username is := hello\n"
          ]
        }
      ],
      "source": [
        "email = str(input(\"Enter an email :=\"))\n",
        "\n",
        "username = email.split(\"@\")[0]\n",
        "\n",
        "print(\"The username is :=\",username)"
      ]
    },
    {
      "cell_type": "markdown",
      "id": "ec1fa530-64b5-4e81-ac2a-355b57c929af",
      "metadata": {
        "id": "ec1fa530-64b5-4e81-ac2a-355b57c929af"
      },
      "source": [
        "32. Extract the domain name from an email address string."
      ]
    },
    {
      "cell_type": "code",
      "execution_count": null,
      "id": "7cddaef2-9448-423d-8441-9b676d49b73b",
      "metadata": {
        "id": "7cddaef2-9448-423d-8441-9b676d49b73b",
        "outputId": "900e4408-921e-463a-bceb-d7c4438cc06c"
      },
      "outputs": [
        {
          "name": "stdout",
          "output_type": "stream",
          "text": [
            "Enter an email := hello@gmail.com\n"
          ]
        },
        {
          "name": "stdout",
          "output_type": "stream",
          "text": [
            "The domain name is := gmail.com\n"
          ]
        }
      ],
      "source": [
        "email = str(input(\"Enter an email :=\"))\n",
        "\n",
        "domain_name = email.split(\"@\")[1]\n",
        "\n",
        "print(\"The domain name is :=\",domain_name)"
      ]
    },
    {
      "cell_type": "markdown",
      "id": "e0e34636-608f-4aad-bf17-65b3d408cad5",
      "metadata": {
        "id": "e0e34636-608f-4aad-bf17-65b3d408cad5"
      },
      "source": [
        "33. Replace multiple spaces in a string with a single space."
      ]
    },
    {
      "cell_type": "code",
      "execution_count": null,
      "id": "e342f86b-3679-4d0d-b749-7e4994673814",
      "metadata": {
        "id": "e342f86b-3679-4d0d-b749-7e4994673814",
        "outputId": "6e2654be-7995-44de-81ae-674898701d4f"
      },
      "outputs": [
        {
          "name": "stdout",
          "output_type": "stream",
          "text": [
            "The string after removing multiple spaces is : Hello Everyone This is is going to be fun\n"
          ]
        }
      ],
      "source": [
        "string = \"Hello   Everyone This is     is     going to    be fun\"\n",
        "\n",
        "string = re.sub(\"\\s+\", \" \", string)\n",
        "\n",
        "print(\"The string after removing multiple spaces is :\",string)"
      ]
    },
    {
      "cell_type": "markdown",
      "id": "6747fcc4-7826-48b2-b36c-bac8784f520f",
      "metadata": {
        "id": "6747fcc4-7826-48b2-b36c-bac8784f520f"
      },
      "source": [
        "34. Check if a string is a valid URL."
      ]
    },
    {
      "cell_type": "code",
      "execution_count": null,
      "id": "734e36bb-9488-4027-b09c-29c873e7f7d7",
      "metadata": {
        "id": "734e36bb-9488-4027-b09c-29c873e7f7d7",
        "outputId": "c5afdeef-ea1f-46c2-d8ea-07ca15d6ad85"
      },
      "outputs": [
        {
          "name": "stdout",
          "output_type": "stream",
          "text": [
            "Enter a URL https://www.google.com/\n"
          ]
        },
        {
          "name": "stdout",
          "output_type": "stream",
          "text": [
            "Provided URL is valid\n"
          ]
        }
      ],
      "source": [
        "import re\n",
        "regex = (\"((http|https)://)(www.)?\" +\n",
        "             \"[a-zA-Z0-9@:%._\\\\+~#?&//=]\" +\n",
        "             \"{2,256}\\\\.[a-z]\" +\n",
        "             \"{2,6}\\\\b([-a-zA-Z0-9@:%\" +\n",
        "             \"._\\\\+~#?&//=]*)\")\n",
        "url = str(input(\"Enter a URL\"))\n",
        "\n",
        "if re.match(regex, url):\n",
        "    print(\"Provided URL is valid\")\n",
        "else:\n",
        "    print(\"Provided URL is invalid\")"
      ]
    },
    {
      "cell_type": "markdown",
      "id": "9531a500-6a55-4b59-9cbe-d85ea86c4bb4",
      "metadata": {
        "id": "9531a500-6a55-4b59-9cbe-d85ea86c4bb4"
      },
      "source": [
        "35. Extract the protocol (http or https) from a URL string."
      ]
    },
    {
      "cell_type": "code",
      "execution_count": null,
      "id": "3688a81b-878a-4ac3-844e-b265d5153677",
      "metadata": {
        "id": "3688a81b-878a-4ac3-844e-b265d5153677",
        "outputId": "d4ade969-7e1d-457f-d503-1e697e3cd58c"
      },
      "outputs": [
        {
          "name": "stdout",
          "output_type": "stream",
          "text": [
            "The protocol extracted from url is := ['https']\n"
          ]
        }
      ],
      "source": [
        "import re\n",
        "url = 'https://pwskills.com/'\n",
        "\n",
        "protocol = re.findall('(\\\\w+)://', url)\n",
        "\n",
        "print(\"The protocol extracted from url is :=\",protocol)"
      ]
    },
    {
      "cell_type": "markdown",
      "id": "93fbd7e3-73a3-47f1-9313-b907709257b2",
      "metadata": {
        "id": "93fbd7e3-73a3-47f1-9313-b907709257b2"
      },
      "source": [
        "36. Find the frequency of each character in a string."
      ]
    },
    {
      "cell_type": "code",
      "execution_count": null,
      "id": "a4fa5a49-e30f-4fae-8ca6-3934e5e2b0e7",
      "metadata": {
        "id": "a4fa5a49-e30f-4fae-8ca6-3934e5e2b0e7",
        "outputId": "4a7ffbbd-4976-4cc4-a1f6-556d6e3a075d"
      },
      "outputs": [
        {
          "name": "stdout",
          "output_type": "stream",
          "text": [
            "The frequncy of character = {'s': 2, 'w': 1, 'a': 1, 'p': 1, 'n': 2, 'i': 2, 'l': 1, ' ': 1, 'h': 1, 'd': 1, 'e': 1}\n"
          ]
        }
      ],
      "source": [
        "string = \"swapnil shinde\"\n",
        "\n",
        "freq = {}\n",
        "\n",
        "for i in string:\n",
        "    if i in freq:\n",
        "        freq[i] += 1\n",
        "    else:\n",
        "        freq[i] = 1\n",
        "\n",
        "print(\"The frequncy of character =\",freq)"
      ]
    },
    {
      "cell_type": "markdown",
      "id": "af72968d-c5d4-4be8-92e1-df9e27d8e584",
      "metadata": {
        "id": "af72968d-c5d4-4be8-92e1-df9e27d8e584"
      },
      "source": [
        "37. Remove all punctuation from a string."
      ]
    },
    {
      "cell_type": "code",
      "execution_count": null,
      "id": "dfd91cd3-cdc3-45d3-a3f7-1e2386e6fb0d",
      "metadata": {
        "id": "dfd91cd3-cdc3-45d3-a3f7-1e2386e6fb0d",
        "outputId": "3bc7cdac-0340-4c19-c556-98d2394779d6"
      },
      "outputs": [
        {
          "name": "stdout",
          "output_type": "stream",
          "text": [
            "The string after removing function is := hello word\n"
          ]
        }
      ],
      "source": [
        "import string\n",
        "string1 = \"hello, word!\"\n",
        "string1 = string1.translate(str.maketrans('','',string.punctuation))\n",
        "print(\"The string after removing function is :=\",string1)"
      ]
    },
    {
      "cell_type": "markdown",
      "id": "909e9cd7-fbc3-43c2-8089-33d336d87281",
      "metadata": {
        "id": "909e9cd7-fbc3-43c2-8089-33d336d87281"
      },
      "source": [
        "38. Check if a string contains only digits."
      ]
    },
    {
      "cell_type": "code",
      "execution_count": null,
      "id": "c4d57fb5-8f1f-40b7-bea7-fe32cec1d4b8",
      "metadata": {
        "id": "c4d57fb5-8f1f-40b7-bea7-fe32cec1d4b8",
        "outputId": "ebb69137-021d-4146-b71c-e9cdb793f83d"
      },
      "outputs": [
        {
          "name": "stdout",
          "output_type": "stream",
          "text": [
            "Enter a string := 78522\n"
          ]
        },
        {
          "name": "stdout",
          "output_type": "stream",
          "text": [
            "The string only contains digits\n"
          ]
        }
      ],
      "source": [
        "string = str(input(\"Enter a string :=\"))\n",
        "if string.isdigit():\n",
        "    print(\"The string contains only digits\")\n",
        "else:\n",
        "    print(\"The string does not contains only digits\")"
      ]
    },
    {
      "cell_type": "markdown",
      "id": "7a2d5b1f-25d2-450f-ada5-c6297f4bff34",
      "metadata": {
        "id": "7a2d5b1f-25d2-450f-ada5-c6297f4bff34"
      },
      "source": [
        "39. Check if a string contains only alphabets."
      ]
    },
    {
      "cell_type": "code",
      "execution_count": null,
      "id": "b267c38d-b3c3-4857-80eb-2baab0c179d2",
      "metadata": {
        "id": "b267c38d-b3c3-4857-80eb-2baab0c179d2",
        "outputId": "03217698-d112-42f2-cd33-686451e370b6"
      },
      "outputs": [
        {
          "name": "stdout",
          "output_type": "stream",
          "text": [
            "Enter a string := sjfe4454\n"
          ]
        },
        {
          "name": "stdout",
          "output_type": "stream",
          "text": [
            "The string does not contains only albhabets\n"
          ]
        }
      ],
      "source": [
        "string = str(input(\"Enter a string :=\"))\n",
        "if string.isalpha():\n",
        "    print(\"The string contains only alphabets\")\n",
        "else:\n",
        "    print(\"The string does not contains only albhabets\")"
      ]
    },
    {
      "cell_type": "markdown",
      "id": "b12edb4d-e57d-4118-858a-768796024331",
      "metadata": {
        "id": "b12edb4d-e57d-4118-858a-768796024331"
      },
      "source": [
        "40. Convert a string to a list of characters."
      ]
    },
    {
      "cell_type": "code",
      "execution_count": null,
      "id": "34371093-2f91-4179-a115-7c42ed294686",
      "metadata": {
        "id": "34371093-2f91-4179-a115-7c42ed294686",
        "outputId": "de2dc95d-ee53-4925-f4e1-88f0bdcd9ddc"
      },
      "outputs": [
        {
          "name": "stdout",
          "output_type": "stream",
          "text": [
            "The list of character =  ['h', 'e', 'l', 'l', 'o', ' ', 'w', 'o', 'r', 'l', 'd']\n"
          ]
        }
      ],
      "source": [
        "string = \"hello world\"\n",
        "\n",
        "list_of_character = list(string)\n",
        "print(\"The list of character = \",list_of_character)"
      ]
    },
    {
      "cell_type": "markdown",
      "id": "9995e579-f79a-4eb4-9fd3-6e2a06985162",
      "metadata": {
        "id": "9995e579-f79a-4eb4-9fd3-6e2a06985162"
      },
      "source": [
        "41. Check if two strings are anagrams."
      ]
    },
    {
      "cell_type": "code",
      "execution_count": null,
      "id": "ada99e6d-0f89-476e-b422-aa9ebd8bf9d8",
      "metadata": {
        "id": "ada99e6d-0f89-476e-b422-aa9ebd8bf9d8",
        "outputId": "4c1a241a-3035-4c61-ba52-adf11dc74310"
      },
      "outputs": [
        {
          "name": "stdout",
          "output_type": "stream",
          "text": [
            "The strings are an anagram\n"
          ]
        }
      ],
      "source": [
        "str1 = \"listen\"\n",
        "str2 = \"silent\"\n",
        "\n",
        "if sorted(str1) == sorted(str2):\n",
        "    print(\"The strings are an anagram\")\n",
        "else:\n",
        "    print(\"The strings are not an anagram\")"
      ]
    },
    {
      "cell_type": "markdown",
      "id": "53a71f98-b69d-4748-aa8a-2e46101d78d2",
      "metadata": {
        "id": "53a71f98-b69d-4748-aa8a-2e46101d78d2"
      },
      "source": [
        "42. Encode a string using a Caesar cipher."
      ]
    },
    {
      "cell_type": "code",
      "execution_count": null,
      "id": "74519653-dcec-48c9-872d-303c8e52ced9",
      "metadata": {
        "id": "74519653-dcec-48c9-872d-303c8e52ced9",
        "outputId": "75311852-c27f-485d-fa22-f95d7a68f83e"
      },
      "outputs": [
        {
          "name": "stdout",
          "output_type": "stream",
          "text": [
            "Enter a string := Hello world!\n",
            "Enter a number by which you want to shift := 4\n"
          ]
        },
        {
          "name": "stdout",
          "output_type": "stream",
          "text": [
            "Lipps asvph!\n"
          ]
        }
      ],
      "source": [
        "string = str(input(\"Enter a string :=\"))\n",
        "shift = int(input(\"Enter a number by which you want to shift :=\"))\n",
        "result = \"\"\n",
        "for i in string:\n",
        "    if i.isalpha():\n",
        "        code = ord(i) + shift\n",
        "        if i.isupper():\n",
        "            if code > ord(\"Z\"):\n",
        "                code -= 26\n",
        "            elif code < ord(\"A\"):\n",
        "                code += 26\n",
        "        else:\n",
        "            if code > ord(\"z\"):\n",
        "                code -= 26\n",
        "            elif code < ord(\"a\"):\n",
        "                code += 26\n",
        "        result += chr(code)\n",
        "    else:\n",
        "        result += i\n",
        "\n",
        "print(result)"
      ]
    },
    {
      "cell_type": "markdown",
      "id": "546e824d-6fbb-4810-a8f6-f3bfe5fdd9f0",
      "metadata": {
        "id": "546e824d-6fbb-4810-a8f6-f3bfe5fdd9f0"
      },
      "source": [
        "43. Decode a Caesar cipher encoded string."
      ]
    },
    {
      "cell_type": "code",
      "execution_count": null,
      "id": "72ab8b0e-01d8-4f7f-a1b7-a31eb531db75",
      "metadata": {
        "id": "72ab8b0e-01d8-4f7f-a1b7-a31eb531db75",
        "outputId": "743488d5-afdc-4427-ca69-dd11e501cfd9"
      },
      "outputs": [
        {
          "name": "stdout",
          "output_type": "stream",
          "text": [
            "Enter a Ceaser cipher := hello\n",
            "Enter a number by which you want to shift := 6\n"
          ]
        },
        {
          "name": "stdout",
          "output_type": "stream",
          "text": [
            "Encoded string after decoding Ceaser cipher is := byffi\n"
          ]
        }
      ],
      "source": [
        "string = str(input(\"Enter a Ceaser cipher :=\"))\n",
        "shift = int(input(\"Enter a number by which you want to shift :=\"))\n",
        "result = \"\"\n",
        "for i in string:\n",
        "    if i.isalpha():\n",
        "        code = ord(i) - shift\n",
        "        if i.isupper():\n",
        "            if code < ord(\"A\"):\n",
        "                code += 26\n",
        "            elif code > ord(\"Z\"):\n",
        "                code -= 26\n",
        "        else:\n",
        "            if code < ord(\"a\"):\n",
        "                code += 26\n",
        "            elif code > ord(\"z\"):\n",
        "                code -= 26\n",
        "        result += chr(code)\n",
        "    else:\n",
        "        result += i\n",
        "\n",
        "print(\"Encoded string after decoding Ceaser cipher is :=\",result)"
      ]
    },
    {
      "cell_type": "markdown",
      "id": "f77f93ca-8f35-4e4c-a114-666ea546762c",
      "metadata": {
        "id": "f77f93ca-8f35-4e4c-a114-666ea546762c"
      },
      "source": [
        "44. Find the most frequent word in a string."
      ]
    },
    {
      "cell_type": "code",
      "execution_count": null,
      "id": "b30ef734-555c-4ccd-b8f5-dcb39f3ce749",
      "metadata": {
        "id": "b30ef734-555c-4ccd-b8f5-dcb39f3ce749",
        "outputId": "0603cb44-7c31-4ebe-e1be-f784c2c5f782"
      },
      "outputs": [
        {
          "name": "stdout",
          "output_type": "stream",
          "text": [
            "Enter a string :=  hello swapnil shinde shinde\n"
          ]
        },
        {
          "name": "stdout",
          "output_type": "stream",
          "text": [
            "Most frequent word in a string :=  shinde\n"
          ]
        }
      ],
      "source": [
        "input_string = str(input(\"Enter a string := \"))\n",
        "l = input_string.split()\n",
        "d = {}\n",
        "\n",
        "for i in l:\n",
        "    if i not in d.keys():\n",
        "        d[i] = 0\n",
        "    d[i] = d[i] + 1\n",
        "\n",
        "max_value = max(d, key=d.get)\n",
        "print(\"Most frequent word in a string := \",max_value)"
      ]
    },
    {
      "cell_type": "markdown",
      "id": "d1dfa223-e38e-45c1-adc7-202eac76d6e9",
      "metadata": {
        "id": "d1dfa223-e38e-45c1-adc7-202eac76d6e9"
      },
      "source": [
        "45. Find all unique words in a string."
      ]
    },
    {
      "cell_type": "code",
      "execution_count": null,
      "id": "c965ca49-9e00-4279-99a0-22133224067b",
      "metadata": {
        "id": "c965ca49-9e00-4279-99a0-22133224067b",
        "outputId": "6358b035-6983-436a-bad1-30507113d124"
      },
      "outputs": [
        {
          "name": "stdout",
          "output_type": "stream",
          "text": [
            "Enter a string :=  hello swapnil shinde shinde\n"
          ]
        },
        {
          "name": "stdout",
          "output_type": "stream",
          "text": [
            "Most frequent word in a string :=  ['hello', 'swapnil']\n"
          ]
        }
      ],
      "source": [
        "input_string = str(input(\"Enter a string := \"))\n",
        "l = input_string.split()\n",
        "d = {}\n",
        "unique = set()\n",
        "for i in l:\n",
        "    if i not in d.keys():\n",
        "        d[i] = 0\n",
        "    d[i] = d[i] + 1\n",
        "    if d[i] == 1:\n",
        "        unique.add(i)\n",
        "    else:\n",
        "        unique.discard(i)\n",
        "unique = list(unique)\n",
        "print(\"Most frequent word in a string := \",unique)"
      ]
    },
    {
      "cell_type": "markdown",
      "id": "d609372b-6603-43ce-a68b-282f017d0e4a",
      "metadata": {
        "id": "d609372b-6603-43ce-a68b-282f017d0e4a"
      },
      "source": [
        "46. Count the number of syllables in a string.\n"
      ]
    },
    {
      "cell_type": "code",
      "execution_count": null,
      "id": "4f29aed6-722f-4d28-a7e5-d2fab82e5cd7",
      "metadata": {
        "id": "4f29aed6-722f-4d28-a7e5-d2fab82e5cd7",
        "outputId": "4e07b8a1-a85b-47fc-e5a0-b5a651cadde0"
      },
      "outputs": [
        {
          "name": "stdout",
          "output_type": "stream",
          "text": [
            "3 is the number of syllables in string 'syllable'\n",
            "2 is the number of syllables in string 'python'\n"
          ]
        }
      ],
      "source": [
        "import re\n",
        "\n",
        "def count_syllable(word):\n",
        "    lowercase_word = word.lower()\n",
        "    vowel = re.findall(r'[aeiouy]+', lowercase_word)\n",
        "    return len(vowel)\n",
        "\n",
        "#calling a function\n",
        "count1 = count_syllable(\"syllable\")\n",
        "count2 = count_syllable(\"python\")\n",
        "\n",
        "\n",
        "print(f\"{count1} is the number of syllables in string 'syllable'\")\n",
        "print(f\"{count2} is the number of syllables in string 'python'\")"
      ]
    },
    {
      "cell_type": "markdown",
      "id": "4fab09c2-a3ab-45eb-8fa3-ea27f072c951",
      "metadata": {
        "id": "4fab09c2-a3ab-45eb-8fa3-ea27f072c951"
      },
      "source": [
        "47. Check if a string contains any special characters."
      ]
    },
    {
      "cell_type": "code",
      "execution_count": null,
      "id": "f9094c9d-5793-44d0-a6c3-b115c3807ca9",
      "metadata": {
        "id": "f9094c9d-5793-44d0-a6c3-b115c3807ca9",
        "outputId": "966d65e8-0967-4858-bc92-44d0946b3e16"
      },
      "outputs": [
        {
          "name": "stdout",
          "output_type": "stream",
          "text": [
            "swapnil@5656sd3549tji&* containing special character\n"
          ]
        }
      ],
      "source": [
        "import re\n",
        "\n",
        "def check_special_character(word):\n",
        "\n",
        "    special = re.compile(r'[!@#$%^&*()_+{}\\[\\]:;<>,.?~\\\\/]')\n",
        "\n",
        "    check = special.search(word)\n",
        "\n",
        "    return bool(check)\n",
        "\n",
        "string1 = str(input(\"Enter a string:\"))\n",
        "\n",
        "\n",
        "# calling a function\n",
        "check1 = check_special_character(string1)\n",
        "\n",
        "#checking and printing whether the string contains speacial character\n",
        "if(check1):\n",
        "    print(f\"{string1} containing special character\")\n",
        "else:\n",
        "    print(f\"{string1} does not containing special character\")"
      ]
    },
    {
      "cell_type": "markdown",
      "id": "1c86d68e-9e6e-4022-82ab-b4c156dac86b",
      "metadata": {
        "id": "1c86d68e-9e6e-4022-82ab-b4c156dac86b"
      },
      "source": [
        "48. Remove the nth word from a string."
      ]
    },
    {
      "cell_type": "code",
      "execution_count": null,
      "id": "3925c27e-3e48-474b-9e5e-06a483780eb2",
      "metadata": {
        "id": "3925c27e-3e48-474b-9e5e-06a483780eb2",
        "outputId": "d835baf6-b261-4f38-85ea-b5db6611ff3e"
      },
      "outputs": [
        {
          "name": "stdout",
          "output_type": "stream",
          "text": [
            "string after removing 2nd word from hello everyone is: hello \n",
            "string after removing 3rd word from this assignment is awesome is: this assignment awesome \n"
          ]
        }
      ],
      "source": [
        "def remove_nth_word(string, n):\n",
        "    words = string.split()\n",
        "    if n >= 1 and n <= len(words):\n",
        "        remove_word = words.pop(n - 1)\n",
        "        return \" \".join(words)\n",
        "    else:\n",
        "        return string\n",
        "\n",
        "string1 = \"hello everyone\"\n",
        "string2 = \"this assignment is awesome\"\n",
        "\n",
        "ans1 = remove_nth_word(string1, 2)\n",
        "ans2 = remove_nth_word(string2, 3)\n",
        "\n",
        "print(f\"string after removing 2nd word from {string1} is: {ans1} \")\n",
        "print(f\"string after removing 3rd word from {string2} is: {ans2} \")"
      ]
    },
    {
      "cell_type": "markdown",
      "id": "904c1d13-b2e1-406f-b57b-c16eaf25f94a",
      "metadata": {
        "id": "904c1d13-b2e1-406f-b57b-c16eaf25f94a"
      },
      "source": [
        "49. Insert a word at the nth position in a string."
      ]
    },
    {
      "cell_type": "code",
      "execution_count": null,
      "id": "4cdc9cc7-4990-42d9-9bf6-f51cb9a55fc2",
      "metadata": {
        "id": "4cdc9cc7-4990-42d9-9bf6-f51cb9a55fc2",
        "outputId": "fcfbb008-dea1-403f-9dbf-e0d590078e90"
      },
      "outputs": [
        {
          "name": "stdout",
          "output_type": "stream",
          "text": [
            "string after inserting 'is' into 'hello everyone' at 6th position  is : hello iseveryone\n",
            "string after inserting 'pw' into 'this assignment is awesome' at 5th position is : this pwassignment is awesome\n"
          ]
        }
      ],
      "source": [
        "def insert_at_nth(string,word, n):\n",
        "    if 0 <= n <= len(string):\n",
        "        words = string.split()\n",
        "        part1 = string[:n]\n",
        "        part2 = string[n:]\n",
        "\n",
        "        return part1 + word + part2\n",
        "    else:\n",
        "        return string\n",
        "\n",
        "\n",
        "string1 = \"hello everyone\"\n",
        "string2 = \"this assignment is awesome\"\n",
        "word1 = \"is\"\n",
        "word2 = \"pw\"\n",
        "\n",
        "ans1 =insert_at_nth(string1,word1, 6)\n",
        "ans2 = insert_at_nth(string2,word2, 5)\n",
        "\n",
        "print(f\"string after inserting '{word1}' into '{string1}' at 6th position  is : {ans1}\")\n",
        "print(f\"string after inserting '{word2}' into '{string2}' at 5th position is : {ans2}\")"
      ]
    },
    {
      "cell_type": "markdown",
      "id": "29796828-1723-4ad1-845a-b02bee5feb8d",
      "metadata": {
        "id": "29796828-1723-4ad1-845a-b02bee5feb8d"
      },
      "source": [
        "50. Convert a CSV string to a list of lists."
      ]
    },
    {
      "cell_type": "code",
      "execution_count": null,
      "id": "2f75e370-ee19-4dc8-854a-b75c659a5401",
      "metadata": {
        "id": "2f75e370-ee19-4dc8-854a-b75c659a5401",
        "outputId": "e16630ba-24c8-456e-e966-26a8b654035b"
      },
      "outputs": [
        {
          "name": "stdout",
          "output_type": "stream",
          "text": [
            "convrted list os lists from csv string a,b,c,d \n",
            " e,f,g,h \n",
            " i,j,k,l is [['a', 'b', 'c', 'd '], [' e', 'f', 'g', 'h '], [' i', 'j', 'k', 'l']]\n"
          ]
        }
      ],
      "source": [
        "def csv_to_list(csv_string):\n",
        "    result = []\n",
        "\n",
        "    rows = csv_string.split(\"\\n\")\n",
        "\n",
        "    for row in rows:\n",
        "        values = row.split(\",\")\n",
        "\n",
        "        result.append(values)\n",
        "\n",
        "    return result\n",
        "\n",
        "# csv string\n",
        "csv1 = \"a,b,c,d \\n e,f,g,h \\n i,j,k,l\"\n",
        "# calling a function and passing csv string\n",
        "list_of_list = csv_to_list(csv1)\n",
        "\n",
        "print(f\"convrted list os lists from csv string {csv1} is {list_of_list}\")\n"
      ]
    },
    {
      "cell_type": "markdown",
      "id": "78333778-f4a1-4a16-a2fb-ec00968a2201",
      "metadata": {
        "id": "78333778-f4a1-4a16-a2fb-ec00968a2201"
      },
      "source": [
        "List Based Practice Problem :"
      ]
    },
    {
      "cell_type": "markdown",
      "id": "32d6ae96-52bc-40d0-bba5-b304f876e4c9",
      "metadata": {
        "id": "32d6ae96-52bc-40d0-bba5-b304f876e4c9"
      },
      "source": [
        "1. Create a list with integers from 1 to 10."
      ]
    },
    {
      "cell_type": "code",
      "execution_count": null,
      "id": "d7a08d39-2931-4806-bdfe-024d89d4331f",
      "metadata": {
        "id": "d7a08d39-2931-4806-bdfe-024d89d4331f",
        "outputId": "b4511bb3-245d-4491-fff8-229aaffa4157"
      },
      "outputs": [
        {
          "name": "stdout",
          "output_type": "stream",
          "text": [
            "[1, 2, 3, 4, 5, 6, 7, 8, 9, 10]\n"
          ]
        }
      ],
      "source": [
        "# using list comprehension to create list of numbers from 1 to 10\n",
        "l1 = [i for i in range(1,11)]\n",
        "\n",
        "# print the list\n",
        "print(l1)"
      ]
    },
    {
      "cell_type": "markdown",
      "id": "3094b228-8e4b-4786-9c83-406c7556768f",
      "metadata": {
        "id": "3094b228-8e4b-4786-9c83-406c7556768f"
      },
      "source": [
        "2. Find the length of a list without using the `len()` function."
      ]
    },
    {
      "cell_type": "code",
      "execution_count": null,
      "id": "dc16417f-25d1-403f-b901-0931c2532bcf",
      "metadata": {
        "id": "dc16417f-25d1-403f-b901-0931c2532bcf",
        "outputId": "2be61f35-6624-4485-f9af-86b2a139e915"
      },
      "outputs": [
        {
          "name": "stdout",
          "output_type": "stream",
          "text": [
            "length of list is := 6\n",
            "length of list is := 2\n"
          ]
        }
      ],
      "source": [
        "# function to calculate length of list without using len() function\n",
        "def cal_len(l):\n",
        "    count = 0\n",
        "    for i in l:\n",
        "        count += 1\n",
        "\n",
        "    return count\n",
        "\n",
        "\n",
        "l1 = [1,2,3,4,5,6]\n",
        "l2 = [\"s\",\"m\"]\n",
        "\n",
        "#calling function to calculate length\n",
        "len1 = cal_len(l1)\n",
        "len2 = cal_len(l2)\n",
        "\n",
        "#printing the result\n",
        "print(f\"length of list is := {len1}\")\n",
        "print(f\"length of list is := {len2}\")"
      ]
    },
    {
      "cell_type": "markdown",
      "id": "769ef96b-6486-4693-a4ec-410f78acd7e2",
      "metadata": {
        "id": "769ef96b-6486-4693-a4ec-410f78acd7e2"
      },
      "source": [
        "3. Append an element to the end of a list."
      ]
    },
    {
      "cell_type": "code",
      "execution_count": null,
      "id": "9abb3bec-c59a-430c-885e-f38903a20f60",
      "metadata": {
        "id": "9abb3bec-c59a-430c-885e-f38903a20f60",
        "outputId": "cd75e9b8-f9f3-4531-d24d-8c2a0b0ed94f"
      },
      "outputs": [
        {
          "name": "stdout",
          "output_type": "stream",
          "text": [
            "list before appending an element: [1, 2, 7, 8]\n",
            "The list after appending 1 element at end is: [1, 2, 7, 8, 6]\n"
          ]
        }
      ],
      "source": [
        "# list l1 containing 4 elements\n",
        "l1 = [1,2,7,8]\n",
        "\n",
        "# printing list before appending an element\n",
        "print(f\"list before appending an element: {l1}\")\n",
        "\n",
        "# appending element at the end of the list l1\n",
        "l1.append(6)\n",
        "\n",
        "\n",
        "# printing list l1 this will print list with 5 elements as 1 element was appended at the end of list\n",
        "print(f\"The list after appending 1 element at end is: {l1}\")"
      ]
    },
    {
      "cell_type": "markdown",
      "id": "bdafea1a-479b-4f0e-ba73-5fd874303480",
      "metadata": {
        "id": "bdafea1a-479b-4f0e-ba73-5fd874303480"
      },
      "source": [
        "4. Insert an element at a specific index in a list."
      ]
    },
    {
      "cell_type": "code",
      "execution_count": null,
      "id": "6d74108a-3022-4189-9ee2-969495ff4c24",
      "metadata": {
        "id": "6d74108a-3022-4189-9ee2-969495ff4c24",
        "outputId": "04f9f38c-d7ad-4a7c-a13b-d66ad5929ece"
      },
      "outputs": [
        {
          "name": "stdout",
          "output_type": "stream",
          "text": [
            "After inserting an element '5' at index '2' the list is: [2, 3, 5, 4, 8]\n",
            "After inserting an element 'c' at index '0' the list is: ['c', 's', 'q', 't', 'h']\n"
          ]
        }
      ],
      "source": [
        "# function to insert element at specific index\n",
        "# .insert is a inbuilt function to insert element at specific index\n",
        "def insert_at_sp_index(l,element,index):\n",
        "    l.insert(index,element)\n",
        "\n",
        "# lists\n",
        "l1 = [2,3,4,8]\n",
        "l2 = ['s','q','t','h']\n",
        "\n",
        "# elements to be inserted\n",
        "ele1 = 5\n",
        "ele2 = 'c'\n",
        "\n",
        "# calling a function\n",
        "insert_at_sp_index(l1,ele1,2)\n",
        "insert_at_sp_index(l2,ele2,0)\n",
        "\n",
        "# printing the list after inserting elemets\n",
        "print(f\"After inserting an element '{ele1}' at index '2' the list is: {l1}\")\n",
        "print(f\"After inserting an element '{ele2}' at index '0' the list is: {l2}\")"
      ]
    },
    {
      "cell_type": "markdown",
      "id": "e022e300-b31c-442d-9964-585838735432",
      "metadata": {
        "id": "e022e300-b31c-442d-9964-585838735432"
      },
      "source": [
        "5. Remove an element from a list by its value."
      ]
    },
    {
      "cell_type": "code",
      "execution_count": null,
      "id": "382838d5-485d-459b-b89e-60ba2926272b",
      "metadata": {
        "id": "382838d5-485d-459b-b89e-60ba2926272b",
        "outputId": "45d5d523-f645-4872-daac-80c5899a500c"
      },
      "outputs": [
        {
          "name": "stdout",
          "output_type": "stream",
          "text": [
            "After removing the element from list with value '1' is: [6, 8, 4, 2]\n",
            "After removing the element from list with value 'q' is: ['s', 'a', 'x']\n"
          ]
        }
      ],
      "source": [
        "# function to remove element from a list by its value.\n",
        "# .remove() is a built in method to remove element from list with value.\n",
        "def remove_ele_by_value(l,value):\n",
        "    l.remove(value)\n",
        "\n",
        "# lists\n",
        "l1 = [6,8,1,4,2]\n",
        "l2 = ['s','q','a','x']\n",
        "\n",
        "# element to be removed from list\n",
        "ele1 = 1\n",
        "ele2 = 'q'\n",
        "\n",
        "# calling a function\n",
        "remove_ele_by_value(l1,ele1)\n",
        "remove_ele_by_value(l2,ele2)\n",
        "\n",
        "#printing the list after removing element by value\n",
        "print(f\"After removing the element from list with value '{ele1}' is: {l1}\")\n",
        "print(f\"After removing the element from list with value '{ele2}' is: {l2}\")"
      ]
    },
    {
      "cell_type": "markdown",
      "id": "7e23042d-adad-49f3-bdf5-8b5ba9899ae9",
      "metadata": {
        "id": "7e23042d-adad-49f3-bdf5-8b5ba9899ae9"
      },
      "source": [
        "6. Remove an element from a list by its index."
      ]
    },
    {
      "cell_type": "code",
      "execution_count": null,
      "id": "259c647e-c7d5-4688-a94b-ff6e31865b29",
      "metadata": {
        "id": "259c647e-c7d5-4688-a94b-ff6e31865b29",
        "outputId": "5a24d268-684f-4928-c6b6-b0b28661f45e"
      },
      "outputs": [
        {
          "name": "stdout",
          "output_type": "stream",
          "text": [
            "After removing the element from list with index '3' is: [6, 8, 1, 2]\n",
            "After removing the element from list with index '2' is: ['s', 'q', 'x']\n"
          ]
        }
      ],
      "source": [
        "# function to remove element from a list by its index.\n",
        "# .pop() is a built in method to remove element from list with index.\n",
        "def remove_ele_by_index(l,index):\n",
        "    l.pop(index)\n",
        "\n",
        "# lists\n",
        "l1 = [6,8,1,4,2]\n",
        "l2 = ['s','q','a','x']\n",
        "\n",
        "# index to be removed from list\n",
        "index1 = 3\n",
        "index2 = 2\n",
        "\n",
        "# calling a function\n",
        "remove_ele_by_index(l1,index1)\n",
        "remove_ele_by_index(l2,index2)\n",
        "\n",
        "#printing the list after removing element by index\n",
        "print(f\"After removing the element from list with index '{index1}' is: {l1}\")\n",
        "print(f\"After removing the element from list with index '{index2}' is: {l2}\")"
      ]
    },
    {
      "cell_type": "markdown",
      "id": "3295d545-6647-4c48-9338-d2f9169822ec",
      "metadata": {
        "id": "3295d545-6647-4c48-9338-d2f9169822ec"
      },
      "source": [
        "7. Check if an element exists in a list."
      ]
    },
    {
      "cell_type": "code",
      "execution_count": null,
      "id": "43329f60-211a-4279-8f62-5e8b0492c9fb",
      "metadata": {
        "id": "43329f60-211a-4279-8f62-5e8b0492c9fb",
        "outputId": "30cb0fae-b33a-433f-e6f3-e6c7f96a8cb1"
      },
      "outputs": [
        {
          "name": "stdout",
          "output_type": "stream",
          "text": [
            "Element '8' 'exist' in list [4, 5, 3, 8, 10]\n",
            "Element '45' 'does not exist' in list [4, 5, 3, 8, 10]\n",
            "Element 'a' 'exist' in list ['s', 'a', 'x', 'c']\n",
            "Element 'z' 'does not exist' in list ['s', 'a', 'x', 'c']\n"
          ]
        }
      ],
      "source": [
        "#function to check element exist in list\n",
        "def check_ele_in_list(l,ele):\n",
        "    if ele in l:\n",
        "        print(f\"Element '{ele}' 'exist' in list {l}\")\n",
        "    else:\n",
        "        print(f\"Element '{ele}' 'does not exist' in list {l}\")\n",
        "\n",
        "\n",
        "# lists\n",
        "list1 = [4,5,3,8,10]\n",
        "list2 = ['s','a','x','c']\n",
        "\n",
        "# element to be removed\n",
        "ele1 = 8\n",
        "ele2 = 45\n",
        "ele3 = 'a'\n",
        "ele4 = 'z'\n",
        "\n",
        "#calling function\n",
        "\n",
        "check_ele_in_list(list1,ele1)\n",
        "check_ele_in_list(list1,ele2)\n",
        "check_ele_in_list(list2,ele3)\n",
        "check_ele_in_list(list2,ele4)"
      ]
    },
    {
      "cell_type": "markdown",
      "id": "9aa117e3-b71b-47d2-8614-ad3faa731f7a",
      "metadata": {
        "id": "9aa117e3-b71b-47d2-8614-ad3faa731f7a"
      },
      "source": [
        "8. Find the index of the first occurrence of an element in a list"
      ]
    },
    {
      "cell_type": "code",
      "execution_count": null,
      "id": "752d76c2-cf2c-4279-8bf1-359b4e6107b5",
      "metadata": {
        "id": "752d76c2-cf2c-4279-8bf1-359b4e6107b5",
        "outputId": "79a8f76c-538e-4498-9c3d-1aca922a5c13"
      },
      "outputs": [
        {
          "name": "stdout",
          "output_type": "stream",
          "text": [
            "index of the first occurrence of an element '1' in a list '[6, 8, 1, 4, 1, 1, 1]' is: 2\n",
            "index of the first occurrence of an element 'q' in a list '['s', 'q', 'a', 'x', 'q', 'q']' is: 1\n"
          ]
        }
      ],
      "source": [
        "# function to get index of the first occurance of an element.\n",
        "# .index() is a built in method to get index of the occurance of an element in list.\n",
        "def fisrt_occurance(l,ele):\n",
        "    return l.index(ele)\n",
        "\n",
        "# lists\n",
        "l1 = [6,8,1,4,1,1,1]\n",
        "l2 = ['s','q','a','x','q','q']\n",
        "\n",
        "# element\n",
        "ele1 = 1\n",
        "ele2 = 'q'\n",
        "\n",
        "# calling a function\n",
        "index1 = fisrt_occurance(l1,ele1)\n",
        "index2 = fisrt_occurance(l2,ele2)\n",
        "\n",
        "#printing the index of the first occurrence of an element in a list\n",
        "print(f\"index of the first occurrence of an element '{ele1}' in a list '{l1}' is: {index1}\")\n",
        "print(f\"index of the first occurrence of an element '{ele2}' in a list '{l2}' is: {index2}\")"
      ]
    },
    {
      "cell_type": "markdown",
      "id": "c7552717-0795-4d23-87a0-a09ed4081219",
      "metadata": {
        "id": "c7552717-0795-4d23-87a0-a09ed4081219"
      },
      "source": [
        "9. Count the occurrences of an element in a list."
      ]
    },
    {
      "cell_type": "code",
      "execution_count": null,
      "id": "87416b13-c92d-434f-bd89-179f9d6ea0f8",
      "metadata": {
        "id": "87416b13-c92d-434f-bd89-179f9d6ea0f8",
        "outputId": "61238fb0-332a-444f-c02d-b1ca085cbef8"
      },
      "outputs": [
        {
          "name": "stdout",
          "output_type": "stream",
          "text": [
            "occurance of element '1' in list [6, 8, 1, 4, 1, 1, 1] is : 4\n",
            "occurance of element 'q' in list ['s', 'q', 'a', 'x', 'q', 'q'] is : 3\n"
          ]
        }
      ],
      "source": [
        "# function to count occurance of element\n",
        "# .count is a method to count the occurance of element in a list\n",
        "def occurance(l,ele):\n",
        "    return l.count(ele)\n",
        "\n",
        "# lists\n",
        "l1 = [6,8,1,4,1,1,1]\n",
        "l2 = ['s','q','a','x','q','q']\n",
        "\n",
        "# element\n",
        "ele1 = 1\n",
        "ele2 = 'q'\n",
        "\n",
        "# calling a function\n",
        "count1 = occurance(l1,ele1)\n",
        "count2 = occurance(l2,ele2)\n",
        "\n",
        "#printing the count of occurance of element in a list\n",
        "print(f\"occurance of element '{ele1}' in list {l1} is : {count1}\")\n",
        "print(f\"occurance of element '{ele2}' in list {l2} is : {count2}\")"
      ]
    },
    {
      "cell_type": "markdown",
      "id": "57375c9c-cedf-4e22-a9de-53a90178ff18",
      "metadata": {
        "id": "57375c9c-cedf-4e22-a9de-53a90178ff18"
      },
      "source": [
        "10. Reverse the order of elements in a list."
      ]
    },
    {
      "cell_type": "code",
      "execution_count": null,
      "id": "dbec9091-1490-4b4e-a4c2-79747b07a519",
      "metadata": {
        "id": "dbec9091-1490-4b4e-a4c2-79747b07a519",
        "outputId": "53386cba-8f37-4694-eb85-66e987eb695a"
      },
      "outputs": [
        {
          "name": "stdout",
          "output_type": "stream",
          "text": [
            "Reverse order of list '[6, 8, 4, 3, 1]' is '[1, 3, 4, 8, 6]'\n",
            "Reverse order of list '['s', 'x', 'p', 'z']' is '['z', 'p', 'x', 's']'\n"
          ]
        }
      ],
      "source": [
        "# function to reverse the order of elements in list\n",
        "#l[::-1] is python syntax to reverse the list\n",
        "def reverse(l):\n",
        "    return l[::-1]\n",
        "\n",
        "# lists\n",
        "l1 = [6,8,4,3,1]\n",
        "l2 = ['s','x','p','z']\n",
        "\n",
        "#calling a function\n",
        "reverse_list1 = reverse(l1)\n",
        "reverse_list2 = reverse(l2)\n",
        "\n",
        "#printing the list in reverse order\n",
        "print(f\"Reverse order of list '{l1}' is '{reverse_list1}'\")\n",
        "print(f\"Reverse order of list '{l2}' is '{reverse_list2}'\")"
      ]
    },
    {
      "cell_type": "markdown",
      "metadata": {
        "id": "mzStuzd6OgwV"
      },
      "source": [
        "11. Sort a list in ascending order."
      ],
      "id": "mzStuzd6OgwV"
    },
    {
      "cell_type": "code",
      "execution_count": null,
      "metadata": {
        "id": "vsCrtpmwOgwW",
        "outputId": "06cf277c-d4c6-4152-f50f-b1aff643ba48"
      },
      "outputs": [
        {
          "name": "stdout",
          "output_type": "stream",
          "text": [
            "Sorted list is '[1, 3, 4, 6, 8]'\n",
            "Sorted list is '['p', 's', 'x', 'z']'\n"
          ]
        }
      ],
      "source": [
        "# function to sort list in ascending order\n",
        "def sort_asc(l):\n",
        "    l.sort()\n",
        "    return l\n",
        "\n",
        "# lists\n",
        "l1 = [6,8,4,3,1]\n",
        "l2 = ['s','x','p','z']\n",
        "\n",
        "#calling a function\n",
        "sorted_list1 = sort_asc(l1)\n",
        "sorted_list2 = sort_asc(l2)\n",
        "\n",
        "#printing the sorted list in ascending order\n",
        "print(f\"Sorted list is '{sorted_list1}'\")\n",
        "print(f\"Sorted list is '{sorted_list2}'\")"
      ],
      "id": "vsCrtpmwOgwW"
    },
    {
      "cell_type": "markdown",
      "metadata": {
        "id": "TQNRsjn9OgwW"
      },
      "source": [
        "12. Sort a list in descending order."
      ],
      "id": "TQNRsjn9OgwW"
    },
    {
      "cell_type": "code",
      "execution_count": null,
      "metadata": {
        "id": "O_z5d5RCOgwW",
        "outputId": "fc4d0562-139f-4a84-9db3-773be1e1fd55"
      },
      "outputs": [
        {
          "name": "stdout",
          "output_type": "stream",
          "text": [
            "Sorted list in descending order is '[8, 6, 4, 3, 1]'\n",
            "Sorted list is descending order is'['z', 'x', 's', 'p']'\n"
          ]
        }
      ],
      "source": [
        "# function to sort list in descending order\n",
        "def sort_des(l):\n",
        "    l.sort(reverse=True)\n",
        "    return l\n",
        "\n",
        "# lists\n",
        "l1 = [1, 3, 4, 6, 8]\n",
        "l2 = ['s','x','p','z']\n",
        "\n",
        "#calling a function\n",
        "sorted_list1 = sort_des(l1)\n",
        "sorted_list2 = sort_des(l2)\n",
        "\n",
        "#printing the list in descending order\n",
        "print(f\"Sorted list in descending order is '{sorted_list1}'\")\n",
        "print(f\"Sorted list is descending order is'{sorted_list2}'\")"
      ],
      "id": "O_z5d5RCOgwW"
    },
    {
      "cell_type": "markdown",
      "metadata": {
        "id": "b7eIMY6lOgwW"
      },
      "source": [
        "13. Create a list of even numbers from 1 to 20."
      ],
      "id": "b7eIMY6lOgwW"
    },
    {
      "cell_type": "code",
      "execution_count": null,
      "metadata": {
        "id": "QnNICJ-EOgwW",
        "outputId": "b4306e52-dd00-4aab-d371-8b1657c410d6"
      },
      "outputs": [
        {
          "name": "stdout",
          "output_type": "stream",
          "text": [
            "Even in range 1 to 20 are [2, 4, 6, 8, 10, 12, 14, 16, 18, 20]\n"
          ]
        }
      ],
      "source": [
        "# function to create list of even number in the range\n",
        "def list_even(start,end):\n",
        "    return [i for i in range(start,end+1) if i % 2 == 0]\n",
        "\n",
        "#printing even in range 1 to 20\n",
        "print(f\"Even in range 1 to 20 are {list_even(1,20)}\")\n"
      ],
      "id": "QnNICJ-EOgwW"
    },
    {
      "cell_type": "markdown",
      "metadata": {
        "id": "qn0R3oJDOgwX"
      },
      "source": [],
      "id": "qn0R3oJDOgwX"
    },
    {
      "cell_type": "markdown",
      "id": "e0c89f23",
      "metadata": {
        "id": "e0c89f23"
      },
      "source": [
        "14. Create a list of odd numbers from 1 to 20."
      ]
    },
    {
      "cell_type": "code",
      "execution_count": null,
      "id": "df9fd62a",
      "metadata": {
        "id": "df9fd62a",
        "outputId": "fee7fe74-6f52-47e0-f05b-5faee21faf5c"
      },
      "outputs": [
        {
          "name": "stdout",
          "output_type": "stream",
          "text": [
            "Odd in range 1 to 20 are [1, 3, 5, 7, 9, 11, 13, 15, 17, 19]\n"
          ]
        }
      ],
      "source": [
        "# function to create list of even number in the range\n",
        "def list_odd(start,end):\n",
        "    return [i for i in range(start,end+1) if i % 2 != 0]\n",
        "\n",
        "#printing even in range 1 to 20\n",
        "print(f\"Odd in range 1 to 20 are {list_odd(1,20)}\")"
      ]
    },
    {
      "cell_type": "markdown",
      "id": "69801ce1",
      "metadata": {
        "id": "69801ce1"
      },
      "source": [
        "15. Find the sum of all elements in a list."
      ]
    },
    {
      "cell_type": "code",
      "execution_count": null,
      "id": "d56cbd2f",
      "metadata": {
        "id": "d56cbd2f",
        "outputId": "68523b5e-2895-44fc-fafa-ed395886fb07"
      },
      "outputs": [
        {
          "name": "stdout",
          "output_type": "stream",
          "text": [
            "The Sum of all elements in list [2, 4, 8, 9, 3] is 26\n",
            "The Sum of all elements in list [5, 1] is 6\n"
          ]
        }
      ],
      "source": [
        "# Function to find sumation of all the elements present in list\n",
        "def add_ele_list(list):\n",
        "    return sum(list)\n",
        "\n",
        "# lists\n",
        "l1 = [2,4,8,9,3]\n",
        "l2 = [5,1]\n",
        "\n",
        "# Printing the sum of all elements\n",
        "print(f\"The Sum of all elements in list {l1} is {add_ele_list(l1)}\")\n",
        "print(f\"The Sum of all elements in list {l2} is {add_ele_list(l2)}\")"
      ]
    },
    {
      "cell_type": "markdown",
      "id": "0506649b",
      "metadata": {
        "id": "0506649b"
      },
      "source": [
        "16. Find the maximum value in a list."
      ]
    },
    {
      "cell_type": "code",
      "execution_count": null,
      "id": "a8743450",
      "metadata": {
        "id": "a8743450",
        "outputId": "58a87f22-8788-4387-ab5b-ebe3977fae0e"
      },
      "outputs": [
        {
          "name": "stdout",
          "output_type": "stream",
          "text": [
            "The maximum element in list [2, 4, 8, 9, 3] is 9\n",
            "The maximum element in list [5, 1] is 5\n"
          ]
        }
      ],
      "source": [
        "# Function to find the maximum value in a list\n",
        "def max_val(list):\n",
        "    return max(list)\n",
        "\n",
        "l1 = [2,4,8,9,3]\n",
        "l2 = [5,1]\n",
        "\n",
        "# Printing the maximum element in list\n",
        "print(f\"The maximum element in list {l1} is {max_val(l1)}\")\n",
        "print(f\"The maximum element in list {l2} is {max_val(l2)}\")"
      ]
    },
    {
      "cell_type": "markdown",
      "id": "7b095630",
      "metadata": {
        "id": "7b095630"
      },
      "source": [
        "17. Find the minimum value in a list."
      ]
    },
    {
      "cell_type": "code",
      "execution_count": null,
      "id": "5024f350",
      "metadata": {
        "id": "5024f350",
        "outputId": "270353b6-29aa-4af5-d92e-faee344a557f"
      },
      "outputs": [
        {
          "name": "stdout",
          "output_type": "stream",
          "text": [
            "The minimum element in list [2, 4, 8, 9, 3] is 2\n",
            "The minimum element in list [5, 1] is 1\n"
          ]
        }
      ],
      "source": [
        "# Function to find the minimum value in a list\n",
        "def min_val(list):\n",
        "    return min(list)\n",
        "\n",
        "# lists\n",
        "l1 = [2,4,8,9,3]\n",
        "l2 = [5,1]\n",
        "\n",
        "# Printing the minimum element in list\n",
        "print(f\"The minimum element in list {l1} is {min_val(l1)}\")\n",
        "print(f\"The minimum element in list {l2} is {min_val(l2)}\")"
      ]
    },
    {
      "cell_type": "markdown",
      "id": "d040069a",
      "metadata": {
        "id": "d040069a"
      },
      "source": [
        "18. Create a list of squares of numbers from 1 to 10."
      ]
    },
    {
      "cell_type": "code",
      "execution_count": null,
      "id": "d9959788",
      "metadata": {
        "id": "d9959788",
        "outputId": "bd606b04-ac3c-4425-a0ee-cc33df3b3e80"
      },
      "outputs": [
        {
          "name": "stdout",
          "output_type": "stream",
          "text": [
            "The list of Sqaures of numbers in list from 1 to 10 is [1, 4, 9, 16, 25, 36, 49, 64, 81, 100]\n"
          ]
        }
      ],
      "source": [
        "# Function to find the list of squares of numbers from 1 to 10\n",
        "def list_of_square(list):\n",
        "    return  [i ** 2 for i in list]\n",
        "\n",
        "#list\n",
        "l1 = [1,2,3,4,5,6,7,8,9,10]\n",
        "\n",
        "#Printing the squares of numbers in list from 1 to 10\n",
        "print(f\"The list of Sqaures of numbers in list from 1 to 10 is {list_of_square(l1)}\")\n"
      ]
    },
    {
      "cell_type": "markdown",
      "id": "c49989e5",
      "metadata": {
        "id": "c49989e5"
      },
      "source": [
        "19. Create a list of random numbers."
      ]
    },
    {
      "cell_type": "code",
      "execution_count": null,
      "id": "3e447bfa",
      "metadata": {
        "id": "3e447bfa",
        "outputId": "4f21b4be-4105-45a1-9927-f302c8da4a6c"
      },
      "outputs": [
        {
          "name": "stdout",
          "output_type": "stream",
          "text": [
            "The list of random numbers of length 5 is [17, 45, 25, 53, 94]\n",
            "The list of random numbers of length 24 is [50, 49, 12, 27, 18, 82, 78, 11, 58, 5, 5, 2, 34, 71, 77, 98, 65, 4, 13, 22, 34, 62, 23, 78]\n"
          ]
        }
      ],
      "source": [
        "# we are importing random module for generating random number\n",
        "import random\n",
        "# Function to create list of random numbers\n",
        "def random_list(length):\n",
        "    # randint is a method in random module which give random integer in length randint(1,100)\n",
        "    return [random.randint(1,100) for _ in range(length)]\n",
        "\n",
        "#length\n",
        "l1 = 5\n",
        "l2 = 24\n",
        "\n",
        "# printing the random number containing list\n",
        "print(f\"The list of random numbers of length {l1} is {random_list(l1)}\")\n",
        "print(f\"The list of random numbers of length {l2} is {random_list(l2)}\")"
      ]
    },
    {
      "cell_type": "markdown",
      "id": "260c3e7f",
      "metadata": {
        "id": "260c3e7f"
      },
      "source": [
        "20. Remove duplicates from a list."
      ]
    },
    {
      "cell_type": "code",
      "execution_count": null,
      "id": "fb08310f",
      "metadata": {
        "id": "fb08310f",
        "outputId": "f67f9158-776e-41eb-d1b3-cfaa9a75f42a"
      },
      "outputs": [
        {
          "name": "stdout",
          "output_type": "stream",
          "text": [
            "The list after removing duplicates is := [4, 8, 6, 9]\n",
            "The list after removing duplicates is := [7, 8, 5, 2, 9]\n"
          ]
        }
      ],
      "source": [
        "# function to remove duplicate\n",
        "def rm_duplicate(li):\n",
        "    #with this approach the order of elemnts is maintained\n",
        "    return[i for n, i in enumerate(li) if i not in li[:n]]\n",
        "\n",
        "#list\n",
        "l1 = [4,4,8,6,8,9,6]\n",
        "l2 = [7,8,5,2,9,2,7]\n",
        "\n",
        "#printing\n",
        "print(f\"The list after removing duplicates is := {rm_duplicate(l1)}\")\n",
        "print(f\"The list after removing duplicates is := {rm_duplicate(l2)}\")"
      ]
    },
    {
      "cell_type": "markdown",
      "id": "871fe1de",
      "metadata": {
        "id": "871fe1de"
      },
      "source": [
        "21. Find the common elements between two lists."
      ]
    },
    {
      "cell_type": "code",
      "execution_count": null,
      "id": "a9bd2f28",
      "metadata": {
        "id": "a9bd2f28",
        "outputId": "a42607e5-7a0f-4cab-a532-c2423b4f631e"
      },
      "outputs": [
        {
          "name": "stdout",
          "output_type": "stream",
          "text": [
            "Common elements between 2 list is = [8, 9]\n"
          ]
        }
      ],
      "source": [
        "#Function to find common elemnts between two lists\n",
        "def common_bet_list(l1,l2):\n",
        "    return [i for i in l1 if i in l2]\n",
        "\n",
        "#lists\n",
        "l1 = [4,8,9,5]\n",
        "l2 = [8,9,7,3]\n",
        "\n",
        "#printing\n",
        "print(f\"Common elements between 2 list is = {common_bet_list(l1,l2)}\")"
      ]
    },
    {
      "cell_type": "markdown",
      "id": "b20b6ecf",
      "metadata": {
        "id": "b20b6ecf"
      },
      "source": [
        "22. Find the difference between two lists."
      ]
    },
    {
      "cell_type": "code",
      "execution_count": null,
      "id": "d5e88fcd",
      "metadata": {
        "id": "d5e88fcd",
        "outputId": "b91a3b4a-32a1-4fe2-dbf2-51e448439b65"
      },
      "outputs": [
        {
          "name": "stdout",
          "output_type": "stream",
          "text": [
            "The difference between lists [1, 2, 3, 4, 5] and [4, 5, 6, 7, 8] is [1, 2, 3]\n"
          ]
        }
      ],
      "source": [
        "# function to find the difference between two list\n",
        "def list_difference(l1,l2):\n",
        "    return [i for i in l1 if i not in l2]\n",
        "\n",
        "#lists\n",
        "list1 = [1, 2, 3, 4, 5]\n",
        "list2 = [4, 5, 6, 7, 8]\n",
        "\n",
        "#print the difference between 2 lists\n",
        "print(f\"The difference between lists {list1} and {list2} is {list_difference(list1,list2)}\")"
      ]
    },
    {
      "cell_type": "markdown",
      "id": "7050fa67",
      "metadata": {
        "id": "7050fa67"
      },
      "source": [
        "23. Merge two lists."
      ]
    },
    {
      "cell_type": "code",
      "execution_count": null,
      "id": "5d886fb0",
      "metadata": {
        "id": "5d886fb0",
        "outputId": "bfdba340-72a2-4e63-90e1-1ff12a69eb6e"
      },
      "outputs": [
        {
          "name": "stdout",
          "output_type": "stream",
          "text": [
            "The merged list after merging 2 lists [1, 2, 3] and [4, 5, 6] is [1, 2, 3, 4, 5, 6]\n"
          ]
        }
      ],
      "source": [
        "# function to merge two lists\n",
        "def merge_list(l1,l2):\n",
        "    return l1 + l2\n",
        "\n",
        "# lists\n",
        "list1 = [1, 2, 3]\n",
        "list2 = [4, 5, 6]\n",
        "\n",
        "# printing merged list\n",
        "print(f\"The merged list after merging 2 lists {list1} and {list2} is {merge_list(list1,list2)}\")"
      ]
    },
    {
      "cell_type": "markdown",
      "id": "5643ddf6",
      "metadata": {
        "id": "5643ddf6"
      },
      "source": [
        "24. Multiply all elements in a list by 2."
      ]
    },
    {
      "cell_type": "code",
      "execution_count": null,
      "id": "97ee1899",
      "metadata": {
        "id": "97ee1899",
        "outputId": "3c7e65bd-525d-4a97-fd42-7059a2747e18"
      },
      "outputs": [
        {
          "name": "stdout",
          "output_type": "stream",
          "text": [
            "The list [2, 4, 5, 1, 6] after multiplying by '2' is [4, 8, 10, 2, 12]\n"
          ]
        }
      ],
      "source": [
        "#function to multiply elements in a list by 2\n",
        "def mul_by_2(list):\n",
        "    return [i * 2 for i in list]\n",
        "\n",
        "#lists\n",
        "list1 = [2,4,5,1,6]\n",
        "\n",
        "# printing list after multiplying by 2\n",
        "print(f\"The list {list1} after multiplying by '2' is {mul_by_2(list1)}\")"
      ]
    },
    {
      "cell_type": "markdown",
      "id": "cbc5d09b",
      "metadata": {
        "id": "cbc5d09b"
      },
      "source": [
        "25. Filter out all even numbers from a list."
      ]
    },
    {
      "cell_type": "code",
      "execution_count": null,
      "id": "2632dec5",
      "metadata": {
        "id": "2632dec5",
        "outputId": "85f80a65-bab7-41f5-e740-07272f14030f"
      },
      "outputs": [
        {
          "name": "stdout",
          "output_type": "stream",
          "text": [
            "The list after filtering out even number from list [2, 4, 5, 7, 9, 8] is [5, 7, 9]\n"
          ]
        }
      ],
      "source": [
        "def filter_even_num(list):\n",
        "    return [i for i in list if i%2 != 0]\n",
        "\n",
        "#lists\n",
        "lists1 = [2,4,5,7,9,8]\n",
        "\n",
        "# Printing\n",
        "print(f\"The list after filtering out even number from list {lists1} is {filter_even_num(lists1)}\")"
      ]
    },
    {
      "cell_type": "markdown",
      "id": "8e159256",
      "metadata": {
        "id": "8e159256"
      },
      "source": [
        "26. Convert a list of strings to a list of integers."
      ]
    },
    {
      "cell_type": "code",
      "execution_count": null,
      "id": "55fe0828",
      "metadata": {
        "id": "55fe0828",
        "outputId": "b8407b54-94c5-4024-bdaf-079c7348adeb"
      },
      "outputs": [
        {
          "name": "stdout",
          "output_type": "stream",
          "text": [
            "The list of string ['1', '2', '3', '4', '5'] after converting to list of integer is [1, 2, 3, 4, 5]\n"
          ]
        }
      ],
      "source": [
        "def convert_strlist_intlist(list):\n",
        "    return [int(i) for i in list]\n",
        "\n",
        "# lists\n",
        "li = ['1','2','3','4','5']\n",
        "\n",
        "print(f\"The list of string {li} after converting to list of integer is {convert_strlist_intlist(li)}\")"
      ]
    },
    {
      "cell_type": "markdown",
      "id": "0edcda62",
      "metadata": {
        "id": "0edcda62"
      },
      "source": [
        "27. Convert a list of integers to a list of strings."
      ]
    },
    {
      "cell_type": "code",
      "execution_count": null,
      "id": "aa49cbea",
      "metadata": {
        "id": "aa49cbea",
        "outputId": "f3d61b90-eb8d-4225-cc80-fafca513ef39"
      },
      "outputs": [
        {
          "name": "stdout",
          "output_type": "stream",
          "text": [
            "The list of integer [4, 5, 8, 1, 6] after converting to list of string is ['4', '5', '8', '1', '6']\n"
          ]
        }
      ],
      "source": [
        "def convert_intlist_strlist(list):\n",
        "    return [str(i) for i in list]\n",
        "\n",
        "#lists\n",
        "li = [4,5,8,1,6]\n",
        "\n",
        "#print\n",
        "print(f\"The list of integer {li} after converting to list of string is {convert_intlist_strlist(li)}\")"
      ]
    },
    {
      "cell_type": "markdown",
      "id": "4efb1e2a",
      "metadata": {
        "id": "4efb1e2a"
      },
      "source": [
        "28. Flatten a nested list."
      ]
    },
    {
      "cell_type": "code",
      "execution_count": null,
      "id": "9855fd5d",
      "metadata": {
        "id": "9855fd5d",
        "outputId": "0db17491-3586-4adc-b9c2-ec32514dee93"
      },
      "outputs": [
        {
          "name": "stdout",
          "output_type": "stream",
          "text": [
            "nested list [[1, 2, 3], [4, 5, 6], [7, 8, 9]] after flattening is [1, 2, 3, 4, 5, 6, 7, 8, 9]\n"
          ]
        }
      ],
      "source": [
        "def flatten_list(nested_list):\n",
        "    return [i for sublist in nested_list for i in sublist]\n",
        "\n",
        "# lists\n",
        "nested_list = [[1,2,3], [4,5,6], [7,8,9]]\n",
        "print(f\"nested list {nested_list} after flattening is {flatten_list(nested_list)}\")"
      ]
    },
    {
      "cell_type": "markdown",
      "id": "6825376c",
      "metadata": {
        "id": "6825376c"
      },
      "source": [
        "29. Create a list of the first 10 Fibonacci numbers."
      ]
    },
    {
      "cell_type": "code",
      "execution_count": null,
      "id": "b3e4c25e",
      "metadata": {
        "id": "b3e4c25e",
        "outputId": "3702901d-1abb-4c63-a12b-e37785ac6b92"
      },
      "outputs": [
        {
          "name": "stdout",
          "output_type": "stream",
          "text": [
            "The List of first 10 fibonacci numbes is [0, 1, 1, 2, 3, 5, 8, 13, 21, 34]\n"
          ]
        }
      ],
      "source": [
        "def list_of_fib(n):\n",
        "    fib_seq = [0, 1]\n",
        "    while len(fib_seq) < n:\n",
        "        fib_seq.append(fib_seq[-1] + fib_seq[-2])\n",
        "    return fib_seq\n",
        "\n",
        "#input\n",
        "n = 10\n",
        "\n",
        "print(f\"The List of first {n} fibonacci numbes is {list_of_fib(n)}\")"
      ]
    },
    {
      "cell_type": "markdown",
      "id": "f53c4e58",
      "metadata": {
        "id": "f53c4e58"
      },
      "source": [
        "30. Check if a list is sorted."
      ]
    },
    {
      "cell_type": "code",
      "execution_count": null,
      "id": "67ff94a6",
      "metadata": {
        "id": "67ff94a6",
        "outputId": "7e4d75ab-0a8d-415f-b939-294dfe87565b"
      },
      "outputs": [
        {
          "name": "stdout",
          "output_type": "stream",
          "text": [
            "The list [4, 5, 1, 8] is Not sorted\n",
            "The list [1, 2, 3, 4] is Sorted\n"
          ]
        }
      ],
      "source": [
        "def check_sorted(list):\n",
        "    return \"Sorted\" if list == sorted(list) else \"Not sorted\"\n",
        "\n",
        "#lists\n",
        "list1 = [4,5,1,8]\n",
        "list2 = [1,2,3,4]\n",
        "\n",
        "#print\n",
        "print(f\"The list {list1} is {check_sorted(list1)}\")\n",
        "print(f\"The list {list2} is {check_sorted(list2)}\")\n"
      ]
    },
    {
      "cell_type": "markdown",
      "id": "324a7b93",
      "metadata": {
        "id": "324a7b93"
      },
      "source": [
        "31. Rotate a list to the left by `n` positions."
      ]
    },
    {
      "cell_type": "code",
      "execution_count": null,
      "id": "109727ff",
      "metadata": {
        "id": "109727ff",
        "outputId": "52447954-573e-48c8-c8f9-0bbb8960ac61"
      },
      "outputs": [
        {
          "name": "stdout",
          "output_type": "stream",
          "text": [
            "The list after rotating to left by 2 number is [1, 3, 4, 2]\n"
          ]
        }
      ],
      "source": [
        "def rotate_list_left(list,n):\n",
        "    return list[n:] + list[:n]\n",
        "\n",
        "# input\n",
        "list = [4,2,1,3]\n",
        "n1 = 2\n",
        "\n",
        "#calling a function\n",
        "print(f\"The list after rotating to left by {n1} number is {rotate_list_left(list,n1)}\")"
      ]
    },
    {
      "cell_type": "markdown",
      "id": "b63a9e20",
      "metadata": {
        "id": "b63a9e20"
      },
      "source": [
        "32. Rotate a list to the right by `n` positions."
      ]
    },
    {
      "cell_type": "code",
      "execution_count": null,
      "id": "14c0d39d",
      "metadata": {
        "id": "14c0d39d",
        "outputId": "5d98b4d9-02d6-4a6c-9c91-50cb765192df"
      },
      "outputs": [
        {
          "name": "stdout",
          "output_type": "stream",
          "text": [
            "The list after rotating to right by 2 number is [3, 1, 4, 2]\n"
          ]
        }
      ],
      "source": [
        "def rotate_list_right(list, n):\n",
        "    return list[-n:] + list[:-n]\n",
        "\n",
        "#input\n",
        "list = [4,2,3,1]\n",
        "n1 = 2\n",
        "#calling a function\n",
        "print(f\"The list after rotating to right by {n1} number is {rotate_list_right(list,n1)}\")"
      ]
    },
    {
      "cell_type": "markdown",
      "id": "8e62bb37",
      "metadata": {
        "id": "8e62bb37"
      },
      "source": [
        "33. Create a list of prime numbers up to 50.|"
      ]
    },
    {
      "cell_type": "code",
      "execution_count": null,
      "id": "257810b8",
      "metadata": {
        "id": "257810b8",
        "outputId": "5613eddf-bb40-4879-821d-692b29bdf8e0"
      },
      "outputs": [
        {
          "name": "stdout",
          "output_type": "stream",
          "text": [
            "The list of Primes numbers up to 50 is [2, 3, 5, 7, 11, 13, 17, 19, 23, 29, 31, 37, 41, 43, 47]\n"
          ]
        }
      ],
      "source": [
        "def primes_up_to(n):\n",
        "    primes = []\n",
        "    for possiblePrime in range(2, n + 1):\n",
        "        isPrime = True\n",
        "        for num in range(2, int(possiblePrime ** 0.5) + 1):\n",
        "            if possiblePrime % num == 0:\n",
        "                isPrime = False\n",
        "                break\n",
        "        if isPrime:\n",
        "            primes.append(possiblePrime)\n",
        "    return primes\n",
        "\n",
        "print(f\"The list of Primes numbers up to 50 is {primes_up_to(50)}\")"
      ]
    },
    {
      "cell_type": "markdown",
      "id": "df77a9d9",
      "metadata": {
        "id": "df77a9d9"
      },
      "source": [
        "34. Split a list into chunks of size `n`."
      ]
    },
    {
      "cell_type": "code",
      "execution_count": null,
      "id": "754284f2",
      "metadata": {
        "id": "754284f2",
        "outputId": "0bea2f47-fc61-4677-96b3-11f6919db21c"
      },
      "outputs": [
        {
          "name": "stdout",
          "output_type": "stream",
          "text": [
            "The chunk of list of size 2 is [[1, 2], [3, 5], [6, 7], [8, 9], [6]]\n"
          ]
        }
      ],
      "source": [
        "def split_list_into_chunks(lst, n):\n",
        "    for i in range(0, len(lst), n):\n",
        "        yield lst[i:i + n]\n",
        "\n",
        "lst = [1, 2, 3, 5, 6, 7, 8, 9, 6]\n",
        "n = 2\n",
        "\n",
        "chunked_list = list(split_list_into_chunks(lst, n))\n",
        "\n",
        "print(f\"The chunk of list of size {n} is {chunked_list}\")"
      ]
    },
    {
      "cell_type": "markdown",
      "id": "9fd0903a",
      "metadata": {
        "id": "9fd0903a"
      },
      "source": [
        "35. Find the second largest number in a list."
      ]
    },
    {
      "cell_type": "code",
      "execution_count": null,
      "id": "c218876a",
      "metadata": {
        "id": "c218876a",
        "outputId": "a5dddf2e-eb4f-4e5f-c2be-895536395a68"
      },
      "outputs": [
        {
          "name": "stdout",
          "output_type": "stream",
          "text": [
            "Second largest element in list [4, 2, 5, 8, 1] is 5\n"
          ]
        }
      ],
      "source": [
        "def second_largest_no_in_list(li):\n",
        "    sorted_list = sorted(li)\n",
        "    return sorted_list[-2]\n",
        "\n",
        "#inputs\n",
        "li = [4,2,5,8,1]\n",
        "\n",
        "#Printing\n",
        "print(f\"Second largest element in list {li} is {second_largest_no_in_list(li)}\")"
      ]
    },
    {
      "cell_type": "markdown",
      "id": "3f0f8743",
      "metadata": {
        "id": "3f0f8743"
      },
      "source": [
        "36. Replace every element in a list with its square."
      ]
    },
    {
      "cell_type": "code",
      "execution_count": null,
      "id": "d00fee6b",
      "metadata": {
        "id": "d00fee6b",
        "outputId": "baf6a802-41e2-4f5a-e95a-ae8456bbfa2e"
      },
      "outputs": [
        {
          "name": "stdout",
          "output_type": "stream",
          "text": [
            "The replaced list with the square is : [1, 4, 9, 16]\n"
          ]
        }
      ],
      "source": [
        "def square_elements(lst):\n",
        "    return [num ** 2 for num in lst]\n",
        "\n",
        "# lists\n",
        "l1 = [1,2,3,4]\n",
        "\n",
        "#printing\n",
        "print(f\"The replaced list with the square is : {square_elements(l1)}\")"
      ]
    },
    {
      "cell_type": "markdown",
      "id": "92d17474",
      "metadata": {
        "id": "92d17474"
      },
      "source": [
        "37. Convert a list to a dictionary where list elements become keys and their\n",
        "indices become values."
      ]
    },
    {
      "cell_type": "code",
      "execution_count": null,
      "id": "4b3b76ce",
      "metadata": {
        "id": "4b3b76ce",
        "outputId": "29ebb711-afd9-45e3-cbba-2971dd646cc0"
      },
      "outputs": [
        {
          "name": "stdout",
          "output_type": "stream",
          "text": [
            "list after converting to dictonary is {'A': 0, 'B': 1, 'C': 2}\n"
          ]
        }
      ],
      "source": [
        "def list_to_dict(lst):\n",
        "    return {value: index for index, value in enumerate(lst)}\n",
        "\n",
        "#lists\n",
        "l1 = ['A','B','C']\n",
        "\n",
        "#print\n",
        "print(f\"list after converting to dictonary is {list_to_dict(l1)}\")"
      ]
    },
    {
      "cell_type": "markdown",
      "id": "a39e1e6a",
      "metadata": {
        "id": "a39e1e6a"
      },
      "source": [
        "38. Shuffle the elements of a list randomly."
      ]
    },
    {
      "cell_type": "code",
      "execution_count": null,
      "id": "1f5e0bcc",
      "metadata": {
        "id": "1f5e0bcc",
        "outputId": "8f7f0261-b4b0-4a49-b83b-17b8e4738d18"
      },
      "outputs": [
        {
          "name": "stdout",
          "output_type": "stream",
          "text": [
            " The list before shuffeling [1, 2, 3, 4, 5] and after shuffeling is [4, 3, 2, 5, 1]\n"
          ]
        }
      ],
      "source": [
        "import random\n",
        "\n",
        "def shuffle_list(lst):\n",
        "    random.shuffle(lst)\n",
        "    return lst\n",
        "\n",
        "#lists\n",
        "lst = [1, 2, 3, 4, 5]\n",
        "\n",
        "print(f\" The list before shuffeling {lst} and after shuffeling is {(shuffle_list(lst))}\")"
      ]
    },
    {
      "cell_type": "markdown",
      "id": "3f81fdc7",
      "metadata": {
        "id": "3f81fdc7"
      },
      "source": [
        "39. Create a list of the first 10 factorial numbers."
      ]
    },
    {
      "cell_type": "code",
      "execution_count": null,
      "id": "0a75455b",
      "metadata": {
        "id": "0a75455b",
        "outputId": "01bc16e5-85c1-4ae5-80d3-d94f0835900d"
      },
      "outputs": [
        {
          "name": "stdout",
          "output_type": "stream",
          "text": [
            "The list of first 10 factorial is [1, 1, 2, 6, 24, 120, 720, 5040, 40320, 362880]\n"
          ]
        }
      ],
      "source": [
        "import math\n",
        "\n",
        "def first_n_factorials(n):\n",
        "    return [math.factorial(i) for i in range(n)]\n",
        "\n",
        "# list\n",
        "n = 10\n",
        "\n",
        "#Printing\n",
        "print(f\"The list of first 10 factorial is {first_n_factorials(n)}\")\n"
      ]
    },
    {
      "cell_type": "markdown",
      "id": "373f7b35",
      "metadata": {
        "id": "373f7b35"
      },
      "source": [
        "40. Check if two lists have at least one element in common."
      ]
    },
    {
      "cell_type": "code",
      "execution_count": null,
      "id": "8b6caf6b",
      "metadata": {
        "id": "8b6caf6b",
        "outputId": "85004bc5-f8cc-4b67-f44d-48d827570077"
      },
      "outputs": [
        {
          "name": "stdout",
          "output_type": "stream",
          "text": [
            "The lists [1, 2, 3, 4, 5] and [5, 6, 7, 8, 9] have common elements :: True\n"
          ]
        }
      ],
      "source": [
        "def have_common_element(list1, list2):\n",
        "    return any(element in list2 for element in list1)\n",
        "\n",
        "#list\n",
        "list1 = [1, 2, 3, 4, 5]\n",
        "list2 = [5, 6, 7, 8, 9]\n",
        "\n",
        "#printing\n",
        "print(f\"The lists {list1} and {list2} have common elements :: {have_common_element(list1, list2)}\")\n"
      ]
    },
    {
      "cell_type": "markdown",
      "id": "2bf35247",
      "metadata": {
        "id": "2bf35247"
      },
      "source": [
        "41. Remove all elements from a list."
      ]
    },
    {
      "cell_type": "code",
      "execution_count": null,
      "id": "6c66d17a",
      "metadata": {
        "id": "6c66d17a",
        "outputId": "71105af4-8973-4801-fb63-54d26edc870f"
      },
      "outputs": [
        {
          "name": "stdout",
          "output_type": "stream",
          "text": [
            "The list [1, 2, 3, 4, 5] after clearing is []\n"
          ]
        }
      ],
      "source": [
        "def clear_list(lst):\n",
        "    lst.clear()\n",
        "    return lst\n",
        "\n",
        "#list\n",
        "list1 = [1, 2, 3, 4, 5]\n",
        "\n",
        "#printing\n",
        "print(f\"The list {list1} after clearing is {clear_list(list1)}\")"
      ]
    },
    {
      "cell_type": "markdown",
      "id": "20411f1e",
      "metadata": {
        "id": "20411f1e"
      },
      "source": [
        "42. Replace negative numbers in a list with 0.\n"
      ]
    },
    {
      "cell_type": "code",
      "execution_count": null,
      "id": "a028d366",
      "metadata": {
        "id": "a028d366",
        "outputId": "3efdf3e0-f7f8-4127-c887-22a2bc9cfe17"
      },
      "outputs": [
        {
          "name": "stdout",
          "output_type": "stream",
          "text": [
            "the list [-1, 2, -3, 4, -5] after repacing negative numbers with 0 is [0, 2, 0, 4, 0]\n"
          ]
        }
      ],
      "source": [
        "def replace_negatives_with_zero(lst):\n",
        "    return [0 if num < 0 else num for num in lst]\n",
        "\n",
        "#lists\n",
        "lst = [-1, 2, -3, 4, -5]\n",
        "\n",
        "print(f\"the list {lst} after repacing negative numbers with 0 is {replace_negatives_with_zero(lst)}\")"
      ]
    },
    {
      "cell_type": "markdown",
      "id": "acb3598a",
      "metadata": {
        "id": "acb3598a"
      },
      "source": [
        "43. Convert a string into a list of words."
      ]
    },
    {
      "cell_type": "code",
      "execution_count": null,
      "id": "d08e5abb",
      "metadata": {
        "id": "d08e5abb",
        "outputId": "b2929f82-938c-4979-de53-49bc7d282947"
      },
      "outputs": [
        {
          "name": "stdout",
          "output_type": "stream",
          "text": [
            "The string hello world after splitting it into list of words is ['hello', 'world']\n"
          ]
        }
      ],
      "source": [
        "def string_to_words(s):\n",
        "    return s.split()\n",
        "\n",
        "#strings\n",
        "s = \"hello world\"\n",
        "\n",
        "#printing\n",
        "print(f\"The string {s} after splitting it into list of words is {string_to_words(s)}\")"
      ]
    },
    {
      "cell_type": "markdown",
      "id": "e91526c0",
      "metadata": {
        "id": "e91526c0"
      },
      "source": [
        "44. Convert a list of words into a string."
      ]
    },
    {
      "cell_type": "code",
      "execution_count": null,
      "id": "e7735bda",
      "metadata": {
        "id": "e7735bda",
        "outputId": "293a3328-6868-44ec-d51b-68c1a12b446c"
      },
      "outputs": [
        {
          "name": "stdout",
          "output_type": "stream",
          "text": [
            "The string after joining words in list 'This is a sample sentence.'\n"
          ]
        }
      ],
      "source": [
        "def words_to_string(words):\n",
        "    return ' '.join(words)\n",
        "\n",
        "#list\n",
        "words = ['This', 'is', 'a', 'sample', 'sentence.']\n",
        "\n",
        "#print\n",
        "\n",
        "print(f\"The string after joining words in list '{(words_to_string(words))}'\")"
      ]
    },
    {
      "cell_type": "markdown",
      "id": "4b2e174f",
      "metadata": {
        "id": "4b2e174f"
      },
      "source": [
        "45. Create a list of the first `n` powers of 2."
      ]
    },
    {
      "cell_type": "code",
      "execution_count": null,
      "id": "fdc41b3d",
      "metadata": {
        "id": "fdc41b3d",
        "outputId": "6ba6af27-af0b-49a8-d5ae-380e6381bc27"
      },
      "outputs": [
        {
          "name": "stdout",
          "output_type": "stream",
          "text": [
            "The list of first 10 powers of 2 [1, 2, 4, 8, 16, 32, 64, 128, 256, 512]\n"
          ]
        }
      ],
      "source": [
        "def first_n_powers_of_2(n):\n",
        "    return [2 ** i for i in range(n)]\n",
        "\n",
        "# number\n",
        "n = 10\n",
        "\n",
        "#printing\n",
        "\n",
        "print(f\"The list of first {n} powers of 2 {first_n_powers_of_2(n)}\")"
      ]
    },
    {
      "cell_type": "markdown",
      "id": "3d01e32a",
      "metadata": {
        "id": "3d01e32a"
      },
      "source": [
        "46. Find the longest string in a list of strings."
      ]
    },
    {
      "cell_type": "code",
      "execution_count": null,
      "id": "b28db3c5",
      "metadata": {
        "id": "b28db3c5",
        "outputId": "1b4cbb5a-3dfb-4000-c100-0d20d5cb8e94"
      },
      "outputs": [
        {
          "name": "stdout",
          "output_type": "stream",
          "text": [
            "The longest string in list of string ['short', 'medium length', 'a really long string'] is 'a really long string'\n"
          ]
        }
      ],
      "source": [
        "def longest_string(lst):\n",
        "    return max(lst, key=len)\n",
        "\n",
        "# list\n",
        "lst = [\"short\", \"medium length\", \"a really long string\"]\n",
        "\n",
        "print(f\"The longest string in list of string {lst} is '{longest_string(lst)}'\")\n"
      ]
    },
    {
      "cell_type": "markdown",
      "id": "81fc45c8",
      "metadata": {
        "id": "81fc45c8"
      },
      "source": [
        "47. Find the shortest string in a list of strings."
      ]
    },
    {
      "cell_type": "code",
      "execution_count": null,
      "id": "3771d067",
      "metadata": {
        "id": "3771d067",
        "outputId": "aef895bb-8ed1-4cbf-c8f2-b7c9cbdc2a32"
      },
      "outputs": [
        {
          "name": "stdout",
          "output_type": "stream",
          "text": [
            "The shortest string in list of words ['short', 'medium length', 'a really long string'] is 'short'\n"
          ]
        }
      ],
      "source": [
        "def shortest_string(lst):\n",
        "    return min(lst, key=len)\n",
        "\n",
        "# list\n",
        "lst = [\"short\", \"medium length\", \"a really long string\"]\n",
        "\n",
        "print(f\"The shortest string in list of words {lst} is '{shortest_string(lst)}'\")"
      ]
    },
    {
      "cell_type": "markdown",
      "id": "b04468d6",
      "metadata": {
        "id": "b04468d6"
      },
      "source": [
        "48. Create a list of the first `n` triangular numbers."
      ]
    },
    {
      "cell_type": "code",
      "execution_count": null,
      "id": "9acc9cff",
      "metadata": {
        "id": "9acc9cff",
        "outputId": "a8273323-2251-4427-f00f-ef59b450a1e8"
      },
      "outputs": [
        {
          "name": "stdout",
          "output_type": "stream",
          "text": [
            "The list of the first 5 triangukar numbers [1, 3, 6, 10, 15]\n"
          ]
        }
      ],
      "source": [
        "def generate_triangular_numbers(n):\n",
        "    triangular_numbers = [(i * (i + 1)) // 2 for i in range(1, n + 1)]\n",
        "    return triangular_numbers\n",
        "\n",
        "# inputs\n",
        "n = 5\n",
        "\n",
        "#printing\n",
        "print(f\"The list of the first {n} triangukar numbers {generate_triangular_numbers(n)}\")"
      ]
    },
    {
      "cell_type": "markdown",
      "id": "0c5f6e3d",
      "metadata": {
        "id": "0c5f6e3d"
      },
      "source": [
        "49. Check if a list contains another list as a subsequence."
      ]
    },
    {
      "cell_type": "code",
      "execution_count": null,
      "id": "356a894f",
      "metadata": {
        "id": "356a894f",
        "outputId": "3e67219b-7457-4f63-ea8c-b9e925a82bc4"
      },
      "outputs": [
        {
          "name": "stdout",
          "output_type": "stream",
          "text": [
            "The list [1, 2, 3, 4, 5, 6, 7, 8] conatins subsequence [3, 5, 7] :True\n"
          ]
        }
      ],
      "source": [
        "def is_subsequence(subsequence, sequence):\n",
        "    sub_len = len(subsequence)\n",
        "    seq_len = len(sequence)\n",
        "\n",
        "    i, j = 0, 0\n",
        "\n",
        "    while i < sub_len and j < seq_len:\n",
        "        if subsequence[i] == sequence[j]:\n",
        "            i += 1\n",
        "        j += 1\n",
        "\n",
        "    return i == sub_len\n",
        "\n",
        "#inputs\n",
        "sequence = [1, 2, 3, 4, 5, 6, 7, 8]\n",
        "subsequence = [3, 5, 7]\n",
        "\n",
        "print(f\"The list {sequence} conatins subsequence {subsequence} :{is_subsequence(subsequence,sequence)}\")"
      ]
    },
    {
      "cell_type": "markdown",
      "id": "5e99c952",
      "metadata": {
        "id": "5e99c952"
      },
      "source": [
        "50. Swap two elements in a list by their indices."
      ]
    },
    {
      "cell_type": "code",
      "execution_count": null,
      "id": "0039aa06",
      "metadata": {
        "id": "0039aa06",
        "outputId": "6680dda0-257d-467b-c036-778f1d2749ba"
      },
      "outputs": [
        {
          "name": "stdout",
          "output_type": "stream",
          "text": [
            "the list after swaping two elements in a list by thier indices is [1, 4, 3, 2, 5]\n"
          ]
        }
      ],
      "source": [
        "def swap_elements(lst, index1, index2):\n",
        "\n",
        "    if 0 <= index1 < len(lst) and 0 <= index2 < len(lst):\n",
        "        lst[index1], lst[index2] = lst[index2], lst[index1]\n",
        "#lists\n",
        "my_list = [1, 2, 3, 4, 5]\n",
        "\n",
        "swap_elements(my_list, 1, 3)\n",
        "\n",
        "print(f\"the list after swaping two elements in a list by thier indices is {my_list}\")\n"
      ]
    },
    {
      "cell_type": "markdown",
      "id": "73552906",
      "metadata": {
        "id": "73552906"
      },
      "source": [
        "Tuple"
      ]
    },
    {
      "cell_type": "markdown",
      "id": "d448729d",
      "metadata": {
        "id": "d448729d"
      },
      "source": [
        "1. Create a tuple with integers from 1 to 5."
      ]
    },
    {
      "cell_type": "code",
      "execution_count": null,
      "id": "2e3fda2c",
      "metadata": {
        "id": "2e3fda2c",
        "outputId": "2f3dadbf-210d-493f-d9c8-32ca3ceff870"
      },
      "outputs": [
        {
          "name": "stdout",
          "output_type": "stream",
          "text": [
            "The tuple from 1 to 5 is (1, 2, 3, 4, 5)\n"
          ]
        }
      ],
      "source": [
        "# created tuple\n",
        "my_tuple = (1,2,3,4,5)\n",
        "\n",
        "#Printing\n",
        "print(f\"The tuple from 1 to 5 is {my_tuple}\")\n"
      ]
    },
    {
      "cell_type": "markdown",
      "id": "e59161de",
      "metadata": {
        "id": "e59161de"
      },
      "source": [
        "2. Access the third element of a tuple."
      ]
    },
    {
      "cell_type": "code",
      "execution_count": null,
      "id": "aa0bb3d3",
      "metadata": {
        "id": "aa0bb3d3",
        "outputId": "d315827e-d186-4b33-d4d5-f3a766156ac6"
      },
      "outputs": [
        {
          "name": "stdout",
          "output_type": "stream",
          "text": [
            "The element from tuple (1, 2, 3, 4, 5) is 3\n"
          ]
        }
      ],
      "source": [
        "# created tuple\n",
        "my_tuple = (1,2,3,4,5)\n",
        "\n",
        "#accessing third element\n",
        "third_element = my_tuple[2]\n",
        "\n",
        "#printing third element here we taken index 2 to access 3rd element\n",
        "print(f\"The element from tuple {my_tuple} is {third_element}\")"
      ]
    },
    {
      "cell_type": "markdown",
      "id": "4a821715",
      "metadata": {
        "id": "4a821715"
      },
      "source": [
        "3. Find the length of a tuple without using the `len()` function."
      ]
    },
    {
      "cell_type": "code",
      "execution_count": null,
      "id": "551fbb6d",
      "metadata": {
        "id": "551fbb6d",
        "outputId": "e7d514b7-5bd7-45ec-cdec-63b6c864a742"
      },
      "outputs": [
        {
          "name": "stdout",
          "output_type": "stream",
          "text": [
            "The length of the tuple is 5\n"
          ]
        }
      ],
      "source": [
        "# create a tuple\n",
        "my_tuple = (10,20,30,40,50)\n",
        "\n",
        "#variable to count\n",
        "count = 0\n",
        "\n",
        "for i in my_tuple:\n",
        "    count += 1\n",
        "\n",
        "#print\n",
        "print(f\"The length of the tuple is {count}\")"
      ]
    },
    {
      "cell_type": "markdown",
      "id": "c8dcacb2",
      "metadata": {
        "id": "c8dcacb2"
      },
      "source": [
        "4. Count the occurrences of an element in a tuple."
      ]
    },
    {
      "cell_type": "code",
      "execution_count": null,
      "id": "7dca6518",
      "metadata": {
        "id": "7dca6518",
        "outputId": "90c06ba0-ff19-44bd-ffd5-986401166d1a"
      },
      "outputs": [
        {
          "name": "stdout",
          "output_type": "stream",
          "text": [
            "The count of element 30 in tuple (10, 20, 30, 30, 40, 80, 30) is 3\n"
          ]
        }
      ],
      "source": [
        "# create a tuple\n",
        "my_tuple = (10, 20, 30, 30, 40, 80, 30)\n",
        "\n",
        "ele = 30\n",
        "\n",
        "count = 0\n",
        "\n",
        "for i in my_tuple:\n",
        "    if i == ele:\n",
        "        count += 1\n",
        "\n",
        "\n",
        "#printing\n",
        "print(f\"The count of element {ele} in tuple {my_tuple} is {count}\")"
      ]
    },
    {
      "cell_type": "markdown",
      "id": "099974a5",
      "metadata": {
        "id": "099974a5"
      },
      "source": [
        "5. Find the index of the first occurrence of an element in a tuple."
      ]
    },
    {
      "cell_type": "code",
      "execution_count": null,
      "id": "5e6b9f6d",
      "metadata": {
        "id": "5e6b9f6d",
        "outputId": "362d6dcf-acf3-45db-a678-194d32f6e59b"
      },
      "outputs": [
        {
          "name": "stdout",
          "output_type": "stream",
          "text": [
            "The index of first occurrence of an element 30 is 2\n"
          ]
        }
      ],
      "source": [
        "# create a tuple\n",
        "my_tuple = (10, 20, 30, 30, 40, 80, 30)\n",
        "\n",
        "ele = 30\n",
        "index = -1\n",
        "\n",
        "\n",
        "for i in range(0,len(my_tuple)):\n",
        "    if my_tuple[i] == ele:\n",
        "        index = i\n",
        "        break\n",
        "\n",
        "#printing\n",
        "print(f\"The index of first occurrence of an element {ele} is {index}\")\n"
      ]
    },
    {
      "cell_type": "markdown",
      "id": "c4c081dd",
      "metadata": {
        "id": "c4c081dd"
      },
      "source": [
        "6. Check if an element exists in a tuple."
      ]
    },
    {
      "cell_type": "code",
      "execution_count": null,
      "id": "6fb9bbba",
      "metadata": {
        "id": "6fb9bbba",
        "outputId": "113d886c-65ca-4524-8393-13d9ea629a04"
      },
      "outputs": [
        {
          "name": "stdout",
          "output_type": "stream",
          "text": [
            "The element 4 exists in tuple (1, 4, 2, 5) :True\n",
            "The element 11 exists in tuple (1, 4, 2, 5) :False\n"
          ]
        }
      ],
      "source": [
        "#function to check if element exists in a tuple\n",
        "def find(t, element):\n",
        "    if element in t:\n",
        "        return \"True\"\n",
        "    else:\n",
        "        return \"False\"\n",
        "#inputs\n",
        "t1 = (1,4,2,5)\n",
        "t2 = (4,2,9,10)\n",
        "ele1 = 4\n",
        "ele2 = 11\n",
        "\n",
        "#printing\n",
        "print(f\"The element {ele1} exists in tuple {t1} :{find(t1,ele1)}\")\n",
        "print(f\"The element {ele2} exists in tuple {t1} :{find(t2,ele2)}\")\n"
      ]
    },
    {
      "cell_type": "markdown",
      "id": "76c6b2da",
      "metadata": {
        "id": "76c6b2da"
      },
      "source": [
        "7. Convert a tuple to a list."
      ]
    },
    {
      "cell_type": "code",
      "execution_count": null,
      "id": "facc38de",
      "metadata": {
        "id": "facc38de",
        "outputId": "51fa402e-493c-45ea-e96b-fea059a16172"
      },
      "outputs": [
        {
          "name": "stdout",
          "output_type": "stream",
          "text": [
            "The tuple (1, 4, 2, 5) after converting it to list is [1, 4, 2, 5]\n",
            "The tuple (4, 2, 9, 10) after converting it to list is [4, 2, 9, 10]\n"
          ]
        }
      ],
      "source": [
        "#function to convert tuple to a list\n",
        "def convert_tuple_to_list(t):\n",
        "    return list(t)\n",
        "\n",
        "#inputs\n",
        "t1 = (1,4,2,5)\n",
        "t2 = (4,2,9,10)\n",
        "\n",
        "#printing\n",
        "print(f\"The tuple {t1} after converting it to list is {convert_tuple_to_list(t1)}\")\n",
        "print(f\"The tuple {t2} after converting it to list is {convert_tuple_to_list(t2)}\")"
      ]
    },
    {
      "cell_type": "markdown",
      "id": "a4777d67",
      "metadata": {
        "id": "a4777d67"
      },
      "source": [
        "8. Convert a list to a tuple."
      ]
    },
    {
      "cell_type": "code",
      "execution_count": null,
      "id": "f6517571",
      "metadata": {
        "id": "f6517571",
        "outputId": "f549c0d4-83cf-4ff8-cbf8-6eda084ac823"
      },
      "outputs": [
        {
          "name": "stdout",
          "output_type": "stream",
          "text": [
            "The list [4, 1, 5, 2, 3, 7] after converting to tuple is (4, 1, 5, 2, 3, 7)\n",
            "The list [8, 5, 9, 10] after converting to tuple is (8, 5, 9, 10)\n"
          ]
        }
      ],
      "source": [
        "#function to convert list into tuple\n",
        "def convert_list_to_tuple(li):\n",
        "    return tuple(li)\n",
        "\n",
        "#inputs\n",
        "li1 = [4,1,5,2,3,7]\n",
        "li2 = [8,5,9,10]\n",
        "\n",
        "#printing\n",
        "print(f\"The list {li1} after converting to tuple is {convert_list_to_tuple(li1)}\")\n",
        "print(f\"The list {li2} after converting to tuple is {convert_list_to_tuple(li2)}\")"
      ]
    },
    {
      "cell_type": "markdown",
      "id": "67396404",
      "metadata": {
        "id": "67396404"
      },
      "source": [
        "9. Unpack the elements of a tuple into variables."
      ]
    },
    {
      "cell_type": "code",
      "execution_count": null,
      "id": "70525890",
      "metadata": {
        "id": "70525890",
        "outputId": "d204758e-27f6-4e7c-b656-b590d658d49a"
      },
      "outputs": [
        {
          "name": "stdout",
          "output_type": "stream",
          "text": [
            "var1:= hello\n",
            "var2:= hi\n",
            "var3:= how\n",
            "var4:= name\n"
          ]
        }
      ],
      "source": [
        "\n",
        "#creating a tuple\n",
        "t = (\"hello\",\"hi\",\"how\",\"name\")\n",
        "\n",
        "#assigning element\n",
        "var1,var2,var3,var4 = t\n",
        "\n",
        "#print the varibales\n",
        "print(\"var1:=\", var1)\n",
        "print(\"var2:=\", var2)\n",
        "print(\"var3:=\", var3)\n",
        "print(\"var4:=\", var4)\n",
        "\n"
      ]
    },
    {
      "cell_type": "markdown",
      "id": "c28ea7c7",
      "metadata": {
        "id": "c28ea7c7"
      },
      "source": [
        "10. Create a tuple of even numbers from 1 to 10."
      ]
    },
    {
      "cell_type": "code",
      "execution_count": null,
      "id": "371fc06d",
      "metadata": {
        "id": "371fc06d",
        "outputId": "3a38cf38-2a4d-416e-f9ef-39a3163a499b"
      },
      "outputs": [
        {
          "name": "stdout",
          "output_type": "stream",
          "text": [
            "The tuple of even numbers from 1 to 10 is :: (2, 4, 6, 8, 10)\n"
          ]
        }
      ],
      "source": [
        "#function to create tuple of even number\n",
        "def even(start,end):\n",
        "    return tuple(i for i in range(start,end) if i%2 ==0)\n",
        "\n",
        "print(f\"The tuple of even numbers from 1 to 10 is :: {even(1,11)}\")"
      ]
    },
    {
      "cell_type": "markdown",
      "id": "570e721e",
      "metadata": {
        "id": "570e721e"
      },
      "source": [
        "11. Create a tuple of odd numbers from 1 to 10."
      ]
    },
    {
      "cell_type": "code",
      "execution_count": null,
      "id": "fb7e9044",
      "metadata": {
        "id": "fb7e9044",
        "outputId": "a70bc32d-a599-4b7c-9fc1-2cd187f12506"
      },
      "outputs": [
        {
          "name": "stdout",
          "output_type": "stream",
          "text": [
            "The tuple of even numbers from 1 to 10 is :: (1, 3, 5, 7, 9)\n"
          ]
        }
      ],
      "source": [
        "#function to create tuple of odd number\n",
        "def odd(start,end):\n",
        "    return tuple(i for i in range(start,end) if i%2 !=0)\n",
        "\n",
        "print(f\"The tuple of even numbers from 1 to 10 is :: {odd(1,11)}\")"
      ]
    },
    {
      "cell_type": "markdown",
      "id": "d91c27d9",
      "metadata": {
        "id": "d91c27d9"
      },
      "source": [
        "12. Concatenate two tuples."
      ]
    },
    {
      "cell_type": "code",
      "execution_count": null,
      "id": "cd047cb4",
      "metadata": {
        "id": "cd047cb4",
        "outputId": "70ffd10e-7952-45ea-bcb8-d001eaef0b60"
      },
      "outputs": [
        {
          "name": "stdout",
          "output_type": "stream",
          "text": [
            "The concatinated tuple is = (4, 1, 2, 35, 1, 5, 6, 8)\n"
          ]
        }
      ],
      "source": [
        "#tuples\n",
        "t1 = (4,1,2,35)\n",
        "t2 = (1,5,6,8)\n",
        "\n",
        "concatenated_tuple = t1+t2\n",
        "\n",
        "#printing\n",
        "print(f\"The concatinated tuple is = {concatenated_tuple}\")"
      ]
    },
    {
      "cell_type": "markdown",
      "id": "109fc69a",
      "metadata": {
        "id": "109fc69a"
      },
      "source": [
        "13. Repeat a tuple three times."
      ]
    },
    {
      "cell_type": "code",
      "execution_count": null,
      "id": "f0d6f616",
      "metadata": {
        "colab": {
          "base_uri": "https://localhost:8080/"
        },
        "id": "f0d6f616",
        "outputId": "68e7443f-a43d-456d-93d2-acb08b7acc39"
      },
      "outputs": [
        {
          "output_type": "stream",
          "name": "stdout",
          "text": [
            "The tuple (1, 2, 3) after repeating it 3 times is (1, 2, 3, 1, 2, 3, 1, 2, 3)\n"
          ]
        }
      ],
      "source": [
        "t = (1,2,3)\n",
        "\n",
        "repeated_tuple = t*3\n",
        "\n",
        "#printing repated tuple 3 times\n",
        "print(f\"The tuple {t} after repeating it 3 times is {repeated_tuple}\")"
      ]
    },
    {
      "cell_type": "markdown",
      "id": "0eb229a2",
      "metadata": {
        "id": "0eb229a2"
      },
      "source": [
        "14. Check if a tuple is empty."
      ]
    },
    {
      "cell_type": "code",
      "execution_count": null,
      "id": "64ef23b7-352e-473e-8879-d2a0d084fbf0",
      "metadata": {
        "id": "64ef23b7-352e-473e-8879-d2a0d084fbf0",
        "outputId": "e275de9e-f58a-452f-839b-c749c810ca1d"
      },
      "outputs": [
        {
          "name": "stdout",
          "output_type": "stream",
          "text": [
            "Tuple of first n powers of 2 =:  (1, 2, 4, 8, 16, 32, 64, 128, 256, 512)\n"
          ]
        }
      ],
      "source": [
        "n = 10\n",
        "\n",
        "power = (2 ** i for i in range(n))\n",
        "\n",
        "tup = tuple(power)\n",
        "\n",
        "print(\"Tuple of first n powers of 2 =: \",tup)"
      ]
    },
    {
      "cell_type": "markdown",
      "source": [
        "15. Create a nested tuple."
      ],
      "metadata": {
        "id": "3fOMu2jfP33K"
      },
      "id": "3fOMu2jfP33K"
    },
    {
      "cell_type": "code",
      "source": [
        "# nested tuple\n",
        "nested_tuple = ((\"Apple\",\"Jam\"),(\"Banana\",\"Protein\"))\n",
        "\n",
        "#printing nested tuple\n",
        "print(f\"Nested tuple is {nested_tuple}\")"
      ],
      "metadata": {
        "colab": {
          "base_uri": "https://localhost:8080/"
        },
        "id": "_BET4yquQA3K",
        "outputId": "a74f7fe8-421c-4fa6-a4a1-98352bb83cff"
      },
      "id": "_BET4yquQA3K",
      "execution_count": null,
      "outputs": [
        {
          "output_type": "stream",
          "name": "stdout",
          "text": [
            "Nested tuple is (('Apple', 'Jam'), ('Banana', 'Protein'))\n"
          ]
        }
      ]
    },
    {
      "cell_type": "markdown",
      "source": [
        "16. Access the first element of a nested tuple."
      ],
      "metadata": {
        "id": "JFmv_QjnQ3AS"
      },
      "id": "JFmv_QjnQ3AS"
    },
    {
      "cell_type": "code",
      "source": [
        "# nested tuple\n",
        "nested_tuple = ((\"Apple\",\"Jam\"),(\"Banana\",\"Protein\"))\n",
        "\n",
        "#first element of nested tuple\n",
        "first_element = nested_tuple[0]\n",
        "\n",
        "#printing nested tuple\n",
        "print(f\"First Element of Nested tuple is {first_element}\")"
      ],
      "metadata": {
        "id": "ZcqP1nG7Q8vg",
        "colab": {
          "base_uri": "https://localhost:8080/"
        },
        "outputId": "a545e945-8203-4bd5-d852-5df6a9736624"
      },
      "id": "ZcqP1nG7Q8vg",
      "execution_count": null,
      "outputs": [
        {
          "output_type": "stream",
          "name": "stdout",
          "text": [
            "First Element of Nested tuple is ('Apple', 'Jam')\n"
          ]
        }
      ]
    },
    {
      "cell_type": "markdown",
      "source": [
        "17. Create a tuple with a single element."
      ],
      "metadata": {
        "id": "DMET4EQIQ9LA"
      },
      "id": "DMET4EQIQ9LA"
    },
    {
      "cell_type": "code",
      "source": [
        "# tuple\n",
        "tuple1 = (1,)\n",
        "\n",
        "#here we used comma after 1 is due to differentiate tuple and ordinary number in parentheses\n",
        "# printing the tuple with only one element\n",
        "print(f\"The tuple with only one element is {tuple1}\")"
      ],
      "metadata": {
        "id": "V9yczseqREP7",
        "colab": {
          "base_uri": "https://localhost:8080/"
        },
        "outputId": "559748e8-8f0d-4462-85d8-77f782ce8e0c"
      },
      "id": "V9yczseqREP7",
      "execution_count": null,
      "outputs": [
        {
          "output_type": "stream",
          "name": "stdout",
          "text": [
            "The tuple with only one element is (1,)\n"
          ]
        }
      ]
    },
    {
      "cell_type": "markdown",
      "source": [
        "18. Compare two tuples."
      ],
      "metadata": {
        "id": "30UTofl2REy0"
      },
      "id": "30UTofl2REy0"
    },
    {
      "cell_type": "code",
      "source": [
        "t1 = (1, 2, 3)\n",
        "t2 = (1, 2 ,4)\n",
        "\n",
        "\n",
        "#compairing two tuple and printing the output in true or false\n",
        "print(t1 == t2)\n",
        "print(t1 != t2)\n",
        "print(t1 > t2)\n",
        "print(t1 < t2)"
      ],
      "metadata": {
        "id": "lTvMaphCRHEc",
        "colab": {
          "base_uri": "https://localhost:8080/"
        },
        "outputId": "1882b246-9082-4cd3-a489-001e1122ffaf"
      },
      "id": "lTvMaphCRHEc",
      "execution_count": null,
      "outputs": [
        {
          "output_type": "stream",
          "name": "stdout",
          "text": [
            "False\n",
            "True\n",
            "False\n",
            "True\n"
          ]
        }
      ]
    },
    {
      "cell_type": "markdown",
      "source": [
        "19. Delete a tuple."
      ],
      "metadata": {
        "id": "AReW4MHMRJKy"
      },
      "id": "AReW4MHMRJKy"
    },
    {
      "cell_type": "code",
      "source": [
        "#Tuple\n",
        "t = (1, 2, 3)\n",
        "\n",
        "#Printing Tuple\n",
        "print(f\"Tuple before deleting {t}\")\n",
        "\n",
        "#deleting tuple\n",
        "del t\n",
        "\n",
        "#we will try to print tuple after deleting it will going to give error\n",
        "print(f\"tuple after deleting is {t}\")"
      ],
      "metadata": {
        "id": "vwtB8h-_RLhs",
        "colab": {
          "base_uri": "https://localhost:8080/",
          "height": 235
        },
        "outputId": "ea8db152-f984-4084-8de2-b682056da2a4"
      },
      "id": "vwtB8h-_RLhs",
      "execution_count": null,
      "outputs": [
        {
          "output_type": "stream",
          "name": "stdout",
          "text": [
            "Tuple before deleting (1, 2, 3)\n"
          ]
        },
        {
          "output_type": "error",
          "ename": "NameError",
          "evalue": "name 't' is not defined",
          "traceback": [
            "\u001b[0;31m---------------------------------------------------------------------------\u001b[0m",
            "\u001b[0;31mNameError\u001b[0m                                 Traceback (most recent call last)",
            "\u001b[0;32m<ipython-input-1-b7c671d27838>\u001b[0m in \u001b[0;36m<cell line: 11>\u001b[0;34m()\u001b[0m\n\u001b[1;32m      9\u001b[0m \u001b[0;34m\u001b[0m\u001b[0m\n\u001b[1;32m     10\u001b[0m \u001b[0;31m#we will try to print tuple after deleting it will going to give error\u001b[0m\u001b[0;34m\u001b[0m\u001b[0;34m\u001b[0m\u001b[0m\n\u001b[0;32m---> 11\u001b[0;31m \u001b[0mprint\u001b[0m\u001b[0;34m(\u001b[0m\u001b[0;34mf\"tuple after deleting is {t}\"\u001b[0m\u001b[0;34m)\u001b[0m\u001b[0;34m\u001b[0m\u001b[0;34m\u001b[0m\u001b[0m\n\u001b[0m",
            "\u001b[0;31mNameError\u001b[0m: name 't' is not defined"
          ]
        }
      ]
    },
    {
      "cell_type": "markdown",
      "source": [
        "20. Slice a tuple."
      ],
      "metadata": {
        "id": "DjRZsqEDRMQF"
      },
      "id": "DjRZsqEDRMQF"
    },
    {
      "cell_type": "code",
      "source": [
        "# Creating a tuple\n",
        "my_tuple = (1, 2, 3, 4, 5, 6, 7, 8, 9, 10)\n",
        "\n",
        "# Using slicing to create a new tuple\n",
        "start_index = 2\n",
        "end_index = 7\n",
        "sliced_tuple = my_tuple[start_index:end_index]\n",
        "\n",
        "# Printing the sliced tuple\n",
        "print(\"Original Tuple:\", my_tuple)\n",
        "print(\"Sliced Tuple:\", sliced_tuple)\n"
      ],
      "metadata": {
        "id": "40CViDXvROet",
        "colab": {
          "base_uri": "https://localhost:8080/"
        },
        "outputId": "82a9d42d-f572-4ca7-96b6-6e10b16c5f27"
      },
      "id": "40CViDXvROet",
      "execution_count": null,
      "outputs": [
        {
          "output_type": "stream",
          "name": "stdout",
          "text": [
            "Original Tuple: (1, 2, 3, 4, 5, 6, 7, 8, 9, 10)\n",
            "Sliced Tuple: (3, 4, 5, 6, 7)\n"
          ]
        }
      ]
    },
    {
      "cell_type": "markdown",
      "source": [
        "21. Find the maximum value in a tuple."
      ],
      "metadata": {
        "id": "Y_AXdQEORPil"
      },
      "id": "Y_AXdQEORPil"
    },
    {
      "cell_type": "code",
      "source": [
        "#Creating a tuple\n",
        "my_tuple = (1, 2, 3, 4, 11, 6, 7, 8, 9, 10)\n",
        "\n",
        "# Finding Maximum element in tuple\n",
        "max_element = max(my_tuple)\n",
        "\n",
        "#Printing the maximum element in tuple\n",
        "print(f\"The maximum element in tuple '{my_tuple}' is '{max_element}'\")"
      ],
      "metadata": {
        "id": "jNVMWGcERRvD",
        "colab": {
          "base_uri": "https://localhost:8080/"
        },
        "outputId": "651b889f-0abb-430b-a777-13a2b3355ea2"
      },
      "id": "jNVMWGcERRvD",
      "execution_count": null,
      "outputs": [
        {
          "output_type": "stream",
          "name": "stdout",
          "text": [
            "The maximum element in tuple '(1, 2, 3, 4, 11, 6, 7, 8, 9, 10)' is '11'\n"
          ]
        }
      ]
    },
    {
      "cell_type": "markdown",
      "source": [
        "22. Find the minimum value in a tuple."
      ],
      "metadata": {
        "id": "OrfpmhBrRVCs"
      },
      "id": "OrfpmhBrRVCs"
    },
    {
      "cell_type": "code",
      "source": [
        "#Creating a tuple\n",
        "my_tuple = (19, 2, 3, 4, 11, 6, 7, 8, 9, 10)\n",
        "\n",
        "# Finding Minimum element in tuple\n",
        "min_element = min(my_tuple)\n",
        "\n",
        "#Printing the minimum element in tuple\n",
        "print(f\"The minimum element in tuple '{my_tuple}' is '{min_element}'\")"
      ],
      "metadata": {
        "id": "TtH1o4KFRWHb",
        "colab": {
          "base_uri": "https://localhost:8080/"
        },
        "outputId": "670ae2c9-38fb-49a3-83fe-906ad6ed1bec"
      },
      "id": "TtH1o4KFRWHb",
      "execution_count": null,
      "outputs": [
        {
          "output_type": "stream",
          "name": "stdout",
          "text": [
            "The minimum element in tuple '(19, 2, 3, 4, 11, 6, 7, 8, 9, 10)' is '2'\n"
          ]
        }
      ]
    },
    {
      "cell_type": "markdown",
      "source": [
        "23. Convert a string to a tuple of characters."
      ],
      "metadata": {
        "id": "6xvDYSO-RWjG"
      },
      "id": "6xvDYSO-RWjG"
    },
    {
      "cell_type": "code",
      "source": [
        "#function to convert string into tuple of character\n",
        "def string_to_tuple(str):\n",
        "  return tuple(str)\n",
        "\n",
        "#inputs\n",
        "str1 = \"Hello, Swapnil\"\n",
        "\n",
        "#Printing the tuple of character which is converted from string\n",
        "print(f\"The String '''{str1}''' after converting to tuple is {string_to_tuple(str1)}\")"
      ],
      "metadata": {
        "id": "9CS8boepRa5H",
        "colab": {
          "base_uri": "https://localhost:8080/"
        },
        "outputId": "af7f6ede-0e27-4473-d0e9-b543ab116c73"
      },
      "id": "9CS8boepRa5H",
      "execution_count": null,
      "outputs": [
        {
          "output_type": "stream",
          "name": "stdout",
          "text": [
            "The String '''Hello, Swapnil''' after converting to tuple is ('H', 'e', 'l', 'l', 'o', ',', ' ', 'S', 'w', 'a', 'p', 'n', 'i', 'l')\n"
          ]
        }
      ]
    },
    {
      "cell_type": "markdown",
      "source": [
        "24. Convert a tuple of characters to a string."
      ],
      "metadata": {
        "id": "KTo2Tiy0RbTr"
      },
      "id": "KTo2Tiy0RbTr"
    },
    {
      "cell_type": "code",
      "source": [
        "#Function to convert tupe of character into string\n",
        "def tuple_to_string(tuple1):\n",
        "  return \"\".join(tuple1)\n",
        "\n",
        "#inputs\n",
        "tuple1 = ('s','w','a','p','n','i','l')\n",
        "\n",
        "#Printing the string which formed after converting it from tuple\n",
        "print(f\"The tuple {tuple1} after converting it to string is '''{tuple_to_string(tuple1)}'''\")"
      ],
      "metadata": {
        "id": "ZvpeIZHKRdcw",
        "colab": {
          "base_uri": "https://localhost:8080/"
        },
        "outputId": "43f01286-5738-4394-9f59-df5a4df3f2fc"
      },
      "id": "ZvpeIZHKRdcw",
      "execution_count": null,
      "outputs": [
        {
          "output_type": "stream",
          "name": "stdout",
          "text": [
            "The tuple ('s', 'w', 'a', 'p', 'n', 'i', 'l') after converting it to string is '''swapnil'''\n"
          ]
        }
      ]
    },
    {
      "cell_type": "markdown",
      "source": [
        "25. Create a tuple from multiple data types."
      ],
      "metadata": {
        "id": "st18RsHqReHX"
      },
      "id": "st18RsHqReHX"
    },
    {
      "cell_type": "code",
      "source": [
        "# Creating a tuple with elements of different data types\n",
        "mixed_tuple = (1, \"Hello\", 3.14, True)\n",
        "\n",
        "# Printing the tuple\n",
        "print(f\"The tuple with different data types is {mixed_tuple}\")"
      ],
      "metadata": {
        "id": "gS6m3Z5nRg58",
        "colab": {
          "base_uri": "https://localhost:8080/"
        },
        "outputId": "339de93a-5b93-4c8c-c34f-3d59139cdc76"
      },
      "id": "gS6m3Z5nRg58",
      "execution_count": null,
      "outputs": [
        {
          "output_type": "stream",
          "name": "stdout",
          "text": [
            "The tuple with different data types is (1, 'Hello', 3.14, True)\n"
          ]
        }
      ]
    },
    {
      "cell_type": "markdown",
      "source": [
        "26. Check if two tuples are identical."
      ],
      "metadata": {
        "id": "6LKO4crcRheX"
      },
      "id": "6LKO4crcRheX"
    },
    {
      "cell_type": "code",
      "source": [
        "# Define two tuples\n",
        "tuple1 = (1, \"Hello\", 3.14)\n",
        "tuple2 = (1, \"Hello\", 3.14)\n",
        "\n",
        "# Check if the tuples are identical\n",
        "if tuple1 == tuple2:\n",
        "    print(\"Tuples are identical.\")\n",
        "else:\n",
        "    print(\"Tuples are not identical.\")"
      ],
      "metadata": {
        "id": "mTNiZEeyRkZt",
        "colab": {
          "base_uri": "https://localhost:8080/"
        },
        "outputId": "583009c4-c913-4d00-b7ad-c1074c71d5f4"
      },
      "id": "mTNiZEeyRkZt",
      "execution_count": null,
      "outputs": [
        {
          "output_type": "stream",
          "name": "stdout",
          "text": [
            "Tuples are identical.\n"
          ]
        }
      ]
    },
    {
      "cell_type": "markdown",
      "source": [
        "27. Sort the elements of a tuple."
      ],
      "metadata": {
        "id": "3PdFVe2fRlec"
      },
      "id": "3PdFVe2fRlec"
    },
    {
      "cell_type": "code",
      "source": [
        "# Define the tuple\n",
        "tuple1 = (2,3,9,1,10)\n",
        "\n",
        "#Sorting the tuple using in built function sorted()\n",
        "sorted_tuple = tuple(sorted(tuple1))\n",
        "\n",
        "#printing the sorted tuple\n",
        "print(f\"The tuple {tuple1} after sorting is {sorted_tuple}\")"
      ],
      "metadata": {
        "id": "gLo_FJamRnue",
        "colab": {
          "base_uri": "https://localhost:8080/"
        },
        "outputId": "cf94f105-ca07-4daa-b572-0a309a35e58f"
      },
      "id": "gLo_FJamRnue",
      "execution_count": null,
      "outputs": [
        {
          "output_type": "stream",
          "name": "stdout",
          "text": [
            "The tuple (2, 3, 9, 1, 10) after sorting is (1, 2, 3, 9, 10)\n"
          ]
        }
      ]
    },
    {
      "cell_type": "markdown",
      "source": [
        "28. Convert a tuple of integers to a tuple of strings."
      ],
      "metadata": {
        "id": "HDRc0hw6RooS"
      },
      "id": "HDRc0hw6RooS"
    },
    {
      "cell_type": "code",
      "source": [
        "#Tuple of integers\n",
        "tuple1 = (1, 2, 3, 4, 5)\n",
        "\n",
        "#creating tuple of string from tuple of integer\n",
        "tuple_of_string = tuple(map(str, tuple1))\n",
        "\n",
        "#printing tuple of string\n",
        "print(f\"The tuple {tuple1} after converting to string is {tuple_of_string}\")"
      ],
      "metadata": {
        "id": "SC6Q3DzDRqth",
        "colab": {
          "base_uri": "https://localhost:8080/"
        },
        "outputId": "17471132-939d-42c8-e0f3-50acd301e389"
      },
      "id": "SC6Q3DzDRqth",
      "execution_count": null,
      "outputs": [
        {
          "output_type": "stream",
          "name": "stdout",
          "text": [
            "The tuple (1, 2, 3, 4, 5) after converting to string is ('1', '2', '3', '4', '5')\n"
          ]
        }
      ]
    },
    {
      "cell_type": "markdown",
      "source": [
        "29. Convert a tuple of strings to a tuple of integers."
      ],
      "metadata": {
        "id": "cMcis8RyRrTD"
      },
      "id": "cMcis8RyRrTD"
    },
    {
      "cell_type": "code",
      "source": [
        "#Tuple of String\n",
        "tuple1 = ('1', '2', '3', '4', '5')\n",
        "\n",
        "#creating tuple of integer from tuple of string\n",
        "tuple_of_integer = tuple(map(int, tuple1))\n",
        "\n",
        "#printing tuple of integer\n",
        "print(f\"The tuple {tuple1} after converting to tuple of integer is {tuple_of_integer}\")"
      ],
      "metadata": {
        "id": "bHTpstmFRtW3",
        "colab": {
          "base_uri": "https://localhost:8080/"
        },
        "outputId": "cab3f9ee-1bb8-40cc-8e4d-e885262d4f9f"
      },
      "id": "bHTpstmFRtW3",
      "execution_count": null,
      "outputs": [
        {
          "output_type": "stream",
          "name": "stdout",
          "text": [
            "The tuple ('1', '2', '3', '4', '5') after converting to tuple of integer is (1, 2, 3, 4, 5)\n"
          ]
        }
      ]
    },
    {
      "cell_type": "markdown",
      "source": [
        "30. Merge two tuples."
      ],
      "metadata": {
        "id": "e9aIVCD2RuT3"
      },
      "id": "e9aIVCD2RuT3"
    },
    {
      "cell_type": "code",
      "source": [
        "#tuples\n",
        "t1 = (1, 2, 3, 4)\n",
        "t2 = (8, 7, 6)\n",
        "\n",
        "#merging 2 tuples\n",
        "merged_tuple = t1 +  t2\n",
        "\n",
        "#printing merged tuple\n",
        "print(f\"The tuple {t1} and {t2} after merging {merged_tuple}\")"
      ],
      "metadata": {
        "id": "HBP6QluARw4o",
        "colab": {
          "base_uri": "https://localhost:8080/"
        },
        "outputId": "f2e3b171-37fb-4f99-e3f7-e3767b105105"
      },
      "id": "HBP6QluARw4o",
      "execution_count": null,
      "outputs": [
        {
          "output_type": "stream",
          "name": "stdout",
          "text": [
            "The tuple (1, 2, 3, 4) and (8, 7, 6) after merging (1, 2, 3, 4, 8, 7, 6)\n"
          ]
        }
      ]
    },
    {
      "cell_type": "markdown",
      "source": [
        "31. Flatten a nested tuple."
      ],
      "metadata": {
        "id": "8ym7-LK6RxZh"
      },
      "id": "8ym7-LK6RxZh"
    },
    {
      "cell_type": "code",
      "source": [
        "#function to flatten the nested tuple\n",
        "def flatten_nested_tuple(nested_tuple):\n",
        "    flat_list = []\n",
        "    for i in nested_tuple:\n",
        "        if isinstance(i, tuple):\n",
        "            flat_list.extend(flatten_nested_tuple(i))\n",
        "        else:\n",
        "            flat_list.append(i)\n",
        "    return tuple(flat_list)\n",
        "\n",
        "#Nested tuple\n",
        "nested_tuple = (1, (2, 3), (4, (5, 6), 7), 8)\n",
        "\n",
        "#printing the flatten nested tuple\n",
        "print(f\"the nested tuple '''{nested_tuple}''' after converting to flatten tuple {flatten_nested_tuple(nested_tuple)}\")"
      ],
      "metadata": {
        "id": "r51IXyeNRzYy",
        "colab": {
          "base_uri": "https://localhost:8080/"
        },
        "outputId": "a6a32706-110b-40e7-971f-9a2970b19b44"
      },
      "id": "r51IXyeNRzYy",
      "execution_count": null,
      "outputs": [
        {
          "output_type": "stream",
          "name": "stdout",
          "text": [
            "the nested tuple '''(1, (2, 3), (4, (5, 6), 7), 8)''' after converting to flatten tuple (1, 2, 3, 4, 5, 6, 7, 8)\n"
          ]
        }
      ]
    },
    {
      "cell_type": "markdown",
      "source": [
        "32. Create a tuple of the first 5 prime numbers."
      ],
      "metadata": {
        "id": "jKuDCHR3Rzvg"
      },
      "id": "jKuDCHR3Rzvg"
    },
    {
      "cell_type": "code",
      "source": [
        "#function to check prime number\n",
        "def is_prime(num):\n",
        "    if num == 1:\n",
        "        return False\n",
        "    elif num == 2:\n",
        "        return True\n",
        "    elif num % 2 == 0:\n",
        "        return False\n",
        "    for i in range(3, int(num ** 0.5) + 1, 2):\n",
        "        if num % i == 0:\n",
        "            return False\n",
        "    return True\n",
        "#function to create a tuple of prime number\n",
        "def generate_primes(n):\n",
        "    primes = []\n",
        "    i = 2\n",
        "    while len(primes) < n:\n",
        "        if is_prime(i):\n",
        "            primes.append(i)\n",
        "        i += 1\n",
        "    return primes\n",
        "\n",
        "#test cases\n",
        "n = 5\n",
        "\n",
        "print(f\"first {n} prime numbers are := {generate_primes(n)}\")\n"
      ],
      "metadata": {
        "id": "5rm2of-9R2Jk",
        "colab": {
          "base_uri": "https://localhost:8080/"
        },
        "outputId": "77870923-5879-4e84-e55c-67a4bb031454"
      },
      "id": "5rm2of-9R2Jk",
      "execution_count": 2,
      "outputs": [
        {
          "output_type": "stream",
          "name": "stdout",
          "text": [
            "first 5 prime numbers are := [2, 3, 5, 7, 11]\n"
          ]
        }
      ]
    },
    {
      "cell_type": "markdown",
      "source": [
        "33. Check if a tuple is a palindrome."
      ],
      "metadata": {
        "id": "cbCrK1d9R2pd"
      },
      "id": "cbCrK1d9R2pd"
    },
    {
      "cell_type": "code",
      "source": [
        "def is_palindrome(tup):\n",
        "    return tup == tup[::-1]\n",
        "\n",
        "tup1 = (1, 2, 3, 2, 1)\n",
        "tup2= (1, 2, 3, 4, 5)\n",
        "\n",
        "\n",
        "print(f\"The tuple {tup1} is palindrome := {is_palindrome(tup1)}\")\n",
        "print(f\"The tuple {tup2} is palindrome := {is_palindrome(tup2)}\")\n"
      ],
      "metadata": {
        "id": "5YSqoCO4R4zA",
        "colab": {
          "base_uri": "https://localhost:8080/"
        },
        "outputId": "4da3c50d-9e52-4da1-e6fc-bb7b44f2d0a5"
      },
      "id": "5YSqoCO4R4zA",
      "execution_count": 6,
      "outputs": [
        {
          "output_type": "stream",
          "name": "stdout",
          "text": [
            "The tuple (1, 2, 3, 2, 1) is palindrome := True\n",
            "The tuple (1, 2, 3, 4, 5) is palindrome := False\n"
          ]
        }
      ]
    },
    {
      "cell_type": "markdown",
      "source": [
        "**34**. Create a tuple of squares of numbers from 1 to 5."
      ],
      "metadata": {
        "id": "Wiq0TaadR5Jm"
      },
      "id": "Wiq0TaadR5Jm"
    },
    {
      "cell_type": "code",
      "source": [
        "n = 5\n",
        "\n",
        "squares = tuple(i**2 for i in range(1, n+1))\n",
        "print(squares)\n"
      ],
      "metadata": {
        "id": "dBFUX2RnR7Pv",
        "colab": {
          "base_uri": "https://localhost:8080/"
        },
        "outputId": "a8ac859d-87e6-4100-be6f-ee79511f0790"
      },
      "id": "dBFUX2RnR7Pv",
      "execution_count": 7,
      "outputs": [
        {
          "output_type": "stream",
          "name": "stdout",
          "text": [
            "(1, 4, 9, 16, 25)\n"
          ]
        }
      ]
    },
    {
      "cell_type": "markdown",
      "source": [
        "35. Filter out all even numbers from a tuple."
      ],
      "metadata": {
        "id": "VcsKOkW0R8KF"
      },
      "id": "VcsKOkW0R8KF"
    },
    {
      "cell_type": "code",
      "source": [
        "# Original tuple\n",
        "tup = (1, 2, 3, 4, 5, 6, 7, 8, 9)\n",
        "\n",
        "# Filter out even numbers\n",
        "filtered_tup = tuple(filter(lambda x: x % 2 != 0, tup))\n",
        "\n",
        "print(filtered_tup)\n"
      ],
      "metadata": {
        "id": "LRbrfnAAR-Vx",
        "colab": {
          "base_uri": "https://localhost:8080/"
        },
        "outputId": "85df22a6-8493-4206-dd30-4f2cfe799acd"
      },
      "id": "LRbrfnAAR-Vx",
      "execution_count": 8,
      "outputs": [
        {
          "output_type": "stream",
          "name": "stdout",
          "text": [
            "(1, 3, 5, 7, 9)\n"
          ]
        }
      ]
    },
    {
      "cell_type": "markdown",
      "source": [
        "36. Multiply all elements in a tuple by 2."
      ],
      "metadata": {
        "id": "aZ3yhSkcR-8S"
      },
      "id": "aZ3yhSkcR-8S"
    },
    {
      "cell_type": "code",
      "source": [
        "# Original tuple\n",
        "tup = (1, 2, 3, 4, 5)\n",
        "\n",
        "# Multiply all elements by 2\n",
        "multiplied_tup = tuple(i * 2 for i in tup)\n",
        "\n",
        "print(multiplied_tup)\n"
      ],
      "metadata": {
        "id": "vyQLrCnoSA3k",
        "colab": {
          "base_uri": "https://localhost:8080/"
        },
        "outputId": "33886448-7b3c-4cc6-c2d5-72f78465e153"
      },
      "id": "vyQLrCnoSA3k",
      "execution_count": 9,
      "outputs": [
        {
          "output_type": "stream",
          "name": "stdout",
          "text": [
            "(2, 4, 6, 8, 10)\n"
          ]
        }
      ]
    },
    {
      "cell_type": "markdown",
      "source": [
        "37. Create a tuple of random numbers."
      ],
      "metadata": {
        "id": "WMxv7IWXSDBo"
      },
      "id": "WMxv7IWXSDBo"
    },
    {
      "cell_type": "code",
      "source": [
        "import random\n",
        "\n",
        "#test cases\n",
        "n1 = 5\n",
        "n2 = 10\n",
        "\n",
        "random_numbers1 = tuple(random.randint(1, 100) for i in range(n1))\n",
        "random_numbers2 = tuple(random.randint(1, 100) for i in range(n2))\n",
        "\n",
        "\n",
        "print(random_numbers1)\n",
        "print(random_numbers2)\n"
      ],
      "metadata": {
        "id": "07ZmF9R7SDxF",
        "colab": {
          "base_uri": "https://localhost:8080/"
        },
        "outputId": "2d8ad332-4909-4fac-ea67-ac2ca5ad2570"
      },
      "id": "07ZmF9R7SDxF",
      "execution_count": 12,
      "outputs": [
        {
          "output_type": "stream",
          "name": "stdout",
          "text": [
            "(30, 97, 10, 18, 55)\n",
            "(14, 67, 11, 57, 8, 59, 34, 1, 47, 89)\n"
          ]
        }
      ]
    },
    {
      "cell_type": "markdown",
      "source": [
        "38. Check if a tuple is sorted."
      ],
      "metadata": {
        "id": "RIVUTT6KSEn9"
      },
      "id": "RIVUTT6KSEn9"
    },
    {
      "cell_type": "code",
      "source": [
        "def is_sorted(tup):\n",
        "    return tup == tuple(sorted(tup))\n",
        "\n",
        "#test cases\n",
        "tup1 = (1, 2, 3, 4, 5)\n",
        "tup2 = (1, 3, 2, 4, 5)\n",
        "\n",
        "#printing\n",
        "print(f\"The tuple {tup1} is sorted := {is_sorted(tup1)}\")\n",
        "print(f\"The tuple {tup2} is sorted := {is_sorted(tup2)}\")\n"
      ],
      "metadata": {
        "id": "NwW3oHISSG8s",
        "colab": {
          "base_uri": "https://localhost:8080/"
        },
        "outputId": "56b5c8a5-0b08-4434-d9f4-7e42cf4bae5b"
      },
      "id": "NwW3oHISSG8s",
      "execution_count": 15,
      "outputs": [
        {
          "output_type": "stream",
          "name": "stdout",
          "text": [
            "The tuple (1, 2, 3, 4, 5) is sorted := True\n",
            "The tuple (1, 3, 2, 4, 5) is sorted := False\n"
          ]
        }
      ]
    },
    {
      "cell_type": "markdown",
      "source": [
        "39. Rotate a tuple to the left by `n` positions."
      ],
      "metadata": {
        "id": "-hSbLvs1SHjN"
      },
      "id": "-hSbLvs1SHjN"
    },
    {
      "cell_type": "code",
      "source": [
        "def rotate_tuple(tup, n):\n",
        "    return tup[n:] + tup[:n]\n",
        "\n",
        "\n",
        "tup = (1, 2, 3, 4, 5)\n",
        "rotated_tup = rotate_tuple(tup, 2)\n",
        "print(f\"The tuple {tup} on rotation of 2 on left is := {rotated_tup}\")"
      ],
      "metadata": {
        "id": "zCdkKD7jSJ4P",
        "colab": {
          "base_uri": "https://localhost:8080/"
        },
        "outputId": "80bcd0fd-5e71-43b7-c432-348eabe66645"
      },
      "id": "zCdkKD7jSJ4P",
      "execution_count": 21,
      "outputs": [
        {
          "output_type": "stream",
          "name": "stdout",
          "text": [
            "The tuple (1, 2, 3, 4, 5) on rotation of 2 on left is := (3, 4, 5, 1, 2)\n"
          ]
        }
      ]
    },
    {
      "cell_type": "markdown",
      "source": [
        "40. Rotate a tuple to the right by `n` positions."
      ],
      "metadata": {
        "id": "bqSWOxm6SKZQ"
      },
      "id": "bqSWOxm6SKZQ"
    },
    {
      "cell_type": "code",
      "source": [
        "def rotate_tuple(tup, n):\n",
        "    return tup[-n:] + tup[:-n]\n",
        "\n",
        "tup = (1, 2, 3, 4, 5)\n",
        "rotated_tup = rotate_tuple(tup, 2)\n",
        "print(f\"The tuple {tup} on rotation of 2 on right is := {rotated_tup}\")\n"
      ],
      "metadata": {
        "id": "cMWjm29fSMSi",
        "colab": {
          "base_uri": "https://localhost:8080/"
        },
        "outputId": "446bf9dd-41b0-46a5-ad7c-f651ce58f98d"
      },
      "id": "cMWjm29fSMSi",
      "execution_count": 22,
      "outputs": [
        {
          "output_type": "stream",
          "name": "stdout",
          "text": [
            "The tuple (1, 2, 3, 4, 5) on rotation of 2 on right is := (4, 5, 1, 2, 3)\n"
          ]
        }
      ]
    },
    {
      "cell_type": "markdown",
      "source": [
        "41. Create a tuple of the first 5 Fibonacci numbers."
      ],
      "metadata": {
        "id": "H5YPgt0WSM4N"
      },
      "id": "H5YPgt0WSM4N"
    },
    {
      "cell_type": "code",
      "source": [
        "def fibonacci(n):\n",
        "    fib_sequence = [0, 1]\n",
        "    while len(fib_sequence) < n:\n",
        "        fib_sequence.append(fib_sequence[-1] + fib_sequence[-2])\n",
        "    return tuple(fib_sequence)\n",
        "\n",
        "\n",
        "fib_numbers = fibonacci(5)\n",
        "print(fib_numbers)\n"
      ],
      "metadata": {
        "id": "FzdAf5_ySOvH",
        "colab": {
          "base_uri": "https://localhost:8080/"
        },
        "outputId": "3ae7794f-3698-404a-9201-4d2513e6a1c4"
      },
      "id": "FzdAf5_ySOvH",
      "execution_count": 23,
      "outputs": [
        {
          "output_type": "stream",
          "name": "stdout",
          "text": [
            "(0, 1, 1, 2, 3)\n"
          ]
        }
      ]
    },
    {
      "cell_type": "markdown",
      "source": [
        "42. Create a tuple from user input."
      ],
      "metadata": {
        "id": "ghs0NjhvSPJc"
      },
      "id": "ghs0NjhvSPJc"
    },
    {
      "cell_type": "code",
      "source": [
        "# Ask the user for the desired size of the tuple\n",
        "size = int(input(\"Please enter the desired size of the tuple: \"))\n",
        "\n",
        "\n",
        "user_inputs = []\n",
        "\n",
        "# Loop until the size is filled\n",
        "while len(user_inputs) < size:\n",
        "    # Ask the user for input\n",
        "    user_input = input(\"Please enter a value: \")\n",
        "    user_inputs.append(user_input)\n",
        "\n",
        "# Convert the list to a tuple\n",
        "user_tuple = tuple(user_inputs)\n",
        "\n",
        "print(\"The created tuple is:\", user_tuple)\n"
      ],
      "metadata": {
        "id": "_QZHhRbrSRUs",
        "colab": {
          "base_uri": "https://localhost:8080/"
        },
        "outputId": "2d516230-2143-478d-c77e-1e9fc1ce6c38"
      },
      "id": "_QZHhRbrSRUs",
      "execution_count": 25,
      "outputs": [
        {
          "output_type": "stream",
          "name": "stdout",
          "text": [
            "Please enter the desired size of the tuple: 3\n",
            "Please enter a value: 2\n",
            "Please enter a value: 7\n",
            "Please enter a value: 9\n",
            "The created tuple is: ('2', '7', '9')\n"
          ]
        }
      ]
    },
    {
      "cell_type": "markdown",
      "source": [
        "43. Swap two elements in a tuple."
      ],
      "metadata": {
        "id": "2sXFANY7SSIh"
      },
      "id": "2sXFANY7SSIh"
    },
    {
      "cell_type": "code",
      "source": [
        "# Define the tuple\n",
        "t = ('a', 'b', 'c', 'd', 'e')\n",
        "\n",
        "# Indices of elements to be swapped\n",
        "i, j = 1, 3\n",
        "\n",
        "# Convert the tuple to a list, swap the elements and convert it back to a tuple\n",
        "t_list = list(t)\n",
        "t_list[i], t_list[j] = t_list[j], t_list[i]\n",
        "t = tuple(t_list)\n",
        "\n",
        "print(\"The tuple after swapping is:\", t)\n"
      ],
      "metadata": {
        "id": "H7re0vATSUVk",
        "colab": {
          "base_uri": "https://localhost:8080/"
        },
        "outputId": "3ba54a88-3564-453d-8d5e-9dc56c67a8da"
      },
      "id": "H7re0vATSUVk",
      "execution_count": 26,
      "outputs": [
        {
          "output_type": "stream",
          "name": "stdout",
          "text": [
            "The tuple after swapping is: ('a', 'd', 'c', 'b', 'e')\n"
          ]
        }
      ]
    },
    {
      "cell_type": "markdown",
      "source": [
        "44. Reverse the elements of a tuple."
      ],
      "metadata": {
        "id": "7F9CBU5XSVHk"
      },
      "id": "7F9CBU5XSVHk"
    },
    {
      "cell_type": "code",
      "source": [
        "# Define the tuple\n",
        "t = ('a', 'b', 'c', 'd', 'e')\n",
        "\n",
        "# Reverse the tuple\n",
        "reversed_t = t[::-1]\n",
        "\n",
        "print(\"The reversed tuple is:\", reversed_t)\n"
      ],
      "metadata": {
        "id": "EFXJ72AtSXYF",
        "colab": {
          "base_uri": "https://localhost:8080/"
        },
        "outputId": "d8f9d113-5c08-48d1-95aa-dbc01b8f22f6"
      },
      "id": "EFXJ72AtSXYF",
      "execution_count": 27,
      "outputs": [
        {
          "output_type": "stream",
          "name": "stdout",
          "text": [
            "The reversed tuple is: ('e', 'd', 'c', 'b', 'a')\n"
          ]
        }
      ]
    },
    {
      "cell_type": "markdown",
      "source": [
        "45. Create a tuple of the first `n` powers of 2."
      ],
      "metadata": {
        "id": "2I26xaL7SX3L"
      },
      "id": "2I26xaL7SX3L"
    },
    {
      "cell_type": "code",
      "source": [
        "# Ask the user for the number of powers of 2\n",
        "n = int(input(\"Please enter the number of powers of 2: \"))\n",
        "\n",
        "# Create a tuple of the first n powers of 2\n",
        "powers_of_2 = tuple(2**i for i in range(1,n+1))\n",
        "\n",
        "print(\"The tuple of the first\", n, \"powers of 2 is:\", powers_of_2)\n"
      ],
      "metadata": {
        "id": "JK9QCBcGSZv-",
        "colab": {
          "base_uri": "https://localhost:8080/"
        },
        "outputId": "1fe72e2e-7b7c-4a8b-e482-a20f68a9f94a"
      },
      "id": "JK9QCBcGSZv-",
      "execution_count": 29,
      "outputs": [
        {
          "output_type": "stream",
          "name": "stdout",
          "text": [
            "Please enter the number of powers of 2: 5\n",
            "The tuple of the first 5 powers of 2 is: (2, 4, 8, 16, 32)\n"
          ]
        }
      ]
    },
    {
      "cell_type": "markdown",
      "id": "bd4f0c34-1405-4f27-8bae-cb0de8380715",
      "metadata": {
        "id": "bd4f0c34-1405-4f27-8bae-cb0de8380715"
      },
      "source": [
        "46. Find the longest string in a tuple of strings."
      ]
    },
    {
      "cell_type": "code",
      "execution_count": null,
      "id": "f61f2ed9-0abe-421e-a6d8-aa10fe8e8a6a",
      "metadata": {
        "id": "f61f2ed9-0abe-421e-a6d8-aa10fe8e8a6a",
        "outputId": "d4564532-6f1c-4879-d1c1-a6115035f824"
      },
      "outputs": [
        {
          "name": "stdout",
          "output_type": "stream",
          "text": [
            "Longest string in tuple is := assignment\n"
          ]
        }
      ],
      "source": [
        "tup = (\"hello\",\"swapnil\",\"shinde\",\"assignment\",\"word\")\n",
        "\n",
        "longest_string = max(tup,key=len)\n",
        "\n",
        "print(\"Longest string in tuple is :=\",longest_string)"
      ]
    },
    {
      "cell_type": "markdown",
      "id": "698fd6b7-208a-486a-b085-652641dc3c53",
      "metadata": {
        "id": "698fd6b7-208a-486a-b085-652641dc3c53"
      },
      "source": [
        "47. Find the shortest string in a tuple of strings."
      ]
    },
    {
      "cell_type": "code",
      "execution_count": null,
      "id": "af3be53e-3915-45cc-a450-f6c17f1e7649",
      "metadata": {
        "id": "af3be53e-3915-45cc-a450-f6c17f1e7649",
        "outputId": "b8848314-2372-40df-c3bb-b88cf3ac2215"
      },
      "outputs": [
        {
          "name": "stdout",
          "output_type": "stream",
          "text": [
            "shortest string in tuple is := word\n"
          ]
        }
      ],
      "source": [
        "tup = (\"hello\",\"swapnil\",\"shinde\",\"assignment\",\"word\")\n",
        "\n",
        "shortest_string = min(tup,key=len)\n",
        "\n",
        "print(\"shortest string in tuple is :=\",shortest_string)"
      ]
    },
    {
      "cell_type": "markdown",
      "id": "8579ba9c-e2f3-4044-9f1e-56fa95731ecf",
      "metadata": {
        "id": "8579ba9c-e2f3-4044-9f1e-56fa95731ecf"
      },
      "source": [
        "48. Create a tuple of the first `n` triangular numbers.\n"
      ]
    },
    {
      "cell_type": "code",
      "execution_count": 31,
      "id": "5e4bbd03-7e98-4f83-b254-dec26b24525a",
      "metadata": {
        "id": "5e4bbd03-7e98-4f83-b254-dec26b24525a",
        "colab": {
          "base_uri": "https://localhost:8080/"
        },
        "outputId": "12bdc129-433f-4f9f-cb8c-2512839a8eaa"
      },
      "outputs": [
        {
          "output_type": "stream",
          "name": "stdout",
          "text": [
            "Please enter the number of triangular numbers: 5\n",
            "The tuple of the first 5 triangular numbers is: (1, 3, 6, 10, 15)\n"
          ]
        }
      ],
      "source": [
        "# Ask the user for the number of triangular numbers\n",
        "n = int(input(\"Please enter the number of triangular numbers: \"))\n",
        "\n",
        "# Create a tuple of the first n triangular numbers\n",
        "triangular_numbers = tuple(i*(i+1)//2 for i in range(1, n+1))\n",
        "\n",
        "print(\"The tuple of the first\", n, \"triangular numbers is:\", triangular_numbers)\n"
      ]
    },
    {
      "cell_type": "markdown",
      "source": [
        "49. Check if a tuple contains another tuple as a subsequence."
      ],
      "metadata": {
        "id": "frDfijFHSc5r"
      },
      "id": "frDfijFHSc5r"
    },
    {
      "cell_type": "code",
      "source": [
        "def is_subsequence(tup1, tup2):\n",
        "    it = iter(tup2)\n",
        "    return all(any(x == y for y in it) for x in tup1)\n",
        "\n",
        "# Define the tuples\n",
        "tup1 = (1, 2, 3)\n",
        "tup2 = (0, 1, 2, 3, 4, 5)\n",
        "\n",
        "# Check if tup1 is a subsequence of tup2\n",
        "print(is_subsequence(tup1, tup2))\n",
        "\n"
      ],
      "metadata": {
        "id": "nr_NFJ6WSe5b",
        "colab": {
          "base_uri": "https://localhost:8080/"
        },
        "outputId": "5f0a9050-31a5-495f-977b-b076920c6055"
      },
      "id": "nr_NFJ6WSe5b",
      "execution_count": 32,
      "outputs": [
        {
          "output_type": "stream",
          "name": "stdout",
          "text": [
            "True\n"
          ]
        }
      ]
    },
    {
      "cell_type": "markdown",
      "source": [
        "50. Create a tuple of alternating 1s and 0s of length `n`."
      ],
      "metadata": {
        "id": "G1Akt4WUSfxW"
      },
      "id": "G1Akt4WUSfxW"
    },
    {
      "cell_type": "code",
      "source": [
        "# Ask the user for the length of the tuple\n",
        "n = int(input(\"Please enter the length of the tuple: \"))\n",
        "\n",
        "# Create a tuple of alternating 1s and 0s of length n\n",
        "alternating_tuple = tuple((i % 2) for i in range(n))\n",
        "\n",
        "print(\"The tuple of alternating 1s and 0s of length\", n, \"is:\", alternating_tuple)\n"
      ],
      "metadata": {
        "id": "fPXma3AwShbx",
        "colab": {
          "base_uri": "https://localhost:8080/"
        },
        "outputId": "0a24f67a-daf3-4543-844b-9469c5e6e154"
      },
      "id": "fPXma3AwShbx",
      "execution_count": 33,
      "outputs": [
        {
          "output_type": "stream",
          "name": "stdout",
          "text": [
            "Please enter the length of the tuple: 10\n",
            "The tuple of alternating 1s and 0s of length 10 is: (0, 1, 0, 1, 0, 1, 0, 1, 0, 1)\n"
          ]
        }
      ]
    },
    {
      "cell_type": "markdown",
      "source": [
        "# **Set Based Question**"
      ],
      "metadata": {
        "id": "9a2Mxv4gSiXV"
      },
      "id": "9a2Mxv4gSiXV"
    },
    {
      "cell_type": "markdown",
      "source": [
        "1. Create a set with integers from 1 to 5."
      ],
      "metadata": {
        "id": "hWqvyaGESvVS"
      },
      "id": "hWqvyaGESvVS"
    },
    {
      "cell_type": "code",
      "source": [
        "#creating set from 1 to 5\n",
        "set1 = {1,2,3,4,5}\n",
        "\n",
        "#printing set\n",
        "print(set1)\n",
        "\n",
        "#checking type of set\n",
        "type(set1)"
      ],
      "metadata": {
        "id": "xphG7ivXSsej",
        "colab": {
          "base_uri": "https://localhost:8080/"
        },
        "outputId": "8ffd1609-05c2-4feb-8998-15d9ef7bef82"
      },
      "id": "xphG7ivXSsej",
      "execution_count": null,
      "outputs": [
        {
          "output_type": "stream",
          "name": "stdout",
          "text": [
            "{1, 2, 3, 4, 5}\n"
          ]
        },
        {
          "output_type": "execute_result",
          "data": {
            "text/plain": [
              "set"
            ]
          },
          "metadata": {},
          "execution_count": 3
        }
      ]
    },
    {
      "cell_type": "markdown",
      "source": [
        "2. Add an element to a set."
      ],
      "metadata": {
        "id": "Z9efnnkTSx3m"
      },
      "id": "Z9efnnkTSx3m"
    },
    {
      "cell_type": "code",
      "source": [
        "#set\n",
        "set1 = {1,2,3,4,5}\n",
        "\n",
        "#printing set before adding an element\n",
        "print(f\"set before adding an element := {set1}\")\n",
        "\n",
        "#adding element to a set\n",
        "set1.add(6)\n",
        "\n",
        "#printing set after adding an element\n",
        "print(f'set after adding an element := {set1}')"
      ],
      "metadata": {
        "id": "fYKY0_M6SzY-",
        "colab": {
          "base_uri": "https://localhost:8080/"
        },
        "outputId": "810f72a7-e3c1-4c7e-cd42-a37de65c160e"
      },
      "id": "fYKY0_M6SzY-",
      "execution_count": null,
      "outputs": [
        {
          "output_type": "stream",
          "name": "stdout",
          "text": [
            "set before adding an element := {1, 2, 3, 4, 5}\n",
            "set after adding an element := {1, 2, 3, 4, 5, 6}\n"
          ]
        }
      ]
    },
    {
      "cell_type": "markdown",
      "source": [
        "3. Remove an element from a set."
      ],
      "metadata": {
        "id": "qGZlPJ85Sz6K"
      },
      "id": "qGZlPJ85Sz6K"
    },
    {
      "cell_type": "code",
      "source": [
        "#creating set\n",
        "set1 = {1,2,3,4,5}\n",
        "\n",
        "#printing set before removing an element\n",
        "print(f\"Set before removing an element := {set1}\")\n",
        "\n",
        "#removing an element from a set\n",
        "set1.remove(5)\n",
        "\n",
        "#printing set after removing element 5\n",
        "print(f\"Set after removing an element := {set1}\")"
      ],
      "metadata": {
        "id": "VhmzxDA_S1ZC",
        "colab": {
          "base_uri": "https://localhost:8080/"
        },
        "outputId": "91fe0215-e796-4310-f1c8-22dc4a94febd"
      },
      "id": "VhmzxDA_S1ZC",
      "execution_count": null,
      "outputs": [
        {
          "output_type": "stream",
          "name": "stdout",
          "text": [
            "Set before removing an element := {1, 2, 3, 4, 5}\n",
            "Set after removing an element := {1, 2, 3, 4}\n"
          ]
        }
      ]
    },
    {
      "cell_type": "markdown",
      "source": [
        "4. Check if an element exists in a set."
      ],
      "metadata": {
        "id": "UV6hLZezS130"
      },
      "id": "UV6hLZezS130"
    },
    {
      "cell_type": "code",
      "source": [
        "#creating a set\n",
        "set1 = {1,2,3,4,5}\n",
        "\n",
        "#printing if a element is available in set or not\n",
        "print(f\"The element 5 is available in set := {5 in set1}\")\n",
        "print(f\"The element 6 is available in set := {6 in set1}\")"
      ],
      "metadata": {
        "id": "Bnl2eMaES3RA",
        "colab": {
          "base_uri": "https://localhost:8080/"
        },
        "outputId": "8fbbdc57-bf42-4d88-de8d-2460c0cca9b9"
      },
      "id": "Bnl2eMaES3RA",
      "execution_count": null,
      "outputs": [
        {
          "output_type": "stream",
          "name": "stdout",
          "text": [
            "The element 5 is available in set := True\n",
            "The element 6 is available in set := False\n"
          ]
        }
      ]
    },
    {
      "cell_type": "markdown",
      "source": [
        "5. Find the length of a set without using the `len()` function."
      ],
      "metadata": {
        "id": "0lE38f6ZS3v5"
      },
      "id": "0lE38f6ZS3v5"
    },
    {
      "cell_type": "code",
      "source": [
        "#creating a function to find a length of a set\n",
        "def len(s):\n",
        "  count = 0\n",
        "  for i in s:\n",
        "    count += 1\n",
        "  return count\n",
        "\n",
        "#test cases\n",
        "set1 = {4,5,9}\n",
        "set2 = {7,2,1,5,4,3}\n",
        "\n",
        "#printing\n",
        "print(f\"the set {set1} has a length := {len(set1)}\")\n",
        "print(f\"the set {set2} has a length := {len(set2)}\")"
      ],
      "metadata": {
        "id": "RaJHCgFFS5cY",
        "colab": {
          "base_uri": "https://localhost:8080/"
        },
        "outputId": "ae9a077d-4f32-463c-884c-d357969b3864"
      },
      "id": "RaJHCgFFS5cY",
      "execution_count": null,
      "outputs": [
        {
          "output_type": "stream",
          "name": "stdout",
          "text": [
            "the set {9, 4, 5} has a length := 3\n",
            "the set {1, 2, 3, 4, 5, 7} has a length := 6\n"
          ]
        }
      ]
    },
    {
      "cell_type": "markdown",
      "source": [
        "6. Clear all elements from a set."
      ],
      "metadata": {
        "id": "swgvfVG4S578"
      },
      "id": "swgvfVG4S578"
    },
    {
      "cell_type": "code",
      "source": [
        "#creating a set\n",
        "set1 = {1,2,3,4,5}\n",
        "\n",
        "#printing a set before clearing an set\n",
        "print(f\"set before clearing all elements from set := {set1}\")\n",
        "\n",
        "#using clear method to clear all elements from a set\n",
        "set1.clear()\n",
        "\n",
        "#printing an empty set\n",
        "print(f\"Set after clearing all elements from set := {set1}\")"
      ],
      "metadata": {
        "id": "IclUjkQOS7Sb",
        "colab": {
          "base_uri": "https://localhost:8080/"
        },
        "outputId": "d57e26d9-0bfb-4b94-e568-77321c4c52ec"
      },
      "id": "IclUjkQOS7Sb",
      "execution_count": null,
      "outputs": [
        {
          "output_type": "stream",
          "name": "stdout",
          "text": [
            "set before clearing all elements from set := {1, 2, 3, 4, 5}\n",
            "Set after clearing all elements from set := set()\n"
          ]
        }
      ]
    },
    {
      "cell_type": "markdown",
      "source": [
        "7. Create a set of even numbers from 1 to 10."
      ],
      "metadata": {
        "id": "7V-nYcNjS7yX"
      },
      "id": "7V-nYcNjS7yX"
    },
    {
      "cell_type": "code",
      "source": [
        "#functiont to create an set of even num\n",
        "def even_set(start,end):\n",
        "  return {i for i in range(start,end+1) if i % 2 == 0}\n",
        "\n",
        "start = 1\n",
        "end = 10\n",
        "\n",
        "#printing\n",
        "print(f\"The set of even num from {start} to {end} is := {even_set(start,end)}\")"
      ],
      "metadata": {
        "id": "rW48Ex9bS9d2",
        "colab": {
          "base_uri": "https://localhost:8080/"
        },
        "outputId": "00d53fc2-e5c1-438a-dad5-f5f463f52e71"
      },
      "id": "rW48Ex9bS9d2",
      "execution_count": null,
      "outputs": [
        {
          "output_type": "stream",
          "name": "stdout",
          "text": [
            "The set of even num from 1 to 10 is := {2, 4, 6, 8, 10}\n"
          ]
        }
      ]
    },
    {
      "cell_type": "markdown",
      "source": [
        "8. Create a set of odd numbers from 1 to 10."
      ],
      "metadata": {
        "id": "5h-V_NQkS-iH"
      },
      "id": "5h-V_NQkS-iH"
    },
    {
      "cell_type": "code",
      "source": [
        "#functiont to create an set of odd num\n",
        "def odd_set(start,end):\n",
        "  return {i for i in range(start,end+1) if i % 2 != 0}\n",
        "\n",
        "start = 1\n",
        "end = 10\n",
        "\n",
        "#printing\n",
        "print(f\"The set of odd num from {start} to {end} is := {odd_set(start,end)}\")"
      ],
      "metadata": {
        "id": "wHWzN-0YTANr",
        "colab": {
          "base_uri": "https://localhost:8080/"
        },
        "outputId": "5eaccf60-db19-4b95-bce1-11e0cde3a89d"
      },
      "id": "wHWzN-0YTANr",
      "execution_count": null,
      "outputs": [
        {
          "output_type": "stream",
          "name": "stdout",
          "text": [
            "The set of odd num from 1 to 10 is := {1, 3, 5, 7, 9}\n"
          ]
        }
      ]
    },
    {
      "cell_type": "markdown",
      "source": [
        "9. Find the union of two sets."
      ],
      "metadata": {
        "id": "GJZ586C6TE_w"
      },
      "id": "GJZ586C6TE_w"
    },
    {
      "cell_type": "code",
      "source": [
        "#creating two sets\n",
        "set1 = {1, 2, 3, 4, 5}\n",
        "set2 = {4, 5, 6, 7, 8}\n",
        "\n",
        "#creating union of set\n",
        "union_set = set1.union(set2)\n",
        "\n",
        "#printing union of set\n",
        "print(f\"The union of two sets {set1} and {set2} is {union_set}\")"
      ],
      "metadata": {
        "id": "VFcXsoLKTCdf",
        "colab": {
          "base_uri": "https://localhost:8080/"
        },
        "outputId": "54b490b5-9e64-4d00-879f-a63f98451a1d"
      },
      "id": "VFcXsoLKTCdf",
      "execution_count": null,
      "outputs": [
        {
          "output_type": "stream",
          "name": "stdout",
          "text": [
            "The union of two sets {1, 2, 3, 4, 5} and {4, 5, 6, 7, 8} is {1, 2, 3, 4, 5, 6, 7, 8}\n"
          ]
        }
      ]
    },
    {
      "cell_type": "markdown",
      "source": [
        "10. Find the intersection of two sets."
      ],
      "metadata": {
        "id": "8yymI3rXTIEk"
      },
      "id": "8yymI3rXTIEk"
    },
    {
      "cell_type": "code",
      "source": [
        "#creating two sets\n",
        "set1 = {1, 2, 3, 4, 5}\n",
        "set2 = {4, 5, 6, 7, 8}\n",
        "\n",
        "#creating intersection of set\n",
        "intersection_set = set1.intersection(set2)\n",
        "\n",
        "#printing union of set\n",
        "print(f\"The intersection of two sets {set1} and {set2} is {intersection_set}\")"
      ],
      "metadata": {
        "id": "7_u2-aznTJVZ",
        "colab": {
          "base_uri": "https://localhost:8080/"
        },
        "outputId": "6e4096c4-7f15-4694-ba28-4c0ccbec1e9c"
      },
      "id": "7_u2-aznTJVZ",
      "execution_count": null,
      "outputs": [
        {
          "output_type": "stream",
          "name": "stdout",
          "text": [
            "The intersection of two sets {1, 2, 3, 4, 5} and {4, 5, 6, 7, 8} is {4, 5}\n"
          ]
        }
      ]
    },
    {
      "cell_type": "markdown",
      "source": [
        "11. Find the difference between two sets."
      ],
      "metadata": {
        "id": "Jrdy1sY4TJ76"
      },
      "id": "Jrdy1sY4TJ76"
    },
    {
      "cell_type": "code",
      "source": [
        "#creating two sets\n",
        "set1 = {1, 2, 3, 4, 5}\n",
        "set2 = {4, 5, 6, 7, 8}\n",
        "\n",
        "#here difference means the elements only present in first set not in second set\n",
        "#creating difference of set\n",
        "difference_set = set1.difference(set2)\n",
        "\n",
        "#printing difference of set\n",
        "print(f\"The difference of two sets {set1} and {set2} is {difference_set}\")"
      ],
      "metadata": {
        "id": "o1y7Baf8TLYJ",
        "colab": {
          "base_uri": "https://localhost:8080/"
        },
        "outputId": "54a362f5-9195-48bf-a59b-169b6307622e"
      },
      "id": "o1y7Baf8TLYJ",
      "execution_count": null,
      "outputs": [
        {
          "output_type": "stream",
          "name": "stdout",
          "text": [
            "The difference of two sets {1, 2, 3, 4, 5} and {4, 5, 6, 7, 8} is {1, 2, 3}\n"
          ]
        }
      ]
    },
    {
      "cell_type": "markdown",
      "source": [
        "12. Check if a set is a subset of another set."
      ],
      "metadata": {
        "id": "FK-QpaOITNBs"
      },
      "id": "FK-QpaOITNBs"
    },
    {
      "cell_type": "code",
      "source": [
        "#creating two sets\n",
        "set1 = {1, 2, 3}\n",
        "set2 = {1, 2, 3, 7, 8}\n",
        "\n",
        "#checking if set1 is subset of set2\n",
        "is_subset = set1.issubset(set2)\n",
        "\n",
        "#printing\n",
        "print(f\"The set1 is a subset of set2 := {is_subset}\")"
      ],
      "metadata": {
        "id": "jyRV0QmgTNqx",
        "colab": {
          "base_uri": "https://localhost:8080/"
        },
        "outputId": "b16fc79e-28ae-4228-ba37-1f4d3a0959b2"
      },
      "id": "jyRV0QmgTNqx",
      "execution_count": null,
      "outputs": [
        {
          "output_type": "stream",
          "name": "stdout",
          "text": [
            "The set1 is a subset of set2 := True\n"
          ]
        }
      ]
    },
    {
      "cell_type": "markdown",
      "source": [
        "13. Check if a set is a superset of another set."
      ],
      "metadata": {
        "id": "7taQ70WBTOQo"
      },
      "id": "7taQ70WBTOQo"
    },
    {
      "cell_type": "code",
      "source": [
        "#creating two sets\n",
        "set2 = {1, 2, 3}\n",
        "set1 = {1, 2, 3, 7, 8}\n",
        "\n",
        "#checking if set1 is superset of set2\n",
        "is_superset = set1.issuperset(set2)\n",
        "\n",
        "#printing\n",
        "print(f\"The set1 is a superset of set2 := {is_superset}\")"
      ],
      "metadata": {
        "id": "nkPELiRGTP-z",
        "colab": {
          "base_uri": "https://localhost:8080/"
        },
        "outputId": "ef280c5a-3a0d-4428-9d1f-8375270fcf82"
      },
      "id": "nkPELiRGTP-z",
      "execution_count": null,
      "outputs": [
        {
          "output_type": "stream",
          "name": "stdout",
          "text": [
            "The set1 is a superset of set2 := True\n"
          ]
        }
      ]
    },
    {
      "cell_type": "markdown",
      "source": [
        "14. Create a set from a list."
      ],
      "metadata": {
        "id": "V65corkmTQvg"
      },
      "id": "V65corkmTQvg"
    },
    {
      "cell_type": "code",
      "source": [
        "#list\n",
        "li = [4,5,8,9,1]\n",
        "\n",
        "#creating a set from list\n",
        "set1 = set(li)\n",
        "\n",
        "print(f\"The set from list {li} is {set1}\")"
      ],
      "metadata": {
        "id": "GwoLa1qRTSCE",
        "colab": {
          "base_uri": "https://localhost:8080/"
        },
        "outputId": "f3c72ddd-53d4-4fb3-fab2-958403ba2b6c"
      },
      "id": "GwoLa1qRTSCE",
      "execution_count": null,
      "outputs": [
        {
          "output_type": "stream",
          "name": "stdout",
          "text": [
            "The set from list [4, 5, 8, 9, 1] is {1, 4, 5, 8, 9}\n"
          ]
        }
      ]
    },
    {
      "cell_type": "markdown",
      "source": [
        "15. Convert a set to a list."
      ],
      "metadata": {
        "id": "BM2TR0kcTTvc"
      },
      "id": "BM2TR0kcTTvc"
    },
    {
      "cell_type": "code",
      "source": [
        "#set\n",
        "set1 = {4,5,7,8,2}\n",
        "\n",
        "#converting a set to list\n",
        "li = list(set1)\n",
        "\n",
        "#print\n",
        "print(f\"The list from set {set1} is {li}\")"
      ],
      "metadata": {
        "id": "EG61iPMCTUB3",
        "colab": {
          "base_uri": "https://localhost:8080/"
        },
        "outputId": "754d9097-85bd-426f-be86-ddd560c4a4aa"
      },
      "id": "EG61iPMCTUB3",
      "execution_count": null,
      "outputs": [
        {
          "output_type": "stream",
          "name": "stdout",
          "text": [
            "The list from set {2, 4, 5, 7, 8} is [2, 4, 5, 7, 8]\n"
          ]
        }
      ]
    },
    {
      "cell_type": "markdown",
      "source": [
        "16. Remove a random element from a set."
      ],
      "metadata": {
        "id": "CIaRL-3KTUfI"
      },
      "id": "CIaRL-3KTUfI"
    },
    {
      "cell_type": "code",
      "source": [
        "set1 = {2, 4, 5, 7, 8}\n",
        "\n",
        "#removing random element from set using pop() method which removes random element from set\n",
        "random_ele = set1.pop()\n",
        "\n",
        "#printing random element removed from set\n",
        "print(f\"The random element removed from set is {random_ele}\")"
      ],
      "metadata": {
        "id": "uVkNVeldTWBW",
        "colab": {
          "base_uri": "https://localhost:8080/"
        },
        "outputId": "37d8d79e-efd6-4b5c-d7e7-3457ac3d2398"
      },
      "id": "uVkNVeldTWBW",
      "execution_count": null,
      "outputs": [
        {
          "output_type": "stream",
          "name": "stdout",
          "text": [
            "The random element removed from set is 2\n"
          ]
        }
      ]
    },
    {
      "cell_type": "markdown",
      "source": [
        "17. Pop an element from a set."
      ],
      "metadata": {
        "id": "E5K0wSqbTWvq"
      },
      "id": "E5K0wSqbTWvq"
    },
    {
      "cell_type": "code",
      "source": [
        "set1 = {2, 4, 5, 7, 8}\n",
        "\n",
        "#poping out element from set\n",
        "ele = set1.pop()\n",
        "\n",
        "#printing random element removed from set\n",
        "print(f\"The element removed from set is {ele}\")"
      ],
      "metadata": {
        "id": "ZRpXJG5mTX5x",
        "colab": {
          "base_uri": "https://localhost:8080/"
        },
        "outputId": "d57d84fe-aad3-401e-b952-3ef673d9403f"
      },
      "id": "ZRpXJG5mTX5x",
      "execution_count": null,
      "outputs": [
        {
          "output_type": "stream",
          "name": "stdout",
          "text": [
            "The element removed from set is 2\n"
          ]
        }
      ]
    },
    {
      "cell_type": "markdown",
      "source": [
        "18. Check if two sets have no elements in common."
      ],
      "metadata": {
        "id": "Prm19_fFTYrK"
      },
      "id": "Prm19_fFTYrK"
    },
    {
      "cell_type": "code",
      "source": [
        "# set\n",
        "set1 = {1, 2, 3}\n",
        "set2 = {4, 5, 6}\n",
        "\n",
        "# Check if set1 and set2 have no elements in common\n",
        "are_disjoint = set1.isdisjoint(set2)\n",
        "\n",
        "print(f\"Do set1 and set2 have no elements in common : {are_disjoint}\")"
      ],
      "metadata": {
        "id": "RG9ieDJZTaPN",
        "colab": {
          "base_uri": "https://localhost:8080/"
        },
        "outputId": "e3cee152-a1fc-451a-ba82-9a4b665240ac"
      },
      "id": "RG9ieDJZTaPN",
      "execution_count": null,
      "outputs": [
        {
          "output_type": "stream",
          "name": "stdout",
          "text": [
            "Do set1 and set2 have no elements in common : True\n"
          ]
        }
      ]
    },
    {
      "cell_type": "markdown",
      "source": [
        "19. Find the symmetric difference between two sets."
      ],
      "metadata": {
        "id": "3z_0MRDyTa_h"
      },
      "id": "3z_0MRDyTa_h"
    },
    {
      "cell_type": "code",
      "source": [
        "# Define the sets\n",
        "set1 = {1, 2, 3, 4, 5}\n",
        "set2 = {4, 5, 6, 7, 8}\n",
        "\n",
        "# Find the symmetric difference\n",
        "sym_diff = set1 ^ set2\n",
        "\n",
        "print(\"The symmetric difference between the sets is:\", sym_diff)\n"
      ],
      "metadata": {
        "id": "vhjnVey6TczS",
        "colab": {
          "base_uri": "https://localhost:8080/"
        },
        "outputId": "7aa3bc2f-67e9-481b-f0f5-ca8627760227"
      },
      "id": "vhjnVey6TczS",
      "execution_count": 34,
      "outputs": [
        {
          "output_type": "stream",
          "name": "stdout",
          "text": [
            "The symmetric difference between the sets is: {1, 2, 3, 6, 7, 8}\n"
          ]
        }
      ]
    },
    {
      "cell_type": "markdown",
      "source": [
        "20. Update a set with elements from another set."
      ],
      "metadata": {
        "id": "FA_AJjnETdo9"
      },
      "id": "FA_AJjnETdo9"
    },
    {
      "cell_type": "code",
      "source": [
        "# Define the sets\n",
        "set1 = {1, 2, 3, 4, 5}\n",
        "set2 = {4, 5, 6, 7, 8}\n",
        "\n",
        "# Update set1 with elements from set2\n",
        "set1.update(set2)\n",
        "\n",
        "print(\"The updated set is:\", set1)\n"
      ],
      "metadata": {
        "id": "vy5eu0xSTf1P",
        "colab": {
          "base_uri": "https://localhost:8080/"
        },
        "outputId": "32ec2fe2-d5e7-49c1-f5ab-91cc77e10ce9"
      },
      "id": "vy5eu0xSTf1P",
      "execution_count": 35,
      "outputs": [
        {
          "output_type": "stream",
          "name": "stdout",
          "text": [
            "The updated set is: {1, 2, 3, 4, 5, 6, 7, 8}\n"
          ]
        }
      ]
    },
    {
      "cell_type": "markdown",
      "source": [
        "21. Create a set of the first 5 prime numbers."
      ],
      "metadata": {
        "id": "baUWixJ5TgT8"
      },
      "id": "baUWixJ5TgT8"
    },
    {
      "cell_type": "code",
      "source": [
        "def generate_n_primes(n):\n",
        "    primes = set()\n",
        "    i = 2\n",
        "    while len(primes) < n:\n",
        "        for j in range(2, i):\n",
        "            if i % j == 0:\n",
        "                break\n",
        "        else:\n",
        "            primes.add(i)\n",
        "        i += 1\n",
        "    return primes\n",
        "\n",
        "# Test the function\n",
        "n = 5\n",
        "print(\"The set of the first\", n, \"prime numbers is:\", generate_n_primes(n))\n"
      ],
      "metadata": {
        "id": "LSODmpMaTh-c",
        "colab": {
          "base_uri": "https://localhost:8080/"
        },
        "outputId": "79c497fb-8227-4e00-cec1-97cc941f1699"
      },
      "id": "LSODmpMaTh-c",
      "execution_count": 37,
      "outputs": [
        {
          "output_type": "stream",
          "name": "stdout",
          "text": [
            "The set of the first 5 prime numbers is: {2, 3, 5, 7, 11}\n"
          ]
        }
      ]
    },
    {
      "cell_type": "markdown",
      "source": [
        "22. Check if two sets are identical."
      ],
      "metadata": {
        "id": "ZG5rp31WTiaQ"
      },
      "id": "ZG5rp31WTiaQ"
    },
    {
      "cell_type": "code",
      "source": [
        "# Define the sets\n",
        "set1 = {1, 2, 3, 4, 5}\n",
        "set2 = {1, 2, 3, 4, 5}\n",
        "\n",
        "# Check if the sets are identical\n",
        "if set1 == set2:\n",
        "    print(f\"The sets are identical.\")\n",
        "else:\n",
        "    print(f\"The sets are not identical.\")\n"
      ],
      "metadata": {
        "id": "bxqmT9mVTkAm",
        "colab": {
          "base_uri": "https://localhost:8080/"
        },
        "outputId": "eebd1734-a073-4dc8-8234-8430b5e3efc2"
      },
      "id": "bxqmT9mVTkAm",
      "execution_count": 38,
      "outputs": [
        {
          "output_type": "stream",
          "name": "stdout",
          "text": [
            "The sets are identical.\n"
          ]
        }
      ]
    },
    {
      "cell_type": "markdown",
      "source": [
        "23. Create a frozen set."
      ],
      "metadata": {
        "id": "MI2ovAHYTkim"
      },
      "id": "MI2ovAHYTkim"
    },
    {
      "cell_type": "code",
      "source": [
        "# Define the set\n",
        "my_set = {1, 2, 3, 4, 5}\n",
        "\n",
        "# Create a frozen set from the set\n",
        "frozen_set = frozenset(my_set)\n",
        "\n",
        "print(f\"The created frozen set is: {frozen_set}\")\n"
      ],
      "metadata": {
        "id": "iZqNE0rfTlxu",
        "colab": {
          "base_uri": "https://localhost:8080/"
        },
        "outputId": "4c82e9f1-4643-4a4b-c905-0a8b6a82fd86"
      },
      "id": "iZqNE0rfTlxu",
      "execution_count": 39,
      "outputs": [
        {
          "output_type": "stream",
          "name": "stdout",
          "text": [
            "The created frozen set is: frozenset({1, 2, 3, 4, 5})\n"
          ]
        }
      ]
    },
    {
      "cell_type": "markdown",
      "source": [
        "24. Check if a set is disjoint with another set."
      ],
      "metadata": {
        "id": "jhEGYoK3Tmb8"
      },
      "id": "jhEGYoK3Tmb8"
    },
    {
      "cell_type": "code",
      "source": [
        "# Define the sets\n",
        "set1 = {1, 2, 3, 4, 5}\n",
        "set2 = {6, 7, 8, 9, 10}\n",
        "\n",
        "# Check if the sets are disjoint\n",
        "if set1.isdisjoint(set2):\n",
        "    print(f\"The sets are disjoint.\")\n",
        "else:\n",
        "    print(f\"The sets are not disjoint.\")\n"
      ],
      "metadata": {
        "id": "ol0OXRQJTn3i",
        "colab": {
          "base_uri": "https://localhost:8080/"
        },
        "outputId": "7ae4237b-33a0-4b3a-ce6c-3d5d4979d0a1"
      },
      "id": "ol0OXRQJTn3i",
      "execution_count": 40,
      "outputs": [
        {
          "output_type": "stream",
          "name": "stdout",
          "text": [
            "The sets are disjoint.\n"
          ]
        }
      ]
    },
    {
      "cell_type": "markdown",
      "source": [
        "25. Create a set of squares of numbers from 1 to 5."
      ],
      "metadata": {
        "id": "C2besGU1ToYS"
      },
      "id": "C2besGU1ToYS"
    },
    {
      "cell_type": "code",
      "source": [
        "# Create a set of squares of numbers from 1 to 5\n",
        "squares = {i**2 for i in range(1, 6)}\n",
        "\n",
        "print(f\"The set of squares of numbers from 1 to 5 is: {squares}\")\n"
      ],
      "metadata": {
        "id": "6LlcFs6hTp75",
        "colab": {
          "base_uri": "https://localhost:8080/"
        },
        "outputId": "cff38c6d-7f6a-4589-d72e-5a517deaa3f1"
      },
      "id": "6LlcFs6hTp75",
      "execution_count": 41,
      "outputs": [
        {
          "output_type": "stream",
          "name": "stdout",
          "text": [
            "The set of squares of numbers from 1 to 5 is: {1, 4, 9, 16, 25}\n"
          ]
        }
      ]
    },
    {
      "cell_type": "markdown",
      "source": [
        "26. Filter out all even numbers from a set."
      ],
      "metadata": {
        "id": "ZUGU1HFITqfZ"
      },
      "id": "ZUGU1HFITqfZ"
    },
    {
      "cell_type": "code",
      "source": [
        "# Define the set\n",
        "numbers = {1, 2, 3, 4, 5, 6, 7, 8, 9, 10}\n",
        "\n",
        "# Filter out all even numbers from the set\n",
        "filtered_numbers = {i for i in numbers if i % 2 != 0}\n",
        "\n",
        "print(f\"The set after filtering out all even numbers is: {filtered_numbers}\")\n"
      ],
      "metadata": {
        "id": "uczN8x0PTsFM",
        "colab": {
          "base_uri": "https://localhost:8080/"
        },
        "outputId": "05408333-4147-40e1-919b-88f8ba0b7614"
      },
      "id": "uczN8x0PTsFM",
      "execution_count": 43,
      "outputs": [
        {
          "output_type": "stream",
          "name": "stdout",
          "text": [
            "The set after filtering out all even numbers is: {1, 3, 5, 7, 9}\n"
          ]
        }
      ]
    },
    {
      "cell_type": "markdown",
      "source": [
        "27. Multiply all elements in a set by 2."
      ],
      "metadata": {
        "id": "aRnktHh4Tssp"
      },
      "id": "aRnktHh4Tssp"
    },
    {
      "cell_type": "code",
      "source": [
        "# Define the set\n",
        "numbers = {1, 2, 3, 4, 5}\n",
        "\n",
        "# Multiply all elements in the set by 2\n",
        "multiplied_numbers = {i * 2 for i in numbers}\n",
        "\n",
        "print(f\"The set after multiplying all elements by 2 is: {multiplied_numbers}\")\n"
      ],
      "metadata": {
        "id": "wDIsX8DlTuDi",
        "colab": {
          "base_uri": "https://localhost:8080/"
        },
        "outputId": "184287db-497d-4818-cf08-3339eb53e4ec"
      },
      "id": "wDIsX8DlTuDi",
      "execution_count": 45,
      "outputs": [
        {
          "output_type": "stream",
          "name": "stdout",
          "text": [
            "The set after multiplying all elements by 2 is: {2, 4, 6, 8, 10}\n"
          ]
        }
      ]
    },
    {
      "cell_type": "markdown",
      "source": [
        "28. Create a set of random numbers."
      ],
      "metadata": {
        "id": "TCmJa9VGTvyU"
      },
      "id": "TCmJa9VGTvyU"
    },
    {
      "cell_type": "code",
      "source": [
        "import random\n",
        "\n",
        "# Create a set of 10 random numbers between 1 and 100\n",
        "random_numbers = {random.randint(1, 100) for _ in range(10)}\n",
        "\n",
        "print(f\"The set of random numbers is: {random_numbers}\")\n"
      ],
      "metadata": {
        "id": "O9ExKKoGTwFv",
        "colab": {
          "base_uri": "https://localhost:8080/"
        },
        "outputId": "4aa2873d-324c-4fc3-a776-180a1ed91caa"
      },
      "id": "O9ExKKoGTwFv",
      "execution_count": 46,
      "outputs": [
        {
          "output_type": "stream",
          "name": "stdout",
          "text": [
            "The set of random numbers is: {100, 70, 9, 46, 14, 79, 81, 29, 94, 95}\n"
          ]
        }
      ]
    },
    {
      "cell_type": "markdown",
      "source": [
        "29. Check if a set is empty."
      ],
      "metadata": {
        "id": "j6DkoDg_Tw88"
      },
      "id": "j6DkoDg_Tw88"
    },
    {
      "cell_type": "code",
      "source": [
        "# Define the set\n",
        "my_set = set()\n",
        "\n",
        "# Check if the set is empty\n",
        "if not my_set:\n",
        "    print(f\"The set is empty.\")\n",
        "else:\n",
        "    print(f\"The set is not empty.\")\n"
      ],
      "metadata": {
        "id": "YUTpumJzTyjk",
        "colab": {
          "base_uri": "https://localhost:8080/"
        },
        "outputId": "1970b807-1aef-4b22-eec5-3cd8444785b5"
      },
      "id": "YUTpumJzTyjk",
      "execution_count": 47,
      "outputs": [
        {
          "output_type": "stream",
          "name": "stdout",
          "text": [
            "The set is empty.\n"
          ]
        }
      ]
    },
    {
      "cell_type": "markdown",
      "source": [
        "30. Create a nested set (hint: use frozenset)."
      ],
      "metadata": {
        "id": "RH9nx2UDTzG6"
      },
      "id": "RH9nx2UDTzG6"
    },
    {
      "cell_type": "code",
      "source": [
        "# Create a frozenset\n",
        "frozen = frozenset([1, 2, 3, 4, 5])\n",
        "\n",
        "# Create a set with the frozenset as an element\n",
        "nested_set = {frozen}\n",
        "\n",
        "print(f\"The nested set is: {nested_set}\")\n"
      ],
      "metadata": {
        "id": "Da9NWE0gT1h0",
        "colab": {
          "base_uri": "https://localhost:8080/"
        },
        "outputId": "a954c5b0-2187-481d-c6eb-f5d6e762765d"
      },
      "id": "Da9NWE0gT1h0",
      "execution_count": 48,
      "outputs": [
        {
          "output_type": "stream",
          "name": "stdout",
          "text": [
            "The nested set is: {frozenset({1, 2, 3, 4, 5})}\n"
          ]
        }
      ]
    },
    {
      "cell_type": "markdown",
      "source": [
        "31. Remove an element from a set using the discard method."
      ],
      "metadata": {
        "id": "tQqzVyw-T2WN"
      },
      "id": "tQqzVyw-T2WN"
    },
    {
      "cell_type": "code",
      "source": [
        "# Define the set\n",
        "numbers = {1, 2, 3, 4, 5}\n",
        "\n",
        "# Remove an element from the set\n",
        "numbers.discard(3)\n",
        "\n",
        "print(f\"The set after removing the element is: {numbers}\")\n"
      ],
      "metadata": {
        "id": "P_drvEZZT4aP",
        "colab": {
          "base_uri": "https://localhost:8080/"
        },
        "outputId": "a4787b10-ec44-483f-d525-68a70bdf894b"
      },
      "id": "P_drvEZZT4aP",
      "execution_count": 49,
      "outputs": [
        {
          "output_type": "stream",
          "name": "stdout",
          "text": [
            "The set after removing the element is: {1, 2, 4, 5}\n"
          ]
        }
      ]
    },
    {
      "cell_type": "markdown",
      "source": [
        "32. Compare two sets."
      ],
      "metadata": {
        "id": "BXPjPSHsT7sx"
      },
      "id": "BXPjPSHsT7sx"
    },
    {
      "cell_type": "code",
      "source": [
        "set1 = {1, 2, 3}\n",
        "set2 = {1, 2, 3}\n",
        "print(f\"Are set1 and set2 equal? {set1 == set2}\")\n"
      ],
      "metadata": {
        "id": "0x-Q5J4OT8Bt",
        "colab": {
          "base_uri": "https://localhost:8080/"
        },
        "outputId": "8e608b45-640d-4dc4-bd9a-ceac6c46377b"
      },
      "id": "0x-Q5J4OT8Bt",
      "execution_count": 50,
      "outputs": [
        {
          "output_type": "stream",
          "name": "stdout",
          "text": [
            "Are set1 and set2 equal? True\n"
          ]
        }
      ]
    },
    {
      "cell_type": "markdown",
      "source": [
        "33. Create a set from a string."
      ],
      "metadata": {
        "id": "QzfnQFoaT8-b"
      },
      "id": "QzfnQFoaT8-b"
    },
    {
      "cell_type": "code",
      "source": [
        "# Define the string\n",
        "s = \"Hello, World!\"\n",
        "\n",
        "# Create a set from the string\n",
        "my_set = set(s)\n",
        "\n",
        "print(f\"The created set is: {my_set}\")"
      ],
      "metadata": {
        "id": "WcxoPS3GT-Vm",
        "colab": {
          "base_uri": "https://localhost:8080/"
        },
        "outputId": "c273f993-e3b2-4832-8235-ed9e39478c63"
      },
      "id": "WcxoPS3GT-Vm",
      "execution_count": 51,
      "outputs": [
        {
          "output_type": "stream",
          "name": "stdout",
          "text": [
            "The created set is: {' ', ',', 'd', 'o', 'l', '!', 'r', 'W', 'e', 'H'}\n"
          ]
        }
      ]
    },
    {
      "cell_type": "markdown",
      "source": [
        "34. Convert a set of strings to a set of integers."
      ],
      "metadata": {
        "id": "LdjcVYSwT_NM"
      },
      "id": "LdjcVYSwT_NM"
    },
    {
      "cell_type": "code",
      "source": [
        "# Define the set of strings\n",
        "str_set = {\"1\", \"2\", \"3\", \"4\", \"5\"}\n",
        "\n",
        "# Convert the set of strings to a set of integers\n",
        "int_set = {int(i) for i in str_set}\n",
        "\n",
        "print(f\"The converted set is: {int_set}\")"
      ],
      "metadata": {
        "id": "KHzVSCR0UAiH",
        "colab": {
          "base_uri": "https://localhost:8080/"
        },
        "outputId": "6b809047-0de0-4786-dc14-036e17074d89"
      },
      "id": "KHzVSCR0UAiH",
      "execution_count": 52,
      "outputs": [
        {
          "output_type": "stream",
          "name": "stdout",
          "text": [
            "The converted set is: {1, 2, 3, 4, 5}\n"
          ]
        }
      ]
    },
    {
      "cell_type": "markdown",
      "source": [
        "35. Convert a set of integers to a set of strings.}"
      ],
      "metadata": {
        "id": "iSZxyPfcUBO8"
      },
      "id": "iSZxyPfcUBO8"
    },
    {
      "cell_type": "code",
      "source": [
        "# Define the set of integers\n",
        "int_set = {1, 2, 3, 4, 5}\n",
        "\n",
        "# Convert the set of integers to a set of strings\n",
        "str_set = {str(i) for i in int_set}\n",
        "\n",
        "print(f\"The converted set is: {str_set}\")\n"
      ],
      "metadata": {
        "id": "MxV0lU-DUCuw",
        "colab": {
          "base_uri": "https://localhost:8080/"
        },
        "outputId": "00327a09-c607-4d92-8650-368e2e4cdd09"
      },
      "id": "MxV0lU-DUCuw",
      "execution_count": 53,
      "outputs": [
        {
          "output_type": "stream",
          "name": "stdout",
          "text": [
            "The converted set is: {'3', '2', '4', '5', '1'}\n"
          ]
        }
      ]
    },
    {
      "cell_type": "markdown",
      "source": [
        "36. Create a set from a tuple."
      ],
      "metadata": {
        "id": "VYfnsoWMUEi7"
      },
      "id": "VYfnsoWMUEi7"
    },
    {
      "cell_type": "code",
      "source": [
        "# Define a tuple\n",
        "my_tuple = ('apple', 'banana', 'cherry')\n",
        "\n",
        "# Convert the tuple into a set\n",
        "my_set = set(my_tuple)\n",
        "\n",
        "print(my_set)"
      ],
      "metadata": {
        "id": "1gGDsJU-UE10",
        "colab": {
          "base_uri": "https://localhost:8080/"
        },
        "outputId": "0e11672e-10f3-4b8f-d024-f549650ffa6b"
      },
      "id": "1gGDsJU-UE10",
      "execution_count": 54,
      "outputs": [
        {
          "output_type": "stream",
          "name": "stdout",
          "text": [
            "{'apple', 'cherry', 'banana'}\n"
          ]
        }
      ]
    },
    {
      "cell_type": "markdown",
      "source": [
        "37. Convert a set to a tuple."
      ],
      "metadata": {
        "id": "0j5suJuAUHVG"
      },
      "id": "0j5suJuAUHVG"
    },
    {
      "cell_type": "code",
      "source": [
        "# Define a set\n",
        "my_set = {'apple', 'banana', 'cherry'}\n",
        "\n",
        "# Convert the set into a tuple\n",
        "my_tuple = tuple(my_set)\n",
        "\n",
        "print(my_tuple)"
      ],
      "metadata": {
        "id": "sM5RvGTPUHn4",
        "colab": {
          "base_uri": "https://localhost:8080/"
        },
        "outputId": "5545d51e-f644-4bbb-c936-681fa68c74e1"
      },
      "id": "sM5RvGTPUHn4",
      "execution_count": 55,
      "outputs": [
        {
          "output_type": "stream",
          "name": "stdout",
          "text": [
            "('apple', 'cherry', 'banana')\n"
          ]
        }
      ]
    },
    {
      "cell_type": "markdown",
      "source": [
        "38. Find the maximum value in a set."
      ],
      "metadata": {
        "id": "m8ZwogwNUINu"
      },
      "id": "m8ZwogwNUINu"
    },
    {
      "cell_type": "code",
      "source": [
        "# Define a set\n",
        "my_set = {1, 3, 2, 8, 5, 10}\n",
        "\n",
        "# Find the maximum value in the set\n",
        "max_value = max(my_set)\n",
        "\n",
        "print(max_value)"
      ],
      "metadata": {
        "id": "eF3C5A8wUJ5o",
        "colab": {
          "base_uri": "https://localhost:8080/"
        },
        "outputId": "77b92729-c148-4847-c852-a940b5fed487"
      },
      "id": "eF3C5A8wUJ5o",
      "execution_count": 56,
      "outputs": [
        {
          "output_type": "stream",
          "name": "stdout",
          "text": [
            "10\n"
          ]
        }
      ]
    },
    {
      "cell_type": "markdown",
      "source": [
        "39. Find the minimum value in a set."
      ],
      "metadata": {
        "id": "LwHvqkCVUKY9"
      },
      "id": "LwHvqkCVUKY9"
    },
    {
      "cell_type": "code",
      "source": [
        "# Define a set\n",
        "my_set = {1, 3, 2, 8, 5, 10}\n",
        "\n",
        "# Find the minimum value in the set\n",
        "min_value = min(my_set)\n",
        "\n",
        "print(min_value)"
      ],
      "metadata": {
        "id": "VNu_ejtvULuE",
        "colab": {
          "base_uri": "https://localhost:8080/"
        },
        "outputId": "ea3ad040-984e-44b3-c8fe-2d8ebcd16ea4"
      },
      "id": "VNu_ejtvULuE",
      "execution_count": 57,
      "outputs": [
        {
          "output_type": "stream",
          "name": "stdout",
          "text": [
            "1\n"
          ]
        }
      ]
    },
    {
      "cell_type": "markdown",
      "source": [
        "40. Create a set from user input."
      ],
      "metadata": {
        "id": "TDLzV6CUUMkS"
      },
      "id": "TDLzV6CUUMkS"
    },
    {
      "cell_type": "code",
      "source": [
        "# Ask the user for the size of the set\n",
        "size = int(input(\"Enter the size of the set: \"))\n",
        "\n",
        "# Initialize an empty list\n",
        "input_list = []\n",
        "\n",
        "# Take 'size' number of elements as input\n",
        "for i in range(size):\n",
        "    element = input(f\"Enter element {i+1}: \")\n",
        "    input_list.append(element)\n",
        "\n",
        "# Convert the list into a set\n",
        "my_set = set(input_list)\n",
        "\n",
        "print(my_set)\n"
      ],
      "metadata": {
        "id": "j3oI-O1vUN6V",
        "colab": {
          "base_uri": "https://localhost:8080/"
        },
        "outputId": "e7c073d9-82cc-4101-be7f-cbc49efb0fda"
      },
      "id": "j3oI-O1vUN6V",
      "execution_count": 59,
      "outputs": [
        {
          "output_type": "stream",
          "name": "stdout",
          "text": [
            "Enter the size of the set: 3\n",
            "Enter element 1: 2\n",
            "Enter element 2: 7\n",
            "Enter element 3: 9\n",
            "{'7', '2', '9'}\n"
          ]
        }
      ]
    },
    {
      "cell_type": "markdown",
      "source": [
        "41. Check if the intersection of two sets is empty."
      ],
      "metadata": {
        "id": "SfaTupTEUOqg"
      },
      "id": "SfaTupTEUOqg"
    },
    {
      "cell_type": "code",
      "source": [
        "# Define two sets\n",
        "set1 = {1, 2, 3, 4, 5}\n",
        "set2 = {6, 7, 8, 9, 10}\n",
        "\n",
        "# Find the intersection of the two sets\n",
        "intersection = set1 & set2\n",
        "\n",
        "# Check if the intersection is empty\n",
        "if not intersection:\n",
        "    print(\"The intersection is empty.\")\n",
        "else:\n",
        "    print(\"The intersection is not empty.\")\n"
      ],
      "metadata": {
        "id": "peu7YnoyURkh",
        "colab": {
          "base_uri": "https://localhost:8080/"
        },
        "outputId": "19a288e5-eabd-4596-a3e1-9a1620a81587"
      },
      "id": "peu7YnoyURkh",
      "execution_count": 60,
      "outputs": [
        {
          "output_type": "stream",
          "name": "stdout",
          "text": [
            "The intersection is empty.\n"
          ]
        }
      ]
    },
    {
      "cell_type": "markdown",
      "source": [
        "42. Create a set of the first 5 Fibonacci numbers."
      ],
      "metadata": {
        "id": "uPiLA3fXUSR6"
      },
      "id": "uPiLA3fXUSR6"
    },
    {
      "cell_type": "code",
      "source": [
        "# Initialize the first two Fibonacci numbers\n",
        "a, b = 0, 1\n",
        "\n",
        "# Initialize an empty set\n",
        "fib_set = set()\n",
        "\n",
        "# Add the first 5 Fibonacci numbers to the set\n",
        "for i in range(6):\n",
        "    fib_set.add(a)\n",
        "    a, b = b, a + b\n",
        "\n",
        "print(fib_set)\n"
      ],
      "metadata": {
        "id": "aR8CMgEoUTx_",
        "colab": {
          "base_uri": "https://localhost:8080/"
        },
        "outputId": "78968ae6-a9a0-4313-ee0c-08323850dcbc"
      },
      "id": "aR8CMgEoUTx_",
      "execution_count": 63,
      "outputs": [
        {
          "output_type": "stream",
          "name": "stdout",
          "text": [
            "{0, 1, 2, 3, 5}\n"
          ]
        }
      ]
    },
    {
      "cell_type": "markdown",
      "source": [
        "43. Remove duplicates from a list using sets."
      ],
      "metadata": {
        "id": "2zi3cFo6UUg0"
      },
      "id": "2zi3cFo6UUg0"
    },
    {
      "cell_type": "code",
      "source": [
        "# Define a list with duplicates\n",
        "my_list = [1, 2, 2, 3, 4, 4, 5, 5]\n",
        "\n",
        "# Convert the list into a set to remove duplicates\n",
        "my_set = set(my_list)\n",
        "\n",
        "# Convert the set back into a list\n",
        "my_list = list(my_set)\n",
        "\n",
        "print(my_list)\n"
      ],
      "metadata": {
        "id": "AeY2TELQUVzI",
        "colab": {
          "base_uri": "https://localhost:8080/"
        },
        "outputId": "6328e8c7-15c0-453f-a710-7667c8173427"
      },
      "id": "AeY2TELQUVzI",
      "execution_count": 64,
      "outputs": [
        {
          "output_type": "stream",
          "name": "stdout",
          "text": [
            "[1, 2, 3, 4, 5]\n"
          ]
        }
      ]
    },
    {
      "cell_type": "markdown",
      "source": [
        "44. Check if two sets have the same elements, regardless of their count."
      ],
      "metadata": {
        "id": "PyaFHB7IUWrG"
      },
      "id": "PyaFHB7IUWrG"
    },
    {
      "cell_type": "code",
      "source": [
        "# Define two sets\n",
        "set1 = {1, 2, 3, 4, 5}\n",
        "set2 = {5, 4, 3, 2, 1}\n",
        "\n",
        "# Check if the two sets have the same elements\n",
        "if set1 == set2:\n",
        "    print(\"The two sets have the same elements.\")\n",
        "else:\n",
        "    print(\"The two sets do not have the same elements.\")\n"
      ],
      "metadata": {
        "id": "KuepnznaUYLs",
        "colab": {
          "base_uri": "https://localhost:8080/"
        },
        "outputId": "5bfaf279-2062-4f20-86e8-0f7e49cfe5d6"
      },
      "id": "KuepnznaUYLs",
      "execution_count": 65,
      "outputs": [
        {
          "output_type": "stream",
          "name": "stdout",
          "text": [
            "The two sets have the same elements.\n"
          ]
        }
      ]
    },
    {
      "cell_type": "markdown",
      "source": [
        "45. Create a set of the first `n` powers of 2."
      ],
      "metadata": {
        "id": "RugUD4zcUcQL"
      },
      "id": "RugUD4zcUcQL"
    },
    {
      "cell_type": "code",
      "source": [
        "# Ask the user for the number of powers of 2\n",
        "n = int(input(\"Enter the number of powers of 2: \"))\n",
        "\n",
        "# Initialize an empty set\n",
        "powers_of_2 = set()\n",
        "\n",
        "# Add the first n powers of 2 to the set\n",
        "for i in range(n):\n",
        "    powers_of_2.add(2**i)\n",
        "\n",
        "print(powers_of_2)"
      ],
      "metadata": {
        "id": "pXWIs7hbUZzT",
        "colab": {
          "base_uri": "https://localhost:8080/"
        },
        "outputId": "5c8216af-5544-46a5-9b01-3c69ce2ba92a"
      },
      "id": "pXWIs7hbUZzT",
      "execution_count": 66,
      "outputs": [
        {
          "output_type": "stream",
          "name": "stdout",
          "text": [
            "Enter the number of powers of 2: 4\n",
            "{8, 1, 2, 4}\n"
          ]
        }
      ]
    },
    {
      "cell_type": "markdown",
      "source": [
        "46. Find the common elements between a set and a list."
      ],
      "metadata": {
        "id": "OHHQ2MveUfCI"
      },
      "id": "OHHQ2MveUfCI"
    },
    {
      "cell_type": "code",
      "source": [
        "# Define a set\n",
        "my_set = {1, 2, 3, 4, 5}\n",
        "\n",
        "# Define a list\n",
        "my_list = [4, 5, 6, 7, 8]\n",
        "\n",
        "# Convert the list into a set\n",
        "list_set = set(my_list)\n",
        "\n",
        "# Find the common elements\n",
        "common_elements = my_set & list_set\n",
        "\n",
        "print(common_elements)\n"
      ],
      "metadata": {
        "id": "qHhWjE2EUgqz",
        "colab": {
          "base_uri": "https://localhost:8080/"
        },
        "outputId": "ff2fd3ed-2fd4-4b0d-d740-3f1228e2be59"
      },
      "id": "qHhWjE2EUgqz",
      "execution_count": 67,
      "outputs": [
        {
          "output_type": "stream",
          "name": "stdout",
          "text": [
            "{4, 5}\n"
          ]
        }
      ]
    },
    {
      "cell_type": "markdown",
      "source": [
        "47. Create a set of the first `n` triangular numbers."
      ],
      "metadata": {
        "id": "6L_NzW8fUh4V"
      },
      "id": "6L_NzW8fUh4V"
    },
    {
      "cell_type": "code",
      "source": [
        "# Ask the user for the number of triangular numbers\n",
        "n = int(input(\"Enter the number of triangular numbers: \"))\n",
        "\n",
        "# Initialize an empty set\n",
        "triangular_numbers = set()\n",
        "\n",
        "# Add the first n triangular numbers to the set\n",
        "for i in range(1, n+1):\n",
        "    triangular_numbers.add(i*(i+1)//2)\n",
        "\n",
        "print(triangular_numbers)\n"
      ],
      "metadata": {
        "id": "3idYl8QkUjW7",
        "colab": {
          "base_uri": "https://localhost:8080/"
        },
        "outputId": "bdf67dca-a1e3-4042-abce-ab541cad2009"
      },
      "id": "3idYl8QkUjW7",
      "execution_count": 68,
      "outputs": [
        {
          "output_type": "stream",
          "name": "stdout",
          "text": [
            "Enter the number of triangular numbers: 3\n",
            "{1, 3, 6}\n"
          ]
        }
      ]
    },
    {
      "cell_type": "markdown",
      "source": [
        "48. Check if a set contains another set as a subset."
      ],
      "metadata": {
        "id": "mqzX2LQwUkLx"
      },
      "id": "mqzX2LQwUkLx"
    },
    {
      "cell_type": "code",
      "source": [
        "# Define two sets\n",
        "set1 = {1, 2, 3, 4, 5}\n",
        "set2 = {2, 3, 4}\n",
        "\n",
        "# Check if set1 contains set2 as a subset using the issubset() method\n",
        "if set2.issubset(set1):\n",
        "    print(\"Set1 contains Set2 as a subset.\")\n",
        "else:\n",
        "    print(\"Set1 does not contain Set2 as a subset.\")\n"
      ],
      "metadata": {
        "id": "M5IARL1hUmQ0",
        "colab": {
          "base_uri": "https://localhost:8080/"
        },
        "outputId": "fa3a007c-2f62-4a5f-f457-add881136bee"
      },
      "id": "M5IARL1hUmQ0",
      "execution_count": 70,
      "outputs": [
        {
          "output_type": "stream",
          "name": "stdout",
          "text": [
            "Set1 contains Set2 as a subset.\n"
          ]
        }
      ]
    },
    {
      "cell_type": "markdown",
      "source": [
        "49. Create a set of alternating 1s and 0s of length `n`."
      ],
      "metadata": {
        "id": "HHl-iA61Um_-"
      },
      "id": "HHl-iA61Um_-"
    },
    {
      "cell_type": "code",
      "source": [
        "# Ask the user for the length of the list\n",
        "n = int(input(\"Enter the length of the list: \"))\n",
        "\n",
        "# Create a list of alternating 1s and 0s of length n\n",
        "my_list = [i % 2 for i in range(n)]\n",
        "\n",
        "print(my_list)\n"
      ],
      "metadata": {
        "id": "fCnltEHeUoZx",
        "colab": {
          "base_uri": "https://localhost:8080/"
        },
        "outputId": "543240c1-3307-421c-8881-3ef96e337c2f"
      },
      "id": "fCnltEHeUoZx",
      "execution_count": 71,
      "outputs": [
        {
          "output_type": "stream",
          "name": "stdout",
          "text": [
            "Enter the length of the list: 3\n",
            "[0, 1, 0]\n"
          ]
        }
      ]
    },
    {
      "cell_type": "markdown",
      "source": [
        "50. Merge multiple sets into one."
      ],
      "metadata": {
        "id": "MPeBYhreUpFQ"
      },
      "id": "MPeBYhreUpFQ"
    },
    {
      "cell_type": "code",
      "source": [
        "# Define three sets\n",
        "set1 = {1, 2, 3}\n",
        "set2 = {3, 4, 5}\n",
        "set3 = {5, 6, 7}\n",
        "\n",
        "# Merge the sets using the union() method\n",
        "merged_set = set1.union(set2, set3)\n",
        "\n",
        "print(merged_set)"
      ],
      "metadata": {
        "id": "AYy9Ww0ZUqed",
        "colab": {
          "base_uri": "https://localhost:8080/"
        },
        "outputId": "f3a5d31d-4848-4969-8e59-3e9f247814c2"
      },
      "id": "AYy9Ww0ZUqed",
      "execution_count": 73,
      "outputs": [
        {
          "output_type": "stream",
          "name": "stdout",
          "text": [
            "{1, 2, 3, 4, 5, 6, 7}\n"
          ]
        }
      ]
    },
    {
      "cell_type": "code",
      "source": [],
      "metadata": {
        "id": "SbLRgS_CudPB"
      },
      "id": "SbLRgS_CudPB",
      "execution_count": null,
      "outputs": []
    }
  ],
  "metadata": {
    "kernelspec": {
      "display_name": "Python 3 (ipykernel)",
      "language": "python",
      "name": "python3"
    },
    "language_info": {
      "codemirror_mode": {
        "name": "ipython",
        "version": 3
      },
      "file_extension": ".py",
      "mimetype": "text/x-python",
      "name": "python",
      "nbconvert_exporter": "python",
      "pygments_lexer": "ipython3",
      "version": "3.12.0"
    },
    "colab": {
      "provenance": [],
      "include_colab_link": true
    }
  },
  "nbformat": 4,
  "nbformat_minor": 5
}