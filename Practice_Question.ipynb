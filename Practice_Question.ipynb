{
  "cells": [
    {
      "cell_type": "code",
      "execution_count": 1,
      "metadata": {
        "colab": {
          "base_uri": "https://localhost:8080/",
          "height": 362
        },
        "id": "Q1nqDQI3WZpx",
        "outputId": "40fd830b-a5cf-4cf3-f767-3ba8b68bdcac"
      },
      "outputs": [],
      "source": [
        "import numpy as np\n",
        "import pandas as pd\n",
        "pd.set_option('display.max_rows', None)"
      ]
    },
    {
      "cell_type": "markdown",
      "metadata": {
        "id": "oLro66GEUOfl"
      },
      "source": [
        "1. Demonstrate three different methods for creating identical 2D arrays in NumPy. Provide the code for each\n",
        "method and the final output after each method"
      ]
    },
    {
      "cell_type": "code",
      "execution_count": 2,
      "metadata": {
        "colab": {
          "base_uri": "https://localhost:8080/"
        },
        "id": "SP4PdQ50UXrM",
        "outputId": "38a640e7-60a1-4e89-ecb5-9c7cbfa5e3e1"
      },
      "outputs": [
        {
          "data": {
            "text/plain": [
              "array([[1, 2],\n",
              "       [3, 4]])"
            ]
          },
          "execution_count": 2,
          "metadata": {},
          "output_type": "execute_result"
        }
      ],
      "source": [
        "arr = np.array([[1,2],[3,4]])\n",
        "arr"
      ]
    },
    {
      "cell_type": "code",
      "execution_count": 3,
      "metadata": {
        "colab": {
          "base_uri": "https://localhost:8080/"
        },
        "id": "KYZJ2KYBWYug",
        "outputId": "e96cd7a3-9918-4841-a9be-9819241f2a9e"
      },
      "outputs": [
        {
          "data": {
            "text/plain": [
              "array([[0., 0.],\n",
              "       [0., 0.]])"
            ]
          },
          "execution_count": 3,
          "metadata": {},
          "output_type": "execute_result"
        }
      ],
      "source": [
        "zeros_array = np.zeros((2, 2))\n",
        "zeros_array"
      ]
    },
    {
      "cell_type": "code",
      "execution_count": 4,
      "metadata": {
        "colab": {
          "base_uri": "https://localhost:8080/"
        },
        "id": "_KII6dG-XDb2",
        "outputId": "458c088c-0889-42a5-8fbe-5ca189a0cb8e"
      },
      "outputs": [
        {
          "data": {
            "text/plain": [
              "array([[1., 1.],\n",
              "       [1., 1.]])"
            ]
          },
          "execution_count": 4,
          "metadata": {},
          "output_type": "execute_result"
        }
      ],
      "source": [
        "ones_array = np.ones((2, 2))\n",
        "ones_array"
      ]
    },
    {
      "cell_type": "markdown",
      "metadata": {
        "id": "IHzc6eGDXMyg"
      },
      "source": [
        " 2. Using the Numpy function, generate an array of 100 evenly spaced numbers between 1 and 10 and\n",
        "Reshape that 1D array into a 2D array"
      ]
    },
    {
      "cell_type": "code",
      "execution_count": 5,
      "metadata": {
        "colab": {
          "base_uri": "https://localhost:8080/"
        },
        "id": "_ci-JEd-XHyT",
        "outputId": "ba8be74c-10f9-440c-ffa0-d72cd7bc4a85"
      },
      "outputs": [
        {
          "data": {
            "text/plain": [
              "array([[ 1.        ,  1.09090909,  1.18181818,  1.27272727,  1.36363636,\n",
              "         1.45454545,  1.54545455,  1.63636364,  1.72727273,  1.81818182],\n",
              "       [ 1.90909091,  2.        ,  2.09090909,  2.18181818,  2.27272727,\n",
              "         2.36363636,  2.45454545,  2.54545455,  2.63636364,  2.72727273],\n",
              "       [ 2.81818182,  2.90909091,  3.        ,  3.09090909,  3.18181818,\n",
              "         3.27272727,  3.36363636,  3.45454545,  3.54545455,  3.63636364],\n",
              "       [ 3.72727273,  3.81818182,  3.90909091,  4.        ,  4.09090909,\n",
              "         4.18181818,  4.27272727,  4.36363636,  4.45454545,  4.54545455],\n",
              "       [ 4.63636364,  4.72727273,  4.81818182,  4.90909091,  5.        ,\n",
              "         5.09090909,  5.18181818,  5.27272727,  5.36363636,  5.45454545],\n",
              "       [ 5.54545455,  5.63636364,  5.72727273,  5.81818182,  5.90909091,\n",
              "         6.        ,  6.09090909,  6.18181818,  6.27272727,  6.36363636],\n",
              "       [ 6.45454545,  6.54545455,  6.63636364,  6.72727273,  6.81818182,\n",
              "         6.90909091,  7.        ,  7.09090909,  7.18181818,  7.27272727],\n",
              "       [ 7.36363636,  7.45454545,  7.54545455,  7.63636364,  7.72727273,\n",
              "         7.81818182,  7.90909091,  8.        ,  8.09090909,  8.18181818],\n",
              "       [ 8.27272727,  8.36363636,  8.45454545,  8.54545455,  8.63636364,\n",
              "         8.72727273,  8.81818182,  8.90909091,  9.        ,  9.09090909],\n",
              "       [ 9.18181818,  9.27272727,  9.36363636,  9.45454545,  9.54545455,\n",
              "         9.63636364,  9.72727273,  9.81818182,  9.90909091, 10.        ]])"
            ]
          },
          "execution_count": 5,
          "metadata": {},
          "output_type": "execute_result"
        }
      ],
      "source": [
        "evenly_shaped_array = np.linspace(1,10,100)\n",
        "reshaped_array = np.reshape(evenly_shaped_array,(10,10))\n",
        "reshaped_array"
      ]
    },
    {
      "cell_type": "markdown",
      "metadata": {
        "id": "PRaxaFdTaZUw"
      },
      "source": [
        "3. Explain the following terms:\n",
        "\n",
        "1.   The difference in np.array, np.asarray and np.asanyarray.\n",
        "2.   The difference between Deep copy and shallow copy"
      ]
    },
    {
      "cell_type": "markdown",
      "metadata": {
        "id": "2HrULM4Eb7WT"
      },
      "source": [
        "1.The difference in np.array, np.asarray and np.asanyarray.\n",
        "\n",
        "* np.array():\n",
        "  - Converts input data into a NumPy ndarray, the data must be in python list, tuple, or another sequence type\n",
        "  - By default it makes a copy of the input data\n",
        "  - if you pass a python list it creates a new ndarray with the same data\n",
        "  ```\n",
        "my_list = [1, 2, 3]\n",
        "arr = np.array(my_list)\n",
        "```\n",
        "* np.asarray():\n",
        "  - it also converts data to a Numpy ndarray.\n",
        "  - unlike np.array, it does not make a copy if the input is already an ndarray.\n",
        "  - If the input is already an ndarray, it returns the same array (no copy).\n",
        "  ```\n",
        "existing_array = np.array([4, 5, 6])\n",
        "arr_asarray = np.asarray(existing_array)\n",
        "```\n",
        "* np.asanyarray():\n",
        "  - Similar to np.asarray, but with an additional feature\n",
        "  - If the input is a subclass of ndarray (e.g., a matrix), it returns the same subclass (no copy).\n",
        "  - Otherwise, it behaves like np.asarray.\n",
        "  ```\n",
        "my_matrix = np.matrix([[1, 2], [3, 4]])\n",
        "arr_asanyarray = np.asanyarray(my_matrix)  # No copy, same matrix\n",
        "```\n",
        "\n",
        "2.Deep Copy vs. Shallow Copy:\n",
        " - Shallow Copy:\n",
        "- A shallow copy creates a new object, but it shares the data with the original object.\n",
        "- Changes made to the elements in the copy affect the original, and vice versa.\n",
        "- In Python, shallow copies are typically created using slicing, copy() method, or copy module.\n",
        "  ```\n",
        "original_list = [1, 2, 3]\n",
        "shallow_copy = original_list[:]\n",
        "shallow_copy[0] = 99  \n",
        "```\n",
        "\n",
        "\n",
        "\n",
        "\n",
        "\n",
        "\n",
        "\n",
        "\n",
        "- Deep Copy:\n",
        "  - A deep copy creates a completely independent copy with its own data.\n",
        "  - Changes made to the elements in the copy do not affect the original, and vice versa.\n",
        "  - In Python, deep copies are typically created using copy.deepcopy() or custom functions.\n",
        "  ```\n",
        "import copy\n",
        "original_list = [1, 2, 3]\n",
        "deep_copy = copy.deepcopy(original_list)  # Deep copy\n",
        "deep_copy[0] = 99  # Modifies only deep_copy, not original_list\n",
        "```\n",
        "\n",
        "\n",
        "\n",
        "\n",
        "\n",
        "\n",
        "\n",
        "\n",
        "\n",
        "\n",
        "\n",
        "\n",
        "\n",
        "\n",
        "\n",
        "\n",
        "\n",
        "\n",
        "  \n",
        "\n",
        "\n",
        "\n",
        "\n"
      ]
    },
    {
      "cell_type": "markdown",
      "metadata": {
        "id": "eaijtzc3gpDP"
      },
      "source": [
        "4. Generate a 3x3 array with random floating-point numbers between 5 and 20. then, round each number in\n",
        "the array to 2 decimal places."
      ]
    },
    {
      "cell_type": "code",
      "execution_count": 6,
      "metadata": {
        "colab": {
          "base_uri": "https://localhost:8080/"
        },
        "id": "ciHJ2T-qgZLj",
        "outputId": "889d0440-286b-432c-d35c-4ae54129a5fd"
      },
      "outputs": [
        {
          "data": {
            "text/plain": [
              "array([[14.96,  7.89, 12.79],\n",
              "       [ 6.52, 16.95,  8.23],\n",
              "       [16.48,  6.4 , 18.29]])"
            ]
          },
          "execution_count": 6,
          "metadata": {},
          "output_type": "execute_result"
        }
      ],
      "source": [
        "random_array = np.random.uniform(5, 20, size=(3, 3))\n",
        "rounded_array = np.round(random_array, 2)\n",
        "rounded_array"
      ]
    },
    {
      "cell_type": "markdown",
      "metadata": {
        "id": "4kKnZhNChR8d"
      },
      "source": [
        "5. Create a NumPy array with random integers between 1 and 10 of shape (5,6 ). After creating the array perform the following operations:\n",
        "\n",
        " a)Extract all even integers from array.\n",
        "\n",
        " b)Extract all odd integers from array"
      ]
    },
    {
      "cell_type": "code",
      "execution_count": 7,
      "metadata": {
        "colab": {
          "base_uri": "https://localhost:8080/"
        },
        "id": "g7ewQ3EhhLd8",
        "outputId": "6f7dd6dd-95b9-447e-ca0f-fcc6fc71fc83"
      },
      "outputs": [
        {
          "name": "stdout",
          "output_type": "stream",
          "text": [
            "[[ 6  7  8  9  4  3]\n",
            " [10  1  3  9  3  8]\n",
            " [ 7  2  7  4  1  1]\n",
            " [ 6  4 10 10  8  1]\n",
            " [ 8  9  1  2  8  5]]\n",
            "The even integers = [ 6  8  4 10  8  2  4  6  4 10 10  8  8  2  8]\n",
            "The odd integers = [7 9 3 1 3 9 3 7 7 1 1 1 9 1 5]\n"
          ]
        }
      ],
      "source": [
        "random_integers_array = np.random.randint(1, 11, size=(5, 6))\n",
        "print(random_integers_array)\n",
        "even_integers = random_integers_array[random_integers_array % 2 == 0]\n",
        "odd_integers = random_integers_array[random_integers_array % 2 != 0]\n",
        "print(f\"The even integers = {even_integers}\")\n",
        "print(f\"The odd integers = {odd_integers}\")"
      ]
    },
    {
      "cell_type": "markdown",
      "metadata": {
        "id": "ZBAPcGf-igZH"
      },
      "source": [
        "6. Create a 3D NumPy array of shape (3, 3, 3) containing random integers Petween 1 and 10 Perform the\n",
        "following operations:\n",
        "\n",
        " a) Find the indices of the maximum values along each depth level (third axis).\n",
        "\n",
        " b) Perform element-wise multiplication of between both array."
      ]
    },
    {
      "cell_type": "code",
      "execution_count": 8,
      "metadata": {
        "colab": {
          "base_uri": "https://localhost:8080/"
        },
        "id": "214L1gVLiR69",
        "outputId": "867b83d5-8b53-4132-d715-623140bff487"
      },
      "outputs": [
        {
          "name": "stdout",
          "output_type": "stream",
          "text": [
            "random_integers_array\n",
            "[[[ 1  9  8]\n",
            "  [ 7  2  9]\n",
            "  [ 5  8  9]]\n",
            "\n",
            " [[10 10  8]\n",
            "  [ 1  2  2]\n",
            "  [ 3 10  1]]\n",
            "\n",
            " [[ 1  7  7]\n",
            "  [ 2  2  5]\n",
            "  [10  7  4]]]\n",
            "1.indices of the maximum values along each depth level (third axis)\n",
            "[[1 2 2]\n",
            " [0 1 1]\n",
            " [1 2 0]]\n",
            "2.element-wise multiplication of between both array.\n",
            "[[[ 1 18 16]\n",
            "  [ 0  2  9]\n",
            "  [ 5 16  0]]\n",
            "\n",
            " [[10 20 16]\n",
            "  [ 0  2  2]\n",
            "  [ 3 20  0]]\n",
            "\n",
            " [[ 1 14 14]\n",
            "  [ 0  2  5]\n",
            "  [10 14  0]]]\n"
          ]
        }
      ],
      "source": [
        "random_integers_array = np.random.randint(1, 11, size=(3, 3, 3))\n",
        "print(f\"random_integers_array\\n{random_integers_array}\")\n",
        "max_indices = np.argmax(random_integers_array, axis=2)\n",
        "print(f\"1.indices of the maximum values along each depth level (third axis)\\n{max_indices}\")\n",
        "multiplied_array = random_integers_array * max_indices\n",
        "print(f\"2.element-wise multiplication of between both array.\\n{multiplied_array}\")"
      ]
    },
    {
      "cell_type": "markdown",
      "metadata": {
        "id": "Smv7bzqTkWJt"
      },
      "source": [
        "7. Clean and transform the 'Phone' column in the sample dataset to remove non-numeric characters and\n",
        "convert it to a numeric data type. Also display the table attributes and data types of each column."
      ]
    },
    {
      "cell_type": "code",
      "execution_count": 9,
      "metadata": {
        "id": "cwbE5aoejLPg"
      },
      "outputs": [
        {
          "data": {
            "text/plain": [
              "count                    979.0\n",
              "mean     185206235974615.65625\n",
              "std       419643657018319.4375\n",
              "min                     1081.0\n",
              "25%               7022853966.5\n",
              "50%            6946620505445.0\n",
              "75%           91607370501156.5\n",
              "max         1944627061259590.0\n",
              "Name: Phone, dtype: Float64"
            ]
          },
          "execution_count": 9,
          "metadata": {},
          "output_type": "execute_result"
        }
      ],
      "source": [
        "url = 'https://drive.google.com/file/d/13x8f8HNKieSRAzxTIzAojaYp8Up8cefk/view?usp=sharing'\n",
        "\n",
        "# Extract the file ID from the URL\n",
        "file_id = url.split('/')[-2]\n",
        "\n",
        "# Construct the download URL\n",
        "download_url = f'https://drive.google.com/uc?export=download&id={file_id}'\n",
        "df = pd.read_csv(download_url)\n",
        "df[\"Phone\"] = df['Phone'].str.replace(r'\\D', '', regex=True)\n",
        "\n",
        "df[\"Phone\"] = pd.to_numeric(df['Phone'],errors='coerce')\n",
        "df['Phone'] = df['Phone'].astype('Int64')\n",
        "df[\"Phone\"].describe()"
      ]
    },
    {
      "cell_type": "markdown",
      "metadata": {},
      "source": [
        "8. Perform the following tasks using people dataset:\n",
        "\n",
        " a) Read the 'data.csv' file using pandas, skipping the first 50 rows.\n",
        "\n",
        " b) Only read the columns: 'Last Name', ‘Gender’,’Email’,‘Phone’ and ‘Salary’ from the file.\n",
        "\n",
        " c) Display the first 10 rows of the filtered dataset.\n",
        "\n",
        " d) Extract the ‘Salary’' column as a Series and display its last 5 values"
      ]
    },
    {
      "cell_type": "code",
      "execution_count": 10,
      "metadata": {},
      "outputs": [
        {
          "name": "stdout",
          "output_type": "stream",
          "text": [
            "First 10 rows of the filtered data:\n",
            "  Last Name  Gender                       Email                Phone  Salary\n",
            "0     Ayala    Male          ncantu@example.com           8629884096   60000\n",
            "1      Huff    Male        kristy41@example.net  +1-041-859-3844x272  100000\n",
            "2    Barnes  Female        brandy23@example.com   801.809.9181x37308   85000\n",
            "3      Lowe  Female           dleon@example.org  +1-511-127-6660x230   50000\n",
            "4     Davis    Male       latasha46@example.org         903.545.8947   70000\n",
            "5    Abbott  Female  stricklandomar@example.org    (416)979-0633x058  100000\n",
            "6  Mckinney    Male      twilkinson@example.com    244-054-8521x1913   70000\n",
            "7    Macias  Female     dorothymeza@example.com   (929)366-8549x3587   70000\n",
            "8   Jenkins  Female        estesana@example.org        (973)243-9193   70000\n",
            "9   Mcmahon  Female       allison66@example.net   060-611-9377x90160   60000\n",
            "\n",
            "Last 5 values of the 'Salary' column:\n",
            "985     90000\n",
            "986     50000\n",
            "987     60000\n",
            "988    100000\n",
            "989     90000\n",
            "Name: Salary, dtype: int64\n"
          ]
        }
      ],
      "source": [
        "df1 = pd.read_csv(download_url,skiprows=range(1,11))\n",
        "selected_columns = ['Last Name', 'Gender', 'Email', 'Phone', 'Salary']\n",
        "filtered_df = df1[selected_columns]\n",
        "\n",
        "print(\"First 10 rows of the filtered data:\")\n",
        "print(filtered_df.head(10))\n",
        "salary_series = filtered_df['Salary']\n",
        "print(\"\\nLast 5 values of the 'Salary' column:\")\n",
        "print(salary_series.tail(5))"
      ]
    },
    {
      "cell_type": "markdown",
      "metadata": {},
      "source": [
        "9. Filter and select rows from the People_Dataset, where the “Last Name' column contains the name 'Duke',  \n",
        "'Gender' column contains the word Female and ‘Salary’ should be less than 85000"
      ]
    },
    {
      "cell_type": "code",
      "execution_count": 11,
      "metadata": {},
      "outputs": [
        {
          "name": "stdout",
          "output_type": "stream",
          "text": [
            "     Index          User Id First Name Last Name  Gender  \\\n",
            "45      46  99A502C175C4EBd     Olivia      Duke  Female   \n",
            "210    211  DF17975CC0a0373    Katrina      Duke  Female   \n",
            "457    458  dcE1B7DE83c1076      Traci      Duke  Female   \n",
            "729    730  c9b482D7aa3e682     Lonnie      Duke  Female   \n",
            "\n",
            "                        Email                   Phone Date of birth  \\\n",
            "45        diana26@example.net  001-366-475-8607x04350    13-10-1934   \n",
            "210       robin78@example.com            740.434.0212    21-09-1935   \n",
            "457  perryhoffman@example.org     +1-903-596-0995x489    11-02-1997   \n",
            "729   kevinkramer@example.net            982.692.6257    12-05-2015   \n",
            "\n",
            "           Job Title  Salary  \n",
            "45           Dentist   60000  \n",
            "210  Producer, radio   50000  \n",
            "457        Herbalist   50000  \n",
            "729     Nurse, adult   70000  \n"
          ]
        }
      ],
      "source": [
        "import pandas as pd\n",
        "\n",
        "# Read the CSV file\n",
        "df = pd.read_csv(download_url)\n",
        "\n",
        "# Filter by Last Name\n",
        "filtered_df = df[df['Last Name'].str.contains('Duke', case=False)]\n",
        "\n",
        "# Filter by Gender\n",
        "filtered_df = filtered_df[filtered_df['Gender'].str.lower() == 'female']\n",
        "\n",
        "# Filter by Salary\n",
        "filtered_df = filtered_df[filtered_df['Salary'] < 85000]\n",
        "\n",
        "# Display the filtered DataFrame\n",
        "print(filtered_df)\n"
      ]
    },
    {
      "cell_type": "markdown",
      "metadata": {},
      "source": [
        "10. Create a 7*5 Dataframe in Pandas using a series generated from 35 random integers between 1 to 6"
      ]
    },
    {
      "cell_type": "code",
      "execution_count": 12,
      "metadata": {},
      "outputs": [
        {
          "name": "stdout",
          "output_type": "stream",
          "text": [
            "   0  1  2  3  4\n",
            "0  5  5  4  2  3\n",
            "1  4  3  5  4  2\n",
            "2  4  1  4  1  2\n",
            "3  5  4  1  1  6\n",
            "4  1  4  3  3  5\n",
            "5  1  5  5  5  1\n",
            "6  6  2  4  5  6\n"
          ]
        }
      ],
      "source": [
        "import pandas as pd\n",
        "import numpy as np\n",
        "\n",
        "# Generate 35 random integers between 1 and 6\n",
        "random_integers = np.random.randint(1, 7, size=35)\n",
        "\n",
        "# Reshape the array into a 7x5 DataFrame\n",
        "df = pd.DataFrame(random_integers.reshape(7, 5))\n",
        "\n",
        "# View the DataFrame\n",
        "print(df)\n"
      ]
    },
    {
      "cell_type": "markdown",
      "metadata": {},
      "source": [
        "11. Create two different Series, each of length 50, with the following criteria:\n",
        "\n",
        "a) The first Series should contain random numbers ranging from 10 to 50.\n",
        "\n",
        "b) The second Series should contain random numbers ranging from 100 to 1000.\n",
        "\n",
        "c) Create a DataFrame by joining these Series by column, and, change the names of the columns to 'col1', 'col2', \n",
        "etc."
      ]
    },
    {
      "cell_type": "code",
      "execution_count": 13,
      "metadata": {},
      "outputs": [
        {
          "name": "stdout",
          "output_type": "stream",
          "text": [
            "    col1  col2\n",
            "0     41   152\n",
            "1     32   799\n",
            "2     19   617\n",
            "3     43   274\n",
            "4     48   717\n",
            "5     17   513\n",
            "6     24   169\n",
            "7     28   522\n",
            "8     22   800\n",
            "9     38   973\n",
            "10    18   226\n",
            "11    21   938\n",
            "12    42   409\n",
            "13    32   761\n",
            "14    11   762\n",
            "15    17   225\n",
            "16    44   447\n",
            "17    42   924\n",
            "18    17   618\n",
            "19    26   934\n",
            "20    36   435\n",
            "21    40   197\n",
            "22    36   838\n",
            "23    13   954\n",
            "24    22   721\n",
            "25    34   755\n",
            "26    15   350\n",
            "27    32   613\n",
            "28    50   224\n",
            "29    36   342\n",
            "30    21   629\n",
            "31    43   512\n",
            "32    23   514\n",
            "33    25   305\n",
            "34    45   571\n",
            "35    22   448\n",
            "36    34   542\n",
            "37    25   680\n",
            "38    30   973\n",
            "39    29   466\n",
            "40    32   948\n",
            "41    46   306\n",
            "42    39   461\n",
            "43    24   953\n",
            "44    35   449\n",
            "45    22   448\n",
            "46    45   502\n",
            "47    42   647\n",
            "48    38   777\n",
            "49    27   485\n"
          ]
        }
      ],
      "source": [
        "import pandas as pd\n",
        "import numpy as np\n",
        "\n",
        "# Create the first Series with random numbers between 10 and 50\n",
        "series1 = pd.Series(np.random.randint(10, 51, size=50))\n",
        "\n",
        "# Create the second Series with random numbers between 100 and 1000\n",
        "series2 = pd.Series(np.random.randint(100, 1001, size=50))\n",
        "\n",
        "# Combine the Series into a DataFrame\n",
        "df = pd.DataFrame({'col1': series1, 'col2': series2})\n",
        "\n",
        "# Display the DataFrame\n",
        "print(df)\n"
      ]
    },
    {
      "cell_type": "markdown",
      "metadata": {},
      "source": [
        "12. Perform the following operations using people data set:\n",
        "\n",
        "a) Delete the 'Email', 'Phone', and 'Date of birth' columns from the dataset.\n",
        "\n",
        "b) Delete the rows containing any missing values.\n",
        "\n",
        "d) Print the final output also"
      ]
    },
    {
      "cell_type": "code",
      "execution_count": 14,
      "metadata": {},
      "outputs": [
        {
          "name": "stdout",
          "output_type": "stream",
          "text": [
            "     Index          User Id   First Name    Last Name  Gender  \\\n",
            "0        1  8717bbf45cCDbEe       Shelia      Mahoney    Male   \n",
            "1        2  3d5AD30A4cD38ed           Jo       Rivers  Female   \n",
            "2        3  810Ce0F276Badec       Sheryl       Lowery  Female   \n",
            "3        4  BF2a889C00f0cE1      Whitney       Hooper    Male   \n",
            "4        5  9afFEafAe1CBBB9      Lindsey         Rice  Female   \n",
            "5        6  aF75e6dDEBC5b66       Sherry     Caldwell    Male   \n",
            "6        7  efeb05c7Cc94EA3       Ernest      Hoffman    Male   \n",
            "7        8  fb1BF3FED57E9d7        Doris     Andersen    Male   \n",
            "8        9  421fAB9a3b98F30       Cheryl         Mays    Male   \n",
            "9       10  4A42Fe10dB717CB        Harry     Mitchell    Male   \n",
            "10      11  44FAA9C3CE8DB2B        Casey        Ayala    Male   \n",
            "11      12  86cCc6417942b4B         Sara         Huff    Male   \n",
            "12      13  CDA21B6e83Cafe3        Eddie       Barnes  Female   \n",
            "13      14  1CC30c5F204332e        Ralph         Lowe  Female   \n",
            "14      15  b4bE3BfBfeBC29e    Priscilla        Davis    Male   \n",
            "15      16  bFCFDdE5491caE8        Carly       Abbott  Female   \n",
            "16      17  cEfCEAB1306DbCb      Nicolas     Mckinney    Male   \n",
            "17      18  aCefF56E59aAf75      Natasha       Macias  Female   \n",
            "18      19  CF091D6b9Dd4F9c     Courtney      Jenkins  Female   \n",
            "19      20  462EF46dcaab6EC        Perry      Mcmahon  Female   \n",
            "20      21  7B247Ca7BbA098d        Emily       Travis    Male   \n",
            "21      22  dCdadA2bCcFFEAE       Meghan      Hawkins    Male   \n",
            "22      23  d62fFce33bbccAC       Ernest     Oconnell    Male   \n",
            "23      24  3Cb9Fe3aB463dba       Norman       Walton  Female   \n",
            "24      25  be6BBa9EBFeBFcc        Roger      Sweeney  Female   \n",
            "25      26  a902eE5EABd77DE        Ethan           Wu    Male   \n",
            "26      27  EEA3bcfe1c7aEAf    Catherine        Myers    Male   \n",
            "27      28  2Ab20Ed8CfE2D71    Catherine         Nash  Female   \n",
            "28      29  EC9BCcb3ccEAdE9        Corey      Delgado    Male   \n",
            "29      30  d6203591c7BEB4F       Hunter         Hahn  Female   \n",
            "30      31  f67cb59Eea96a23       Dakota        Gomez    Male   \n",
            "31      32  94c6aF7DEe2Ad7A    Nathaniel       Clarke  Female   \n",
            "32      33  b1DC89E2d73F0b4        Marco        Reyes    Male   \n",
            "33      34  FECAedB175FD9f4         Todd        Weber    Male   \n",
            "34      35  CB41aabFbB8AdDa        Bryan       Vaughn    Male   \n",
            "35      36  BcdffBD402E5A23     Adrienne      Lambert    Male   \n",
            "36      37  b00f07E8F6Ecf6e         Seth         Hess    Male   \n",
            "37      38  8b8Aab259B2a00D     Stefanie      Sherman    Male   \n",
            "38      39  D060A3eacFBFAEE         Kent        Velez    Male   \n",
            "39      40  DFAB00C01CcF860       Angela         Huff    Male   \n",
            "40      41  aDB35cb99a88358        Harry        Moore  Female   \n",
            "41      42  0269CdeD7B3C8B0   Kristopher       Barnes    Male   \n",
            "42      43  ddd2B9CcEBEe00E      Rachael      Herrera    Male   \n",
            "43      44  355e6511Fa0ff55      Vincent       Berger  Female   \n",
            "44      45  F2f91586dA8f7f5          Don       Bolton    Male   \n",
            "45      46  99A502C175C4EBd       Olivia         Duke  Female   \n",
            "46      47  eEF6Cf6C10b1446         Erik      Rosales  Female   \n",
            "47      48  3eD5c0dDBD0a7DC       Judith         Wall  Female   \n",
            "48      49  EbD7AF6EDF4831e        Chloe      Ramirez  Female   \n",
            "49      50  afF3018e9cdd1dA       George       Mercer  Female   \n",
            "50      51  CccE5DAb6E288e5           Jo       Zavala    Male   \n",
            "51      52  DfBDc3621D4bcec       Joshua        Carey  Female   \n",
            "52      53  f55b0A249f5E44D       Rickey        Hobbs  Female   \n",
            "53      54  Ed71DcfaBFd0beE        Robyn       Reilly    Male   \n",
            "54      55  FDaFD0c3f5387EC    Christina       Conrad    Male   \n",
            "55      56  998C3Fda97EfAff       Shelby         Cole    Male   \n",
            "56      57  D7040faD2d368d8        Steve      Donovan    Male   \n",
            "57      58  3CEf7FDfACa48b7         Gina       Little  Female   \n",
            "58      59  239dbABfd1d1B1e       Connie       Dawson  Female   \n",
            "59      60  4e03dA0BCAc82e3        Aaron         Page    Male   \n",
            "60      61  B2F0bdF85bfc7cA        Lance     Bradshaw    Male   \n",
            "61      62  E923A19a2De032b         Mary      Daniels    Male   \n",
            "62      63  11Ae1fbab4076b2      Yesenia      Harding    Male   \n",
            "63      64  14890EC026d5d43        Shane        Reyes  Female   \n",
            "64      65  2eC6783b36315eF        Norma        Olson  Female   \n",
            "65      66  bd79EF2c2a3bad3      Melinda         Haas    Male   \n",
            "66      67  D5BDdFA8A0baa18      Darrell       Fuller    Male   \n",
            "67      68  9de346CD67Bea2f    Priscilla   Valenzuela    Male   \n",
            "68      69  d2adC15ceDc8Adf        Karla       Steele  Female   \n",
            "69      70  D88FB59Ed3efac7   Alexandria      Mcguire  Female   \n",
            "70      71  EBFf87b4dbdcFbD       Joanna        Doyle    Male   \n",
            "71      72  32fbdA8e70AeB2d        Lydia         Neal  Female   \n",
            "72      73  DbFcEF27decA754       Darryl        Meyer    Male   \n",
            "73      74  6c89bB8bB7DeADB        Alice      Harding    Male   \n",
            "74      75  0Fe59D998cacdd5         Seth        Pratt    Male   \n",
            "75      76  f93C8B8c2FfB46e          Amy        Payne    Male   \n",
            "76      77  c380Ce9B006eD2D       Vickie        Mccoy    Male   \n",
            "77      78  aCBb2be896F7EFE       Hector       Sparks  Female   \n",
            "78      79  6C2EA6b5e2eda3C        Colin       Conley  Female   \n",
            "79      80  2B55d6d7B39C4D8       Joshua        Grant    Male   \n",
            "80      81  f6ac8CfF7ac94cc      Yesenia          Key    Male   \n",
            "81      82  fEE61DcbEb41633       Meghan     Humphrey  Female   \n",
            "82      83  8Bac76db335CcCf        Eddie      Daniels    Male   \n",
            "83      84  2BAFB7b410ebE3f        Joyce       Abbott  Female   \n",
            "84      85  C76ae7aAFcbB2cA       Isaiah        Olson  Female   \n",
            "85      86  9f887e71eee4b58       Curtis        Haney    Male   \n",
            "86      87  cdDbF70fBdfdCaD        Devon        Henry  Female   \n",
            "87      88  EAE9F073c808ccc       Jordan         Long    Male   \n",
            "88      89  daBacFb2F431Dfb          Tom      Mccarty  Female   \n",
            "89      90  1187FDb1d7C98B0      Bethany       Davila  Female   \n",
            "90      91  690145e7Daff789        Ariel  Blankenship  Female   \n",
            "91      92  87bf311C37DC95E       Jaclyn       Mclean    Male   \n",
            "92      93  CDF04Db0f9AbD34    Stephanie      Donovan    Male   \n",
            "93      94  fe3E1A26dc62DA6        Carly       Brooks  Female   \n",
            "94      95  cEb6af0Da7E6707    Dominique    Stevenson    Male   \n",
            "95      96  3c3e7EB7afBFb5d        Doris       Holmes  Female   \n",
            "96      97  DFAbEADF85F6245          Joe      Acevedo    Male   \n",
            "97      98  e5d840eE5BB6e03         Tony     Melendez    Male   \n",
            "98      99  DdB70783c1181Ad        Lydia       Vargas    Male   \n",
            "99     100  7f83AADE353F5ad      Matthew        Yoder  Female   \n",
            "100    101  631e880aee8B16B        Laura       Bishop    Male   \n",
            "101    102  cB5e9a6b2dcCa90       Vernon        Terry    Male   \n",
            "102    103  bA3e5C6ADeBF8E1      Roberta        Hodge    Male   \n",
            "103    104  98B4EeDf0aF2d88        Janet        Heath  Female   \n",
            "104    105  bcf0DEa3a7585Fd       Taylor         Paul    Male   \n",
            "105    106  AB5a29077eDc170       Ariana       Potter    Male   \n",
            "106    107  24e1fa8cf0c7BD5         Dave        Myers  Female   \n",
            "107    108  49F56fAC4632C31         Beth   Harrington    Male   \n",
            "108    109  69d6EEBb6B1D58b      Diamond       Spence    Male   \n",
            "109    110  620D4D12cbE3c3F      Timothy        Weeks    Male   \n",
            "110    111  aA6A5Db8E06C3b1       Victor       Castro  Female   \n",
            "111    112  120b4B8Ab9f96C0     Samantha       Harris    Male   \n",
            "112    113  Ebd38C6201E6bea    Priscilla         Bean    Male   \n",
            "113    114  AcBD2EfE48eEa4F        Erica       Atkins  Female   \n",
            "114    115  D4d937A95711EcE        Tonya  Blankenship  Female   \n",
            "115    116  f9dd0F20DDC20a9        Diane        Small  Female   \n",
            "116    117  BC1Df0060C2cfDc         Karl        Floyd    Male   \n",
            "117    118  625CCE85FfAA2E6         Dana      Higgins  Female   \n",
            "118    119  736A87324dd4E3b         Neil       Sawyer    Male   \n",
            "119    120  4aE4ecaBd55f3C6        Julia       Acosta    Male   \n",
            "120    121  A33b2e2A7509599       Brandy    Carpenter    Male   \n",
            "121    122  97f2a3845Ac6aF7       Darren      Manning  Female   \n",
            "122    123  363BC822BADd5f7        Roger      Beasley    Male   \n",
            "123    124  201FF92c4c85ef7       Albert        Tyler    Male   \n",
            "124    125  18bc6EeCCE1f1C2       Tracie       Mooney  Female   \n",
            "125    126  1Bb45198c473530          Tim        Ponce  Female   \n",
            "126    127  b17FbED51F5E6dc     Margaret         Carr    Male   \n",
            "127    128  a2A4fd285DAD2b4       Autumn        Davis  Female   \n",
            "128    129  eAdCa2bd47Bbd5e    Christina      Hendrix  Female   \n",
            "129    130  6b03e33eEddCFC7       Andrew       Holden    Male   \n",
            "130    131  aE16A3c90AC05dB        April       Hebert    Male   \n",
            "131    132  8CA86e8FcACeE4D        Peter         Long    Male   \n",
            "132    133  99d1Fb3608ACF2A    Christina       Carter  Female   \n",
            "133    134  4eB6A9cb84BF51B        David     Faulkner  Female   \n",
            "134    135  B43EAF7bc56967C       Willie     Arellano  Female   \n",
            "135    136  6e07e8F150DeB82        Traci         Sosa    Male   \n",
            "136    137  f781EbEb7FDBE35   Alexandria      Burgess    Male   \n",
            "137    138  B9506A7DdC58b34       Manuel       Castro    Male   \n",
            "138    139  be4B0DFd06FFF1D       Nathan        Glenn    Male   \n",
            "139    140  7d3402dB0D0d2ae       Hailey      Aguirre    Male   \n",
            "140    141  9BEeD41BDC4ca32       Arthur        Lyons  Female   \n",
            "141    142  B81eeD3F7e13A2e        Alexa   Washington  Female   \n",
            "142    143  cF20CcFDD4E8733        Jorge        Wells  Female   \n",
            "143    144  0c7fc0bFd703d8e        Oscar      Camacho  Female   \n",
            "144    145  99fa0bC5cC11b1f      Derrick         Cook    Male   \n",
            "145    146  979A626e5F115f2       Teresa         Page    Male   \n",
            "146    147  009E1accabB9Af6        Randy       Tanner  Female   \n",
            "147    148  a9E3b490AE3B346        Joann       Fuller    Male   \n",
            "148    149  Ab0bbcE993E23c7  Christopher        Braun  Female   \n",
            "149    150  5627680A2Ca214B        Malik      Summers    Male   \n",
            "150    151  94bE4E2109cF33b       Kristi         Sims  Female   \n",
            "151    152  3412AaD2be50E07       Mariah        Huang  Female   \n",
            "152    153  5AB091FFDe887eC      Monique      Mahoney  Female   \n",
            "153    154  d7A706Fd9AdB27E       Stacie     Cardenas  Female   \n",
            "154    155  4fdeB8D3F477aFB      Shannon      Cochran  Female   \n",
            "155    156  d5bbEF5AC75B9a5        Peggy         Odom    Male   \n",
            "156    157  49Dcb786C01C5ca      Anthony       Briggs  Female   \n",
            "157    158  2bA19f60a800b19        Perry       Levine    Male   \n",
            "158    159  aDCb1F0eA108aa7       Denise         Hahn    Male   \n",
            "159    160  b956E2a9DE3898C       Thomas        Bruce  Female   \n",
            "160    161  dB2D7274Daf7edD        Robyn         Paul    Male   \n",
            "161    162  f52181F2B4c2e9A       Miguel      Leblanc  Female   \n",
            "162    163  5968b1AD19823B9        Laura         Rice    Male   \n",
            "163    164  dbcde3f68Bfaf7E     Madeline        Leach    Male   \n",
            "164    165  925E52c1F2F239E  Christopher        Nixon    Male   \n",
            "165    166  9ca2f3A7a60ea88    Mackenzie     Cantrell    Male   \n",
            "166    167  aB2Ef1d3f6d6e6E      Phyllis      Sanchez    Male   \n",
            "167    168  37AdbaEbBA8e317        Jesus         Sosa  Female   \n",
            "168    169  beC1BB41df95f2D      Maurice        Hodge  Female   \n",
            "169    170  E1844addD8eEe76     Brittney     Stafford    Male   \n",
            "170    171  1AD35A22F0BA772       Dalton       Butler  Female   \n",
            "171    172  382eD6ac4a352cE      Russell       Zamora  Female   \n",
            "172    173  bFB42223CDD342F         Alex      Stewart    Male   \n",
            "173    174  C8C2ebF103A8E69        Jenny         Nash  Female   \n",
            "174    175  bddDa7FF9dE3b91        Daryl         Koch  Female   \n",
            "175    176  7eFA59d05df2cA9         Jake         Tate    Male   \n",
            "176    177  C1e7272dFDFF2C4         Luke     Fletcher  Female   \n",
            "177    178  85E1F35FAaDA1Bb         Earl        Yates    Male   \n",
            "178    179  bCb195daBc7263e     Brittany        James    Male   \n",
            "179    180  2C96bcB1cD0f6ba        Wanda     Alvarado  Female   \n",
            "180    181  16361CBC0DAFa00     Mckenzie      Beltran    Male   \n",
            "181    182  8EB4C4fd0C44bFa       Ernest      Camacho  Female   \n",
            "182    183  7Aa938827F1e018        Haley         Hays  Female   \n",
            "183    184  Befc7139d7eD662       Dalton       Chaney  Female   \n",
            "184    185  4E641fd49f55bcD         Drew      Sanchez    Male   \n",
            "185    186  108773b6Ba4Dbdb      Bradley     Copeland  Female   \n",
            "186    187  6eBdCDac47F3428         Alan      Randall    Male   \n",
            "187    188  fA0eA5B7e62c9Df     Angelica         Hull    Male   \n",
            "188    189  eEFc74EBC49e6BB        Daryl       Newman  Female   \n",
            "189    190  554A9ecCaFa62ee      Tristan       Morton  Female   \n",
            "190    191  CdCDB0F97fF999f         Tami      Compton    Male   \n",
            "191    192  26A154Aa4318fFd        Grant      Esparza  Female   \n",
            "192    193  8f3015cAb55F348       Sherri     Williams    Male   \n",
            "193    194  037eF750C5fb7B6      Barbara       Bowers    Male   \n",
            "194    195  346FcF07FB14CcD       Sherry    Maldonado    Male   \n",
            "195    196  1aa37dC5b2eB175    Francisco      Flowers  Female   \n",
            "196    197  DeF3DE4a6ABb2D2       Janice    Daugherty  Female   \n",
            "197    198  C88B0CFc36D6fF4       Melody     Clements    Male   \n",
            "198    199  75Afa67CffE0Dd9         Evan         Howe    Male   \n",
            "199    200  448dAD1F6dCc9de     Terrance         Rowe    Male   \n",
            "200    201  dEEb9bDB65Ed4fB    Stephanie        Nunez  Female   \n",
            "201    202  bA09B6Bc6fBc65B        Jimmy      Wiggins    Male   \n",
            "202    203  c23aDdb939f4D7F        Sonia        Parks  Female   \n",
            "203    204  81Ff5cfd97ACBd4       Curtis       Zamora    Male   \n",
            "204    205  eA7df1fcFa5aacC       Tracie        Baker  Female   \n",
            "205    206  131570D70d0ff65       Eugene     Richmond  Female   \n",
            "206    207  aBE87b98c2A20c0       Lonnie      Bernard  Female   \n",
            "207    208  2F704AacCEbAb2b         Alan      Shaffer    Male   \n",
            "208    209  674bbaD7A5D26B9        Grace     Mckenzie    Male   \n",
            "209    210  1bA6EDeebf7E163        Logan       Obrien  Female   \n",
            "210    211  DF17975CC0a0373      Katrina         Duke  Female   \n",
            "211    212  fcFdD7dA96c1C7d    Katherine       Bolton    Male   \n",
            "212    213  A7aBc39Ee9dC1bd        Perry      Rollins    Male   \n",
            "213    214  AbcE3CcC947cbBD      Makayla         York  Female   \n",
            "214    215  4C5Db5BFDBF60eb           Jo        Olsen  Female   \n",
            "215    216  E03EbCFDDcE1f1f    Christian       Mosley    Male   \n",
            "216    217  aBa137daedc833c        Nancy        Arias    Male   \n",
            "217    218  4B4D0AD9abE41f0       Cheryl     Friedman  Female   \n",
            "218    219  Efa5aa3e87ed1D7        Helen      Maynard    Male   \n",
            "219    220  0cC97Ab1eAF4ABe     Jennifer         Kane  Female   \n",
            "220    221  29cb6ecF75451Cc     Danielle       Howard  Female   \n",
            "221    222  4D01fd1AA71fdcF      Candice        Estes    Male   \n",
            "222    223  0aB79DDdEDdAe0b        Renee     Alvarado  Female   \n",
            "223    224  53147bb2CD4bc1c      Annette       Santos  Female   \n",
            "224    225  05c44eB3fF9BE99        Kerry       Newman    Male   \n",
            "225    226  90511Ae50ED8e2c      Lindsey        Kline    Male   \n",
            "226    227  11e509B23bA84f8      Dominic     Buchanan    Male   \n",
            "227    228  9a8B1B4f4eEAb57       Gordon         Hess    Male   \n",
            "228    229  fF56f2b4BAe239f        Bruce       Pineda    Male   \n",
            "229    230  C4a0d68C1B2427c      Maxwell         Vega  Female   \n",
            "230    231  FC8fa29F2D57eCe     Geoffrey     Lawrence  Female   \n",
            "231    232  003faaEB83B8A0B     Charlene     Schwartz    Male   \n",
            "232    233  c905D9b34C5456C        Anita      Burnett    Male   \n",
            "233    234  78e17EBCd8dDbc6       Leslie        Patel    Male   \n",
            "234    235  66301e7bCfdB2f2       Pamela       Hayden  Female   \n",
            "235    236  A5bBa8B5737bF18       Deanna         Ford    Male   \n",
            "236    237  Ef3e6746Bb32d4F       Bonnie      Hammond    Male   \n",
            "237    238  F663ee880a9eCBa        Debra         Byrd    Male   \n",
            "238    239  CA4e2d7d6f7d6fB       Sharon       Torres    Male   \n",
            "239    240  F52d1EFf9Aeca7f       Olivia       Austin    Male   \n",
            "240    241  ebceFfe3e95DA36         Jean       Harmon  Female   \n",
            "241    242  a88B0C0F3c98028      Bridget     Griffith    Male   \n",
            "242    243  C7BC4419E1B81Ef       Curtis       Flores  Female   \n",
            "243    244  7ff3afDbFb3f698      Bridget         Ryan    Male   \n",
            "244    245  Fd6F8D9e986Cc3D     Mitchell         Boyd  Female   \n",
            "245    246  BF7ad5D75edfdB5        Peter        Bruce  Female   \n",
            "246    247  aCdE9f39c476fcB     Jonathon        Huynh    Male   \n",
            "247    248  cCA7ae678b6fb9F       Connie        Myers    Male   \n",
            "248    249  94935E4B01ef83b       Stacie      Barnett  Female   \n",
            "249    250  0ae5987cCC3EbcB   Jacqueline       Harper    Male   \n",
            "250    251  821BBcC7EA6B83b         Kara        Bruce  Female   \n",
            "251    252  34F6f315c51B749     Caroline      Lindsey    Male   \n",
            "252    253  a6BfA20EDDd4317       Meagan      Salazar    Male   \n",
            "253    254  C07BC44eFA20A96        Jamie        Logan  Female   \n",
            "254    255  BF6f9c6fDb18DBF     Nicholas        Glenn  Female   \n",
            "255    256  f074a08cD7BdBc4        Shane    Donaldson    Male   \n",
            "256    257  02C553bfcFA32bA       Norman        Zhang    Male   \n",
            "257    258  d81C0AeE4ba2ACb       Pamela   Hutchinson  Female   \n",
            "258    259  cDbDF7B189fcfDb      Yolanda      Stanton    Male   \n",
            "259    260  4AfAc0Bf3e2708E      Phillip     Valencia    Male   \n",
            "260    261  Bcde4A17Aa9D059       Taylor       Benton    Male   \n",
            "261    262  6E90ff6FCE1A1a2        Ebony         Ross    Male   \n",
            "262    263  438EeC867c970aE        Lucas         Hess    Male   \n",
            "263    264  6fcbE57aeEc26a9         Alan        Nixon  Female   \n",
            "264    265  48a0F16A7108695       Ernest         Wong    Male   \n",
            "265    266  a5cebB3ff1f279E     Kristina      Krueger    Male   \n",
            "266    267  34C5b3CEc30c481        Shaun        Nixon    Male   \n",
            "267    268  05d4a275BAf55B0      Anthony      Wallace    Male   \n",
            "268    269  B93d9dCF40B31A8      William       Ingram  Female   \n",
            "269    270  69EA746B5eEA97C        Bobby          Day  Female   \n",
            "270    271  06D45f32D614AAe       Krista       Booker    Male   \n",
            "271    272  00d907CDBC1CAb6       Isaiah         Hood    Male   \n",
            "272    273  5aA4DcBDf5EeBd6      Gilbert       Church  Female   \n",
            "273    274  4B8f92DEfD6A22C         Dawn      Francis  Female   \n",
            "274    275  98b6D6c4Ba5f24E       Melody     Jacobson    Male   \n",
            "275    276  f057cc8de892Dd8        Edgar         Ball    Male   \n",
            "276    277  D90b96F7f39f00f      Allison        Walls    Male   \n",
            "277    278  6761B55Ef8Ac3E9      Clayton     Anderson  Female   \n",
            "278    279  510EBCCeF8FABe0      Desiree      Beltran  Female   \n",
            "279    280  3aFf54f59dcFD2E       Yvette      Webster    Male   \n",
            "280    281  f42aB1cd1fc1B59       Albert        Cross    Male   \n",
            "281    282  cfc55CA94Ad1CD2         Kara       Gamble    Male   \n",
            "282    283  0F7Ccb72cbbCcD2      Yolanda       Miller    Male   \n",
            "283    284  0De37f35c9cffBc       Cheryl       Tucker  Female   \n",
            "284    285  41ED141ea9e4E0c      Beverly       Clarke  Female   \n",
            "285    286  D045Ee0Fc9dd45E        Kerri       Morris    Male   \n",
            "286    287  B40923EA0F7b9d8        Ralph     Richards  Female   \n",
            "287    288  bE0FB0ACceD7cD0     Stefanie     Castillo  Female   \n",
            "288    289  C79601b6BDedB8E       Judith         Huff    Male   \n",
            "289    290  ECFCF3df04cc0cF     Benjamin       Ramsey    Male   \n",
            "290    291  D269D6cDBEB29b5       Pamela         Dean  Female   \n",
            "291    292  9dCfeDAe04fffE2       Tricia     Chandler  Female   \n",
            "292    293  c1D6Ddced4Fe3eF      Zachary        Nixon  Female   \n",
            "293    294  DB64F2e35ab51b4         Leon     Guerrero    Male   \n",
            "294    295  A8AEe9dc6D1f3c4        Lacey        Casey    Male   \n",
            "295    296  841E6f046E83F10      Yesenia        Petty    Male   \n",
            "296    297  a386b9bB31accdc      Phillip      Morales    Male   \n",
            "297    298  a61eAFC61DFeA8E       Teresa       Powers    Male   \n",
            "298    299  7CcAbC7CAfC4e39        Stacy        Roach  Female   \n",
            "299    300  caBE9a5064ceBfB         Gary    Blackwell    Male   \n",
            "300    301  3759DCaa1d909d2      Jasmine        Irwin    Male   \n",
            "301    302  c4AB82050cEE8f1        Angie        Munoz  Female   \n",
            "302    303  38ceeCDD313ecDB      Stanley        Beard    Male   \n",
            "303    304  05aaB3e75C576D6         Mary    Donaldson  Female   \n",
            "304    305  0b91dFFFc17f5A8      Tristan      Aguirre    Male   \n",
            "305    306  Ca9E100bcEbbB0e      Jessica       Stokes    Male   \n",
            "306    307  362D0033BCa5D4e        Kerry        Downs    Male   \n",
            "307    308  4dE9EDDe64A5A1C        Megan         Owen  Female   \n",
            "308    309  26bEd99B3626fFB       Steven       Decker  Female   \n",
            "309    310  F7307C0fbDafbDA       Dwayne      Vazquez    Male   \n",
            "310    311  B86dFeA3794F47C      Chelsey        Singh    Male   \n",
            "311    312  53a8165b5eFDeBb         Alex       Newton  Female   \n",
            "312    313  eD7A4B7C22dAE96      Bethany        Walsh  Female   \n",
            "313    314  ff2930FDFE1DAd9        Mario   Pennington    Male   \n",
            "314    315  Fe3234B9A5c73e7      Deborah     Benjamin    Male   \n",
            "315    316  DCc1fd51aecd9dd         Marc        Owens  Female   \n",
            "316    317  F68014D31ddbf8b      Kristin         Love  Female   \n",
            "317    318  EbeBaF711EecFa4    Frederick     Villegas  Female   \n",
            "318    319  6f09DcBFED2E9bE        Angel        Vance    Male   \n",
            "319    320  F794BB8AeBFf32E        Tasha        Stout    Male   \n",
            "320    321  0AB25BC3Df4bcaE        Emily         Good  Female   \n",
            "321    322  4Ac773784FBDecA       Warren   Harrington    Male   \n",
            "322    323  9D393CcAafBD1E8       Julian      Camacho    Male   \n",
            "323    324  42b8FC0DBebFD48       Edward       Powers    Male   \n",
            "324    325  354aeA1EF24C5d1       Hector        Fritz    Male   \n",
            "325    326  d06B554F25f3d0E     Brittney          May  Female   \n",
            "326    327  Fafc20e3bb29b5E      Bethany       Santos    Male   \n",
            "327    328  46B71DAbA80e320        Vicki     Mitchell    Male   \n",
            "328    329  51C771FB6a3c75B          Jay      Perkins    Male   \n",
            "329    330  810Cee3Cb9E7740      Candace         Case  Female   \n",
            "330    331  CBff85B9A4A4Aa3      Valerie        Welch  Female   \n",
            "331    332  3f4F6D658B8e4B3       Hunter        Blair  Female   \n",
            "332    333  b9b02AbadcD77Ee      Phillip       Barnes  Female   \n",
            "333    334  A8210B0B55DCA46      Micheal       Booker    Male   \n",
            "334    335  dF2fC9cE842641b       Daniel       Morris  Female   \n",
            "335    336  Ce7fdC4A27F8BfB     Jonathan       Molina  Female   \n",
            "336    337  99375ddcf9ADB4b         Kirk       Norton  Female   \n",
            "337    338  2FEA22FE9FC687D         Kurt          Liu    Male   \n",
            "338    339  5FBeaAfC67EDA67     Stefanie       Prince  Female   \n",
            "339    340  FFfA65f10a35E4A       Ariana      Hickman    Male   \n",
            "340    341  DDB3ac3B6fDd78c        Lydia       Torres  Female   \n",
            "341    342  F662ad8DfeC0095        Jenny       Hurley  Female   \n",
            "342    343  Db68EC1E050bdb2         Ryan         Ward  Female   \n",
            "343    344  3ede74A0eaa6EEc        Aimee      Bridges    Male   \n",
            "344    345  Daf8e1af4eEe8F3         Kari       Brewer  Female   \n",
            "345    346  444ecB8f60d8ab7        Vicki         Park    Male   \n",
            "346    347  B0D770E2D294aF7        Kerri      Simpson    Male   \n",
            "347    348  7Dd645101CE7dD1        Raven        Moore    Male   \n",
            "348    349  dCA2E3af07ed79d       Darryl       Barton  Female   \n",
            "349    350  Acda5EdA0bCA2f9         Leah       Benton    Male   \n",
            "350    351  e9ad1A35EEDE512      Bernard    Schroeder    Male   \n",
            "351    352  89adaADBd6c8F56       Robert   Montgomery  Female   \n",
            "352    353  b1788A50be78Efc      Randall      Collins  Female   \n",
            "353    354  BEFD3f590Bcf07d       Stacie       Archer  Female   \n",
            "354    355  2d6993bBcBBFE58      Eduardo      Rodgers  Female   \n",
            "355    356  c2A8DC6D0Cd1fB4       Robert        Avila    Male   \n",
            "356    357  b3dcF7DFecB31A1     Jermaine      Michael  Female   \n",
            "357    358  cAa967C5E66fc86        Lance  Blankenship    Male   \n",
            "358    359  93329AE35DEeCCc        Alvin        Smith    Male   \n",
            "359    360  7A95b5f60c15e16      Kathryn      Bernard  Female   \n",
            "360    361  CBBE3b613E5EA09        Jamie      Jimenez  Female   \n",
            "361    362  7E8caA1EfbC9865    Francisco   Hutchinson  Female   \n",
            "362    363  8D0FdA9eDDa0dB0         Earl      Jenkins    Male   \n",
            "363    364  d70fce03dC34Ad2      Heather       Snyder  Female   \n",
            "364    365  dACf9f23D35EDEd    Christine     Matthews    Male   \n",
            "365    366  5BB4737f69cBBeD       Kaylee        Dixon  Female   \n",
            "366    367  3f5a8fd3CBf4b74        Ariel       Prince  Female   \n",
            "367    368  41C9C171F0e66FD         Emma       Hinton  Female   \n",
            "368    369  3Ed2FEE49BF6ae1         Kara      Esparza    Male   \n",
            "369    370  2542C79ef0ada2b        Erika         Cruz    Male   \n",
            "370    371  A5bA09eaEC487D3      Preston     Erickson    Male   \n",
            "371    372  a77Eca88d9a36C5     Brittney       Norris    Male   \n",
            "372    373  7feEdDc7bd8f38C      Gilbert          Lin  Female   \n",
            "373    374  9caF0aE6cF8Dd10         Jose       Deleon  Female   \n",
            "374    375  340ABAD5FAaeD3f      Phyllis   Strickland    Male   \n",
            "375    376  2DA08d1CAd4dceC        Robyn      Ferrell    Male   \n",
            "376    377  204C8436FE7f0cf        Marie       Taylor    Male   \n",
            "377    378  A21b0F9a2a762fe      Cameron         Gray    Male   \n",
            "378    379  6355f81A0aFfFfD       Calvin      Gilbert  Female   \n",
            "379    380  d49EcceD0Fe3FfB        Glenn       Graves  Female   \n",
            "380    381  8A9d5DF69Eb8c3C         Jeff        Olsen  Female   \n",
            "381    382  6c2B7c0DaD5bAD3        Wyatt       Monroe    Male   \n",
            "382    383  B216bfCCEEBFe1e         Gina         Leon  Female   \n",
            "383    384  ee89d034CeF83EB        Susan        Fritz    Male   \n",
            "384    385  6455dAf38a33E73        Tommy        Combs    Male   \n",
            "385    386  A64b3f208cf312e       Julian      Sherman  Female   \n",
            "386    387  4829908F4BE90ad     Fernando    Carpenter  Female   \n",
            "387    388  Fc86a2288ebfdAd      Leonard      Parsons  Female   \n",
            "388    389  CccE68e2611CB67         Nina        Giles    Male   \n",
            "389    390  7eBDf2F5dE9DC7a         Anne          Fox    Male   \n",
            "390    391  9C340401d2E861f        Mandy        Green    Male   \n",
            "391    392  B580643f4Eee7eB        Angel       Stokes    Male   \n",
            "392    393  d500353D059Efd9        Bryce         Ball  Female   \n",
            "393    394  E95cF2ADa9cd5De      Whitney       Vargas  Female   \n",
            "394    395  1CB7C4e6d0a7C13      Natalie       Grimes    Male   \n",
            "395    396  AbB6e97949FBebc       Vickie        Velez    Male   \n",
            "396    397  a816CbCbbd4f233        Grant     Morrison  Female   \n",
            "397    398  CEC378179933f4F      Bradley      Douglas    Male   \n",
            "398    399  00bBcB58a9D114c      Roberto           Yu    Male   \n",
            "399    400  70D7DdebB9D8f67       Debbie       Lozano    Male   \n",
            "400    401  fE5a7Ff19b2aAEE        Henry        Ellis  Female   \n",
            "401    402  faFEea3b50D6123         Kyle     Bartlett    Male   \n",
            "402    403  E2F6F8eeC9bED4f        Ricky  Fitzpatrick  Female   \n",
            "403    404  f930e7A099bbEBB        Tanya      Spencer  Female   \n",
            "404    405  F7A3A17EA6DCAfA      Francis       Walter  Female   \n",
            "405    406  629924399F23af0        Lydia    Alexander  Female   \n",
            "406    407  f515A6dDdbCFD4B      Jessica     Chambers    Male   \n",
            "407    408  A6DDea6bB9A5d18       Summer      Escobar    Male   \n",
            "408    409  7c4Bce1aAB51C6B       Marisa        Vance    Male   \n",
            "409    410  6995ED0DBaCC148    Gabrielle        Fritz  Female   \n",
            "410    411  F6dB61Fb3e6eEc3      Maureen      Barrett  Female   \n",
            "411    412  6C23a8C9AcbCb7E         Cody       Arnold  Female   \n",
            "412    413  AAF953ce6519B3a        Holly      Manning  Female   \n",
            "413    414  c1711ACe52AFFC8     Samantha         Barr  Female   \n",
            "414    415  A4BF8fac1227a2c       Hailey         Pena    Male   \n",
            "415    416  EcFf0bEbF0B85f4      Phillip       Dalton    Male   \n",
            "416    417  aa2fd18aaf2DE0A        Maria        Downs    Male   \n",
            "417    418  daa90Ea7F4193BE        Sarah        Ayers    Male   \n",
            "418    419  62d4BBecd04c1D6        Gregg        Hurst    Male   \n",
            "419    420  5BB3f6d54c50ead      Micheal         Todd    Male   \n",
            "420    421  febeBfb4A53B2C1      Gabriel        Heath  Female   \n",
            "421    422  BAe516915432a3c          Joy       Mercer    Male   \n",
            "422    423  E6E641Bbade1683        Karen        Brown  Female   \n",
            "423    424  4FaC35aE11Bb4c3        Molly    Gutierrez  Female   \n",
            "424    425  A6DfA24E3924aC6        Scott      Mcmahon    Male   \n",
            "425    426  17cfdDe5c065ab5        Grace       Bolton    Male   \n",
            "426    427  1595E8EF9338E27        Kerry     Andersen    Male   \n",
            "427    428  CAd760C0ddC6EDE       Xavier     Johnston    Male   \n",
            "428    429  8d9Ea473ed50Ddc       Dustin       Hudson    Male   \n",
            "429    430  7aFaa0f4Cf25e26      Brendan      Gilbert  Female   \n",
            "430    431  A1c6Cacc6fBf2Cc         Cory       Forbes    Male   \n",
            "431    432  23fEF7f7C07FcBc        Carla     Marshall    Male   \n",
            "432    433  b7A6ACe14Da2a70        Tracy       Jarvis  Female   \n",
            "433    434  BcB2dE02BdF4483         Anne        Garza    Male   \n",
            "434    435  E646F0FE9dD0fDC        Megan     Mcdonald    Male   \n",
            "435    436  aB8f3fddcAE3ebe       Sydney     Trujillo    Male   \n",
            "436    437  E99De3bB84f15fC       Regina   Mclaughlin  Female   \n",
            "437    438  9f4FbA2EBBDE350        Randy        Bowen    Male   \n",
            "438    439  184f82e6bb6A227        Darin           Wu  Female   \n",
            "439    440  FF0689BbDb8B95E       Tracey       Hurley    Male   \n",
            "440    441  ace63bFCc6E8E88      Jocelyn        Hodge  Female   \n",
            "441    442  7E23C2d0a7A7A1e        Susan       Joseph  Female   \n",
            "442    443  Ad1c6fE266De0ce      Whitney        Burke  Female   \n",
            "443    444  10BcFD5ED1Fd7a3         Emma     Caldwell    Male   \n",
            "444    445  Fa75A5784A3dE2C      Valerie         Koch    Male   \n",
            "445    446  aa01BBDfDbcee59        Kiara      Miranda  Female   \n",
            "446    447  1a478d4BdBF68d7        Karla      Shelton    Male   \n",
            "447    448  Afe55F5D86CBac0       Marisa       Snyder    Male   \n",
            "448    449  433adDe6CcCb1a2         Lynn      Cordova  Female   \n",
            "449    450  Daa2c6eE2b751cb       Sydney      Leonard    Male   \n",
            "450    451  cDCbb25aa87Af7D        Diane        Patel    Male   \n",
            "451    452  2D2AEaaBbc6ebec    Christian       Zuniga  Female   \n",
            "452    453  b8EdE8dB06C193A      Clayton         Hale  Female   \n",
            "453    454  0Ca32994DF228FD      Brandon     Campbell    Male   \n",
            "454    455  04Ab34AF7FDD5e1        Haley          Gay    Male   \n",
            "455    456  8e0D0df4EDD0Bae        Megan      Roberts    Male   \n",
            "456    457  a9E75C7cdc1aB2f     Kathleen         Lang  Female   \n",
            "457    458  dcE1B7DE83c1076        Traci         Duke  Female   \n",
            "458    459  9465fFF674Ff030        Bryan       Dawson    Male   \n",
            "459    460  Dc1Ef4D914De5b8      Caitlyn      Wiggins  Female   \n",
            "460    461  Bb4bE79aeB90465         Mary      Salinas  Female   \n",
            "461    462  4b79C5AcbdD80C3       Cassie        Knapp    Male   \n",
            "462    463  1AcD0ccddF0DCf9    Nathaniel      Shaffer  Female   \n",
            "463    464  751Bf40CDdCeB6D       Marcia       Wilcox    Male   \n",
            "464    465  c97AD72A41Cca9a         Jose         Webb  Female   \n",
            "465    466  5dDDcBeFEDa268f         Drew    Valentine  Female   \n",
            "466    467  4DB3cE8D9B95Bbc          Max       Madden    Male   \n",
            "467    468  Bad48fB46B1bdc9      Valerie       Wright    Male   \n",
            "468    469  eb2A96D54cAb5c6       Elijah      Barnett    Male   \n",
            "469    470  45241fd9cCfaA29       Jeanne         Mata  Female   \n",
            "470    471  9cCe4d460980cdA       Sylvia     Cisneros  Female   \n",
            "471    472  d6DEBbCEEd1Ce8b        Linda    Patterson    Male   \n",
            "472    473  b8F00FeA81E7E1e        Peggy     Guerrero    Male   \n",
            "473    474  4ffEeea05D7b7ab       Tracey       George    Male   \n",
            "474    475  cA2E09ACc7f4c91       Curtis       Bolton  Female   \n",
            "475    476  24ffE1aefa66372      Candice    Cervantes    Male   \n",
            "476    477  CC48BFF6057dE79       Rodney       Obrien  Female   \n",
            "477    478  6CF34DCD040F082          Jay       Lawson    Male   \n",
            "478    479  d5703EFB0aE200d        Shawn        Hogan  Female   \n",
            "479    480  D03D2428fD4bC6d          Bob         Park    Male   \n",
            "480    481  2E94Affb5a9dB80       Carmen    Stevenson  Female   \n",
            "481    482  915f18a27Bc7A20         Dawn      Hickman  Female   \n",
            "482    483  F258Cc9fc813BFA       Elaine      Nichols    Male   \n",
            "483    484  28eD3aB6E0f464B         Ross     Carrillo    Male   \n",
            "484    485  aD92Df9Efe5950C        Blake         Long    Male   \n",
            "485    486  Dc4B211215cDAdC       Johnny     Phillips    Male   \n",
            "486    487  AFC47cfB7e7cc6d       Tanner         Ford    Male   \n",
            "487    488  a3c4c0fEE9fdee9        Louis       Hayden  Female   \n",
            "488    489  d82f65d6b732F2D       Lonnie         Meza    Male   \n",
            "489    490  086EcD6FBFe5C85       Kellie         Frye    Male   \n",
            "490    491  6d6C1d45B3B9507      Claudia         Leon    Male   \n",
            "491    492  DBB6059dF096fa8         Evan        Logan  Female   \n",
            "492    493  0BDeC9Ae4A14b87       Monica          Fry  Female   \n",
            "493    494  fdd16C2cB2631F0        Caleb       Nguyen  Female   \n",
            "494    495  feaBDee80bd3bDf        Tasha         Lamb  Female   \n",
            "495    496  4AfB8b6AB186855       Alyssa     Cisneros  Female   \n",
            "496    497  eC15B0388fc6A1E         Seth      Bullock  Female   \n",
            "497    498  6EfA04eA2aA4F8f        Logan        Henry    Male   \n",
            "498    499  a2a76D85aa14E12         Mark       Bishop    Male   \n",
            "499    500  e1aCEb9B8e6FADd       Sheena        Baird    Male   \n",
            "500    501  dFaB7Bc81Df7EFE       Melody      Clayton  Female   \n",
            "501    502  57AD76BAEEec978       Sheryl        Yoder    Male   \n",
            "502    503  0Fa10024eA9C495         Lynn       Carney    Male   \n",
            "503    504  45C1d78d93BFa96       Carmen        Irwin    Male   \n",
            "504    505  03ACdCF8F725B08      Shelley       Patton    Male   \n",
            "505    506  Af9f7bEBaf20B3E        Jaime         Mays    Male   \n",
            "506    507  E87cf2dc71eFEd1          Dan      Woodard  Female   \n",
            "507    508  6de2B1AcFd9cD19      Melinda       Ortega    Male   \n",
            "508    509  22A3f7DdA2f4CbD      Clayton      Flowers  Female   \n",
            "509    510  B93dCdCCA9aee5e         Rita    Jefferson  Female   \n",
            "510    511  6dbECa1c2d65A28      Melissa       Palmer  Female   \n",
            "511    512  c68d7D9e4f37ad0        Sally   Strickland    Male   \n",
            "512    513  e5FcF92Af51de3A       Janice         Wood    Male   \n",
            "513    514  eaE6B24fCeeE972         Sean    Velazquez    Male   \n",
            "514    515  6BeFa7bCaCe35bf       Marcia        Berry  Female   \n",
            "515    516  7210306Eb0E1cDe       Dustin       Howard    Male   \n",
            "516    517  440e0363A712DF3         Jodi       Jordan    Male   \n",
            "517    518  5eE0eCa3c6ABffD     Benjamin        Moses  Female   \n",
            "518    519  0eE44a7fAf7d1DB        Paula       Mooney  Female   \n",
            "519    520  1d302cfF4C11B3c       Melvin      Edwards    Male   \n",
            "520    521  3f9be87fDa35Cab       Kaylee     Cantrell  Female   \n",
            "521    522  89FdFDb8Fa09efF        Logan         Beck    Male   \n",
            "522    523  ffD399FC7075C4b      Preston         Webb  Female   \n",
            "523    524  e64ea332bdDe3c2      Bernard        Payne    Male   \n",
            "524    525  D59d22DD2bF13C8         Gina         Mays  Female   \n",
            "525    526  7fdEf92EFD9a035        Ariel    Wilkinson    Male   \n",
            "526    527  4d6fB4FFdF963Ae          Don       Melton    Male   \n",
            "527    528  0fD7769271FC4d4         Alex        Burns  Female   \n",
            "528    529  A1CF962d1120Af2       Shelia      Spencer    Male   \n",
            "529    530  348E5aCe5b6dFC8      Dominic       Graham    Male   \n",
            "530    531  48bD7CBc57D9B81       Leslie     Richmond    Male   \n",
            "531    532  e5c8a1353Ea0C5F          Amy        Roman  Female   \n",
            "532    533  22A2538bBcCBf1C         Judy       Meyers    Male   \n",
            "533    534  b1bb1cC8deF5333         Alex     Morrison  Female   \n",
            "534    535  66dAcfaceb50FCA        Allen       Mccall  Female   \n",
            "535    536  4c41eedEcD804E2      Tiffany      Donovan  Female   \n",
            "536    537  a3672321B2aAa1F        Sally      Garrett  Female   \n",
            "537    538  B42e02edC3Ae9Cb       Dakota         Pace    Male   \n",
            "538    539  6cA2D7ED3BeFb75       Willie        Ewing  Female   \n",
            "539    540  effC88CfAbbC5f1     Isabella     Caldwell  Female   \n",
            "540    541  7f7FFaa2d63b1a7        Janet      Mcgrath    Male   \n",
            "541    542  cA1f220241E096C     Jeanette     Thompson    Male   \n",
            "542    543  1EfcdA0C36Eedc5        Emily       Lawson    Male   \n",
            "543    544  8D7Abd69EBcabCb     Cristian       Chavez    Male   \n",
            "544    545  a6cAC992Fb6BEBC         Nina      Mullins  Female   \n",
            "545    546  660FcEEffCAbF4a         Kyle        Bruce    Male   \n",
            "546    547  4ab12D986DeafDc        Jacob       Arroyo  Female   \n",
            "547    548  A624979ED308f61     Nicholas        Kirby  Female   \n",
            "548    549  Ad3eeD6281043bB      Jasmine      Chapman  Female   \n",
            "549    550  b57FacbCd397D90       Jackie       Potter  Female   \n",
            "550    551  6da0A79eB0aAF5c      Rebecca     Castillo  Female   \n",
            "551    552  De2AA444491b30C    Catherine      Summers    Male   \n",
            "552    553  22cd7dca009E6b1     Clifford      Shields    Male   \n",
            "553    554  8D2CF389dfD9753        Chase       Davies  Female   \n",
            "554    555  c3df75a238AC754         Jeff        Mejia    Male   \n",
            "555    556  BDFA03Ae3b2f54b       Brandy       Baxter    Male   \n",
            "556    557  0961FAf90F4b2b1        Heidi   Valenzuela  Female   \n",
            "557    558  84d541bF328a42E       Andrew        Logan    Male   \n",
            "558    559  6A8E5aE93ef7Aff     Virginia       Sparks  Female   \n",
            "559    560  B1F5F9C8FAb02cb     Samantha        Brown    Male   \n",
            "560    561  6CB75D1B2ab98E8     Lorraine     Andersen  Female   \n",
            "561    562  B1ffb1704b624FB       Kendra         Buck    Male   \n",
            "562    563  E6bB801aCD2F2a0        Aaron      Wheeler  Female   \n",
            "563    564  d6Dde5a8cDAcaCF        Raven       Waters  Female   \n",
            "564    565  42069E2a97adFCb        Terri        Stout    Male   \n",
            "565    566  0D9d3de32cBD4De         Ross       Cherry    Male   \n",
            "566    567  09bfCF9a254fDBC       Jeremy     Gonzales    Male   \n",
            "567    568  f0Ece0Adc57469f       Edward     Mcintosh    Male   \n",
            "568    569  bdEbae54edc2b23      Sabrina    Wilkerson  Female   \n",
            "569    570  3d8FCb3DEc6DF1A       Darren      Ramirez  Female   \n",
            "570    571  0dC7084B63A02BE        Tanya      Burgess  Female   \n",
            "571    572  b55f4a156a24024       Connor      Benitez  Female   \n",
            "572    573  9AE7aF4ddAdEA5f       Angela       Pruitt  Female   \n",
            "573    574  21476cdda8cbB56        Norma        Cline  Female   \n",
            "574    575  1Ce2abB79CA6b40        Perry      Camacho    Male   \n",
            "575    576  d1dBCAD3825277E       Darryl      Ballard  Female   \n",
            "576    577  738C11c81DEeeb8      Maxwell       Greene  Female   \n",
            "577    578  7BFf0E550f2D794       Nicole   Harrington  Female   \n",
            "578    579  7FB6905ebe1A4FB         Gail      Walters  Female   \n",
            "579    580  fAd50CaEC5De3a2        David       Cooper  Female   \n",
            "580    581  0d76Cc0178cEDde         Jade       Molina  Female   \n",
            "581    582  8034D6C38d32ceB      Shannon      Marquez    Male   \n",
            "582    583  Aca5354F4cFDE1f         Jake      Shannon    Male   \n",
            "583    584  1CAE1D46Bb2D88b         Dawn       Lowery  Female   \n",
            "584    585  bBad672CaFe2Bf2       Carrie       Newman    Male   \n",
            "585    586  Bd5097dA8dAED4D         Ross    Davenport    Male   \n",
            "586    587  FCb92CeC4Bd2Fa5    Johnathan       Dudley  Female   \n",
            "587    588  D9e46cBD0bb5D98     Franklin       Decker  Female   \n",
            "588    589  FbCfee2c5A11b99      Candace    Velasquez    Male   \n",
            "589    590  67844458acb8E4f       Kaylee      Skinner  Female   \n",
            "590    591  8fdA78eCB748D7A      Francis         Carr    Male   \n",
            "591    592  aB4EC741BFAd71f      Breanna           Yu  Female   \n",
            "592    593  74c74Cac4de4fDf        Marco        Ramos  Female   \n",
            "593    594  1EB8ac9BE8bbC8a        April         Love  Female   \n",
            "594    595  6fc27d896D3c31e        Bryan         Wise    Male   \n",
            "595    596  3E836e147370be3      Sabrina        Burch    Male   \n",
            "596    597  220bEfDd34E26EC         Evan         Kerr  Female   \n",
            "597    598  7B4fC10a2bafCF3         Luis         Knox  Female   \n",
            "598    599  a93ce099dd11BB0           Jo      Beasley  Female   \n",
            "599    600  fF284beE35bBA83      Rebecca      Beasley  Female   \n",
            "600    601  ABf7325Ecd6bcbC      Kristie         Good    Male   \n",
            "601    602  ec2Cc8fbFBF8F8D      Natalie    Velasquez  Female   \n",
            "602    603  D25eCcABfFE4C5c      Dominic     Friedman    Male   \n",
            "603    604  B3cc4415Cf3aDeC        Molly       Ashley  Female   \n",
            "604    605  BE2A1E276a26bA1      Kristin         Wang  Female   \n",
            "605    606  65C7BEd9cb1B8aA         Rick       Chavez    Male   \n",
            "606    607  4bB94aac5333AE1        Wyatt      Bennett  Female   \n",
            "607    608  CDeF8A60Fb7A1Cc       Meagan         Roth  Female   \n",
            "608    609  E3f1FCb09027344         Lisa          Roy    Male   \n",
            "609    610  Ce4A51f46CD8379        Marie     Bautista  Female   \n",
            "610    611  EF07DC6caA5D31F         Rita        Walsh    Male   \n",
            "611    612  0CfCCfc4617b8fd       Howard         Sosa  Female   \n",
            "612    613  EAebe71E9B4F8ca      Kenneth    Middleton    Male   \n",
            "613    614  59F389BC8b480eC      Katelyn        Burns    Male   \n",
            "614    615  5f4B1F99D8EfDf1      Douglas        Ellis    Male   \n",
            "615    616  35b3eD70Ba7bfF9       Rickey         Sims  Female   \n",
            "616    617  44bCffc462bAA63        Tammy     Delacruz  Female   \n",
            "617    618  20E292e52B978EA      Mallory       Warner    Male   \n",
            "618    619  936CC4d80a9960F     Charlene       Abbott  Female   \n",
            "619    620  5E5dbe677C8Da1D       Bailey      Bonilla    Male   \n",
            "620    621  15AB971997BFF3b         Jody      Carlson  Female   \n",
            "621    622  BD4D1Ce1cE4daA3      Theresa       Zavala  Female   \n",
            "622    623  eCD633518f1E6ed      Darlene    Underwood  Female   \n",
            "623    624  73d4A6193AAEcCC       Amanda       Glover  Female   \n",
            "624    625  FE85af8035F58c4       Vickie        Mcgee  Female   \n",
            "625    626  b05b2FcafF87ebe       Laurie      Wallace    Male   \n",
            "626    627  10a20299ba5e079     Fernando      Escobar  Female   \n",
            "627    628  19Fed9aFBA694a3       George      Maynard    Male   \n",
            "628    629  596B7256a000033       Samuel       Glover    Male   \n",
            "629    630  A4E3D5AD1895c5C        Heidi        Brock    Male   \n",
            "630    631  a6eC59c6f5e5B25         Bill       Pierce    Male   \n",
            "631    632  8bC1dECdBE9C486          Max       Hanson  Female   \n",
            "632    633  a48c52e71Fe4BFC    Alexander     Benjamin    Male   \n",
            "633    634  EB191EA73E73195        Kelly       Gentry  Female   \n",
            "634    635  cFa41AC8D3DFbbd        Brett     Petersen    Male   \n",
            "635    636  FbB1eCd50d46bbf     Lorraine        Miles    Male   \n",
            "636    637  D2A1597db9DD6cb        Heidi       Berger    Male   \n",
            "637    638  f4EfF9e2fc4D0bC        Jaime       Kelley  Female   \n",
            "638    639  CBA7CBab9Dfeabe     Brittany       Conner  Female   \n",
            "639    640  FFB77320B39ea0E      Christy       Martin    Male   \n",
            "640    641  C8F6080ebFbAf2E       Regina         Sims  Female   \n",
            "641    642  4aFFB7eC9bd16fc        Ariel         Bean  Female   \n",
            "642    643  C8CB3Df525208B3         Troy        Weeks    Male   \n",
            "643    644  Bd6E5AeDB8b0B85       Carrie        Gomez    Male   \n",
            "644    645  eEd90E2BE67cfEa       Norman      Lambert    Male   \n",
            "645    646  eB4dd4CFf58a92c       Vernon         Lara    Male   \n",
            "646    647  4da9465cBbcd1a9        Shaun    Robertson    Male   \n",
            "647    648  1c4a1Fb8Edf68Bd       Sheila         Pace  Female   \n",
            "648    649  8FB6bFbdf6d5AFD      Diamond        Huber  Female   \n",
            "649    650  EcF5c3AAa4aBB82        Bryan     Oconnell    Male   \n",
            "650    651  F16DDAAEF9Aa1E9      Chelsea  Fitzpatrick    Male   \n",
            "651    652  A3C384EB6F44Fc9         Emma      Jenkins  Female   \n",
            "652    653  BA9FCDFCed8a434       Elijah      Roberts  Female   \n",
            "653    654  77F47E08CfbCa65       Darren     Hamilton  Female   \n",
            "654    655  3ACACCEa43cc701       Alicia          Orr    Male   \n",
            "655    656  5b8EC2B3CE232Dc    Christina      Barnett  Female   \n",
            "656    657  A93DD75a1B1aC2a      Tabitha      Beltran  Female   \n",
            "657    658  45a386F7a80Cdbe        Sarah    Schroeder    Male   \n",
            "658    659  F16A25630bcb0CC      Katrina       Jordan  Female   \n",
            "659    660  7D5A42fDBCE5D17       Sophia       Harris  Female   \n",
            "660    661  f11201935b4Aaa6        Brady       Coffey  Female   \n",
            "661    662  f1433fdBF2aF214      Kristie      Cameron  Female   \n",
            "662    663  7f988e027112551        Tracy         Yang  Female   \n",
            "663    664  0dF8df0E0e1Cf4B       Hayley         Hess  Female   \n",
            "664    665  edf83d698CAcdD2       Joanne        Moody    Male   \n",
            "665    666  Ca53B9d7EdF83EE         Rick      Shields    Male   \n",
            "666    667  eBD1d5A9cc662a3           Jo       Harris    Male   \n",
            "667    668  0Aa56ae7D7fe82f       Yvette      Barrett    Male   \n",
            "668    669  f50FBaf6A949269       Autumn        Avila    Male   \n",
            "669    670  3cB04beBeCd2daa      Eduardo    Maldonado  Female   \n",
            "670    671  F593F1abdecC4bc        Shari    Gillespie  Female   \n",
            "671    672  79fBAFAdA0Cc4c3      Caitlyn         Webb    Male   \n",
            "672    673  CE058D7DB97D0Df        Cathy    Gallagher  Female   \n",
            "673    674  Fd8ad0F0ff47bAd       Morgan       Spears  Female   \n",
            "674    675  6F140eDaa8EaBfF       Bianca      Merritt    Male   \n",
            "675    676  cFeE691ffA1c254      Kenneth      Sanchez    Male   \n",
            "676    677  C4D0eeca81999E0        David      Skinner    Male   \n",
            "677    678  F73c1acfEabbe77      Caitlin      Hoffman  Female   \n",
            "678    679  CB7Bb6f8B855dD7        Peggy        Moore    Male   \n",
            "679    680  fD9d0F38eFBa56B        Doris       Larsen  Female   \n",
            "680    681  203e2beE6cc7d3b     Mercedes        Potts  Female   \n",
            "681    682  7f1600A9e94BcDB        Craig        Duffy    Male   \n",
            "682    683  bC702C45cBCCa3F         Tami       Patton  Female   \n",
            "683    684  7d36C7aBBbf4b83         Erik      Summers    Male   \n",
            "684    685  7333106C93e179c      Theresa     Cantrell  Female   \n",
            "685    686  dBF044bC70d8afd       Kendra         Bird  Female   \n",
            "686    687  80e5d8dD8aFAdcb        Heidi     Odonnell    Male   \n",
            "687    688  8CaBCcBfccaacb0       Regina        Green  Female   \n",
            "688    689  FF2F15A0c3e6Df6        Betty        Quinn  Female   \n",
            "689    690  eBc8c80DF2ca986       Mariah      Woodard  Female   \n",
            "690    691  caEcaEe8b14Cfae        Emily       Molina    Male   \n",
            "691    692  C7e5E19673db661     Kristine         Dyer  Female   \n",
            "692    693  7EDC571BC5fb2Cc         Brad       Crosby  Female   \n",
            "693    694  1D2cA9eDfc7aAAC         Drew         Beck    Male   \n",
            "694    695  6EEacA1cC73fDba        Blake    Whitehead    Male   \n",
            "695    696  acf2a33A8Fc3Cd9      Maureen       Flores  Female   \n",
            "696    697  1B7E5A3B1837BF8       Monica       Santos  Female   \n",
            "697    698  f430E7D24D8CdD5     Brittney     Stephens  Female   \n",
            "698    699  d5DEd272fDF5bEA        Aaron       Little    Male   \n",
            "699    700  BCe1cA2aF4dc7Df         Leon       Duarte    Male   \n",
            "700    701  59b8B645CDe6e88      Frances      Harrell    Male   \n",
            "701    702  e5b56663E1207cF      Anthony         Ross  Female   \n",
            "702    703  A4bD25aEFeB33fa    Alejandra      Esparza  Female   \n",
            "703    704  6dc774AEa44FFea     Angelica         Lynn  Female   \n",
            "704    705  84b2ad43250301f         Tara        Moody    Male   \n",
            "705    706  5E0A3C8fe14c45e      Patrick       Landry  Female   \n",
            "706    707  2d4bFC48Fa759eC       Claire      Esparza    Male   \n",
            "707    708  2bA0A8BBbAEFF68         Evan     Sheppard    Male   \n",
            "708    709  cA10A9202e6bA2D       Claire     Thornton    Male   \n",
            "709    710  1edDB7AddBB3e9E      Richard        Rocha  Female   \n",
            "710    711  ab2c4afC563bDc6         Kent      Flowers    Male   \n",
            "711    712  F7bf5c95e39b7BE         Jane       Zamora  Female   \n",
            "712    713  B117Cee2EEa4125         Rita      Sweeney  Female   \n",
            "713    714  8b0bC617a6a50Dc         Leah    Mcfarland    Male   \n",
            "714    715  8aa995c7659BC9C      Vincent      Schmidt    Male   \n",
            "715    716  C54D6636EBAAD95       Ronnie       Hurley    Male   \n",
            "716    717  FB6Fdd4Ff910aeE       Audrey        Burke  Female   \n",
            "717    718  029daB8F128B645       Javier         Mata    Male   \n",
            "718    719  fAe6254d1E37D0d       Cassie        Price  Female   \n",
            "719    720  5FAaf91AF4cb9d0       Julian       Zuniga  Female   \n",
            "720    721  AA8CB54E5bE8f7f        Carla        Ramos    Male   \n",
            "721    722  BC35A8dAaE8A73e    Elizabeth      Pearson    Male   \n",
            "722    723  A8DcFC5bC8276BD     Lorraine       Carney    Male   \n",
            "723    724  E15806c8d7dE468       Joanna       Kaiser    Male   \n",
            "724    725  D25CCce21EFbe7F       Johnny    Daugherty    Male   \n",
            "725    726  7e9af03228B5Cb9      Gabriel         Bird    Male   \n",
            "726    727  FAbE465EA20A1Ba       Bianca       Becker  Female   \n",
            "727    728  d2fFe97a32647f6     Reginald        Roach  Female   \n",
            "728    729  f2659f09BB9d186     Kimberly        Kirby    Male   \n",
            "729    730  c9b482D7aa3e682       Lonnie         Duke  Female   \n",
            "730    731  ac9A8cBf5e8EAEd        Kelli         Koch    Male   \n",
            "731    732  bF6e50d8Ca9f8F9           Jo         Kidd  Female   \n",
            "732    733  A20150cA0966CAF        Diana       Rivera  Female   \n",
            "733    734  FF932e2bcccb9B2        Allen   Fitzgerald  Female   \n",
            "734    735  9BF53D7DcabdAA7      Leonard      Wallace  Female   \n",
            "735    736  5A3147D0A0b5eFa       Arthur         Pugh  Female   \n",
            "736    737  a2110859fEdbcaB       Dwayne        Bauer    Male   \n",
            "737    738  BBa02EC792cfFf3        Heidi        Avila  Female   \n",
            "738    739  BF2d1D6E5bacaBC     Franklin          Key    Male   \n",
            "739    740  d8D3Ed36fa630bE       Sergio       Rangel  Female   \n",
            "740    741  b0E2bF69efAB9c5         Gina        David    Male   \n",
            "741    742  95e04B535D8e8CC         Mike      Baldwin    Male   \n",
            "742    743  8019a2FFb2c0a3B        Holly      Burnett  Female   \n",
            "743    744  de8Bb8dEa84d29F        Jenna       Dawson  Female   \n",
            "744    745  79e8a7A269f890d    Catherine        Bryan    Male   \n",
            "745    746  e80Fa1FFD1Eb46A       Jerome    Dougherty    Male   \n",
            "746    747  CEa30100D11C420        Wayne        Zhang    Male   \n",
            "747    748  Ab9bBff60787e3A        Blake         Duke    Male   \n",
            "748    749  eaAda801D24C59C         Rick       Mosley    Male   \n",
            "749    750  f18c18ab8Ab27Fc     Reginald       Howard    Male   \n",
            "750    751  43A1757E8DbA223         Chad      Manning    Male   \n",
            "751    752  Fb9178FdC2CEE3d        Wayne    Velazquez  Female   \n",
            "752    753  A97F9D0BFde1565       Darren       Lowery  Female   \n",
            "753    754  0AbaC4a6BB81Ab6        Perry       Wright  Female   \n",
            "754    755  E28aB037BCbdE2a        Mandy      Gregory    Male   \n",
            "755    756  Eb6Cd01A17a5a56       Tammie         Neal  Female   \n",
            "756    757  cCbd920BE02ee0F        Wayne       Guzman    Male   \n",
            "757    758  B5709aba28899e6      Whitney         Wang    Male   \n",
            "758    759  FBe8a925400f4f4       Cassie        Moore    Male   \n",
            "759    760  F2aEDA5F5fc0685       Regina      Carlson    Male   \n",
            "760    761  eABE50FeE6c751b        Jason        Downs  Female   \n",
            "761    762  d7669B20ebC9A2e         Jose         Kemp  Female   \n",
            "762    763  424F7Df575a3065          Joy      Meadows  Female   \n",
            "763    764  Bebf9fB917CFc6a        Renee        Bowen    Male   \n",
            "764    765  fe01EF29A34aF99       Julian   Pennington  Female   \n",
            "765    766  faCaD334e8Eef84          Pam     Jennings    Male   \n",
            "766    767  F32De403D1DBac2        Julie        Mckay  Female   \n",
            "767    768  7740F2cBCaEB2fC         Jodi         Pena    Male   \n",
            "768    769  7502B47999fF8ED        Mason      Compton  Female   \n",
            "769    770  C5BAe1ADD5986cE    Frederick        Perry  Female   \n",
            "770    771  dC121D6cCe812fa       Sheena     Crawford  Female   \n",
            "771    772  6f9fcADee67c713      Katelyn    Henderson    Male   \n",
            "772    773  5DACBefF884DffE        Bobby    Patterson    Male   \n",
            "773    774  db90E7B9FF2A9C0       Marvin       Steele  Female   \n",
            "774    775  5CAbD9dF096Aa13      Katrina        Woods  Female   \n",
            "775    776  fcfDa2eC50ae07C      Rachael      Delgado    Male   \n",
            "776    777  Ed91fA258936EC5    Alexandra         Ward  Female   \n",
            "777    778  F5a33C77aA390AC      Darlene     Mcdonald  Female   \n",
            "778    779  cdD4Ee6be68BADD       Morgan         Luna    Male   \n",
            "779    780  e8Cb6Bc924f9FDe       Vernon      Hancock  Female   \n",
            "780    781  dF4FDB4BDAA5f8f        Robyn   Richardson  Female   \n",
            "781    782  6aBba43CE031E14      Vanessa      Fischer    Male   \n",
            "782    783  Dba3CD8ABD2D807        Heidi        Roman    Male   \n",
            "783    784  231cA50d1fBAC0f      Kristen       Brewer    Male   \n",
            "784    785  9eD7FFd12eDFaCe         Jean     Browning  Female   \n",
            "785    786  7Cd475256fF1D28     Lawrence      Gregory    Male   \n",
            "786    787  FFdAE44a6E3A64C    Christine        Payne    Male   \n",
            "787    788  27eeC47948DFD15      Barbara      Ramirez  Female   \n",
            "788    789  f7B611b1acC1564        Ruben      Hammond  Female   \n",
            "789    790  A4D53a3EfCfcAcB       Donald         Nash  Female   \n",
            "790    791  668E9F3f3fbfD6f     Angelica      Anthony  Female   \n",
            "791    792  4A9BA13acFe3dB1       Claire        Glass  Female   \n",
            "792    793  e1835eA12f669Ab       Leslie        Curry  Female   \n",
            "793    794  Da915B5ed8D97d4       Calvin       Thomas    Male   \n",
            "794    795  caDAddce68a5E34      Makayla        Boyer    Male   \n",
            "795    796  5150EF9E1cfceb2      Caitlyn         Bass    Male   \n",
            "796    797  3fEA9f572A3af9D         Tony       Holmes    Male   \n",
            "797    798  7b8cD5a408faDB0        Lydia     Cisneros    Male   \n",
            "798    799  a1169FdfbB173E8        Debra       Knight  Female   \n",
            "799    800  d267aDd8B64dE78      Garrett       Barber  Female   \n",
            "800    801  Dea7Ff4d68c0FD3      Annette        Grant    Male   \n",
            "801    802  d2DEaD9fd0ac7EC         Todd    Blackburn  Female   \n",
            "802    803  ee4aB7cf0f5c058       Xavier          Ray  Female   \n",
            "803    804  c96f6E281e57197      Gilbert       Wilcox  Female   \n",
            "804    805  18941F347C6EFd2      Frances      Gilbert  Female   \n",
            "805    806  25Eeca12Af6dc9b      Eduardo    Whitehead  Female   \n",
            "806    807  d9dD13F72DeBEFc      Jillian   Valenzuela  Female   \n",
            "807    808  acF9EcCcB6aa19F        Jenna       Atkins  Female   \n",
            "808    809  A04BcfcDF9FeB1e      Chelsey     Martinez    Male   \n",
            "809    810  DC89eCAd3e29B64        Ebony       Harmon  Female   \n",
            "810    811  d9cdb1B50b11E0a        Grace    Underwood  Female   \n",
            "811    812  D4cd00da652b525        Harry       Conrad  Female   \n",
            "812    813  d0Fd08CEbA41c09      Rebekah         Koch  Female   \n",
            "813    814  e96B00Ea1A4AfEb         Jody       Nguyen  Female   \n",
            "814    815  cfd7AbC9Fda5B0d        Caleb     Erickson    Male   \n",
            "815    816  a691dFeB0E93d4d        Katie       Gamble  Female   \n",
            "816    817  71F739A38d5D85A     Patricia         Lane  Female   \n",
            "817    818  8C68f3F7fCdE854      Dorothy      Shannon    Male   \n",
            "818    819  9dD0fA3FA742F6e      Dominic        Moran    Male   \n",
            "819    820  bd0E4aCa6c9Ff6b     Virginia         Tate  Female   \n",
            "820    821  2d5C3dc437CF74c     Terrance      Hubbard    Male   \n",
            "821    822  D8A160cFf6B758C        Paula      Daniels    Male   \n",
            "822    823  ca405D00cbffbB0        Steve         Peck    Male   \n",
            "823    824  031EEefB0f3f0C0     Franklin       Conley  Female   \n",
            "824    825  c04a307Bf53C5a5         Mary      Aguirre    Male   \n",
            "825    826  9A6ef2C5f4192B9       Krista    Alexander  Female   \n",
            "826    827  bC9AF9CD40dB26C          Tim         Frey  Female   \n",
            "827    828  e08F4F30bB170cb        Shane      Mcgrath    Male   \n",
            "828    829  43CdFBDc5D631BB        Sonya        Nixon    Male   \n",
            "829    830  C373a6DfE147b59        Diana      Burnett    Male   \n",
            "830    831  feAb6AB57dE8DB3         Kirk      Stanton  Female   \n",
            "831    832  b6A2C01C4d6c9a0         Toni        Kline  Female   \n",
            "832    833  0e0E47F5b9AbdDe        Sonya      Flowers  Female   \n",
            "833    834  bc4EAf173C2e2cc       Stuart          Kim  Female   \n",
            "834    835  7EAB1b223De8c22     Margaret         Wang    Male   \n",
            "835    836  0CFcdEe5cbBdA0c         Fred       Dennis    Male   \n",
            "836    837  8fB74AeAa3e1a76        Becky      Jimenez    Male   \n",
            "837    838  c03baDebc04ba3D         Mark      Donovan  Female   \n",
            "838    839  132E21CcB3fC9a9        Terri        Brock    Male   \n",
            "839    840  fcFEBc4ba91Bff1        Jorge        Flynn    Male   \n",
            "840    841  dEcBC02d0DF5A2E         Jean      Harding    Male   \n",
            "841    842  A611B2d0cbD23bB        Laura       Horton  Female   \n",
            "842    843  BA364F4E2bF880b       Carlos        Ramos    Male   \n",
            "843    844  f06cFfc4ca098f7       Norman        Fritz    Male   \n",
            "844    845  77fd54b78285efa         Dana        Hayes  Female   \n",
            "845    846  aCabfCFCCa9fB2c     Jonathon       Holden    Male   \n",
            "846    847  4Fc2781bb90980C        David       Garcia  Female   \n",
            "847    848  d599aCa3193b446       Javier      Camacho    Male   \n",
            "848    849  Ccba2A606527545      Shelley      Barajas  Female   \n",
            "849    850  D2fc9aAf83C9E8d        Jerry       Mooney    Male   \n",
            "850    851  fB2Ae2Ca0AEFaa0    Gwendolyn         Lane  Female   \n",
            "851    852  F5bEe8FcBf4ccc9          Jon         Soto    Male   \n",
            "852    853  Da9eec47EAb83AA       Melody       Hebert    Male   \n",
            "853    854  89F06B3fA6caF36       Gloria      Allison  Female   \n",
            "854    855  5BAA7F0Bf70A588       Kristi          Orr  Female   \n",
            "855    856  Ed6dcecd37Fc4d0      Bethany        Olson  Female   \n",
            "856    857  3f66552DA64B9AC        Holly     Cisneros  Female   \n",
            "857    858  F2D75c64c1dBC4e       Stuart        Tapia    Male   \n",
            "858    859  f45723A3eab55fb       Kaylee       Meyers  Female   \n",
            "859    860  f4c82B1EDBe3a19      Ricardo   Washington    Male   \n",
            "860    861  e4BC290cda6E2b4      Roberto         Frey  Female   \n",
            "861    862  Ecd8EF1bE3A5F3B        Doris      Coleman  Female   \n",
            "862    863  D4eEb4d79D28F5D        Nancy        Reese  Female   \n",
            "863    864  Bba2ac9fC7CdfC4         Juan        Pratt  Female   \n",
            "864    865  F5D5aDBEBCFd47D       Marvin           Li  Female   \n",
            "865    866  9637A7c8840FbdD       Angela        Novak  Female   \n",
            "866    867  a2CffC07D6ee278      Bradley       Miller  Female   \n",
            "867    868  F6DA88Bf5aEAef9       Jaclyn         Duke    Male   \n",
            "868    869  bB9D1eC2d6CEF3f         Leon      Farrell  Female   \n",
            "869    870  BE9Bab7Ff9B020D      Katrina       Duncan    Male   \n",
            "870    871  D7A4cDC318400a9     Savannah        Marsh  Female   \n",
            "871    872  6dEd664A81d9726     Cristian       Hansen  Female   \n",
            "872    873  89D9ED9f397ccdF      Jasmine     Mcdaniel  Female   \n",
            "873    874  10378DebBF35f3b        Wendy         Ware  Female   \n",
            "874    875  8ABEFBfec676eAE        Leroy       Ramsey    Male   \n",
            "875    876  aF7fB3051A6f821      Natalie        Owens    Male   \n",
            "876    877  54B827E53Aaad1B        Craig        Olson  Female   \n",
            "877    878  eE49Ce572F490dB      Patrick      Wallace    Male   \n",
            "878    879  0c6D5FE391DDDfF         Ivan       Newton    Male   \n",
            "879    880  cC7cc25dDF9Bc7c         Cody     Stafford  Female   \n",
            "880    881  B7Bfd6CCb6e3550        Sonia    Hendricks  Female   \n",
            "881    882  B2fF6d256E04A02         Bill        Glass  Female   \n",
            "882    883  bEB9A8E7cd5fe09      Rebecca        Nolan  Female   \n",
            "883    884  9ED6A10458B20F4       Daniel        Braun  Female   \n",
            "884    885  Ad4fadaAcC5DA35        April     Mcdaniel  Female   \n",
            "885    886  65c20c729B2dcF8       Curtis     Saunders    Male   \n",
            "886    887  5E6Db13AF3bddfD        Haley       Pineda    Male   \n",
            "887    888  CF55FFa5ff58adC         Brad        Lynch    Male   \n",
            "888    889  aEf0fE6aF07daCF       Ashlee         Snow    Male   \n",
            "889    890  4835cD2367aaa0c        Malik         Tate    Male   \n",
            "890    891  C3c29A0dEb9Cfdd     Cristina        Berry  Female   \n",
            "891    892  9Eb756Bd5F867Ee        Malik        Bruce  Female   \n",
            "892    893  d0a4Fd80e3e6cc7        Tonya      Barrett    Male   \n",
            "893    894  9ef55AFab0FB5d1    Gabrielle         Knox  Female   \n",
            "894    895  Dbc452Be6ba20d0      Darlene     Sheppard    Male   \n",
            "895    896  D1F81074fB19eF6    Dominique       Mendez  Female   \n",
            "896    897  013C5edC3dc4dF8       Ronnie        David  Female   \n",
            "897    898  510DAC1BE6C39ef    Gabriella         Pena    Male   \n",
            "898    899  85bfcA8E16fAFde        Cindy   Washington  Female   \n",
            "899    900  15fDd48A41eCcd0     Cristina       Arroyo  Female   \n",
            "900    901  EABBd81DFeeD7ab       Tracie      Trevino  Female   \n",
            "901    902  830EfF83609B48C       Alyssa       Robles  Female   \n",
            "902    903  8BAf5f1Cfc14dBa        Marco      Shannon    Male   \n",
            "903    904  1ECBd9199A91b6e        Megan       Chavez    Male   \n",
            "904    905  9DDa9FF9FdBfC66    Francisco          Fox  Female   \n",
            "905    906  b83e0c3c1B1dE27       Martha          Lin  Female   \n",
            "906    907  c2f4DfEeE02d1Fa        Sarah     Bautista  Female   \n",
            "907    908  aC06DadA725b3Fd        Katie       George  Female   \n",
            "908    909  7c0f808CE9EEfE7       Sylvia        Boyer    Male   \n",
            "909    910  3b44E9b5915745f      Whitney      Andrews  Female   \n",
            "910    911  31FFcD6eB48E856     Michaela      Calhoun  Female   \n",
            "911    912  2caCaBe9CbdFFC8       Steven         Mata    Male   \n",
            "912    913  7Bad31BD10CE08C       Cheryl          May  Female   \n",
            "913    914  89D52456EC4eECE      Yolanda       Wagner    Male   \n",
            "914    915  a1Bec1eAd03bCAf    Christina      Walters  Female   \n",
            "915    916  2c1aBF56c97b969       Dustin         Dyer  Female   \n",
            "916    917  ca7B27cbefCEBb0        Angel         Knox  Female   \n",
            "917    918  C150Dc3E15e3b0A         Jill      Jenkins  Female   \n",
            "918    919  aa1A1Ecb1E1661B         Gail      Skinner    Male   \n",
            "919    920  3dCeDeb6a09408B      Suzanne    Hernandez  Female   \n",
            "920    921  fa1c3AABF9d6d5E       Joanne        Silva  Female   \n",
            "921    922  5Bf923A1cB6ACF3         Cole      Hancock    Male   \n",
            "922    923  FCc1A64eF8C879e       Joshua     Phillips    Male   \n",
            "923    924  bF5721BbCd579Df      Suzanne      Hendrix  Female   \n",
            "924    925  3faedEDe9A8686a        Tyler        Morse  Female   \n",
            "925    926  AcfA331E0c712AB        Debra      Shields    Male   \n",
            "926    927  fa611Ed5ccC99C8        Marie    Dominguez    Male   \n",
            "927    928  30c4DEcbA34EA6f      Charles     Griffith    Male   \n",
            "928    929  9224fea6EB73BF1        Shari        Glenn  Female   \n",
            "929    930  467Fc9EA1Aae0AD      Stephen     Callahan    Male   \n",
            "930    931  2BAe5D357b1213b     Geoffrey        Booth    Male   \n",
            "931    932  4DfdDfafc4Da95e         Noah         Owen  Female   \n",
            "932    933  2e1ac4F7600ceA5       Mariah       Finley    Male   \n",
            "933    934  b12d138244da69c     Angelica      Frazier  Female   \n",
            "934    935  C1d1F3BEd92F0Dd        Angel     Davidson  Female   \n",
            "935    936  3eE4Dc4C8FAb1F5       Evelyn     Holloway    Male   \n",
            "936    937  3b5A0bFC0bcAaCa         Luis         Neal    Male   \n",
            "937    938  0efa54b5ea1D2EE        Karla       Obrien    Male   \n",
            "938    939  0dFeA94c36A0085        Glenn     Schaefer  Female   \n",
            "939    940  4C04e80C477F6fc       Julian      Andrade    Male   \n",
            "940    941  dD648d068e6BA2A       Willie       Mccall  Female   \n",
            "941    942  cdBFEEF00Ac3b0E     Danielle         Sims    Male   \n",
            "942    943  2bDbaCfeA5dD24b        Sally     Carrillo  Female   \n",
            "943    944  0bec75Ebba75267       Johnny      Elliott    Male   \n",
            "944    945  D7B72E2A09D9a3e        Janet     Mckinney  Female   \n",
            "945    946  c39CA02fba16018      Brendan      Ellison  Female   \n",
            "946    947  1E5bd39FEa189Ca          Ana        Rivas  Female   \n",
            "947    948  a3BeA53B74FAb3b         Emma       Lawson    Male   \n",
            "948    949  614f7BFDFD0eb8a      Heather       Holder    Male   \n",
            "949    950  22e31df46F6fCD2        Daryl         Knox    Male   \n",
            "950    951  aa4b6Ffcd5EA4a8       Johnny       Clarke  Female   \n",
            "951    952  6EE9F6c4e7E2baF       Laurie    Blanchard    Male   \n",
            "952    953  E76E7b0AccbaFfc        Malik      Stanley    Male   \n",
            "953    954  41eDA1F2F3aC6eD      Mikayla       Chaney    Male   \n",
            "954    955  Eb26cfD1F836dBb        Tasha        Ramos    Male   \n",
            "955    956  eA75Ff58254E608       Travis       Krause  Female   \n",
            "956    957  15AeaeA0add0f2a        Kathy        Yoder  Female   \n",
            "957    958  f3cCaCEbcD7ECae      Charles      Hubbard    Male   \n",
            "958    959  cFf7Cb8E9d87b29         Beth        Moyer  Female   \n",
            "959    960  e7C83084cdE54Ce         Joan        Kelly  Female   \n",
            "960    961  5De2AdFAd2562e2          Don      Pacheco  Female   \n",
            "961    962  32Aa87B007D3a0c     Madeline      Sellers  Female   \n",
            "962    963  c5e7d7f5b6b60D3      Candice       Barber    Male   \n",
            "963    964  BeF4EDcC9cb475F        Angel      Marquez  Female   \n",
            "964    965  401D08bA1E0f8bE      Breanna   Mccullough  Female   \n",
            "965    966  bdb61a25De7a257    Cassandra       Adkins  Female   \n",
            "966    967  584e53eea9f8111       Sherry     Holloway    Male   \n",
            "967    968  6ae7dbDbeF0d829      Caitlyn      Hubbard  Female   \n",
            "968    969  dd2Ca5BbccCFEC5         Noah        Lloyd    Male   \n",
            "969    970  38128d28998a9b8       Vernon    Daugherty    Male   \n",
            "970    971  f717C76C8B424FA         Jean       Conway    Male   \n",
            "971    972  Abb1C0C64234175      Phyllis          Ray  Female   \n",
            "972    973  CFd08cE1deAC2C1       Wesley       Berger  Female   \n",
            "973    974  5cAC295A6a4ACB0        Damon     Petersen    Male   \n",
            "974    975  F1Ba9b3cA24bea5       Tyrone        Ponce    Male   \n",
            "975    976  18fa6d7EE8ef71f       Victor        Ayers    Male   \n",
            "976    977  220243491cdFd7A       Dennis      Hampton  Female   \n",
            "977    978  66ce83ECBC9E077       Darius         Kerr    Male   \n",
            "978    979  A40e0a3df2cF0E7        Duane      English  Female   \n",
            "979    980  Fa4D7Cece0D9Aa0          Jon      Kaufman  Female   \n",
            "980    981  B8b858f588605dF        Roger    Hernandez  Female   \n",
            "981    982  323ae5fE1Cc2fdB        James       Atkins  Female   \n",
            "982    983  af0D77BeEF7A6c8        Damon        Colon    Male   \n",
            "983    984  7b5CfB8DdF8c5c5      Dorothy       Harvey  Female   \n",
            "984    985  eB90cc8dCA28Ee3      Derrick      Stanton  Female   \n",
            "985    986  bA8b297CbcAcdB6        Susan        Clark  Female   \n",
            "986    987  9871eF832fab828       Lonnie     Reynolds    Male   \n",
            "987    988  ceeDdd8a6A9684d       Joshua       Walker  Female   \n",
            "988    989  00ED5d507b542D1        Gavin        Banks  Female   \n",
            "989    990  1Dba7B14a3E44EE         Omar         Kent    Male   \n",
            "990    991  CBfaec1d322EBEe        Lydia       Obrien    Male   \n",
            "991    992  E6e70ad4a3d0A2c     Brittney      Trevino  Female   \n",
            "992    993  54cC44b9D7fEDCF         Greg      Chapman  Female   \n",
            "993    994  0142106d1f4CcEF       Eugene         Love  Female   \n",
            "994    995  E54d5DDEeE6569E      Beverly         Ball    Male   \n",
            "995    996  fedF4c7Fd9e7cFa         Kurt       Bryant  Female   \n",
            "996    997  ECddaFEDdEc4FAB        Donna        Barry  Female   \n",
            "997    998  2adde51d8B8979E        Cathy     Mckinney  Female   \n",
            "998    999  Fb2FE369D1E171A     Jermaine       Phelps    Male   \n",
            "999   1000  8b756f6231DDC6e          Lee         Tran  Female   \n",
            "\n",
            "                                             Job Title  Salary  \n",
            "0                                    Probation officer   90000  \n",
            "1                                               Dancer   80000  \n",
            "2                                                 Copy   50000  \n",
            "3                             Counselling psychologist   65000  \n",
            "4                                  Biomedical engineer  100000  \n",
            "5                            Higher education lecturer   50000  \n",
            "6                                       Health visitor   60000  \n",
            "7                                           Air broker   65000  \n",
            "8                                 Designer, multimedia   50000  \n",
            "9                            Insurance account manager   50000  \n",
            "10                            Scientist, water quality   60000  \n",
            "11                                        Metallurgist  100000  \n",
            "12                                      Dramatherapist   85000  \n",
            "13                             Presenter, broadcasting   50000  \n",
            "14                                Nurse, mental health   70000  \n",
            "15                            Therapeutic radiographer  100000  \n",
            "16                                                Land   70000  \n",
            "17                              Recruitment consultant   70000  \n",
            "18                               Accounting technician   70000  \n",
            "19                           Education officer, museum   60000  \n",
            "20                                       Tax inspector   85000  \n",
            "21                                      Engineer, land   60000  \n",
            "22                                          Printmaker  100000  \n",
            "23                                   Personnel officer   60000  \n",
            "24                              Race relations officer   60000  \n",
            "25                                      Microbiologist   70000  \n",
            "26                                    Industrial buyer   85000  \n",
            "27                         Production assistant, radio   85000  \n",
            "28                             Agricultural consultant   85000  \n",
            "29                             Chief Financial Officer   50000  \n",
            "30                                    Insurance broker   90000  \n",
            "31                         Information systems manager   90000  \n",
            "32                    Psychologist, sport and exercise   60000  \n",
            "33                                          Ergonomist   50000  \n",
            "34                                    Sports therapist   65000  \n",
            "35                                         Comptroller  100000  \n",
            "36                           Claims inspector/assessor   80000  \n",
            "37                                     Hospital doctor   50000  \n",
            "38                        Investment banker, corporate   60000  \n",
            "39                                      Pilot, airline   60000  \n",
            "40                               Insurance underwriter   60000  \n",
            "41                                    Engineer, mining   65000  \n",
            "42                      Armed forces technical officer   60000  \n",
            "43                           Psychologist, educational   50000  \n",
            "44                             Housing manager/officer   50000  \n",
            "45                                             Dentist   60000  \n",
            "46                                      Prison officer   80000  \n",
            "47                                  Restaurant manager  100000  \n",
            "48                     Psychotherapist, dance movement   90000  \n",
            "49                             Human resources officer   70000  \n",
            "50                                        Nurse, adult   80000  \n",
            "51                                 Seismic interpreter   70000  \n",
            "52                                           Barrister   60000  \n",
            "53                                Engineer, structural  100000  \n",
            "54                                     Producer, radio   50000  \n",
            "55                              Therapist, nutritional   85000  \n",
            "56                                    Paediatric nurse   65000  \n",
            "57                                 Production engineer   60000  \n",
            "58                     Accountant, chartered certified   60000  \n",
            "59                                       Administrator   60000  \n",
            "60                                      Data scientist   80000  \n",
            "61                              Occupational hygienist  100000  \n",
            "62                                Nurse, mental health  100000  \n",
            "63                                       Art therapist   90000  \n",
            "64                                  Academic librarian   60000  \n",
            "65                                            Musician   65000  \n",
            "66                                 Engineer, petroleum   65000  \n",
            "67                               Journalist, newspaper  100000  \n",
            "68                                             Surgeon   50000  \n",
            "69                                   Building surveyor   50000  \n",
            "70                                Engineer, structural  100000  \n",
            "71                                  Veterinary surgeon   50000  \n",
            "72                                          Orthoptist   90000  \n",
            "73                                 Administrator, arts   80000  \n",
            "74                               Accounting technician   85000  \n",
            "75                              Museum/gallery curator   65000  \n",
            "76                                        Neurosurgeon   60000  \n",
            "77                          Designer, fashion/clothing   85000  \n",
            "78                                             Surgeon   90000  \n",
            "79                            Therapeutic radiographer   65000  \n",
            "80                            Local government officer  100000  \n",
            "81                       Research officer, trade union   50000  \n",
            "82                      Armed forces technical officer   65000  \n",
            "83                              Recruitment consultant   50000  \n",
            "84                             Chief Financial Officer   50000  \n",
            "85                           Health and safety adviser   85000  \n",
            "86                         Civil engineer, contracting  100000  \n",
            "87                           Publishing rights manager   85000  \n",
            "88                                    Paediatric nurse   65000  \n",
            "89                    Surveyor, commercial/residential   85000  \n",
            "90                                             Actuary  100000  \n",
            "91                             Human resources officer   65000  \n",
            "92                        Medical sales representative  100000  \n",
            "93                                 Production engineer   50000  \n",
            "94                                 Art gallery manager   60000  \n",
            "95                                 Engineer, materials   85000  \n",
            "96                                 Immigration officer   65000  \n",
            "97                   Environmental health practitioner   65000  \n",
            "98                               Accountant, chartered   70000  \n",
            "99                           Insurance account manager  100000  \n",
            "100                                    Legal executive   60000  \n",
            "101                                       Nurse, adult   70000  \n",
            "102                                         Translator   60000  \n",
            "103                             Fitness centre manager   60000  \n",
            "104                                    Games developer   90000  \n",
            "105                         Surveyor, building control   70000  \n",
            "106                             Therapist, nutritional   65000  \n",
            "107                                 Field seismologist   60000  \n",
            "108                     Dance movement psychotherapist   65000  \n",
            "109                          Engineer, technical sales   80000  \n",
            "110                             Audiological scientist   70000  \n",
            "111                     Commercial art gallery manager   85000  \n",
            "112                                       Retail buyer   80000  \n",
            "113                             Psychologist, clinical   80000  \n",
            "114                              Insurance underwriter   60000  \n",
            "115                           Waste management officer   65000  \n",
            "116                                       Metallurgist   80000  \n",
            "117                       Garment/textile technologist  100000  \n",
            "118                         Geophysical data processor  100000  \n",
            "119                              Nutritional therapist   70000  \n",
            "120                                Clinical biochemist   50000  \n",
            "121                    Runner, broadcasting/film/video  100000  \n",
            "122  Armed forces logistics/support/administrative ...   50000  \n",
            "123                             Surveyor, hydrographic   90000  \n",
            "124                               Engineer, structural   90000  \n",
            "125                         Museum/gallery conservator   85000  \n",
            "126                         Television camera operator   80000  \n",
            "127                              Hydrographic surveyor   65000  \n",
            "128                              IT sales professional   85000  \n",
            "129                             Fitness centre manager   85000  \n",
            "130                        Clinical research associate   50000  \n",
            "131                                             Artist   50000  \n",
            "132                             Engineer, agricultural   65000  \n",
            "133                 Museum/gallery exhibitions officer   60000  \n",
            "134                      Interior and spatial designer   50000  \n",
            "135                                  Financial adviser   70000  \n",
            "136                              Glass blower/designer   85000  \n",
            "137                                          Herbalist   70000  \n",
            "138                                      Stage manager  100000  \n",
            "139                            Engineer, manufacturing   90000  \n",
            "140                      Development worker, community   80000  \n",
            "141                           Loss adjuster, chartered   50000  \n",
            "142                 Research scientist (life sciences)   60000  \n",
            "143                                   Fashion designer   80000  \n",
            "144              Product/process development scientist   60000  \n",
            "145                                        Chiropodist   90000  \n",
            "146                         Civil engineer, consulting   65000  \n",
            "147                            Chief Executive Officer   50000  \n",
            "148                                Engineer, petroleum   80000  \n",
            "149                        Health promotion specialist   90000  \n",
            "150                                 Surveyor, building   65000  \n",
            "151                 Research scientist (life sciences)   60000  \n",
            "152                           Waste management officer   85000  \n",
            "153                                             Writer   90000  \n",
            "154                                      Archaeologist   90000  \n",
            "155                                     Teacher, music   90000  \n",
            "156                               Biochemist, clinical   50000  \n",
            "157                                       Tree surgeon   80000  \n",
            "158                         Architectural technologist   70000  \n",
            "159                                   Product designer   90000  \n",
            "160                    Commercial/residential surveyor  100000  \n",
            "161                            General practice doctor   70000  \n",
            "162                                      Social worker   50000  \n",
            "163                                    Camera operator  100000  \n",
            "164                                  Food technologist   80000  \n",
            "165                             Engineer, agricultural   65000  \n",
            "166                                         Translator   60000  \n",
            "167                        Careers information officer   65000  \n",
            "168                       Garment/textile technologist  100000  \n",
            "169                                  Designer, textile   60000  \n",
            "170                          Claims inspector/assessor   85000  \n",
            "171                      Research officer, trade union   70000  \n",
            "172                                Production engineer   60000  \n",
            "173                                   Graphic designer  100000  \n",
            "174                              Private music teacher   50000  \n",
            "175                             Primary school teacher   85000  \n",
            "176              Engineer, control and instrumentation   60000  \n",
            "177                                          Dietitian   60000  \n",
            "178                                 Purchasing manager   70000  \n",
            "179                                   Therapist, music   80000  \n",
            "180                               Engineer, electrical   90000  \n",
            "181                                  Quantity surveyor   85000  \n",
            "182                            Secretary/administrator  100000  \n",
            "183                Social research officer, government   90000  \n",
            "184                                Early years teacher  100000  \n",
            "185                             Engineer, aeronautical   65000  \n",
            "186                 Teacher, special educational needs   80000  \n",
            "187                                Visual merchandiser   90000  \n",
            "188                                               Copy  100000  \n",
            "189                           Advertising art director   90000  \n",
            "190                               Nurse, mental health  100000  \n",
            "191  Historic buildings inspector/conservation officer   90000  \n",
            "192                Engineer, broadcasting (operations)   60000  \n",
            "193                                       Risk analyst   50000  \n",
            "194                                     Retail manager   85000  \n",
            "195                                Librarian, academic   85000  \n",
            "196                       Fast food restaurant manager   80000  \n",
            "197                               Public house manager   50000  \n",
            "198                              Accommodation manager  100000  \n",
            "199                                  Medical secretary   80000  \n",
            "200                               Engineer, automotive  100000  \n",
            "201                                Landscape architect   90000  \n",
            "202                     Manufacturing systems engineer   85000  \n",
            "203                            Engineer, manufacturing   85000  \n",
            "204                               Merchandiser, retail   50000  \n",
            "205                 Teacher, special educational needs   80000  \n",
            "206                                 Professor Emeritus   80000  \n",
            "207                                        Adult nurse   60000  \n",
            "208                       Fast food restaurant manager   80000  \n",
            "209                           Engineer, communications  100000  \n",
            "210                                    Producer, radio   50000  \n",
            "211                               Engineer, automotive   90000  \n",
            "212                            Chief Marketing Officer   80000  \n",
            "213                                Librarian, academic   85000  \n",
            "214                             Amenity horticulturist   80000  \n",
            "215                                 Production manager  100000  \n",
            "216                              Multimedia programmer   80000  \n",
            "217                                        Illustrator   85000  \n",
            "218                       Research scientist (medical)   50000  \n",
            "219                           Insurance claims handler   85000  \n",
            "220                                       Set designer   90000  \n",
            "221                         Designer, fashion/clothing   50000  \n",
            "222                              Accommodation manager   70000  \n",
            "223                                      Social worker   80000  \n",
            "224                                   Health physicist   65000  \n",
            "225              Emergency planning/management officer  100000  \n",
            "226                 Logistics and distribution manager   85000  \n",
            "227                                           Lobbyist   70000  \n",
            "228                            Horticultural therapist   90000  \n",
            "229                      Speech and language therapist   90000  \n",
            "230                               Pharmacist, hospital   70000  \n",
            "231                                Dispensing optician   90000  \n",
            "232                                       Neurosurgeon   65000  \n",
            "233                        Civil engineer, contracting   70000  \n",
            "234                              Editor, commissioning   90000  \n",
            "235                    Geophysicist/field seismologist  100000  \n",
            "236                                       Nurse, adult   50000  \n",
            "237                                       Tour manager   90000  \n",
            "238                                      Oceanographer   70000  \n",
            "239                              Geneticist, molecular  100000  \n",
            "240                    Geophysicist/field seismologist   90000  \n",
            "241  Historic buildings inspector/conservation officer   70000  \n",
            "242                      Clothing/textile technologist  100000  \n",
            "243                           Local government officer   50000  \n",
            "244                 Tourist information centre manager   70000  \n",
            "245                                Production engineer   90000  \n",
            "246                  Research officer, political party  100000  \n",
            "247                     Television/film/video producer   60000  \n",
            "248                             Politician's assistant   85000  \n",
            "249                              Insurance underwriter   85000  \n",
            "250                                  Chemical engineer  100000  \n",
            "251                                   Insurance broker   90000  \n",
            "252                                    Music therapist  100000  \n",
            "253                                      Ranger/warden   90000  \n",
            "254                        Civil Service administrator  100000  \n",
            "255                                 Materials engineer   70000  \n",
            "256                      Restaurant manager, fast food   50000  \n",
            "257                                      Stage manager   90000  \n",
            "258                                             Banker   85000  \n",
            "259                                        Optometrist   80000  \n",
            "260                            Clinical cytogeneticist  100000  \n",
            "261                                Scientist, forensic   65000  \n",
            "262              Medical laboratory scientific officer  100000  \n",
            "263                 Public relations account executive   80000  \n",
            "264                                   Technical author   65000  \n",
            "265              Medical laboratory scientific officer   50000  \n",
            "266                    Commercial/residential surveyor  100000  \n",
            "267                            Water quality scientist   90000  \n",
            "268                                   Health physicist   80000  \n",
            "269                           Computer games developer   70000  \n",
            "270                              Adult guidance worker   65000  \n",
            "271                            Scientist, audiological   90000  \n",
            "272                         Museum/gallery conservator   50000  \n",
            "273                        Civil Service fast streamer   80000  \n",
            "274                               Licensed conveyancer   50000  \n",
            "275                                 Engineer, drilling   50000  \n",
            "276                             Programmer, multimedia   65000  \n",
            "277                                   Graphic designer  100000  \n",
            "278                                       Photographer   65000  \n",
            "279                      Clothing/textile technologist   85000  \n",
            "280            Diplomatic Services operational officer   85000  \n",
            "281                             Primary school teacher   90000  \n",
            "282              Senior tax professional/tax inspector   90000  \n",
            "283                                  Fisheries officer   90000  \n",
            "284                          Higher education lecturer   65000  \n",
            "285                             Conservator, furniture   90000  \n",
            "286                                         Contractor   65000  \n",
            "287                                        Ship broker  100000  \n",
            "288                                 Academic librarian   50000  \n",
            "289                            Land/geomatics surveyor   60000  \n",
            "290                                    Product manager   90000  \n",
            "291                             Primary school teacher   50000  \n",
            "292                           Scientist, physiological   50000  \n",
            "293                                         Translator   85000  \n",
            "294                                        Illustrator   60000  \n",
            "295                                Information officer   85000  \n",
            "296                 Tourist information centre manager   50000  \n",
            "297                                  Designer, textile   85000  \n",
            "298                                      Buyer, retail   70000  \n",
            "299                                 Facilities manager   65000  \n",
            "300                                   Fashion designer   60000  \n",
            "301                            Land/geomatics surveyor   60000  \n",
            "302                 Public relations account executive   65000  \n",
            "303                                    Psychotherapist   50000  \n",
            "304                                          Paramedic   60000  \n",
            "305               Control and instrumentation engineer   65000  \n",
            "306                           Doctor, general practice   65000  \n",
            "307                        Corporate investment banker   90000  \n",
            "308                                 Analytical chemist   60000  \n",
            "309                           Advertising art director   50000  \n",
            "310                               Merchandiser, retail   90000  \n",
            "311                             Surveyor, hydrographic   90000  \n",
            "312                                 Arts administrator   50000  \n",
            "313                                             Writer   90000  \n",
            "314                              Travel agency manager  100000  \n",
            "315                               Newspaper journalist   70000  \n",
            "316                       Conservation officer, nature   70000  \n",
            "317      Programme researcher, broadcasting/film/video   90000  \n",
            "318                                        Media buyer   50000  \n",
            "319                                        Tax adviser   85000  \n",
            "320                                  Quantity surveyor   50000  \n",
            "321                               Biomedical scientist   70000  \n",
            "322                              Engineer, electronics   70000  \n",
            "323                  Radiation protection practitioner   90000  \n",
            "324                                   Catering manager  100000  \n",
            "325                                       Metallurgist   65000  \n",
            "326                       Investment banker, corporate   50000  \n",
            "327                                     Pilot, airline   50000  \n",
            "328                   Education officer, environmental  100000  \n",
            "329                               Operations geologist   60000  \n",
            "330                               Brewing technologist   60000  \n",
            "331                                Mental health nurse   50000  \n",
            "332                                          Architect   60000  \n",
            "333                                      Oceanographer   60000  \n",
            "334                               Nurse, mental health   85000  \n",
            "335                                  Financial adviser   80000  \n",
            "336                                Broadcast presenter   80000  \n",
            "337                           Therapeutic radiographer   65000  \n",
            "338                             Leisure centre manager   65000  \n",
            "339                                         Podiatrist   80000  \n",
            "340                           Therapeutic radiographer   85000  \n",
            "341                     Dance movement psychotherapist   80000  \n",
            "342                              IT sales professional   85000  \n",
            "343                                  Nurse, children's   50000  \n",
            "344                                Solicitor, Scotland   85000  \n",
            "345                                Production engineer  100000  \n",
            "346                                    Learning mentor   60000  \n",
            "347                         Museum/gallery conservator   85000  \n",
            "348                                     Prison officer  100000  \n",
            "349                           Plant breeder/geneticist   85000  \n",
            "350                                Early years teacher   50000  \n",
            "351                                      Media planner   85000  \n",
            "352                             Conservator, furniture   90000  \n",
            "353                                       Cartographer   90000  \n",
            "354                                Librarian, academic   80000  \n",
            "355                              Forensic psychologist  100000  \n",
            "356              Medical laboratory scientific officer   60000  \n",
            "357                               Nurse, mental health   65000  \n",
            "358                                       Immunologist   90000  \n",
            "359                       Conservation officer, nature   50000  \n",
            "360                                      Social worker  100000  \n",
            "361                                   Paediatric nurse   60000  \n",
            "362                                     Microbiologist   60000  \n",
            "363                                  Nurse, children's  100000  \n",
            "364                                    Sales executive   65000  \n",
            "365            Scientist, research (physical sciences)   70000  \n",
            "366              Product/process development scientist   85000  \n",
            "367                            Education administrator   90000  \n",
            "368                      Scientist, research (medical)   50000  \n",
            "369                                 Furniture designer  100000  \n",
            "370                      Research officer, trade union   65000  \n",
            "371                              Clinical embryologist   85000  \n",
            "372                                  Medical physicist   70000  \n",
            "373                                 Investment analyst   90000  \n",
            "374                                   Doctor, hospital   85000  \n",
            "375                          Editor, magazine features  100000  \n",
            "376                         Lecturer, higher education   65000  \n",
            "377                                Animal technologist   85000  \n",
            "378                                           Best boy   85000  \n",
            "379                                Visual merchandiser   85000  \n",
            "380                                    Legal executive   50000  \n",
            "381                                    Records manager   60000  \n",
            "382                    Engineer, manufacturing systems   65000  \n",
            "383                              Scientist, biomedical   60000  \n",
            "384                                       Chiropractor   60000  \n",
            "385                                     Radio producer  100000  \n",
            "386                             Chief Strategy Officer   65000  \n",
            "387                                Seismic interpreter   90000  \n",
            "388                                    Legal executive   50000  \n",
            "389                                Associate Professor   90000  \n",
            "390                                  Market researcher   80000  \n",
            "391                                      Social worker   90000  \n",
            "392                                  Financial adviser   60000  \n",
            "393                                         Geochemist   85000  \n",
            "394                                    Patent examiner   65000  \n",
            "395                 Teacher, special educational needs   85000  \n",
            "396                              Glass blower/designer   85000  \n",
            "397                  Environmental health practitioner   80000  \n",
            "398                 Logistics and distribution manager   60000  \n",
            "399                                   Network engineer   70000  \n",
            "400                      Telecommunications researcher   65000  \n",
            "401                   Psychologist, sport and exercise   65000  \n",
            "402                             Applications developer   65000  \n",
            "403                       Trade union research officer   90000  \n",
            "404                       Investment banker, corporate   50000  \n",
            "405                                Animal technologist   50000  \n",
            "406                                 Field seismologist   85000  \n",
            "407                                             Dealer   70000  \n",
            "408                             Fitness centre manager  100000  \n",
            "409                      Clothing/textile technologist   65000  \n",
            "410                                      Warden/ranger   85000  \n",
            "411                             Database administrator   60000  \n",
            "412                          Radiographer, therapeutic   80000  \n",
            "413      Programme researcher, broadcasting/film/video   85000  \n",
            "414                      Clothing/textile technologist   50000  \n",
            "415                             Programmer, multimedia   60000  \n",
            "416                                 Surveyor, quantity   85000  \n",
            "417                           Local government officer   60000  \n",
            "418                                 Furniture designer   85000  \n",
            "419                        Nature conservation officer   80000  \n",
            "420                                 Wellsite geologist   65000  \n",
            "421                                  Barrister's clerk   50000  \n",
            "422                             Financial risk analyst   90000  \n",
            "423                          Medical technical officer   50000  \n",
            "424                              Clinical psychologist   80000  \n",
            "425                                    Energy engineer   85000  \n",
            "426                          Trading standards officer   60000  \n",
            "427                                  Probation officer   70000  \n",
            "428               International aid/development worker   60000  \n",
            "429                   Production assistant, television  100000  \n",
            "430                                   Theatre director   50000  \n",
            "431                           Arts development officer   80000  \n",
            "432                                Associate Professor   65000  \n",
            "433                                    Camera operator  100000  \n",
            "434                        Clinical research associate   50000  \n",
            "435                                      Hotel manager   60000  \n",
            "436                                         Air broker   60000  \n",
            "437                                            Barista  100000  \n",
            "438                 Surveyor, planning and development   50000  \n",
            "439                                   Health physicist   80000  \n",
            "440                    Sport and exercise psychologist   80000  \n",
            "441                             Engineer, agricultural   50000  \n",
            "442                                        Media buyer  100000  \n",
            "443                            General practice doctor   60000  \n",
            "444                                         Geochemist   60000  \n",
            "445                                Designer, furniture   90000  \n",
            "446                          Building control surveyor   90000  \n",
            "447                         Museum/gallery conservator   65000  \n",
            "448                          Insurance account manager   70000  \n",
            "449                           Counselling psychologist   70000  \n",
            "450                                        Media buyer   80000  \n",
            "451                                  Librarian, public   85000  \n",
            "452                         Research scientist (maths)  100000  \n",
            "453                                 Arts administrator   60000  \n",
            "454                 Surveyor, planning and development   70000  \n",
            "455                                             Artist   85000  \n",
            "456                             Amenity horticulturist   70000  \n",
            "457                                          Herbalist   50000  \n",
            "458                                             Gaffer  100000  \n",
            "459                                          Solicitor   50000  \n",
            "460                                Animal nutritionist   70000  \n",
            "461                          Trading standards officer   85000  \n",
            "462                                 Jewellery designer   60000  \n",
            "463                            Data processing manager   70000  \n",
            "464                          Engineer, technical sales   90000  \n",
            "465                            Horticulturist, amenity   60000  \n",
            "466                           Museum education officer   70000  \n",
            "467                             Occupational hygienist   80000  \n",
            "468                                  Minerals surveyor   85000  \n",
            "469                                   Technical brewer  100000  \n",
            "470                                     Phytotherapist   50000  \n",
            "471                                            Actuary   80000  \n",
            "472                             Engineer, agricultural   80000  \n",
            "473               Accountant, chartered public finance   90000  \n",
            "474                                         Astronomer   80000  \n",
            "475                     Chartered certified accountant   65000  \n",
            "476                                         Printmaker  100000  \n",
            "477                         Surveyor, building control   70000  \n",
            "478                                      Administrator   90000  \n",
            "479                              Adult guidance worker   50000  \n",
            "480                          Occupational psychologist   90000  \n",
            "481                               Field trials officer   60000  \n",
            "482                                 Investment analyst   50000  \n",
            "483                            Teacher, primary school   65000  \n",
            "484                  Radiation protection practitioner   65000  \n",
            "485                               Maintenance engineer   50000  \n",
            "486                    Accountant, chartered certified   90000  \n",
            "487                                      Haematologist   70000  \n",
            "488  Armed forces logistics/support/administrative ...   70000  \n",
            "489                       Administrator, Civil Service   85000  \n",
            "490                             Occupational hygienist   50000  \n",
            "491                      Engineer, civil (contracting)   60000  \n",
            "492                                        Chiropodist   65000  \n",
            "493                                          Osteopath   50000  \n",
            "494                       IT technical support officer  100000  \n",
            "495                                  Fish farm manager   50000  \n",
            "496                                    Publishing copy   50000  \n",
            "497                                         Counsellor   90000  \n",
            "498                      Restaurant manager, fast food   70000  \n",
            "499                                    Legal secretary   70000  \n",
            "500                     Investment banker, operational   70000  \n",
            "501                      Engineer, civil (contracting)   80000  \n",
            "502                              Volunteer coordinator   65000  \n",
            "503                                Librarian, academic  100000  \n",
            "504                                Production engineer   60000  \n",
            "505                                         Orthoptist   80000  \n",
            "506                                  Psychiatric nurse   85000  \n",
            "507                          Psychologist, counselling  100000  \n",
            "508                Scientist, research (life sciences)   90000  \n",
            "509                                      Media planner   65000  \n",
            "510                                   Sports therapist   65000  \n",
            "511                        Corporate investment banker   80000  \n",
            "512                                         Podiatrist   70000  \n",
            "513                             Leisure centre manager  100000  \n",
            "514                                         Bookseller   60000  \n",
            "515                                 Academic librarian   65000  \n",
            "516                                 Personal assistant   80000  \n",
            "517                               Electronics engineer  100000  \n",
            "518                                Designer, jewellery   90000  \n",
            "519                                    Publishing copy   50000  \n",
            "520                                    Naval architect   70000  \n",
            "521                           Arts development officer   65000  \n",
            "522                                 Theme park manager   65000  \n",
            "523                                   Product designer   85000  \n",
            "524                        Health and safety inspector  100000  \n",
            "525                                Medical illustrator   50000  \n",
            "526                                          Architect   80000  \n",
            "527                                       Immunologist   85000  \n",
            "528                             Geologist, engineering   60000  \n",
            "529  Scientist, clinical (histocompatibility and im...   50000  \n",
            "530                                 Personal assistant   65000  \n",
            "531                                Immigration officer   50000  \n",
            "532                                   Technical brewer   80000  \n",
            "533                                 Veterinary surgeon   85000  \n",
            "534                   Scientific laboratory technician   65000  \n",
            "535                                       Set designer   60000  \n",
            "536                            Agricultural consultant   70000  \n",
            "537                                      Buyer, retail   65000  \n",
            "538                                Engineer, materials   65000  \n",
            "539                    Geophysicist/field seismologist   85000  \n",
            "540                                    Quality manager   50000  \n",
            "541                             Holiday representative   85000  \n",
            "542                            Chief Marketing Officer  100000  \n",
            "543                               Journalist, magazine   60000  \n",
            "544                                       Estate agent   85000  \n",
            "545                                Mechanical engineer   50000  \n",
            "546                                     Prison officer   60000  \n",
            "547                                     Phytotherapist   90000  \n",
            "548                            Education administrator   85000  \n",
            "549                                  Minerals surveyor   70000  \n",
            "550                                   Sports therapist   65000  \n",
            "551                                     Pilot, airline   90000  \n",
            "552                   Armed forces operational officer   90000  \n",
            "553                          Public affairs consultant   90000  \n",
            "554                              Clinical psychologist   50000  \n",
            "555                                        Firefighter   60000  \n",
            "556                 Tourist information centre manager   50000  \n",
            "557                   Training and development officer  100000  \n",
            "558                                  Recycling officer   85000  \n",
            "559                              Administrator, sports   85000  \n",
            "560                             Fitness centre manager   80000  \n",
            "561  Armed forces logistics/support/administrative ...   50000  \n",
            "562                                 Investment analyst   65000  \n",
            "563                    Runner, broadcasting/film/video   70000  \n",
            "564                              Agricultural engineer   80000  \n",
            "565      Programme researcher, broadcasting/film/video   85000  \n",
            "566                                     Dramatherapist  100000  \n",
            "567                       Conservation officer, nature   80000  \n",
            "568                           Insurance claims handler   90000  \n",
            "569                          Insurance account manager   85000  \n",
            "570                           Secondary school teacher   90000  \n",
            "571                            Physiological scientist   60000  \n",
            "572                                   Paediatric nurse   85000  \n",
            "573                                       Web designer   65000  \n",
            "574                                       Cartographer   50000  \n",
            "575                                     Phytotherapist   70000  \n",
            "576                                  Therapist, sports   90000  \n",
            "577                                          Archivist   80000  \n",
            "578                                          Dietitian   60000  \n",
            "579                                Trade mark attorney   50000  \n",
            "580                                  Ceramics designer  100000  \n",
            "581                                    Patent examiner   90000  \n",
            "582                              Clinical embryologist   90000  \n",
            "583                                       Video editor   90000  \n",
            "584          Sound technician, broadcasting/film/video   60000  \n",
            "585                         Horticulturist, commercial  100000  \n",
            "586                                     Data scientist   80000  \n",
            "587                               Licensed conveyancer   80000  \n",
            "588                                  Recycling officer   60000  \n",
            "589                                    Tourism officer   60000  \n",
            "590                           Local government officer   85000  \n",
            "591               Accountant, chartered public finance   70000  \n",
            "592                        Conservator, museum/gallery  100000  \n",
            "593                                Early years teacher   60000  \n",
            "594                                 Engineer, drilling   65000  \n",
            "595                                     Dramatherapist   60000  \n",
            "596  Clinical scientist, histocompatibility and imm...   70000  \n",
            "597                                       TEFL teacher   60000  \n",
            "598                    Engineer, manufacturing systems  100000  \n",
            "599                                  Film/video editor   50000  \n",
            "600                                             Banker   80000  \n",
            "601                             Psychotherapist, child   70000  \n",
            "602                                       Cartographer   85000  \n",
            "603                                 Engineer, drilling   65000  \n",
            "604                        Civil Service administrator   60000  \n",
            "605        Armed forces training and education officer   70000  \n",
            "606       Production designer, theatre/television/film   65000  \n",
            "607                                           Musician   85000  \n",
            "608                                    Music therapist   90000  \n",
            "609                            Diagnostic radiographer   85000  \n",
            "610                                   Health physicist  100000  \n",
            "611                         Engineer, maintenance (IT)   80000  \n",
            "612                                       TEFL teacher  100000  \n",
            "613                          Psychologist, counselling   80000  \n",
            "614                                         Geochemist   90000  \n",
            "615                                    Event organiser   85000  \n",
            "616                 Tourist information centre manager  100000  \n",
            "617                      Clinical molecular geneticist   85000  \n",
            "618                                  Barrister's clerk   85000  \n",
            "619                           Customer service manager   65000  \n",
            "620                                Art gallery manager   80000  \n",
            "621                                 Charity fundraiser   50000  \n",
            "622                                    Systems analyst   80000  \n",
            "623        Armed forces training and education officer   60000  \n",
            "624                                  Chemical engineer   85000  \n",
            "625                         Architectural technologist   60000  \n",
            "626                                         Printmaker   90000  \n",
            "627                                  Minerals surveyor   50000  \n",
            "628                 Logistics and distribution manager   85000  \n",
            "629                                          Archivist   60000  \n",
            "630                                    Theatre manager   90000  \n",
            "631                                    Physiotherapist   90000  \n",
            "632                            Communications engineer   90000  \n",
            "633                                         Cabin crew   80000  \n",
            "634                                        Interpreter   85000  \n",
            "635                      Advertising account executive  100000  \n",
            "636                                     Phytotherapist   60000  \n",
            "637                           Journalist, broadcasting   80000  \n",
            "638                               Operations geologist   50000  \n",
            "639                                 Furniture designer   70000  \n",
            "640                               Engineer, production   90000  \n",
            "641                                  Chemical engineer   70000  \n",
            "642                          Higher education lecturer   50000  \n",
            "643                                   Insurance broker   60000  \n",
            "644                  Radiation protection practitioner   80000  \n",
            "645                          Psychologist, counselling  100000  \n",
            "646                Social research officer, government   50000  \n",
            "647                              Scientist, biomedical   90000  \n",
            "648                           Secondary school teacher   85000  \n",
            "649                         Engineer, maintenance (IT)   85000  \n",
            "650                       Trade union research officer   50000  \n",
            "651                                Engineer, materials   90000  \n",
            "652                               Biochemist, clinical   65000  \n",
            "653                                Mental health nurse   85000  \n",
            "654                                  Probation officer  100000  \n",
            "655                                        Firefighter  100000  \n",
            "656                           Engineer, communications   80000  \n",
            "657                       Engineer, civil (consulting)   50000  \n",
            "658                  Planning and development surveyor   85000  \n",
            "659                                  Financial planner   85000  \n",
            "660                                     Data scientist   70000  \n",
            "661                              Management consultant   50000  \n",
            "662                                  Company secretary  100000  \n",
            "663                Exhibitions officer, museum/gallery   60000  \n",
            "664                       Designer, industrial/product   50000  \n",
            "665                         Contracting civil engineer   60000  \n",
            "666                                Clinical biochemist   60000  \n",
            "667                                      Tax inspector   60000  \n",
            "668                             Operational researcher   70000  \n",
            "669                           Environmental consultant   85000  \n",
            "670                         Sports development officer   80000  \n",
            "671                                        Fine artist   60000  \n",
            "672                        Nature conservation officer   50000  \n",
            "673                                  Fisheries officer   85000  \n",
            "674                         Architectural technologist   65000  \n",
            "675                                 Secretary, company   70000  \n",
            "676                                             Writer   80000  \n",
            "677                                     Phytotherapist   65000  \n",
            "678                           Teacher, adult education   65000  \n",
            "679                               Financial controller   85000  \n",
            "680           Conservation officer, historic buildings   90000  \n",
            "681                               Operations geologist   50000  \n",
            "682                                       Web designer  100000  \n",
            "683                              Glass blower/designer   50000  \n",
            "684                                          Archivist   60000  \n",
            "685                        Civil Service administrator   70000  \n",
            "686                            Water quality scientist   50000  \n",
            "687                    Television production assistant   80000  \n",
            "688                             Applications developer   90000  \n",
            "689                                  Quantity surveyor   65000  \n",
            "690                                  Personnel officer   80000  \n",
            "691                      Engineer, civil (contracting)   85000  \n",
            "692                                Magazine journalist   60000  \n",
            "693                                   Heritage manager   60000  \n",
            "694               Control and instrumentation engineer   70000  \n",
            "695                                       Youth worker   85000  \n",
            "696                                       Youth worker   80000  \n",
            "697           Conservation officer, historic buildings   80000  \n",
            "698                              Hydrographic surveyor   85000  \n",
            "699                         Building services engineer   85000  \n",
            "700                        Production assistant, radio   80000  \n",
            "701                                   Paediatric nurse   70000  \n",
            "702                           Administrator, education   85000  \n",
            "703                              Adult guidance worker   70000  \n",
            "704                                 Arts administrator  100000  \n",
            "705                                     Dramatherapist   70000  \n",
            "706                                Automotive engineer   80000  \n",
            "707                                   Fashion designer   85000  \n",
            "708                                    Systems analyst   70000  \n",
            "709                                  Food technologist   90000  \n",
            "710                           Teacher, adult education   90000  \n",
            "711                    Accountant, chartered certified   65000  \n",
            "712                              Engineering geologist   60000  \n",
            "713                                       Bonds trader   60000  \n",
            "714               Accountant, chartered public finance   85000  \n",
            "715             Teacher, English as a foreign language   50000  \n",
            "716                           Public relations officer   50000  \n",
            "717                               Nurse, mental health   90000  \n",
            "718                                 Furniture designer  100000  \n",
            "719                           Administrator, education  100000  \n",
            "720                                         Podiatrist   70000  \n",
            "721                           Loss adjuster, chartered   90000  \n",
            "722                               Designer, multimedia   65000  \n",
            "723                                 Theme park manager  100000  \n",
            "724                                   Therapist, drama  100000  \n",
            "725                        Health promotion specialist   60000  \n",
            "726                                          Press sub   80000  \n",
            "727                                 Restaurant manager   60000  \n",
            "728              Senior tax professional/tax inspector   80000  \n",
            "729                                       Nurse, adult   70000  \n",
            "730                                                Sub   85000  \n",
            "731                         Engineer, maintenance (IT)   85000  \n",
            "732                          Higher education lecturer   50000  \n",
            "733                                  Probation officer   90000  \n",
            "734                                Chemist, analytical   60000  \n",
            "735                                       Metallurgist   50000  \n",
            "736                Social research officer, government   65000  \n",
            "737                        Industrial/product designer   50000  \n",
            "738                                       Immunologist   60000  \n",
            "739                              Multimedia programmer  100000  \n",
            "740                     Television/film/video producer   65000  \n",
            "741  Scientist, clinical (histocompatibility and im...   85000  \n",
            "742                                  Warehouse manager   70000  \n",
            "743                       Education officer, community  100000  \n",
            "744                               Operations geologist   65000  \n",
            "745                                Clinical biochemist  100000  \n",
            "746                     Teaching laboratory technician  100000  \n",
            "747                                Seismic interpreter   80000  \n",
            "748                                       Video editor   80000  \n",
            "749                                         Astronomer   90000  \n",
            "750                                         Contractor   70000  \n",
            "751                                     Prison officer   65000  \n",
            "752                                 Forensic scientist   85000  \n",
            "753                              Geneticist, molecular   85000  \n",
            "754                     Teaching laboratory technician   90000  \n",
            "755                                  Medical secretary   60000  \n",
            "756                                      Social worker   50000  \n",
            "757                        Health and safety inspector  100000  \n",
            "758                             Recruitment consultant   60000  \n",
            "759                               Brewing technologist   60000  \n",
            "760                                          Mudlogger   60000  \n",
            "761                                              Actor   80000  \n",
            "762                               Intelligence analyst   80000  \n",
            "763                                 Restaurant manager   50000  \n",
            "764               English as a second language teacher   90000  \n",
            "765                                   Paediatric nurse   50000  \n",
            "766                               Sports administrator  100000  \n",
            "767                               Biomedical scientist   60000  \n",
            "768                                          Homeopath   80000  \n",
            "769                                       Nurse, adult   70000  \n",
            "770                                  Ceramics designer   70000  \n",
            "771                        Advertising account planner   85000  \n",
            "772                                       Town planner  100000  \n",
            "773                                          Ecologist   50000  \n",
            "774                         Surveyor, building control   80000  \n",
            "775                                   Fashion designer   50000  \n",
            "776                               Intelligence analyst   70000  \n",
            "777                                            Curator   90000  \n",
            "778                                 Theme park manager   65000  \n",
            "779              Development worker, international aid   85000  \n",
            "780                                 Surveyor, minerals   80000  \n",
            "781                   Surveyor, commercial/residential   65000  \n",
            "782                                        Fine artist   50000  \n",
            "783                                  Social researcher   85000  \n",
            "784                                  Personnel officer   50000  \n",
            "785                                               Make   50000  \n",
            "786                                Art gallery manager   50000  \n",
            "787                                   Ambulance person   80000  \n",
            "788                                  Freight forwarder   80000  \n",
            "789                      Speech and language therapist  100000  \n",
            "790                      Advertising account executive   70000  \n",
            "791                             Race relations officer   50000  \n",
            "792                                       Psychiatrist   80000  \n",
            "793           Conservation officer, historic buildings   65000  \n",
            "794                                 Forensic scientist   80000  \n",
            "795                                          Dietitian   65000  \n",
            "796                               Engineer, production   60000  \n",
            "797                                 Editor, film/video   85000  \n",
            "798                                            Actuary   80000  \n",
            "799                                 Purchasing manager   90000  \n",
            "800                     Chartered certified accountant   65000  \n",
            "801                                       Farm manager   70000  \n",
            "802                                  Freight forwarder   85000  \n",
            "803  Historic buildings inspector/conservation officer   80000  \n",
            "804                              Journalist, newspaper   65000  \n",
            "805                                    Legal executive   80000  \n",
            "806                                    Music therapist  100000  \n",
            "807                                Broadcast presenter   90000  \n",
            "808                                            Actuary   60000  \n",
            "809                                     Energy manager  100000  \n",
            "810                               Electronics engineer   60000  \n",
            "811                                       Neurosurgeon   50000  \n",
            "812                    Television production assistant   50000  \n",
            "813                                Editorial assistant  100000  \n",
            "814                          Medical technical officer   85000  \n",
            "815                    Television production assistant   70000  \n",
            "816                   Education officer, environmental   65000  \n",
            "817                                   Industrial buyer   60000  \n",
            "818                                      Herpetologist   90000  \n",
            "819                                   Surveyor, mining   85000  \n",
            "820                                               Copy   70000  \n",
            "821                              Engineering geologist   50000  \n",
            "822                                    Physiotherapist   50000  \n",
            "823                Engineer, broadcasting (operations)   70000  \n",
            "824                        Civil Service fast streamer   60000  \n",
            "825                    Chartered management accountant   50000  \n",
            "826                            Rural practice surveyor   65000  \n",
            "827                             Audiological scientist   70000  \n",
            "828                                Visual merchandiser  100000  \n",
            "829                               Engineer, biomedical   70000  \n",
            "830                                Scientist, forensic   85000  \n",
            "831                                    Camera operator   50000  \n",
            "832                Designer, blown glass/stained glass   90000  \n",
            "833                                    Naval architect   65000  \n",
            "834                                     Water engineer   50000  \n",
            "835                              Theatre stage manager   90000  \n",
            "836                        Conservator, museum/gallery  100000  \n",
            "837                             Race relations officer   60000  \n",
            "838                             Engineer, agricultural   70000  \n",
            "839                                     Water engineer   70000  \n",
            "840                                     Phytotherapist   90000  \n",
            "841                          Radiographer, therapeutic   85000  \n",
            "842                                 Analytical chemist   60000  \n",
            "843                                 Secretary, company   65000  \n",
            "844                           Public relations officer   80000  \n",
            "845                                Designer, jewellery   85000  \n",
            "846                                Engineer, petroleum   50000  \n",
            "847                              Scientist, biomedical   65000  \n",
            "848                               Licensed conveyancer   90000  \n",
            "849                                Mechanical engineer   85000  \n",
            "850                           Chief Technology Officer   90000  \n",
            "851            Scientist, research (physical sciences)   85000  \n",
            "852                                    Engineer, water   60000  \n",
            "853                           Doctor, general practice  100000  \n",
            "854                                    Quality manager   85000  \n",
            "855                                      Retail banker  100000  \n",
            "856               English as a second language teacher   90000  \n",
            "857                         Horticulturist, commercial   60000  \n",
            "858                                      Acupuncturist   85000  \n",
            "859                           Computer games developer   85000  \n",
            "860                           Loss adjuster, chartered   50000  \n",
            "861                                     Dramatherapist   90000  \n",
            "862                   Surveyor, commercial/residential  100000  \n",
            "863                                  Nurse, children's   60000  \n",
            "864                                  Market researcher   60000  \n",
            "865                                        Proofreader   50000  \n",
            "866                              Management consultant   80000  \n",
            "867                                          Barrister   60000  \n",
            "868                      Development worker, community   60000  \n",
            "869            Scientist, research (physical sciences)   65000  \n",
            "870                                  Social researcher   60000  \n",
            "871                        Civil engineer, contracting   85000  \n",
            "872                                     Cytogeneticist   60000  \n",
            "873                                  Drilling engineer   50000  \n",
            "874                         Architectural technologist   85000  \n",
            "875                                 Professor Emeritus  100000  \n",
            "876                                Art gallery manager   60000  \n",
            "877                                 Engineer, drilling   80000  \n",
            "878                                        Tax adviser   65000  \n",
            "879                                    Systems analyst   90000  \n",
            "880                       IT technical support officer   85000  \n",
            "881                                     Pilot, airline   70000  \n",
            "882                                      Art therapist   60000  \n",
            "883                             Database administrator  100000  \n",
            "884                                       Photographer   80000  \n",
            "885                            Forest/woodland manager   90000  \n",
            "886                                   Graphic designer   50000  \n",
            "887                         Designer, fashion/clothing   90000  \n",
            "888                                   Technical brewer   85000  \n",
            "889                           Therapeutic radiographer   65000  \n",
            "890               International aid/development worker   80000  \n",
            "891                                           Animator   60000  \n",
            "892                                     Soil scientist   65000  \n",
            "893                     Investment banker, operational   60000  \n",
            "894                                  Designer, textile   85000  \n",
            "895                              Forensic psychologist  100000  \n",
            "896                    Environmental education officer  100000  \n",
            "897                             Chief Strategy Officer  100000  \n",
            "898                                  Buyer, industrial   50000  \n",
            "899                                            Actuary   70000  \n",
            "900                                  Fish farm manager  100000  \n",
            "901                            Chief Operating Officer   85000  \n",
            "902                                 Engineer, chemical   80000  \n",
            "903                                   Paediatric nurse  100000  \n",
            "904                                 Editor, film/video   65000  \n",
            "905                                 Academic librarian   60000  \n",
            "906                           Technical sales engineer   90000  \n",
            "907                                      Archaeologist   85000  \n",
            "908                                      Ranger/warden   80000  \n",
            "909                           Journalist, broadcasting   80000  \n",
            "910                                       Toxicologist   80000  \n",
            "911                                       Cartographer   65000  \n",
            "912                                       Web designer  100000  \n",
            "913                                   Health physicist   60000  \n",
            "914                               Commissioning editor   90000  \n",
            "915                      Clinical molecular geneticist   85000  \n",
            "916                          Conference centre manager   85000  \n",
            "917                              Multimedia specialist   60000  \n",
            "918                          Teacher, secondary school   65000  \n",
            "919                                Solicitor, Scotland   50000  \n",
            "920                                   Marine scientist   50000  \n",
            "921                                Pensions consultant   80000  \n",
            "922                           Programmer, applications   90000  \n",
            "923                            Physiological scientist   50000  \n",
            "924                                  Personnel officer   60000  \n",
            "925                          Radiographer, therapeutic   85000  \n",
            "926                       Research scientist (medical)   80000  \n",
            "927                                         Cabin crew   65000  \n",
            "928                                     Phytotherapist   85000  \n",
            "929                                    Energy engineer   90000  \n",
            "930                                Associate Professor   80000  \n",
            "931                                      Advice worker   90000  \n",
            "932                       Conservation officer, nature   85000  \n",
            "933                              Engineer, maintenance   65000  \n",
            "934                               Licensed conveyancer  100000  \n",
            "935                                 Jewellery designer   65000  \n",
            "936                              Engineer, maintenance   70000  \n",
            "937                                        Comptroller   90000  \n",
            "938                                Pensions consultant   50000  \n",
            "939                                  Fish farm manager  100000  \n",
            "940                              Agricultural engineer   70000  \n",
            "941                               Engineer, production   65000  \n",
            "942                                Call centre manager   70000  \n",
            "943                            Copywriter, advertising   50000  \n",
            "944                                      Ranger/warden   85000  \n",
            "945                         Designer, ceramics/pottery   65000  \n",
            "946                                      Oceanographer   70000  \n",
            "947                                      Ranger/warden  100000  \n",
            "948            Scientist, research (physical sciences)   60000  \n",
            "949                                 Academic librarian   85000  \n",
            "950                       Medical sales representative   80000  \n",
            "951           Geographical information systems officer   85000  \n",
            "952                              Nutritional therapist   50000  \n",
            "953                                       Metallurgist   80000  \n",
            "954                       IT technical support officer   50000  \n",
            "955                      Development worker, community   65000  \n",
            "956                            Agricultural consultant   60000  \n",
            "957                          Trading standards officer   60000  \n",
            "958                                             Gaffer   50000  \n",
            "959                                     Office manager   50000  \n",
            "960                               Optician, dispensing   60000  \n",
            "961                        Conservator, museum/gallery   60000  \n",
            "962                                     Pharmacologist   50000  \n",
            "963               Outdoor activities/education manager  100000  \n",
            "964                                   Product designer   90000  \n",
            "965                                  Therapist, sports   65000  \n",
            "966                              Environmental manager   50000  \n",
            "967                                   Location manager   65000  \n",
            "968                              Travel agency manager   50000  \n",
            "969                                  Financial adviser  100000  \n",
            "970                                         Printmaker   50000  \n",
            "971                             Embryologist, clinical   80000  \n",
            "972                                  Systems developer  100000  \n",
            "973                                     Health visitor   85000  \n",
            "974                 Research scientist (life sciences)   90000  \n",
            "975                                       Nurse, adult   85000  \n",
            "976                          Consulting civil engineer   80000  \n",
            "977                                Mental health nurse   90000  \n",
            "978                                     Health visitor   90000  \n",
            "979                                  Warehouse manager  100000  \n",
            "980                                  Drilling engineer   60000  \n",
            "981                           Arts development officer   80000  \n",
            "982                        Scientist, research (maths)   80000  \n",
            "983                                      Airline pilot  100000  \n",
            "984                          Teacher, secondary school   50000  \n",
            "985                                         Orthoptist   60000  \n",
            "986                         Architectural technologist   85000  \n",
            "987        Psychologist, prison and probation services   90000  \n",
            "988                                            Dentist   60000  \n",
            "989                           Horticultural consultant   60000  \n",
            "990                                    Systems analyst   80000  \n",
            "991                                        Illustrator   80000  \n",
            "992                                 Petroleum engineer   90000  \n",
            "993                                    Hospital doctor   90000  \n",
            "994                          Publishing rights manager   85000  \n",
            "995                                  Personnel officer   90000  \n",
            "996                            Education administrator   50000  \n",
            "997                    Commercial/residential surveyor   60000  \n",
            "998                                   Ambulance person  100000  \n",
            "999                         Nurse, learning disability   90000  \n"
          ]
        }
      ],
      "source": [
        "df = pd.read_csv(download_url)\n",
        "columns_to_delete = ['Email', 'Phone', 'Date of birth']\n",
        "df.drop(columns=columns_to_delete, inplace=True)\n",
        "\n",
        "# Delete rows with missing values\n",
        "df.dropna(inplace=True)\n",
        "\n",
        "# Print the final output\n",
        "print(df)\n"
      ]
    },
    {
      "cell_type": "markdown",
      "metadata": {},
      "source": [
        "13. Create two NumPy arrays, x and y, each containing 100 random float values between 0 and 1. Perform the \n",
        "following tasks using Matplotlib and NumPy:\n",
        "\n",
        "a) Create a scatter Plot using x and y, setting the color of the Points to red and the marker style to 'o'.\n",
        "\n",
        "b) Add a horizontal line at y = 0.5 using a dashed line style and label it as 'y = 0.5'.\n",
        "\n",
        "c) Add a vertical line at x = 0.5 using a dotted line style and label it as 'x = 0.5'.\n",
        "\n",
        "d) Label the x-axis as 'X-axis' and the y-axis as 'Y-axis'.\n",
        "\n",
        "e) Set the title of the Plot as 'Advanced Scatter Plot of Random Values'.\n",
        "\n",
        "f) Display a legend for the scatter plot, the horizontal line, and the vertical line"
      ]
    },
    {
      "cell_type": "code",
      "execution_count": 15,
      "metadata": {},
      "outputs": [
        {
          "data": {
            "image/png": "[encoded data removed]",
            "text/plain": [
              "<Figure size 640x480 with 1 Axes>"
            ]
          },
          "metadata": {},
          "output_type": "display_data"
        }
      ],
      "source": [
        "import numpy as np\n",
        "import matplotlib.pyplot as plt\n",
        "\n",
        "# Generate random float values for x and y\n",
        "x = np.random.rand(100)\n",
        "y = np.random.rand(100)\n",
        "\n",
        "# Create a scatter plot\n",
        "plt.scatter(x, y, color='red', marker='o', label='Random Points')\n",
        "\n",
        "# Add a horizontal line at y = 0.5\n",
        "plt.axhline(y=0.5, linestyle='--', color='blue', label='y = 0.5')\n",
        "\n",
        "# Add a vertical line at x = 0.5\n",
        "plt.axvline(x=0.5, linestyle=':', color='green', label='x = 0.5')\n",
        "\n",
        "# Set axis labels\n",
        "plt.xlabel('X-axis')\n",
        "plt.ylabel('Y-axis')\n",
        "\n",
        "# Set the title\n",
        "plt.title('Advanced Scatter Plot of Random Values')\n",
        "\n",
        "# Display the legend\n",
        "plt.legend()\n",
        "\n",
        "# Show the plot\n",
        "plt.show()\n"
      ]
    },
    {
      "cell_type": "markdown",
      "metadata": {},
      "source": [
        "14. Create a time-series dataset in a Pandas DataFrame with columns: 'Date', 'Temperature', 'Humidity' and \n",
        "Perform the following tasks using Matplotlib:\n",
        "a) Plot the 'Temperature' and 'Humidity' on the same plot with different y-axes (left y-axis for 'Temperature' and \n",
        "right y-axis for 'Humidity').\n",
        "\n",
        "b) Label the x-axis as 'Date'.\n",
        "\n",
        "c) Set the title of the plot as 'Temperature and Humidity Over Time'."
      ]
    },
    {
      "cell_type": "code",
      "execution_count": 16,
      "metadata": {},
      "outputs": [
        {
          "data": {
            "image/png": "[encoded data removed]",
            "text/plain": [
              "<Figure size 640x480 with 2 Axes>"
            ]
          },
          "metadata": {},
          "output_type": "display_data"
        }
      ],
      "source": [
        "import pandas as pd\n",
        "import numpy as np\n",
        "import matplotlib.pyplot as plt\n",
        "\n",
        "# Generate example data (replace with your actual data)\n",
        "dates = pd.date_range(start='2023-01-01', periods=100, freq='D')\n",
        "temperature_values = np.random.uniform(20, 30, size=100)\n",
        "humidity_values = np.random.uniform(40, 70, size=100)\n",
        "\n",
        "# Create the DataFrame\n",
        "time_series_df = pd.DataFrame({'Date': dates, 'Temperature': temperature_values, 'Humidity': humidity_values})\n",
        "\n",
        "# Create a figure and axis\n",
        "fig, ax1 = plt.subplots()\n",
        "\n",
        "# Plot Temperature on the left y-axis\n",
        "ax1.plot(time_series_df['Date'], time_series_df['Temperature'], color='tab:red', label='Temperature')\n",
        "ax1.set_xlabel('Date')\n",
        "ax1.set_ylabel('Temperature (°C)', color='tab:red')\n",
        "ax1.tick_params(axis='y', labelcolor='tab:red')\n",
        "\n",
        "# Create a second y-axis for Humidity\n",
        "ax2 = ax1.twinx()\n",
        "ax2.plot(time_series_df['Date'], time_series_df['Humidity'], color='tab:blue', label='Humidity')\n",
        "ax2.set_ylabel('Humidity (%)', color='tab:blue')\n",
        "ax2.tick_params(axis='y', labelcolor='tab:blue')\n",
        "\n",
        "# Set the title\n",
        "plt.title('Temperature and Humidity Over Time')\n",
        "\n",
        "# Display the legend\n",
        "plt.legend(loc='upper left')\n",
        "\n",
        "# Show the plot\n",
        "plt.tight_layout()\n",
        "plt.show()\n"
      ]
    },
    {
      "cell_type": "markdown",
      "metadata": {},
      "source": [
        "15. Create a NumPy array data containing 1000 samples from a normal distribution. Perform the following \n",
        "tasks using Matplotlib:\n",
        "a) Plot a histogram of the data with 30 bins.\n",
        "\n",
        "b) Overlay a line plot representing the normal distribution's probability density function (PDF).\n",
        "\n",
        "c) Label the x-axis as 'Value' and the y-axis as 'Frequency/Probability'.\n",
        "\n",
        "d) Set the title of the plot as 'Histogram with PDF Overlay'."
      ]
    },
    {
      "cell_type": "code",
      "execution_count": 17,
      "metadata": {},
      "outputs": [
        {
          "data": {
            "image/png": "[encoded data removed]",
            "text/plain": [
              "<Figure size 640x480 with 1 Axes>"
            ]
          },
          "metadata": {},
          "output_type": "display_data"
        }
      ],
      "source": [
        "import numpy as np\n",
        "import matplotlib.pyplot as plt\n",
        "from scipy.stats import norm\n",
        "\n",
        "# Generate 1000 samples from a normal distribution\n",
        "mean = 0  # Mean of the normal distribution\n",
        "std_dev = 1  # Standard deviation of the normal distribution\n",
        "data = np.random.normal(mean, std_dev, size=1000)\n",
        "\n",
        "# Create a histogram with 30 bins\n",
        "plt.hist(data, bins=30, density=True, alpha=0.6, color='blue', edgecolor='black', label='Histogram')\n",
        "\n",
        "# Overlay the PDF of the normal distribution\n",
        "x_values = np.linspace(min(data), max(data), 100)\n",
        "pdf_values = norm.pdf(x_values, mean, std_dev)\n",
        "plt.plot(x_values, pdf_values, color='red', linewidth=2, label='PDF')\n",
        "\n",
        "# Set axis labels and title\n",
        "plt.xlabel('Value')\n",
        "plt.ylabel('Frequency/Probability')\n",
        "plt.title('Histogram with PDF Overlay')\n",
        "\n",
        "# Display the legend\n",
        "plt.legend()\n",
        "\n",
        "# Show the plot\n",
        "plt.grid(True)\n",
        "plt.tight_layout()\n",
        "plt.show()\n"
      ]
    },
    {
      "cell_type": "markdown",
      "metadata": {},
      "source": [
        "16. Set the title of the plot as 'Histogram with PDF Overlay'."
      ]
    },
    {
      "cell_type": "code",
      "execution_count": 18,
      "metadata": {},
      "outputs": [
        {
          "data": {
            "image/png": "[encoded data removed]",
            "text/plain": [
              "<Figure size 640x480 with 1 Axes>"
            ]
          },
          "metadata": {},
          "output_type": "display_data"
        }
      ],
      "source": [
        "import numpy as np\n",
        "import matplotlib.pyplot as plt\n",
        "from scipy.stats import norm\n",
        "\n",
        "# Generate 1000 samples from a normal distribution\n",
        "mean = 0  # Mean of the normal distribution\n",
        "std_dev = 1  # Standard deviation of the normal distribution\n",
        "data = np.random.normal(mean, std_dev, size=1000)\n",
        "\n",
        "# Create a histogram with 30 bins\n",
        "plt.hist(data, bins=30, density=True, alpha=0.6, color='blue', edgecolor='black', label='Histogram')\n",
        "\n",
        "# Overlay the PDF of the normal distribution\n",
        "x_values = np.linspace(min(data), max(data), 100)\n",
        "pdf_values = norm.pdf(x_values, mean, std_dev)\n",
        "plt.plot(x_values, pdf_values, color='red', linewidth=2, label='PDF')\n",
        "\n",
        "# Set axis labels and title\n",
        "plt.xlabel('Value')\n",
        "plt.ylabel('Frequency/Probability')\n",
        "plt.title('Histogram with PDF Overlay')\n",
        "\n",
        "# Display the legend\n",
        "plt.legend()\n",
        "\n",
        "# Show the plot\n",
        "plt.grid(True)\n",
        "plt.tight_layout()\n",
        "plt.show()"
      ]
    },
    {
      "cell_type": "markdown",
      "metadata": {},
      "source": [
        "17. Create a Seaborn scatter plot of two random arrays, color points based on their position relative to the \n",
        "origin (quadrants), add a legend, label the axes, and set the title as 'Quadrant-wise Scatter Plot'."
      ]
    },
    {
      "cell_type": "code",
      "execution_count": 19,
      "metadata": {},
      "outputs": [
        {
          "data": {
            "image/png": "[encoded data removed]",
            "text/plain": [
              "<Figure size 800x600 with 1 Axes>"
            ]
          },
          "metadata": {},
          "output_type": "display_data"
        }
      ],
      "source": [
        "import numpy as np\n",
        "import seaborn as sns\n",
        "import matplotlib.pyplot as plt\n",
        "\n",
        "# Generate two random arrays\n",
        "x = np.random.uniform(-1, 1, size=100)\n",
        "y = np.random.uniform(-1, 1, size=100)\n",
        "\n",
        "# Determine quadrant for each point\n",
        "quadrant = np.zeros(100)\n",
        "quadrant[(x > 0) & (y > 0)] = 1\n",
        "quadrant[(x < 0) & (y > 0)] = 2\n",
        "quadrant[(x < 0) & (y < 0)] = 3\n",
        "quadrant[(x > 0) & (y < 0)] = 4\n",
        "\n",
        "# Create a DataFrame for plotting\n",
        "data = {'x': x, 'y': y, 'Quadrant': quadrant}\n",
        "df = pd.DataFrame(data)\n",
        "\n",
        "# Set up the scatter plot\n",
        "sns.set(style='whitegrid')\n",
        "plt.figure(figsize=(8, 6))\n",
        "sns.scatterplot(x='x', y='y', hue='Quadrant', data=df, palette='Set1', legend='full')\n",
        "\n",
        "# Add labels and title\n",
        "plt.xlabel('X-axis')\n",
        "plt.ylabel('Y-axis')\n",
        "plt.title('Quadrant-wise Scatter Plot')\n",
        "\n",
        "# Show the legend\n",
        "plt.legend(title='Quadrant', loc='upper right')\n",
        "\n",
        "# Show the plot\n",
        "plt.tight_layout()\n",
        "plt.show()\n"
      ]
    },
    {
      "cell_type": "markdown",
      "metadata": {},
      "source": [
        "18. With Bokeh, plot a line chart of a sine wave function, add grid lines, label the axes, and set the title as 'Sine \n",
        "Wave Function'."
      ]
    },
    {
      "cell_type": "code",
      "execution_count": 20,
      "metadata": {},
      "outputs": [
        {
          "data": {
            "text/html": [
              "    <style>\n",
              "        .bk-notebook-logo {\n",
              "            display: block;\n",
              "            width: 20px;\n",
              "            height: 20px;\n",
              "            background-image: url(data:image/png;base64,iVBORw0KGgoAAAANSUhEUgAAABQAAAAUCAYAAACNiR0NAAAABHNCSVQICAgIfAhkiAAAAAlwSFlzAAALEgAACxIB0t1+/AAAABx0RVh0U29mdHdhcmUAQWRvYmUgRmlyZXdvcmtzIENTNui8sowAAAOkSURBVDiNjZRtaJVlGMd/1/08zzln5zjP1LWcU9N0NkN8m2CYjpgQYQXqSs0I84OLIC0hkEKoPtiH3gmKoiJDU7QpLgoLjLIQCpEsNJ1vqUOdO7ppbuec5+V+rj4ctwzd8IIbbi6u+8f1539dt3A78eXC7QizUF7gyV1fD1Yqg4JWz84yffhm0qkFqBogB9rM8tZdtwVsPUhWhGcFJngGeWrPzHm5oaMmkfEg1usvLFyc8jLRqDOMru7AyC8saQr7GG7f5fvDeH7Ej8CM66nIF+8yngt6HWaKh7k49Soy9nXurCi1o3qUbS3zWfrYeQDTB/Qj6kX6Ybhw4B+bOYoLKCC9H3Nu/leUTZ1JdRWkkn2ldcCamzrcf47KKXdAJllSlxAOkRgyHsGC/zRday5Qld9DyoM4/q/rUoy/CXh3jzOu3bHUVZeU+DEn8FInkPBFlu3+nW3Nw0mk6vCDiWg8CeJaxEwuHS3+z5RgY+YBR6V1Z1nxSOfoaPa4LASWxxdNp+VWTk7+4vzaou8v8PN+xo+KY2xsw6une2frhw05CTYOmQvsEhjhWjn0bmXPjpE1+kplmmkP3suftwTubK9Vq22qKmrBhpY4jvd5afdRA3wGjFAgcnTK2s4hY0/GPNIb0nErGMCRxWOOX64Z8RAC4oCXdklmEvcL8o0BfkNK4lUg9HTl+oPlQxdNo3Mg4Nv175e/1LDGzZen30MEjRUtmXSfiTVu1kK8W4txyV6BMKlbgk3lMwYCiusNy9fVfvvwMxv8Ynl6vxoByANLTWplvuj/nF9m2+PDtt1eiHPBr1oIfhCChQMBw6Aw0UulqTKZdfVvfG7VcfIqLG9bcldL/+pdWTLxLUy8Qq38heUIjh4XlzZxzQm19lLFlr8vdQ97rjZVOLf8nclzckbcD4wxXMidpX30sFd37Fv/GtwwhzhxGVAprjbg0gCAEeIgwCZyTV2Z1REEW8O4py0wsjeloKoMr6iCY6dP92H6Vw/oTyICIthibxjm/DfN9lVz8IqtqKYLUXfoKVMVQVVJOElGjrnnUt9T9wbgp8AyYKaGlqingHZU/uG2NTZSVqwHQTWkx9hxjkpWDaCg6Ckj5qebgBVbT3V3NNXMSiWSDdGV3hrtzla7J+duwPOToIg42ChPQOQjspnSlp1V+Gjdged7+8UN5CRAV7a5EdFNwCjEaBR27b3W890TE7g24NAP/mMDXRWrGoFPQI9ls/MWO2dWFAar/xcOIImbbpA3zgAAAABJRU5ErkJggg==);\n",
              "        }\n",
              "    </style>\n",
              "    <div>\n",
              "        <a href=\"https://bokeh.org\" target=\"_blank\" class=\"bk-notebook-logo\"></a>\n",
              "        <span id=\"afed37df-bb75-420b-bf45-d2ac9a4c0a1c\">Loading BokehJS ...</span>\n",
              "    </div>\n"
            ]
          },
          "metadata": {},
          "output_type": "display_data"
        },
        {
          "data": {
            "application/javascript": "'use strict';\n(function(root) {\n  function now() {\n    return new Date();\n  }\n\n  const force = true;\n\n  if (typeof root._bokeh_onload_callbacks === \"undefined\" || force === true) {\n    root._bokeh_onload_callbacks = [];\n    root._bokeh_is_loading = undefined;\n  }\n\nconst JS_MIME_TYPE = 'application/javascript';\n  const HTML_MIME_TYPE = 'text/html';\n  const EXEC_MIME_TYPE = 'application/vnd.bokehjs_exec.v0+json';\n  const CLASS_NAME = 'output_bokeh rendered_html';\n\n  /**\n   * Render data to the DOM node\n   */\n  function render(props, node) {\n    const script = document.createElement(\"script\");\n    node.appendChild(script);\n  }\n\n  /**\n   * Handle when an output is cleared or removed\n   */\n  function handleClearOutput(event, handle) {\n    function drop(id) {\n      const view = Bokeh.index.get_by_id(id)\n      if (view != null) {\n        view.model.document.clear()\n        Bokeh.index.delete(view)\n      }\n    }\n\n    const cell = handle.cell;\n\n    const id = cell.output_area._bokeh_element_id;\n    const server_id = cell.output_area._bokeh_server_id;\n\n    // Clean up Bokeh references\n    if (id != null) {\n      drop(id)\n    }\n\n    if (server_id !== undefined) {\n      // Clean up Bokeh references\n      const cmd_clean = \"from bokeh.io.state import curstate; print(curstate().uuid_to_server['\" + server_id + \"'].get_sessions()[0].document.roots[0]._id)\";\n      cell.notebook.kernel.execute(cmd_clean, {\n        iopub: {\n          output: function(msg) {\n            const id = msg.content.text.trim()\n            drop(id)\n          }\n        }\n      });\n      // Destroy server and session\n      const cmd_destroy = \"import bokeh.io.notebook as ion; ion.destroy_server('\" + server_id + \"')\";\n      cell.notebook.kernel.execute(cmd_destroy);\n    }\n  }\n\n  /**\n   * Handle when a new output is added\n   */\n  function handleAddOutput(event, handle) {\n    const output_area = handle.output_area;\n    const output = handle.output;\n\n    // limit handleAddOutput to display_data with EXEC_MIME_TYPE content only\n    if ((output.output_type != \"display_data\") || (!Object.prototype.hasOwnProperty.call(output.data, EXEC_MIME_TYPE))) {\n      return\n    }\n\n    const toinsert = output_area.element.find(\".\" + CLASS_NAME.split(' ')[0]);\n\n    if (output.metadata[EXEC_MIME_TYPE][\"id\"] !== undefined) {\n      toinsert[toinsert.length - 1].firstChild.textContent = output.data[JS_MIME_TYPE];\n      // store reference to embed id on output_area\n      output_area._bokeh_element_id = output.metadata[EXEC_MIME_TYPE][\"id\"];\n    }\n    if (output.metadata[EXEC_MIME_TYPE][\"server_id\"] !== undefined) {\n      const bk_div = document.createElement(\"div\");\n      bk_div.innerHTML = output.data[HTML_MIME_TYPE];\n      const script_attrs = bk_div.children[0].attributes;\n      for (let i = 0; i < script_attrs.length; i++) {\n        toinsert[toinsert.length - 1].firstChild.setAttribute(script_attrs[i].name, script_attrs[i].value);\n        toinsert[toinsert.length - 1].firstChild.textContent = bk_div.children[0].textContent\n      }\n      // store reference to server id on output_area\n      output_area._bokeh_server_id = output.metadata[EXEC_MIME_TYPE][\"server_id\"];\n    }\n  }\n\n  function register_renderer(events, OutputArea) {\n\n    function append_mime(data, metadata, element) {\n      // create a DOM node to render to\n      const toinsert = this.create_output_subarea(\n        metadata,\n        CLASS_NAME,\n        EXEC_MIME_TYPE\n      );\n      this.keyboard_manager.register_events(toinsert);\n      // Render to node\n      const props = {data: data, metadata: metadata[EXEC_MIME_TYPE]};\n      render(props, toinsert[toinsert.length - 1]);\n      element.append(toinsert);\n      return toinsert\n    }\n\n    /* Handle when an output is cleared or removed */\n    events.on('clear_output.CodeCell', handleClearOutput);\n    events.on('delete.Cell', handleClearOutput);\n\n    /* Handle when a new output is added */\n    events.on('output_added.OutputArea', handleAddOutput);\n\n    /**\n     * Register the mime type and append_mime function with output_area\n     */\n    OutputArea.prototype.register_mime_type(EXEC_MIME_TYPE, append_mime, {\n      /* Is output safe? */\n      safe: true,\n      /* Index of renderer in `output_area.display_order` */\n      index: 0\n    });\n  }\n\n  // register the mime type if in Jupyter Notebook environment and previously unregistered\n  if (root.Jupyter !== undefined) {\n    const events = require('base/js/events');\n    const OutputArea = require('notebook/js/outputarea').OutputArea;\n\n    if (OutputArea.prototype.mime_types().indexOf(EXEC_MIME_TYPE) == -1) {\n      register_renderer(events, OutputArea);\n    }\n  }\n  if (typeof (root._bokeh_timeout) === \"undefined\" || force === true) {\n    root._bokeh_timeout = Date.now() + 5000;\n    root._bokeh_failed_load = false;\n  }\n\n  const NB_LOAD_WARNING = {'data': {'text/html':\n     \"<div style='background-color: #fdd'>\\n\"+\n     \"<p>\\n\"+\n     \"BokehJS does not appear to have successfully loaded. If loading BokehJS from CDN, this \\n\"+\n     \"may be due to a slow or bad network connection. Possible fixes:\\n\"+\n     \"</p>\\n\"+\n     \"<ul>\\n\"+\n     \"<li>re-rerun `output_notebook()` to attempt to load from CDN again, or</li>\\n\"+\n     \"<li>use INLINE resources instead, as so:</li>\\n\"+\n     \"</ul>\\n\"+\n     \"<code>\\n\"+\n     \"from bokeh.resources import INLINE\\n\"+\n     \"output_notebook(resources=INLINE)\\n\"+\n     \"</code>\\n\"+\n     \"</div>\"}};\n\n  function display_loaded(error = null) {\n    const el = document.getElementById(\"afed37df-bb75-420b-bf45-d2ac9a4c0a1c\");\n    if (el != null) {\n      const html = (() => {\n        if (typeof root.Bokeh === \"undefined\") {\n          if (error == null) {\n            return \"BokehJS is loading ...\";\n          } else {\n            return \"BokehJS failed to load.\";\n          }\n        } else {\n          const prefix = `BokehJS ${root.Bokeh.version}`;\n          if (error == null) {\n            return `${prefix} successfully loaded.`;\n          } else {\n            return `${prefix} <b>encountered errors</b> while loading and may not function as expected.`;\n          }\n        }\n      })();\n      el.innerHTML = html;\n\n      if (error != null) {\n        const wrapper = document.createElement(\"div\");\n        wrapper.style.overflow = \"auto\";\n        wrapper.style.height = \"5em\";\n        wrapper.style.resize = \"vertical\";\n        const content = document.createElement(\"div\");\n        content.style.fontFamily = \"monospace\";\n        content.style.whiteSpace = \"pre-wrap\";\n        content.style.backgroundColor = \"rgb(255, 221, 221)\";\n        content.textContent = error.stack ?? error.toString();\n        wrapper.append(content);\n        el.append(wrapper);\n      }\n    } else if (Date.now() < root._bokeh_timeout) {\n      setTimeout(() => display_loaded(error), 100);\n    }\n  }\n\n  function run_callbacks() {\n    try {\n      root._bokeh_onload_callbacks.forEach(function(callback) {\n        if (callback != null)\n          callback();\n      });\n    } finally {\n      delete root._bokeh_onload_callbacks\n    }\n    console.debug(\"Bokeh: all callbacks have finished\");\n  }\n\n  function load_libs(css_urls, js_urls, callback) {\n    if (css_urls == null) css_urls = [];\n    if (js_urls == null) js_urls = [];\n\n    root._bokeh_onload_callbacks.push(callback);\n    if (root._bokeh_is_loading > 0) {\n      console.debug(\"Bokeh: BokehJS is being loaded, scheduling callback at\", now());\n      return null;\n    }\n    if (js_urls == null || js_urls.length === 0) {\n      run_callbacks();\n      return null;\n    }\n    console.debug(\"Bokeh: BokehJS not loaded, scheduling load and callback at\", now());\n    root._bokeh_is_loading = css_urls.length + js_urls.length;\n\n    function on_load() {\n      root._bokeh_is_loading--;\n      if (root._bokeh_is_loading === 0) {\n        console.debug(\"Bokeh: all BokehJS libraries/stylesheets loaded\");\n        run_callbacks()\n      }\n    }\n\n    function on_error(url) {\n      console.error(\"failed to load \" + url);\n    }\n\n    for (let i = 0; i < css_urls.length; i++) {\n      const url = css_urls[i];\n      const element = document.createElement(\"link\");\n      element.onload = on_load;\n      element.onerror = on_error.bind(null, url);\n      element.rel = \"stylesheet\";\n      element.type = \"text/css\";\n      element.href = url;\n      console.debug(\"Bokeh: injecting link tag for BokehJS stylesheet: \", url);\n      document.body.appendChild(element);\n    }\n\n    for (let i = 0; i < js_urls.length; i++) {\n      const url = js_urls[i];\n      const element = document.createElement('script');\n      element.onload = on_load;\n      element.onerror = on_error.bind(null, url);\n      element.async = false;\n      element.src = url;\n      console.debug(\"Bokeh: injecting script tag for BokehJS library: \", url);\n      document.head.appendChild(element);\n    }\n  };\n\n  function inject_raw_css(css) {\n    const element = document.createElement(\"style\");\n    element.appendChild(document.createTextNode(css));\n    document.body.appendChild(element);\n  }\n\n  const js_urls = [\"https://cdn.bokeh.org/bokeh/release/bokeh-3.4.1.min.js\", \"https://cdn.bokeh.org/bokeh/release/bokeh-gl-3.4.1.min.js\", \"https://cdn.bokeh.org/bokeh/release/bokeh-widgets-3.4.1.min.js\", \"https://cdn.bokeh.org/bokeh/release/bokeh-tables-3.4.1.min.js\", \"https://cdn.bokeh.org/bokeh/release/bokeh-mathjax-3.4.1.min.js\"];\n  const css_urls = [];\n\n  const inline_js = [    function(Bokeh) {\n      Bokeh.set_log_level(\"info\");\n    },\nfunction(Bokeh) {\n    }\n  ];\n\n  function run_inline_js() {\n    if (root.Bokeh !== undefined || force === true) {\n      try {\n            for (let i = 0; i < inline_js.length; i++) {\n      inline_js[i].call(root, root.Bokeh);\n    }\n\n      } catch (error) {display_loaded(error);throw error;\n      }if (force === true) {\n        display_loaded();\n      }} else if (Date.now() < root._bokeh_timeout) {\n      setTimeout(run_inline_js, 100);\n    } else if (!root._bokeh_failed_load) {\n      console.log(\"Bokeh: BokehJS failed to load within specified timeout.\");\n      root._bokeh_failed_load = true;\n    } else if (force !== true) {\n      const cell = $(document.getElementById(\"afed37df-bb75-420b-bf45-d2ac9a4c0a1c\")).parents('.cell').data().cell;\n      cell.output_area.append_execute_result(NB_LOAD_WARNING)\n    }\n  }\n\n  if (root._bokeh_is_loading === 0) {\n    console.debug(\"Bokeh: BokehJS loaded, going straight to plotting\");\n    run_inline_js();\n  } else {\n    load_libs(css_urls, js_urls, function() {\n      console.debug(\"Bokeh: BokehJS plotting callback run at\", now());\n      run_inline_js();\n    });\n  }\n}(window));",
            "application/vnd.bokehjs_load.v0+json": ""
          },
          "metadata": {},
          "output_type": "display_data"
        },
        {
          "data": {
            "text/html": [
              "\n",
              "  <div id=\"b1a40da7-2e39-4217-8dcc-225cef66f4e4\" data-root-id=\"p1001\" style=\"display: contents;\"></div>\n"
            ]
          },
          "metadata": {},
          "output_type": "display_data"
        },
        {
          "data": {
            "application/javascript": "(function(root) {\n  function embed_document(root) {\n  const docs_json = {\"d339c34d-6bbc-4c07-b789-d71f7a1fca80\":{\"version\":\"3.4.1\",\"title\":\"Bokeh Application\",\"roots\":[{\"type\":\"object\",\"name\":\"Figure\",\"id\":\"p1001\",\"attributes\":{\"x_range\":{\"type\":\"object\",\"name\":\"DataRange1d\",\"id\":\"p1002\"},\"y_range\":{\"type\":\"object\",\"name\":\"DataRange1d\",\"id\":\"p1003\"},\"x_scale\":{\"type\":\"object\",\"name\":\"LinearScale\",\"id\":\"p1011\"},\"y_scale\":{\"type\":\"object\",\"name\":\"LinearScale\",\"id\":\"p1012\"},\"title\":{\"type\":\"object\",\"name\":\"Title\",\"id\":\"p1004\",\"attributes\":{\"text\":\"Sine Wave Function\"}},\"renderers\":[{\"type\":\"object\",\"name\":\"GlyphRenderer\",\"id\":\"p1040\",\"attributes\":{\"data_source\":{\"type\":\"object\",\"name\":\"ColumnDataSource\",\"id\":\"p1034\",\"attributes\":{\"selected\":{\"type\":\"object\",\"name\":\"Selection\",\"id\":\"p1035\",\"attributes\":{\"indices\":[],\"line_indices\":[]}},\"selection_policy\":{\"type\":\"object\",\"name\":\"UnionRenderers\",\"id\":\"p1036\"},\"data\":{\"type\":\"map\",\"entries\":[[\"x\",{\"type\":\"ndarray\",\"array\":{\"type\":\"bytes\",\"data\":\"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\"},\"shape\":[1000],\"dtype\":\"float64\",\"order\":\"little\"}],[\"y\",{\"type\":\"ndarray\",\"array\":{\"type\":\"bytes\",\"data\":\"AAAAAAAAAABONnLm8sJ5Pw1f+IHRwok/5EINZPNRkz+dtRTxS8KZP/GmbNswGaA/GHhnAhJRoz/K8aAVwYimP+QJwb01wKk/VigHpGf3rD+p4i85JxewP+ECvelwsrE/3qpuuYxNsz9pgH9+dui0P/rjqw8qg7Y/ULo8RKMduD+sNBL03be5P3uXrvfVUbs/Xv9AKIfrvD9qJLBf7YS+P82NUjwCD8A/IgtLJ2TbwD+5j+hemqfBP4lrw9Gic8I/cJXqbns/wz9xBuklIgvEP68Ty+aU1sQ/HccjotGhxT/LNhJJ1mzGP9HaRs2gN8c/ueEIIS8CyD9hgzs3f8zIP1VSYwOPlsk/doureVxgyj/8Y+uO5SnLP7pVqzgo88s/jWkqbSK8zD//f2Mj0oTNP/uXElM1Tc4/iRO69EkVzz+R+qcBDt3PP8ad/bk/UtA/BXVUI8610D+UvcA6MRnRP9f/mv5nfNE//62ubXHf0T/SvjyHTELSP0ZH/kr4pNI/3hInuXMH0z/UOmjSvWnTP+278pfVy9M/Gwt6C7ot1D+tqDYvao/UP0Wy6AXl8NQ/WHPakilS1T9O9OLZNrPVP0OIaN8LFNY/PFljqKd01j/y8l86CdXWPyDMgZsvNdc/N86F0hmV1z+a28TmxvTXPzZUNuA1VNg/hphyx2Wz2D/1irWlVRLZP5UP4YQEcdk/Lop/b3HP2T+QWsZwmy3aPzBXmJSBi9o/BEaI5yLp2j+NU9t2fkbbPx6Ii1CTo9s/TztKg2AA3D+EhYIe5VzcP6WvWzIgudw/66C7zxAV3T+xSkkItnDdP2ISb+4OzN0/YzldlRon3j/8QgwR2IHeP0BYP3ZG3N4/3amG2mQ23z/mz0FUMpDfP3Qnovqt6d8/HZfWcmsh4D/wbR8X1k3gP5z8BXcWeuA/qTrSHyym4D8d3DqfFtLgP8R5ZoPV/eA/XLjsWmgp4T+Qbte0zlThP9DJoyAIgOE/AHJDLhSr4T/5qx1u8tXhP9R6EHGiAOI/BsBxyCMr4j9GWhAGdlXiPzRDNbyYf+I/yKukfYup4j+CF5/dTdPiP1R24m/f/OI/RT2ryD8m4z/afbV8bk/jPyH8PSFreOM/ekMDTDWh4z8NukaTzMnjP+6yzY0w8uM/6X7i0mAa5D/ze1X6XELkP0YjfpwkauQ/HBY8UreR5D8DKfi0FLnkP9ZtpV484OQ/TTzC6S0H5T8hOVnx6C3lP8ZbAhFtVOU/uvLj5Ll65T9cprMJz6DlP1Z6txysxuU/jc3Gu1Ds5T+YWEuFvBHmP8EqQhjvNuY/gKU8FOhb5j96dmEZp4DmP/2PbcgrpeY/9R+1wnXJ5j9ehSSqhO3mPx5EQSFYEec/Y/cqy+805z9qQpxLS1jnP6y/60Zqe+c/h+4MYkye5z9EH5FC8cDnP4VdqI5Y4+c/IVki7YEF6D9STW8FbSfoP1bmoH8ZSeg/XCVrBIdq6D/UQiU9tYvoPx6PytOjrOg/gVH7clLN6D+Gpf3FwO3oP5ZWvnjuDek/9LnRN9st6T8Ch3Swhk3pP8qtjJDwbOk/2SuqhhiM6T9f3wdC/qrpP5JYjHKhyek/U6nKyAHo6T8YMwP2HgbqPxVzJKz4I+o/l8zLnY5B6j+qUUZ+4F7qP+qJkQHue+o/lDdc3LaY6j/CGgfEOrXqP+SypW550eo/Yv7+knLt6j9sOI7oJQnrPwKVgyeTJOs/GPvECLo/6z/rvO5FmlrrP35OVJkzdes/NvoAvoWP6z+hk7hvkKnrP1wo+GpTw+s/E6/2bM7c6z+otKUzAfbrP3MHsn3rDuw/k2CECo0n7D9uC0Ka5T/sPzGLze30V+w/cz7Hxrpv7D/lAI7nNofsPxzLPxNpnuw/YVC6DVG17D+cmpub7svsPz+kQoJB4uw/SvDPh0n47D9QICZzBg7tP4iI6gt4I+0/5sGFGp447T85OiRoeE3tP0vCtr4GYu0/Chrz6Eh27T+telSyPortP9geHOfnne0/x8hRVESx7T9nRsTHU8TtP4LzCRAW1+0/zTmB/Irp7T8BD1FdsvvtP+FwaQOMDe4/Qt+DwBcf7j/90yNnVTDuP9o4l8pEQe4/ddv2vuVR7j8H3yYZOGLuPy8s1647cu4/n96DVvCB7j+8sHXnVZHuPy1lwjlsoO4/Vi5NJjOv7j+8E8eGqr3uP1VVrzXSy+4/wcxTDqrZ7j9uTNHsMefuP538E65p9O4/VbbXL1EB7z84XKhQ6A3vPzox4u8uGu8/RC2y7SQm7z+uTxYryjHvP6jv3YkePe8/dwqq7CFI7z+jj+021FLvP/Gq7Uw1Xe8/TwzCE0Vn7z+PLVVxA3HvPwmWZExweu8/FxyBjIuD7z9tJA8aVYzvP0vfRt7MlO8/joM0w/Kc7z+Wh7izxqTvPwzYh5tIrO8/fAwsZ3iz7z/JmQMEVrrvP3oCQmDhwO8/4gTwahrH7z8Ux+sTAc3vP70A6UuV0u8/yCJxBNfX7z/ffOMvxtzvP75gdcFi4e8/XUMyrazl7z/u2/vno+nvP65AimdI7e8/kQFsIprw7z+2QAYQmfPvP77IlChF9u8/5iAqZZ747z8En6+/pPrvP0h35TJY/O8/4cliurj97z9irpVSxv7vPws9w/iA/+8/15UHq+j/7z9o5VVo/f/vP7lneDC//+8/smgQBC7/7z99QpbkSf7vP7xZWdQS/e8/ixeA1oj77z9V4Qfvq/nvP3sOxSJ89+8/z9tid/n07z/jXGPzI/LvPyxrH5777u8/75LGf4Dr7z8R/l6hsufvP6pcxQyS4+8/esuszB7f7z8puJ7sWNrvP2HD+nhA1e8/tqD2ftXP7z9q9J0MGMrvPwUv0jAIxO8/vmZK+6W97z++LpN88bbvPztsDsbqr+8/Zinz6ZGo7z81Zk375qDvP/7m/Q3qmO8/8wC6NpuQ7z9vZAuL+ofvPyPlTyEIf+8/GkC5EMR17z+W30xxLmzvP8uc41tHYu8/dH8p6g5Y7z9Ke502hU3vP0srkVyqQu8/8YooeH437z83rVmmASzvP4px7AQ0IO8/jzZ6shUU7z/Vim3OpgfvP1/bAXnn+u4/GCBD09ft7j8jhg3/d+DuPxkYDR/I0u4/I2S9VsjE7j/8H2nKeLbuP97KKZ/Zp+4/Vk3n+uqY7j/4llcErYnuPxA6/uIfeu4/JgUsv0Nq7j+Cmv7BGFruP5EFYBWfSe4/Pk4G5NY47j82CnNZwCfuPybs8qFbFu4/1lCd6qgE7j9QylNhqPLtP+aowTRa4O0/PIJblL7N7T87tl6w1brtPwjy0Lmfp+0/7LB/4hyU7T80u/9cTYDtPxWjrFwxbO0/iD+oFclX7T8eJdq8FEPtP+Ac74cULu0/J5lYrcgY7T90KExkMQPtP1bmwuRO7ew/Sep4ZyHX7D+otOwlqcDsP5iZXlrmqew/CyrQP9mS7D/ImgMSgnvsP3opew3hY+w/1n94b/ZL7D/TFPx1wjPsP+OLxF9FG+w/UBJObH8C7D+lutHbcOnrPzXWRO8Z0Os/q0xY6Hq26z/I8XcJlJzrPyrZyZVlgus/Oagt0e9n6z835jsAM03rP2ZKRWgvMus/VghST+UW6z9cGiH8VPvqPyiKJ7Z+3+o/hbePxWLD6j9CnThzAafqP0wUtQhbiuo/7hRL0G9t6j9J9vIUQFDqP/arViLMMuo/3gHRRBQV6j9M1mzJGPfpPzBS5P3Z2Ok/nR+gMFi66T+Hnrawk5vpP8AX682MfOk/I+6s2ENd6T8azhYiuT3pP1nb7fvsHek/4NyguN/96D9KZ0erkd3oP2QFoScDveg/EF8UgjSc6D91Xq4PJnvoP4RTISbYWeg/0RXEG0s46D+6JJFHfxboP+zFJQF19Oc/SCLBoCzS5z8RYUN/pq/nP4rBLPbijOc/87KcX+Jp5z/f6lAWpUbnP/55pHUrI+c/Qt+O2XX/5j92GaOehNvmP0K3DiJYt+Y/luWYwfCS5j+XfKHbTm7mP+wKIM9ySeY/j9+i+1wk5j8gEk7BDf/lP5SJ2oCF2eU/ggGVm8Sz5T/iDV1zy43lP1QdpGqaZ+U/6Hls5DFB5T91SEhEkhrlP3WGWO678+Q/cQZMR6/M5D/+al60bKXkP08gV5v0feQ/WFSIYkdW5D+F7c1wZS7kPyWAjC1PBuQ/S0KwAAXe4z9u/qtSh7XjP6MEeIzWjOM/fBqRF/Nj4z+Mafdd3TrjP6FsLcqVEeM/ods2xxzo4j8blpfAcr7iP5OMUiKYlOI/eqjoWI1q4j/mslfRUkDiPwE6GfnoFeI/SHUhPlDr4T9rKN4OicDhPxKFNdqTleE/WguFD3Fq4T8kaaAeIT/hPyZY0HekE+E/3HrRi/vn4D9AONPLJrzgP1+WdqkmkOA/xhPNlvtj4D/Kf1cGpjfgP7HRBGsmC+A/df1hcPq83z84nkfDVWPfP45jH7dfCd8/ch4hNRmv3j9bNlUng1TeP4NKknie+d0/GNF6FGye3T9gtHrn7ELdP9LtxN4h59w/Jh9R6AuL3D9xKdnyqy7cPzzC1u0C0ts/sAaByRF12z/yDMp22RfbP1hzXOdauto/Ae6YDZdc2j930pPcjv7ZP4ShEkhDoNk/PY+JRLVB2T9FCRnH5eLYP1U7i8XVg9g/CpJRNoYk2D8EPIIQ+MTXP1ap1UssZdc/UQmk4CMF1z+xxuLH36TWP04CIvtgRNY/+AuKdKjj1T8P2tgut4LVP3Z/XyWOIdU/CaD/Uy7A1D+m4yi3mF7UP79n1kvO/NM/gC+MD9Ca0z+dklQAnzjTP7iqvRw81tI/d7/WY6hz0j9NsS3V5BDSP+5izHDyrdE/qyE2N9JK0T9IDGUphefQP+Z4x0gMhNA/m1k9l2gg0D/nPysuNnnPP4U+F5ZJsc4/1tuIbA3pzT8Zi5i4gyDNP0zEJ4KuV8w/bsDb0Y+Oyz+/MxixKcXKPxkG+il++8k/UwlSR48xyT8jrp8UX2fIP6C2C57vnMc/pOdi8ELSxj8/uBAZWwfGP5b/GSY6PMU/O6EXJuJwxD/+NzEoVaXDP1W/FzyV2cI/WDsAcqQNwj9tX57ahEHBP6IzH4c4dcA/lXFHEoNRvz9nF3flQ7i9P0ENv6y3Hrw/qMTYjeKEuj+MqzqvyOq4P+1pDThuULc/sB0hUNe1tT/DlOIfCBu0P6eFUNAEgLI/h8bwitHksD/VBYvz5JKuP1DghI7XW6s/YAGEPIMkqD9hLPVT8OykP85m5ysntaE/ga/sN2D6nD8YUWn4JoqWP7DFLEqzGZA/JDhtvStSgz/jvZQ/+8JpP663lD/7wmm/lzZtvStSg7/pxCxKsxmQv1FQafgmipa/u67sN2D6nL9rZucrJ7Whvz4s9VPw7KS//QCEPIMkqL/t34SO11urv3IFi/Pkkq6/VcbwitHksL91hVDQBICyv5GU4h8IG7S/fx0hUNe1tb+8aQ04blC3v1urOq/I6ri/d8TYjeKEur8QDb+stx68vzYXd+VDuL2/g3FHEoNRv7+JMx+HOHXAv1RfntqEQcG/QDsAcqQNwr88vxc8ldnCv+U3MShVpcO/IqEXJuJwxL9+/xkmOjzFvye4EBlbB8a/jOdi8ELSxr+Htgue75zHvwuunxRfZ8i/OglSR48xyb8ABvopfvvJv6YzGLEpxcq/VcDb0Y+Oy780xCeCrlfMvwGLmLiDIM2/vtuIbA3pzb9tPheWSbHOv88/Ky42ec+/j1k9l2gg0L/aeMdIDITQvzwMZSmF59C/nyE2N9JK0b/iYsxw8q3Rv0GxLdXkENK/a7/WY6hz0r+sqr0cPNbSv5GSVACfONO/dC+MD9Ca07+zZ9ZLzvzTv5vjKLeYXtS//Z//Uy7A1L9qf18ljiHVvwTa2C63gtW/7AuKdKjj1b9CAiL7YETWv63G4sffpNa/RQmk4CMF179KqdVLLGXXv/k7ghD4xNe//5FRNoYk2L9JO4vF1YPYvzkJGcfl4ti/Mo+JRLVB2b95oRJIQ6DZv2zSk9yO/tm/9u2YDZdc2r9Nc1znWrrav+cMynbZF9u/rAaByRF1278wwtbtAtLbv2Yp2fKrLty/Gx9R6AuL3L/H7cTeIefcv1W0eufsQt2/DdF6FGye3b94SpJ4nvndv1A2VSeDVN6/Zx4hNRmv3r+DYx+3Xwnfvy6eR8NVY9+/av1hcPq837+s0QRrJgvgv8V/VwamN+C/wRPNlvtj4L9alnapJpDgvzo408smvOC/1nrRi/vn4L8gWNB3pBPhvx5poB4hP+G/VQuFD3Fq4b8MhTXak5Xhv2Yo3g6JwOG/Q3UhPlDr4b/8ORn56BXiv+GyV9FSQOK/dajoWI1q4r+OjFIimJTivxaWl8ByvuK/nNs2xxzo4r+cbC3KlRHjv4dp913dOuO/dxqRF/Nj47+eBHiM1ozjv2n+q1KHteO/RkKwAAXe478hgIwtTwbkv4PtzXBlLuS/U1SIYkdW5L9LIFeb9H3kv/lqXrRspeS/bAZMR6/M5L9whljuu/Pkv3FISESSGuW/5Hls5DFB5b9PHaRqmmflv90NXXPLjeW/fQGVm8Sz5b+QidqAhdnlvxwSTsEN/+W/jt+i+1wk5r/nCiDPcknmv5J8odtObua/kuWYwfCS5r89tw4iWLfmv3IZo56E2+a/Pt+O2XX/5r/6eaR1KyPnv9vqUBalRue/7rKcX+Jp57+GwSz24oznvw1hQ3+mr+e/RCLBoCzS57/rxSUBdfTnv7YkkUd/Fui/zRXEG0s46L99UyEm2Fnov3Berg8me+i/CV8UgjSc6L9hBaEnA73ov0lnR6uR3ei/3NyguN/96L9X2+377B3pvxbOFiK5Pem/Iu6s2ENd6b+8F+vNjHzpv4aetrCTm+m/lx+gMFi66b8sUuT92djpv0bWbMkY9+m/2gHRRBQV6r/wq1YizDLqv0X28hRAUOq/7RRL0G9t6r9IFLUIW4rqv0GdOHMBp+q/grePxWLD6r8niie2ft/qv1gaIfxU++q/UwhST+UW679gSkVoLzLrvzTmOwAzTeu/NKgt0e9n678n2cmVZYLrv8PxdwmUnOu/qUxY6Hq267801kTvGdDrv6K60dtw6eu/ThJObH8C7L/gi8RfRRvsv9IU/HXCM+y/0394b/ZL7L93KXsN4WPsv8OaAxKCe+y/CSrQP9mS7L+TmV5a5qnsv6W07CWpwOy/Rep4ZyHX7L9T5sLkTu3sv3MoTGQxA+2/JJlYrcgY7b/fHO+HFC7tvxsl2rwUQ+2/hj+oFclX7b8So6xcMWztvzK7/1xNgO2/6bB/4hyU7b8H8tC5n6ftvze2XrDVuu2/OYJblL7N7b/iqME0WuDtv03KU2Go8u2/1VCd6qgE7r8k7PKhWxbuvzYKc1nAJ+6/O04G5NY47r+PBWAVn0nuv3+a/sEYWu6/JQUsv0Nq7r8NOv7iH3ruv/eWVwStie6/U03n+uqY7r/dyimf2afuv/sfacp4tu6/IWS9VsjE7r8ZGA0fyNLuvyGGDf934O6/FiBD09ft7r9d2wF55/ruv9SKbc6mB++/jTZ6shUU77+JcewENCDvvzWtWaYBLO+/8IooeH43779JK5FcqkLvv0h7nTaFTe+/dH8p6g5Y77/JnONbR2Lvv5bfTHEubO+/GUC5EMR1778j5U8hCH/vv21kC4v6h++/8gC6NpuQ77/95v0N6pjvvzRmTfvmoO+/ZSnz6ZGo7786bA7G6q/vv7wuk3zxtu+/vWZK+6W9778FL9IwCMTvv2r0nQwYyu+/taD2ftXP779gw/p4QNXvvym4nuxY2u+/ecuszB7f77+pXMUMkuPvvxD+XqGy5++/75LGf4Dr778rax+e++7vv+NcY/Mj8u+/zttid/n07796DsUifPfvv1XhB++r+e+/ixeA1oj777+8WVnUEv3vv3xCluRJ/u+/smgQBC7/77+5Z3gwv//vv2jlVWj9/++/15UHq+j/778LPcP4gP/vv2KulVLG/u+/4cliurj9779Jd+UyWPzvvwSfr7+k+u+/5yAqZZ7477++yJQoRfbvv7ZABhCZ8++/kQFsIprw77+uQIpnSO3vv+7b++ej6e+/XkMyrazl77+/YHXBYuHvv+B84y/G3O+/ySJxBNfX77+9AOlLldLvvxXH6xMBze+/4gTwahrH7797AkJg4cDvv8qZAwRWuu+/fAwsZ3iz778N2IebSKzvv5aHuLPGpO+/j4M0w/Kc779M30bezJTvv24kDxpVjO+/GByBjIuD778LlmRMcHrvv5AtVXEDce+/UQzCE0Vn77/zqu1MNV3vv6OP7TbUUu+/eQqq7CFI77+o792JHj3vv7BPFivKMe+/RS2y7SQm7788MeLvLhrvvzlcqFDoDe+/V7bXL1EB77+e/BOuafTuv3FM0ewx5+6/w8xTDqrZ7r9YVa810svuv74Tx4aqve6/Vy5NJjOv7r8vZcI5bKDuv7ywdedVke6/od6DVvCB7r8wLNeuO3LuvwrfJhk4Yu6/dtv2vuVR7r/dOJfKREHuv/7TI2dVMO6/Rt+DwBcf7r/kcGkDjA3uvwQPUV2y++2/zzmB/Irp7b+D8wkQFtftv2pGxMdTxO2/yMhRVESx7b/cHhzn553tv696VLI+iu2/Dhrz6Eh27b9Nwra+BmLtvzw6JGh4Te2/6MGFGp447b+MiOoLeCPtv1IgJnMGDu2/TvDPh0n47L9CpEKCQeLsv52am5vuy+y/ZFC6DVG17L8dyz8TaZ7sv+kAjuc2h+y/dT7Hxrpv7L81i83t9Ffsv3ALQprlP+y/l2CECo0n7L91B7J96w7sv620pTMB9uu/Fq/2bM7c679hKPhqU8Prv6STuG+Qqeu/N/oAvoWP67+BTlSZM3Xrv+287kWaWuu/HPvECLo/678FlYMnkyTrv3E4juglCeu/ZP7+knLt6r/psqVuedHqv8UaB8Q6teq/mTdc3LaY6r/tiZEB7nvqv6tRRn7gXuq/mszLnY5B6r8WcySs+CPqvxwzA/YeBuq/VanKyAHo6b+WWIxyocnpv2HfB0L+qum/3SuqhhiM6b/MrYyQ8GzpvweHdLCGTem/97nRN9st6b+bVr547g3pv4ql/cXA7ei/g1H7clLN6L8ij8rTo6zov9ZCJT21i+i/YCVrBIdq6L9Z5qB/GUnov1hNbwVtJ+i/I1ki7YEF6L+LXaiOWOPnv0cfkULxwOe/je4MYkye57+vv+tGanvnv3BCnEtLWOe/aPcqy+80578fREEhWBHnv2KFJKqE7ea/+B+1wnXJ5r8CkG3IK6Xmv3x2YRmngOa/hqU8FOhb5r/EKkIY7zbmv55YS4W8Eea/kM3Gu1Ds5b9cerccrMblv2CmswnPoOW/wfLj5Ll65b/KWwIRbVTlvyI5WfHoLeW/UjzC6S0H5b/YbaVePODkvwgp+LQUueS/HxY8UreR5L9NI36cJGrkv/Z7VfpcQuS/8H7i0mAa5L/yss2NMPLjvxS6RpPMyeO/fkMDTDWh478p/D0ha3jjv999tXxuT+O/Rz2ryD8m479ZduJv3/ziv4UXn91N0+K/zqukfYup4r83QzW8mH/iv0xaEAZ2VeK/CcBxyCMr4r/behBxogDiv/2rHW7y1eG/CHJDLhSr4b/VyaMgCIDhv5hu17TOVOG/YrjsWmgp4b/GeWaD1f3gvyLcOp8W0uC/rDrSHyym4L+i/AV3Fnrgv/JtHxfWTeC/JJfWcmsh4L97J6L6renfv/TPQVQykN+/5qmG2mQ2379QWD92RtzevwZDDBHYgd6/dTldlRon3r9tEm/uDszdv7VKSQi2cN2/96C7zxAV3b+rr1syILncv5CFgh7lXNy/VTtKg2AA3L8tiItQk6Pbv5RT23Z+Rtu/FEaI5yLp2r86V5iUgYvav6FaxnCbLdq/OIp/b3HP2b+nD+GEBHHZvwCLtaVVEtm/i5hyx2Wz2L9DVDbgNVTYv6DbxObG9Ne/Rc6F0hmV178nzIGbLzXXvwLzXzoJ1da/RFljqKd01r9UiGjfCxTWv1j04tk2s9W/aXPakilS1b9QsugF5fDUv8CoNi9qj9S/Jwt6C7ot1L/yu/KX1cvTv+A6aNK9adO/5BInuXMH079UR/5K+KTSv9q+PIdMQtK/Dq6ubXHf0b/f/5r+Z3zRv6W9wDoxGdG/D3VUI8610L/Ynf25P1LQv6f6pwEO3c+/kBO69EkVz78UmBJTNU3OvwqAYyPShM2/qGkqbSK8zL/GVas4KPPLvxpk647lKcu/hYureVxgyr91UmMDj5bJv3ODOzd/zMi/2+EIIS8CyL/l2kbNoDfHv/A2EknWbMa/M8cjotGhxb+4E8vmlNbEv4sG6SUiC8S/e5Xqbns/w7+la8PRonPCv8aP6F6ap8G/QQtLJ2TbwL/djVI8Ag/Av6sksF/thL6/gv9AKIfrvL/Cl6731VG7v9U0EvTdt7m/m7o8RKMduL8o5KsPKoO2v3uAf3526LS/EatuuYxNs7/3Ar3pcLKxv+LiLzknF7C/jSgHpGf3rL9gCsG9NcCpvwryoBXBiKa/nXhnAhJRo787p2zbMBmgv7u2FPFLwpm/jUMNZPNRk79yYfiB0cKJv0A5cubywnm/B1wUMyamsbw=\"},\"shape\":[1000],\"dtype\":\"float64\",\"order\":\"little\"}]]}}},\"view\":{\"type\":\"object\",\"name\":\"CDSView\",\"id\":\"p1041\",\"attributes\":{\"filter\":{\"type\":\"object\",\"name\":\"AllIndices\",\"id\":\"p1042\"}}},\"glyph\":{\"type\":\"object\",\"name\":\"Line\",\"id\":\"p1037\",\"attributes\":{\"x\":{\"type\":\"field\",\"field\":\"x\"},\"y\":{\"type\":\"field\",\"field\":\"y\"},\"line_color\":\"blue\",\"line_width\":2}},\"nonselection_glyph\":{\"type\":\"object\",\"name\":\"Line\",\"id\":\"p1038\",\"attributes\":{\"x\":{\"type\":\"field\",\"field\":\"x\"},\"y\":{\"type\":\"field\",\"field\":\"y\"},\"line_color\":\"blue\",\"line_alpha\":0.1,\"line_width\":2}},\"muted_glyph\":{\"type\":\"object\",\"name\":\"Line\",\"id\":\"p1039\",\"attributes\":{\"x\":{\"type\":\"field\",\"field\":\"x\"},\"y\":{\"type\":\"field\",\"field\":\"y\"},\"line_color\":\"blue\",\"line_alpha\":0.2,\"line_width\":2}}}}],\"toolbar\":{\"type\":\"object\",\"name\":\"Toolbar\",\"id\":\"p1010\",\"attributes\":{\"tools\":[{\"type\":\"object\",\"name\":\"PanTool\",\"id\":\"p1023\"},{\"type\":\"object\",\"name\":\"WheelZoomTool\",\"id\":\"p1024\",\"attributes\":{\"renderers\":\"auto\"}},{\"type\":\"object\",\"name\":\"BoxZoomTool\",\"id\":\"p1025\",\"attributes\":{\"overlay\":{\"type\":\"object\",\"name\":\"BoxAnnotation\",\"id\":\"p1026\",\"attributes\":{\"syncable\":false,\"level\":\"overlay\",\"visible\":false,\"left\":{\"type\":\"number\",\"value\":\"nan\"},\"right\":{\"type\":\"number\",\"value\":\"nan\"},\"top\":{\"type\":\"number\",\"value\":\"nan\"},\"bottom\":{\"type\":\"number\",\"value\":\"nan\"},\"left_units\":\"canvas\",\"right_units\":\"canvas\",\"top_units\":\"canvas\",\"bottom_units\":\"canvas\",\"line_color\":\"black\",\"line_alpha\":1.0,\"line_width\":2,\"line_dash\":[4,4],\"fill_color\":\"lightgrey\",\"fill_alpha\":0.5}}}},{\"type\":\"object\",\"name\":\"SaveTool\",\"id\":\"p1031\"},{\"type\":\"object\",\"name\":\"ResetTool\",\"id\":\"p1032\"},{\"type\":\"object\",\"name\":\"HelpTool\",\"id\":\"p1033\"}]}},\"left\":[{\"type\":\"object\",\"name\":\"LinearAxis\",\"id\":\"p1018\",\"attributes\":{\"ticker\":{\"type\":\"object\",\"name\":\"BasicTicker\",\"id\":\"p1019\",\"attributes\":{\"mantissas\":[1,2,5]}},\"formatter\":{\"type\":\"object\",\"name\":\"BasicTickFormatter\",\"id\":\"p1020\"},\"axis_label\":\"Y-axis\",\"major_label_policy\":{\"type\":\"object\",\"name\":\"AllLabels\",\"id\":\"p1021\"}}}],\"below\":[{\"type\":\"object\",\"name\":\"LinearAxis\",\"id\":\"p1013\",\"attributes\":{\"ticker\":{\"type\":\"object\",\"name\":\"BasicTicker\",\"id\":\"p1014\",\"attributes\":{\"mantissas\":[1,2,5]}},\"formatter\":{\"type\":\"object\",\"name\":\"BasicTickFormatter\",\"id\":\"p1015\"},\"axis_label\":\"X-axis\",\"major_label_policy\":{\"type\":\"object\",\"name\":\"AllLabels\",\"id\":\"p1016\"}}}],\"center\":[{\"type\":\"object\",\"name\":\"Grid\",\"id\":\"p1017\",\"attributes\":{\"axis\":{\"id\":\"p1013\"},\"grid_line_alpha\":0.3}},{\"type\":\"object\",\"name\":\"Grid\",\"id\":\"p1022\",\"attributes\":{\"dimension\":1,\"axis\":{\"id\":\"p1018\"},\"grid_line_alpha\":0.3}},{\"type\":\"object\",\"name\":\"Legend\",\"id\":\"p1043\",\"attributes\":{\"items\":[{\"type\":\"object\",\"name\":\"LegendItem\",\"id\":\"p1044\",\"attributes\":{\"label\":{\"type\":\"value\",\"value\":\"Sine Wave\"},\"renderers\":[{\"id\":\"p1040\"}]}}]}}]}}]}};\n  const render_items = [{\"docid\":\"d339c34d-6bbc-4c07-b789-d71f7a1fca80\",\"roots\":{\"p1001\":\"b1a40da7-2e39-4217-8dcc-225cef66f4e4\"},\"root_ids\":[\"p1001\"]}];\n  void root.Bokeh.embed.embed_items_notebook(docs_json, render_items);\n  }\n  if (root.Bokeh !== undefined) {\n    embed_document(root);\n  } else {\n    let attempts = 0;\n    const timer = setInterval(function(root) {\n      if (root.Bokeh !== undefined) {\n        clearInterval(timer);\n        embed_document(root);\n      } else {\n        attempts++;\n        if (attempts > 100) {\n          clearInterval(timer);\n          console.log(\"Bokeh: ERROR: Unable to run BokehJS code because BokehJS library is missing\");\n        }\n      }\n    }, 10, root)\n  }\n})(window);",
            "application/vnd.bokehjs_exec.v0+json": ""
          },
          "metadata": {
            "application/vnd.bokehjs_exec.v0+json": {
              "id": "p1001"
            }
          },
          "output_type": "display_data"
        }
      ],
      "source": [
        "import numpy as np\n",
        "from bokeh.plotting import figure, show\n",
        "from bokeh.io import output_notebook\n",
        "\n",
        "# Generate x values (from 0 to 2*pi)\n",
        "x = np.linspace(0, 2*np.pi, 1000)\n",
        "\n",
        "# Compute the sine wave function\n",
        "y = np.sin(x)\n",
        "\n",
        "# Create a Bokeh figure\n",
        "p = figure(title='Sine Wave Function', x_axis_label='X-axis', y_axis_label='Y-axis')\n",
        "\n",
        "# Add the sine wave line\n",
        "p.line(x, y, line_width=2, legend_label='Sine Wave', line_color='blue')\n",
        "\n",
        "# Add grid lines\n",
        "p.grid.grid_line_alpha = 0.3\n",
        "\n",
        "# Show the plot\n",
        "output_notebook()\n",
        "show(p)\n"
      ]
    },
    {
      "cell_type": "markdown",
      "metadata": {},
      "source": [
        "19. Using Bokeh, generate a bar chart of randomly generated categorical data, color bars based on their \n",
        "values, add hover tooltips to display exact values, label the axes, and set the title as 'Random Categorical \n",
        "Bar Chart."
      ]
    },
    {
      "cell_type": "code",
      "execution_count": 21,
      "metadata": {},
      "outputs": [
        {
          "data": {
            "text/html": [
              "\n",
              "  <div id=\"bd11366c-84fc-4a11-a56f-edad1f19260c\" data-root-id=\"p1047\" style=\"display: contents;\"></div>\n"
            ]
          },
          "metadata": {},
          "output_type": "display_data"
        },
        {
          "data": {
            "application/javascript": "(function(root) {\n  function embed_document(root) {\n  const docs_json = {\"a959719e-f7fb-40d4-b0c0-3fcc2f49f26c\":{\"version\":\"3.4.1\",\"title\":\"Bokeh Application\",\"roots\":[{\"type\":\"object\",\"name\":\"Figure\",\"id\":\"p1047\",\"attributes\":{\"x_range\":{\"type\":\"object\",\"name\":\"FactorRange\",\"id\":\"p1057\",\"attributes\":{\"factors\":[\"A\",\"B\",\"C\",\"D\",\"E\",\"F\"]}},\"y_range\":{\"type\":\"object\",\"name\":\"DataRange1d\",\"id\":\"p1049\"},\"x_scale\":{\"type\":\"object\",\"name\":\"CategoricalScale\",\"id\":\"p1058\"},\"y_scale\":{\"type\":\"object\",\"name\":\"LinearScale\",\"id\":\"p1059\"},\"title\":{\"type\":\"object\",\"name\":\"Title\",\"id\":\"p1050\",\"attributes\":{\"text\":\"Random Categorical Bar Chart\"}},\"renderers\":[{\"type\":\"object\",\"name\":\"GlyphRenderer\",\"id\":\"p1091\",\"attributes\":{\"data_source\":{\"type\":\"object\",\"name\":\"ColumnDataSource\",\"id\":\"p1081\",\"attributes\":{\"selected\":{\"type\":\"object\",\"name\":\"Selection\",\"id\":\"p1082\",\"attributes\":{\"indices\":[],\"line_indices\":[]}},\"selection_policy\":{\"type\":\"object\",\"name\":\"UnionRenderers\",\"id\":\"p1083\"},\"data\":{\"type\":\"map\",\"entries\":[[\"categories\",[\"A\",\"B\",\"C\",\"D\",\"E\",\"F\"]],[\"values\",{\"type\":\"ndarray\",\"array\":{\"type\":\"bytes\",\"data\":\"KAAAABUAAAA2AAAAVAAAAF8AAAAEAAAA\"},\"shape\":[6],\"dtype\":\"int32\",\"order\":\"little\"}]]}}},\"view\":{\"type\":\"object\",\"name\":\"CDSView\",\"id\":\"p1092\",\"attributes\":{\"filter\":{\"type\":\"object\",\"name\":\"AllIndices\",\"id\":\"p1093\"}}},\"glyph\":{\"type\":\"object\",\"name\":\"VBar\",\"id\":\"p1088\",\"attributes\":{\"x\":{\"type\":\"field\",\"field\":\"categories\"},\"width\":{\"type\":\"value\",\"value\":0.6},\"top\":{\"type\":\"field\",\"field\":\"values\"},\"line_color\":{\"type\":\"value\",\"value\":\"white\"},\"fill_color\":{\"type\":\"field\",\"field\":\"categories\",\"transform\":{\"type\":\"object\",\"name\":\"CategoricalColorMapper\",\"id\":\"p1084\",\"attributes\":{\"palette\":[\"#3288bd\",\"#99d594\",\"#e6f598\",\"#fee08b\",\"#fc8d59\",\"#d53e4f\"],\"factors\":[\"A\",\"B\",\"C\",\"D\",\"E\",\"F\"]}}}}},\"nonselection_glyph\":{\"type\":\"object\",\"name\":\"VBar\",\"id\":\"p1089\",\"attributes\":{\"x\":{\"type\":\"field\",\"field\":\"categories\"},\"width\":{\"type\":\"value\",\"value\":0.6},\"top\":{\"type\":\"field\",\"field\":\"values\"},\"line_color\":{\"type\":\"value\",\"value\":\"white\"},\"line_alpha\":{\"type\":\"value\",\"value\":0.1},\"fill_color\":{\"type\":\"field\",\"field\":\"categories\",\"transform\":{\"id\":\"p1084\"}},\"fill_alpha\":{\"type\":\"value\",\"value\":0.1},\"hatch_alpha\":{\"type\":\"value\",\"value\":0.1}}},\"muted_glyph\":{\"type\":\"object\",\"name\":\"VBar\",\"id\":\"p1090\",\"attributes\":{\"x\":{\"type\":\"field\",\"field\":\"categories\"},\"width\":{\"type\":\"value\",\"value\":0.6},\"top\":{\"type\":\"field\",\"field\":\"values\"},\"line_color\":{\"type\":\"value\",\"value\":\"white\"},\"line_alpha\":{\"type\":\"value\",\"value\":0.2},\"fill_color\":{\"type\":\"field\",\"field\":\"categories\",\"transform\":{\"id\":\"p1084\"}},\"fill_alpha\":{\"type\":\"value\",\"value\":0.2},\"hatch_alpha\":{\"type\":\"value\",\"value\":0.2}}}}}],\"toolbar\":{\"type\":\"object\",\"name\":\"Toolbar\",\"id\":\"p1056\",\"attributes\":{\"tools\":[{\"type\":\"object\",\"name\":\"PanTool\",\"id\":\"p1070\"},{\"type\":\"object\",\"name\":\"WheelZoomTool\",\"id\":\"p1071\",\"attributes\":{\"renderers\":\"auto\"}},{\"type\":\"object\",\"name\":\"BoxZoomTool\",\"id\":\"p1072\",\"attributes\":{\"overlay\":{\"type\":\"object\",\"name\":\"BoxAnnotation\",\"id\":\"p1073\",\"attributes\":{\"syncable\":false,\"level\":\"overlay\",\"visible\":false,\"left\":{\"type\":\"number\",\"value\":\"nan\"},\"right\":{\"type\":\"number\",\"value\":\"nan\"},\"top\":{\"type\":\"number\",\"value\":\"nan\"},\"bottom\":{\"type\":\"number\",\"value\":\"nan\"},\"left_units\":\"canvas\",\"right_units\":\"canvas\",\"top_units\":\"canvas\",\"bottom_units\":\"canvas\",\"line_color\":\"black\",\"line_alpha\":1.0,\"line_width\":2,\"line_dash\":[4,4],\"fill_color\":\"lightgrey\",\"fill_alpha\":0.5}}}},{\"type\":\"object\",\"name\":\"SaveTool\",\"id\":\"p1078\"},{\"type\":\"object\",\"name\":\"ResetTool\",\"id\":\"p1079\"},{\"type\":\"object\",\"name\":\"HelpTool\",\"id\":\"p1080\"},{\"type\":\"object\",\"name\":\"HoverTool\",\"id\":\"p1094\",\"attributes\":{\"renderers\":\"auto\",\"tooltips\":[[\"Category\",\"@categories\"],[\"Value\",\"@values\"]]}}]}},\"left\":[{\"type\":\"object\",\"name\":\"LinearAxis\",\"id\":\"p1065\",\"attributes\":{\"ticker\":{\"type\":\"object\",\"name\":\"BasicTicker\",\"id\":\"p1066\",\"attributes\":{\"mantissas\":[1,2,5]}},\"formatter\":{\"type\":\"object\",\"name\":\"BasicTickFormatter\",\"id\":\"p1067\"},\"axis_label\":\"Values\",\"major_label_policy\":{\"type\":\"object\",\"name\":\"AllLabels\",\"id\":\"p1068\"}}}],\"below\":[{\"type\":\"object\",\"name\":\"CategoricalAxis\",\"id\":\"p1060\",\"attributes\":{\"ticker\":{\"type\":\"object\",\"name\":\"CategoricalTicker\",\"id\":\"p1061\"},\"formatter\":{\"type\":\"object\",\"name\":\"CategoricalTickFormatter\",\"id\":\"p1062\"},\"axis_label\":\"Categories\",\"major_label_policy\":{\"type\":\"object\",\"name\":\"AllLabels\",\"id\":\"p1063\"}}}],\"center\":[{\"type\":\"object\",\"name\":\"Grid\",\"id\":\"p1064\",\"attributes\":{\"axis\":{\"id\":\"p1060\"}}},{\"type\":\"object\",\"name\":\"Grid\",\"id\":\"p1069\",\"attributes\":{\"dimension\":1,\"axis\":{\"id\":\"p1065\"}}}]}}]}};\n  const render_items = [{\"docid\":\"a959719e-f7fb-40d4-b0c0-3fcc2f49f26c\",\"roots\":{\"p1047\":\"bd11366c-84fc-4a11-a56f-edad1f19260c\"},\"root_ids\":[\"p1047\"]}];\n  void root.Bokeh.embed.embed_items_notebook(docs_json, render_items);\n  }\n  if (root.Bokeh !== undefined) {\n    embed_document(root);\n  } else {\n    let attempts = 0;\n    const timer = setInterval(function(root) {\n      if (root.Bokeh !== undefined) {\n        clearInterval(timer);\n        embed_document(root);\n      } else {\n        attempts++;\n        if (attempts > 100) {\n          clearInterval(timer);\n          console.log(\"Bokeh: ERROR: Unable to run BokehJS code because BokehJS library is missing\");\n        }\n      }\n    }, 10, root)\n  }\n})(window);",
            "application/vnd.bokehjs_exec.v0+json": ""
          },
          "metadata": {
            "application/vnd.bokehjs_exec.v0+json": {
              "id": "p1047"
            }
          },
          "output_type": "display_data"
        }
      ],
      "source": [
        "import numpy as np\n",
        "from bokeh.plotting import figure, show\n",
        "from bokeh.models import ColumnDataSource, HoverTool\n",
        "from bokeh.transform import factor_cmap\n",
        "from bokeh.palettes import Spectral6\n",
        "\n",
        "# Generate random categorical data (replace with your actual data)\n",
        "categories = ['A', 'B', 'C', 'D', 'E', 'F']\n",
        "values = np.random.randint(1, 100, size=len(categories))\n",
        "\n",
        "# Create a Bokeh figure\n",
        "p = figure(x_range=categories, title='Random Categorical Bar Chart')\n",
        "\n",
        "# Add the bars\n",
        "source = ColumnDataSource(data={'categories': categories, 'values': values})\n",
        "p.vbar(x='categories', top='values', source=source, width=0.6, line_color='white',\n",
        "       fill_color=factor_cmap('categories', palette=Spectral6, factors=categories))\n",
        "\n",
        "# Add hover tooltips\n",
        "hover = HoverTool(tooltips=[('Category', '@categories'), ('Value', '@values')])\n",
        "p.add_tools(hover)\n",
        "\n",
        "# Set axis labels\n",
        "p.xaxis.axis_label = 'Categories'\n",
        "p.yaxis.axis_label = 'Values'\n",
        "\n",
        "# Show the plot\n",
        "show(p)\n",
        "\n"
      ]
    },
    {
      "cell_type": "markdown",
      "metadata": {},
      "source": [
        "20. Using Plotly, create a basic line plot of a randomly generated dataset, label the axes, and set the title as \n",
        "'Simple Line Plot'."
      ]
    },
    {
      "cell_type": "code",
      "execution_count": 22,
      "metadata": {},
      "outputs": [
        {
          "data": {
            "application/vnd.plotly.v1+json": {
              "config": {
                "plotlyServerURL": "https://plot.ly"
              },
              "data": [
                {
                  "hovertemplate": "X-axis=%{x}<br>Y-axis=%{y}<extra></extra>",
                  "legendgroup": "",
                  "line": {
                    "color": "#636efa",
                    "dash": "solid"
                  },
                  "marker": {
                    "symbol": "circle"
                  },
                  "mode": "lines",
                  "name": "",
                  "orientation": "v",
                  "showlegend": false,
                  "type": "scatter",
                  "x": [
                    0,
                    0.10101010101010101,
                    0.20202020202020202,
                    0.30303030303030304,
                    0.40404040404040403,
                    0.5050505050505051,
                    0.6060606060606061,
                    0.7070707070707071,
                    0.8080808080808081,
                    0.9090909090909091,
                    1.0101010101010102,
                    1.1111111111111112,
                    1.2121212121212122,
                    1.3131313131313131,
                    1.4141414141414141,
                    1.5151515151515151,
                    1.6161616161616161,
                    1.7171717171717171,
                    1.8181818181818181,
                    1.9191919191919191,
                    2.0202020202020203,
                    2.121212121212121,
                    2.2222222222222223,
                    2.323232323232323,
                    2.4242424242424243,
                    2.525252525252525,
                    2.6262626262626263,
                    2.727272727272727,
                    2.8282828282828283,
                    2.929292929292929,
                    3.0303030303030303,
                    3.131313131313131,
                    3.2323232323232323,
                    3.3333333333333335,
                    3.4343434343434343,
                    3.5353535353535355,
                    3.6363636363636362,
                    3.7373737373737375,
                    3.8383838383838382,
                    3.9393939393939394,
                    4.040404040404041,
                    4.141414141414141,
                    4.242424242424242,
                    4.343434343434343,
                    4.444444444444445,
                    4.545454545454545,
                    4.646464646464646,
                    4.747474747474747,
                    4.848484848484849,
                    4.94949494949495,
                    5.05050505050505,
                    5.151515151515151,
                    5.252525252525253,
                    5.353535353535354,
                    5.454545454545454,
                    5.555555555555555,
                    5.656565656565657,
                    5.757575757575758,
                    5.858585858585858,
                    5.959595959595959,
                    6.0606060606060606,
                    6.161616161616162,
                    6.262626262626262,
                    6.363636363636363,
                    6.4646464646464645,
                    6.565656565656566,
                    6.666666666666667,
                    6.767676767676767,
                    6.8686868686868685,
                    6.96969696969697,
                    7.070707070707071,
                    7.171717171717171,
                    7.2727272727272725,
                    7.373737373737374,
                    7.474747474747475,
                    7.575757575757575,
                    7.6767676767676765,
                    7.777777777777778,
                    7.878787878787879,
                    7.979797979797979,
                    8.080808080808081,
                    8.181818181818182,
                    8.282828282828282,
                    8.383838383838384,
                    8.484848484848484,
                    8.585858585858587,
                    8.686868686868687,
                    8.787878787878787,
                    8.88888888888889,
                    8.98989898989899,
                    9.09090909090909,
                    9.191919191919192,
                    9.292929292929292,
                    9.393939393939394,
                    9.494949494949495,
                    9.595959595959595,
                    9.696969696969697,
                    9.797979797979798,
                    9.8989898989899,
                    10
                  ],
                  "xaxis": "x",
                  "y": [
                    0.08906179851942803,
                    0.20423326609547016,
                    0.2536394066778751,
                    0.1555239306106609,
                    0.3861803828931983,
                    0.5758878369669,
                    0.5349340502652434,
                    0.6533081952699216,
                    0.711610899533206,
                    1.0028708936010367,
                    0.8823430056549221,
                    0.9401713071773854,
                    1.138555691252738,
                    0.7030925468215419,
                    0.9189832869117889,
                    0.8844353742079685,
                    0.9413710961792974,
                    1.0594478920950405,
                    0.8958364142941196,
                    0.7777740364353418,
                    0.9131615744534322,
                    0.8102511796098868,
                    0.9536029466675424,
                    0.6510442130312569,
                    0.8233511744736726,
                    0.5341308908406046,
                    0.532162351006517,
                    0.4000457698763662,
                    0.3527598425840517,
                    0.3244481955812346,
                    0.09481214896360964,
                    0.10976644566229417,
                    -0.17656664199884484,
                    -0.24348274148025176,
                    -0.37215485306191565,
                    -0.4138912396402079,
                    -0.450538789467948,
                    -0.4308708298760204,
                    -0.6633322302817265,
                    -0.8706816198904792,
                    -0.8819879021966497,
                    -0.7632953829894717,
                    -0.9612585462233967,
                    -0.9257563260620104,
                    -0.9641584244361514,
                    -1.0137710193925122,
                    -1.087237610333664,
                    -0.9254346140296742,
                    -0.9941170383115262,
                    -0.8382537763859818,
                    -1.025903302434412,
                    -1.0209028645068432,
                    -0.7968565123427218,
                    -0.6629071609458069,
                    -0.7495428401511426,
                    -0.5597502374128167,
                    -0.552203516707931,
                    -0.5537969542708819,
                    -0.3190158793341376,
                    -0.34248595849861574,
                    -0.21668389800777393,
                    -0.21971788967879183,
                    -0.1227956665445471,
                    0.2093475902843523,
                    0.21722199577445134,
                    0.284774833090063,
                    0.38519149713397716,
                    0.27892636262136533,
                    0.5868009716178354,
                    0.6475933903257252,
                    0.7209655523703143,
                    0.8846450338409706,
                    0.9130639713236208,
                    0.9522939431389882,
                    0.9961485469766277,
                    0.9247286532107931,
                    0.9272160931445188,
                    0.9159701616159419,
                    1.004154809259044,
                    1.1173204192423507,
                    1.1140227743176974,
                    0.6963728678368587,
                    0.8872586897404466,
                    0.913484027947254,
                    0.7804500051113441,
                    0.6919261796518007,
                    0.6140482641122533,
                    0.5996447877514032,
                    0.5609479541558396,
                    0.49910808174097965,
                    0.4153718700528259,
                    0.13807719905734678,
                    0.19480313982320885,
                    0.10314532821151176,
                    -0.05717229561145352,
                    -0.04194534511894907,
                    -0.29316785574211324,
                    -0.44814411621470923,
                    -0.4115188842140263,
                    -0.3773971729842297
                  ],
                  "yaxis": "y"
                }
              ],
              "layout": {
                "legend": {
                  "tracegroupgap": 0
                },
                "template": {
                  "data": {
                    "bar": [
                      {
                        "error_x": {
                          "color": "#2a3f5f"
                        },
                        "error_y": {
                          "color": "#2a3f5f"
                        },
                        "marker": {
                          "line": {
                            "color": "#E5ECF6",
                            "width": 0.5
                          },
                          "pattern": {
                            "fillmode": "overlay",
                            "size": 10,
                            "solidity": 0.2
                          }
                        },
                        "type": "bar"
                      }
                    ],
                    "barpolar": [
                      {
                        "marker": {
                          "line": {
                            "color": "#E5ECF6",
                            "width": 0.5
                          },
                          "pattern": {
                            "fillmode": "overlay",
                            "size": 10,
                            "solidity": 0.2
                          }
                        },
                        "type": "barpolar"
                      }
                    ],
                    "carpet": [
                      {
                        "aaxis": {
                          "endlinecolor": "#2a3f5f",
                          "gridcolor": "white",
                          "linecolor": "white",
                          "minorgridcolor": "white",
                          "startlinecolor": "#2a3f5f"
                        },
                        "baxis": {
                          "endlinecolor": "#2a3f5f",
                          "gridcolor": "white",
                          "linecolor": "white",
                          "minorgridcolor": "white",
                          "startlinecolor": "#2a3f5f"
                        },
                        "type": "carpet"
                      }
                    ],
                    "choropleth": [
                      {
                        "colorbar": {
                          "outlinewidth": 0,
                          "ticks": ""
                        },
                        "type": "choropleth"
                      }
                    ],
                    "contour": [
                      {
                        "colorbar": {
                          "outlinewidth": 0,
                          "ticks": ""
                        },
                        "colorscale": [
                          [
                            0,
                            "#0d0887"
                          ],
                          [
                            0.1111111111111111,
                            "#46039f"
                          ],
                          [
                            0.2222222222222222,
                            "#7201a8"
                          ],
                          [
                            0.3333333333333333,
                            "#9c179e"
                          ],
                          [
                            0.4444444444444444,
                            "#bd3786"
                          ],
                          [
                            0.5555555555555556,
                            "#d8576b"
                          ],
                          [
                            0.6666666666666666,
                            "#ed7953"
                          ],
                          [
                            0.7777777777777778,
                            "#fb9f3a"
                          ],
                          [
                            0.8888888888888888,
                            "#fdca26"
                          ],
                          [
                            1,
                            "#f0f921"
                          ]
                        ],
                        "type": "contour"
                      }
                    ],
                    "contourcarpet": [
                      {
                        "colorbar": {
                          "outlinewidth": 0,
                          "ticks": ""
                        },
                        "type": "contourcarpet"
                      }
                    ],
                    "heatmap": [
                      {
                        "colorbar": {
                          "outlinewidth": 0,
                          "ticks": ""
                        },
                        "colorscale": [
                          [
                            0,
                            "#0d0887"
                          ],
                          [
                            0.1111111111111111,
                            "#46039f"
                          ],
                          [
                            0.2222222222222222,
                            "#7201a8"
                          ],
                          [
                            0.3333333333333333,
                            "#9c179e"
                          ],
                          [
                            0.4444444444444444,
                            "#bd3786"
                          ],
                          [
                            0.5555555555555556,
                            "#d8576b"
                          ],
                          [
                            0.6666666666666666,
                            "#ed7953"
                          ],
                          [
                            0.7777777777777778,
                            "#fb9f3a"
                          ],
                          [
                            0.8888888888888888,
                            "#fdca26"
                          ],
                          [
                            1,
                            "#f0f921"
                          ]
                        ],
                        "type": "heatmap"
                      }
                    ],
                    "heatmapgl": [
                      {
                        "colorbar": {
                          "outlinewidth": 0,
                          "ticks": ""
                        },
                        "colorscale": [
                          [
                            0,
                            "#0d0887"
                          ],
                          [
                            0.1111111111111111,
                            "#46039f"
                          ],
                          [
                            0.2222222222222222,
                            "#7201a8"
                          ],
                          [
                            0.3333333333333333,
                            "#9c179e"
                          ],
                          [
                            0.4444444444444444,
                            "#bd3786"
                          ],
                          [
                            0.5555555555555556,
                            "#d8576b"
                          ],
                          [
                            0.6666666666666666,
                            "#ed7953"
                          ],
                          [
                            0.7777777777777778,
                            "#fb9f3a"
                          ],
                          [
                            0.8888888888888888,
                            "#fdca26"
                          ],
                          [
                            1,
                            "#f0f921"
                          ]
                        ],
                        "type": "heatmapgl"
                      }
                    ],
                    "histogram": [
                      {
                        "marker": {
                          "pattern": {
                            "fillmode": "overlay",
                            "size": 10,
                            "solidity": 0.2
                          }
                        },
                        "type": "histogram"
                      }
                    ],
                    "histogram2d": [
                      {
                        "colorbar": {
                          "outlinewidth": 0,
                          "ticks": ""
                        },
                        "colorscale": [
                          [
                            0,
                            "#0d0887"
                          ],
                          [
                            0.1111111111111111,
                            "#46039f"
                          ],
                          [
                            0.2222222222222222,
                            "#7201a8"
                          ],
                          [
                            0.3333333333333333,
                            "#9c179e"
                          ],
                          [
                            0.4444444444444444,
                            "#bd3786"
                          ],
                          [
                            0.5555555555555556,
                            "#d8576b"
                          ],
                          [
                            0.6666666666666666,
                            "#ed7953"
                          ],
                          [
                            0.7777777777777778,
                            "#fb9f3a"
                          ],
                          [
                            0.8888888888888888,
                            "#fdca26"
                          ],
                          [
                            1,
                            "#f0f921"
                          ]
                        ],
                        "type": "histogram2d"
                      }
                    ],
                    "histogram2dcontour": [
                      {
                        "colorbar": {
                          "outlinewidth": 0,
                          "ticks": ""
                        },
                        "colorscale": [
                          [
                            0,
                            "#0d0887"
                          ],
                          [
                            0.1111111111111111,
                            "#46039f"
                          ],
                          [
                            0.2222222222222222,
                            "#7201a8"
                          ],
                          [
                            0.3333333333333333,
                            "#9c179e"
                          ],
                          [
                            0.4444444444444444,
                            "#bd3786"
                          ],
                          [
                            0.5555555555555556,
                            "#d8576b"
                          ],
                          [
                            0.6666666666666666,
                            "#ed7953"
                          ],
                          [
                            0.7777777777777778,
                            "#fb9f3a"
                          ],
                          [
                            0.8888888888888888,
                            "#fdca26"
                          ],
                          [
                            1,
                            "#f0f921"
                          ]
                        ],
                        "type": "histogram2dcontour"
                      }
                    ],
                    "mesh3d": [
                      {
                        "colorbar": {
                          "outlinewidth": 0,
                          "ticks": ""
                        },
                        "type": "mesh3d"
                      }
                    ],
                    "parcoords": [
                      {
                        "line": {
                          "colorbar": {
                            "outlinewidth": 0,
                            "ticks": ""
                          }
                        },
                        "type": "parcoords"
                      }
                    ],
                    "pie": [
                      {
                        "automargin": true,
                        "type": "pie"
                      }
                    ],
                    "scatter": [
                      {
                        "fillpattern": {
                          "fillmode": "overlay",
                          "size": 10,
                          "solidity": 0.2
                        },
                        "type": "scatter"
                      }
                    ],
                    "scatter3d": [
                      {
                        "line": {
                          "colorbar": {
                            "outlinewidth": 0,
                            "ticks": ""
                          }
                        },
                        "marker": {
                          "colorbar": {
                            "outlinewidth": 0,
                            "ticks": ""
                          }
                        },
                        "type": "scatter3d"
                      }
                    ],
                    "scattercarpet": [
                      {
                        "marker": {
                          "colorbar": {
                            "outlinewidth": 0,
                            "ticks": ""
                          }
                        },
                        "type": "scattercarpet"
                      }
                    ],
                    "scattergeo": [
                      {
                        "marker": {
                          "colorbar": {
                            "outlinewidth": 0,
                            "ticks": ""
                          }
                        },
                        "type": "scattergeo"
                      }
                    ],
                    "scattergl": [
                      {
                        "marker": {
                          "colorbar": {
                            "outlinewidth": 0,
                            "ticks": ""
                          }
                        },
                        "type": "scattergl"
                      }
                    ],
                    "scattermapbox": [
                      {
                        "marker": {
                          "colorbar": {
                            "outlinewidth": 0,
                            "ticks": ""
                          }
                        },
                        "type": "scattermapbox"
                      }
                    ],
                    "scatterpolar": [
                      {
                        "marker": {
                          "colorbar": {
                            "outlinewidth": 0,
                            "ticks": ""
                          }
                        },
                        "type": "scatterpolar"
                      }
                    ],
                    "scatterpolargl": [
                      {
                        "marker": {
                          "colorbar": {
                            "outlinewidth": 0,
                            "ticks": ""
                          }
                        },
                        "type": "scatterpolargl"
                      }
                    ],
                    "scatterternary": [
                      {
                        "marker": {
                          "colorbar": {
                            "outlinewidth": 0,
                            "ticks": ""
                          }
                        },
                        "type": "scatterternary"
                      }
                    ],
                    "surface": [
                      {
                        "colorbar": {
                          "outlinewidth": 0,
                          "ticks": ""
                        },
                        "colorscale": [
                          [
                            0,
                            "#0d0887"
                          ],
                          [
                            0.1111111111111111,
                            "#46039f"
                          ],
                          [
                            0.2222222222222222,
                            "#7201a8"
                          ],
                          [
                            0.3333333333333333,
                            "#9c179e"
                          ],
                          [
                            0.4444444444444444,
                            "#bd3786"
                          ],
                          [
                            0.5555555555555556,
                            "#d8576b"
                          ],
                          [
                            0.6666666666666666,
                            "#ed7953"
                          ],
                          [
                            0.7777777777777778,
                            "#fb9f3a"
                          ],
                          [
                            0.8888888888888888,
                            "#fdca26"
                          ],
                          [
                            1,
                            "#f0f921"
                          ]
                        ],
                        "type": "surface"
                      }
                    ],
                    "table": [
                      {
                        "cells": {
                          "fill": {
                            "color": "#EBF0F8"
                          },
                          "line": {
                            "color": "white"
                          }
                        },
                        "header": {
                          "fill": {
                            "color": "#C8D4E3"
                          },
                          "line": {
                            "color": "white"
                          }
                        },
                        "type": "table"
                      }
                    ]
                  },
                  "layout": {
                    "annotationdefaults": {
                      "arrowcolor": "#2a3f5f",
                      "arrowhead": 0,
                      "arrowwidth": 1
                    },
                    "autotypenumbers": "strict",
                    "coloraxis": {
                      "colorbar": {
                        "outlinewidth": 0,
                        "ticks": ""
                      }
                    },
                    "colorscale": {
                      "diverging": [
                        [
                          0,
                          "#8e0152"
                        ],
                        [
                          0.1,
                          "#c51b7d"
                        ],
                        [
                          0.2,
                          "#de77ae"
                        ],
                        [
                          0.3,
                          "#f1b6da"
                        ],
                        [
                          0.4,
                          "#fde0ef"
                        ],
                        [
                          0.5,
                          "#f7f7f7"
                        ],
                        [
                          0.6,
                          "#e6f5d0"
                        ],
                        [
                          0.7,
                          "#b8e186"
                        ],
                        [
                          0.8,
                          "#7fbc41"
                        ],
                        [
                          0.9,
                          "#4d9221"
                        ],
                        [
                          1,
                          "#276419"
                        ]
                      ],
                      "sequential": [
                        [
                          0,
                          "#0d0887"
                        ],
                        [
                          0.1111111111111111,
                          "#46039f"
                        ],
                        [
                          0.2222222222222222,
                          "#7201a8"
                        ],
                        [
                          0.3333333333333333,
                          "#9c179e"
                        ],
                        [
                          0.4444444444444444,
                          "#bd3786"
                        ],
                        [
                          0.5555555555555556,
                          "#d8576b"
                        ],
                        [
                          0.6666666666666666,
                          "#ed7953"
                        ],
                        [
                          0.7777777777777778,
                          "#fb9f3a"
                        ],
                        [
                          0.8888888888888888,
                          "#fdca26"
                        ],
                        [
                          1,
                          "#f0f921"
                        ]
                      ],
                      "sequentialminus": [
                        [
                          0,
                          "#0d0887"
                        ],
                        [
                          0.1111111111111111,
                          "#46039f"
                        ],
                        [
                          0.2222222222222222,
                          "#7201a8"
                        ],
                        [
                          0.3333333333333333,
                          "#9c179e"
                        ],
                        [
                          0.4444444444444444,
                          "#bd3786"
                        ],
                        [
                          0.5555555555555556,
                          "#d8576b"
                        ],
                        [
                          0.6666666666666666,
                          "#ed7953"
                        ],
                        [
                          0.7777777777777778,
                          "#fb9f3a"
                        ],
                        [
                          0.8888888888888888,
                          "#fdca26"
                        ],
                        [
                          1,
                          "#f0f921"
                        ]
                      ]
                    },
                    "colorway": [
                      "#636efa",
                      "#EF553B",
                      "#00cc96",
                      "#ab63fa",
                      "#FFA15A",
                      "#19d3f3",
                      "#FF6692",
                      "#B6E880",
                      "#FF97FF",
                      "#FECB52"
                    ],
                    "font": {
                      "color": "#2a3f5f"
                    },
                    "geo": {
                      "bgcolor": "white",
                      "lakecolor": "white",
                      "landcolor": "#E5ECF6",
                      "showlakes": true,
                      "showland": true,
                      "subunitcolor": "white"
                    },
                    "hoverlabel": {
                      "align": "left"
                    },
                    "hovermode": "closest",
                    "mapbox": {
                      "style": "light"
                    },
                    "paper_bgcolor": "white",
                    "plot_bgcolor": "#E5ECF6",
                    "polar": {
                      "angularaxis": {
                        "gridcolor": "white",
                        "linecolor": "white",
                        "ticks": ""
                      },
                      "bgcolor": "#E5ECF6",
                      "radialaxis": {
                        "gridcolor": "white",
                        "linecolor": "white",
                        "ticks": ""
                      }
                    },
                    "scene": {
                      "xaxis": {
                        "backgroundcolor": "#E5ECF6",
                        "gridcolor": "white",
                        "gridwidth": 2,
                        "linecolor": "white",
                        "showbackground": true,
                        "ticks": "",
                        "zerolinecolor": "white"
                      },
                      "yaxis": {
                        "backgroundcolor": "#E5ECF6",
                        "gridcolor": "white",
                        "gridwidth": 2,
                        "linecolor": "white",
                        "showbackground": true,
                        "ticks": "",
                        "zerolinecolor": "white"
                      },
                      "zaxis": {
                        "backgroundcolor": "#E5ECF6",
                        "gridcolor": "white",
                        "gridwidth": 2,
                        "linecolor": "white",
                        "showbackground": true,
                        "ticks": "",
                        "zerolinecolor": "white"
                      }
                    },
                    "shapedefaults": {
                      "line": {
                        "color": "#2a3f5f"
                      }
                    },
                    "ternary": {
                      "aaxis": {
                        "gridcolor": "white",
                        "linecolor": "white",
                        "ticks": ""
                      },
                      "baxis": {
                        "gridcolor": "white",
                        "linecolor": "white",
                        "ticks": ""
                      },
                      "bgcolor": "#E5ECF6",
                      "caxis": {
                        "gridcolor": "white",
                        "linecolor": "white",
                        "ticks": ""
                      }
                    },
                    "title": {
                      "x": 0.05
                    },
                    "xaxis": {
                      "automargin": true,
                      "gridcolor": "white",
                      "linecolor": "white",
                      "ticks": "",
                      "title": {
                        "standoff": 15
                      },
                      "zerolinecolor": "white",
                      "zerolinewidth": 2
                    },
                    "yaxis": {
                      "automargin": true,
                      "gridcolor": "white",
                      "linecolor": "white",
                      "ticks": "",
                      "title": {
                        "standoff": 15
                      },
                      "zerolinecolor": "white",
                      "zerolinewidth": 2
                    }
                  }
                },
                "title": {
                  "text": "Simple Line Plot"
                },
                "xaxis": {
                  "anchor": "y",
                  "domain": [
                    0,
                    1
                  ],
                  "title": {
                    "text": "X-axis"
                  }
                },
                "yaxis": {
                  "anchor": "x",
                  "domain": [
                    0,
                    1
                  ],
                  "title": {
                    "text": "Y-axis"
                  }
                }
              }
            }
          },
          "metadata": {},
          "output_type": "display_data"
        }
      ],
      "source": [
        "import plotly.express as px\n",
        "import numpy as np\n",
        "\n",
        "# Generate random data\n",
        "x_values = np.linspace(0, 10, 100)\n",
        "y_values = np.sin(x_values) + np.random.normal(0, 0.1, size=100)\n",
        "\n",
        "# Create a line plot\n",
        "fig = px.line(x=x_values, y=y_values, labels={'x': 'X-axis', 'y': 'Y-axis'},\n",
        "              title='Simple Line Plot')\n",
        "\n",
        "# Show the plot\n",
        "fig.show()\n"
      ]
    },
    {
      "cell_type": "markdown",
      "metadata": {},
      "source": [
        "21 Using Plotly, create an interactive pie chart of randomly generated data, add labels and percentages, set \n",
        "the title as 'Interactive Pie Chart'."
      ]
    },
    {
      "cell_type": "code",
      "execution_count": 23,
      "metadata": {},
      "outputs": [
        {
          "data": {
            "application/vnd.plotly.v1+json": {
              "config": {
                "plotlyServerURL": "https://plot.ly"
              },
              "data": [
                {
                  "hole": 0.4,
                  "labels": [
                    "Category A",
                    "Category B",
                    "Category C",
                    "Category D",
                    "Category E"
                  ],
                  "type": "pie",
                  "values": [
                    8.024691358024691,
                    4.320987654320987,
                    43.20987654320987,
                    1.8518518518518516,
                    42.592592592592595
                  ]
                }
              ],
              "layout": {
                "template": {
                  "data": {
                    "bar": [
                      {
                        "error_x": {
                          "color": "#2a3f5f"
                        },
                        "error_y": {
                          "color": "#2a3f5f"
                        },
                        "marker": {
                          "line": {
                            "color": "#E5ECF6",
                            "width": 0.5
                          },
                          "pattern": {
                            "fillmode": "overlay",
                            "size": 10,
                            "solidity": 0.2
                          }
                        },
                        "type": "bar"
                      }
                    ],
                    "barpolar": [
                      {
                        "marker": {
                          "line": {
                            "color": "#E5ECF6",
                            "width": 0.5
                          },
                          "pattern": {
                            "fillmode": "overlay",
                            "size": 10,
                            "solidity": 0.2
                          }
                        },
                        "type": "barpolar"
                      }
                    ],
                    "carpet": [
                      {
                        "aaxis": {
                          "endlinecolor": "#2a3f5f",
                          "gridcolor": "white",
                          "linecolor": "white",
                          "minorgridcolor": "white",
                          "startlinecolor": "#2a3f5f"
                        },
                        "baxis": {
                          "endlinecolor": "#2a3f5f",
                          "gridcolor": "white",
                          "linecolor": "white",
                          "minorgridcolor": "white",
                          "startlinecolor": "#2a3f5f"
                        },
                        "type": "carpet"
                      }
                    ],
                    "choropleth": [
                      {
                        "colorbar": {
                          "outlinewidth": 0,
                          "ticks": ""
                        },
                        "type": "choropleth"
                      }
                    ],
                    "contour": [
                      {
                        "colorbar": {
                          "outlinewidth": 0,
                          "ticks": ""
                        },
                        "colorscale": [
                          [
                            0,
                            "#0d0887"
                          ],
                          [
                            0.1111111111111111,
                            "#46039f"
                          ],
                          [
                            0.2222222222222222,
                            "#7201a8"
                          ],
                          [
                            0.3333333333333333,
                            "#9c179e"
                          ],
                          [
                            0.4444444444444444,
                            "#bd3786"
                          ],
                          [
                            0.5555555555555556,
                            "#d8576b"
                          ],
                          [
                            0.6666666666666666,
                            "#ed7953"
                          ],
                          [
                            0.7777777777777778,
                            "#fb9f3a"
                          ],
                          [
                            0.8888888888888888,
                            "#fdca26"
                          ],
                          [
                            1,
                            "#f0f921"
                          ]
                        ],
                        "type": "contour"
                      }
                    ],
                    "contourcarpet": [
                      {
                        "colorbar": {
                          "outlinewidth": 0,
                          "ticks": ""
                        },
                        "type": "contourcarpet"
                      }
                    ],
                    "heatmap": [
                      {
                        "colorbar": {
                          "outlinewidth": 0,
                          "ticks": ""
                        },
                        "colorscale": [
                          [
                            0,
                            "#0d0887"
                          ],
                          [
                            0.1111111111111111,
                            "#46039f"
                          ],
                          [
                            0.2222222222222222,
                            "#7201a8"
                          ],
                          [
                            0.3333333333333333,
                            "#9c179e"
                          ],
                          [
                            0.4444444444444444,
                            "#bd3786"
                          ],
                          [
                            0.5555555555555556,
                            "#d8576b"
                          ],
                          [
                            0.6666666666666666,
                            "#ed7953"
                          ],
                          [
                            0.7777777777777778,
                            "#fb9f3a"
                          ],
                          [
                            0.8888888888888888,
                            "#fdca26"
                          ],
                          [
                            1,
                            "#f0f921"
                          ]
                        ],
                        "type": "heatmap"
                      }
                    ],
                    "heatmapgl": [
                      {
                        "colorbar": {
                          "outlinewidth": 0,
                          "ticks": ""
                        },
                        "colorscale": [
                          [
                            0,
                            "#0d0887"
                          ],
                          [
                            0.1111111111111111,
                            "#46039f"
                          ],
                          [
                            0.2222222222222222,
                            "#7201a8"
                          ],
                          [
                            0.3333333333333333,
                            "#9c179e"
                          ],
                          [
                            0.4444444444444444,
                            "#bd3786"
                          ],
                          [
                            0.5555555555555556,
                            "#d8576b"
                          ],
                          [
                            0.6666666666666666,
                            "#ed7953"
                          ],
                          [
                            0.7777777777777778,
                            "#fb9f3a"
                          ],
                          [
                            0.8888888888888888,
                            "#fdca26"
                          ],
                          [
                            1,
                            "#f0f921"
                          ]
                        ],
                        "type": "heatmapgl"
                      }
                    ],
                    "histogram": [
                      {
                        "marker": {
                          "pattern": {
                            "fillmode": "overlay",
                            "size": 10,
                            "solidity": 0.2
                          }
                        },
                        "type": "histogram"
                      }
                    ],
                    "histogram2d": [
                      {
                        "colorbar": {
                          "outlinewidth": 0,
                          "ticks": ""
                        },
                        "colorscale": [
                          [
                            0,
                            "#0d0887"
                          ],
                          [
                            0.1111111111111111,
                            "#46039f"
                          ],
                          [
                            0.2222222222222222,
                            "#7201a8"
                          ],
                          [
                            0.3333333333333333,
                            "#9c179e"
                          ],
                          [
                            0.4444444444444444,
                            "#bd3786"
                          ],
                          [
                            0.5555555555555556,
                            "#d8576b"
                          ],
                          [
                            0.6666666666666666,
                            "#ed7953"
                          ],
                          [
                            0.7777777777777778,
                            "#fb9f3a"
                          ],
                          [
                            0.8888888888888888,
                            "#fdca26"
                          ],
                          [
                            1,
                            "#f0f921"
                          ]
                        ],
                        "type": "histogram2d"
                      }
                    ],
                    "histogram2dcontour": [
                      {
                        "colorbar": {
                          "outlinewidth": 0,
                          "ticks": ""
                        },
                        "colorscale": [
                          [
                            0,
                            "#0d0887"
                          ],
                          [
                            0.1111111111111111,
                            "#46039f"
                          ],
                          [
                            0.2222222222222222,
                            "#7201a8"
                          ],
                          [
                            0.3333333333333333,
                            "#9c179e"
                          ],
                          [
                            0.4444444444444444,
                            "#bd3786"
                          ],
                          [
                            0.5555555555555556,
                            "#d8576b"
                          ],
                          [
                            0.6666666666666666,
                            "#ed7953"
                          ],
                          [
                            0.7777777777777778,
                            "#fb9f3a"
                          ],
                          [
                            0.8888888888888888,
                            "#fdca26"
                          ],
                          [
                            1,
                            "#f0f921"
                          ]
                        ],
                        "type": "histogram2dcontour"
                      }
                    ],
                    "mesh3d": [
                      {
                        "colorbar": {
                          "outlinewidth": 0,
                          "ticks": ""
                        },
                        "type": "mesh3d"
                      }
                    ],
                    "parcoords": [
                      {
                        "line": {
                          "colorbar": {
                            "outlinewidth": 0,
                            "ticks": ""
                          }
                        },
                        "type": "parcoords"
                      }
                    ],
                    "pie": [
                      {
                        "automargin": true,
                        "type": "pie"
                      }
                    ],
                    "scatter": [
                      {
                        "fillpattern": {
                          "fillmode": "overlay",
                          "size": 10,
                          "solidity": 0.2
                        },
                        "type": "scatter"
                      }
                    ],
                    "scatter3d": [
                      {
                        "line": {
                          "colorbar": {
                            "outlinewidth": 0,
                            "ticks": ""
                          }
                        },
                        "marker": {
                          "colorbar": {
                            "outlinewidth": 0,
                            "ticks": ""
                          }
                        },
                        "type": "scatter3d"
                      }
                    ],
                    "scattercarpet": [
                      {
                        "marker": {
                          "colorbar": {
                            "outlinewidth": 0,
                            "ticks": ""
                          }
                        },
                        "type": "scattercarpet"
                      }
                    ],
                    "scattergeo": [
                      {
                        "marker": {
                          "colorbar": {
                            "outlinewidth": 0,
                            "ticks": ""
                          }
                        },
                        "type": "scattergeo"
                      }
                    ],
                    "scattergl": [
                      {
                        "marker": {
                          "colorbar": {
                            "outlinewidth": 0,
                            "ticks": ""
                          }
                        },
                        "type": "scattergl"
                      }
                    ],
                    "scattermapbox": [
                      {
                        "marker": {
                          "colorbar": {
                            "outlinewidth": 0,
                            "ticks": ""
                          }
                        },
                        "type": "scattermapbox"
                      }
                    ],
                    "scatterpolar": [
                      {
                        "marker": {
                          "colorbar": {
                            "outlinewidth": 0,
                            "ticks": ""
                          }
                        },
                        "type": "scatterpolar"
                      }
                    ],
                    "scatterpolargl": [
                      {
                        "marker": {
                          "colorbar": {
                            "outlinewidth": 0,
                            "ticks": ""
                          }
                        },
                        "type": "scatterpolargl"
                      }
                    ],
                    "scatterternary": [
                      {
                        "marker": {
                          "colorbar": {
                            "outlinewidth": 0,
                            "ticks": ""
                          }
                        },
                        "type": "scatterternary"
                      }
                    ],
                    "surface": [
                      {
                        "colorbar": {
                          "outlinewidth": 0,
                          "ticks": ""
                        },
                        "colorscale": [
                          [
                            0,
                            "#0d0887"
                          ],
                          [
                            0.1111111111111111,
                            "#46039f"
                          ],
                          [
                            0.2222222222222222,
                            "#7201a8"
                          ],
                          [
                            0.3333333333333333,
                            "#9c179e"
                          ],
                          [
                            0.4444444444444444,
                            "#bd3786"
                          ],
                          [
                            0.5555555555555556,
                            "#d8576b"
                          ],
                          [
                            0.6666666666666666,
                            "#ed7953"
                          ],
                          [
                            0.7777777777777778,
                            "#fb9f3a"
                          ],
                          [
                            0.8888888888888888,
                            "#fdca26"
                          ],
                          [
                            1,
                            "#f0f921"
                          ]
                        ],
                        "type": "surface"
                      }
                    ],
                    "table": [
                      {
                        "cells": {
                          "fill": {
                            "color": "#EBF0F8"
                          },
                          "line": {
                            "color": "white"
                          }
                        },
                        "header": {
                          "fill": {
                            "color": "#C8D4E3"
                          },
                          "line": {
                            "color": "white"
                          }
                        },
                        "type": "table"
                      }
                    ]
                  },
                  "layout": {
                    "annotationdefaults": {
                      "arrowcolor": "#2a3f5f",
                      "arrowhead": 0,
                      "arrowwidth": 1
                    },
                    "autotypenumbers": "strict",
                    "coloraxis": {
                      "colorbar": {
                        "outlinewidth": 0,
                        "ticks": ""
                      }
                    },
                    "colorscale": {
                      "diverging": [
                        [
                          0,
                          "#8e0152"
                        ],
                        [
                          0.1,
                          "#c51b7d"
                        ],
                        [
                          0.2,
                          "#de77ae"
                        ],
                        [
                          0.3,
                          "#f1b6da"
                        ],
                        [
                          0.4,
                          "#fde0ef"
                        ],
                        [
                          0.5,
                          "#f7f7f7"
                        ],
                        [
                          0.6,
                          "#e6f5d0"
                        ],
                        [
                          0.7,
                          "#b8e186"
                        ],
                        [
                          0.8,
                          "#7fbc41"
                        ],
                        [
                          0.9,
                          "#4d9221"
                        ],
                        [
                          1,
                          "#276419"
                        ]
                      ],
                      "sequential": [
                        [
                          0,
                          "#0d0887"
                        ],
                        [
                          0.1111111111111111,
                          "#46039f"
                        ],
                        [
                          0.2222222222222222,
                          "#7201a8"
                        ],
                        [
                          0.3333333333333333,
                          "#9c179e"
                        ],
                        [
                          0.4444444444444444,
                          "#bd3786"
                        ],
                        [
                          0.5555555555555556,
                          "#d8576b"
                        ],
                        [
                          0.6666666666666666,
                          "#ed7953"
                        ],
                        [
                          0.7777777777777778,
                          "#fb9f3a"
                        ],
                        [
                          0.8888888888888888,
                          "#fdca26"
                        ],
                        [
                          1,
                          "#f0f921"
                        ]
                      ],
                      "sequentialminus": [
                        [
                          0,
                          "#0d0887"
                        ],
                        [
                          0.1111111111111111,
                          "#46039f"
                        ],
                        [
                          0.2222222222222222,
                          "#7201a8"
                        ],
                        [
                          0.3333333333333333,
                          "#9c179e"
                        ],
                        [
                          0.4444444444444444,
                          "#bd3786"
                        ],
                        [
                          0.5555555555555556,
                          "#d8576b"
                        ],
                        [
                          0.6666666666666666,
                          "#ed7953"
                        ],
                        [
                          0.7777777777777778,
                          "#fb9f3a"
                        ],
                        [
                          0.8888888888888888,
                          "#fdca26"
                        ],
                        [
                          1,
                          "#f0f921"
                        ]
                      ]
                    },
                    "colorway": [
                      "#636efa",
                      "#EF553B",
                      "#00cc96",
                      "#ab63fa",
                      "#FFA15A",
                      "#19d3f3",
                      "#FF6692",
                      "#B6E880",
                      "#FF97FF",
                      "#FECB52"
                    ],
                    "font": {
                      "color": "#2a3f5f"
                    },
                    "geo": {
                      "bgcolor": "white",
                      "lakecolor": "white",
                      "landcolor": "#E5ECF6",
                      "showlakes": true,
                      "showland": true,
                      "subunitcolor": "white"
                    },
                    "hoverlabel": {
                      "align": "left"
                    },
                    "hovermode": "closest",
                    "mapbox": {
                      "style": "light"
                    },
                    "paper_bgcolor": "white",
                    "plot_bgcolor": "#E5ECF6",
                    "polar": {
                      "angularaxis": {
                        "gridcolor": "white",
                        "linecolor": "white",
                        "ticks": ""
                      },
                      "bgcolor": "#E5ECF6",
                      "radialaxis": {
                        "gridcolor": "white",
                        "linecolor": "white",
                        "ticks": ""
                      }
                    },
                    "scene": {
                      "xaxis": {
                        "backgroundcolor": "#E5ECF6",
                        "gridcolor": "white",
                        "gridwidth": 2,
                        "linecolor": "white",
                        "showbackground": true,
                        "ticks": "",
                        "zerolinecolor": "white"
                      },
                      "yaxis": {
                        "backgroundcolor": "#E5ECF6",
                        "gridcolor": "white",
                        "gridwidth": 2,
                        "linecolor": "white",
                        "showbackground": true,
                        "ticks": "",
                        "zerolinecolor": "white"
                      },
                      "zaxis": {
                        "backgroundcolor": "#E5ECF6",
                        "gridcolor": "white",
                        "gridwidth": 2,
                        "linecolor": "white",
                        "showbackground": true,
                        "ticks": "",
                        "zerolinecolor": "white"
                      }
                    },
                    "shapedefaults": {
                      "line": {
                        "color": "#2a3f5f"
                      }
                    },
                    "ternary": {
                      "aaxis": {
                        "gridcolor": "white",
                        "linecolor": "white",
                        "ticks": ""
                      },
                      "baxis": {
                        "gridcolor": "white",
                        "linecolor": "white",
                        "ticks": ""
                      },
                      "bgcolor": "#E5ECF6",
                      "caxis": {
                        "gridcolor": "white",
                        "linecolor": "white",
                        "ticks": ""
                      }
                    },
                    "title": {
                      "x": 0.05
                    },
                    "xaxis": {
                      "automargin": true,
                      "gridcolor": "white",
                      "linecolor": "white",
                      "ticks": "",
                      "title": {
                        "standoff": 15
                      },
                      "zerolinecolor": "white",
                      "zerolinewidth": 2
                    },
                    "yaxis": {
                      "automargin": true,
                      "gridcolor": "white",
                      "linecolor": "white",
                      "ticks": "",
                      "title": {
                        "standoff": 15
                      },
                      "zerolinecolor": "white",
                      "zerolinewidth": 2
                    }
                  }
                },
                "title": {
                  "text": "Interactive Pie Chart"
                }
              }
            }
          },
          "metadata": {},
          "output_type": "display_data"
        }
      ],
      "source": [
        "import plotly.graph_objects as go\n",
        "import numpy as np\n",
        "\n",
        "# Generate random data\n",
        "labels = ['Category A', 'Category B', 'Category C', 'Category D', 'Category E']\n",
        "values = np.random.randint(1, 100, size=len(labels))\n",
        "\n",
        "# Calculate percentages\n",
        "total = sum(values)\n",
        "percentages = [(val / total) * 100 for val in values]\n",
        "\n",
        "# Create a pie chart\n",
        "fig = go.Figure(data=[go.Pie(labels=labels, values=percentages, hole=0.4)])\n",
        "\n",
        "# Set title\n",
        "fig.update_layout(title='Interactive Pie Chart')\n",
        "\n",
        "# Show the plot\n",
        "fig.show()\n",
        "\n",
        "\n"
      ]
    },
    {
      "cell_type": "code",
      "execution_count": null,
      "metadata": {},
      "outputs": [],
      "source": []
    }
  ],
  "metadata": {
    "colab": {
      "provenance": []
    },
    "kernelspec": {
      "display_name": "Python 3",
      "name": "python3"
    },
    "language_info": {
      "codemirror_mode": {
        "name": "ipython",
        "version": 3
      },
      "file_extension": ".py",
      "mimetype": "text/x-python",
      "name": "python",
      "nbconvert_exporter": "python",
      "pygments_lexer": "ipython3",
      "version": "3.12.3"
    }
  },
  "nbformat": 4,
  "nbformat_minor": 0
}
