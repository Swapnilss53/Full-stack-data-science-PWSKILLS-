{
  "nbformat": 4,
  "nbformat_minor": 0,
  "metadata": {
    "colab": {
      "provenance": []
    },
    "kernelspec": {
      "name": "python3",
      "display_name": "Python 3"
    },
    "language_info": {
      "name": "python"
    }
  },
  "cells": [
    {
      "cell_type": "markdown",
      "source": [
        "Basics of Flask:"
      ],
      "metadata": {
        "id": "LLj4JgfSFHB8"
      }
    },
    {
      "cell_type": "markdown",
      "source": [
        "1. Hello World\n",
        "\n",
        "\n"
      ],
      "metadata": {
        "id": "Cf60_wKEFLJ6"
      }
    },
    {
      "cell_type": "code",
      "execution_count": null,
      "metadata": {
        "id": "d0JJ5EfzFB6e"
      },
      "outputs": [],
      "source": [
        "from flask import Flask\n",
        "\n",
        "app = Flask(__name__)\n",
        "\n",
        "@app.route('/')\n",
        "def hello():\n",
        "    return 'Hello, World!'\n",
        "\n",
        "if __name__ == '__main__':\n",
        "    app.run(debug=True)\n"
      ]
    },
    {
      "cell_type": "markdown",
      "source": [
        "2. Static HTML and Navigation\n"
      ],
      "metadata": {
        "id": "TQkNl6-rFTe8"
      }
    },
    {
      "cell_type": "code",
      "source": [
        "from flask import Flask, render_template\n",
        "\n",
        "app = Flask(__name__)\n",
        "\n",
        "@app.route('/')\n",
        "def index():\n",
        "    return render_template('index.html')\n",
        "\n",
        "@app.route('/about')\n",
        "def about():\n",
        "    return render_template('about.html')\n",
        "\n",
        "if __name__ == '__main__':\n",
        "    app.run(debug=True)\n"
      ],
      "metadata": {
        "id": "X5wacldyFc9y"
      },
      "execution_count": null,
      "outputs": []
    },
    {
      "cell_type": "markdown",
      "source": [
        "3. URL Parameters and Dynamic Content\n"
      ],
      "metadata": {
        "id": "hf-ebiKoFe_o"
      }
    },
    {
      "cell_type": "code",
      "source": [
        "@app.route('/user/<username>')\n",
        "def show_user_profile(username):\n",
        "    return f'User {username}'\n"
      ],
      "metadata": {
        "id": "hqHz2huiFg3g"
      },
      "execution_count": null,
      "outputs": []
    },
    {
      "cell_type": "markdown",
      "source": [
        "4. Form Handling\n"
      ],
      "metadata": {
        "id": "nN3wt4TnFivL"
      }
    },
    {
      "cell_type": "code",
      "source": [
        "from flask import Flask, render_template, request\n",
        "\n",
        "@app.route('/login', methods=['GET', 'POST'])\n",
        "def login():\n",
        "    if request.method == 'POST':\n",
        "        username = request.form['username']\n",
        "        return f'Logged in as {username}'\n",
        "    return render_template('login.html')\n"
      ],
      "metadata": {
        "id": "2IVOuOnIFkt0"
      },
      "execution_count": null,
      "outputs": []
    },
    {
      "cell_type": "markdown",
      "source": [
        "5. User Sessions\n"
      ],
      "metadata": {
        "id": "BSPiR43rFmvd"
      }
    },
    {
      "cell_type": "code",
      "source": [
        "from flask import Flask, session, redirect, url_for, request\n",
        "\n",
        "app = Flask(__name__)\n",
        "app.secret_key = 'supersecretkey'\n",
        "\n",
        "@app.route('/login', methods=['GET', 'POST'])\n",
        "def login():\n",
        "    if request.method == 'POST':\n",
        "        session['username'] = request.form['username']\n",
        "        return redirect(url_for('index'))\n",
        "    return render_template('login.html')\n",
        "\n",
        "@app.route('/')\n",
        "def index():\n",
        "    if 'username' in session:\n",
        "        return f'Logged in as {session[\"username\"]}'\n",
        "    return 'You are not logged in'\n",
        "\n",
        "if __name__ == '__main__':\n",
        "    app.run(debug=True)\n"
      ],
      "metadata": {
        "id": "VMXfVeSzFqFA"
      },
      "execution_count": null,
      "outputs": []
    },
    {
      "cell_type": "markdown",
      "source": [
        "Intermediate Flask Topics:"
      ],
      "metadata": {
        "id": "DklZFGMuFr-A"
      }
    },
    {
      "cell_type": "markdown",
      "source": [
        "6. File Upload and Display\n"
      ],
      "metadata": {
        "id": "5KGWB6wrFuvK"
      }
    },
    {
      "cell_type": "code",
      "source": [
        "from flask import Flask, request, render_template\n",
        "\n",
        "app = Flask(__name__)\n",
        "\n",
        "@app.route('/upload')\n",
        "def upload_file():\n",
        "    return render_template('upload.html')\n",
        "\n",
        "@app.route('/uploader', methods=['GET', 'POST'])\n",
        "def upload_file_handler():\n",
        "    if request.method == 'POST':\n",
        "        f = request.files['file']\n",
        "        f.save(f'uploads/{f.filename}')  # Save the file to a specific directory\n",
        "        return 'File uploaded successfully'\n",
        "\n",
        "if __name__ == '__main__':\n",
        "    app.run(debug=True)\n"
      ],
      "metadata": {
        "id": "Kibc_rVTGDYs"
      },
      "execution_count": null,
      "outputs": []
    },
    {
      "cell_type": "markdown",
      "source": [
        "7. SQLite Integration for CRUD Operations\n"
      ],
      "metadata": {
        "id": "ninauRNZGFPf"
      }
    },
    {
      "cell_type": "code",
      "source": [
        "import sqlite3\n",
        "\n",
        "# Create a connection to SQLite database\n",
        "conn = sqlite3.connect('database.db')\n",
        "c = conn.cursor()\n",
        "\n",
        "# Execute SQL commands for CRUD operations\n",
        "c.execute('CREATE TABLE items (id INTEGER PRIMARY KEY, name TEXT, description TEXT)')\n",
        "\n",
        "# Add data\n",
        "c.execute('INSERT INTO items (name, description) VALUES (?, ?)', ('Item 1', 'Description 1'))\n",
        "\n",
        "# Fetch data\n",
        "c.execute('SELECT * FROM items')\n",
        "data = c.fetchall()\n"
      ],
      "metadata": {
        "id": "x8JLJslGGG4o"
      },
      "execution_count": null,
      "outputs": []
    },
    {
      "cell_type": "markdown",
      "source": [
        "8. User Authentication and Registration with Flask-Login\n"
      ],
      "metadata": {
        "id": "46MAABiwGLMA"
      }
    },
    {
      "cell_type": "code",
      "source": [
        "from flask import Flask\n",
        "from flask_login import LoginManager, UserMixin\n",
        "\n",
        "app = Flask(__name__)\n",
        "login_manager = LoginManager()\n",
        "login_manager.init_app(app)\n",
        "\n",
        "class User(UserMixin):\n",
        "    pass\n",
        "\n",
        "@login_manager.user_loader\n",
        "def user_loader(user_id):\n",
        "    return User.get(user_id)\n",
        "\n",
        "@app.route('/login')\n",
        "def login():\n",
        "    user = User()\n",
        "    login_user(user)\n",
        "    return 'Logged in'\n",
        "\n",
        "if __name__ == '__main__':\n",
        "    app.run(debug=True)\n"
      ],
      "metadata": {
        "id": "4fgY0ikbGLew"
      },
      "execution_count": null,
      "outputs": []
    },
    {
      "cell_type": "markdown",
      "source": [
        "9. RESTful API for CRUD Operations\n"
      ],
      "metadata": {
        "id": "jrw-_cIFGPDY"
      }
    },
    {
      "cell_type": "code",
      "source": [
        "from flask import Flask, jsonify\n",
        "\n",
        "app = Flask(__name__)\n",
        "\n",
        "books = [\n",
        "    {'id': 1, 'title': 'Book 1'},\n",
        "    {'id': 2, 'title': 'Book 2'}\n",
        "]\n",
        "\n",
        "@app.route('/books', methods=['GET'])\n",
        "def get_books():\n",
        "    return jsonify({'books': books})\n",
        "\n",
        "# Implement other CRUD operations with appropriate HTTP methods and routes\n",
        "\n",
        "if __name__ == '__main__':\n",
        "    app.run(debug=True)\n"
      ],
      "metadata": {
        "id": "Y07-WPdxGREU"
      },
      "execution_count": null,
      "outputs": []
    },
    {
      "cell_type": "markdown",
      "source": [
        "10. Error Handling for 404 and 500 Errors\n"
      ],
      "metadata": {
        "id": "896RZnV8GSVF"
      }
    },
    {
      "cell_type": "code",
      "source": [
        "@app.errorhandler(404)\n",
        "def not_found(error):\n",
        "    return '404 Error - Not Found', 404\n",
        "\n",
        "@app.errorhandler(500)\n",
        "def internal_error(error):\n",
        "    return '500 Error - Internal Server Error', 500\n"
      ],
      "metadata": {
        "id": "Kdbiupg4GYUg"
      },
      "execution_count": null,
      "outputs": []
    },
    {
      "cell_type": "markdown",
      "source": [
        "Real-time Development:"
      ],
      "metadata": {
        "id": "yF_eIpzgGZ0Y"
      }
    },
    {
      "cell_type": "markdown",
      "source": [
        "11. Real-Time Chat Application with Flask-SocketIO\n"
      ],
      "metadata": {
        "id": "8X1p3JX2GZ5x"
      }
    },
    {
      "cell_type": "code",
      "source": [
        "from flask import Flask, render_template\n",
        "from flask_socketio import SocketIO\n",
        "\n",
        "app = Flask(__name__)\n",
        "socketio = SocketIO(app)\n",
        "\n",
        "@app.route('/')\n",
        "def index():\n",
        "    return render_template('index.html')\n",
        "\n",
        "@socketio.on('message')\n",
        "def handle_message(message):\n",
        "    socketio.emit('message', message)\n",
        "\n",
        "if __name__ == '__main__':\n",
        "    socketio.run(app, debug=True)\n"
      ],
      "metadata": {
        "id": "zgXXqW6SG0SW"
      },
      "execution_count": null,
      "outputs": []
    },
    {
      "cell_type": "markdown",
      "source": [
        "12. Real-Time Updates Using WebSocket Connections\n"
      ],
      "metadata": {
        "id": "WhObtzipG2CZ"
      }
    },
    {
      "cell_type": "code",
      "source": [
        "from flask import Flask, render_template\n",
        "from flask_socketio import SocketIO\n",
        "\n",
        "app = Flask(__name__)\n",
        "socketio = SocketIO(app)\n",
        "\n",
        "@app.route('/')\n",
        "def index():\n",
        "    return render_template('index.html')\n",
        "\n",
        "@socketio.on('update_data')\n",
        "def handle_data_update(data):\n",
        "    socketio.emit('data_update', data)\n",
        "\n",
        "if __name__ == '__main__':\n",
        "    socketio.run(app, debug=True)\n"
      ],
      "metadata": {
        "id": "-Q9sEA1RG3yz"
      },
      "execution_count": null,
      "outputs": []
    },
    {
      "cell_type": "markdown",
      "source": [
        "13. Notifications Using WebSockets\n"
      ],
      "metadata": {
        "id": "-s0vpz2wG5Wq"
      }
    },
    {
      "cell_type": "code",
      "source": [
        "from flask import Flask, render_template\n",
        "from flask_socketio import SocketIO\n",
        "\n",
        "app = Flask(__name__)\n",
        "socketio = SocketIO(app)\n",
        "\n",
        "@app.route('/')\n",
        "def index():\n",
        "    return render_template('index.html')\n",
        "\n",
        "@socketio.on('notify')\n",
        "def handle_notification(notification):\n",
        "    socketio.emit('new_notification', notification)\n",
        "\n",
        "if __name__ == '__main__':\n",
        "    socketio.run(app, debug=True)\n"
      ],
      "metadata": {
        "id": "yLW3yuNvG5Eb"
      },
      "execution_count": null,
      "outputs": []
    }
  ]
}